{
 "cells": [
  {
   "cell_type": "markdown",
   "metadata": {},
   "source": [
    "# Cloud Setup\n",
    "\n",
    "I do not recommend this option at all.\n",
    "\n",
    "This is an option jsut for you to play before the course starts\n",
    "\n",
    "But you should have a python environment workign on your machine"
   ]
  },
  {
   "cell_type": "markdown",
   "metadata": {},
   "source": [
    "## Launch Environments\n",
    "\n",
    "\n",
    "\n",
    "These environments provide a Jupyter interface which displays in your browser, but the code is hosted\n",
    "and run on the cloud.\n",
    "\n",
    "This allows you to interact with this lecture material without requiring you to install Python or\n",
    "any other required software on your own computer.\n",
    "\n",
    "The `Launch Notebook` button on the right top of the page  opens a new tab in your browser where a Jupyter notebook version of the\n",
    "current lecture page will be opened with the selected cloud service.\n",
    "\n",
    "\n",
    "Making a selection will open a new tab in your browser where a Jupyter notebook version of the\n",
    "current lecture page will be opened with the selected cloud service.\n",
    "\n",
    "We discuss each of the options below."
   ]
  },
  {
   "cell_type": "markdown",
   "metadata": {},
   "source": [
    "### Pacific Institute for Mathematical Sciences: syzygy\n",
    "\n",
    "This tends to work way better than colab and I think it works even from China, but you do need a google account\n",
    "\n",
    "This cloud service is provided by the\n",
    "[Pacific Institute for Mathematical Sciences (PIMS)](https://www.pims.math.ca) at UBC.\n",
    "\n",
    "A major benefit of this environment is that we have worked with PIMS to install all of the software\n",
    "that shows up in our lectures.\n",
    "\n",
    "Additionally, they are serving an unaltered version of Jupyter so it will be easy to find help\n",
    "online, and it will feel very similar to a local installation if you have one configured.\n",
    "\n",
    "Finally, it is the only service that has persistent storage.\n",
    "**Note:**  PIMS is providing the hub “as is”, and may be turned off at any time, so backup your notebooks.  Storage used by accounts with more than 30 days of inactivity may be recycled.\n",
    "\n",
    "This is the service that we typically recommend."
   ]
  },
  {
   "cell_type": "markdown",
   "metadata": {},
   "source": [
    "#### Launching on pims.syzygy.ca\n",
    "\n",
    "As pims.syzygy.ca is the default hub, you will not need to change your configuration.  However,\n",
    "if you chose a different hub, select the settings icon on the launchbar to select the PIMS hub.\n",
    "\n",
    "**1.** Click the `Launch Notebook` button.\n",
    "\n",
    "**2.** After you have done this, you will be brought to a screen that looks like the following\n",
    "\n",
    "<img src=\"https://datascience.quantecon.org/assets/_static/introduction_files/syzygy_login.png\" style=\"\">\n",
    "\n",
    "  \n",
    "Once you reach this page, you should click the red home button and sign in with your Google account.\n",
    "\n",
    "The server will create an account for you associated with that Google account and you will have\n",
    "access to all files that you have worked on anytime you log in with that Google account.\n",
    "\n",
    "**3.** After you sign in with your Google account, then you will see something similar to the\n",
    "following picture\n",
    "\n",
    "<img src=\"https://datascience.quantecon.org/assets/_static/introduction_files/syzygy_jupyter.png\" style=\"\">"
   ]
  },
  {
   "cell_type": "markdown",
   "metadata": {},
   "source": [
    "#### File Management on syzygy\n",
    "\n",
    "By default, syzygy will open the notebook that you clicked “Launch” from, but it downloads the other\n",
    "notebooks as well.\n",
    "\n",
    "You can navigate to these other notebooks in the left bar (the JupyterLab file explorer).\n",
    "\n",
    "You can also create new notebooks and text files.\n",
    "\n",
    "We recommend spending some time playing with the environment and working through some of the Help\n",
    "menu at the top.\n",
    "\n",
    "If you have made changes to one of the notebooks and decide that you want to reset them (and put\n",
    "the notebook back to the original state), then follow these steps:\n",
    "\n",
    "- Delete the notebook and close the browser tab with syzygy instance.  \n",
    "- Click `Launch Notebook` again from the website.  \n",
    "\n",
    "\n",
    "Once you’ve done this, syzygy will restore the notebook back to what the original lecture material.\n",
    "\n",
    "As a reminder, while the PIMS syzygy will maintain persistent files between sessions, you should backup\n",
    "your files as the service is provided “as is”, and inactive accounts may have their storage recycled."
   ]
  },
  {
   "cell_type": "markdown",
   "metadata": {},
   "source": [
    "### Google Colab\n",
    "\n",
    "[Google Colab](https://research.google.com/colaboratory/faq.html) is a cloud service hosted by\n",
    "Google.\n",
    "\n",
    "With this environment, you can potentially use GPUs and other specialized\n",
    "computational platforms.\n",
    "\n",
    "This won’t make a difference at first, but having access to a\n",
    "GPU or TPU could improve performance.\n",
    "\n",
    "We recommend starting with the other cloud options because the environment provided isn’t\n",
    "quite the same as what you would get on your computer because Google has made their own modifications\n",
    "to underlying Jupyter software."
   ]
  },
  {
   "cell_type": "markdown",
   "metadata": {},
   "source": [
    "#### Launching Colab\n",
    "\n",
    "To launch course material through Google Colab:\n",
    "\n",
    "**1.** Choose the settings icon on the launch bar to change the backend hub\n",
    "\n",
    "You will need to select choose `google colab` from the public options.\n",
    "\n",
    "**2.** Click on the `Launch Notebook` button.\n",
    "\n",
    "**3.** You will be asked to sign in with your Google account and you will see something similar to\n",
    "the following picture.\n",
    "\n",
    "<img src=\"https://datascience.quantecon.org/assets/_static/introduction_files/colab_jupyter.png\" style=\"\">\n",
    "\n",
    "  \n",
    "**4.** Once you have launched a Colab notebook, you will need to make sure that any software missing\n",
    "from Colab gets installed — this step isn’t required for all notebooks.\n",
    "\n",
    "For lectures where this step is required, you have to install the package that is missing. \n",
    "\n",
    "To run this script, you will need to uncomment the code at the top of the notebook and execute the\n",
    "cell — when we say “uncomment”, all we mean is to remove the `#` that precedes the `!` in the\n",
    "code that follows.\n",
    "\n",
    "For example, to install wrds you would write"
   ]
  },
  {
   "cell_type": "code",
   "execution_count": 1,
   "metadata": {
    "hide-output": false
   },
   "outputs": [],
   "source": [
    "# Uncomment following line to install on colab\n",
    "#! pip install wrds"
   ]
  },
  {
   "cell_type": "markdown",
   "metadata": {},
   "source": [
    "**5.** To navigate sections within a Colab notebook, click on the little arrow at the top left corner\n",
    "of the page,\n",
    "\n",
    "<img src=\"https://datascience.quantecon.org/assets/_static/introduction_files/colab_table_of_contents_arrow.png\" style=\"\">\n",
    "\n",
    "  \n",
    "Then, “table of contents” will pop up. You can click on sections or subsections for different parts\n",
    "of the notebook.\n",
    "\n",
    "<img src=\"https://datascience.quantecon.org/assets/_static/introduction_files/colab_table_of_contents.png\" style=\"\">"
   ]
  },
  {
   "cell_type": "markdown",
   "metadata": {},
   "source": [
    "#### File Management on Colab\n",
    "\n",
    "By default, Colab will erase any work that you have done after you have exited a notebook.\n",
    "\n",
    "If you would like to store your work, you can save it onto your Google Drive by clicking the\n",
    "`Copy to Drive` button.\n",
    "\n",
    "You can create a new notebook by clicking `File` on the menubar and selecting\n",
    "`New Python 3 notebook`."
   ]
  }
 ],
 "metadata": {
  "date": 1595352471.394146,
  "download_nb": false,
  "filename": "cloud_setup.rst",
  "filename_with_path": "introduction/cloud_setup",
  "kernelspec": {
   "display_name": "Python 3",
   "language": "python",
   "name": "python3"
  },
  "language_info": {
   "codemirror_mode": {
    "name": "ipython",
    "version": 3
   },
   "file_extension": ".py",
   "mimetype": "text/x-python",
   "name": "python",
   "nbconvert_exporter": "python",
   "pygments_lexer": "ipython3",
   "version": "3.8.5"
  },
  "title": "Cloud Setup"
 },
 "nbformat": 4,
 "nbformat_minor": 4
}
