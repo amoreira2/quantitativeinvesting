{
 "cells": [
  {
   "cell_type": "markdown",
   "metadata": {
    "colab_type": "text",
    "id": "x5bPnG2RQ1tw"
   },
   "source": [
    "# The Mean-Variance Frontier\n",
    "\n",
    "* Note the upper envelope that defines the \"investment frontier\", i.e., what is achiavable in terms of risk and returns\n",
    "\n",
    "* If you are in this envelope, you know that in order to get less risk you will have to get less return\n",
    "\n",
    "* There is no portfolio with a higher average return and the same volatility\n",
    "\n",
    "* And no portfolio with the same expected return and lower volatility\n",
    "\n",
    "* In volatility-expected return space all these portfolio are in a straight line, \n",
    "\n",
    "* Meaning that they achieve exactly the same ratio or expected excess return per unit of volatility since a stragith line has constant slope\n",
    "\n",
    "* So all these portfolios have exactly the same Sharpe ratio ($\\frac{E[R_p-R_f]}{std(R_p-R_f)}$), \n",
    "\n",
    "* This is also the maximum SR among all possible portfolios of the basis assets \n",
    "\n",
    "  *  (in this case only two: US and world portfolio)\n",
    "\n",
    "\n",
    "> What do these \"efficient\" portfolios look like?\n",
    "\n"
   ]
  },
  {
   "cell_type": "code",
   "execution_count": 68,
   "metadata": {
    "colab": {},
    "colab_type": "code",
    "id": "Tq96XxisQ1ty"
   },
   "outputs": [],
   "source": [
    "import pandas as pd\n",
    "import numpy as np\n",
    "import matplotlib.pyplot as plt\n",
    "%matplotlib inline\n",
    "#GlobalFinMonthly\n",
    "url=\"https://www.dropbox.com/s/3k35mt3t57ygff2/GlobalFinMonthly.csv?dl=1\"\n",
    "# url=\"C:/Users/Alan Moreira/Dropbox/Public/Fin418/Data/GlobalFinMonthly.csv\"\n",
    "Data = pd.read_csv(url,na_values=-99)\n",
    "# tell python Date is date:\n",
    "Data['Date']=pd.to_datetime(Data['Date'])\n",
    "# set an an index\n",
    "Data=Data.set_index(['Date'])\n",
    "df=Data[['RF','MKT']].copy()"
   ]
  },
  {
   "cell_type": "markdown",
   "metadata": {
    "colab_type": "text",
    "id": "2mv1CCcJQ1ux"
   },
   "source": [
    "## Mean-variance Frontier\n",
    "\n",
    "* These portfolios all can be thought as minimizing variance/volatility for a given desired expected return\n",
    "\n",
    "* or maximizing expected returns for a given dislike of variance \n",
    "\n",
    "* Formally they solve the following minimization problem\n",
    "\n",
    "$$\n",
    "\\begin{aligned}\n",
    "maximize_{W,w_f} rf+ (1-w_f)E[W'R^e]- \\gamma Var((1-w_f)W'R^e+r_f)\\\\\n",
    "maximize_{W,w_f} rf+ (1-w_f)W'E[R^e]- \\gamma (1-w_f)^2W'Var(R^e)W\\\\\n",
    "\\end{aligned}\n",
    "$$\n",
    "\n",
    "\n",
    "* If you understand calculus the answer is immediate. \n",
    "\n",
    "* All you need is to take the derivative of the expression with respect to the risky portfolio weights $W$ :\n",
    "\n",
    "\n",
    "$$(1-w_f)E[R^e]- 2\\gamma(1-w_f)^2 Var(R^e)W$$\n",
    "\n",
    "* and impose the \"first order condition\":\n",
    "$$\n",
    "\\begin{aligned}\n",
    "(1-w_f)E[R^e]- 2\\gamma(1-w_f)^2 Var(R^e)W^*=0\n",
    "\\end{aligned}\n",
    "$$\n",
    "\n",
    "* which simply means that if $W^*$ is really the weight that minimizes the expression, if you move it a little bit in any direction, the value of the expression shouldn't move much\n",
    "\n",
    "* In fact, for a tiny move in either direction, the benefit should be zero either way\n",
    "\n",
    "* Here is the intuition:\n",
    "\n",
    "  * Lets consider that we want to find the x that maximizes: $4x-x^2$  "
   ]
  },
  {
   "cell_type": "code",
   "execution_count": null,
   "metadata": {
    "colab": {
     "base_uri": "https://localhost:8080/",
     "height": 282
    },
    "colab_type": "code",
    "executionInfo": {
     "elapsed": 662,
     "status": "ok",
     "timestamp": 1576514492189,
     "user": {
      "displayName": "yuchi yao",
      "photoUrl": "",
      "userId": "00457884373990713813"
     },
     "user_tz": 300
    },
    "id": "gX83GU4PQ1ux",
    "outputId": "8b3301ac-1133-43e8-8a55-ddf7cbfc2bc9"
   },
   "outputs": [],
   "source": [
    "x=np.arange(0,4,0.1)\n",
    "plt.scatter(x,4*x-x**2)"
   ]
  },
  {
   "cell_type": "markdown",
   "metadata": {
    "colab_type": "text",
    "id": "vGGnPjY0Q1uz"
   },
   "source": [
    "* This is maximized at 2\n",
    "\n",
    "* The FOC for this case is simply\n",
    "\n",
    "$$4-2x^*=0$$\n",
    "\n",
    "* Which means $x^*=2$\n",
    "\n",
    "* You see in the plot that pertubating x a little bit has not effect on the value\n",
    "\n",
    "* close to the optimal, the expression is flat.\n",
    "\n",
    "* This is a general result "
   ]
  },
  {
   "cell_type": "markdown",
   "metadata": {
    "colab_type": "text",
    "id": "rwSgMEFHQ1u0"
   },
   "source": [
    "## The Tangecy  portfolio\n",
    "\n",
    "\n",
    "\n",
    "* Rewriting our first order condition we have\n",
    "\n",
    "\n",
    "###  $\n",
    "\\begin{align}\n",
    "2\\gamma(1-w_f)^2 Var(R^e)W^* &=(1-w_f)E[R^e]\\\\\n",
    "(2\\gamma (1-w_f)^2Var(R^e))^{-1}2\\gamma(1-w_f)^2 Var(R^e)W^* &=(2\\gamma (1-w_f)^2Var(R^e))^{-1}(1-w_f)E[R^e]\\\\\n",
    "W^* &=\\frac{1}{2\\gamma(1-w_f)}(Var(R^e))^{-1}E[R^e]\n",
    "\\end{align}$\n",
    "\n",
    "\n",
    "* Does your distaste for risk $\\gamma$ impact your portfolio composition?\n",
    "\n",
    "* Does it impact the relative weights in the risky assets?\n",
    "\n",
    "* Does your choice of how much to invest in the risk-free asset $w_f$ impacts the composition of your risky portfolio?\n",
    "\n",
    "\n",
    "* Note that $W^*$ is the optimal position in risky assets and therefore has the same dimension as the number of assets you are considering. \n",
    "\n",
    "* In our simple case 2 assets\n",
    "\n",
    "* Note that $\\frac{1}{2\\gamma(1-w_f)}$ is a scalar, which means that this is a number not a vector\n",
    "\n"
   ]
  },
  {
   "cell_type": "markdown",
   "metadata": {
    "colab_type": "text",
    "id": "eDFJiQNu4bJT"
   },
   "source": [
    "### Aside: Matrix inversion intuition\n",
    "\n",
    "* Note that $(2)^{-1}=1/2=0.5$ (naturally!), $(Var(R^e))^{-1}$ is kind of like this, \n",
    "\n",
    "* but more complicated because $Var(R^e)$ is a N by N matrix and we can't simply divide over\n",
    "\n",
    "* The definition of the inverse function is $f(x)=x^{-1}=y$ where $y*x=1$\n",
    "\n",
    "* for matrixis it is the same: $(Var(R^e))^{-1}Var(R^e)=I$, but now instead of 1, we have an indentity matrix, which is a matrix with 1's in the diagonal and zero everywhere else\n",
    "\n",
    "* For example, lets say we want to inverse a 2 by 2 matrix:\n",
    "\n",
    "$$\\left[\\begin{array}{cc}3 & 7\\\\0 &9\\end{array}\\right]^{-1}=\\left[\\begin{array}{cc}a & b\\\\c &d\\end{array}\\right]$$\n",
    "\n",
    "\n",
    "* We would simply solve\n",
    "\n",
    "\n",
    "$$\\left[\\begin{array}{cc}3 & 7\\\\0 &9\\end{array}\\right]\\left[\\begin{array}{cc}a & b\\\\c &d\\end{array}\\right]=I=\\left[\\begin{array}{cc}1 & 0\\\\0 &1\\end{array}\\right]$$\n",
    "\n",
    "* Which means solving this system of four equations below\n",
    "$$\n",
    "\\begin{aligned}\n",
    "3*a+7*c=1\\\\\n",
    "3*b+7*d=0\\\\\n",
    "0*a+9*c=0\\\\\n",
    "0*b+9*d=1\\\\\n",
    "\\end{aligned}$$\n",
    "\n",
    "* which in this case has an easy solution [a,b,c,d]=[1/3,-7/27,0,1/9]\n",
    "\n",
    "* But we should be thankful for being born after the 70's, when people had to do these inversions by hand--for very large matrixes\n",
    "\n",
    "* Now we can simply us the linear algebra library build in numpy  we discussed in Notebook 1 and invert the matrix:"
   ]
  },
  {
   "cell_type": "code",
   "execution_count": null,
   "metadata": {},
   "outputs": [],
   "source": [
    "a=np.array([[3,7],[0,9]])\n",
    "np.linalg.inv(a) @ a"
   ]
  },
  {
   "cell_type": "code",
   "execution_count": null,
   "metadata": {},
   "outputs": [],
   "source": [
    "a"
   ]
  },
  {
   "cell_type": "code",
   "execution_count": null,
   "metadata": {},
   "outputs": [],
   "source": [
    "a.T"
   ]
  },
  {
   "cell_type": "code",
   "execution_count": null,
   "metadata": {
    "colab": {
     "base_uri": "https://localhost:8080/",
     "height": 51
    },
    "colab_type": "code",
    "executionInfo": {
     "elapsed": 300,
     "status": "ok",
     "timestamp": 1576516473713,
     "user": {
      "displayName": "yuchi yao",
      "photoUrl": "",
      "userId": "00457884373990713813"
     },
     "user_tz": 300
    },
    "id": "g30KiEbDQ1u0",
    "outputId": "e1607085-aa00-44dd-fd47-4c0581d5fed7"
   },
   "outputs": [],
   "source": [
    "np.linalg.inv(Re.cov()) "
   ]
  },
  {
   "cell_type": "code",
   "execution_count": null,
   "metadata": {},
   "outputs": [],
   "source": [
    "np.linalg.inv(a) @ a"
   ]
  },
  {
   "cell_type": "markdown",
   "metadata": {
    "colab_type": "text",
    "id": "CV3kqj0wQ1u2"
   },
   "source": [
    "And our optimal weights must be proportional to "
   ]
  },
  {
   "cell_type": "code",
   "execution_count": null,
   "metadata": {
    "colab": {
     "base_uri": "https://localhost:8080/",
     "height": 34
    },
    "colab_type": "code",
    "executionInfo": {
     "elapsed": 321,
     "status": "ok",
     "timestamp": 1576516489440,
     "user": {
      "displayName": "yuchi yao",
      "photoUrl": "",
      "userId": "00457884373990713813"
     },
     "user_tz": 300
    },
    "id": "aSD1S4pCQ1u2",
    "outputId": "29f833bf-e962-4445-9afb-dd71e6eb14fe"
   },
   "outputs": [],
   "source": [
    "Wstar=np.linalg.inv(Re.cov()) @ Re.mean()\n",
    "Wstar"
   ]
  },
  {
   "cell_type": "code",
   "execution_count": null,
   "metadata": {},
   "outputs": [],
   "source": [
    "Re.cov()"
   ]
  },
  {
   "cell_type": "code",
   "execution_count": null,
   "metadata": {},
   "outputs": [],
   "source": [
    "Re.var()"
   ]
  },
  {
   "cell_type": "markdown",
   "metadata": {
    "colab_type": "text",
    "id": "543-4qWdQ1u4"
   },
   "source": [
    "* But these weights don't add up to one?\n",
    "* Why does this still make sense? Why these weights define a portfolio?\n",
    "\n",
    "* Cacluating weights below for a fully invested portfolio"
   ]
  },
  {
   "cell_type": "code",
   "execution_count": null,
   "metadata": {
    "colab": {},
    "colab_type": "code",
    "id": "t_LJg5zGQ1u4",
    "outputId": "819fb706-cac9-48f6-8e59-c34fe264d42e"
   },
   "outputs": [],
   "source": [
    "\n",
    "Wstar/np.sum(Wstar)"
   ]
  },
  {
   "cell_type": "markdown",
   "metadata": {
    "colab_type": "text",
    "id": "QiwwHWncQ1u6"
   },
   "source": [
    "### Two-fund separation\n",
    "\n",
    "* Take a moment to appreciate this.\n",
    "\n",
    "* How you distribute your wealth across different risky assets DOES NOT depend on your preferences for risk!\n",
    "\n",
    "* It DOES NOT depend on how much you are investing in the risk-free rate\n",
    "\n",
    "* We can go back and now solve to the position in the risky-free asset and the risk portfolio\n",
    "\n",
    "$$\n",
    "\\begin{aligned}\n",
    "maximize_{w_f} rf+ (1-w_f)E[R^*]- (1-w_f)^2\\gamma Var(R^*)\\\\\n",
    "\\end{aligned}\n",
    "$$\n",
    "\n",
    "* Where $R^*=(W^*)'R^e$ is the returns on the optimal risk portfolio (the TANGENCY portfolio)\n",
    "\n",
    "* The First order condition for $w_f$ is simply\n",
    "\n",
    "\n",
    "$$\n",
    "\\begin{aligned}\n",
    "-E[R^*]+ 2(1-w_f)\\gamma Var(R^*)=0\\\\\n",
    " (1-w_f)=\\frac{1}{2\\gamma}\\frac{E[R^*]}{Var(R^*)}\n",
    "\\end{aligned}\n",
    "$$\n",
    "\n",
    "* Note that now we can divide over the variance term, becasue it is the variance of one asset, our portfolio, which is just a scalar\n",
    "\n",
    "* Recall that $1-w_f$ is the position of the optimal risky portfolio (the TANGENCY portfolio)\n",
    "\n",
    "* So this formula has a lot of intuition:\n",
    "\n",
    "  * Your position on the risky portfolio depends:\n",
    "    * on your distaste for risk $(2\\gamma)$ \n",
    "    * The risk-return trade-off on your  risky portfolio\n",
    "    * Recall that the optimal risky portfolio is the portfolio with best risk-return trade-off !\n",
    "    \n",
    "* You can also rewrite the solution in terms of your choice of your overall portfolio volatility, \n",
    "\n",
    "* which is $(1-w_f)std(R^*)$\n",
    "  \n",
    "  $$ (1-w_f)std(R^*)=\\frac{1}{2\\gamma}\\frac{E[R^*]}{std(R^*)}$$\n",
    "  \n",
    "* So your position on the risky asset depends on the Sharpe ratio of your risky portfolio\n",
    "  \n",
    "* Note that we can simply define the tangency portfolio as : \n",
    "\n",
    "$$W^*=(Var(R^e))^{-1}E[R^e]$$\n",
    "\n",
    "* Because any constant term will simply change the position in the risky-free asset\n",
    "\n",
    "* For example, since any constant multiplying $W^*$ does not change it's sharpe ratio (can you show that?), \n",
    "\n",
    "* then from the equation above it is immediate that a more volatile $R^*$ would simply imply a higher position in the risk-free asset, keeping the total portfolio volatility constant. "
   ]
  },
  {
   "cell_type": "markdown",
   "metadata": {
    "colab_type": "text",
    "id": "gXTv2zAjQ1u6"
   },
   "source": [
    "### The tangency portfolio and the cross-sectional of expected returns\n",
    "\n",
    "\n",
    "* The optimal condition for our tangency portfolio:\n",
    "\n",
    "$$ Var(R^e)W^*=cte \\times E[R^e]$$\n",
    "\n",
    "* This condition above defines the tangency portfolio\n",
    "\n",
    "* We can rewirte the left hand side as\n",
    "\n",
    "$$Var(R^e)W^*=Cov(R^e,R^e)W^*=Cov(R^e,(W^*)'R^e)=Cov(R^e,R^*)$$\n",
    "\n",
    "* The left-hand side in the covariance vector of all the assets with the tangency portfolio\n",
    "\n",
    "* This means that the expected return of an asset must be proportional to the covariance between the return of the asset and the return of the tangency portfolio\n",
    "\n",
    "$$ E[R^e]=cte \\times Cov(R^e,R^*) $$\n",
    "\n",
    "\n",
    "* This holds for all assets in your investment opportunity set (i.e. the assets included in the minimization problem that the tangency portfolio solves)\n",
    "\n",
    "\n",
    "* This means that for any assets $j$ and $i$ we have \n",
    "\n",
    "\n",
    "$$\\frac{E[R^e_i]}{Cov(R^e_i,R^*)}= \\frac{E[R^e_j]}{Cov(R^e_j,R^*)} $$ \n",
    "\n",
    "\n",
    "* All assets have the same expected return per-unit of covariance with the tangency portoflio\n",
    "\n",
    "* We can also apply this to the tangency portfolio itself\n",
    "\n",
    "\n",
    "$$ E[R^*]=cte \\times Cov(R^*,R^*) $$\n",
    "\n",
    "\n",
    "* Which means that $cte=\\frac{E[R^*]}{Var(R^*)}$\n",
    "\n",
    "\n",
    "* Plugging back in the original and we get that for any asset $j$\n",
    "\n",
    "\n",
    "$$ E[R^e_j]=\\frac{E[R^*]}{Var(R^*)} Cov(R^e_j,R^*) =\\frac{Cov(R^e_j,R^*)}{Var(R^*)}E[R^*]=\\beta_{j,*}E[R^*] $$\n",
    "\n",
    "\n",
    "\n",
    "$$ E[R^e_j]=\\beta_{j,*}E[R^*] $$\n",
    "\n",
    "> What does that remind you?\n",
    "\n",
    "* All the information about the cross-sectional of expected returns--all the assets-- can be summarized by the expected return of the tangency portfolio and the beta of each asset with respect to the tangency portfolio\n",
    "\n",
    "* Or Alternatively: the risk-return trade-off  of the tangency portfolio  $\\frac{E[R^*]}{Var(R^*)}$ and the covariance of each asset with it.\n",
    "\n",
    "\n",
    "* Once you have the right notion of risk, the reward to risk is the same across assets (no free lunch)\n",
    "\n",
    "* What is the right notion? Covariance with the tangency portfolio\n",
    "\n",
    "* In the sample that you estimated the moments this will be true by construction!"
   ]
  },
  {
   "cell_type": "markdown",
   "metadata": {
    "colab_type": "text",
    "id": "KsX_yARZ8-Av"
   },
   "source": [
    "Now we test if $ E[R^e_j]=\\frac{Cov(R^e_j,R^*)}{Var(R^*)}E[R^*] $ in our sample"
   ]
  },
  {
   "cell_type": "code",
   "execution_count": null,
   "metadata": {},
   "outputs": [],
   "source": [
    "Wstar"
   ]
  },
  {
   "cell_type": "code",
   "execution_count": null,
   "metadata": {},
   "outputs": [],
   "source": [
    "Rstar=Re.copy()\n",
    "Rstar['*']=Re @ Wstar\n",
    "Rstar.cov()"
   ]
  },
  {
   "cell_type": "code",
   "execution_count": null,
   "metadata": {},
   "outputs": [],
   "source": [
    "cov=Wstar @ Re.cov()\n",
    "cov"
   ]
  },
  {
   "cell_type": "code",
   "execution_count": null,
   "metadata": {
    "colab": {
     "base_uri": "https://localhost:8080/",
     "height": 119
    },
    "colab_type": "code",
    "executionInfo": {
     "elapsed": 320,
     "status": "ok",
     "timestamp": 1576520863268,
     "user": {
      "displayName": "yuchi yao",
      "photoUrl": "",
      "userId": "00457884373990713813"
     },
     "user_tz": 300
    },
    "id": "M2h8mHWkQ1u7",
    "outputId": "308982d8-4853-402d-d375-72289fb5d8a9"
   },
   "outputs": [],
   "source": [
    "# expected return of the tangency portfolio\n",
    "mu_star=Wstar @ Re.mean()\n",
    "# variance of the tangency portfolio\n",
    "var_star=(Wstar @ Re.cov() @ Wstar.T)\n",
    "# covariance between each asset return and the tangency portfolio\n",
    "cov=Wstar @ Re.cov()\n",
    "\n",
    "predicted= mu_star/var_star*cov\n",
    "\n",
    "print(predicted)\n",
    "\n",
    "print(Re.mean())"
   ]
  },
  {
   "cell_type": "markdown",
   "metadata": {
    "colab_type": "text",
    "id": "cAt4Nls5Q1u8"
   },
   "source": [
    "* This comes from the fact that the tangency portfolio was constructed to be the portfolio with the maximum Sharpe Ratio\n",
    "* It is a result of us knowing the moments of all assets summarized by $E[R^e]$  and $Var(R^e)$\n",
    "* Here we did everything IN SAMPLE. We used sample moments and evalauted it's predictions using the same sample\n",
    "* The challenge is that these moments are not always well estiamted, to put it mildly (more on this soon!)\n",
    "* So the in sample tangency portfolio might not be very informative about the true tangency portfolio, which is the one that we actually care about\n",
    "\n",
    "> Why? Because it can predict returns going forward and not only in sample (which is useless)"
   ]
  },
  {
   "cell_type": "markdown",
   "metadata": {
    "colab_type": "text",
    "id": "1AbIsb7eQ1u9"
   },
   "source": [
    "### Portfolio advice summary\n",
    "\n",
    "* All investors invest in the same fund of risky assets, regardless of risk aversion.\n",
    "\n",
    "* Depending on risk aversion, they choose an appropriate mix of money market and risky fund investments\n",
    "\n",
    "* What about the investment horizon? \n",
    "\n",
    "* Same portfolio advice applies for investors with longer horizons if we assume that investors are drawn from the same distribution each period\n",
    "\n",
    "* Your investment horizon (age) does not matter if returns are i.i.d. (independently and identically distributed over time)\n",
    "\n",
    "### The 1 trillion dollar question: What is the Tangency portfolio? How to find it?\n"
   ]
  }
 ],
 "metadata": {
  "colab": {
   "collapsed_sections": [],
   "name": "Notebook 4.ipynb",
   "provenance": [],
   "toc_visible": true
  },
  "kernelspec": {
   "display_name": "Python 3",
   "language": "python",
   "name": "python3"
  },
  "language_info": {
   "codemirror_mode": {
    "name": "ipython",
    "version": 3
   },
   "file_extension": ".py",
   "mimetype": "text/x-python",
   "name": "python",
   "nbconvert_exporter": "python",
   "pygments_lexer": "ipython3",
   "version": "3.8.5"
  }
 },
 "nbformat": 4,
 "nbformat_minor": 4
}
