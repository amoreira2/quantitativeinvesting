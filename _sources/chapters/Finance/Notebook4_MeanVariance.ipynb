{
 "cells": [
  {
   "cell_type": "markdown",
   "metadata": {
    "colab_type": "text",
    "id": "x5bPnG2RQ1tw"
   },
   "source": [
    "<img src='https://www.dropbox.com/s/125k1wnxkl6bgs0/class_logo.jpg?dl=1' alt=\"Smiley face\" align=\"center\" style=\"width: 600px;\"/>\n",
    "\n",
    "\n",
    "# Notebook 4\n",
    "\n",
    "\n"
   ]
  },
  {
   "cell_type": "markdown",
   "metadata": {
    "colab_type": "text",
    "id": "7zE8ndMbQ1tx"
   },
   "source": [
    "### Topics covered \n",
    "* * *\n",
    " * Portfolio math\n",
    " * Diversification\n",
    " * Capital allocation line\n",
    " * Mean-variance frontier\n",
    " * Tangency portfolio\n",
    " * Two-fund separation\n",
    " * Case study on international diversification\n",
    "\n",
    "     \n",
    "\n",
    "     "
   ]
  },
  {
   "cell_type": "code",
   "execution_count": 68,
   "metadata": {
    "colab": {},
    "colab_type": "code",
    "id": "Tq96XxisQ1ty"
   },
   "outputs": [],
   "source": [
    "import pandas as pd\n",
    "import numpy as np\n",
    "import matplotlib.pyplot as plt\n",
    "%matplotlib inline\n",
    "#GlobalFinMonthly\n",
    "url=\"https://www.dropbox.com/s/3k35mt3t57ygff2/GlobalFinMonthly.csv?dl=1\"\n",
    "# url=\"C:/Users/Alan Moreira/Dropbox/Public/Fin418/Data/GlobalFinMonthly.csv\"\n",
    "Data = pd.read_csv(url,na_values=-99)\n",
    "# tell python Date is date:\n",
    "Data['Date']=pd.to_datetime(Data['Date'])\n",
    "# set an an index\n",
    "Data=Data.set_index(['Date'])\n",
    "df=Data[['RF','MKT']].copy()"
   ]
  },
  {
   "cell_type": "markdown",
   "metadata": {
    "colab_type": "text",
    "id": "cQXZae7RQ1uw"
   },
   "source": [
    "# The mean-variance investment frontier and the Tangency portfolio\n",
    "\n",
    "* Note the upper envelope that defines the \"investment frontier\", i.e., what is achiavable in terms of risk and returns\n",
    "\n",
    "* If you are in this envelope, you know that in order to get less risk you will have to get less return\n",
    "\n",
    "* There is no portfolio with a higher average return and the same volatility\n",
    "\n",
    "* And no portfolio with the same expected return and lower volatility\n",
    "\n",
    "* In volatility-expected return space all these portfolio are in a straight line, \n",
    "\n",
    "* Meaning that they achieve exactly the same ratio or expected excess return per unit of volatility since a stragith line has constant slope\n",
    "\n",
    "* So all these portfolios have exactly the same Sharpe ratio ($\\frac{E[R_p-R_f]}{std(R_p-R_f)}$), \n",
    "\n",
    "* This is also the maximum SR among all possible portfolios of the basis assets \n",
    "\n",
    "  *  (in this case only two: US and world portfolio)\n",
    "\n",
    "\n",
    "> What do these \"efficient\" portfolios look like?"
   ]
  },
  {
   "cell_type": "markdown",
   "metadata": {
    "colab_type": "text",
    "id": "2mv1CCcJQ1ux"
   },
   "source": [
    "## Mean-variance Frontier\n",
    "\n",
    "* These portfolios all can be thought as minimizing variance/volatility for a given desired expected return\n",
    "\n",
    "* or maximizing expected returns for a given dislike of variance \n",
    "\n",
    "* Formally they solve the following minimization problem\n",
    "\n",
    "$$\n",
    "\\begin{aligned}\n",
    "maximize_{W,w_f} rf+ (1-w_f)E[W'R^e]- \\gamma Var((1-w_f)W'R^e+r_f)\\\\\n",
    "maximize_{W,w_f} rf+ (1-w_f)W'E[R^e]- \\gamma (1-w_f)^2W'Var(R^e)W\\\\\n",
    "\\end{aligned}\n",
    "$$\n",
    "\n",
    "\n",
    "* If you understand calculus the answer is immediate. \n",
    "\n",
    "* All you need is to take the derivative of the expression with respect to the risky portfolio weights $W$ :\n",
    "\n",
    "\n",
    "$$(1-w_f)E[R^e]- 2\\gamma(1-w_f)^2 Var(R^e)W$$\n",
    "\n",
    "* and impose the \"first order condition\":\n",
    "$$\n",
    "\\begin{aligned}\n",
    "(1-w_f)E[R^e]- 2\\gamma(1-w_f)^2 Var(R^e)W^*=0\n",
    "\\end{aligned}\n",
    "$$\n",
    "\n",
    "* which simply means that if $W^*$ is really the weight that minimizes the expression, if you move it a little bit in any direction, the value of the expression shouldn't move much\n",
    "\n",
    "* In fact, for a tiny move in either direction, the benefit should be zero either way\n",
    "\n",
    "* Here is the intuition:\n",
    "\n",
    "  * Lets consider that we want to find the x that maximizes: $4x-x^2$  "
   ]
  },
  {
   "cell_type": "code",
   "execution_count": null,
   "metadata": {
    "colab": {
     "base_uri": "https://localhost:8080/",
     "height": 282
    },
    "colab_type": "code",
    "executionInfo": {
     "elapsed": 662,
     "status": "ok",
     "timestamp": 1576514492189,
     "user": {
      "displayName": "yuchi yao",
      "photoUrl": "",
      "userId": "00457884373990713813"
     },
     "user_tz": 300
    },
    "id": "gX83GU4PQ1ux",
    "outputId": "8b3301ac-1133-43e8-8a55-ddf7cbfc2bc9"
   },
   "outputs": [],
   "source": [
    "x=np.arange(0,4,0.1)\n",
    "plt.scatter(x,4*x-x**2)"
   ]
  },
  {
   "cell_type": "markdown",
   "metadata": {
    "colab_type": "text",
    "id": "vGGnPjY0Q1uz"
   },
   "source": [
    "* This is maximized at 2\n",
    "\n",
    "* The FOC for this case is simply\n",
    "\n",
    "$$4-2x^*=0$$\n",
    "\n",
    "* Which means $x^*=2$\n",
    "\n",
    "* You see in the plot that pertubating x a little bit has not effect on the value\n",
    "\n",
    "* close to the optimal, the expression is flat.\n",
    "\n",
    "* This is a general result "
   ]
  },
  {
   "cell_type": "markdown",
   "metadata": {
    "colab_type": "text",
    "id": "rwSgMEFHQ1u0"
   },
   "source": [
    "## The Tangecy  portfolio\n",
    "\n",
    "\n",
    "\n",
    "* Rewriting our first order condition we have\n",
    "\n",
    "\n",
    "###  $\n",
    "\\begin{align}\n",
    "2\\gamma(1-w_f)^2 Var(R^e)W^* &=(1-w_f)E[R^e]\\\\\n",
    "(2\\gamma (1-w_f)^2Var(R^e))^{-1}2\\gamma(1-w_f)^2 Var(R^e)W^* &=(2\\gamma (1-w_f)^2Var(R^e))^{-1}(1-w_f)E[R^e]\\\\\n",
    "W^* &=\\frac{1}{2\\gamma(1-w_f)}(Var(R^e))^{-1}E[R^e]\n",
    "\\end{align}$\n",
    "\n",
    "\n",
    "* Does your distaste for risk $\\gamma$ impact your portfolio composition?\n",
    "\n",
    "* Does it impact the relative weights in the risky assets?\n",
    "\n",
    "* Does your choice of how much to invest in the risk-free asset $w_f$ impacts the composition of your risky portfolio?\n",
    "\n",
    "\n",
    "* Note that $W^*$ is the optimal position in risky assets and therefore has the same dimension as the number of assets you are considering. \n",
    "\n",
    "* In our simple case 2 assets\n",
    "\n",
    "* Note that $\\frac{1}{2\\gamma(1-w_f)}$ is a scalar, which means that this is a number not a vector\n",
    "\n"
   ]
  },
  {
   "cell_type": "markdown",
   "metadata": {
    "colab_type": "text",
    "id": "eDFJiQNu4bJT"
   },
   "source": [
    "### Aside: Matrix inversion intuition\n",
    "\n",
    "* Note that $(2)^{-1}=1/2=0.5$ (naturally!), $(Var(R^e))^{-1}$ is kind of like this, \n",
    "\n",
    "* but more complicated because $Var(R^e)$ is a N by N matrix and we can't simply divide over\n",
    "\n",
    "* The definition of the inverse function is $f(x)=x^{-1}=y$ where $y*x=1$\n",
    "\n",
    "* for matrixis it is the same: $(Var(R^e))^{-1}Var(R^e)=I$, but now instead of 1, we have an indentity matrix, which is a matrix with 1's in the diagonal and zero everywhere else\n",
    "\n",
    "* For example, lets say we want to inverse a 2 by 2 matrix:\n",
    "\n",
    "$$\\left[\\begin{array}{cc}3 & 7\\\\0 &9\\end{array}\\right]^{-1}=\\left[\\begin{array}{cc}a & b\\\\c &d\\end{array}\\right]$$\n",
    "\n",
    "\n",
    "* We would simply solve\n",
    "\n",
    "\n",
    "$$\\left[\\begin{array}{cc}3 & 7\\\\0 &9\\end{array}\\right]\\left[\\begin{array}{cc}a & b\\\\c &d\\end{array}\\right]=I=\\left[\\begin{array}{cc}1 & 0\\\\0 &1\\end{array}\\right]$$\n",
    "\n",
    "* Which means solving this system of four equations below\n",
    "$$\n",
    "\\begin{aligned}\n",
    "3*a+7*c=1\\\\\n",
    "3*b+7*d=0\\\\\n",
    "0*a+9*c=0\\\\\n",
    "0*b+9*d=1\\\\\n",
    "\\end{aligned}$$\n",
    "\n",
    "* which in this case has an easy solution [a,b,c,d]=[1/3,-7/27,0,1/9]\n",
    "\n",
    "* But we should be thankful for being born after the 70's, when people had to do these inversions by hand--for very large matrixes\n",
    "\n",
    "* Now we can simply us the linear algebra library build in numpy  we discussed in Notebook 1 and invert the matrix:"
   ]
  },
  {
   "cell_type": "code",
   "execution_count": null,
   "metadata": {},
   "outputs": [],
   "source": [
    "a=np.array([[3,7],[0,9]])\n",
    "np.linalg.inv(a) @ a"
   ]
  },
  {
   "cell_type": "code",
   "execution_count": null,
   "metadata": {},
   "outputs": [],
   "source": [
    "a"
   ]
  },
  {
   "cell_type": "code",
   "execution_count": null,
   "metadata": {},
   "outputs": [],
   "source": [
    "a.T"
   ]
  },
  {
   "cell_type": "code",
   "execution_count": null,
   "metadata": {
    "colab": {
     "base_uri": "https://localhost:8080/",
     "height": 51
    },
    "colab_type": "code",
    "executionInfo": {
     "elapsed": 300,
     "status": "ok",
     "timestamp": 1576516473713,
     "user": {
      "displayName": "yuchi yao",
      "photoUrl": "",
      "userId": "00457884373990713813"
     },
     "user_tz": 300
    },
    "id": "g30KiEbDQ1u0",
    "outputId": "e1607085-aa00-44dd-fd47-4c0581d5fed7"
   },
   "outputs": [],
   "source": [
    "np.linalg.inv(Re.cov()) "
   ]
  },
  {
   "cell_type": "code",
   "execution_count": null,
   "metadata": {},
   "outputs": [],
   "source": [
    "np.linalg.inv(a) @ a"
   ]
  },
  {
   "cell_type": "markdown",
   "metadata": {
    "colab_type": "text",
    "id": "CV3kqj0wQ1u2"
   },
   "source": [
    "And our optimal weights must be proportional to "
   ]
  },
  {
   "cell_type": "code",
   "execution_count": null,
   "metadata": {
    "colab": {
     "base_uri": "https://localhost:8080/",
     "height": 34
    },
    "colab_type": "code",
    "executionInfo": {
     "elapsed": 321,
     "status": "ok",
     "timestamp": 1576516489440,
     "user": {
      "displayName": "yuchi yao",
      "photoUrl": "",
      "userId": "00457884373990713813"
     },
     "user_tz": 300
    },
    "id": "aSD1S4pCQ1u2",
    "outputId": "29f833bf-e962-4445-9afb-dd71e6eb14fe"
   },
   "outputs": [],
   "source": [
    "Wstar=np.linalg.inv(Re.cov()) @ Re.mean()\n",
    "Wstar"
   ]
  },
  {
   "cell_type": "code",
   "execution_count": null,
   "metadata": {},
   "outputs": [],
   "source": [
    "Re.cov()"
   ]
  },
  {
   "cell_type": "code",
   "execution_count": null,
   "metadata": {},
   "outputs": [],
   "source": [
    "Re.var()"
   ]
  },
  {
   "cell_type": "markdown",
   "metadata": {
    "colab_type": "text",
    "id": "543-4qWdQ1u4"
   },
   "source": [
    "* But these weights don't add up to one?\n",
    "* Why does this still make sense? Why these weights define a portfolio?\n",
    "\n",
    "* Cacluating weights below for a fully invested portfolio"
   ]
  },
  {
   "cell_type": "code",
   "execution_count": null,
   "metadata": {
    "colab": {},
    "colab_type": "code",
    "id": "t_LJg5zGQ1u4",
    "outputId": "819fb706-cac9-48f6-8e59-c34fe264d42e"
   },
   "outputs": [],
   "source": [
    "\n",
    "Wstar/np.sum(Wstar)"
   ]
  },
  {
   "cell_type": "markdown",
   "metadata": {
    "colab_type": "text",
    "id": "QiwwHWncQ1u6"
   },
   "source": [
    "### Two-fund separation\n",
    "\n",
    "* Take a moment to appreciate this.\n",
    "\n",
    "* How you distribute your wealth across different risky assets DOES NOT depend on your preferences for risk!\n",
    "\n",
    "* It DOES NOT depend on how much you are investing in the risk-free rate\n",
    "\n",
    "* We can go back and now solve to the position in the risky-free asset and the risk portfolio\n",
    "\n",
    "$$\n",
    "\\begin{aligned}\n",
    "maximize_{w_f} rf+ (1-w_f)E[R^*]- (1-w_f)^2\\gamma Var(R^*)\\\\\n",
    "\\end{aligned}\n",
    "$$\n",
    "\n",
    "* Where $R^*=(W^*)'R^e$ is the returns on the optimal risk portfolio (the TANGENCY portfolio)\n",
    "\n",
    "* The First order condition for $w_f$ is simply\n",
    "\n",
    "\n",
    "$$\n",
    "\\begin{aligned}\n",
    "-E[R^*]+ 2(1-w_f)\\gamma Var(R^*)=0\\\\\n",
    " (1-w_f)=\\frac{1}{2\\gamma}\\frac{E[R^*]}{Var(R^*)}\n",
    "\\end{aligned}\n",
    "$$\n",
    "\n",
    "* Note that now we can divide over the variance term, becasue it is the variance of one asset, our portfolio, which is just a scalar\n",
    "\n",
    "* Recall that $1-w_f$ is the position of the optimal risky portfolio (the TANGENCY portfolio)\n",
    "\n",
    "* So this formula has a lot of intuition:\n",
    "\n",
    "  * Your position on the risky portfolio depends:\n",
    "    * on your distaste for risk $(2\\gamma)$ \n",
    "    * The risk-return trade-off on your  risky portfolio\n",
    "    * Recall that the optimal risky portfolio is the portfolio with best risk-return trade-off !\n",
    "    \n",
    "* You can also rewrite the solution in terms of your choice of your overall portfolio volatility, \n",
    "\n",
    "* which is $(1-w_f)std(R^*)$\n",
    "  \n",
    "  $$ (1-w_f)std(R^*)=\\frac{1}{2\\gamma}\\frac{E[R^*]}{std(R^*)}$$\n",
    "  \n",
    "* So your position on the risky asset depends on the Sharpe ratio of your risky portfolio\n",
    "  \n",
    "* Note that we can simply define the tangency portfolio as : \n",
    "\n",
    "$$W^*=(Var(R^e))^{-1}E[R^e]$$\n",
    "\n",
    "* Because any constant term will simply change the position in the risky-free asset\n",
    "\n",
    "* For example, since any constant multiplying $W^*$ does not change it's sharpe ratio (can you show that?), \n",
    "\n",
    "* then from the equation above it is immediate that a more volatile $R^*$ would simply imply a higher position in the risk-free asset, keeping the total portfolio volatility constant. "
   ]
  },
  {
   "cell_type": "markdown",
   "metadata": {
    "colab_type": "text",
    "id": "gXTv2zAjQ1u6"
   },
   "source": [
    "### The tangency portfolio and the cross-sectional of expected returns\n",
    "\n",
    "\n",
    "* The optimal condition for our tangency portfolio:\n",
    "\n",
    "$$ Var(R^e)W^*=cte \\times E[R^e]$$\n",
    "\n",
    "* This condition above defines the tangency portfolio\n",
    "\n",
    "* We can rewirte the left hand side as\n",
    "\n",
    "$$Var(R^e)W^*=Cov(R^e,R^e)W^*=Cov(R^e,(W^*)'R^e)=Cov(R^e,R^*)$$\n",
    "\n",
    "* The left-hand side in the covariance vector of all the assets with the tangency portfolio\n",
    "\n",
    "* This means that the expected return of an asset must be proportional to the covariance between the return of the asset and the return of the tangency portfolio\n",
    "\n",
    "$$ E[R^e]=cte \\times Cov(R^e,R^*) $$\n",
    "\n",
    "\n",
    "* This holds for all assets in your investment opportunity set (i.e. the assets included in the minimization problem that the tangency portfolio solves)\n",
    "\n",
    "\n",
    "* This means that for any assets $j$ and $i$ we have \n",
    "\n",
    "\n",
    "$$\\frac{E[R^e_i]}{Cov(R^e_i,R^*)}= \\frac{E[R^e_j]}{Cov(R^e_j,R^*)} $$ \n",
    "\n",
    "\n",
    "* All assets have the same expected return per-unit of covariance with the tangency portoflio\n",
    "\n",
    "* We can also apply this to the tangency portfolio itself\n",
    "\n",
    "\n",
    "$$ E[R^*]=cte \\times Cov(R^*,R^*) $$\n",
    "\n",
    "\n",
    "* Which means that $cte=\\frac{E[R^*]}{Var(R^*)}$\n",
    "\n",
    "\n",
    "* Plugging back in the original and we get that for any asset $j$\n",
    "\n",
    "\n",
    "$$ E[R^e_j]=\\frac{E[R^*]}{Var(R^*)} Cov(R^e_j,R^*) =\\frac{Cov(R^e_j,R^*)}{Var(R^*)}E[R^*]=\\beta_{j,*}E[R^*] $$\n",
    "\n",
    "\n",
    "\n",
    "$$ E[R^e_j]=\\beta_{j,*}E[R^*] $$\n",
    "\n",
    "> What does that remind you?\n",
    "\n",
    "* All the information about the cross-sectional of expected returns--all the assets-- can be summarized by the expected return of the tangency portfolio and the beta of each asset with respect to the tangency portfolio\n",
    "\n",
    "* Or Alternatively: the risk-return trade-off  of the tangency portfolio  $\\frac{E[R^*]}{Var(R^*)}$ and the covariance of each asset with it.\n",
    "\n",
    "\n",
    "* Once you have the right notion of risk, the reward to risk is the same across assets (no free lunch)\n",
    "\n",
    "* What is the right notion? Covariance with the tangency portfolio\n",
    "\n",
    "* In the sample that you estimated the moments this will be true by construction!"
   ]
  },
  {
   "cell_type": "markdown",
   "metadata": {
    "colab_type": "text",
    "id": "KsX_yARZ8-Av"
   },
   "source": [
    "Now we test if $ E[R^e_j]=\\frac{Cov(R^e_j,R^*)}{Var(R^*)}E[R^*] $ in our sample"
   ]
  },
  {
   "cell_type": "code",
   "execution_count": null,
   "metadata": {},
   "outputs": [],
   "source": [
    "Wstar"
   ]
  },
  {
   "cell_type": "code",
   "execution_count": null,
   "metadata": {},
   "outputs": [],
   "source": [
    "Rstar=Re.copy()\n",
    "Rstar['*']=Re @ Wstar\n",
    "Rstar.cov()"
   ]
  },
  {
   "cell_type": "code",
   "execution_count": null,
   "metadata": {},
   "outputs": [],
   "source": [
    "cov=Wstar @ Re.cov()\n",
    "cov"
   ]
  },
  {
   "cell_type": "code",
   "execution_count": null,
   "metadata": {
    "colab": {
     "base_uri": "https://localhost:8080/",
     "height": 119
    },
    "colab_type": "code",
    "executionInfo": {
     "elapsed": 320,
     "status": "ok",
     "timestamp": 1576520863268,
     "user": {
      "displayName": "yuchi yao",
      "photoUrl": "",
      "userId": "00457884373990713813"
     },
     "user_tz": 300
    },
    "id": "M2h8mHWkQ1u7",
    "outputId": "308982d8-4853-402d-d375-72289fb5d8a9"
   },
   "outputs": [],
   "source": [
    "# expected return of the tangency portfolio\n",
    "mu_star=Wstar @ Re.mean()\n",
    "# variance of the tangency portfolio\n",
    "var_star=(Wstar @ Re.cov() @ Wstar.T)\n",
    "# covariance between each asset return and the tangency portfolio\n",
    "cov=Wstar @ Re.cov()\n",
    "\n",
    "predicted= mu_star/var_star*cov\n",
    "\n",
    "print(predicted)\n",
    "\n",
    "print(Re.mean())"
   ]
  },
  {
   "cell_type": "markdown",
   "metadata": {
    "colab_type": "text",
    "id": "cAt4Nls5Q1u8"
   },
   "source": [
    "* This comes from the fact that the tangency portfolio was constructed to be the portfolio with the maximum Sharpe Ratio\n",
    "* It is a result of us knowing the moments of all assets summarized by $E[R^e]$  and $Var(R^e)$\n",
    "* Here we did everything IN SAMPLE. We used sample moments and evalauted it's predictions using the same sample\n",
    "* The challenge is that these moments are not always well estiamted, to put it mildly (more on this soon!)\n",
    "* So the in sample tangency portfolio might not be very informative about the true tangency portfolio, which is the one that we actually care about\n",
    "\n",
    "> Why? Because it can predict returns going forward and not only in sample (which is useless)"
   ]
  },
  {
   "cell_type": "markdown",
   "metadata": {
    "colab_type": "text",
    "id": "1AbIsb7eQ1u9"
   },
   "source": [
    "### Portfolio advice summary\n",
    "\n",
    "* All investors invest in the same fund of risky assets, regardless of risk aversion.\n",
    "\n",
    "* Depending on risk aversion, they choose an appropriate mix of money market and risky fund investments\n",
    "\n",
    "* What about the investment horizon? \n",
    "\n",
    "* Same portfolio advice applies for investors with longer horizons if we assume that investors are drawn from the same distribution each period\n",
    "\n",
    "* Your investment horizon (age) does not matter if returns are i.i.d. (independently and identically distributed over time)\n",
    "\n",
    "### The 1 trillion dollar question: What is the Tangency portfolio? How to find it?\n"
   ]
  },
  {
   "cell_type": "markdown",
   "metadata": {
    "colab_type": "text",
    "id": "4RJc47ZiQ1u-"
   },
   "source": [
    "# Case study on international portfolio diversification\n",
    "\n",
    "In this section we will apply what we have learned so far on the international market. We will try to solve the optimal weights that give us the highest sharpe ratio, and how we should allocate our money between risk-free rate and risky asset to target on average return or volatility."
   ]
  },
  {
   "cell_type": "code",
   "execution_count": 107,
   "metadata": {
    "colab": {
     "base_uri": "https://localhost:8080/",
     "height": 235
    },
    "colab_type": "code",
    "executionInfo": {
     "elapsed": 325,
     "status": "ok",
     "timestamp": 1576520994565,
     "user": {
      "displayName": "yuchi yao",
      "photoUrl": "",
      "userId": "00457884373990713813"
     },
     "user_tz": 300
    },
    "id": "4JUej0lpQ1u-",
    "outputId": "597bd03c-a669-4444-def6-c0c6c669db91"
   },
   "outputs": [
    {
     "data": {
      "text/html": [
       "<div>\n",
       "<style scoped>\n",
       "    .dataframe tbody tr th:only-of-type {\n",
       "        vertical-align: middle;\n",
       "    }\n",
       "\n",
       "    .dataframe tbody tr th {\n",
       "        vertical-align: top;\n",
       "    }\n",
       "\n",
       "    .dataframe thead th {\n",
       "        text-align: right;\n",
       "    }\n",
       "</style>\n",
       "<table border=\"1\" class=\"dataframe\">\n",
       "  <thead>\n",
       "    <tr style=\"text-align: right;\">\n",
       "      <th></th>\n",
       "      <th>RF</th>\n",
       "      <th>MKT</th>\n",
       "      <th>USA30yearGovBond</th>\n",
       "      <th>EmergingMarkets</th>\n",
       "      <th>WorldxUSA</th>\n",
       "      <th>WorldxUSAGovBond</th>\n",
       "    </tr>\n",
       "    <tr>\n",
       "      <th>Date</th>\n",
       "      <th></th>\n",
       "      <th></th>\n",
       "      <th></th>\n",
       "      <th></th>\n",
       "      <th></th>\n",
       "      <th></th>\n",
       "    </tr>\n",
       "  </thead>\n",
       "  <tbody>\n",
       "    <tr>\n",
       "      <th>1963-02-28</th>\n",
       "      <td>0.0023</td>\n",
       "      <td>-0.0215</td>\n",
       "      <td>-0.001878</td>\n",
       "      <td>0.098222</td>\n",
       "      <td>-0.002773</td>\n",
       "      <td>NaN</td>\n",
       "    </tr>\n",
       "    <tr>\n",
       "      <th>1963-03-31</th>\n",
       "      <td>0.0023</td>\n",
       "      <td>0.0331</td>\n",
       "      <td>0.003342</td>\n",
       "      <td>0.014149</td>\n",
       "      <td>0.000371</td>\n",
       "      <td>0.001913</td>\n",
       "    </tr>\n",
       "    <tr>\n",
       "      <th>1963-04-30</th>\n",
       "      <td>0.0025</td>\n",
       "      <td>0.0476</td>\n",
       "      <td>-0.001843</td>\n",
       "      <td>-0.147055</td>\n",
       "      <td>-0.003336</td>\n",
       "      <td>0.008002</td>\n",
       "    </tr>\n",
       "    <tr>\n",
       "      <th>1963-05-31</th>\n",
       "      <td>0.0024</td>\n",
       "      <td>0.0200</td>\n",
       "      <td>-0.001807</td>\n",
       "      <td>-0.012172</td>\n",
       "      <td>-0.000186</td>\n",
       "      <td>0.004689</td>\n",
       "    </tr>\n",
       "    <tr>\n",
       "      <th>1963-06-30</th>\n",
       "      <td>0.0023</td>\n",
       "      <td>-0.0177</td>\n",
       "      <td>0.001666</td>\n",
       "      <td>-0.055699</td>\n",
       "      <td>-0.011160</td>\n",
       "      <td>0.003139</td>\n",
       "    </tr>\n",
       "  </tbody>\n",
       "</table>\n",
       "</div>"
      ],
      "text/plain": [
       "                RF     MKT  USA30yearGovBond  EmergingMarkets  WorldxUSA  \\\n",
       "Date                                                                       \n",
       "1963-02-28  0.0023 -0.0215         -0.001878         0.098222  -0.002773   \n",
       "1963-03-31  0.0023  0.0331          0.003342         0.014149   0.000371   \n",
       "1963-04-30  0.0025  0.0476         -0.001843        -0.147055  -0.003336   \n",
       "1963-05-31  0.0024  0.0200         -0.001807        -0.012172  -0.000186   \n",
       "1963-06-30  0.0023 -0.0177          0.001666        -0.055699  -0.011160   \n",
       "\n",
       "            WorldxUSAGovBond  \n",
       "Date                          \n",
       "1963-02-28               NaN  \n",
       "1963-03-31          0.001913  \n",
       "1963-04-30          0.008002  \n",
       "1963-05-31          0.004689  \n",
       "1963-06-30          0.003139  "
      ]
     },
     "execution_count": 107,
     "metadata": {},
     "output_type": "execute_result"
    }
   ],
   "source": [
    "Data.head()"
   ]
  },
  {
   "cell_type": "code",
   "execution_count": 108,
   "metadata": {
    "colab": {
     "base_uri": "https://localhost:8080/",
     "height": 235
    },
    "colab_type": "code",
    "executionInfo": {
     "elapsed": 331,
     "status": "ok",
     "timestamp": 1576522813843,
     "user": {
      "displayName": "yuchi yao",
      "photoUrl": "",
      "userId": "00457884373990713813"
     },
     "user_tz": 300
    },
    "id": "f8tA7s2pQ1vB",
    "outputId": "9a6b95ba-c3ce-47d1-eb4b-400a5cc287bc"
   },
   "outputs": [
    {
     "data": {
      "text/html": [
       "<div>\n",
       "<style scoped>\n",
       "    .dataframe tbody tr th:only-of-type {\n",
       "        vertical-align: middle;\n",
       "    }\n",
       "\n",
       "    .dataframe tbody tr th {\n",
       "        vertical-align: top;\n",
       "    }\n",
       "\n",
       "    .dataframe thead th {\n",
       "        text-align: right;\n",
       "    }\n",
       "</style>\n",
       "<table border=\"1\" class=\"dataframe\">\n",
       "  <thead>\n",
       "    <tr style=\"text-align: right;\">\n",
       "      <th></th>\n",
       "      <th>RF</th>\n",
       "      <th>MKTUS</th>\n",
       "      <th>BondUS</th>\n",
       "      <th>EM</th>\n",
       "      <th>MKTxUS</th>\n",
       "      <th>BondxUS</th>\n",
       "    </tr>\n",
       "    <tr>\n",
       "      <th>Date</th>\n",
       "      <th></th>\n",
       "      <th></th>\n",
       "      <th></th>\n",
       "      <th></th>\n",
       "      <th></th>\n",
       "      <th></th>\n",
       "    </tr>\n",
       "  </thead>\n",
       "  <tbody>\n",
       "    <tr>\n",
       "      <th>2016-08-31</th>\n",
       "      <td>0.0002</td>\n",
       "      <td>0.0052</td>\n",
       "      <td>-0.008417</td>\n",
       "      <td>0.025186</td>\n",
       "      <td>0.000838</td>\n",
       "      <td>-0.009552</td>\n",
       "    </tr>\n",
       "    <tr>\n",
       "      <th>2016-09-30</th>\n",
       "      <td>0.0002</td>\n",
       "      <td>0.0027</td>\n",
       "      <td>-0.016417</td>\n",
       "      <td>0.013153</td>\n",
       "      <td>0.012736</td>\n",
       "      <td>0.009979</td>\n",
       "    </tr>\n",
       "    <tr>\n",
       "      <th>2016-10-31</th>\n",
       "      <td>0.0002</td>\n",
       "      <td>-0.0200</td>\n",
       "      <td>-0.049460</td>\n",
       "      <td>0.002474</td>\n",
       "      <td>-0.020383</td>\n",
       "      <td>-0.043476</td>\n",
       "    </tr>\n",
       "    <tr>\n",
       "      <th>2016-11-30</th>\n",
       "      <td>0.0001</td>\n",
       "      <td>0.0487</td>\n",
       "      <td>-0.081636</td>\n",
       "      <td>-0.045971</td>\n",
       "      <td>-0.019798</td>\n",
       "      <td>-0.050359</td>\n",
       "    </tr>\n",
       "    <tr>\n",
       "      <th>2016-12-31</th>\n",
       "      <td>0.0003</td>\n",
       "      <td>0.0185</td>\n",
       "      <td>-0.005296</td>\n",
       "      <td>0.002904</td>\n",
       "      <td>0.034383</td>\n",
       "      <td>-0.023207</td>\n",
       "    </tr>\n",
       "  </tbody>\n",
       "</table>\n",
       "</div>"
      ],
      "text/plain": [
       "                RF   MKTUS    BondUS        EM    MKTxUS   BondxUS\n",
       "Date                                                              \n",
       "2016-08-31  0.0002  0.0052 -0.008417  0.025186  0.000838 -0.009552\n",
       "2016-09-30  0.0002  0.0027 -0.016417  0.013153  0.012736  0.009979\n",
       "2016-10-31  0.0002 -0.0200 -0.049460  0.002474 -0.020383 -0.043476\n",
       "2016-11-30  0.0001  0.0487 -0.081636 -0.045971 -0.019798 -0.050359\n",
       "2016-12-31  0.0003  0.0185 -0.005296  0.002904  0.034383 -0.023207"
      ]
     },
     "execution_count": 108,
     "metadata": {},
     "output_type": "execute_result"
    }
   ],
   "source": [
    "# for convenience lets rename these assets\n",
    "\n",
    "Data=Data.rename(columns={Data.columns[1]: \"MKTUS\",Data.columns[2]: \"BondUS\",\n",
    "                          Data.columns[3]: \"EM\",Data.columns[4]: \"MKTxUS\",Data.columns[5]: \"BondxUS\" })\n",
    "Data.tail()"
   ]
  },
  {
   "cell_type": "code",
   "execution_count": 109,
   "metadata": {
    "colab": {
     "base_uri": "https://localhost:8080/",
     "height": 235
    },
    "colab_type": "code",
    "executionInfo": {
     "elapsed": 334,
     "status": "ok",
     "timestamp": 1576522822075,
     "user": {
      "displayName": "yuchi yao",
      "photoUrl": "",
      "userId": "00457884373990713813"
     },
     "user_tz": 300
    },
    "id": "rOXeUDSnQ1vC",
    "outputId": "6c471a61-5227-4ff7-c78a-92c2d2796743"
   },
   "outputs": [
    {
     "data": {
      "text/html": [
       "<div>\n",
       "<style scoped>\n",
       "    .dataframe tbody tr th:only-of-type {\n",
       "        vertical-align: middle;\n",
       "    }\n",
       "\n",
       "    .dataframe tbody tr th {\n",
       "        vertical-align: top;\n",
       "    }\n",
       "\n",
       "    .dataframe thead th {\n",
       "        text-align: right;\n",
       "    }\n",
       "</style>\n",
       "<table border=\"1\" class=\"dataframe\">\n",
       "  <thead>\n",
       "    <tr style=\"text-align: right;\">\n",
       "      <th></th>\n",
       "      <th>MKTUS</th>\n",
       "      <th>BondUS</th>\n",
       "      <th>EM</th>\n",
       "      <th>MKTxUS</th>\n",
       "      <th>BondxUS</th>\n",
       "    </tr>\n",
       "    <tr>\n",
       "      <th>Date</th>\n",
       "      <th></th>\n",
       "      <th></th>\n",
       "      <th></th>\n",
       "      <th></th>\n",
       "      <th></th>\n",
       "    </tr>\n",
       "  </thead>\n",
       "  <tbody>\n",
       "    <tr>\n",
       "      <th>2016-08-31</th>\n",
       "      <td>0.0050</td>\n",
       "      <td>-0.008617</td>\n",
       "      <td>0.024986</td>\n",
       "      <td>0.000638</td>\n",
       "      <td>-0.009752</td>\n",
       "    </tr>\n",
       "    <tr>\n",
       "      <th>2016-09-30</th>\n",
       "      <td>0.0025</td>\n",
       "      <td>-0.016617</td>\n",
       "      <td>0.012953</td>\n",
       "      <td>0.012536</td>\n",
       "      <td>0.009779</td>\n",
       "    </tr>\n",
       "    <tr>\n",
       "      <th>2016-10-31</th>\n",
       "      <td>-0.0202</td>\n",
       "      <td>-0.049660</td>\n",
       "      <td>0.002274</td>\n",
       "      <td>-0.020583</td>\n",
       "      <td>-0.043676</td>\n",
       "    </tr>\n",
       "    <tr>\n",
       "      <th>2016-11-30</th>\n",
       "      <td>0.0486</td>\n",
       "      <td>-0.081736</td>\n",
       "      <td>-0.046071</td>\n",
       "      <td>-0.019898</td>\n",
       "      <td>-0.050459</td>\n",
       "    </tr>\n",
       "    <tr>\n",
       "      <th>2016-12-31</th>\n",
       "      <td>0.0182</td>\n",
       "      <td>-0.005596</td>\n",
       "      <td>0.002604</td>\n",
       "      <td>0.034083</td>\n",
       "      <td>-0.023507</td>\n",
       "    </tr>\n",
       "  </tbody>\n",
       "</table>\n",
       "</div>"
      ],
      "text/plain": [
       "             MKTUS    BondUS        EM    MKTxUS   BondxUS\n",
       "Date                                                      \n",
       "2016-08-31  0.0050 -0.008617  0.024986  0.000638 -0.009752\n",
       "2016-09-30  0.0025 -0.016617  0.012953  0.012536  0.009779\n",
       "2016-10-31 -0.0202 -0.049660  0.002274 -0.020583 -0.043676\n",
       "2016-11-30  0.0486 -0.081736 -0.046071 -0.019898 -0.050459\n",
       "2016-12-31  0.0182 -0.005596  0.002604  0.034083 -0.023507"
      ]
     },
     "execution_count": 109,
     "metadata": {},
     "output_type": "execute_result"
    }
   ],
   "source": [
    "# lets start by constructing a matrix with only excess returns\n",
    "Re=(Data.drop('RF',axis=1)).subtract(Data['RF'],axis='index')\n",
    "Re.tail()"
   ]
  },
  {
   "cell_type": "code",
   "execution_count": 110,
   "metadata": {
    "colab": {
     "base_uri": "https://localhost:8080/",
     "height": 119
    },
    "colab_type": "code",
    "executionInfo": {
     "elapsed": 323,
     "status": "ok",
     "timestamp": 1576522831826,
     "user": {
      "displayName": "yuchi yao",
      "photoUrl": "",
      "userId": "00457884373990713813"
     },
     "user_tz": 300
    },
    "id": "vUmvucGpQ1vE",
    "outputId": "16712e41-79dd-4d18-ac47-8b166a562189"
   },
   "outputs": [
    {
     "data": {
      "text/plain": [
       "MKTUS      0.005140\n",
       "BondUS     0.002523\n",
       "EM         0.006923\n",
       "MKTxUS     0.004149\n",
       "BondxUS    0.002054\n",
       "dtype: float64"
      ]
     },
     "execution_count": 110,
     "metadata": {},
     "output_type": "execute_result"
    }
   ],
   "source": [
    "# now we estimate the expected return and the covariance using the sample moments\n",
    "ERe=Re.mean()\n",
    "ERe"
   ]
  },
  {
   "cell_type": "code",
   "execution_count": 111,
   "metadata": {
    "colab": {
     "base_uri": "https://localhost:8080/",
     "height": 204
    },
    "colab_type": "code",
    "executionInfo": {
     "elapsed": 516,
     "status": "ok",
     "timestamp": 1576522834362,
     "user": {
      "displayName": "yuchi yao",
      "photoUrl": "",
      "userId": "00457884373990713813"
     },
     "user_tz": 300
    },
    "id": "N2vTBYgNQ1vF",
    "outputId": "39c197f7-02ed-4853-d78b-ec466c68214f"
   },
   "outputs": [
    {
     "data": {
      "text/html": [
       "<div>\n",
       "<style scoped>\n",
       "    .dataframe tbody tr th:only-of-type {\n",
       "        vertical-align: middle;\n",
       "    }\n",
       "\n",
       "    .dataframe tbody tr th {\n",
       "        vertical-align: top;\n",
       "    }\n",
       "\n",
       "    .dataframe thead th {\n",
       "        text-align: right;\n",
       "    }\n",
       "</style>\n",
       "<table border=\"1\" class=\"dataframe\">\n",
       "  <thead>\n",
       "    <tr style=\"text-align: right;\">\n",
       "      <th></th>\n",
       "      <th>MKTUS</th>\n",
       "      <th>BondUS</th>\n",
       "      <th>EM</th>\n",
       "      <th>MKTxUS</th>\n",
       "      <th>BondxUS</th>\n",
       "    </tr>\n",
       "  </thead>\n",
       "  <tbody>\n",
       "    <tr>\n",
       "      <th>MKTUS</th>\n",
       "      <td>0.001948</td>\n",
       "      <td>0.000111</td>\n",
       "      <td>0.001292</td>\n",
       "      <td>0.001264</td>\n",
       "      <td>0.000187</td>\n",
       "    </tr>\n",
       "    <tr>\n",
       "      <th>BondUS</th>\n",
       "      <td>0.000111</td>\n",
       "      <td>0.001227</td>\n",
       "      <td>-0.000204</td>\n",
       "      <td>-0.000013</td>\n",
       "      <td>0.000264</td>\n",
       "    </tr>\n",
       "    <tr>\n",
       "      <th>EM</th>\n",
       "      <td>0.001292</td>\n",
       "      <td>-0.000204</td>\n",
       "      <td>0.003556</td>\n",
       "      <td>0.001661</td>\n",
       "      <td>0.000249</td>\n",
       "    </tr>\n",
       "    <tr>\n",
       "      <th>MKTxUS</th>\n",
       "      <td>0.001264</td>\n",
       "      <td>-0.000013</td>\n",
       "      <td>0.001661</td>\n",
       "      <td>0.002182</td>\n",
       "      <td>0.000422</td>\n",
       "    </tr>\n",
       "    <tr>\n",
       "      <th>BondxUS</th>\n",
       "      <td>0.000187</td>\n",
       "      <td>0.000264</td>\n",
       "      <td>0.000249</td>\n",
       "      <td>0.000422</td>\n",
       "      <td>0.000407</td>\n",
       "    </tr>\n",
       "  </tbody>\n",
       "</table>\n",
       "</div>"
      ],
      "text/plain": [
       "            MKTUS    BondUS        EM    MKTxUS   BondxUS\n",
       "MKTUS    0.001948  0.000111  0.001292  0.001264  0.000187\n",
       "BondUS   0.000111  0.001227 -0.000204 -0.000013  0.000264\n",
       "EM       0.001292 -0.000204  0.003556  0.001661  0.000249\n",
       "MKTxUS   0.001264 -0.000013  0.001661  0.002182  0.000422\n",
       "BondxUS  0.000187  0.000264  0.000249  0.000422  0.000407"
      ]
     },
     "execution_count": 111,
     "metadata": {},
     "output_type": "execute_result"
    }
   ],
   "source": [
    "Cove=Re.cov()\n",
    "Cove"
   ]
  },
  {
   "cell_type": "markdown",
   "metadata": {
    "colab_type": "text",
    "id": "MOY1N4SFQ1vG"
   },
   "source": [
    "1. First we will solve for the maxium Sharpe ratio feasible: \n",
    "\n",
    "  - What is this? It is the SR on the tangency  portfolio\n",
    "\n",
    "  - (I am using $W_*$ to denote it to make it easier to show the transposes)\n",
    "\n",
    "  $\\begin{align}\n",
    "  SR(R^*)&=\\frac{E[W_*'R^e]}{\\sqrt{Var(W_*'R^e)}}\\\\\n",
    "  &=\\frac{W_*'E[R^e]}{\\sqrt{W_*'Var(R^e)W_*}}\\\\\n",
    "  &=\\frac{(Var(R^e)^{-1}E[R^e])'E[R^e]}{\\sqrt{(Var(R^e)^{-1}E[R^e])'Var(R^e)(Var(R^e)^{-1}E[R^e])}}\\\\\n",
    "  &=\\frac{E[R^e]'Var(R^e)^{-1}E[R^e]}{\\sqrt{E[R^e]'Var(R^e)^{-1}Var(R^e)Var(R^e)^{-1}E[R^e]}}\\\\\n",
    "  &=\\frac{E[R^e]'Var(R^e)^{-1}E[R^e]}{\\sqrt{E[R^e]'Var(R^e)^{-1}E[R^e]}}\\\\\n",
    "  &=\\sqrt{E[R^e]'Var(R^e)^{-1}E[R^e]}\n",
    "  \\end{align}$\n",
    "\n",
    "2. Then we will solve for the weights that implement this Sharpe ratio\n",
    "\n",
    "  $$W_*=VAR(R^e)^{-1}E[R^e]$$\n",
    "\n",
    "3. And then we will solve for the position on it that implements a desired level of expected excess returns"
   ]
  },
  {
   "cell_type": "code",
   "execution_count": 112,
   "metadata": {},
   "outputs": [
    {
     "data": {
      "text/plain": [
       "MKTUS      0.005140\n",
       "BondUS     0.002523\n",
       "EM         0.006923\n",
       "MKTxUS     0.004149\n",
       "BondxUS    0.002054\n",
       "dtype: float64"
      ]
     },
     "execution_count": 112,
     "metadata": {},
     "output_type": "execute_result"
    }
   ],
   "source": [
    "ERe"
   ]
  },
  {
   "cell_type": "code",
   "execution_count": 113,
   "metadata": {
    "colab": {
     "base_uri": "https://localhost:8080/",
     "height": 34
    },
    "colab_type": "code",
    "executionInfo": {
     "elapsed": 312,
     "status": "ok",
     "timestamp": 1576523582035,
     "user": {
      "displayName": "yuchi yao",
      "photoUrl": "",
      "userId": "00457884373990713813"
     },
     "user_tz": 300
    },
    "id": "JhhmsZ06Q1vH",
    "outputId": "b1ea92e1-5248-43a1-ad5b-136448fdd9b5"
   },
   "outputs": [
    {
     "data": {
      "text/plain": [
       "0.16368754895405602"
      ]
     },
     "execution_count": 113,
     "metadata": {},
     "output_type": "execute_result"
    }
   ],
   "source": [
    "SR_int=(ERe @ np.linalg.inv(Cove) @ ERe)**0.5\n",
    "SR_int"
   ]
  },
  {
   "cell_type": "code",
   "execution_count": 114,
   "metadata": {
    "colab": {
     "base_uri": "https://localhost:8080/",
     "height": 34
    },
    "colab_type": "code",
    "executionInfo": {
     "elapsed": 416,
     "status": "ok",
     "timestamp": 1576523617968,
     "user": {
      "displayName": "yuchi yao",
      "photoUrl": "",
      "userId": "00457884373990713813"
     },
     "user_tz": 300
    },
    "id": "ALLtgvCsQ1vJ",
    "outputId": "2308a579-9b25-41b6-e8d6-9ed5004ec11e"
   },
   "outputs": [
    {
     "data": {
      "text/plain": [
       "0.5670303027096857"
      ]
     },
     "execution_count": 114,
     "metadata": {},
     "output_type": "execute_result"
    }
   ],
   "source": [
    "# annualized\n",
    "\n",
    "SR_int*12**0.5"
   ]
  },
  {
   "cell_type": "code",
   "execution_count": 115,
   "metadata": {
    "colab": {
     "base_uri": "https://localhost:8080/",
     "height": 34
    },
    "colab_type": "code",
    "executionInfo": {
     "elapsed": 242,
     "status": "ok",
     "timestamp": 1576523627656,
     "user": {
      "displayName": "yuchi yao",
      "photoUrl": "",
      "userId": "00457884373990713813"
     },
     "user_tz": 300
    },
    "id": "asLAQrzPQ1vL",
    "outputId": "26942dcb-549c-4107-9ed9-658f73d06982"
   },
   "outputs": [
    {
     "data": {
      "text/plain": [
       "0.40345097267659175"
      ]
     },
     "execution_count": 115,
     "metadata": {},
     "output_type": "execute_result"
    }
   ],
   "source": [
    "# compares with market\n",
    "\n",
    "Re.MKTUS.mean()/Re.MKTUS.std()*12**0.5"
   ]
  },
  {
   "cell_type": "code",
   "execution_count": 116,
   "metadata": {},
   "outputs": [
    {
     "data": {
      "text/html": [
       "<div>\n",
       "<style scoped>\n",
       "    .dataframe tbody tr th:only-of-type {\n",
       "        vertical-align: middle;\n",
       "    }\n",
       "\n",
       "    .dataframe tbody tr th {\n",
       "        vertical-align: top;\n",
       "    }\n",
       "\n",
       "    .dataframe thead th {\n",
       "        text-align: right;\n",
       "    }\n",
       "</style>\n",
       "<table border=\"1\" class=\"dataframe\">\n",
       "  <thead>\n",
       "    <tr style=\"text-align: right;\">\n",
       "      <th></th>\n",
       "    </tr>\n",
       "  </thead>\n",
       "  <tbody>\n",
       "    <tr>\n",
       "      <th>MKTUS</th>\n",
       "    </tr>\n",
       "    <tr>\n",
       "      <th>BondUS</th>\n",
       "    </tr>\n",
       "    <tr>\n",
       "      <th>EM</th>\n",
       "    </tr>\n",
       "    <tr>\n",
       "      <th>MKTxUS</th>\n",
       "    </tr>\n",
       "    <tr>\n",
       "      <th>BondxUS</th>\n",
       "    </tr>\n",
       "  </tbody>\n",
       "</table>\n",
       "</div>"
      ],
      "text/plain": [
       "Empty DataFrame\n",
       "Columns: []\n",
       "Index: [MKTUS, BondUS, EM, MKTxUS, BondxUS]"
      ]
     },
     "execution_count": 116,
     "metadata": {},
     "output_type": "execute_result"
    }
   ],
   "source": [
    "Wmve=pd.DataFrame([],index=Re.columns)\n",
    "Wmve"
   ]
  },
  {
   "cell_type": "code",
   "execution_count": 117,
   "metadata": {
    "colab": {
     "base_uri": "https://localhost:8080/",
     "height": 204
    },
    "colab_type": "code",
    "executionInfo": {
     "elapsed": 338,
     "status": "ok",
     "timestamp": 1576523809605,
     "user": {
      "displayName": "yuchi yao",
      "photoUrl": "",
      "userId": "00457884373990713813"
     },
     "user_tz": 300
    },
    "id": "7dP8L66QQ1vM",
    "outputId": "dc20b457-34d9-4031-9bc6-2e22bc50ba78",
    "scrolled": true
   },
   "outputs": [
    {
     "data": {
      "text/html": [
       "<div>\n",
       "<style scoped>\n",
       "    .dataframe tbody tr th:only-of-type {\n",
       "        vertical-align: middle;\n",
       "    }\n",
       "\n",
       "    .dataframe tbody tr th {\n",
       "        vertical-align: top;\n",
       "    }\n",
       "\n",
       "    .dataframe thead th {\n",
       "        text-align: right;\n",
       "    }\n",
       "</style>\n",
       "<table border=\"1\" class=\"dataframe\">\n",
       "  <thead>\n",
       "    <tr style=\"text-align: right;\">\n",
       "      <th></th>\n",
       "      <th>wghts_int</th>\n",
       "    </tr>\n",
       "  </thead>\n",
       "  <tbody>\n",
       "    <tr>\n",
       "      <th>MKTUS</th>\n",
       "      <td>1.835334</td>\n",
       "    </tr>\n",
       "    <tr>\n",
       "      <th>BondUS</th>\n",
       "      <td>1.423373</td>\n",
       "    </tr>\n",
       "    <tr>\n",
       "      <th>EM</th>\n",
       "      <td>1.605223</td>\n",
       "    </tr>\n",
       "    <tr>\n",
       "      <th>MKTxUS</th>\n",
       "      <td>-1.026421</td>\n",
       "    </tr>\n",
       "    <tr>\n",
       "      <th>BondxUS</th>\n",
       "      <td>3.365823</td>\n",
       "    </tr>\n",
       "  </tbody>\n",
       "</table>\n",
       "</div>"
      ],
      "text/plain": [
       "         wghts_int\n",
       "MKTUS     1.835334\n",
       "BondUS    1.423373\n",
       "EM        1.605223\n",
       "MKTxUS   -1.026421\n",
       "BondxUS   3.365823"
      ]
     },
     "execution_count": 117,
     "metadata": {},
     "output_type": "execute_result"
    }
   ],
   "source": [
    "# construct the optimal weights\n",
    "\n",
    "Wmve['wghts_int'] =np.linalg.inv(Cove) @ ERe.values\n",
    "\n",
    "Wmve\n"
   ]
  },
  {
   "cell_type": "markdown",
   "metadata": {},
   "source": [
    "### Class 11/17 stopped here"
   ]
  },
  {
   "cell_type": "markdown",
   "metadata": {
    "colab_type": "text",
    "id": "0TCDF47nQ1vO"
   },
   "source": [
    "* To find the weights that implement a particular expected return target \n",
    "\n",
    "  $\\begin{align}\n",
    "  \\mu^{target}&=r_f+(1-w_f)E[R^*] \\\\\n",
    "  (1-w_f)&=\\frac{\\mu^{target}-r_f}{E[R^*]} \\\\\n",
    "  &=\\frac{\\mu^{target}-r_f}{W_*'E[R^e]} \\\\\n",
    "  &=\\frac{\\mu^{target}-r_f}{(VAR(R^e)^{-1}E[R^e])'E[R^e]} \\\\\n",
    "  &=\\frac{\\mu^{target}-r_f}{E[R^e]'Var(R^e)^{-1}E[R^e]} \\\\\n",
    "  \\end{align}$\n",
    "\n",
    "> How to choose $w_f$ by targeting a desired level of vol?"
   ]
  },
  {
   "cell_type": "code",
   "execution_count": 120,
   "metadata": {},
   "outputs": [
    {
     "data": {
      "text/plain": [
       "0.3215233641910378"
      ]
     },
     "execution_count": 120,
     "metadata": {},
     "output_type": "execute_result"
    }
   ],
   "source": [
    "(ERe.values.T @ np.linalg.inv(Cove) @ ERe.values)*12"
   ]
  },
  {
   "cell_type": "code",
   "execution_count": 118,
   "metadata": {
    "colab": {
     "base_uri": "https://localhost:8080/",
     "height": 221
    },
    "colab_type": "code",
    "executionInfo": {
     "elapsed": 338,
     "status": "ok",
     "timestamp": 1576527796326,
     "user": {
      "displayName": "yuchi yao",
      "photoUrl": "",
      "userId": "00457884373990713813"
     },
     "user_tz": 300
    },
    "id": "GF5ohGprQ1vO",
    "outputId": "4b707318-25e4-4b95-99fb-4144bbb754f1"
   },
   "outputs": [
    {
     "name": "stdout",
     "output_type": "stream",
     "text": [
      "0.3110193881293913\n"
     ]
    },
    {
     "data": {
      "text/html": [
       "<div>\n",
       "<style scoped>\n",
       "    .dataframe tbody tr th:only-of-type {\n",
       "        vertical-align: middle;\n",
       "    }\n",
       "\n",
       "    .dataframe tbody tr th {\n",
       "        vertical-align: top;\n",
       "    }\n",
       "\n",
       "    .dataframe thead th {\n",
       "        text-align: right;\n",
       "    }\n",
       "</style>\n",
       "<table border=\"1\" class=\"dataframe\">\n",
       "  <thead>\n",
       "    <tr style=\"text-align: right;\">\n",
       "      <th></th>\n",
       "      <th>wghts_int</th>\n",
       "      <th>wgths_int_target</th>\n",
       "    </tr>\n",
       "  </thead>\n",
       "  <tbody>\n",
       "    <tr>\n",
       "      <th>MKTUS</th>\n",
       "      <td>1.835334</td>\n",
       "      <td>0.570824</td>\n",
       "    </tr>\n",
       "    <tr>\n",
       "      <th>BondUS</th>\n",
       "      <td>1.423373</td>\n",
       "      <td>0.442696</td>\n",
       "    </tr>\n",
       "    <tr>\n",
       "      <th>EM</th>\n",
       "      <td>1.605223</td>\n",
       "      <td>0.499255</td>\n",
       "    </tr>\n",
       "    <tr>\n",
       "      <th>MKTxUS</th>\n",
       "      <td>-1.026421</td>\n",
       "      <td>-0.319237</td>\n",
       "    </tr>\n",
       "    <tr>\n",
       "      <th>BondxUS</th>\n",
       "      <td>3.365823</td>\n",
       "      <td>1.046836</td>\n",
       "    </tr>\n",
       "  </tbody>\n",
       "</table>\n",
       "</div>"
      ],
      "text/plain": [
       "         wghts_int  wgths_int_target\n",
       "MKTUS     1.835334          0.570824\n",
       "BondUS    1.423373          0.442696\n",
       "EM        1.605223          0.499255\n",
       "MKTxUS   -1.026421         -0.319237\n",
       "BondxUS   3.365823          1.046836"
      ]
     },
     "execution_count": 118,
     "metadata": {},
     "output_type": "execute_result"
    }
   ],
   "source": [
    "# target ER (excess return)\n",
    "\n",
    "mu_target=0.10/12\n",
    "oneminuswf=(mu_target/(ERe.values.T @ np.linalg.inv(Cove) @ ERe.values))\n",
    "print(oneminuswf)\n",
    "# Here lamb is our 1-wf, which is the total dollar value invested in the risky portfolio\n",
    "\n",
    "# must \n",
    "Wmve['wgths_int_target']=oneminuswf*(np.linalg.inv(Cove) @ ERe.values)\n",
    "Wmve"
   ]
  },
  {
   "cell_type": "markdown",
   "metadata": {
    "colab_type": "text",
    "id": "DIfS3kPiQ1vP"
   },
   "source": [
    "lets compute the domestic mean-variance frontier\n",
    "\n",
    "(we only keep the first two columns MKT +Bonds)"
   ]
  },
  {
   "cell_type": "code",
   "execution_count": 121,
   "metadata": {
    "colab": {
     "base_uri": "https://localhost:8080/",
     "height": 221
    },
    "colab_type": "code",
    "executionInfo": {
     "elapsed": 398,
     "status": "ok",
     "timestamp": 1576527940458,
     "user": {
      "displayName": "yuchi yao",
      "photoUrl": "",
      "userId": "00457884373990713813"
     },
     "user_tz": 300
    },
    "id": "eN0pCBpuQ1vQ",
    "outputId": "1b5f4b29-990d-4174-89fe-21b147356608"
   },
   "outputs": [
    {
     "name": "stdout",
     "output_type": "stream",
     "text": [
      "0.46009875470841877\n"
     ]
    },
    {
     "data": {
      "text/html": [
       "<div>\n",
       "<style scoped>\n",
       "    .dataframe tbody tr th:only-of-type {\n",
       "        vertical-align: middle;\n",
       "    }\n",
       "\n",
       "    .dataframe tbody tr th {\n",
       "        vertical-align: top;\n",
       "    }\n",
       "\n",
       "    .dataframe thead th {\n",
       "        text-align: right;\n",
       "    }\n",
       "</style>\n",
       "<table border=\"1\" class=\"dataframe\">\n",
       "  <thead>\n",
       "    <tr style=\"text-align: right;\">\n",
       "      <th></th>\n",
       "      <th>wghts_int</th>\n",
       "      <th>wgths_int_target</th>\n",
       "      <th>wghts_dom</th>\n",
       "    </tr>\n",
       "  </thead>\n",
       "  <tbody>\n",
       "    <tr>\n",
       "      <th>MKTUS</th>\n",
       "      <td>1.835334</td>\n",
       "      <td>0.570824</td>\n",
       "      <td>2.534954</td>\n",
       "    </tr>\n",
       "    <tr>\n",
       "      <th>BondUS</th>\n",
       "      <td>1.423373</td>\n",
       "      <td>0.442696</td>\n",
       "      <td>1.827591</td>\n",
       "    </tr>\n",
       "    <tr>\n",
       "      <th>EM</th>\n",
       "      <td>1.605223</td>\n",
       "      <td>0.499255</td>\n",
       "      <td>NaN</td>\n",
       "    </tr>\n",
       "    <tr>\n",
       "      <th>MKTxUS</th>\n",
       "      <td>-1.026421</td>\n",
       "      <td>-0.319237</td>\n",
       "      <td>NaN</td>\n",
       "    </tr>\n",
       "    <tr>\n",
       "      <th>BondxUS</th>\n",
       "      <td>3.365823</td>\n",
       "      <td>1.046836</td>\n",
       "      <td>NaN</td>\n",
       "    </tr>\n",
       "  </tbody>\n",
       "</table>\n",
       "</div>"
      ],
      "text/plain": [
       "         wghts_int  wgths_int_target  wghts_dom\n",
       "MKTUS     1.835334          0.570824   2.534954\n",
       "BondUS    1.423373          0.442696   1.827591\n",
       "EM        1.605223          0.499255        NaN\n",
       "MKTxUS   -1.026421         -0.319237        NaN\n",
       "BondxUS   3.365823          1.046836        NaN"
      ]
     },
     "execution_count": 121,
     "metadata": {},
     "output_type": "execute_result"
    }
   ],
   "source": [
    "\n",
    "ERdom=Re[['MKTUS','BondUS']].mean()\n",
    "Covdom=Re[['MKTUS','BondUS']].cov()\n",
    "SR_dom=(ERdom.values.T @ np.linalg.inv(Covdom) @ ERdom.values)**0.5\n",
    "print(SR_dom*12**0.5)\n",
    "Wmvedom= np.linalg.inv(Covdom) @ ERdom.values\n",
    "Wmve.loc[['MKTUS','BondUS'],'wghts_dom']=Wmvedom\n",
    "Wmve"
   ]
  },
  {
   "cell_type": "markdown",
   "metadata": {
    "colab_type": "text",
    "id": "rsvIs4itQ1vR"
   },
   "source": [
    "### Aside: When is it ok to \"normalize\" weights?\n",
    "\n",
    "* To get a bit of intuition we can normalize the weights to add up to 1\n",
    "\n",
    "* Why these weights do not have to add up to 1?\n",
    "\n",
    "* Why is ok to normalize to 1?\n",
    "\n",
    "* What changes when we do that? What does not change?\n",
    "\n",
    "\n",
    "\n"
   ]
  },
  {
   "cell_type": "code",
   "execution_count": 122,
   "metadata": {
    "colab": {
     "base_uri": "https://localhost:8080/",
     "height": 204
    },
    "colab_type": "code",
    "executionInfo": {
     "elapsed": 295,
     "status": "ok",
     "timestamp": 1576527956953,
     "user": {
      "displayName": "yuchi yao",
      "photoUrl": "",
      "userId": "00457884373990713813"
     },
     "user_tz": 300
    },
    "id": "Lu8ZwZU4Q1vR",
    "outputId": "6ae711c5-6a92-4315-bd87-a95daf5819ba"
   },
   "outputs": [
    {
     "data": {
      "text/html": [
       "<div>\n",
       "<style scoped>\n",
       "    .dataframe tbody tr th:only-of-type {\n",
       "        vertical-align: middle;\n",
       "    }\n",
       "\n",
       "    .dataframe tbody tr th {\n",
       "        vertical-align: top;\n",
       "    }\n",
       "\n",
       "    .dataframe thead th {\n",
       "        text-align: right;\n",
       "    }\n",
       "</style>\n",
       "<table border=\"1\" class=\"dataframe\">\n",
       "  <thead>\n",
       "    <tr style=\"text-align: right;\">\n",
       "      <th></th>\n",
       "      <th>wghts_int</th>\n",
       "      <th>wgths_int_target</th>\n",
       "      <th>wghts_dom</th>\n",
       "    </tr>\n",
       "  </thead>\n",
       "  <tbody>\n",
       "    <tr>\n",
       "      <th>MKTUS</th>\n",
       "      <td>0.254790</td>\n",
       "      <td>0.254790</td>\n",
       "      <td>0.581072</td>\n",
       "    </tr>\n",
       "    <tr>\n",
       "      <th>BondUS</th>\n",
       "      <td>0.197599</td>\n",
       "      <td>0.197599</td>\n",
       "      <td>0.418928</td>\n",
       "    </tr>\n",
       "    <tr>\n",
       "      <th>EM</th>\n",
       "      <td>0.222844</td>\n",
       "      <td>0.222844</td>\n",
       "      <td>NaN</td>\n",
       "    </tr>\n",
       "    <tr>\n",
       "      <th>MKTxUS</th>\n",
       "      <td>-0.142493</td>\n",
       "      <td>-0.142493</td>\n",
       "      <td>NaN</td>\n",
       "    </tr>\n",
       "    <tr>\n",
       "      <th>BondxUS</th>\n",
       "      <td>0.467259</td>\n",
       "      <td>0.467259</td>\n",
       "      <td>NaN</td>\n",
       "    </tr>\n",
       "  </tbody>\n",
       "</table>\n",
       "</div>"
      ],
      "text/plain": [
       "         wghts_int  wgths_int_target  wghts_dom\n",
       "MKTUS     0.254790          0.254790   0.581072\n",
       "BondUS    0.197599          0.197599   0.418928\n",
       "EM        0.222844          0.222844        NaN\n",
       "MKTxUS   -0.142493         -0.142493        NaN\n",
       "BondxUS   0.467259          0.467259        NaN"
      ]
     },
     "execution_count": 122,
     "metadata": {},
     "output_type": "execute_result"
    }
   ],
   "source": [
    "\n",
    "Wmve/Wmve.sum()"
   ]
  },
  {
   "cell_type": "code",
   "execution_count": 127,
   "metadata": {
    "colab": {
     "base_uri": "https://localhost:8080/",
     "height": 34
    },
    "colab_type": "code",
    "executionInfo": {
     "elapsed": 279,
     "status": "ok",
     "timestamp": 1576527970603,
     "user": {
      "displayName": "yuchi yao",
      "photoUrl": "",
      "userId": "00457884373990713813"
     },
     "user_tz": 300
    },
    "id": "UsTRG4JrQ1vT",
    "outputId": "7cae8b95-6ea0-4ce2-d571-4b64cee4f0de"
   },
   "outputs": [
    {
     "data": {
      "text/plain": [
       "0.10693154800126692"
      ]
     },
     "execution_count": 127,
     "metadata": {},
     "output_type": "execute_result"
    }
   ],
   "source": [
    "# this difference is the benefits of international diversification\n",
    "\n",
    "(SR_int-SR_dom)*12**0.5"
   ]
  },
  {
   "cell_type": "markdown",
   "metadata": {
    "colab_type": "text",
    "id": "EBka10FEQ1vU"
   },
   "source": [
    "- what does that mean?\n",
    "\n",
    "- it means for example that if you want to target a portfolio with a volatility of 5% per month (about the vol of the US market portfolio), then you get  \n"
   ]
  },
  {
   "cell_type": "code",
   "execution_count": 132,
   "metadata": {},
   "outputs": [],
   "source": [
    "SR_int_y=SR_int*12**0.5\n",
    "SR_dom_y=SR_dom*12**0.5"
   ]
  },
  {
   "cell_type": "code",
   "execution_count": 134,
   "metadata": {},
   "outputs": [
    {
     "data": {
      "text/plain": [
       "0.46009875470841877"
      ]
     },
     "execution_count": 134,
     "metadata": {},
     "output_type": "execute_result"
    }
   ],
   "source": [
    "SR_dom_y"
   ]
  },
  {
   "cell_type": "code",
   "execution_count": 135,
   "metadata": {
    "colab": {
     "base_uri": "https://localhost:8080/",
     "height": 34
    },
    "colab_type": "code",
    "executionInfo": {
     "elapsed": 276,
     "status": "ok",
     "timestamp": 1576528050909,
     "user": {
      "displayName": "yuchi yao",
      "photoUrl": "",
      "userId": "00457884373990713813"
     },
     "user_tz": 300
    },
    "id": "bBKX4z1-Q1vV",
    "outputId": "e4587863-4f01-4271-fd37-17b8e5b0ed64"
   },
   "outputs": [
    {
     "data": {
      "text/plain": [
       "[0.05670303027096857, 0.04600987547084188]"
      ]
     },
     "execution_count": 135,
     "metadata": {},
     "output_type": "execute_result"
    }
   ],
   "source": [
    "# international diversification\n",
    "voltarget=0.1\n",
    "[SR_int_y*voltarget,SR_dom_y*voltarget]\n"
   ]
  },
  {
   "cell_type": "code",
   "execution_count": 136,
   "metadata": {
    "colab": {
     "base_uri": "https://localhost:8080/",
     "height": 34
    },
    "colab_type": "code",
    "executionInfo": {
     "elapsed": 279,
     "status": "ok",
     "timestamp": 1576528077984,
     "user": {
      "displayName": "yuchi yao",
      "photoUrl": "",
      "userId": "00457884373990713813"
     },
     "user_tz": 300
    },
    "id": "dJFzjTUUQ1vW",
    "outputId": "11da9448-131c-4d63-891e-826aa9508b4f"
   },
   "outputs": [
    {
     "data": {
      "text/plain": [
       "0.01069315480012669"
      ]
     },
     "execution_count": 136,
     "metadata": {},
     "output_type": "execute_result"
    }
   ],
   "source": [
    "# annualized  your returns increase by \n",
    "(SR_int_y*voltarget -SR_dom_y*voltarget)"
   ]
  },
  {
   "cell_type": "code",
   "execution_count": 137,
   "metadata": {
    "colab": {
     "base_uri": "https://localhost:8080/",
     "height": 34
    },
    "colab_type": "code",
    "executionInfo": {
     "elapsed": 305,
     "status": "ok",
     "timestamp": 1576528087916,
     "user": {
      "displayName": "yuchi yao",
      "photoUrl": "",
      "userId": "00457884373990713813"
     },
     "user_tz": 300
    },
    "id": "HvoT5gPtQ1vX",
    "outputId": "a0244148-7c6e-4ad7-8b30-335938dde0ec",
    "scrolled": true
   },
   "outputs": [
    {
     "data": {
      "text/plain": [
       "0.23240999221793873"
      ]
     },
     "execution_count": 137,
     "metadata": {},
     "output_type": "execute_result"
    }
   ],
   "source": [
    "# in percentual increase it is very meaningful\n",
    "(SR_int_y*voltarget -SR_dom_y*voltarget)/(SR_dom_y*voltarget)"
   ]
  }
 ],
 "metadata": {
  "colab": {
   "collapsed_sections": [],
   "name": "Notebook 4.ipynb",
   "provenance": [],
   "toc_visible": true
  },
  "kernelspec": {
   "display_name": "Python 3",
   "language": "python",
   "name": "python3"
  },
  "language_info": {
   "codemirror_mode": {
    "name": "ipython",
    "version": 3
   },
   "file_extension": ".py",
   "mimetype": "text/x-python",
   "name": "python",
   "nbconvert_exporter": "python",
   "pygments_lexer": "ipython3",
   "version": "3.8.5"
  }
 },
 "nbformat": 4,
 "nbformat_minor": 4
}
