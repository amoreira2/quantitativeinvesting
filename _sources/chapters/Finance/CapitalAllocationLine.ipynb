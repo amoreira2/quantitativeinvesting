{
 "cells": [
  {
   "cell_type": "code",
   "execution_count": 1,
   "metadata": {},
   "outputs": [
    {
     "name": "stdout",
     "output_type": "stream",
     "text": [
      "<class 'pandas.core.frame.DataFrame'>\n",
      "DatetimeIndex: 647 entries, 1963-02-28 to 2016-12-31\n",
      "Data columns (total 6 columns):\n",
      " #   Column            Non-Null Count  Dtype  \n",
      "---  ------            --------------  -----  \n",
      " 0   RF                647 non-null    float64\n",
      " 1   MKT               647 non-null    float64\n",
      " 2   USA30yearGovBond  647 non-null    float64\n",
      " 3   EmergingMarkets   647 non-null    float64\n",
      " 4   WorldxUSA         647 non-null    float64\n",
      " 5   WorldxUSAGovBond  646 non-null    float64\n",
      "dtypes: float64(6)\n",
      "memory usage: 35.4 KB\n"
     ]
    }
   ],
   "source": [
    "import pandas as pd\n",
    "import numpy as np\n",
    "import matplotlib.pyplot as plt\n",
    "%matplotlib inline\n",
    "url=\"https://raw.githubusercontent.com/amoreira2/Lectures/main/assets/data/GlobalFinMonthly.csv\"\n",
    "Data = pd.read_csv(url,na_values=-99)\n",
    "Data['Date']=pd.to_datetime(Data['Date'])\n",
    "Data=Data.set_index(['Date'])\n",
    "df=Data[['RF','MKT']].copy()\n",
    "Data.info()"
   ]
  },
  {
   "cell_type": "markdown",
   "metadata": {
    "colab_type": "text",
    "id": "x5bPnG2RQ1tw"
   },
   "source": [
    "# The Capital Allocation Line: Adding the Risk-free rate\n",
    "\n"
   ]
  },
  {
   "cell_type": "markdown",
   "metadata": {
    "colab_type": "text",
    "id": "FVQH60MRQ1uc"
   },
   "source": [
    "\n",
    "* So far we looked at an investor that is fully invested across risky assets\n",
    "\n",
    "* In this case, the only way that an investor can change the risk profile of her portfolio is by changing the relative weights across the risky assets\n",
    "\n",
    "* In practice investors can invest in the risk-free asset, which has zero volatility. \n",
    "\n",
    "* This means that they can potentially derisk their portfolio by keeping the relative weights across assets constant and simply invest more in the risk-free asset\n",
    "\n",
    "* So we will now work with excess returns (which we study in Notebook 3) and the risk-free rate, separating cleaning the risk-free component of these risky asset returns"
   ]
  },
  {
   "cell_type": "markdown",
   "metadata": {
    "colab_type": "text",
    "id": "1QND0trtvw_X"
   },
   "source": [
    "**Constructing excess returns**"
   ]
  },
  {
   "cell_type": "code",
   "execution_count": 2,
   "metadata": {
    "colab": {
     "base_uri": "https://localhost:8080/",
     "height": 235
    },
    "colab_type": "code",
    "executionInfo": {
     "elapsed": 259,
     "status": "ok",
     "timestamp": 1576511208936,
     "user": {
      "displayName": "yuchi yao",
      "photoUrl": "",
      "userId": "00457884373990713813"
     },
     "user_tz": 300
    },
    "id": "HecbRN4NQ1ud",
    "outputId": "59701e08-c4f1-4a10-d426-98d486134d9e"
   },
   "outputs": [
    {
     "data": {
      "text/html": [
       "<div>\n",
       "<style scoped>\n",
       "    .dataframe tbody tr th:only-of-type {\n",
       "        vertical-align: middle;\n",
       "    }\n",
       "\n",
       "    .dataframe tbody tr th {\n",
       "        vertical-align: top;\n",
       "    }\n",
       "\n",
       "    .dataframe thead th {\n",
       "        text-align: right;\n",
       "    }\n",
       "</style>\n",
       "<table border=\"1\" class=\"dataframe\">\n",
       "  <thead>\n",
       "    <tr style=\"text-align: right;\">\n",
       "      <th></th>\n",
       "      <th>MKT</th>\n",
       "      <th>WorldxUSA</th>\n",
       "    </tr>\n",
       "    <tr>\n",
       "      <th>Date</th>\n",
       "      <th></th>\n",
       "      <th></th>\n",
       "    </tr>\n",
       "  </thead>\n",
       "  <tbody>\n",
       "    <tr>\n",
       "      <th>2016-08-31</th>\n",
       "      <td>0.0050</td>\n",
       "      <td>0.000638</td>\n",
       "    </tr>\n",
       "    <tr>\n",
       "      <th>2016-09-30</th>\n",
       "      <td>0.0025</td>\n",
       "      <td>0.012536</td>\n",
       "    </tr>\n",
       "    <tr>\n",
       "      <th>2016-10-31</th>\n",
       "      <td>-0.0202</td>\n",
       "      <td>-0.020583</td>\n",
       "    </tr>\n",
       "    <tr>\n",
       "      <th>2016-11-30</th>\n",
       "      <td>0.0486</td>\n",
       "      <td>-0.019898</td>\n",
       "    </tr>\n",
       "    <tr>\n",
       "      <th>2016-12-31</th>\n",
       "      <td>0.0182</td>\n",
       "      <td>0.034083</td>\n",
       "    </tr>\n",
       "  </tbody>\n",
       "</table>\n",
       "</div>"
      ],
      "text/plain": [
       "               MKT  WorldxUSA\n",
       "Date                         \n",
       "2016-08-31  0.0050   0.000638\n",
       "2016-09-30  0.0025   0.012536\n",
       "2016-10-31 -0.0202  -0.020583\n",
       "2016-11-30  0.0486  -0.019898\n",
       "2016-12-31  0.0182   0.034083"
      ]
     },
     "execution_count": 2,
     "metadata": {},
     "output_type": "execute_result"
    }
   ],
   "source": [
    "# here are the excess returns Re=R-rf\n",
    "Re=(Data[['RF','MKT','WorldxUSA']]).subtract(Data['RF'],axis='index').drop('RF',axis=1)\n",
    "\n",
    "Re.tail()"
   ]
  },
  {
   "cell_type": "code",
   "execution_count": 3,
   "metadata": {
    "colab": {
     "base_uri": "https://localhost:8080/",
     "height": 279
    },
    "colab_type": "code",
    "executionInfo": {
     "elapsed": 435,
     "status": "ok",
     "timestamp": 1576511214246,
     "user": {
      "displayName": "yuchi yao",
      "photoUrl": "",
      "userId": "00457884373990713813"
     },
     "user_tz": 300
    },
    "id": "5QrHwOmSmLvj",
    "outputId": "cb300405-8e31-4ca0-e031-1a11a8a8b254"
   },
   "outputs": [
    {
     "data": {
      "image/png": "[encoded data removed]",
      "text/plain": [
       "<Figure size 432x288 with 1 Axes>"
      ]
     },
     "metadata": {
      "needs_background": "light"
     },
     "output_type": "display_data"
    }
   ],
   "source": [
    "UsW=[]\n",
    "w=np.arange(0,1.05,0.05)\n",
    "for x in w:\n",
    "    W=np.array([x,1-x])\n",
    "    UsW.append([1-x,(W.T @ Re.cov() @ W*12)**0.5,W.T @ np.array(Re.mean())*12])\n",
    "UsW=np.array(UsW)\n",
    "plt.scatter(UsW[:,1],UsW[:,2])\n",
    "plt.xlabel('Volatility')\n",
    "plt.ylabel('Average Excess return')\n",
    "# plt.ylim([0,0.062])\n",
    "# plt.xlim([0,0.17])\n",
    "plt.show()"
   ]
  },
  {
   "cell_type": "markdown",
   "metadata": {
    "colab_type": "text",
    "id": "q5grqTTy8MZz"
   },
   "source": [
    "> Why not compute the covariance matrix including the risk-free asset?\n",
    "\n",
    "\n",
    "\n",
    "    "
   ]
  },
  {
   "cell_type": "markdown",
   "metadata": {
    "colab_type": "text",
    "id": "EiCFFLN1v8MP"
   },
   "source": [
    "**Adding the Risk-free Rate**"
   ]
  },
  {
   "cell_type": "markdown",
   "metadata": {},
   "source": [
    "construct vector of weights\n",
    "\n",
    "x determines composition of risky portfolio (x in the US market, 1-x in international market)\n",
    "\n",
    "just as above\n",
    "\n",
    "And xf determines allocation between riks-free and risky-portfolio (xf in the riskfree and 1-xf on the risky portfolio)"
   ]
  },
  {
   "cell_type": "code",
   "execution_count": 4,
   "metadata": {},
   "outputs": [
    {
     "name": "stdout",
     "output_type": "stream",
     "text": [
      "[0.  0.1 0.2 0.3 0.4 0.5 0.6 0.7 0.8 0.9 1. ]\n",
      "[0.  0.1 0.2 0.3 0.4 0.5 0.6 0.7 0.8 0.9 1. ]\n"
     ]
    }
   ],
   "source": [
    "\n",
    "w=np.arange(0,1.1,0.1)\n",
    "wf=np.arange(0,1.1,0.1)\n",
    "print(w)\n",
    "print(wf)\n",
    "# choosing some risk-free rate\n",
    "\n",
    "rf=1/100/12\n",
    "\n",
    "# I am settign to 1% per year. Divide by 100 to put in percent as the return data\n",
    "# and divided by 12 to make it monthly as the return data"
   ]
  },
  {
   "cell_type": "code",
   "execution_count": 5,
   "metadata": {
    "colab": {},
    "colab_type": "code",
    "id": "Y6XGCEMDQ1uq"
   },
   "outputs": [],
   "source": [
    "UsW=[]\n",
    "for xf in wf:\n",
    "    for x in w:\n",
    "        #construct risky portfolio\n",
    "        W=np.array([x,1-x])\n",
    "        #variance of risky portfolio\n",
    "        varW=W.T @ Re.cov() @ W\n",
    "        # variance of final portfolio\n",
    "        var=(1-xf)**2*(varW)\n",
    "        #expected excess return of risky portfolio\n",
    "        erW=(W.T @ np.array(Re.mean()))\n",
    "        # expected return of finanl portfolio \n",
    "        er=(W.T @ np.array(Re.mean()))*(1-xf)+rf\n",
    "        UsW.append([xf,1-x,var**0.5,er])\n"
   ]
  },
  {
   "cell_type": "markdown",
   "metadata": {
    "colab_type": "text",
    "id": "QPlSoXuFh4O6"
   },
   "source": [
    "Note that the expected return term is `+rf` instead of `+rf*xf` because we are using excess return instead of return. To better understand, we write out the expected return in the following way where $RW$ below is the return on the risky portfolio\n",
    "\n",
    "$\n",
    "\\begin{align}\n",
    "E[r_p]&=x_f \\times R_f + (1-x_f) \\times E[R_W] \\\\\n",
    "&= x_f \\times r_f + (1-x_f) \\times E[(R_W-r_f)] + (1-x_f) \\times r_f \\\\\n",
    "&= (1-x_f) \\times E[(R_W-r_f)] + r_f \\\\\n",
    "&=(1-x_f) \\times E[R_W^e] + r_f\n",
    "\\end{align}\n",
    "$\n",
    "\n"
   ]
  },
  {
   "cell_type": "code",
   "execution_count": 6,
   "metadata": {
    "colab": {
     "base_uri": "https://localhost:8080/",
     "height": 279
    },
    "colab_type": "code",
    "executionInfo": {
     "elapsed": 469,
     "status": "ok",
     "timestamp": 1576513524888,
     "user": {
      "displayName": "yuchi yao",
      "photoUrl": "",
      "userId": "00457884373990713813"
     },
     "user_tz": 300
    },
    "id": "P9h4huMph0LP",
    "outputId": "679856d5-207a-432c-8398-d89b66547f0f"
   },
   "outputs": [
    {
     "data": {
      "image/png": "[encoded data removed]",
      "text/plain": [
       "<Figure size 432x288 with 1 Axes>"
      ]
     },
     "metadata": {
      "needs_background": "light"
     },
     "output_type": "display_data"
    }
   ],
   "source": [
    "UsW=np.array(UsW)\n",
    "plt.scatter(UsW[:,2],UsW[:,3],color='red')\n",
    "plt.scatter(UsW[UsW[:,0]==0,2],UsW[UsW[:,0]==0,3],color='blue')\n",
    "plt.xlabel('Volatility')\n",
    "plt.ylabel('Average return')\n",
    "\n",
    "plt.show()"
   ]
  },
  {
   "cell_type": "markdown",
   "metadata": {
    "colab_type": "text",
    "id": "ho3B6ZWZQ1us"
   },
   "source": [
    "* blue is the xf=0 case, where the portfolios is fully invested in the risky-portfolio\n",
    "\n",
    "* How to read this plot? Say you want a portoflio with at most 0.03 monthly volatility. What does this plot tell you?\n",
    "\n",
    "* Which units are this? Can you convert it to annual units? How?\n",
    "\n",
    "* what is noteworthy about the shape of these different curves?"
   ]
  },
  {
   "cell_type": "code",
   "execution_count": 7,
   "metadata": {
    "colab": {
     "base_uri": "https://localhost:8080/",
     "height": 279
    },
    "colab_type": "code",
    "executionInfo": {
     "elapsed": 570,
     "status": "ok",
     "timestamp": 1576511259943,
     "user": {
      "displayName": "yuchi yao",
      "photoUrl": "",
      "userId": "00457884373990713813"
     },
     "user_tz": 300
    },
    "id": "_nkLxjv4Q1us",
    "outputId": "0fff304b-3f51-4362-fa68-346e64e45c59"
   },
   "outputs": [
    {
     "data": {
      "image/png": "[encoded data removed]",
      "text/plain": [
       "<Figure size 432x288 with 1 Axes>"
      ]
     },
     "metadata": {
      "needs_background": "light"
     },
     "output_type": "display_data"
    }
   ],
   "source": [
    "# in \"variance space\"\n",
    "\n",
    "plt.scatter(UsW[:,2]**2,UsW[:,3],color='red')\n",
    "plt.scatter(UsW[0:11,2]**2,UsW[0:11,3],color='blue')\n",
    "plt.xlabel('Variance')\n",
    "plt.ylabel('Average return')\n",
    "\n",
    "plt.show()"
   ]
  },
  {
   "cell_type": "markdown",
   "metadata": {
    "colab_type": "text",
    "id": "9kg32AeoQ1uu"
   },
   "source": [
    "* It is clear that someone that would like a lower risk profile can achieve this objective through the use of the risk-free asset without impacting expected returns as much\n",
    "\n",
    "* What about investors that would like to take more risk, can they benefit of the risk-free asset?\n",
    "\n",
    "* yes, if they can borrow at the risk-free rate"
   ]
  },
  {
   "cell_type": "code",
   "execution_count": 8,
   "metadata": {
    "colab": {
     "base_uri": "https://localhost:8080/",
     "height": 279
    },
    "colab_type": "code",
    "executionInfo": {
     "elapsed": 724,
     "status": "ok",
     "timestamp": 1576512258164,
     "user": {
      "displayName": "yuchi yao",
      "photoUrl": "",
      "userId": "00457884373990713813"
     },
     "user_tz": 300
    },
    "id": "-oLnV1A_Q1uv",
    "outputId": "b3b47137-ae3a-4e54-bf07-fe95cf4d7f6d"
   },
   "outputs": [
    {
     "data": {
      "image/png": "[encoded data removed]",
      "text/plain": [
       "<Figure size 432x288 with 1 Axes>"
      ]
     },
     "metadata": {
      "needs_background": "light"
     },
     "output_type": "display_data"
    }
   ],
   "source": [
    "UsW=[]\n",
    "w=np.arange(0,1.1,0.1)\n",
    "wf=np.arange(0,1.1,0.1)\n",
    "\n",
    "for xf in wf:\n",
    "    for x in w:\n",
    "        W=np.array([x,1-x])\n",
    "        UsW.append([xf,1-x,(1-xf)*(W.T @ Re.cov() @ W)**0.5,(W.T @ np.array(Re.mean()))*(1-xf)+rf])\n",
    "\n",
    "w=np.arange(0,1.1,0.1)\n",
    "wf=np.arange(-0.5,0,0.1)\n",
    "\n",
    "for xf in wf:\n",
    "    for x in w:\n",
    "        W=np.array([x,1-x])\n",
    "        UsW.append([xf,1-x,(1-xf)*(W.T @ Re.cov() @ W)**0.5,(W.T @ np.array(Re.mean()))*(1-xf)+rf])\n",
    "        \n",
    "        \n",
    "UsW=np.array(UsW)\n",
    "\n",
    "plt.scatter(UsW[:,2],UsW[:,3],color='red')\n",
    "plt.scatter(UsW[UsW[:,0]==0,2],UsW[UsW[:,0]==0,3],color='blue')\n",
    "plt.scatter(UsW[UsW[:,0]<0,2],UsW[UsW[:,0]<0,3],color='orange')\n",
    "plt.xlabel('Volatility')\n",
    "plt.ylabel('Average return')\n",
    "\n",
    "plt.show()"
   ]
  },
  {
   "cell_type": "markdown",
   "metadata": {
    "colab_type": "text",
    "id": "Vqlge2vhQ1uw"
   },
   "source": [
    "* What is the intepretation of a negative $w_f$? Doe it make sense?\n",
    "\n",
    "* What is the interpretation of a $w_f$ above 1? Does it make sense?\n",
    "\n",
    "* Is the investors likely to be able to borrow at the risk-free rate?"
   ]
  }
 ],
 "metadata": {
  "colab": {
   "collapsed_sections": [],
   "name": "Notebook 4.ipynb",
   "provenance": [],
   "toc_visible": true
  },
  "kernelspec": {
   "display_name": "Python 3",
   "language": "python",
   "name": "python3"
  },
  "language_info": {
   "codemirror_mode": {
    "name": "ipython",
    "version": 3
   },
   "file_extension": ".py",
   "mimetype": "text/x-python",
   "name": "python",
   "nbconvert_exporter": "python",
   "pygments_lexer": "ipython3",
   "version": "3.8.5"
  }
 },
 "nbformat": 4,
 "nbformat_minor": 4
}
