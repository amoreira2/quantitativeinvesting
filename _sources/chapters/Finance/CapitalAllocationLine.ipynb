{
 "cells": [
  {
   "cell_type": "code",
   "execution_count": 4,
   "metadata": {},
   "outputs": [
    {
     "name": "stdout",
     "output_type": "stream",
     "text": [
      "<class 'pandas.core.frame.DataFrame'>\n",
      "DatetimeIndex: 647 entries, 1963-02-28 to 2016-12-31\n",
      "Data columns (total 6 columns):\n",
      " #   Column            Non-Null Count  Dtype  \n",
      "---  ------            --------------  -----  \n",
      " 0   RF                647 non-null    float64\n",
      " 1   MKT               647 non-null    float64\n",
      " 2   USA30yearGovBond  647 non-null    float64\n",
      " 3   EmergingMarkets   647 non-null    float64\n",
      " 4   WorldxUSA         647 non-null    float64\n",
      " 5   WorldxUSAGovBond  646 non-null    float64\n",
      "dtypes: float64(6)\n",
      "memory usage: 35.4 KB\n"
     ]
    }
   ],
   "source": [
    "import pandas as pd\n",
    "import numpy as np\n",
    "import matplotlib.pyplot as plt\n",
    "%matplotlib inline\n",
    "url=\"https://raw.githubusercontent.com/amoreira2/Lectures/main/assets/data/GlobalFinMonthly.csv\"\n",
    "Data = pd.read_csv(url,na_values=-99)\n",
    "Data['Date']=pd.to_datetime(Data['Date'])\n",
    "Data=Data.set_index(['Date'])\n",
    "df=Data[['RF','MKT']].copy()\n",
    "Data.info()"
   ]
  },
  {
   "cell_type": "markdown",
   "metadata": {
    "colab_type": "text",
    "id": "x5bPnG2RQ1tw"
   },
   "source": [
    "# The Capital Allocation Line: Adding the Risk-free rate\n",
    "\n"
   ]
  },
  {
   "cell_type": "markdown",
   "metadata": {
    "colab_type": "text",
    "id": "FVQH60MRQ1uc"
   },
   "source": [
    "\n",
    "* So far we looked at an investor that is fully invested across risky assets\n",
    "\n",
    "* In this case, the only way that an investor can change the risk profile of her portfolio is by changing the relative weights across the risky assets\n",
    "\n",
    "* In practice investors can invest in the risk-free asset, which has zero volatility. \n",
    "\n",
    "* This means that they can potentially derisk their portfolio by keeping the relative weights across assets constant and simply invest more in the risk-free asset\n",
    "\n",
    "* So we will now work with excess returns and the risk-free rate, separating cleaning the risk-free component of these risky asset returns\n",
    "\n",
    "* **this has the added benefit of cleanly separate what needs estiamting (average excess returns of risky assets and their covariances) from the level of the risk-free rate at a given point in time whcih is known**"
   ]
  },
  {
   "cell_type": "markdown",
   "metadata": {
    "colab_type": "text",
    "id": "1QND0trtvw_X"
   },
   "source": [
    "**Constructing excess returns**"
   ]
  },
  {
   "cell_type": "code",
   "execution_count": 5,
   "metadata": {
    "colab": {
     "base_uri": "https://localhost:8080/",
     "height": 235
    },
    "colab_type": "code",
    "executionInfo": {
     "elapsed": 259,
     "status": "ok",
     "timestamp": 1576511208936,
     "user": {
      "displayName": "yuchi yao",
      "photoUrl": "",
      "userId": "00457884373990713813"
     },
     "user_tz": 300
    },
    "id": "HecbRN4NQ1ud",
    "outputId": "59701e08-c4f1-4a10-d426-98d486134d9e"
   },
   "outputs": [
    {
     "data": {
      "text/html": [
       "<div>\n",
       "<style scoped>\n",
       "    .dataframe tbody tr th:only-of-type {\n",
       "        vertical-align: middle;\n",
       "    }\n",
       "\n",
       "    .dataframe tbody tr th {\n",
       "        vertical-align: top;\n",
       "    }\n",
       "\n",
       "    .dataframe thead th {\n",
       "        text-align: right;\n",
       "    }\n",
       "</style>\n",
       "<table border=\"1\" class=\"dataframe\">\n",
       "  <thead>\n",
       "    <tr style=\"text-align: right;\">\n",
       "      <th></th>\n",
       "      <th>MKT</th>\n",
       "      <th>WorldxUSA</th>\n",
       "    </tr>\n",
       "    <tr>\n",
       "      <th>Date</th>\n",
       "      <th></th>\n",
       "      <th></th>\n",
       "    </tr>\n",
       "  </thead>\n",
       "  <tbody>\n",
       "    <tr>\n",
       "      <th>2016-08-31</th>\n",
       "      <td>0.0050</td>\n",
       "      <td>0.000638</td>\n",
       "    </tr>\n",
       "    <tr>\n",
       "      <th>2016-09-30</th>\n",
       "      <td>0.0025</td>\n",
       "      <td>0.012536</td>\n",
       "    </tr>\n",
       "    <tr>\n",
       "      <th>2016-10-31</th>\n",
       "      <td>-0.0202</td>\n",
       "      <td>-0.020583</td>\n",
       "    </tr>\n",
       "    <tr>\n",
       "      <th>2016-11-30</th>\n",
       "      <td>0.0486</td>\n",
       "      <td>-0.019898</td>\n",
       "    </tr>\n",
       "    <tr>\n",
       "      <th>2016-12-31</th>\n",
       "      <td>0.0182</td>\n",
       "      <td>0.034083</td>\n",
       "    </tr>\n",
       "  </tbody>\n",
       "</table>\n",
       "</div>"
      ],
      "text/plain": [
       "               MKT  WorldxUSA\n",
       "Date                         \n",
       "2016-08-31  0.0050   0.000638\n",
       "2016-09-30  0.0025   0.012536\n",
       "2016-10-31 -0.0202  -0.020583\n",
       "2016-11-30  0.0486  -0.019898\n",
       "2016-12-31  0.0182   0.034083"
      ]
     },
     "execution_count": 5,
     "metadata": {},
     "output_type": "execute_result"
    }
   ],
   "source": [
    "# (select three assets) (subtract the risk-free asset) (drop the risk-free asset)\n",
    "# note axis parameters telling along whcih axes the subtraction adn droping occurs.\n",
    "#Try ommiting each axis paraemtner and see what you get\n",
    "\n",
    "Re=(Data[['RF','MKT','WorldxUSA']]).subtract(Data['RF'],axis='index').drop('RF',axis=1)\n",
    "\n",
    "Re.tail()"
   ]
  },
  {
   "cell_type": "code",
   "execution_count": 6,
   "metadata": {
    "colab": {
     "base_uri": "https://localhost:8080/",
     "height": 279
    },
    "colab_type": "code",
    "executionInfo": {
     "elapsed": 435,
     "status": "ok",
     "timestamp": 1576511214246,
     "user": {
      "displayName": "yuchi yao",
      "photoUrl": "",
      "userId": "00457884373990713813"
     },
     "user_tz": 300
    },
    "id": "5QrHwOmSmLvj",
    "outputId": "cb300405-8e31-4ca0-e031-1a11a8a8b254"
   },
   "outputs": [
    {
     "data": {
      "image/png": "[encoded data removed]",
      "text/plain": [
       "<Figure size 432x288 with 1 Axes>"
      ]
     },
     "metadata": {
      "needs_background": "light"
     },
     "output_type": "display_data"
    }
   ],
   "source": [
    "UsW=[]\n",
    "w=np.arange(0,1.05,0.05)\n",
    "for x in w:\n",
    "    W=np.array([x,1-x])\n",
    "    UsW.append([1-x,(W.T @ Re.cov() @ W*12)**0.5,W.T @ np.array(Re.mean())*12])\n",
    "UsW=np.array(UsW)\n",
    "plt.scatter(UsW[:,1],UsW[:,2])\n",
    "plt.xlabel('Volatility')\n",
    "plt.ylabel('Average Excess return')\n",
    "# plt.ylim([0,0.062])\n",
    "# plt.xlim([0,0.17])\n",
    "plt.show()"
   ]
  },
  {
   "cell_type": "markdown",
   "metadata": {
    "colab_type": "text",
    "id": "q5grqTTy8MZz"
   },
   "source": [
    "> Why not compute the covariance matrix including the risk-free asset?\n",
    "\n",
    "\n",
    "\n",
    "    "
   ]
  },
  {
   "cell_type": "markdown",
   "metadata": {
    "colab_type": "text",
    "id": "EiCFFLN1v8MP"
   },
   "source": [
    "**Adding the Risk-free Rate**"
   ]
  },
  {
   "cell_type": "markdown",
   "metadata": {},
   "source": [
    "construct vector of weights\n",
    "\n",
    "x determines composition of risky portfolio (x in the US market, 1-x in international market)\n",
    "\n",
    "just as above\n",
    "\n",
    "And xf determines allocation between riks-free and risky-portfolio (xf in the riskfree and 1-xf on the risky portfolio)"
   ]
  },
  {
   "cell_type": "markdown",
   "metadata": {
    "colab_type": "text",
    "id": "QPlSoXuFh4O6"
   },
   "source": [
    "Note that the expected return term is `+rf` instead of `+rf*xf` because we are using excess return instead of return. To better understand, we write out the expected return in the following way where $R_W$ below is the return on the risky portfolio\n",
    "\n",
    "\n",
    "$\n",
    "\\begin{align}\n",
    "r_p&=x_f \\times R_f + (1-x_f) \\times R_W \\\\\n",
    "&= x_f \\times R_f + (1-x_f) \\times E[(R_W-R_f)] + (1-x_f) \\times R_f \\\\\n",
    "&= (1-x_f) \\times (R_W-R_f)] + R_f \\\\\n",
    "&=(1-x_f) \\times R_W^e + R_f\n",
    "\\end{align}\n",
    "$\n",
    "\n",
    "where $R^e_W$ is the **excess return** on the risky portolio.\n",
    "$\n",
    "\n",
    "Thus we can write:\n",
    "\n",
    "\\begin{align}\n",
    "E[r_p]&=E[(1-x_f) \\times R_W^e + R_f]\\\\\n",
    "E[r_p]&=(1-x_f) \\times E[R_W^e] + R_f\n",
    "\\end{align}\n",
    "$\n",
    "\n",
    "Note also the math for the variance of the portfolio which is particular case of what we learn in the portfolio math chapter but with a zero volatility asset:\n",
    "\n",
    "$\n",
    "\\begin{align}\n",
    "Var[r_p]&=Var[(1-x_f) \\times R_W^e + R_f] \\\\\n",
    "Var[r_p]&=Var[(1-x_f) \\times R_W^e] \\\\\n",
    "&= (1-x_f)^2 Var[R_W^e]  \n",
    "\\end{align}\n",
    "$\n",
    "\n",
    "\n",
    "And the volatility (also called standard deviation\n",
    "\n",
    "\n",
    "$\n",
    "\\begin{align}\n",
    "STD[r_p]&=\\sqrt{Var[r_p]}\\\\\n",
    "&=\\sqrt{Var[(1-x_f) \\times R_W^e + R_f]} \\\\\n",
    "&=\\sqrt{Var[(1-x_f) \\times R_W^e]} \\\\\n",
    "&= \\sqrt{(1-x_f)^2 Var[R_W^e]}\\\\  \n",
    "&= \\sqrt{(1-x_f)^2}\\sqrt{ Var[R_W^e]}\\\\\n",
    "&= {(1-x_f)}{ STD[R_W^e]}\n",
    "\\end{align}\n",
    "$"
   ]
  },
  {
   "cell_type": "markdown",
   "metadata": {},
   "source": [
    "LEts start by combining one asset, say the US market with the risk-free rate using different weights on the risk-free rate and this particular risk portfolio"
   ]
  },
  {
   "cell_type": "code",
   "execution_count": 22,
   "metadata": {},
   "outputs": [
    {
     "name": "stdout",
     "output_type": "stream",
     "text": [
      "[0.  0.1 0.2 0.3 0.4 0.5 0.6 0.7 0.8 0.9 1. ]\n"
     ]
    }
   ],
   "source": [
    "\n",
    "\n",
    "wf=np.arange(0,1.1,0.1)\n",
    "\n",
    "print(wf)\n",
    "# choosing some risk-free rate\n",
    "\n",
    "rf=1/100/12\n",
    "\n",
    "# I am settign to 1% per year. Divide by 100 to put in percent as the return data\n",
    "# and divided by 12 to make it monthly as the return data"
   ]
  },
  {
   "cell_type": "markdown",
   "metadata": {},
   "source": [
    "We know compute the averagereturn and the population volatility/variance for each of the portfolios associated with the weights in $wf$"
   ]
  },
  {
   "cell_type": "code",
   "execution_count": 18,
   "metadata": {},
   "outputs": [
    {
     "data": {
      "text/plain": [
       "[[0.0, 0, 0.044135871293866175, 0.005973673364245234],\n",
       " [0.1, 0, 0.03972228416447956, 0.005459639361154045],\n",
       " [0.2, 0, 0.03530869703509294, 0.004945605358062854],\n",
       " [0.30000000000000004, 0, 0.030895109905706316, 0.004431571354971664],\n",
       " [0.4, 0, 0.026481522776319703, 0.003917537351880474],\n",
       " [0.5, 0, 0.022067935646933087, 0.003403503348789284],\n",
       " [0.6000000000000001, 0, 0.017654348517546464, 0.0028894693456980934],\n",
       " [0.7000000000000001, 0, 0.013240761388159848, 0.0023754353426069033],\n",
       " [0.8, 0, 0.008827174258773232, 0.0018614013395157132],\n",
       " [0.9, 0, 0.004413587129386616, 0.0013473673364245234],\n",
       " [1.0, 0, 0.0, 0.0008333333333333334]]"
      ]
     },
     "execution_count": 18,
     "metadata": {},
     "output_type": "execute_result"
    }
   ],
   "source": [
    "UsW=[]\n",
    "for xf in wf:\n",
    "\n",
    "        varW=Re.var().iloc[0]\n",
    "        \n",
    "        # variance of final portfolio since xf is the weight on the risk-free rate \n",
    "        # so 1-xf is the weight on the risky asset\n",
    "        var=(1-xf)**2*(varW)\n",
    "        #expected excess return of risky portfolio\n",
    "        erW=Re.mean().iloc[0]\n",
    "        \n",
    "        # expected return of finanl portfolio \n",
    "        er=erW*(1-xf)+rf\n",
    "        UsW.append([xf,0,var**0.5,er])\n",
    "UsW"
   ]
  },
  {
   "cell_type": "markdown",
   "metadata": {},
   "source": [
    "Lets now plot the resulting average return against sample volatility and variance"
   ]
  },
  {
   "cell_type": "code",
   "execution_count": 21,
   "metadata": {},
   "outputs": [
    {
     "data": {
      "text/plain": [
       "Text(0, 0.5, 'Average return')"
      ]
     },
     "execution_count": 21,
     "metadata": {},
     "output_type": "execute_result"
    },
    {
     "data": {
      "image/png": "[encoded data removed]",
      "text/plain": [
       "<Figure size 432x288 with 1 Axes>"
      ]
     },
     "metadata": {
      "needs_background": "light"
     },
     "output_type": "display_data"
    },
    {
     "data": {
      "image/png": "[encoded data removed]",
      "text/plain": [
       "<Figure size 432x288 with 1 Axes>"
      ]
     },
     "metadata": {
      "needs_background": "light"
     },
     "output_type": "display_data"
    }
   ],
   "source": [
    "UsW=np.array(UsW)\n",
    "# 2 is selecting the column with the volatility and 3 is selecting the column with the average excess return\n",
    "fig, ax = plt.subplots()\n",
    "\n",
    "ax.scatter(UsW[:,2],UsW[:,3],color='red')\n",
    "# below I am using the boolean indexing UsW[:,0]==0 to select only portfolio with zero weight on the risk-free asset and plotting it in blue.\n",
    "# recall that column 0 has the position on the risk-free asset\n",
    "\n",
    "plt.xlabel('Sample Volatility')\n",
    "plt.ylabel('Average return')\n",
    "\n",
    "fig, ax = plt.subplots()\n",
    "\n",
    "ax.scatter(UsW[:,2]**2,UsW[:,3],color='red')\n",
    "# below I am using the boolean indexing UsW[:,0]==0 to select only portfolio with zero weight on the risk-free asset and plotting it in blue.\n",
    "# recall that column 0 has the position on the risk-free asset\n",
    "\n",
    "\n",
    "plt.xlabel('Sample Variance')\n",
    "plt.ylabel('Average return')"
   ]
  },
  {
   "cell_type": "markdown",
   "metadata": {},
   "source": [
    "You see clearly the relationship predicted by the formulas above\n",
    "\n",
    "The Investment frontier in ExpectedReturn-volatility space is linear because as you increase your laoding on the risky asset, both expected return and volatility grow proportionally\n",
    "\n",
    "In variance space you see that variance grows faster---since it it standard deviation to the power of 2. So as you increase the loading o the risky asset, variance grows intially slower, and the much faster, hence the kind of concave increase in average returns"
   ]
  },
  {
   "cell_type": "markdown",
   "metadata": {},
   "source": [
    "Now lets make this interesting\n",
    "\n",
    "We will now at the same time vary the relative weight on the risk-free asset and the risky portfolio and change the coposition of the risky portoflio by changing the relative weight on the us market vs international market\n",
    "\n",
    "We will accomplish this with the following double for loop"
   ]
  },
  {
   "cell_type": "code",
   "execution_count": 27,
   "metadata": {
    "colab": {},
    "colab_type": "code",
    "id": "Y6XGCEMDQ1uq",
    "tags": []
   },
   "outputs": [
    {
     "name": "stdout",
     "output_type": "stream",
     "text": [
      "[0.  0.1 0.2 0.3 0.4 0.5 0.6 0.7 0.8 0.9 1. ]\n"
     ]
    }
   ],
   "source": [
    "w=np.arange(0,1.1,0.1)\n",
    "print(w)\n",
    "UsW=[]\n",
    "for xf in wf:\n",
    "    for x in w:\n",
    "        #construct risky portfolio\n",
    "        W=np.array([x,1-x])\n",
    "        #variance of risky portfolio\n",
    "        varW=W.T @ Re.cov() @ W\n",
    "        # variance of final portfolio\n",
    "        var=(1-xf)**2*(varW)\n",
    "        #expected excess return of risky portfolio\n",
    "        erW=(W.T @ np.array(Re.mean()))\n",
    "        # expected return of finanl portfolio \n",
    "        er=(W.T @ np.array(Re.mean()))*(1-xf)+rf\n",
    "        UsW.append([xf,1-x,var**0.5,er])\n"
   ]
  },
  {
   "cell_type": "code",
   "execution_count": 34,
   "metadata": {
    "colab": {
     "base_uri": "https://localhost:8080/",
     "height": 279
    },
    "colab_type": "code",
    "executionInfo": {
     "elapsed": 469,
     "status": "ok",
     "timestamp": 1576513524888,
     "user": {
      "displayName": "yuchi yao",
      "photoUrl": "",
      "userId": "00457884373990713813"
     },
     "user_tz": 300
    },
    "id": "P9h4huMph0LP",
    "outputId": "679856d5-207a-432c-8398-d89b66547f0f"
   },
   "outputs": [
    {
     "data": {
      "text/plain": [
       "Text(0, 0.5, 'Average return')"
      ]
     },
     "execution_count": 34,
     "metadata": {},
     "output_type": "execute_result"
    },
    {
     "data": {
      "image/png": "[encoded data removed]",
      "text/plain": [
       "<Figure size 432x288 with 1 Axes>"
      ]
     },
     "metadata": {
      "needs_background": "light"
     },
     "output_type": "display_data"
    }
   ],
   "source": [
    "UsW=np.array(UsW)\n",
    "fig, ax = plt.subplots()\n",
    "# 2 is selecting the column with the volatility and 3 is selecting the column with the average excess return\n",
    "ax.scatter(UsW[:,2],UsW[:,3],color='red')\n",
    "\n",
    "\n",
    "\n",
    "# below I am using the boolean indexing UsW[:,0]==0 to select only portfolio with zero weight on the risk-free asset and plotting it in blue.\n",
    "# recall that column 0 has the position on the risk-free asset\n",
    "ax.scatter(UsW[UsW[:,0]==0,2],UsW[UsW[:,0]==0,3],color='blue')\n",
    "\n",
    "\n",
    "ax.scatter(UsW[UsW[:,1]==1,2],UsW[UsW[:,1]==1,3],color='black')\n",
    "ax.scatter(UsW[UsW[:,1]==0,2],UsW[UsW[:,1]==0,3],color='orange')\n",
    "ax.scatter(UsW[UsW[:,0]==1,2],UsW[UsW[:,0]==1,3],color='green')\n",
    "\n",
    "ax.set_xlabel('Sample Volatility')\n",
    "ax.set_ylabel('Average return')\n",
    "\n"
   ]
  },
  {
   "cell_type": "markdown",
   "metadata": {},
   "source": [
    "What do you see above?\n",
    "\n",
    "- In orange the portfolios where the risky portfolio is exactly the US market, but has different weights on the risk-free asset\n",
    "- In black you have the same thign, but now of the international market\n",
    "- In blue you the portfolios that have exaclty zero weight on the risk-free rate, but different compositions of the risky portfolio\n",
    "- in green you have the portfolio that has weight of 1 on the risk-free rate\n",
    "- In red you have all the other portfolios wich have varying risky portfolio compositions and varying weights combining this risky portfolio with the risk-free rate"
   ]
  },
  {
   "cell_type": "markdown",
   "metadata": {
    "colab_type": "text",
    "id": "ho3B6ZWZQ1us"
   },
   "source": [
    "\n",
    "\n",
    "* How to read this plot? Say you want a portoflio with at most 0.03 monthly volatility. What does this plot tell you?\n",
    "\n",
    "* Which units are this? Can you convert it to annual units? How?\n",
    "\n",
    "* what is noteworthy about the shape of these different curves?"
   ]
  },
  {
   "cell_type": "code",
   "execution_count": 36,
   "metadata": {
    "colab": {
     "base_uri": "https://localhost:8080/",
     "height": 279
    },
    "colab_type": "code",
    "executionInfo": {
     "elapsed": 570,
     "status": "ok",
     "timestamp": 1576511259943,
     "user": {
      "displayName": "yuchi yao",
      "photoUrl": "",
      "userId": "00457884373990713813"
     },
     "user_tz": 300
    },
    "id": "_nkLxjv4Q1us",
    "outputId": "0fff304b-3f51-4362-fa68-346e64e45c59"
   },
   "outputs": [
    {
     "data": {
      "image/png": "[encoded data removed]",
      "text/plain": [
       "<Figure size 432x288 with 1 Axes>"
      ]
     },
     "metadata": {
      "needs_background": "light"
     },
     "output_type": "display_data"
    }
   ],
   "source": [
    "# in \"variance space\"\n",
    "\n",
    "plt.scatter(UsW[:,2]**2,UsW[:,3],color='red')\n",
    "plt.scatter(UsW[UsW[:,0]==0,2]**2,UsW[UsW[:,0]==0,3],color='blue')\n",
    "plt.xlabel('Sample Variance')\n",
    "plt.ylabel('Average return')\n",
    "\n",
    "plt.show()"
   ]
  },
  {
   "cell_type": "markdown",
   "metadata": {
    "colab_type": "text",
    "id": "9kg32AeoQ1uu"
   },
   "source": [
    "* It is clear that someone that would like a lower risk profile can achieve this objective through the use of the risk-free asset without impacting expected returns as much\n",
    "\n",
    "* What about investors that would like to take more risk, can they benefit of the risk-free asset?\n",
    "\n",
    "* yes, if they can borrow at the risk-free rate\n",
    "\n",
    "**so what does borrowing means?**\n",
    "\n",
    "It means that you agree to pays some rate of return in exchange for getting a dollar today to invest.\n",
    "\n",
    "So you have a **negative** weight on the risk-free rate. Say if you have a weight of -0.5 on the risk-free rate it means that for each dollar that you have in your portfolio you are borrowing 0.5 and investing in the risky portolio 1.5 dollars\n",
    "\n",
    "We say that you are are **leveraged** becasue your assets side (1.5 dollars) worth more than your networth (1 dollar) because you are borrowing the 0.5 dollars.\n",
    "\n",
    "So lets see hat that looks like by considering negative weights on the riks-free asset  (xf<0)"
   ]
  },
  {
   "cell_type": "code",
   "execution_count": 8,
   "metadata": {
    "colab": {
     "base_uri": "https://localhost:8080/",
     "height": 279
    },
    "colab_type": "code",
    "executionInfo": {
     "elapsed": 724,
     "status": "ok",
     "timestamp": 1576512258164,
     "user": {
      "displayName": "yuchi yao",
      "photoUrl": "",
      "userId": "00457884373990713813"
     },
     "user_tz": 300
    },
    "id": "-oLnV1A_Q1uv",
    "outputId": "b3b47137-ae3a-4e54-bf07-fe95cf4d7f6d"
   },
   "outputs": [
    {
     "data": {
      "image/png": "[encoded data removed]",
      "text/plain": [
       "<Figure size 432x288 with 1 Axes>"
      ]
     },
     "metadata": {
      "needs_background": "light"
     },
     "output_type": "display_data"
    }
   ],
   "source": [
    "UsW=[]\n",
    "w=np.arange(0,1.1,0.1)\n",
    "wf=np.arange(0,1.1,0.1)\n",
    "\n",
    "for xf in wf:\n",
    "    for x in w:\n",
    "        W=np.array([x,1-x])\n",
    "        UsW.append([xf,1-x,(1-xf)*(W.T @ Re.cov() @ W)**0.5,(W.T @ np.array(Re.mean()))*(1-xf)+rf])\n",
    "\n",
    "w=np.arange(0,1.1,0.1)\n",
    "wf=np.arange(-0.5,0,0.1)\n",
    "\n",
    "for xf in wf:\n",
    "    for x in w:\n",
    "        W=np.array([x,1-x])\n",
    "        UsW.append([xf,1-x,(1-xf)*(W.T @ Re.cov() @ W)**0.5,(W.T @ np.array(Re.mean()))*(1-xf)+rf])\n",
    "        \n",
    "        \n",
    "UsW=np.array(UsW)\n",
    "\n",
    "plt.scatter(UsW[:,2],UsW[:,3],color='red')\n",
    "plt.scatter(UsW[UsW[:,0]==0,2],UsW[UsW[:,0]==0,3],color='blue')\n",
    "# Below I am usign boolean index to select portfolio that are short the risk-free asset (i.e. they are levered) and I a plotting them in orange\n",
    "\n",
    "plt.scatter(UsW[UsW[:,0]<0,2],UsW[UsW[:,0]<0,3],color='orange')\n",
    "plt.xlabel('Volatility')\n",
    "plt.ylabel('Average return')\n",
    "\n",
    "plt.show()"
   ]
  },
  {
   "cell_type": "markdown",
   "metadata": {
    "colab_type": "text",
    "id": "Vqlge2vhQ1uw"
   },
   "source": [
    "* What is the intepretation of a negative $x_f$? Doe it make sense?\n",
    "\n",
    "* What is the interpretation of a $x_f$ above 1? Does it make sense?\n",
    "\n",
    "* Is the investors likely to be able to borrow at the risk-free rate?"
   ]
  },
  {
   "cell_type": "code",
   "execution_count": null,
   "metadata": {},
   "outputs": [],
   "source": []
  }
 ],
 "metadata": {
  "colab": {
   "collapsed_sections": [],
   "name": "Notebook 4.ipynb",
   "provenance": [],
   "toc_visible": true
  },
  "kernelspec": {
   "display_name": "Python 3",
   "language": "python",
   "name": "python3"
  },
  "language_info": {
   "codemirror_mode": {
    "name": "ipython",
    "version": 3
   },
   "file_extension": ".py",
   "mimetype": "text/x-python",
   "name": "python",
   "nbconvert_exporter": "python",
   "pygments_lexer": "ipython3",
   "version": "3.8.5"
  }
 },
 "nbformat": 4,
 "nbformat_minor": 4
}
