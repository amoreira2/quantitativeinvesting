{
 "cells": [
  {
   "cell_type": "markdown",
   "metadata": {
    "colab_type": "text",
    "id": "QgykM3kZhHqj"
   },
   "source": [
    "<img src='https://www.dropbox.com/s/125k1wnxkl6bgs0/class_logo.jpg?dl=1' alt=\"Smiley face\" align=\"center\" style=\"width: 600px;\"/>\n",
    "\n",
    "\n",
    "# Notebook 5\n",
    "\n",
    "\n"
   ]
  },
  {
   "cell_type": "markdown",
   "metadata": {
    "colab_type": "text",
    "id": "1GAZf2ZBhHql"
   },
   "source": [
    "### Topics covered\n",
    "* * *\n",
    " * Portfolio optimization with constraints\n",
    " * Estimation uncertainty\n",
    " * Statistical tests\n",
    " * Minimum-Variance investing\n",
    " * Risk-parity investing\n",
    " * Portfolio choice using equilibirum thinking\n"
   ]
  },
  {
   "cell_type": "code",
   "execution_count": 1,
   "metadata": {
    "colab": {
     "base_uri": "https://localhost:8080/",
     "height": 235
    },
    "colab_type": "code",
    "executionInfo": {
     "elapsed": 7090,
     "status": "ok",
     "timestamp": 1576771469964,
     "user": {
      "displayName": "yuchi yao",
      "photoUrl": "",
      "userId": "00457884373990713813"
     },
     "user_tz": 300
    },
    "id": "vI1xySqDhHqm",
    "outputId": "7d785476-d21c-4ef3-bf1b-274e8900fcb4"
   },
   "outputs": [
    {
     "data": {
      "text/html": [
       "<div>\n",
       "<style scoped>\n",
       "    .dataframe tbody tr th:only-of-type {\n",
       "        vertical-align: middle;\n",
       "    }\n",
       "\n",
       "    .dataframe tbody tr th {\n",
       "        vertical-align: top;\n",
       "    }\n",
       "\n",
       "    .dataframe thead th {\n",
       "        text-align: right;\n",
       "    }\n",
       "</style>\n",
       "<table border=\"1\" class=\"dataframe\">\n",
       "  <thead>\n",
       "    <tr style=\"text-align: right;\">\n",
       "      <th></th>\n",
       "      <th>MKTUS</th>\n",
       "      <th>BondUS</th>\n",
       "      <th>EM</th>\n",
       "      <th>MKTxUS</th>\n",
       "      <th>BondxUS</th>\n",
       "    </tr>\n",
       "    <tr>\n",
       "      <th>Date</th>\n",
       "      <th></th>\n",
       "      <th></th>\n",
       "      <th></th>\n",
       "      <th></th>\n",
       "      <th></th>\n",
       "    </tr>\n",
       "  </thead>\n",
       "  <tbody>\n",
       "    <tr>\n",
       "      <th>2016-08-31</th>\n",
       "      <td>0.0050</td>\n",
       "      <td>-0.008617</td>\n",
       "      <td>0.024986</td>\n",
       "      <td>0.000638</td>\n",
       "      <td>-0.009752</td>\n",
       "    </tr>\n",
       "    <tr>\n",
       "      <th>2016-09-30</th>\n",
       "      <td>0.0025</td>\n",
       "      <td>-0.016617</td>\n",
       "      <td>0.012953</td>\n",
       "      <td>0.012536</td>\n",
       "      <td>0.009779</td>\n",
       "    </tr>\n",
       "    <tr>\n",
       "      <th>2016-10-31</th>\n",
       "      <td>-0.0202</td>\n",
       "      <td>-0.049660</td>\n",
       "      <td>0.002274</td>\n",
       "      <td>-0.020583</td>\n",
       "      <td>-0.043676</td>\n",
       "    </tr>\n",
       "    <tr>\n",
       "      <th>2016-11-30</th>\n",
       "      <td>0.0486</td>\n",
       "      <td>-0.081736</td>\n",
       "      <td>-0.046071</td>\n",
       "      <td>-0.019898</td>\n",
       "      <td>-0.050459</td>\n",
       "    </tr>\n",
       "    <tr>\n",
       "      <th>2016-12-31</th>\n",
       "      <td>0.0182</td>\n",
       "      <td>-0.005596</td>\n",
       "      <td>0.002604</td>\n",
       "      <td>0.034083</td>\n",
       "      <td>-0.023507</td>\n",
       "    </tr>\n",
       "  </tbody>\n",
       "</table>\n",
       "</div>"
      ],
      "text/plain": [
       "             MKTUS    BondUS        EM    MKTxUS   BondxUS\n",
       "Date                                                      \n",
       "2016-08-31  0.0050 -0.008617  0.024986  0.000638 -0.009752\n",
       "2016-09-30  0.0025 -0.016617  0.012953  0.012536  0.009779\n",
       "2016-10-31 -0.0202 -0.049660  0.002274 -0.020583 -0.043676\n",
       "2016-11-30  0.0486 -0.081736 -0.046071 -0.019898 -0.050459\n",
       "2016-12-31  0.0182 -0.005596  0.002604  0.034083 -0.023507"
      ]
     },
     "execution_count": 1,
     "metadata": {},
     "output_type": "execute_result"
    }
   ],
   "source": [
    "import pandas as pd\n",
    "import numpy as np\n",
    "import matplotlib.pyplot as plt\n",
    "%matplotlib inline\n",
    "#GlobalFinMonthly\n",
    "url=\"https://www.dropbox.com/s/3k35mt3t57ygff2/GlobalFinMonthly.csv?dl=1\"\n",
    "Data = pd.read_csv(url,na_values=-99)\n",
    "# tell python Date is date:\n",
    "Data['Date']=pd.to_datetime(Data['Date'])\n",
    "# set an an index\n",
    "Data=Data.set_index(['Date'])\n",
    "Data=Data.rename(columns={Data.columns[1]: \"MKTUS\",Data.columns[2]: \"BondUS\",\n",
    "                          Data.columns[3]: \"EM\",Data.columns[4]: \"MKTxUS\",Data.columns[5]: \"BondxUS\" })\n",
    "Re=(Data.drop('RF',axis=1)).subtract(Data['RF'],axis='index')\n",
    "Re.tail()"
   ]
  },
  {
   "cell_type": "markdown",
   "metadata": {
    "colab_type": "text",
    "id": "LSpjjJ79-JRD"
   },
   "source": [
    "## Equilibrium in asset markets\n",
    "\n",
    "* Fundamental Question: \n",
    "  >If everybody wants higher returns, why some assets earn higher average returns than others? Or why the tangency portfolio has larger positions in some assets than other assets?\n",
    "\n",
    "* Finance theory: because these assets have low returns in bad times\n",
    "  >What are bad times?\n",
    "  <!-- >How much more extra expected return to experience low returns during bad times? -->\n",
    "\n"
   ]
  },
  {
   "cell_type": "markdown",
   "metadata": {
    "colab_type": "text",
    "id": "st65DHFZ-Tsp"
   },
   "source": [
    "\n",
    "### The general answer\n",
    "\n",
    "* Investors' preferences, fears , and background risk exposures will aggregate to some notion of bad times\n",
    "\n",
    "* Assets that pay poorly during these periods will earn higher returns per unit of volatility, i.e. will have high Sharpe ratios and be in the tangency portfolio with a large weight\n",
    "\n",
    "* Assets that pay well during bad times, good hedges, will earn lower returns, possibly negative, and will be in the tangency portfolio with a negative weight\n",
    "\n",
    "* CAPM is a particular case of this general framework where the market return summarizes how bad the times are\n",
    "\n"
   ]
  },
  {
   "cell_type": "markdown",
   "metadata": {
    "colab_type": "text",
    "id": "kFyBy3tA-awg"
   },
   "source": [
    "\n",
    "## The CAPM\n",
    "\n",
    "* The Wealth portfolio is the tangency portfolio\n",
    "\n",
    "* The return on the wealth portfolio summarizes how Bad the times are\n",
    "\n",
    "* Assets that co-vary more with the market must earn higher returns\n",
    "\n",
    "* They pay poorly exactly when things are worse\n",
    "\n",
    "* What is the wealth portfolio? It is the portfolio that holds all assets in proportion to their value\n",
    "\n",
    "* We often use the equity market as a proxy for this, but that is not the CAPM\n",
    "\n",
    "* In a way that CAPM is untestable because it is impossible to construct the true wealth portfolio\n",
    "\n",
    "\n",
    "$$E[R_t^i-R_t^f]=\\beta_{i,mkt}E[R^{mkt}_t-R^f_t]$$\n",
    "\n",
    "\n"
   ]
  },
  {
   "cell_type": "markdown",
   "metadata": {
    "colab_type": "text",
    "id": "TlpdDGsU-f2d"
   },
   "source": [
    "\n",
    "## Multi-factor models\n",
    "\n",
    "* We will discuss later multi-factor extensions of the CAPM\n",
    "\n",
    "  * APT: Arbitrage Price Theory\n",
    "  * ICAPM: Intertemporal Capital Asset Pricing Model\n",
    "\n",
    "* These models make less restrictive assumptions and predict that we will need additional factors beyond the market to \"span\" the tangency portfolio\n",
    "\n",
    "* What does \"span\" mean?\n",
    "\n",
    "\n",
    "\n",
    "$$E[R_t^i-R_t^f]=\\beta_{i,mkt}E[R^{mkt}_t-R^f_t]+\\sum_{j=1}^J\\beta_{i,j}\\lambda_j$$\n",
    "\n",
    "\n"
   ]
  },
  {
   "cell_type": "markdown",
   "metadata": {
    "colab_type": "text",
    "id": "cqiZCrUA-iWH"
   },
   "source": [
    "\n",
    "## Portfolio implications of the equilibrium view\n",
    "\n",
    "* If you are like the average investor, you should simply hold the market portfolio\n",
    "\n",
    "* You deviate from holding the market only if you are different from the average investor\n",
    "\n",
    "* Examples with preferences:\n",
    "\n",
    "  * If you are more risk-averse than the average investor you should hold some safe bonds as well\n",
    "  * If you are more risk-tolerant you should borrow and invest more in the market than the average investor\n",
    "  \n",
    "* Example with \"Background risk\":(background risks are risks that investors are exposed to indepedently of their financial portfolio)\n",
    "\n",
    "   * If you work in the automobile industry and your skill set is highly specialized to automobiles, you are more exposed to the automobile industry risk than the average investor.\n",
    "   * Advice is to hold the market *after you hedge your automobile exposure*\n",
    "   * in practice this could be investing in the market portoflio while avoiding auto-indistry stocks (and other stocks that are strongly correlated with it)\n",
    "   \n",
    "* This logic extends to multipl-factors as well, as we will see. \n",
    "   * So even if the CAPM does not work and you need addiitonal factors to explain differences in expected returns across assets, the equilbrium view still implies that if you are just like the average investors, you should simply hold the market portfolio.\n",
    "   * So you will tilt your portfolio to a high expected return factor only if you are less exposed to it than the average investor\n",
    "   * The intuition here is that this factor earns high returns relative to the CAPM because it earns fair compensation for risks that the average investors are exposed to"
   ]
  },
  {
   "cell_type": "markdown",
   "metadata": {
    "colab_type": "text",
    "id": "OKGOi9vRhHrz"
   },
   "source": [
    "## Mix and Match\n",
    "\n",
    "* There is a middle of the road approach, where you accept the equilibrium logic, and at the same time also express views with respect to different assets\n",
    "\n",
    "* This is sometimes called the Goldman Sachs Portfolio Approach because it was developed by Fisher Black and Bob Litterman when they both worked at Goldman\n",
    "\n",
    "* It basically consists of taking an average of the one implied by the CAPM and the one implied by your \"views\"/Signals\n",
    "\n",
    "* you put more weight on the CAPM when you are not very confident of your views\n",
    "\n",
    "* you put more weight on your views when you are very confident about them\n",
    "\n"
   ]
  }
 ],
 "metadata": {
  "colab": {
   "collapsed_sections": [],
   "name": "Notebook 5.ipynb",
   "provenance": [],
   "toc_visible": true
  },
  "kernelspec": {
   "display_name": "Python 3",
   "language": "python",
   "name": "python3"
  },
  "language_info": {
   "codemirror_mode": {
    "name": "ipython",
    "version": 3
   },
   "file_extension": ".py",
   "mimetype": "text/x-python",
   "name": "python",
   "nbconvert_exporter": "python",
   "pygments_lexer": "ipython3",
   "version": "3.8.5"
  }
 },
 "nbformat": 4,
 "nbformat_minor": 4
}
