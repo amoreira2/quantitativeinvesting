{
 "cells": [
  {
   "cell_type": "code",
   "execution_count": null,
   "metadata": {},
   "outputs": [],
   "source": [
    "#lets first import the data\n",
    "import pandas as pd\n",
    "import numpy as np\n",
    "import matplotlib.pyplot as plt\n",
    "%matplotlib inline\n",
    "#GlobalFinMonthly\n",
    "url=\"https://raw.githubusercontent.com/amoreira2/Lectures/4b95c7d60e869dffa6367c1730183b68920ed2b9/assets/data/GlobalFinMonthly.csv\"\n",
    "Data = pd.read_csv(url,na_values=-99)\n",
    "# tell python Date is date:\n",
    "Data['Date']=pd.to_datetime(Data['Date'])\n",
    "# set an an index\n",
    "Data=Data.set_index(['Date'])"
   ]
  },
  {
   "cell_type": "markdown",
   "metadata": {
    "colab_type": "text",
    "id": "x5bPnG2RQ1tw"
   },
   "source": [
    "# Portfolios\n",
    "\n",
    "In this section we will learn how to do some basic math at portfolio level. You will know how to calculate return, expected return, and volatility given portfolio weights.\n",
    "\n",
    "\n",
    "A portfolio is described by a set of assets and a set of weights invested in each asset."
   ]
  },
  {
   "cell_type": "markdown",
   "metadata": {
    "colab_type": "text",
    "id": "QOud4XOOQ1t1"
   },
   "source": [
    "**Portfolio weights**\n",
    "\n",
    "* The portfolio weight for stock $j$ , denoted $w_j$, is the fraction of a portfolio value held in stock $j$\n",
    "\n",
    "  $$w_j=\\frac{\\text{Dollar held in stock j}}{\\text{Dollar value of portfolio}}$$\n",
    "  \n",
    "* By construction, the portfolio weights allways add up to one: you invest all you got somewhere, and nothing more \n",
    "\n",
    "  * This doesn't mean that you can't borrow to invest, just means that you will have a negative weight somewhere offsetting the positive position in the other assets \n",
    " \n",
    "   $$\\sum_{j=1}^N w_j=1$$\n",
    "  \n",
    "  * In matrix notation \n",
    "  \n",
    "  $$\\mathbf{1}'W=1$$\n",
    "  \n",
    "  * where $\\mathbf{1}$ is a N by 1 vector of 1's (i.e. a vector with entry 1 in each position) and $W$ is the N by 1 vector of portfolio weights"
   ]
  },
  {
   "cell_type": "markdown",
   "metadata": {
    "colab_type": "text",
    "id": "a87EFXrgQ1t2"
   },
   "source": [
    "**Portfolio returns**\n",
    "\n",
    "$$ r_p=\\sum_{j=1}^N w_jr_j=W'R$$\n",
    "\n",
    "\n",
    "* Where $R$ is the N by 1 vector of realized asset returns\n",
    "\n",
    "* I use big R and big W here to emphasize that they are vectors, like  ($[r^{RF},r^{MKT},..]$), ($[w^{RF},w^{MKT},..]$),\n",
    "\n",
    "* I use litlle $r_p$ becasue the return on a portfolio is just a scalar \n",
    "\n",
    "\n",
    "For example:\n",
    "\n",
    "This below is the vector of return realization for a particular date "
   ]
  },
  {
   "cell_type": "code",
   "execution_count": 70,
   "metadata": {
    "colab": {
     "base_uri": "https://localhost:8080/",
     "height": 111
    },
    "colab_type": "code",
    "executionInfo": {
     "elapsed": 318,
     "status": "ok",
     "timestamp": 1576511147554,
     "user": {
      "displayName": "yuchi yao",
      "photoUrl": "",
      "userId": "00457884373990713813"
     },
     "user_tz": 300
    },
    "id": "7hRulOkUQ1t2",
    "outputId": "1a5947f4-7c39-450e-d184-083a09556695",
    "scrolled": true
   },
   "outputs": [
    {
     "data": {
      "text/html": [
       "<div>\n",
       "<style scoped>\n",
       "    .dataframe tbody tr th:only-of-type {\n",
       "        vertical-align: middle;\n",
       "    }\n",
       "\n",
       "    .dataframe tbody tr th {\n",
       "        vertical-align: top;\n",
       "    }\n",
       "\n",
       "    .dataframe thead th {\n",
       "        text-align: right;\n",
       "    }\n",
       "</style>\n",
       "<table border=\"1\" class=\"dataframe\">\n",
       "  <thead>\n",
       "    <tr style=\"text-align: right;\">\n",
       "      <th></th>\n",
       "      <th>RF</th>\n",
       "      <th>MKT</th>\n",
       "      <th>USA30yearGovBond</th>\n",
       "      <th>EmergingMarkets</th>\n",
       "      <th>WorldxUSA</th>\n",
       "      <th>WorldxUSAGovBond</th>\n",
       "    </tr>\n",
       "    <tr>\n",
       "      <th>Date</th>\n",
       "      <th></th>\n",
       "      <th></th>\n",
       "      <th></th>\n",
       "      <th></th>\n",
       "      <th></th>\n",
       "      <th></th>\n",
       "    </tr>\n",
       "  </thead>\n",
       "  <tbody>\n",
       "    <tr>\n",
       "      <th>1963-02-28</th>\n",
       "      <td>0.0023</td>\n",
       "      <td>-0.0215</td>\n",
       "      <td>-0.001878</td>\n",
       "      <td>0.098222</td>\n",
       "      <td>-0.002773</td>\n",
       "      <td>NaN</td>\n",
       "    </tr>\n",
       "  </tbody>\n",
       "</table>\n",
       "</div>"
      ],
      "text/plain": [
       "                RF     MKT  USA30yearGovBond  EmergingMarkets  WorldxUSA  \\\n",
       "Date                                                                       \n",
       "1963-02-28  0.0023 -0.0215         -0.001878         0.098222  -0.002773   \n",
       "\n",
       "            WorldxUSAGovBond  \n",
       "Date                          \n",
       "1963-02-28               NaN  "
      ]
     },
     "execution_count": 70,
     "metadata": {},
     "output_type": "execute_result"
    }
   ],
   "source": [
    "Data['1963-02']"
   ]
  },
  {
   "cell_type": "markdown",
   "metadata": {
    "colab_type": "text",
    "id": "3-Dc3m0JQ1t4"
   },
   "source": [
    "* Since the return on a portfolio is a weighted sum of the returns on the securities, we need to determine how the distribution of this sum of r.v. ($R_p$) is related to the orignal distribution of eah r.v. (the individual securities returns $R_j$, $j=1...N$).\n",
    "\n",
    "* The analysis of portfolio risk becomes much simpler by assuming that return distributions are normal.\n",
    "\n",
    "* This means we only need to worry about mean and variance (even if we care about these really bad tail events)"
   ]
  },
  {
   "cell_type": "code",
   "execution_count": 71,
   "metadata": {
    "colab": {
     "base_uri": "https://localhost:8080/",
     "height": 34
    },
    "colab_type": "code",
    "executionInfo": {
     "elapsed": 386,
     "status": "ok",
     "timestamp": 1576511149472,
     "user": {
      "displayName": "yuchi yao",
      "photoUrl": "",
      "userId": "00457884373990713813"
     },
     "user_tz": 300
    },
    "id": "zghS4LLsQ1t5",
    "outputId": "632d7720-237b-4ff1-f536-3e23fb6e6999"
   },
   "outputs": [
    {
     "data": {
      "text/plain": [
       "(6,)"
      ]
     },
     "execution_count": 71,
     "metadata": {},
     "output_type": "execute_result"
    }
   ],
   "source": [
    "# lets start by constructing an equal-weighted portfolio\n",
    "W=np.ones(6)/6\n",
    "\n",
    "W.shape\n",
    "# W is a 6 by 1 matrix"
   ]
  },
  {
   "cell_type": "code",
   "execution_count": 72,
   "metadata": {
    "colab": {
     "base_uri": "https://localhost:8080/",
     "height": 51
    },
    "colab_type": "code",
    "executionInfo": {
     "elapsed": 718,
     "status": "ok",
     "timestamp": 1576459561666,
     "user": {
      "displayName": "yuchi yao",
      "photoUrl": "",
      "userId": "00457884373990713813"
     },
     "user_tz": 300
    },
    "id": "Z-gH69U0Q1t6",
    "outputId": "e7fad873-b5f5-467f-f96f-077b80cecd44"
   },
   "outputs": [
    {
     "data": {
      "text/plain": [
       "0.9999999999999999"
      ]
     },
     "execution_count": 72,
     "metadata": {},
     "output_type": "execute_result"
    }
   ],
   "source": [
    "np.sum(W)"
   ]
  },
  {
   "cell_type": "code",
   "execution_count": 73,
   "metadata": {
    "colab": {
     "base_uri": "https://localhost:8080/",
     "height": 34
    },
    "colab_type": "code",
    "executionInfo": {
     "elapsed": 317,
     "status": "ok",
     "timestamp": 1576511151677,
     "user": {
      "displayName": "yuchi yao",
      "photoUrl": "",
      "userId": "00457884373990713813"
     },
     "user_tz": 300
    },
    "id": "4sTWL6EvVBio",
    "outputId": "3284c1e7-ba6a-4129-c89a-708f0b2e18e3"
   },
   "outputs": [
    {
     "data": {
      "text/html": [
       "<div>\n",
       "<style scoped>\n",
       "    .dataframe tbody tr th:only-of-type {\n",
       "        vertical-align: middle;\n",
       "    }\n",
       "\n",
       "    .dataframe tbody tr th {\n",
       "        vertical-align: top;\n",
       "    }\n",
       "\n",
       "    .dataframe thead th {\n",
       "        text-align: right;\n",
       "    }\n",
       "</style>\n",
       "<table border=\"1\" class=\"dataframe\">\n",
       "  <thead>\n",
       "    <tr style=\"text-align: right;\">\n",
       "      <th></th>\n",
       "      <th>RF</th>\n",
       "      <th>MKT</th>\n",
       "      <th>USA30yearGovBond</th>\n",
       "      <th>EmergingMarkets</th>\n",
       "      <th>WorldxUSA</th>\n",
       "      <th>WorldxUSAGovBond</th>\n",
       "    </tr>\n",
       "    <tr>\n",
       "      <th>Date</th>\n",
       "      <th></th>\n",
       "      <th></th>\n",
       "      <th></th>\n",
       "      <th></th>\n",
       "      <th></th>\n",
       "      <th></th>\n",
       "    </tr>\n",
       "  </thead>\n",
       "  <tbody>\n",
       "    <tr>\n",
       "      <th>2008-09-30</th>\n",
       "      <td>0.0015</td>\n",
       "      <td>-0.0909</td>\n",
       "      <td>0.023693</td>\n",
       "      <td>-0.174897</td>\n",
       "      <td>-0.144244</td>\n",
       "      <td>-0.031262</td>\n",
       "    </tr>\n",
       "  </tbody>\n",
       "</table>\n",
       "</div>"
      ],
      "text/plain": [
       "                RF     MKT  USA30yearGovBond  EmergingMarkets  WorldxUSA  \\\n",
       "Date                                                                       \n",
       "2008-09-30  0.0015 -0.0909          0.023693        -0.174897  -0.144244   \n",
       "\n",
       "            WorldxUSAGovBond  \n",
       "Date                          \n",
       "2008-09-30         -0.031262  "
      ]
     },
     "execution_count": 73,
     "metadata": {},
     "output_type": "execute_result"
    }
   ],
   "source": [
    "Data.loc['9/2008']\n",
    "# R is a 1 by 6 matrix"
   ]
  },
  {
   "cell_type": "code",
   "execution_count": 74,
   "metadata": {
    "colab": {
     "base_uri": "https://localhost:8080/",
     "height": 68
    },
    "colab_type": "code",
    "executionInfo": {
     "elapsed": 291,
     "status": "ok",
     "timestamp": 1576511153887,
     "user": {
      "displayName": "yuchi yao",
      "photoUrl": "",
      "userId": "00457884373990713813"
     },
     "user_tz": 300
    },
    "id": "RRZeCJSSQ1t8",
    "outputId": "8997c4a5-978b-4f40-facf-d3976d6574c4"
   },
   "outputs": [
    {
     "data": {
      "text/plain": [
       "Date\n",
       "2008-09-30   -0.069352\n",
       "dtype: float64"
      ]
     },
     "execution_count": 74,
     "metadata": {},
     "output_type": "execute_result"
    }
   ],
   "source": [
    "Data.loc['9/2008'] @ W"
   ]
  },
  {
   "cell_type": "markdown",
   "metadata": {
    "colab_type": "text",
    "id": "eyWqT3vdQ1t-"
   },
   "source": [
    "What do we do to construct the returns for all the months?"
   ]
  },
  {
   "cell_type": "code",
   "execution_count": 75,
   "metadata": {},
   "outputs": [
    {
     "data": {
      "text/plain": [
       "(647, 6)"
      ]
     },
     "execution_count": 75,
     "metadata": {},
     "output_type": "execute_result"
    }
   ],
   "source": [
    "Data.shape"
   ]
  },
  {
   "cell_type": "code",
   "execution_count": 76,
   "metadata": {
    "colab": {
     "base_uri": "https://localhost:8080/",
     "height": 238
    },
    "colab_type": "code",
    "executionInfo": {
     "elapsed": 330,
     "status": "ok",
     "timestamp": 1576511155882,
     "user": {
      "displayName": "yuchi yao",
      "photoUrl": "",
      "userId": "00457884373990713813"
     },
     "user_tz": 300
    },
    "id": "RlAQPwNoQ1t-",
    "outputId": "ab10b6fe-84a5-4f9a-95fa-e98a440535ee"
   },
   "outputs": [
    {
     "data": {
      "text/plain": [
       "Date\n",
       "1963-02-28         NaN\n",
       "1963-03-31    0.009196\n",
       "1963-04-30   -0.015689\n",
       "1963-05-31    0.002154\n",
       "1963-06-30   -0.012909\n",
       "                ...   \n",
       "2016-08-31    0.002242\n",
       "2016-09-30    0.003725\n",
       "2016-10-31   -0.021774\n",
       "2016-11-30   -0.024827\n",
       "2016-12-31    0.004597\n",
       "Length: 647, dtype: float64"
      ]
     },
     "execution_count": 76,
     "metadata": {},
     "output_type": "execute_result"
    }
   ],
   "source": [
    "Rp=Data @ W\n",
    "Rp"
   ]
  },
  {
   "cell_type": "code",
   "execution_count": 77,
   "metadata": {
    "colab": {
     "base_uri": "https://localhost:8080/",
     "height": 296
    },
    "colab_type": "code",
    "executionInfo": {
     "elapsed": 533,
     "status": "ok",
     "timestamp": 1576511158401,
     "user": {
      "displayName": "yuchi yao",
      "photoUrl": "",
      "userId": "00457884373990713813"
     },
     "user_tz": 300
    },
    "id": "ZJ1tySAaQ1uA",
    "outputId": "e34d6b9f-fc34-4695-fbbe-aad6ba3b078b"
   },
   "outputs": [
    {
     "data": {
      "text/plain": [
       "<matplotlib.axes._subplots.AxesSubplot at 0x1f82fa015b0>"
      ]
     },
     "execution_count": 77,
     "metadata": {},
     "output_type": "execute_result"
    },
    {
     "data": {
      "image/png": "[encoded data removed]",
      "text/plain": [
       "<Figure size 432x288 with 1 Axes>"
      ]
     },
     "metadata": {
      "needs_background": "light"
     },
     "output_type": "display_data"
    }
   ],
   "source": [
    "Rp.plot()"
   ]
  },
  {
   "cell_type": "code",
   "execution_count": 78,
   "metadata": {},
   "outputs": [
    {
     "data": {
      "text/plain": [
       "0.007367453311403502"
      ]
     },
     "execution_count": 78,
     "metadata": {},
     "output_type": "execute_result"
    }
   ],
   "source": [
    "Rp.mean()"
   ]
  },
  {
   "cell_type": "markdown",
   "metadata": {
    "colab_type": "text",
    "id": "NJTW9iPjQ1uC"
   },
   "source": [
    "**Portfolio Expected returns**\n",
    "\n",
    "* The expected return of a portfolio is the portfolio weighted average of the expected returns of the individual assets.\n",
    "\n",
    "\n",
    "$$E[R_p]=E[\\sum_{j=1}^N w_jr_j]=\\sum_{j=1}^N w_jE[r_j]=W'E[R]$$\n",
    "\n",
    "\n",
    "> Can you use the definition of expected values we learn in notebook 3 to verify that this is correct?\n",
    "\n",
    "\n",
    "* Lets compute for our EW portfolio:"
   ]
  },
  {
   "cell_type": "code",
   "execution_count": 79,
   "metadata": {
    "colab": {
     "base_uri": "https://localhost:8080/",
     "height": 51
    },
    "colab_type": "code",
    "executionInfo": {
     "elapsed": 314,
     "status": "ok",
     "timestamp": 1576511162452,
     "user": {
      "displayName": "yuchi yao",
      "photoUrl": "",
      "userId": "00457884373990713813"
     },
     "user_tz": 300
    },
    "id": "-dkIJdTwVymF",
    "outputId": "343578b1-7d6f-4ae0-b1cc-7e624fcf8dc8"
   },
   "outputs": [
    {
     "name": "stdout",
     "output_type": "stream",
     "text": [
      "(6,)\n",
      "(6,)\n"
     ]
    }
   ],
   "source": [
    "# To make sure we do the matrix multiplication correctly, it is good to see the shape of matrix first\n",
    "print(W.shape)\n",
    "print(Data.mean().shape)"
   ]
  },
  {
   "cell_type": "code",
   "execution_count": 80,
   "metadata": {
    "colab": {
     "base_uri": "https://localhost:8080/",
     "height": 34
    },
    "colab_type": "code",
    "executionInfo": {
     "elapsed": 512,
     "status": "ok",
     "timestamp": 1576460153823,
     "user": {
      "displayName": "yuchi yao",
      "photoUrl": "",
      "userId": "00457884373990713813"
     },
     "user_tz": 300
    },
    "id": "5EOHJvD6Q1uC",
    "outputId": "6ac6c770-7815-45e7-ce14-651da4f4ca97"
   },
   "outputs": [
    {
     "data": {
      "text/plain": [
       "0.007376761284897114"
      ]
     },
     "execution_count": 80,
     "metadata": {},
     "output_type": "execute_result"
    }
   ],
   "source": [
    "# We use transpose function `T` to transpose W to a 1 by 6 matrix\n",
    "W.T @ Data.mean()"
   ]
  },
  {
   "cell_type": "markdown",
   "metadata": {
    "colab_type": "text",
    "id": "Ix8Sou0NQ1uE"
   },
   "source": [
    "It should be true that taking the sample mean of our portfolio return realizations should give the same answer"
   ]
  },
  {
   "cell_type": "code",
   "execution_count": 81,
   "metadata": {
    "colab": {
     "base_uri": "https://localhost:8080/",
     "height": 34
    },
    "colab_type": "code",
    "executionInfo": {
     "elapsed": 459,
     "status": "ok",
     "timestamp": 1576511165251,
     "user": {
      "displayName": "yuchi yao",
      "photoUrl": "",
      "userId": "00457884373990713813"
     },
     "user_tz": 300
    },
    "id": "BZzX5EkeQ1uE",
    "outputId": "63f87fda-5f54-4741-a7fe-4c9344d4a43c"
   },
   "outputs": [
    {
     "data": {
      "text/plain": [
       "0.007367453311403502"
      ]
     },
     "execution_count": 81,
     "metadata": {},
     "output_type": "execute_result"
    }
   ],
   "source": [
    "Rp.mean()"
   ]
  },
  {
   "cell_type": "markdown",
   "metadata": {
    "colab_type": "text",
    "id": "yaC-bM35Q1uG"
   },
   "source": [
    "**Portfolio Variance**\n",
    "\n",
    "Two asset case:\n",
    "\n",
    "$$Var(r_p)= Var(w_1r_1+w_2r_2)=Cov(w_1r_1+w_2r_2,w_1r_1+w_2r_2)$$\n",
    "\n",
    "* where we used that $Var(x)=Cov(x,x)$\n",
    "\n",
    "* We then distribute the terms\n",
    "\n",
    "$$Cov(w_1r_1,w_1r_1+w_2r_2)+Cov(w_2r_2,w_1r_1+w_2r_2)=Cov(w_1r_1,w_1r_1)+Cov(w_2r_2,w_2r_2)+Cov(w_2r_2,w_1r_1)+Cov(w_1r_1,w_2r_2)$$\n",
    "\n",
    "* This yields the classic formula\n",
    "\n",
    "$$Var(r_p)= w_1^2Var(r_1)+2w_2w_1Cov(r_2,r_1)+w_2^2Var(r_2)$$\n",
    "\n",
    "**N-asset case**\n",
    "\n",
    "From the \"term distribution\"  above it is intuitive what the N asset case would look like\n",
    "\n",
    "\n",
    "$$Var(r_p)= Var(\\sum_{j=1}^N w_jr_j)=Cov(\\sum_{j=1}^N w_jr_j,\\sum_{i=1}^N w_ir_i)=\\sum_{j=1}^N  w_j Cov(r_j,\\sum_{i=1}^N w_ir_i)=\\sum_{j=1}^N \\sum_{i=1}^N w_jw_iCov(r_j, r_i)$$\n",
    "\n",
    "\n",
    "* For a portfolio of 50 assets, this expression has 50 variance terms and 2450 covariance terms!\n",
    "\n",
    "\n",
    "\n",
    "* We can write\n",
    "\n",
    "$$\\sum_{j=1}^N \\sum_{i=1}^N w_jw_iCov(r_j, r_i)=W' Cov(R) W$$\n",
    "\n",
    "* where $Cov(R)$ is the N by N variance covariance matrix of the assets and W is the vector of weights\n",
    "\n",
    "\n",
    "* Why is this?\n",
    "\n",
    "$$Var(r_p)=Var(W'R)=Cov(W'R,W'R)=W'Cov(R,W'R)=(W'Cov(R,W'R))'=Cov(W'R,R)W=W'Cov(R)W$$\n",
    "\n",
    "* Where we used that covariance is a linear operator(can take constants out of it, one at a time) and that it is symmetric(cov(x,y)=cov(y,x)), so the covariance is a symmetic matrix X'=X.\n",
    "\n"
   ]
  },
  {
   "cell_type": "code",
   "execution_count": 82,
   "metadata": {
    "colab": {
     "base_uri": "https://localhost:8080/",
     "height": 51
    },
    "colab_type": "code",
    "executionInfo": {
     "elapsed": 328,
     "status": "ok",
     "timestamp": 1576511167976,
     "user": {
      "displayName": "yuchi yao",
      "photoUrl": "",
      "userId": "00457884373990713813"
     },
     "user_tz": 300
    },
    "id": "gYzLXmVvaAVU",
    "outputId": "732ce91f-b178-41ed-e688-df1b773f01a1"
   },
   "outputs": [
    {
     "name": "stdout",
     "output_type": "stream",
     "text": [
      "(6,)\n",
      "(6, 6)\n"
     ]
    }
   ],
   "source": [
    "print(W.shape)\n",
    "print(Data.cov().shape)"
   ]
  },
  {
   "cell_type": "code",
   "execution_count": 83,
   "metadata": {},
   "outputs": [
    {
     "data": {
      "text/html": [
       "<div>\n",
       "<style scoped>\n",
       "    .dataframe tbody tr th:only-of-type {\n",
       "        vertical-align: middle;\n",
       "    }\n",
       "\n",
       "    .dataframe tbody tr th {\n",
       "        vertical-align: top;\n",
       "    }\n",
       "\n",
       "    .dataframe thead th {\n",
       "        text-align: right;\n",
       "    }\n",
       "</style>\n",
       "<table border=\"1\" class=\"dataframe\">\n",
       "  <thead>\n",
       "    <tr style=\"text-align: right;\">\n",
       "      <th></th>\n",
       "      <th>RF</th>\n",
       "      <th>MKT</th>\n",
       "      <th>USA30yearGovBond</th>\n",
       "      <th>EmergingMarkets</th>\n",
       "      <th>WorldxUSA</th>\n",
       "      <th>WorldxUSAGovBond</th>\n",
       "    </tr>\n",
       "  </thead>\n",
       "  <tbody>\n",
       "    <tr>\n",
       "      <th>RF</th>\n",
       "      <td>6.942408e-06</td>\n",
       "      <td>-0.000002</td>\n",
       "      <td>0.000003</td>\n",
       "      <td>-0.000003</td>\n",
       "      <td>1.864051e-09</td>\n",
       "      <td>0.000004</td>\n",
       "    </tr>\n",
       "    <tr>\n",
       "      <th>MKT</th>\n",
       "      <td>-2.377807e-06</td>\n",
       "      <td>0.001936</td>\n",
       "      <td>0.000104</td>\n",
       "      <td>0.001280</td>\n",
       "      <td>1.254553e-03</td>\n",
       "      <td>0.000182</td>\n",
       "    </tr>\n",
       "    <tr>\n",
       "      <th>USA30yearGovBond</th>\n",
       "      <td>3.048525e-06</td>\n",
       "      <td>0.000104</td>\n",
       "      <td>0.001226</td>\n",
       "      <td>-0.000211</td>\n",
       "      <td>-1.662154e-05</td>\n",
       "      <td>0.000264</td>\n",
       "    </tr>\n",
       "    <tr>\n",
       "      <th>EmergingMarkets</th>\n",
       "      <td>-2.911724e-06</td>\n",
       "      <td>0.001280</td>\n",
       "      <td>-0.000211</td>\n",
       "      <td>0.003544</td>\n",
       "      <td>1.650762e-03</td>\n",
       "      <td>0.000243</td>\n",
       "    </tr>\n",
       "    <tr>\n",
       "      <th>WorldxUSA</th>\n",
       "      <td>1.864051e-09</td>\n",
       "      <td>0.001255</td>\n",
       "      <td>-0.000017</td>\n",
       "      <td>0.001651</td>\n",
       "      <td>2.174723e-03</td>\n",
       "      <td>0.000419</td>\n",
       "    </tr>\n",
       "    <tr>\n",
       "      <th>WorldxUSAGovBond</th>\n",
       "      <td>3.905048e-06</td>\n",
       "      <td>0.000182</td>\n",
       "      <td>0.000264</td>\n",
       "      <td>0.000243</td>\n",
       "      <td>4.191618e-04</td>\n",
       "      <td>0.000407</td>\n",
       "    </tr>\n",
       "  </tbody>\n",
       "</table>\n",
       "</div>"
      ],
      "text/plain": [
       "                            RF       MKT  USA30yearGovBond  EmergingMarkets  \\\n",
       "RF                6.942408e-06 -0.000002          0.000003        -0.000003   \n",
       "MKT              -2.377807e-06  0.001936          0.000104         0.001280   \n",
       "USA30yearGovBond  3.048525e-06  0.000104          0.001226        -0.000211   \n",
       "EmergingMarkets  -2.911724e-06  0.001280         -0.000211         0.003544   \n",
       "WorldxUSA         1.864051e-09  0.001255         -0.000017         0.001651   \n",
       "WorldxUSAGovBond  3.905048e-06  0.000182          0.000264         0.000243   \n",
       "\n",
       "                     WorldxUSA  WorldxUSAGovBond  \n",
       "RF                1.864051e-09          0.000004  \n",
       "MKT               1.254553e-03          0.000182  \n",
       "USA30yearGovBond -1.662154e-05          0.000264  \n",
       "EmergingMarkets   1.650762e-03          0.000243  \n",
       "WorldxUSA         2.174723e-03          0.000419  \n",
       "WorldxUSAGovBond  4.191618e-04          0.000407  "
      ]
     },
     "execution_count": 83,
     "metadata": {},
     "output_type": "execute_result"
    }
   ],
   "source": [
    "Data.cov()"
   ]
  },
  {
   "cell_type": "code",
   "execution_count": 84,
   "metadata": {
    "colab": {
     "base_uri": "https://localhost:8080/",
     "height": 34
    },
    "colab_type": "code",
    "executionInfo": {
     "elapsed": 321,
     "status": "ok",
     "timestamp": 1576511169801,
     "user": {
      "displayName": "yuchi yao",
      "photoUrl": "",
      "userId": "00457884373990713813"
     },
     "user_tz": 300
    },
    "id": "Y74YRhaKQ1uG",
    "outputId": "216620ee-b943-431c-b072-c6c6923cf9c5"
   },
   "outputs": [
    {
     "data": {
      "text/plain": [
       "0.0005455164562658996"
      ]
     },
     "execution_count": 84,
     "metadata": {},
     "output_type": "execute_result"
    }
   ],
   "source": [
    "W @ Data.cov() @ W"
   ]
  },
  {
   "cell_type": "markdown",
   "metadata": {
    "colab_type": "text",
    "id": "KhotHJjCQ1uI"
   },
   "source": [
    "to get the volatility, i.e. , standard deviation:"
   ]
  },
  {
   "cell_type": "code",
   "execution_count": 85,
   "metadata": {
    "colab": {
     "base_uri": "https://localhost:8080/",
     "height": 34
    },
    "colab_type": "code",
    "executionInfo": {
     "elapsed": 295,
     "status": "ok",
     "timestamp": 1576511171439,
     "user": {
      "displayName": "yuchi yao",
      "photoUrl": "",
      "userId": "00457884373990713813"
     },
     "user_tz": 300
    },
    "id": "dF1H63YuQ1uI",
    "outputId": "8c43ce8a-dab9-49b9-bc54-8f63090606ad"
   },
   "outputs": [
    {
     "data": {
      "text/plain": [
       "0.02335629371852263"
      ]
     },
     "execution_count": 85,
     "metadata": {},
     "output_type": "execute_result"
    }
   ],
   "source": [
    "(W.T@ Data.cov() @ W)**0.5"
   ]
  },
  {
   "cell_type": "markdown",
   "metadata": {
    "colab_type": "text",
    "id": "2ZUoD_7KQ1uK"
   },
   "source": [
    "Again, the sample variance of the portfolio return realizations we constructed above should exactly match this:\n"
   ]
  },
  {
   "cell_type": "code",
   "execution_count": 86,
   "metadata": {
    "colab": {
     "base_uri": "https://localhost:8080/",
     "height": 34
    },
    "colab_type": "code",
    "executionInfo": {
     "elapsed": 385,
     "status": "ok",
     "timestamp": 1576511173547,
     "user": {
      "displayName": "yuchi yao",
      "photoUrl": "",
      "userId": "00457884373990713813"
     },
     "user_tz": 300
    },
    "id": "D6M4QqYyQ1uL",
    "outputId": "7cfb5370-ea60-418c-afe9-aa49a7adc70d"
   },
   "outputs": [
    {
     "data": {
      "text/plain": [
       "0.023370767135194474"
      ]
     },
     "execution_count": 86,
     "metadata": {},
     "output_type": "execute_result"
    }
   ],
   "source": [
    "Rp.std()"
   ]
  },
  {
   "cell_type": "markdown",
   "metadata": {},
   "source": [
    "**Takeways**\n",
    "\n",
    "To compute the in sample variance of a portfolio you have two options\n",
    "\n",
    "1. Compute the time-series the portfolio returns. This will give you one time-series whch you can simply compute the variance (\".var()\" method\n",
    "\n",
    "2. You can estimate the covariance matrix across assets using .cov() method and apply the quadratic formula \"W @ Data.cov() @ W\"\n",
    "\n",
    "\n",
    "They are **MATHEMATICALLY** identical! option 2 is easier and more intuitive , but option 1 is important to understand portfolio maximization which we will do soon"
   ]
  },
  {
   "cell_type": "markdown",
   "metadata": {
    "colab_type": "text",
    "id": "kQawQj7VQ1uN"
   },
   "source": [
    "**Diversification**\n",
    "\n",
    "* A key concept in investing is diversification\n",
    "\n",
    "* The famous: \"don't put all your eggs in one basket\" advice\n",
    "\n",
    "* There are potential benefits of diversifcation for an investor when there are assets that  are imperfecly correlated with the investor portfolio\n",
    "\n",
    "* So lets look at this from the vantage point of a US investors that is fully invested in the US equity market portfolio and is considering the benefits of investing in other world equity markets"
   ]
  },
  {
   "cell_type": "code",
   "execution_count": 87,
   "metadata": {
    "colab": {
     "base_uri": "https://localhost:8080/",
     "height": 111
    },
    "colab_type": "code",
    "executionInfo": {
     "elapsed": 312,
     "status": "ok",
     "timestamp": 1576511176438,
     "user": {
      "displayName": "yuchi yao",
      "photoUrl": "",
      "userId": "00457884373990713813"
     },
     "user_tz": 300
    },
    "id": "OJhCMU_FQ1uN",
    "outputId": "9354a192-8274-4933-d0ab-47f96659c80e"
   },
   "outputs": [
    {
     "data": {
      "text/html": [
       "<div>\n",
       "<style scoped>\n",
       "    .dataframe tbody tr th:only-of-type {\n",
       "        vertical-align: middle;\n",
       "    }\n",
       "\n",
       "    .dataframe tbody tr th {\n",
       "        vertical-align: top;\n",
       "    }\n",
       "\n",
       "    .dataframe thead th {\n",
       "        text-align: right;\n",
       "    }\n",
       "</style>\n",
       "<table border=\"1\" class=\"dataframe\">\n",
       "  <thead>\n",
       "    <tr style=\"text-align: right;\">\n",
       "      <th></th>\n",
       "      <th>MKT</th>\n",
       "      <th>WorldxUSA</th>\n",
       "    </tr>\n",
       "  </thead>\n",
       "  <tbody>\n",
       "    <tr>\n",
       "      <th>MKT</th>\n",
       "      <td>1.000000</td>\n",
       "      <td>0.611369</td>\n",
       "    </tr>\n",
       "    <tr>\n",
       "      <th>WorldxUSA</th>\n",
       "      <td>0.611369</td>\n",
       "      <td>1.000000</td>\n",
       "    </tr>\n",
       "  </tbody>\n",
       "</table>\n",
       "</div>"
      ],
      "text/plain": [
       "                MKT  WorldxUSA\n",
       "MKT        1.000000   0.611369\n",
       "WorldxUSA  0.611369   1.000000"
      ]
     },
     "execution_count": 87,
     "metadata": {},
     "output_type": "execute_result"
    }
   ],
   "source": [
    "# here is the co-movement across the asset\n",
    "Data[['MKT','WorldxUSA']].corr()"
   ]
  },
  {
   "cell_type": "markdown",
   "metadata": {
    "colab_type": "text",
    "id": "1zYRuvsBQ1uP"
   },
   "source": [
    "What is noteworthy about this correlation matrix? \n",
    "\n",
    "Are there any benefits of diversification?"
   ]
  },
  {
   "cell_type": "markdown",
   "metadata": {
    "colab_type": "text",
    "id": "TB8Jmc1nQ1uP"
   },
   "source": [
    "Lets compute how the variance of the investor portfolio varies as she varies her portfolio weight on the world market"
   ]
  },
  {
   "cell_type": "code",
   "execution_count": 88,
   "metadata": {},
   "outputs": [
    {
     "data": {
      "text/plain": [
       "array([0.  , 0.05, 0.1 , 0.15, 0.2 , 0.25, 0.3 , 0.35, 0.4 , 0.45, 0.5 ,\n",
       "       0.55, 0.6 , 0.65, 0.7 , 0.75, 0.8 , 0.85, 0.9 , 0.95, 1.  ])"
      ]
     },
     "execution_count": 88,
     "metadata": {},
     "output_type": "execute_result"
    }
   ],
   "source": [
    "w=np.arange(0,1.05,0.05)\n",
    "w"
   ]
  },
  {
   "cell_type": "code",
   "execution_count": 89,
   "metadata": {
    "colab": {
     "base_uri": "https://localhost:8080/",
     "height": 374
    },
    "colab_type": "code",
    "executionInfo": {
     "elapsed": 342,
     "status": "ok",
     "timestamp": 1576511179021,
     "user": {
      "displayName": "yuchi yao",
      "photoUrl": "",
      "userId": "00457884373990713813"
     },
     "user_tz": 300
    },
    "id": "vqKUY4k0Q1uQ",
    "outputId": "1ff39558-fc7f-4062-a989-da1cace387b1"
   },
   "outputs": [
    {
     "name": "stdout",
     "output_type": "stream",
     "text": [
      "[0. 1.]\n",
      "[0.05 0.95]\n",
      "[0.1 0.9]\n",
      "[0.15 0.85]\n",
      "[0.2 0.8]\n",
      "[0.25 0.75]\n",
      "[0.3 0.7]\n",
      "[0.35 0.65]\n",
      "[0.4 0.6]\n",
      "[0.45 0.55]\n",
      "[0.5 0.5]\n",
      "[0.55 0.45]\n",
      "[0.6 0.4]\n",
      "[0.65 0.35]\n",
      "[0.7 0.3]\n",
      "[0.75 0.25]\n",
      "[0.8 0.2]\n",
      "[0.85 0.15]\n",
      "[0.9 0.1]\n",
      "[0.95 0.05]\n",
      "[1. 0.]\n"
     ]
    }
   ],
   "source": [
    "D=Data.loc[:,['MKT','WorldxUSA']]\n",
    "UsW=[]\n",
    "# w here is a vector of weights on the US MKT and 1-w is the the weight on the international market\n",
    "w=np.arange(0,1.05,0.05)\n",
    "for x in w:\n",
    "    W=np.array([x,1-x])\n",
    "    print(W)\n",
    "    # save the weight on the world market as the first element of UsW\n",
    "    # save the vol of the investor's portfolio as the second element of UsW\n",
    "    #UsW.append([1-x,((W.T @ D.cov() @ W)**0.5)*12**0.5])\n",
    "    Rp=D@ W\n",
    "    UsW.append([1-x,Rp.std()*12**0.5])\n",
    "    "
   ]
  },
  {
   "cell_type": "code",
   "execution_count": 90,
   "metadata": {
    "colab": {
     "base_uri": "https://localhost:8080/",
     "height": 119
    },
    "colab_type": "code",
    "executionInfo": {
     "elapsed": 307,
     "status": "ok",
     "timestamp": 1576511181290,
     "user": {
      "displayName": "yuchi yao",
      "photoUrl": "",
      "userId": "00457884373990713813"
     },
     "user_tz": 300
    },
    "id": "PE1K1pYYQ1uR",
    "outputId": "2f5d1e27-63a4-4334-b9e9-f166271ff9ca",
    "scrolled": true
   },
   "outputs": [
    {
     "name": "stdout",
     "output_type": "stream",
     "text": [
      "[1.   0.95 0.9  0.85 0.8  0.75 0.7  0.65 0.6  0.55 0.5  0.45 0.4  0.35\n",
      " 0.3  0.25 0.2  0.15 0.1  0.05 0.  ]\n",
      "[0.16154465 0.15824199 0.15517892 0.15236987 0.14982914 0.14757059\n",
      " 0.14560735 0.1439515  0.14261376 0.14160313 0.14092665 0.14058915\n",
      " 0.14059308 0.14093839 0.1416226  0.14264082 0.14398597 0.145649\n",
      " 0.14761916 0.14988433 0.15243138]\n"
     ]
    }
   ],
   "source": [
    "UsW=np.array(UsW)\n",
    "# The first column of UsW is the weights on the world market\n",
    "print(UsW[:,0])\n",
    "# The second column of UsW is the vol of the portfolio\n",
    "print(UsW[:,1])"
   ]
  },
  {
   "cell_type": "code",
   "execution_count": 91,
   "metadata": {
    "colab": {
     "base_uri": "https://localhost:8080/",
     "height": 283
    },
    "colab_type": "code",
    "executionInfo": {
     "elapsed": 335,
     "status": "ok",
     "timestamp": 1576511183661,
     "user": {
      "displayName": "yuchi yao",
      "photoUrl": "",
      "userId": "00457884373990713813"
     },
     "user_tz": 300
    },
    "id": "vp7XwaEDcRzu",
    "outputId": "6bac1dd3-a45f-4ba8-d40e-408443fe4bb1"
   },
   "outputs": [
    {
     "data": {
      "image/png": "[encoded data removed]",
      "text/plain": [
       "<Figure size 432x288 with 1 Axes>"
      ]
     },
     "metadata": {
      "needs_background": "light"
     },
     "output_type": "display_data"
    }
   ],
   "source": [
    "# Make a sacatter plot\n",
    "plt.scatter(UsW[:,0],UsW[:,1])\n",
    "plt.xlabel('Weight on World')\n",
    "#plt.ylim([0.04,0.05])\n",
    "plt.show()"
   ]
  },
  {
   "cell_type": "markdown",
   "metadata": {
    "colab_type": "text",
    "id": "bJEr5jYDQ1uT"
   },
   "source": [
    "* We can also look at the investment frontier that such an investor faces: How her expected returns change with the variance\n",
    "\n",
    "* Lets also look at annualized quantities for more intution"
   ]
  },
  {
   "cell_type": "code",
   "execution_count": 92,
   "metadata": {},
   "outputs": [
    {
     "data": {
      "text/plain": [
       "MKT          0.108621\n",
       "WorldxUSA    0.096725\n",
       "dtype: float64"
      ]
     },
     "execution_count": 92,
     "metadata": {},
     "output_type": "execute_result"
    }
   ],
   "source": [
    "D.mean()*12"
   ]
  },
  {
   "cell_type": "code",
   "execution_count": 93,
   "metadata": {},
   "outputs": [
    {
     "data": {
      "text/plain": [
       "MKT          0.152431\n",
       "WorldxUSA    0.161545\n",
       "dtype: float64"
      ]
     },
     "execution_count": 93,
     "metadata": {},
     "output_type": "execute_result"
    }
   ],
   "source": [
    "D.std()*12**0.5"
   ]
  },
  {
   "cell_type": "code",
   "execution_count": 94,
   "metadata": {
    "colab": {},
    "colab_type": "code",
    "id": "uS_JOCT3Q1uU"
   },
   "outputs": [],
   "source": [
    "UsW=[]\n",
    "w=np.arange(0,1.05,0.05)\n",
    "for x in w:\n",
    "    W=np.array([x,1-x])\n",
    "    # save the weight on the world market as the first element of UsW\n",
    "    # save the annulized vol of the portfolio as the second element of UsW\n",
    "    # save the annulized expected return of the portfolio as the third element of UsW\n",
    "    UsW.append([1-x,(W.T @ D.cov() @ W*12)**0.5,W.T @ np.array(D.mean())*12])\n",
    "UsW=np.array(UsW)"
   ]
  },
  {
   "cell_type": "code",
   "execution_count": 95,
   "metadata": {
    "colab": {
     "base_uri": "https://localhost:8080/",
     "height": 279
    },
    "colab_type": "code",
    "executionInfo": {
     "elapsed": 423,
     "status": "ok",
     "timestamp": 1576511187853,
     "user": {
      "displayName": "yuchi yao",
      "photoUrl": "",
      "userId": "00457884373990713813"
     },
     "user_tz": 300
    },
    "id": "2u5S6B36Q1uW",
    "outputId": "fd227da8-376b-4bec-ca81-0a5160298173"
   },
   "outputs": [
    {
     "data": {
      "image/png": "[encoded data removed]",
      "text/plain": [
       "<Figure size 432x288 with 1 Axes>"
      ]
     },
     "metadata": {
      "needs_background": "light"
     },
     "output_type": "display_data"
    }
   ],
   "source": [
    "# UsW[:,1], the annulized vol of the portfolio\n",
    "# UsW[:,2], the annulized expected return of the portfolio\n",
    "plt.scatter(UsW[:,1],UsW[:,2])\n",
    "plt.xlabel('Volatility')\n",
    "plt.ylabel('Average return')\n",
    "\n",
    "plt.show()\n"
   ]
  },
  {
   "cell_type": "markdown",
   "metadata": {
    "colab_type": "text",
    "id": "an5OX-i_Q1uY"
   },
   "source": [
    "* Can you tell which extreme dot corresponds to each asset?\n",
    "\n",
    "* How can you find out easily? "
   ]
  },
  {
   "cell_type": "code",
   "execution_count": 96,
   "metadata": {
    "colab": {
     "base_uri": "https://localhost:8080/",
     "height": 68
    },
    "colab_type": "code",
    "executionInfo": {
     "elapsed": 296,
     "status": "ok",
     "timestamp": 1576511189822,
     "user": {
      "displayName": "yuchi yao",
      "photoUrl": "",
      "userId": "00457884373990713813"
     },
     "user_tz": 300
    },
    "id": "CHUJ6UxaQ1uZ",
    "outputId": "0e3d2cec-74d8-4065-ea95-96a5dccb81d6"
   },
   "outputs": [
    {
     "data": {
      "text/plain": [
       "MKT          0.108621\n",
       "WorldxUSA    0.096725\n",
       "dtype: float64"
      ]
     },
     "execution_count": 96,
     "metadata": {},
     "output_type": "execute_result"
    }
   ],
   "source": [
    "D.mean()*12"
   ]
  },
  {
   "cell_type": "code",
   "execution_count": 97,
   "metadata": {
    "colab": {
     "base_uri": "https://localhost:8080/",
     "height": 68
    },
    "colab_type": "code",
    "executionInfo": {
     "elapsed": 258,
     "status": "ok",
     "timestamp": 1576511191648,
     "user": {
      "displayName": "yuchi yao",
      "photoUrl": "",
      "userId": "00457884373990713813"
     },
     "user_tz": 300
    },
    "id": "jI4-tnJFQ1ua",
    "outputId": "3e82086e-d20e-4843-85ed-5181d0a27198"
   },
   "outputs": [
    {
     "data": {
      "text/plain": [
       "MKT          0.152431\n",
       "WorldxUSA    0.161545\n",
       "dtype: float64"
      ]
     },
     "execution_count": 97,
     "metadata": {},
     "output_type": "execute_result"
    }
   ],
   "source": [
    "D.std()*12**0.5"
   ]
  },
  {
   "cell_type": "markdown",
   "metadata": {
    "colab_type": "text",
    "id": "2Wm0cUZTQ1uc"
   },
   "source": [
    "* So it seems like that for some investors there is no diversification benefit?\n",
    "\n",
    "* If you are a US investor and you are comfortable with the US market volatlity, why would you ever invest in an asset of lower expected return?\n",
    "\n",
    "* For the world investors, clearly they can benefit of holding a bit of the US market-and this does not depend on the preferences for risk as they can get higher returns and lower volatility through diversification\n",
    "\n",
    "> Why might the US investor want to invest in the world market even if if has a lower expected return and higher variance?"
   ]
  }
 ],
 "metadata": {
  "colab": {
   "collapsed_sections": [],
   "name": "Notebook 4.ipynb",
   "provenance": [],
   "toc_visible": true
  },
  "kernelspec": {
   "display_name": "Python 3",
   "language": "python",
   "name": "python3"
  },
  "language_info": {
   "codemirror_mode": {
    "name": "ipython",
    "version": 3
   },
   "file_extension": ".py",
   "mimetype": "text/x-python",
   "name": "python",
   "nbconvert_exporter": "python",
   "pygments_lexer": "ipython3",
   "version": "3.8.5"
  }
 },
 "nbformat": 4,
 "nbformat_minor": 4
}
