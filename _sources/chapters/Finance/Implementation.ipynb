{
 "cells": [
  {
   "cell_type": "code",
   "execution_count": 5,
   "metadata": {
    "colab_type": "text",
    "id": "lDoLr2YkjO0z"
   },
   "outputs": [],
   "source": [
    "import numpy as np\n",
    "import pandas as pd\n",
    "%matplotlib inline\n",
    "import matplotlib.pyplot as plt\n",
    "# import regression package\n"
   ]
  },
  {
   "cell_type": "markdown",
   "metadata": {
    "colab_type": "text",
    "id": "LN-HITwdjO4P"
   },
   "source": [
    "# Some insights on Implementation and Liquidity\n",
    "\n",
    "So we have taken prices as given and discussed quantitative allocation rules that overperform relative to a standard CAPM benchmark.\n",
    "\n",
    "An important question is whether we would be able to trade at those prices if we tried to implement the strategy.\n",
    "\n",
    "Liquidity is the ease of trading a security.\n",
    "\n",
    "This can be quite complex and encompass many things, all of which impose a cost on those wishing to trade.\n",
    "\n",
    "Sources of illiquidity:\n",
    "\n",
    "1. Exogenous transactions costs = brokerage fees, order-processing costs, transaction taxes.\n",
    "\n",
    "2. Demand pressure = when need to sell quickly, sometimes a buyer is not immediately available (search costs).\n",
    "\n",
    "3. Inventory risk = if can’t find a buyer will sell to a market maker who will later sell position.  But, since market maker faces future price changes, you must compensate him for this risk.\n",
    "\n",
    "4. Private information = concern over trading against an informed party (e.g., insider).  Need to be compensated for this. Private information can be about fundamentals or order flow\n",
    "\n",
    "Obviuosly a perfect answer to this question requires costly experimentation. It would require trading and measuring how prices change in reponse to your trading behavior."
   ]
  },
  {
   "cell_type": "markdown",
   "metadata": {
    "colab_type": "text",
    "id": "02ayUoX8c7Qy"
   },
   "source": [
    "## Absorption capacity\n",
    "\n",
    "A much simpler approach is to measure the absorption capacity of the strategy.\n",
    "\n",
    "The idea is to measure how much of the trading volume of each stock you would \"use\" to implement the strategy for a given position size\n",
    "\n",
    "Specifically:\n",
    "\n",
    "$$UsedVolume_{i,t}=\\frac{Trading_{i,t}}{Volume_{i,t}}$$\n",
    "\n",
    "The idea is that if you trade a small share of the volume, you are likely to be able to trade at the posted prices.\n",
    "\n",
    "\n",
    "To compute how much you need to trade you need to compare the desired weights in date $t$ with the weights you have in the end of date $t+1$.\n",
    "\n",
    "* Before trading, your weight in date $t+1$ is\n",
    "\n",
    "\n",
    "$$W_{i,t+1}(\\text{before trading})= \\frac{W_{i,t}^*(1+R_{i,t+1})}{(1+R_{t+1}^{strategy})}$$\n",
    "\n",
    "\n",
    "* If the desired position in the stock is $W_{i,t+1}^*$, then\n",
    "\n",
    "\\begin{align}\n",
    "UsedVolume_{i,t}&=\\frac{position \\times \\bigg(W_{i,t+1}^*-W_{i,t+1}(\\text{before trading})\\bigg)}{Volume_{i,t}} \\\\\n",
    "&=\\frac{position}{Volume_{i,t}}\\left(W_{i,t+1}^*-\\frac{W_{i,t}^*(1+R_{i,t+1})}{1+R_{t+1}^{strategy}}\\right)\n",
    "\\end{align}\n",
    "\n",
    "* $UsedVolume_{i,t}$ is a stock-time specific statistic. Implementability will depend on how high this quantity is across time and across stocks-- the lower the better. \n",
    "\n",
    "* If it is very high (i.e., close to  1), it means that your position would require almost all volume in a particular stock. It doesn't mean that you wouldn't be able to trade, but likely prices would move against you (i.e., go up as you buy, do down as you sell)\n",
    "\n",
    "* One very conservative way of looking at it is to look at the **maximum** of this statistic across stocks. This tells you the \"weakest\" link in your portfolio formation. \n",
    "\n",
    "* The max statistic is the right one to look at if you are unwilling to deviate from your \"wish portfolio\".\n",
    "\n",
    "* But the \"wish portfolio\" does not take into account transaction costs\n",
    "\n",
    "> How can portfolios take into account trading costs to reduce total costs substantially?\n",
    "\n",
    "> Can we change the portfolios to reduce trading costs without altering them significantly?\n",
    "\n",
    "One simple way of looking at this is to look at the  95/75/50 percentiles of the used volume distribution.\n",
    "\n",
    "* If it declines steeply it might make sense to avoid the 5% to 25% of the stocks that are least liquid in you portfolio\n",
    "\n",
    "* But as you deviate from the original portfolio you will have tracking error relative to the original strategy.\n"
   ]
  },
  {
   "cell_type": "code",
   "execution_count": null,
   "metadata": {
    "colab": {},
    "colab_type": "code",
    "id": "6-AqJnek3i3H"
   },
   "outputs": [],
   "source": [
    "temp=data[['permco','date','ret', 'me_comp','vol','prc']].sort_values(['permco','date']).set_index('date').drop_duplicates()"
   ]
  },
  {
   "cell_type": "code",
   "execution_count": null,
   "metadata": {
    "colab": {
     "base_uri": "https://localhost:8080/",
     "height": 419
    },
    "colab_type": "code",
    "executionInfo": {
     "elapsed": 630,
     "status": "ok",
     "timestamp": 1579052714234,
     "user": {
      "displayName": "yuchi yao",
      "photoUrl": "",
      "userId": "00457884373990713813"
     },
     "user_tz": 300
    },
    "id": "kK7UkBZf3olf",
    "outputId": "570731c4-0cb7-4bdf-baae-5a1b286150f8"
   },
   "outputs": [
    {
     "data": {
      "text/html": [
       "<div>\n",
       "<style scoped>\n",
       "    .dataframe tbody tr th:only-of-type {\n",
       "        vertical-align: middle;\n",
       "    }\n",
       "\n",
       "    .dataframe tbody tr th {\n",
       "        vertical-align: top;\n",
       "    }\n",
       "\n",
       "    .dataframe thead th {\n",
       "        text-align: right;\n",
       "    }\n",
       "</style>\n",
       "<table border=\"1\" class=\"dataframe\">\n",
       "  <thead>\n",
       "    <tr style=\"text-align: right;\">\n",
       "      <th></th>\n",
       "      <th>index</th>\n",
       "      <th>date</th>\n",
       "      <th>permco</th>\n",
       "      <th>ret</th>\n",
       "      <th>me_comp</th>\n",
       "      <th>vol</th>\n",
       "      <th>prc</th>\n",
       "    </tr>\n",
       "  </thead>\n",
       "  <tbody>\n",
       "    <tr>\n",
       "      <th>1300</th>\n",
       "      <td>1300</td>\n",
       "      <td>1990-01-31</td>\n",
       "      <td>32</td>\n",
       "      <td>-0.143836</td>\n",
       "      <td>582.468750</td>\n",
       "      <td>2162.0</td>\n",
       "      <td>31.250000</td>\n",
       "    </tr>\n",
       "    <tr>\n",
       "      <th>1301</th>\n",
       "      <td>1301</td>\n",
       "      <td>1990-01-31</td>\n",
       "      <td>32</td>\n",
       "      <td>-0.131944</td>\n",
       "      <td>582.468750</td>\n",
       "      <td>3614.0</td>\n",
       "      <td>31.250000</td>\n",
       "    </tr>\n",
       "    <tr>\n",
       "      <th>1302</th>\n",
       "      <td>1302</td>\n",
       "      <td>1990-02-28</td>\n",
       "      <td>32</td>\n",
       "      <td>-0.080000</td>\n",
       "      <td>538.256000</td>\n",
       "      <td>1320.0</td>\n",
       "      <td>28.750000</td>\n",
       "    </tr>\n",
       "    <tr>\n",
       "      <th>1303</th>\n",
       "      <td>1303</td>\n",
       "      <td>1990-02-28</td>\n",
       "      <td>32</td>\n",
       "      <td>-0.072000</td>\n",
       "      <td>538.256000</td>\n",
       "      <td>1471.0</td>\n",
       "      <td>29.000000</td>\n",
       "    </tr>\n",
       "    <tr>\n",
       "      <th>1304</th>\n",
       "      <td>1304</td>\n",
       "      <td>1990-03-30</td>\n",
       "      <td>32</td>\n",
       "      <td>0.034783</td>\n",
       "      <td>554.867250</td>\n",
       "      <td>1829.0</td>\n",
       "      <td>29.750000</td>\n",
       "    </tr>\n",
       "    <tr>\n",
       "      <th>...</th>\n",
       "      <td>...</td>\n",
       "      <td>...</td>\n",
       "      <td>...</td>\n",
       "      <td>...</td>\n",
       "      <td>...</td>\n",
       "      <td>...</td>\n",
       "      <td>...</td>\n",
       "    </tr>\n",
       "    <tr>\n",
       "      <th>1754105</th>\n",
       "      <td>1754105</td>\n",
       "      <td>2017-10-31</td>\n",
       "      <td>55773</td>\n",
       "      <td>NaN</td>\n",
       "      <td>2508.854117</td>\n",
       "      <td>2.0</td>\n",
       "      <td>NaN</td>\n",
       "    </tr>\n",
       "    <tr>\n",
       "      <th>1754106</th>\n",
       "      <td>1754106</td>\n",
       "      <td>2017-11-30</td>\n",
       "      <td>55773</td>\n",
       "      <td>-0.022126</td>\n",
       "      <td>2583.637062</td>\n",
       "      <td>95594.0</td>\n",
       "      <td>45.080002</td>\n",
       "    </tr>\n",
       "    <tr>\n",
       "      <th>1754107</th>\n",
       "      <td>1754107</td>\n",
       "      <td>2017-11-30</td>\n",
       "      <td>55773</td>\n",
       "      <td>-0.145826</td>\n",
       "      <td>2583.637062</td>\n",
       "      <td>5.0</td>\n",
       "      <td>-46.040001</td>\n",
       "    </tr>\n",
       "    <tr>\n",
       "      <th>1754108</th>\n",
       "      <td>1754108</td>\n",
       "      <td>2017-12-29</td>\n",
       "      <td>55773</td>\n",
       "      <td>-0.016637</td>\n",
       "      <td>2541.522427</td>\n",
       "      <td>47669.0</td>\n",
       "      <td>44.330002</td>\n",
       "    </tr>\n",
       "    <tr>\n",
       "      <th>1754109</th>\n",
       "      <td>1754109</td>\n",
       "      <td>2017-12-29</td>\n",
       "      <td>55773</td>\n",
       "      <td>-0.015747</td>\n",
       "      <td>2541.522427</td>\n",
       "      <td>4.0</td>\n",
       "      <td>-45.315002</td>\n",
       "    </tr>\n",
       "  </tbody>\n",
       "</table>\n",
       "<p>44814 rows × 7 columns</p>\n",
       "</div>"
      ],
      "text/plain": [
       "           index       date  permco       ret      me_comp      vol        prc\n",
       "1300        1300 1990-01-31      32 -0.143836   582.468750   2162.0  31.250000\n",
       "1301        1301 1990-01-31      32 -0.131944   582.468750   3614.0  31.250000\n",
       "1302        1302 1990-02-28      32 -0.080000   538.256000   1320.0  28.750000\n",
       "1303        1303 1990-02-28      32 -0.072000   538.256000   1471.0  29.000000\n",
       "1304        1304 1990-03-30      32  0.034783   554.867250   1829.0  29.750000\n",
       "...          ...        ...     ...       ...          ...      ...        ...\n",
       "1754105  1754105 2017-10-31   55773       NaN  2508.854117      2.0        NaN\n",
       "1754106  1754106 2017-11-30   55773 -0.022126  2583.637062  95594.0  45.080002\n",
       "1754107  1754107 2017-11-30   55773 -0.145826  2583.637062      5.0 -46.040001\n",
       "1754108  1754108 2017-12-29   55773 -0.016637  2541.522427  47669.0  44.330002\n",
       "1754109  1754109 2017-12-29   55773 -0.015747  2541.522427      4.0 -45.315002\n",
       "\n",
       "[44814 rows x 7 columns]"
      ]
     },
     "execution_count": 35,
     "metadata": {
      "tags": []
     },
     "output_type": "execute_result"
    }
   ],
   "source": [
    "temp=temp.reset_index()\n",
    "temp[temp.duplicated(subset=['date','permco'],keep=False)]"
   ]
  },
  {
   "cell_type": "code",
   "execution_count": null,
   "metadata": {
    "colab": {},
    "colab_type": "code",
    "id": "mVVvbCvijh90"
   },
   "outputs": [],
   "source": [
    "# data=crsp_m.copy()\n",
    "# ngroups=10\n",
    "\n",
    "def momreturns_w(data, ngroups):\n",
    "    \n",
    "    # step1. create a temporary crsp dataset\n",
    "    _tmp_crsp = data[['permco','date','ret', 'me_comp','vol','prc']].sort_values(['permco','date']).set_index('date').drop_duplicates()\n",
    "    _tmp_crsp['volume']=_tmp_crsp['vol']*_tmp_crsp['prc'].abs()*100/1e6 # in million dollars like me\n",
    "\n",
    "    # step 2: construct the signal\n",
    "    _tmp_crsp['grossret']=_tmp_crsp['ret']+1\n",
    "    _tmp_cumret=_tmp_crsp.groupby('permco')['grossret'].rolling(window=12).apply(np.prod, raw=True)-1\n",
    "    _tmp_cumret=_tmp_cumret.reset_index().rename(columns={'grossret':'cumret'})\n",
    "\n",
    "    _tmp = pd.merge(_tmp_crsp.reset_index(), _tmp_cumret[['permco','date','cumret']], how='left', on=['permco','date'])\n",
    "    # merge the 12 month return signal back to the original database\n",
    "    _tmp['mom']=_tmp.groupby('permco')['cumret'].shift(2)\n",
    "\n",
    "    # step 3: rank assets by signal\n",
    "    mom=_tmp.sort_values(['date','permco']) # sort by date and firm identifier \n",
    "    mom=mom.dropna(subset=['mom'], how='any')# drop the row if any of these variables 'mom','ret','me' are missing\n",
    "    mom['mom_group']=mom.groupby(['date'])['mom'].transform(lambda x: pd.qcut(x, ngroups, labels=False,duplicates='drop'))\n",
    "    # create `ngroups` groups each month. Assign membership accroding to the stock ranking in the distribution of trading signal \n",
    "    # in a given month \n",
    "    # transform in string the group names\n",
    "    mom=mom.dropna(subset=['mom_group'], how='any')# drop the row if any of 'mom_group' is missing\n",
    "    mom['mom_group']=mom['mom_group'].astype(int).astype(str).apply(lambda x: 'm{}'.format(x))\n",
    "\n",
    "    mom['date']=mom['date']+MonthEnd(0) #shift all the date to end of the month\n",
    "    mom=mom.sort_values(['permco','date']) # resort \n",
    "\n",
    "    # step 4: form portfolio weights\n",
    "    def wavg_wght(group, ret_name, weight_name):\n",
    "        d = group[ret_name]\n",
    "        w = group[weight_name]\n",
    "        try:\n",
    "            group['Wght']=(w) / w.sum()\n",
    "            return group[['date','permco','Wght']]\n",
    "        except ZeroDivisionError:\n",
    "            return np.nan\n",
    "    # We now simply have to  use the above function to construct the portfolio\n",
    "\n",
    "    # the code below applies the function in each date,mom_group group,\n",
    "    # so it applies the function to each of these subgroups of the data set, \n",
    "    # so it retursn one time-series for each mom_group, as it average the returns of\n",
    "    # all the firms in a given group in a given date\n",
    "\n",
    "    weights = mom.groupby(['date','mom_group']).apply(wavg_wght, 'ret','me_comp') \n",
    "\n",
    "    # merge back\n",
    "    weights=mom.merge(weights,on=['date','permco'])\n",
    "    weights=weights.sort_values(['date','permco'])\n",
    "\n",
    "    weights['mom_group_lead']=weights.groupby('permco').mom_group.shift(-1)\n",
    "    weights['Wght_lead']=weights.groupby('permco').Wght.shift(-1)\n",
    "    weights=weights.sort_values(['permco','date'])\n",
    "\n",
    "    def wavg_ret(group, ret_name, weight_name):\n",
    "        d = group[ret_name]\n",
    "        w = group[weight_name]\n",
    "        try:\n",
    "            return (d * w).sum() / w.sum()\n",
    "        except ZeroDivisionError:\n",
    "            return np.nan\n",
    "\n",
    "    port_vwret = weights.groupby(['date','mom_group']).apply(wavg_ret, 'ret','Wght')\n",
    "    port_vwret = port_vwret.reset_index().rename(columns={0:'port_vwret'})# give a name to the new time-seires\n",
    "\n",
    "\n",
    "    weights=weights.merge(port_vwret,how='left',on=['date','mom_group'])\n",
    "\n",
    "    port_vwret=port_vwret.set_index(['date','mom_group']) # set indexes\n",
    "    port_vwret=port_vwret.unstack(level=-1) # unstack so we have in each column the different portfolios, and in each \n",
    "    port_vwret=port_vwret.port_vwret\n",
    "\n",
    "    return port_vwret, weights"
   ]
  },
  {
   "cell_type": "code",
   "execution_count": null,
   "metadata": {
    "colab": {},
    "colab_type": "code",
    "id": "WnZtoUY51AN1"
   },
   "outputs": [],
   "source": [
    "port_ret, wght=momreturns_w(crsp_m, 10)"
   ]
  },
  {
   "cell_type": "code",
   "execution_count": null,
   "metadata": {
    "colab": {
     "base_uri": "https://localhost:8080/",
     "height": 204
    },
    "colab_type": "code",
    "executionInfo": {
     "elapsed": 288,
     "status": "ok",
     "timestamp": 1579052295335,
     "user": {
      "displayName": "yuchi yao",
      "photoUrl": "",
      "userId": "00457884373990713813"
     },
     "user_tz": 300
    },
    "id": "GtU-v7OTjO4X",
    "outputId": "299b5b84-5e34-439d-e0e7-b8fd77e43891",
    "scrolled": true
   },
   "outputs": [
    {
     "data": {
      "text/html": [
       "<div>\n",
       "<style scoped>\n",
       "    .dataframe tbody tr th:only-of-type {\n",
       "        vertical-align: middle;\n",
       "    }\n",
       "\n",
       "    .dataframe tbody tr th {\n",
       "        vertical-align: top;\n",
       "    }\n",
       "\n",
       "    .dataframe thead th {\n",
       "        text-align: right;\n",
       "    }\n",
       "</style>\n",
       "<table border=\"1\" class=\"dataframe\">\n",
       "  <thead>\n",
       "    <tr style=\"text-align: right;\">\n",
       "      <th></th>\n",
       "      <th>date</th>\n",
       "      <th>permco</th>\n",
       "      <th>ret</th>\n",
       "      <th>me_comp</th>\n",
       "      <th>vol</th>\n",
       "      <th>prc</th>\n",
       "      <th>volume</th>\n",
       "      <th>grossret</th>\n",
       "      <th>cumret</th>\n",
       "      <th>mom</th>\n",
       "      <th>mom_group</th>\n",
       "      <th>Wght</th>\n",
       "      <th>mom_group_lead</th>\n",
       "      <th>Wght_lead</th>\n",
       "      <th>port_vwret</th>\n",
       "    </tr>\n",
       "  </thead>\n",
       "  <tbody>\n",
       "    <tr>\n",
       "      <th>0</th>\n",
       "      <td>1991-02-28</td>\n",
       "      <td>4</td>\n",
       "      <td>0.129534</td>\n",
       "      <td>1096.632</td>\n",
       "      <td>12962.0</td>\n",
       "      <td>27.000</td>\n",
       "      <td>34.997400</td>\n",
       "      <td>1.129534</td>\n",
       "      <td>0.062541</td>\n",
       "      <td>-0.212395</td>\n",
       "      <td>m5</td>\n",
       "      <td>0.004269</td>\n",
       "      <td>m6</td>\n",
       "      <td>0.001975</td>\n",
       "      <td>0.077604</td>\n",
       "    </tr>\n",
       "    <tr>\n",
       "      <th>1</th>\n",
       "      <td>1991-03-31</td>\n",
       "      <td>4</td>\n",
       "      <td>-0.027778</td>\n",
       "      <td>1066.170</td>\n",
       "      <td>15970.0</td>\n",
       "      <td>26.250</td>\n",
       "      <td>41.921250</td>\n",
       "      <td>0.972222</td>\n",
       "      <td>0.023372</td>\n",
       "      <td>-0.008337</td>\n",
       "      <td>m6</td>\n",
       "      <td>0.001975</td>\n",
       "      <td>m6</td>\n",
       "      <td>0.002136</td>\n",
       "      <td>0.024414</td>\n",
       "    </tr>\n",
       "    <tr>\n",
       "      <th>2</th>\n",
       "      <td>1991-04-30</td>\n",
       "      <td>4</td>\n",
       "      <td>-0.109524</td>\n",
       "      <td>949.399</td>\n",
       "      <td>28938.0</td>\n",
       "      <td>23.375</td>\n",
       "      <td>67.642575</td>\n",
       "      <td>0.890476</td>\n",
       "      <td>-0.044041</td>\n",
       "      <td>0.062541</td>\n",
       "      <td>m6</td>\n",
       "      <td>0.002136</td>\n",
       "      <td>m5</td>\n",
       "      <td>0.002240</td>\n",
       "      <td>0.010956</td>\n",
       "    </tr>\n",
       "    <tr>\n",
       "      <th>3</th>\n",
       "      <td>1991-05-31</td>\n",
       "      <td>4</td>\n",
       "      <td>-0.005348</td>\n",
       "      <td>934.168</td>\n",
       "      <td>20847.0</td>\n",
       "      <td>23.000</td>\n",
       "      <td>47.948100</td>\n",
       "      <td>0.994652</td>\n",
       "      <td>-0.085034</td>\n",
       "      <td>0.023372</td>\n",
       "      <td>m5</td>\n",
       "      <td>0.002240</td>\n",
       "      <td>m4</td>\n",
       "      <td>0.002891</td>\n",
       "      <td>0.037118</td>\n",
       "    </tr>\n",
       "    <tr>\n",
       "      <th>4</th>\n",
       "      <td>1991-06-30</td>\n",
       "      <td>4</td>\n",
       "      <td>-0.021739</td>\n",
       "      <td>917.100</td>\n",
       "      <td>10960.0</td>\n",
       "      <td>22.500</td>\n",
       "      <td>24.660000</td>\n",
       "      <td>0.978261</td>\n",
       "      <td>-0.036073</td>\n",
       "      <td>-0.044041</td>\n",
       "      <td>m4</td>\n",
       "      <td>0.002891</td>\n",
       "      <td>m4</td>\n",
       "      <td>0.002311</td>\n",
       "      <td>-0.058240</td>\n",
       "    </tr>\n",
       "  </tbody>\n",
       "</table>\n",
       "</div>"
      ],
      "text/plain": [
       "        date  permco       ret  ...  mom_group_lead  Wght_lead  port_vwret\n",
       "0 1991-02-28       4  0.129534  ...              m6   0.001975    0.077604\n",
       "1 1991-03-31       4 -0.027778  ...              m6   0.002136    0.024414\n",
       "2 1991-04-30       4 -0.109524  ...              m5   0.002240    0.010956\n",
       "3 1991-05-31       4 -0.005348  ...              m4   0.002891    0.037118\n",
       "4 1991-06-30       4 -0.021739  ...              m4   0.002311   -0.058240\n",
       "\n",
       "[5 rows x 15 columns]"
      ]
     },
     "execution_count": 26,
     "metadata": {
      "tags": []
     },
     "output_type": "execute_result"
    }
   ],
   "source": [
    "wght.head()"
   ]
  },
  {
   "cell_type": "code",
   "execution_count": null,
   "metadata": {
    "colab": {},
    "colab_type": "code",
    "id": "98LrPVHljO4Z"
   },
   "outputs": [],
   "source": [
    "# construct dollars of each stock that need to be bought (sold) at date t+1\n",
    "mom=wght.copy()\n",
    "mom['trade']=mom.Wght_lead*(mom.mom_group==mom.mom_group_lead)-mom.Wght*(1+mom.ret)/(1+mom.port_vwret)\n"
   ]
  },
  {
   "cell_type": "code",
   "execution_count": null,
   "metadata": {
    "colab": {
     "base_uri": "https://localhost:8080/",
     "height": 296
    },
    "colab_type": "code",
    "executionInfo": {
     "elapsed": 2440,
     "status": "ok",
     "timestamp": 1579052454195,
     "user": {
      "displayName": "yuchi yao",
      "photoUrl": "",
      "userId": "00457884373990713813"
     },
     "user_tz": 300
    },
    "id": "Lc1XaDS1jO4b",
    "outputId": "9c02d4dc-e893-4dc4-de4f-4a095fa08a9c"
   },
   "outputs": [
    {
     "data": {
      "text/plain": [
       "<matplotlib.axes._subplots.AxesSubplot at 0x7f7beac9c898>"
      ]
     },
     "execution_count": 28,
     "metadata": {
      "tags": []
     },
     "output_type": "execute_result"
    },
    {
     "data": {
      "image/png": "[encoded data removed]",
      "text/plain": [
       "<Figure size 432x288 with 1 Axes>"
      ]
     },
     "metadata": {
      "tags": []
     },
     "output_type": "display_data"
    }
   ],
   "source": [
    "# per dollar of position how much do you have to trade every month?\n",
    "mom.groupby(['date','mom_group']).trade.apply(lambda x:x.abs().sum()).loc[:,'m1'].plot()"
   ]
  },
  {
   "cell_type": "code",
   "execution_count": null,
   "metadata": {
    "colab": {},
    "colab_type": "code",
    "id": "3ZY0mYcAjO4d"
   },
   "outputs": [],
   "source": [
    "# lets look at the most illiquid stocks, the stocks that I will likely have most trouble trading\n",
    "# lets start by normalizing the amount of trade per stock volume\n",
    "\n",
    "mom['tradepervol']=mom.trade/mom.volume\n",
    "\n",
    "\n"
   ]
  },
  {
   "cell_type": "code",
   "execution_count": null,
   "metadata": {
    "colab": {},
    "colab_type": "code",
    "id": "bE1MWOZYjO4f",
    "outputId": "f21e2937-0ddb-4cde-f388-9a146fdbe859"
   },
   "outputs": [
    {
     "data": {
      "text/plain": [
       "<matplotlib.axes._subplots.AxesSubplot at 0x211edf9b128>"
      ]
     },
     "execution_count": 27,
     "metadata": {
      "tags": []
     },
     "output_type": "execute_result"
    },
    {
     "data": {
      "image/png": "[encoded data removed]",
      "text/plain": [
       "<Figure size 432x288 with 1 Axes>"
      ]
     },
     "metadata": {
      "tags": []
     },
     "output_type": "display_data"
    }
   ],
   "source": [
    "# this allow us to study how much of the volume of each stock I will be \"using\"\n",
    "# lets choose a position size, here in millions of dollars , because that is the normalization we used for the volume data\n",
    "Position=1e3 #(1e3 means one billion dollars)\n",
    "threshold=0.05\n",
    "(Position*(mom.groupby(['date','mom_group']).tradepervol.quantile(threshold).loc[:,'m9'])).plot()\n",
    "(Position*(mom.groupby(['date','mom_group']).tradepervol.quantile(1-threshold).loc[:,'m9'])).plot()"
   ]
  },
  {
   "cell_type": "markdown",
   "metadata": {
    "colab_type": "text",
    "id": "vpSoqGcejO4j"
   },
   "source": [
    "# Tracking error\n",
    "\n",
    "Let $$W^{wishportfolio}_t$$ and $$W^{Implementationportfolio}_t$$ weights , then consider the following regression\n",
    "\n",
    "$$W^{Implementationportfolio}_tR_{t+1}=\\alpha+\\beta W^{wishportfolio}_tR_{t+1}+\\epsilon_{t+1}$$\n",
    "\n",
    "a good implementation portfolio has $\\beta=1$ and $\\sigma(\\epsilon)$ and $\\alpha\\approx 0$.\n",
    "\n",
    "So one can think of $|\\beta-1|$, $\\sigma(\\epsilon)$ , and $\\alpha$ as three dimensions of tracking error.\n",
    "\n",
    "The $\\beta$ dimension can be more easily correted by levering up and down the tracking portoflio (of possible)\n",
    "\n",
    "The $\\sigma(\\epsilon)$ can only be corrected by simply making the implemenetation portoflio more similar to the wish portfolio. The cost of this is not obvious. Really depends how this tracking error relates to other stuff in your portfolio.\n",
    "\n",
    "$\\alpha$ is the important part. The actual cost that you expect to pay to deviate from the wish portfolio\n",
    "\n",
    "------------------------------\n",
    "\n",
    "In the industry people typicall refer to tracking error as simply\n",
    "\n",
    "$$\\sigma(W^{Implementationportfolio}_tR_{t+1}- W^{wishportfolio}_tR_{t+1})$$\n",
    "\n",
    "The volatility of a portfolio that goes long the implementation portfolio and shorts the wish portfolio.\n",
    "\n",
    "This mixes together $|\\beta-1|$, $\\sigma(\\epsilon)$ and completely ignores $\\alpha$\n",
    "\n",
    "\n",
    "In the end the Implementation portfolio is chosen by trading off  trading costs (market impact) and opportunity cost (tracking error).\n",
    "\n",
    "So you can simply construct strategies that avoid these 5% less liquid stocks, and see how much your tracking error increases and whether these tracking errors are worth the reduction in trading costs"
   ]
  },
  {
   "cell_type": "markdown",
   "metadata": {
    "colab_type": "text",
    "id": "0Ydw1qZrjO4k"
   },
   "source": [
    "# How to construct an Implementation portfolio?\n",
    "\n",
    "- A simple strategy: weight by trading volume -> this make sure that you use the same amount of trading volume across all your positions\n",
    "\n",
    "\n",
    "- Harder to implement: do not buy stocks that are illiquid now or likely to be illiquid next period. Amounts to add another signal interected to the momentum signal. Only buy if illiquid signal not too strong.\n",
    "\n",
    "How to change our code to implement the volume-weighted approach?\n"
   ]
  },
  {
   "cell_type": "code",
   "execution_count": null,
   "metadata": {
    "colab": {},
    "colab_type": "code",
    "id": "69TVkEK9jO4k"
   },
   "outputs": [],
   "source": [
    "def momreturns(data,lookback=12,nmonthsskip=1,wghtvar='me',returntransf='sum',nportfolios=10):\n",
    "    \n",
    "\n",
    "    _tmp_crsp = data[['permno','date','ret', 'me','vol','prc']].sort_values(['permno','date']).set_index('date')\n",
    "    _tmp_crsp['volume']=_tmp_crsp['vol']*_tmp_crsp['prc'].abs()*100/1e6 # in million dollars like me\n",
    "    ## Trading siginal construction\n",
    "    _tmp_crsp['ret']=_tmp_crsp['ret'].fillna(0)#replace missing return with 0\n",
    "    _tmp_crsp['logret']=np.log(1+_tmp_crsp['ret'])#transform in log returns\n",
    "    if returntransf=='sum':\n",
    "        _tmp_cumret = _tmp_crsp.groupby(['permno'])['logret'].rolling(lookback, min_periods=np.min([7,lookback])).sum()# sum last 12 month returns for each \n",
    "    elif returntransf=='std':\n",
    "        _tmp_cumret = _tmp_crsp.groupby(['permno'])['logret'].rolling(lookback, min_periods=np.min([7,lookback])).std()# sum last 12 month returns for each \n",
    "    elif returntransf=='min':\n",
    "        _tmp_cumret = _tmp_crsp.groupby(['permno'])['logret'].rolling(lookback, min_periods=np.min([7,lookback])).min()# sum last 12 month returns for each \n",
    "    elif returntransf=='max':\n",
    "        _tmp_cumret = _tmp_crsp.groupby(['permno'])['logret'].rolling(lookback, min_periods=np.min([7,lookback])).max()# sum last 12 month returns for each \n",
    " \n",
    "    \n",
    "    \n",
    "    #stock,require there is a minium of 7 months\n",
    "    \n",
    "    _tmp_cumret = _tmp_cumret.reset_index()# reset index, needed to merged back below\n",
    "\n",
    "    _tmp_cumret['cumret']=np.exp(_tmp_cumret['logret'])-1# transform back in geometric  returns\n",
    "    _tmp_cumret = pd.merge(_tmp_crsp.reset_index(), _tmp_cumret[['permno','date','cumret']], how='left', on=['permno','date'])\n",
    "    # merge the 12 month return signal back to the original database\n",
    "\n",
    "    _tmp_cumret['mom']=_tmp_cumret.groupby('permno')['cumret'].shift(1+nmonthsskip) # lag the 12 month signal by two months\n",
    " \n",
    "    # You always have to lag by 1 month to make the signal tradable, that is if you are going to use the signal\n",
    "    #to construct a portfolio in the beggining of january/2018, you can only have returns in the signal up to Dec/2017\n",
    "    # we are lagging one more time, because the famous momentum strategy skips a month as well \n",
    "\n",
    "    # we also labeling mom the trading signal\n",
    "    mom=_tmp_cumret.sort_values(['date','permno']).drop_duplicates() # sort by date and firm identifier and drop in case there \n",
    "    #any duplicates (IT shouldn't be, in a given date for a given firm we can only have one row)\n",
    "    if wghtvar=='ew':\n",
    "        mom['w']=1\n",
    "    else:\n",
    "        mom['w']=mom.groupby('permno')[wghtvar].shift(1) # lag the market equity that we will use in our trading strategy to construct\n",
    "   \n",
    "    # value-weighted returns\n",
    "    mom=mom.dropna(subset=['mom','ret','me'], how='any')# drop the row if any of these variables 'mom','ret','me' are missing\n",
    "    mom['mom_group']=mom.groupby(['date'])['mom'].transform(lambda x: pd.qcut(x, nportfolios, labels=False,duplicates='drop'))\n",
    "\n",
    "    # create 10 groups each month. Assign membership accroding to the stock ranking in the distribution of trading signal \n",
    "    #in a given month \n",
    "\n",
    "\n",
    "\n",
    "    # transform in string the group names\n",
    "    mom[['mom_group']]='m'+mom[['mom_group']].astype(int).astype(str)\n",
    "    \n",
    "    mom['date']=mom['date']+MonthEnd(0) #shift all the date to end of the month\n",
    "    mom=mom.sort_values(['permno','date']) # resort \n",
    "\n",
    "    # we now have the membership that will go in each portfolio\n",
    "    # withing a given portfolio we will simply use the firms market cap to value-weight the portfolio\n",
    "\n",
    "    # this function takes given date/set of firms given in group, and uses ret_name as the return series and\n",
    "    # weight_name as the variable to be used for weighting\n",
    "\n",
    "    # it returns, on number, the value weighted returns\n",
    "\n",
    "    def wavg(group, ret_name, weight_name):\n",
    "        d = group[ret_name]\n",
    "        w = group[weight_name]\n",
    "        try:\n",
    "            return (d * w).sum() / w.sum()\n",
    "        except ZeroDivisionError:\n",
    "            return np.nan\n",
    "    # We now simply have to  use the above function to construct the portfolio\n",
    "\n",
    "    # the code below applies the function in each date,mom_group group,\n",
    "    # so it applies the function to each of these subgroups of the data set, \n",
    "    # so it retursn one time-series for each mom_group, as it average the returns of\n",
    "    # all the firms in a given group in a given date\n",
    "    port_vwret = mom.groupby(['date','mom_group']).apply(wavg, 'ret','w')\n",
    "    port_vwret = port_vwret.reset_index().rename(columns={0:'port_vwret'})# give a name to the new time-seires\n",
    "    port_vwret=port_vwret.set_index(['date','mom_group']) # set indexes\n",
    "    port_vwret=port_vwret.unstack(level=-1) # unstack so we have in each column the different portfolios, and in each \n",
    "    port_vwret=port_vwret.port_vwret\n",
    "    \n",
    "    return port_vwret"
   ]
  },
  {
   "cell_type": "code",
   "execution_count": null,
   "metadata": {
    "colab": {},
    "colab_type": "code",
    "id": "l2lXrNXEjO4o"
   },
   "outputs": [],
   "source": [
    "momportfolios=momreturns(crsp_m,lookback=12,nmonthsskip=1,wghtvar='me',returntransf='sum',nportfolios=10)\n",
    "momportfoliosvol=momreturns(crsp_m,lookback=12,nmonthsskip=1,wghtvar='vol',returntransf='sum',nportfolios=10)\n",
    "momportfolios=momportfolios.merge(momportfoliosvol,left_index=True,right_index=True,suffixes=['_me','_vol'])"
   ]
  },
  {
   "cell_type": "code",
   "execution_count": null,
   "metadata": {
    "colab": {},
    "colab_type": "code",
    "id": "TVqiD8_QjO4u",
    "outputId": "da98ed1f-9867-40f6-9a5c-8b9f93e259f8",
    "scrolled": true
   },
   "outputs": [
    {
     "data": {
      "text/plain": [
       "<matplotlib.axes._subplots.AxesSubplot at 0x211fd497e80>"
      ]
     },
     "execution_count": 31,
     "metadata": {
      "tags": []
     },
     "output_type": "execute_result"
    },
    {
     "data": {
      "image/png": "[encoded data removed]",
      "text/plain": [
       "<Figure size 432x288 with 1 Axes>"
      ]
     },
     "metadata": {
      "tags": []
     },
     "output_type": "display_data"
    }
   ],
   "source": [
    "momportfolios[['m9_me','m9_vol']].plot()"
   ]
  },
  {
   "cell_type": "code",
   "execution_count": null,
   "metadata": {
    "colab": {},
    "colab_type": "code",
    "id": "8agsojpyjO4w",
    "outputId": "bd2ac470-a7fc-4cd2-c95e-fdda3b3ece0c"
   },
   "outputs": [
    {
     "data": {
      "text/html": [
       "<table class=\"simpletable\">\n",
       "<caption>OLS Regression Results</caption>\n",
       "<tr>\n",
       "  <th>Dep. Variable:</th>         <td>m9_vol</td>      <th>  R-squared:         </th> <td>   0.888</td> \n",
       "</tr>\n",
       "<tr>\n",
       "  <th>Model:</th>                   <td>OLS</td>       <th>  Adj. R-squared:    </th> <td>   0.888</td> \n",
       "</tr>\n",
       "<tr>\n",
       "  <th>Method:</th>             <td>Least Squares</td>  <th>  F-statistic:       </th> <td>   2585.</td> \n",
       "</tr>\n",
       "<tr>\n",
       "  <th>Date:</th>             <td>Tue, 01 Oct 2019</td> <th>  Prob (F-statistic):</th> <td>4.82e-157</td>\n",
       "</tr>\n",
       "<tr>\n",
       "  <th>Time:</th>                 <td>22:13:26</td>     <th>  Log-Likelihood:    </th> <td>  706.11</td> \n",
       "</tr>\n",
       "<tr>\n",
       "  <th>No. Observations:</th>      <td>   328</td>      <th>  AIC:               </th> <td>  -1408.</td> \n",
       "</tr>\n",
       "<tr>\n",
       "  <th>Df Residuals:</th>          <td>   326</td>      <th>  BIC:               </th> <td>  -1401.</td> \n",
       "</tr>\n",
       "<tr>\n",
       "  <th>Df Model:</th>              <td>     1</td>      <th>                     </th>     <td> </td>    \n",
       "</tr>\n",
       "<tr>\n",
       "  <th>Covariance Type:</th>      <td>nonrobust</td>    <th>                     </th>     <td> </td>    \n",
       "</tr>\n",
       "</table>\n",
       "<table class=\"simpletable\">\n",
       "<tr>\n",
       "    <td></td>       <th>coef</th>     <th>std err</th>      <th>t</th>      <th>P>|t|</th>  <th>[0.025</th>    <th>0.975]</th>  \n",
       "</tr>\n",
       "<tr>\n",
       "  <th>const</th> <td>   -0.0036</td> <td>    0.002</td> <td>   -2.282</td> <td> 0.023</td> <td>   -0.007</td> <td>   -0.000</td>\n",
       "</tr>\n",
       "<tr>\n",
       "  <th>m9_me</th> <td>    1.1727</td> <td>    0.023</td> <td>   50.844</td> <td> 0.000</td> <td>    1.127</td> <td>    1.218</td>\n",
       "</tr>\n",
       "</table>\n",
       "<table class=\"simpletable\">\n",
       "<tr>\n",
       "  <th>Omnibus:</th>       <td>59.076</td> <th>  Durbin-Watson:     </th> <td>   1.991</td>\n",
       "</tr>\n",
       "<tr>\n",
       "  <th>Prob(Omnibus):</th> <td> 0.000</td> <th>  Jarque-Bera (JB):  </th> <td> 207.760</td>\n",
       "</tr>\n",
       "<tr>\n",
       "  <th>Skew:</th>          <td> 0.743</td> <th>  Prob(JB):          </th> <td>7.68e-46</td>\n",
       "</tr>\n",
       "<tr>\n",
       "  <th>Kurtosis:</th>      <td> 6.605</td> <th>  Cond. No.          </th> <td>    14.8</td>\n",
       "</tr>\n",
       "</table><br/><br/>Warnings:<br/>[1] Standard Errors assume that the covariance matrix of the errors is correctly specified."
      ],
      "text/plain": [
       "<class 'statsmodels.iolib.summary.Summary'>\n",
       "\"\"\"\n",
       "                            OLS Regression Results                            \n",
       "==============================================================================\n",
       "Dep. Variable:                 m9_vol   R-squared:                       0.888\n",
       "Model:                            OLS   Adj. R-squared:                  0.888\n",
       "Method:                 Least Squares   F-statistic:                     2585.\n",
       "Date:                Tue, 01 Oct 2019   Prob (F-statistic):          4.82e-157\n",
       "Time:                        22:13:26   Log-Likelihood:                 706.11\n",
       "No. Observations:                 328   AIC:                            -1408.\n",
       "Df Residuals:                     326   BIC:                            -1401.\n",
       "Df Model:                           1                                         \n",
       "Covariance Type:            nonrobust                                         \n",
       "==============================================================================\n",
       "                 coef    std err          t      P>|t|      [0.025      0.975]\n",
       "------------------------------------------------------------------------------\n",
       "const         -0.0036      0.002     -2.282      0.023      -0.007      -0.000\n",
       "m9_me          1.1727      0.023     50.844      0.000       1.127       1.218\n",
       "==============================================================================\n",
       "Omnibus:                       59.076   Durbin-Watson:                   1.991\n",
       "Prob(Omnibus):                  0.000   Jarque-Bera (JB):              207.760\n",
       "Skew:                           0.743   Prob(JB):                     7.68e-46\n",
       "Kurtosis:                       6.605   Cond. No.                         14.8\n",
       "==============================================================================\n",
       "\n",
       "Warnings:\n",
       "[1] Standard Errors assume that the covariance matrix of the errors is correctly specified.\n",
       "\"\"\""
      ]
     },
     "execution_count": 32,
     "metadata": {
      "tags": []
     },
     "output_type": "execute_result"
    }
   ],
   "source": [
    "# lets look at it's tracking error\n",
    "y=momportfolios['m9_vol']\n",
    "x=momportfolios['m9_me']\n",
    "x=sm.add_constant(x)\n",
    "results = sm.OLS(y,x).fit()\n",
    "results.summary()"
   ]
  },
  {
   "cell_type": "markdown",
   "metadata": {
    "colab_type": "text",
    "id": "afbdofFqjO4y"
   },
   "source": [
    "Observations:\n",
    "\n",
    "- The beta difference 1.17 vs 1 can be adjusted by taking a smaller position on the implementation portfolio\n",
    "\n",
    "- The alpha is the actual tracking error loss. How much you expect to loose.\n",
    "\n",
    "- In this case it is economically quite large -0.0036 vs $\\beta E[R]$ of 0.0045\n",
    "\n",
    "- One calculation that people do is to see how much you are getting for your momentum exposure\n"
   ]
  },
  {
   "cell_type": "code",
   "execution_count": null,
   "metadata": {
    "colab": {},
    "colab_type": "code",
    "id": "9-0zTWK-jO4y",
    "outputId": "e90f2c8c-15c6-4aaa-e411-1b6d3bfe3d2d"
   },
   "outputs": [
    {
     "data": {
      "text/plain": [
       "[0.02273481060808451, 0.045973481561390854]"
      ]
     },
     "execution_count": 230,
     "metadata": {
      "tags": []
     },
     "output_type": "execute_result"
    }
   ],
   "source": [
    "[momportfolios['m9_vol'].mean()/results.params[1]*12,momportfolios['m9_me'].mean()*12]"
   ]
  },
  {
   "cell_type": "markdown",
   "metadata": {
    "colab_type": "text",
    "id": "jYkanHxdjO40"
   },
   "source": [
    "This is very large. A decay of about 50% in the premium that you earn for trading momentum\n",
    "\n",
    "But be careful to not over interpret this. We are working today with a very short sample, less than 20 years, for average returns tests that is not much at all.\n",
    "\n",
    "But beta/residulas are well measured even in fairly short samples.\n",
    "\n",
    "\n",
    "In addition to that you also have to eat the strategy residual risk"
   ]
  },
  {
   "cell_type": "code",
   "execution_count": null,
   "metadata": {
    "colab": {},
    "colab_type": "code",
    "id": "5zUp5pqXjO41",
    "outputId": "4f652575-7b2a-4928-e835-bb758bf54395"
   },
   "outputs": [
    {
     "data": {
      "text/plain": [
       "[0.030886022623588822, 0.05839011395858583]"
      ]
     },
     "execution_count": 231,
     "metadata": {
      "tags": []
     },
     "output_type": "execute_result"
    }
   ],
   "source": [
    "[results.resid.std(),momportfolios['m9_me'].std()]"
   ]
  },
  {
   "cell_type": "markdown",
   "metadata": {
    "colab_type": "text",
    "id": "kGCZycEdjO49"
   },
   "source": [
    "It is sizable, about 50% of the original strategy volatility"
   ]
  },
  {
   "cell_type": "markdown",
   "metadata": {
    "colab_type": "text",
    "id": "4g8b74a6jO4_"
   },
   "source": [
    "# How our strategies compare with the momentum factor?\n",
    "\n"
   ]
  },
  {
   "cell_type": "code",
   "execution_count": null,
   "metadata": {
    "colab": {},
    "colab_type": "code",
    "id": "aDEvtDRRjO4_",
    "outputId": "afc887c2-2f18-438e-97aa-0be9142d6604"
   },
   "outputs": [
    {
     "data": {
      "text/plain": [
       "MKT    0.006567\n",
       "SMB    0.002101\n",
       "HML    0.003881\n",
       "Mom    0.006557\n",
       "dtype: float64"
      ]
     },
     "execution_count": 232,
     "metadata": {
      "tags": []
     },
     "output_type": "execute_result"
    }
   ],
   "source": [
    "url = \"https://www.dropbox.com/s/9346pp2iu5prv8s/MonthlyFactors.csv?dl=1\"\n",
    "Factors = pd.read_csv(url,index_col=0, \n",
    "                         parse_dates=True,na_values=-99)\n",
    "Factors=Factors/100\n",
    "\n",
    "Factors=Factors.iloc[:,0:5]\n",
    "Factors['MKT']=Factors['MKT']-Factors['RF']\n",
    "Factors=Factors.drop('RF',axis=1)\n",
    "Factors.mean()"
   ]
  },
  {
   "cell_type": "code",
   "execution_count": null,
   "metadata": {
    "colab": {},
    "colab_type": "code",
    "id": "SR1fPJlLjO5C",
    "outputId": "4edf9d7c-3834-4233-f441-3876b765e7d0"
   },
   "outputs": [
    {
     "data": {
      "text/html": [
       "<div>\n",
       "<style scoped>\n",
       "    .dataframe tbody tr th:only-of-type {\n",
       "        vertical-align: middle;\n",
       "    }\n",
       "\n",
       "    .dataframe tbody tr th {\n",
       "        vertical-align: top;\n",
       "    }\n",
       "\n",
       "    .dataframe thead th {\n",
       "        text-align: right;\n",
       "    }\n",
       "</style>\n",
       "<table border=\"1\" class=\"dataframe\">\n",
       "  <thead>\n",
       "    <tr style=\"text-align: right;\">\n",
       "      <th></th>\n",
       "      <th>m0_me</th>\n",
       "      <th>m1_me</th>\n",
       "      <th>m2_me</th>\n",
       "      <th>m3_me</th>\n",
       "      <th>m4_me</th>\n",
       "      <th>m5_me</th>\n",
       "      <th>m6_me</th>\n",
       "      <th>m7_me</th>\n",
       "      <th>m8_me</th>\n",
       "      <th>m9_me</th>\n",
       "      <th>...</th>\n",
       "      <th>m4_vol</th>\n",
       "      <th>m5_vol</th>\n",
       "      <th>m6_vol</th>\n",
       "      <th>m7_vol</th>\n",
       "      <th>m8_vol</th>\n",
       "      <th>m9_vol</th>\n",
       "      <th>MKT</th>\n",
       "      <th>SMB</th>\n",
       "      <th>HML</th>\n",
       "      <th>Mom</th>\n",
       "    </tr>\n",
       "  </thead>\n",
       "  <tbody>\n",
       "    <tr>\n",
       "      <th>2000-09-30</th>\n",
       "      <td>-0.129798</td>\n",
       "      <td>-0.127564</td>\n",
       "      <td>-0.059888</td>\n",
       "      <td>0.010082</td>\n",
       "      <td>-0.000143</td>\n",
       "      <td>-0.010516</td>\n",
       "      <td>-0.020118</td>\n",
       "      <td>-0.062108</td>\n",
       "      <td>-0.015532</td>\n",
       "      <td>-0.148530</td>\n",
       "      <td>...</td>\n",
       "      <td>-0.078569</td>\n",
       "      <td>-0.102002</td>\n",
       "      <td>-0.041797</td>\n",
       "      <td>-0.071430</td>\n",
       "      <td>-0.042302</td>\n",
       "      <td>-0.103630</td>\n",
       "      <td>-0.0545</td>\n",
       "      <td>-0.0140</td>\n",
       "      <td>0.0623</td>\n",
       "      <td>0.0215</td>\n",
       "    </tr>\n",
       "    <tr>\n",
       "      <th>2000-10-31</th>\n",
       "      <td>-0.193803</td>\n",
       "      <td>0.015573</td>\n",
       "      <td>-0.002240</td>\n",
       "      <td>0.051042</td>\n",
       "      <td>0.056879</td>\n",
       "      <td>0.002350</td>\n",
       "      <td>-0.013423</td>\n",
       "      <td>-0.024685</td>\n",
       "      <td>-0.052272</td>\n",
       "      <td>-0.083327</td>\n",
       "      <td>...</td>\n",
       "      <td>0.016559</td>\n",
       "      <td>-0.041332</td>\n",
       "      <td>-0.034236</td>\n",
       "      <td>-0.040717</td>\n",
       "      <td>-0.066250</td>\n",
       "      <td>-0.085599</td>\n",
       "      <td>-0.0276</td>\n",
       "      <td>-0.0377</td>\n",
       "      <td>0.0555</td>\n",
       "      <td>-0.0463</td>\n",
       "    </tr>\n",
       "    <tr>\n",
       "      <th>2000-11-30</th>\n",
       "      <td>-0.331351</td>\n",
       "      <td>-0.173224</td>\n",
       "      <td>-0.081811</td>\n",
       "      <td>-0.055005</td>\n",
       "      <td>-0.079905</td>\n",
       "      <td>-0.080539</td>\n",
       "      <td>-0.063107</td>\n",
       "      <td>-0.054668</td>\n",
       "      <td>-0.094147</td>\n",
       "      <td>-0.228494</td>\n",
       "      <td>...</td>\n",
       "      <td>-0.164590</td>\n",
       "      <td>-0.146529</td>\n",
       "      <td>-0.169296</td>\n",
       "      <td>-0.106301</td>\n",
       "      <td>-0.155380</td>\n",
       "      <td>-0.284814</td>\n",
       "      <td>-0.1072</td>\n",
       "      <td>-0.0277</td>\n",
       "      <td>0.1129</td>\n",
       "      <td>-0.0244</td>\n",
       "    </tr>\n",
       "    <tr>\n",
       "      <th>2000-12-31</th>\n",
       "      <td>-0.172035</td>\n",
       "      <td>-0.064091</td>\n",
       "      <td>-0.038472</td>\n",
       "      <td>0.062127</td>\n",
       "      <td>0.083423</td>\n",
       "      <td>-0.009017</td>\n",
       "      <td>-0.002741</td>\n",
       "      <td>0.043720</td>\n",
       "      <td>0.020615</td>\n",
       "      <td>0.085389</td>\n",
       "      <td>...</td>\n",
       "      <td>0.054782</td>\n",
       "      <td>-0.017112</td>\n",
       "      <td>-0.028978</td>\n",
       "      <td>0.044208</td>\n",
       "      <td>0.016709</td>\n",
       "      <td>0.085327</td>\n",
       "      <td>0.0119</td>\n",
       "      <td>0.0096</td>\n",
       "      <td>0.0730</td>\n",
       "      <td>0.0673</td>\n",
       "    </tr>\n",
       "    <tr>\n",
       "      <th>2001-01-31</th>\n",
       "      <td>0.418582</td>\n",
       "      <td>0.397816</td>\n",
       "      <td>0.299617</td>\n",
       "      <td>0.095205</td>\n",
       "      <td>0.093103</td>\n",
       "      <td>0.083798</td>\n",
       "      <td>-0.014023</td>\n",
       "      <td>-0.010242</td>\n",
       "      <td>-0.046882</td>\n",
       "      <td>-0.069165</td>\n",
       "      <td>...</td>\n",
       "      <td>0.165616</td>\n",
       "      <td>0.093876</td>\n",
       "      <td>0.078421</td>\n",
       "      <td>0.021932</td>\n",
       "      <td>0.019839</td>\n",
       "      <td>0.000049</td>\n",
       "      <td>0.0313</td>\n",
       "      <td>0.0656</td>\n",
       "      <td>-0.0488</td>\n",
       "      <td>-0.2501</td>\n",
       "    </tr>\n",
       "  </tbody>\n",
       "</table>\n",
       "<p>5 rows × 24 columns</p>\n",
       "</div>"
      ],
      "text/plain": [
       "               m0_me     m1_me     m2_me     m3_me     m4_me     m5_me  \\\n",
       "2000-09-30 -0.129798 -0.127564 -0.059888  0.010082 -0.000143 -0.010516   \n",
       "2000-10-31 -0.193803  0.015573 -0.002240  0.051042  0.056879  0.002350   \n",
       "2000-11-30 -0.331351 -0.173224 -0.081811 -0.055005 -0.079905 -0.080539   \n",
       "2000-12-31 -0.172035 -0.064091 -0.038472  0.062127  0.083423 -0.009017   \n",
       "2001-01-31  0.418582  0.397816  0.299617  0.095205  0.093103  0.083798   \n",
       "\n",
       "               m6_me     m7_me     m8_me     m9_me   ...      m4_vol  \\\n",
       "2000-09-30 -0.020118 -0.062108 -0.015532 -0.148530   ...   -0.078569   \n",
       "2000-10-31 -0.013423 -0.024685 -0.052272 -0.083327   ...    0.016559   \n",
       "2000-11-30 -0.063107 -0.054668 -0.094147 -0.228494   ...   -0.164590   \n",
       "2000-12-31 -0.002741  0.043720  0.020615  0.085389   ...    0.054782   \n",
       "2001-01-31 -0.014023 -0.010242 -0.046882 -0.069165   ...    0.165616   \n",
       "\n",
       "              m5_vol    m6_vol    m7_vol    m8_vol    m9_vol     MKT     SMB  \\\n",
       "2000-09-30 -0.102002 -0.041797 -0.071430 -0.042302 -0.103630 -0.0545 -0.0140   \n",
       "2000-10-31 -0.041332 -0.034236 -0.040717 -0.066250 -0.085599 -0.0276 -0.0377   \n",
       "2000-11-30 -0.146529 -0.169296 -0.106301 -0.155380 -0.284814 -0.1072 -0.0277   \n",
       "2000-12-31 -0.017112 -0.028978  0.044208  0.016709  0.085327  0.0119  0.0096   \n",
       "2001-01-31  0.093876  0.078421  0.021932  0.019839  0.000049  0.0313  0.0656   \n",
       "\n",
       "               HML     Mom  \n",
       "2000-09-30  0.0623  0.0215  \n",
       "2000-10-31  0.0555 -0.0463  \n",
       "2000-11-30  0.1129 -0.0244  \n",
       "2000-12-31  0.0730  0.0673  \n",
       "2001-01-31 -0.0488 -0.2501  \n",
       "\n",
       "[5 rows x 24 columns]"
      ]
     },
     "execution_count": 233,
     "metadata": {
      "tags": []
     },
     "output_type": "execute_result"
    }
   ],
   "source": [
    "momportfolios=momportfolios.merge(Factors,left_index=True,right_index=True)\n",
    "momportfolios.head()"
   ]
  },
  {
   "cell_type": "code",
   "execution_count": null,
   "metadata": {
    "colab": {},
    "colab_type": "code",
    "id": "jSm7QHuIjO5E",
    "outputId": "97810023-d2be-4cf1-d094-af93af6cce88"
   },
   "outputs": [
    {
     "data": {
      "text/html": [
       "<table class=\"simpletable\">\n",
       "<caption>OLS Regression Results</caption>\n",
       "<tr>\n",
       "  <th>Dep. Variable:</th>            <td>y</td>        <th>  R-squared:         </th> <td>   0.795</td>\n",
       "</tr>\n",
       "<tr>\n",
       "  <th>Model:</th>                   <td>OLS</td>       <th>  Adj. R-squared:    </th> <td>   0.793</td>\n",
       "</tr>\n",
       "<tr>\n",
       "  <th>Method:</th>             <td>Least Squares</td>  <th>  F-statistic:       </th> <td>   387.0</td>\n",
       "</tr>\n",
       "<tr>\n",
       "  <th>Date:</th>             <td>Wed, 14 Nov 2018</td> <th>  Prob (F-statistic):</th> <td>2.61e-69</td>\n",
       "</tr>\n",
       "<tr>\n",
       "  <th>Time:</th>                 <td>11:48:12</td>     <th>  Log-Likelihood:    </th> <td>  322.62</td>\n",
       "</tr>\n",
       "<tr>\n",
       "  <th>No. Observations:</th>      <td>   202</td>      <th>  AIC:               </th> <td>  -639.2</td>\n",
       "</tr>\n",
       "<tr>\n",
       "  <th>Df Residuals:</th>          <td>   199</td>      <th>  BIC:               </th> <td>  -629.3</td>\n",
       "</tr>\n",
       "<tr>\n",
       "  <th>Df Model:</th>              <td>     2</td>      <th>                     </th>     <td> </td>   \n",
       "</tr>\n",
       "<tr>\n",
       "  <th>Covariance Type:</th>      <td>nonrobust</td>    <th>                     </th>     <td> </td>   \n",
       "</tr>\n",
       "</table>\n",
       "<table class=\"simpletable\">\n",
       "<tr>\n",
       "    <td></td>       <th>coef</th>     <th>std err</th>      <th>t</th>      <th>P>|t|</th>  <th>[0.025</th>    <th>0.975]</th>  \n",
       "</tr>\n",
       "<tr>\n",
       "  <th>const</th> <td>    0.0027</td> <td>    0.003</td> <td>    0.767</td> <td> 0.444</td> <td>   -0.004</td> <td>    0.010</td>\n",
       "</tr>\n",
       "<tr>\n",
       "  <th>MKT</th>   <td>   -0.2234</td> <td>    0.089</td> <td>   -2.505</td> <td> 0.013</td> <td>   -0.399</td> <td>   -0.048</td>\n",
       "</tr>\n",
       "<tr>\n",
       "  <th>Mom</th>   <td>    1.7587</td> <td>    0.075</td> <td>   23.590</td> <td> 0.000</td> <td>    1.612</td> <td>    1.906</td>\n",
       "</tr>\n",
       "</table>\n",
       "<table class=\"simpletable\">\n",
       "<tr>\n",
       "  <th>Omnibus:</th>       <td>26.262</td> <th>  Durbin-Watson:     </th> <td>   1.981</td>\n",
       "</tr>\n",
       "<tr>\n",
       "  <th>Prob(Omnibus):</th> <td> 0.000</td> <th>  Jarque-Bera (JB):  </th> <td> 136.262</td>\n",
       "</tr>\n",
       "<tr>\n",
       "  <th>Skew:</th>          <td>-0.182</td> <th>  Prob(JB):          </th> <td>2.58e-30</td>\n",
       "</tr>\n",
       "<tr>\n",
       "  <th>Kurtosis:</th>      <td> 7.007</td> <th>  Cond. No.          </th> <td>    28.8</td>\n",
       "</tr>\n",
       "</table><br/><br/>Warnings:<br/>[1] Standard Errors assume that the covariance matrix of the errors is correctly specified."
      ],
      "text/plain": [
       "<class 'statsmodels.iolib.summary.Summary'>\n",
       "\"\"\"\n",
       "                            OLS Regression Results                            \n",
       "==============================================================================\n",
       "Dep. Variable:                      y   R-squared:                       0.795\n",
       "Model:                            OLS   Adj. R-squared:                  0.793\n",
       "Method:                 Least Squares   F-statistic:                     387.0\n",
       "Date:                Wed, 14 Nov 2018   Prob (F-statistic):           2.61e-69\n",
       "Time:                        11:48:12   Log-Likelihood:                 322.62\n",
       "No. Observations:                 202   AIC:                            -639.2\n",
       "Df Residuals:                     199   BIC:                            -629.3\n",
       "Df Model:                           2                                         \n",
       "Covariance Type:            nonrobust                                         \n",
       "==============================================================================\n",
       "                 coef    std err          t      P>|t|      [0.025      0.975]\n",
       "------------------------------------------------------------------------------\n",
       "const          0.0027      0.003      0.767      0.444      -0.004       0.010\n",
       "MKT           -0.2234      0.089     -2.505      0.013      -0.399      -0.048\n",
       "Mom            1.7587      0.075     23.590      0.000       1.612       1.906\n",
       "==============================================================================\n",
       "Omnibus:                       26.262   Durbin-Watson:                   1.981\n",
       "Prob(Omnibus):                  0.000   Jarque-Bera (JB):              136.262\n",
       "Skew:                          -0.182   Prob(JB):                     2.58e-30\n",
       "Kurtosis:                       7.007   Cond. No.                         28.8\n",
       "==============================================================================\n",
       "\n",
       "Warnings:\n",
       "[1] Standard Errors assume that the covariance matrix of the errors is correctly specified.\n",
       "\"\"\""
      ]
     },
     "execution_count": 235,
     "metadata": {
      "tags": []
     },
     "output_type": "execute_result"
    }
   ],
   "source": [
    "# things to look at:\n",
    "\n",
    "#y=momportfolios['m9_me']\n",
    "#y=momportfolios['m9_vol']\n",
    "#y=momportfolios['m9_me']-momportfolios['m0_me']\n",
    "\n",
    "\n",
    "y=momportfolios['m9_me']-momportfolios['m0_me']\n",
    "x=momportfolios[['MKT','Mom']]\n",
    "x=sm.add_constant(x)\n",
    "results = sm.OLS(y,x).fit()\n",
    "results.summary()"
   ]
  },
  {
   "cell_type": "markdown",
   "metadata": {
    "colab_type": "text",
    "id": "0-V7i5GRjO5J"
   },
   "source": [
    "why such a large differcenc even for the strategy that follows the Momentum strategy?"
   ]
  },
  {
   "cell_type": "markdown",
   "metadata": {
    "colab_type": "text",
    "id": "xei9VUoXjO5K"
   },
   "source": [
    "# The devil is in the details: Data Cleaning\n",
    "\n",
    "Eugene Fama always would tell his students: Garbage in, Garbage out\n",
    "\n",
    "He was also able to look at a Table of a regression, or summary statistics and immediately tell that the person had \n",
    "done something different with the data when cleaning it.\n",
    "\n",
    "\n",
    "When working with raw data, it is really important to undergo careful work to check if the underlying data is indeed real\n",
    "\n",
    "CRSP dataset is very clean already, but if you are not careful your analysis will pick up features of the data are not real\n",
    "\n",
    "- Load on microstructure effects- bid-ask bounces\n",
    "\n",
    "- Load on tiny/peny stocks\n",
    "\n",
    "- Load on stocks that are outside of your investment mandate (for example stocks that do not trade in the US)\n",
    "\n",
    "- Load on other financial instruments (closed-end funds, convertible, prefered shares..)\n",
    "\n",
    "\n",
    "For example, Daniel and Moskowitz impose the following data requriements\n",
    "\n",
    "\n",
    "(a). CRSP Sharecode 10 or 11. (i.e, common stocks; no ADRs)\n",
    "\n",
    "(b). CRSP exchange code of 1, 2 or 3 (NYSE, AMEX or NASDAQ)\n",
    "\n",
    "(c). Must have price at date t-13\n",
    "\n",
    "(d). Must have return at date t-2\n",
    "\n",
    "(e). Must have market cap at date t-1\n",
    "\n",
    "\n",
    "\n"
   ]
  },
  {
   "attachments": {
    "cdf24902-a4ab-4add-9495-a745fda02b67.png": {
     "image/png": "[encoded data removed]"
    }
   },
   "cell_type": "markdown",
   "metadata": {},
   "source": [
    "# Levering up and Shorting\n",
    "\n",
    "So far we wrote the portfolio return as simple product of weights and individual asset returns\n",
    "\n",
    "$$r^p_t=W_tR_t+(1-\\sum_i^Iw_i)r^f_t$$\n",
    "\n",
    "where $R$ is a a vector of riksy asset returns.\n",
    "\n",
    "In practice things are not quite as simple. First lets discuss what happens as $(1-\\sum_i^Iw_i)$ goes from a number between 0 and 1, meaning you have a positive fraction allocated to the risk-free asset to a negative number.\n",
    "\n",
    "The case when this is above 1 is not very relevant as it would imply you are shorting the risky assets to invest more in the risk-free asset, which typically has much lower expected returns.\n",
    "\n",
    "**Leverage**\n",
    "\n",
    "When $(1-\\sum_i^Iw_i)\\in[0,1]$ you have a postive fraction of your portfolio in the risk-free asset. In this case you earn something close to the 3 month t-bill rate. In practice had me a tiny bit higher or a tiny bit lower if you park the money in a money market fund account in your broker. Of course you can literally just buy the t-bill if you want so the rate that you earn will be pretty close to the tbill rate.  \n",
    "\n",
    "You can easily get this t-bill rate [from FRED](https://fred.stlouisfed.org/series/DTB3). Of course you can use the API do thet it quickly by using it's name `DTB3`.\n",
    "\n",
    "When $(1-\\sum_i^Iw_i)<0$ you have a negative weight on the risk-free asset. It means that you are borowing money to invest more in the risky assets, mechancially $\\sum_i^Iw_i>1$. \n",
    "\n",
    "What happens in this case?\n",
    "\n",
    "* No one will lend you money at the same rate the US gov get to borrow! They get to borrow at the lowest USD rates out there!\n",
    "\n",
    "* in practice it will depend on how large your portfolio is and your broker\n",
    "\n",
    "* here are the [lending rates of a big retail broker](https://www.interactivebrokers.com/en/index.php?f=46376)\n",
    "* Here is snapshot from May/2021\n",
    "\n",
    "![image.png](attachment:cdf24902-a4ab-4add-9495-a745fda02b67.png)\n",
    "\n",
    "* The structure of the rate is the following\n",
    "\n",
    "$$r^b_t=r^{benchmark}_t+spread(Wealth)$$\n",
    "\n",
    "* The benhmarkt is something that is very close to the treasury rate\n",
    "\n",
    "* so the spread compensate the broker for the risk it bears by lending to you instead of lending to the US government\n",
    "\n",
    "* The key difference if that when you lend to the US goverment you give then the money and a promise to pay back, the tbill which only has value if they indeed pay you back\n",
    "\n",
    "* The broker when it lends to you will not take these chances, so your loan will be backed by the assets in your portfolio\n",
    "\n",
    "* this mean there will bea limit on your leverage. Typically this takes the following form \n",
    "\n",
    "   - $\\sum_i^Iw_i>1+l_{initial}$ and $\\sum_i^Iw_i<1+l_{maintenance}$ with  $l_{maintenance}>l_{initial}$\n",
    "   \n",
    "   - For US retail investors $l_{initial}=0.5$ and $l_{maintenance}$ varies a bit\n",
    "   \n",
    "**Example**\n",
    "\n",
    "lets say  $l_{initial}=0.5$ and $l_{maintenance}=0.7$. Say you have 100k in your brokerage account and you can buy up to 150K in stocks. The broker lends to you 50k and hold the whole 150k in assets as protection. The value of your networth is still 100k. 150k in stocks -50k in the risk-free asset. For simplicity lets assume the risk-free rate is zero in this example.\n",
    "\n",
    "  * Say your risk portfolio drops 20%, what is yout networth? risky portfolio 150*(-0.2+1)=120k, minus the 50k, ypu are now worth 120-50=70\n",
    "  * This should not be surprising: You must absdorb the entire loss\n",
    "  * What is you risk-asset weight and how much you are borrowing as fraction of your worth?(120/70,50/70)=(1.71,-0.71)\n",
    "  * your leverage went from 50% to 71%\n",
    "  * you are violating the intial margin. What happens now?\n",
    "  * your prime broker will ask for cash so you get back to 50% leverage\n",
    "  * They will ask to inject where x solves\n",
    "  \n",
    "  $$(-50+x)/(70+x)=-0.5$$\n",
    "  * this comes to 10k if you solve for it\n",
    "  * so you need to inject 10k in your account to reduce your debt to 40k and bring you networth up to 10k\n",
    "  * Your portfolio becomes (120/80,-40/80)=(1.5,-.5)\n",
    "  * What happens if you don't inject the cash in time? \n",
    "     - This situation tends to be representative as you likely don't have spare cash otherwise you would not be levering up\n",
    "     - But it is possible that you have other assets that you can sell/borrow against\n",
    "  * Your broker will sell your risk portfolio until you are back at 50%\n",
    "  * This means that your debt have to come down to $50\\%\\times70=35$ and therefore they will sell 15k of your position\n",
    "\n",
    "**Fire Sales**\n",
    "\n",
    "* When the position to be sold is large, this can lead to very sharp price movements\n",
    "* The dealers does not care at all about the price that he sells for as long he can get his money\n",
    "   - For example, back in March 2021 brokers liquidated a 21 billion dollar portfolio when the family office could not meet the margin call, i.e., the demand for cash. See, [inside-archegoss-epic-meltdown](https://www.wsj.com/articles/inside-archegoss-epic-meltdown-11617323530)\n",
    "   \n",
    "   \n",
    "**Other forms of leverage contraints**\n",
    "\n",
    "* In futures market, swap markets, and option markets you can get implicit leverage, often substantially more than in the cash market\n",
    "* It will vary wildly from market to market and in OTC markets this will depend on the relationship you have with your broker\n",
    "\n",
    "* For example the Achelegos fund was leveraged 10 to 1, so for each 1 dollar o networth they had 10 dollars of risky assets\n",
    "\n",
    "* Often this leverage constraint is given by sometype of risk-management at the portfolio level\n",
    "\n",
    "* For example, it is typical to make the amount of leverage that you can get to depend on your portfolio volatility\n",
    "\n",
    "$$l_t\\leq c\\sigma_t(r_p)$$\n",
    "\n",
    "* This means that if volatilitiy goes up at the same time as your assets go down in value, as it typically happens, you face demand in cash both from your losses buy also from a reduction in your leverage limits\n",
    "\n",
    "**Aplication: All in on Tesla**\n",
    "\n",
    "Jackie is a complete believer on Tesla and decide to all here savings, 1 Million dollars on Tesla in early 2017, and lever up to the maximum allowed by it's broker to 50%, so a total position of 1.5 million dollars that she commited to stick with it. broker changed 1% on top of the tbill rate which was at zero.\n",
    "\n",
    "The broker made clear that a fraction of the tesla shares would have to sold everytime leverage went above 80%. The amount sold would have to bring the account leverage back to 50%.\n",
    "\n",
    "> What would happen if JAckie was evne more commited and kept relveraging her account back to 50% everytime it dropped below 40%"
   ]
  },
  {
   "cell_type": "code",
   "execution_count": 209,
   "metadata": {},
   "outputs": [],
   "source": [
    "import wrds\n",
    "import psycopg2 \n",
    "from dateutil.relativedelta import *\n",
    "\n",
    "#conn=wrds.Connection()\n",
    "def get_returns(tickers,conn):\n",
    "    ticker=tickers[0]\n",
    "    df = conn.raw_sql(\"\"\"\n",
    "                          select a.permno, b.ncusip, b.ticker, a.date, b.shrcd,\n",
    "                          a.ret, a.vol, a.shrout, a.prc, a.cfacpr, a.cfacshr,a.retx\n",
    "                          from crsp.dsf as a\n",
    "                          left join crsp.msenames as b\n",
    "                          on a.permno=b.permno\n",
    "                          and b.namedt<=a.date\n",
    "                          and a.date<=b.nameendt\n",
    "                          where a.date between '01/01/2017' and '12/31/2021'            \n",
    "                          and  b.ticker='\"\"\"+ticker+\"'\")\n",
    "    # and b.exchcd between 1 and 3\n",
    "    if len(tickers)>1:\n",
    "        for ticker in tickers[1:]:\n",
    "            df1 = conn.raw_sql(\"\"\"\n",
    "                          select a.permno, b.ncusip, b.ticker, a.date, b.shrcd,\n",
    "                          a.ret, a.vol, a.shrout, a.prc, a.cfacpr, a.cfacshr,a.retx\n",
    "                          from crsp.dsf as a\n",
    "                          left join crsp.msenames as b\n",
    "                          on a.permno=b.permno\n",
    "                          and b.namedt<=a.date\n",
    "                          and a.date<=b.nameendt\n",
    "                          and b.exchcd between 1 and 3\n",
    "                          where b.ticker='\"\"\"+ticker+\"'\")\n",
    "            df=pd.concat([df,df1],axis=0)\n",
    "            \n",
    "    df.set_index(['date','ticker'],inplace=True)\n",
    "    df=df.ret.unstack()\n",
    "    return df\n",
    "\n",
    "\n",
    "Ret=get_returns(['SPY'],conn)"
   ]
  },
  {
   "cell_type": "code",
   "execution_count": 210,
   "metadata": {},
   "outputs": [],
   "source": [
    "df=Ret['2017':]\n",
    "val=1000000\n",
    "\n",
    "rl=0.01/252\n",
    "l1=4\n",
    "l2=8\n",
    "l3=0\n",
    "w0=np.array([[1+l1,-l1]])*val\n",
    "W=pd.DataFrame(w0,index=[df.index[0]],columns=['Asset','rf'])\n",
    "\n",
    "for d in df.index[1:]:\n",
    "    w0=(1+np.array([[float(df.loc[d].values),rl]]))*w0\n",
    "    if w0[0][1]/np.sum(w0)<-l2:\n",
    "        w0=np.sum(w0)*np.array([[1+l1,-l1]])\n",
    "    elif w0[0][1]/np.sum(w0)>-l3:\n",
    "        w0=np.sum(w0)*np.array([[1+l1,-l1]])\n",
    "        \n",
    "    W.at[d,'Asset']=w0[0][0]\n",
    "    W.at[d,'rf']=w0[0][1]\n",
    "        "
   ]
  },
  {
   "cell_type": "code",
   "execution_count": 211,
   "metadata": {},
   "outputs": [
    {
     "data": {
      "text/plain": [
       "Text(0.5, 1.0, 'vol')"
      ]
     },
     "execution_count": 211,
     "metadata": {},
     "output_type": "execute_result"
    },
    {
     "data": {
      "image/png": "[encoded data removed]",
      "text/plain": [
       "<Figure size 432x288 with 1 Axes>"
      ]
     },
     "metadata": {
      "needs_background": "light"
     },
     "output_type": "display_data"
    },
    {
     "data": {
      "image/png": "[encoded data removed]",
      "text/plain": [
       "<Figure size 432x288 with 1 Axes>"
      ]
     },
     "metadata": {
      "needs_background": "light"
     },
     "output_type": "display_data"
    },
    {
     "data": {
      "image/png": "[encoded data removed]",
      "text/plain": [
       "<Figure size 432x288 with 1 Axes>"
      ]
     },
     "metadata": {
      "needs_background": "light"
     },
     "output_type": "display_data"
    }
   ],
   "source": [
    "(W['2017':'2020'].sum(axis=1)/1e6).plot(logy=False)\n",
    "#(W['2017':'2020']['Asset']/1e6).plot(logy=False)\n",
    "plt.title('Networth')\n",
    "plt.figure()\n",
    "(-W['2017':'2020']['rf']/W['2017':'2020'].sum(axis=1)).plot()\n",
    "plt.title('leverage')\n",
    "plt.figure()\n",
    "((W['2017':'2020'].sum(axis=1)).pct_change().rolling(window=21).std()*252**0.5).plot()\n",
    "plt.title('vol')"
   ]
  },
  {
   "cell_type": "code",
   "execution_count": 182,
   "metadata": {},
   "outputs": [],
   "source": [
    "GME=get_returns(['GME'],conn)\n",
    "GME=GME.reset_index()\n",
    "GME=GME.set_index(['date'])\n",
    "GME=GME['2020':]"
   ]
  },
  {
   "cell_type": "code",
   "execution_count": 126,
   "metadata": {},
   "outputs": [
    {
     "data": {
      "text/html": [
       "<div>\n",
       "<style scoped>\n",
       "    .dataframe tbody tr th:only-of-type {\n",
       "        vertical-align: middle;\n",
       "    }\n",
       "\n",
       "    .dataframe tbody tr th {\n",
       "        vertical-align: top;\n",
       "    }\n",
       "\n",
       "    .dataframe thead th {\n",
       "        text-align: right;\n",
       "    }\n",
       "</style>\n",
       "<table border=\"1\" class=\"dataframe\">\n",
       "  <thead>\n",
       "    <tr style=\"text-align: right;\">\n",
       "      <th></th>\n",
       "      <th>ticker</th>\n",
       "      <th>ret</th>\n",
       "    </tr>\n",
       "    <tr>\n",
       "      <th>date</th>\n",
       "      <th></th>\n",
       "      <th></th>\n",
       "    </tr>\n",
       "  </thead>\n",
       "  <tbody>\n",
       "    <tr>\n",
       "      <th>2020-01-02</th>\n",
       "      <td>GME</td>\n",
       "      <td>0.037829</td>\n",
       "    </tr>\n",
       "    <tr>\n",
       "      <th>2020-01-03</th>\n",
       "      <td>GME</td>\n",
       "      <td>-0.068146</td>\n",
       "    </tr>\n",
       "    <tr>\n",
       "      <th>2020-01-06</th>\n",
       "      <td>GME</td>\n",
       "      <td>-0.005102</td>\n",
       "    </tr>\n",
       "    <tr>\n",
       "      <th>2020-01-07</th>\n",
       "      <td>GME</td>\n",
       "      <td>-0.056410</td>\n",
       "    </tr>\n",
       "    <tr>\n",
       "      <th>2020-01-08</th>\n",
       "      <td>GME</td>\n",
       "      <td>0.036232</td>\n",
       "    </tr>\n",
       "    <tr>\n",
       "      <th>...</th>\n",
       "      <td>...</td>\n",
       "      <td>...</td>\n",
       "    </tr>\n",
       "    <tr>\n",
       "      <th>2020-12-24</th>\n",
       "      <td>GME</td>\n",
       "      <td>-0.020418</td>\n",
       "    </tr>\n",
       "    <tr>\n",
       "      <th>2020-12-28</th>\n",
       "      <td>GME</td>\n",
       "      <td>0.041687</td>\n",
       "    </tr>\n",
       "    <tr>\n",
       "      <th>2020-12-29</th>\n",
       "      <td>GME</td>\n",
       "      <td>-0.076703</td>\n",
       "    </tr>\n",
       "    <tr>\n",
       "      <th>2020-12-30</th>\n",
       "      <td>GME</td>\n",
       "      <td>-0.006192</td>\n",
       "    </tr>\n",
       "    <tr>\n",
       "      <th>2020-12-31</th>\n",
       "      <td>GME</td>\n",
       "      <td>-0.021807</td>\n",
       "    </tr>\n",
       "  </tbody>\n",
       "</table>\n",
       "<p>253 rows × 2 columns</p>\n",
       "</div>"
      ],
      "text/plain": [
       "           ticker       ret\n",
       "date                       \n",
       "2020-01-02    GME  0.037829\n",
       "2020-01-03    GME -0.068146\n",
       "2020-01-06    GME -0.005102\n",
       "2020-01-07    GME -0.056410\n",
       "2020-01-08    GME  0.036232\n",
       "...           ...       ...\n",
       "2020-12-24    GME -0.020418\n",
       "2020-12-28    GME  0.041687\n",
       "2020-12-29    GME -0.076703\n",
       "2020-12-30    GME -0.006192\n",
       "2020-12-31    GME -0.021807\n",
       "\n",
       "[253 rows x 2 columns]"
      ]
     },
     "execution_count": 126,
     "metadata": {},
     "output_type": "execute_result"
    }
   ],
   "source": [
    "GME"
   ]
  },
  {
   "cell_type": "code",
   "execution_count": 35,
   "metadata": {},
   "outputs": [
    {
     "data": {
      "text/html": [
       "<div>\n",
       "<style scoped>\n",
       "    .dataframe tbody tr th:only-of-type {\n",
       "        vertical-align: middle;\n",
       "    }\n",
       "\n",
       "    .dataframe tbody tr th {\n",
       "        vertical-align: top;\n",
       "    }\n",
       "\n",
       "    .dataframe thead th {\n",
       "        text-align: right;\n",
       "    }\n",
       "</style>\n",
       "<table border=\"1\" class=\"dataframe\">\n",
       "  <thead>\n",
       "    <tr style=\"text-align: right;\">\n",
       "      <th></th>\n",
       "      <th>risky</th>\n",
       "      <th>rf</th>\n",
       "    </tr>\n",
       "  </thead>\n",
       "  <tbody>\n",
       "    <tr>\n",
       "      <th>0</th>\n",
       "      <td>150.0</td>\n",
       "      <td>-50.0</td>\n",
       "    </tr>\n",
       "    <tr>\n",
       "      <th>1</th>\n",
       "      <td>120.0</td>\n",
       "      <td>-50.0</td>\n",
       "    </tr>\n",
       "  </tbody>\n",
       "</table>\n",
       "</div>"
      ],
      "text/plain": [
       "   risky    rf\n",
       "0  150.0 -50.0\n",
       "1  120.0 -50.0"
      ]
     },
     "execution_count": 35,
     "metadata": {},
     "output_type": "execute_result"
    }
   ],
   "source": [
    "\n",
    "W=np.array([150,-50])\n",
    "W=pd.DataFrame(np.array([[150,-50]]),index=[0],columns=['risky','rf'])\n",
    "\n",
    "\n",
    "W.at[1,:]=W.loc[0]+W.loc[0]*np.array([-0.2,0])\n",
    "W"
   ]
  },
  {
   "cell_type": "code",
   "execution_count": 28,
   "metadata": {},
   "outputs": [
    {
     "data": {
      "text/html": [
       "<div>\n",
       "<style scoped>\n",
       "    .dataframe tbody tr th:only-of-type {\n",
       "        vertical-align: middle;\n",
       "    }\n",
       "\n",
       "    .dataframe tbody tr th {\n",
       "        vertical-align: top;\n",
       "    }\n",
       "\n",
       "    .dataframe thead th {\n",
       "        text-align: right;\n",
       "    }\n",
       "</style>\n",
       "<table border=\"1\" class=\"dataframe\">\n",
       "  <thead>\n",
       "    <tr style=\"text-align: right;\">\n",
       "      <th></th>\n",
       "      <th>p</th>\n",
       "      <th>rf</th>\n",
       "    </tr>\n",
       "  </thead>\n",
       "  <tbody>\n",
       "    <tr>\n",
       "      <th>0</th>\n",
       "      <td>150</td>\n",
       "      <td>-50</td>\n",
       "    </tr>\n",
       "  </tbody>\n",
       "</table>\n",
       "</div>"
      ],
      "text/plain": [
       "     p  rf\n",
       "0  150 -50"
      ]
     },
     "execution_count": 28,
     "metadata": {},
     "output_type": "execute_result"
    }
   ],
   "source": [
    "\n",
    "(-50+x)=-0.5(70+x)\n",
    "(1.5x)=50-0.5*70\n",
    "1.5x=15\n",
    "x=10"
   ]
  },
  {
   "cell_type": "code",
   "execution_count": null,
   "metadata": {},
   "outputs": [],
   "source": []
  }
 ],
 "metadata": {
  "colab": {
   "collapsed_sections": [],
   "machine_shape": "hm",
   "name": "Notebook 7.ipynb",
   "provenance": [],
   "toc_visible": true
  },
  "kernelspec": {
   "display_name": "Python 3",
   "language": "python",
   "name": "python3"
  },
  "language_info": {
   "codemirror_mode": {
    "name": "ipython",
    "version": 3
   },
   "file_extension": ".py",
   "mimetype": "text/x-python",
   "name": "python",
   "nbconvert_exporter": "python",
   "pygments_lexer": "ipython3",
   "version": "3.8.5"
  }
 },
 "nbformat": 4,
 "nbformat_minor": 4
}
