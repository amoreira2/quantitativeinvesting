{
 "cells": [
  {
   "cell_type": "markdown",
   "metadata": {
    "colab_type": "text",
    "id": "ogST1mSABS44"
   },
   "source": [
    "\n",
    "# Cross-sectional strategies\n",
    "\n",
    "* So far we have looked at strategies that go in and out of a particular asset according to a signal. \n",
    "\n",
    "* We looked at past returns and past realized volatility.\n",
    "\n",
    "* You can think of these as strategies as \"timing\" because they change how much risk they take over time.\n",
    "\n",
    "* Now we will look at strategies that do not change their net exposure to the stock market over time, but changes which assets it buys.\n",
    "\n",
    "**The Quantitative space is mostly about \"cross-sectional\" strategies**\n",
    "\n",
    "* Size- Low market cap stocks earn high abnormal returns\n",
    "* Value- High Book-to-market stocks earn high abnormal returns\n",
    "* Momentum – High Prior 12 month returns earn high abnormal returns\n",
    "* Profitability- High Profitability firms earn high abnormal returns\n",
    "* Beta  – Low market beta firms earn high abnormal returns\n",
    "* Idiosyncratic Volatility – High indio vol firms earn low abnormal returns\n",
    "* Investment- Low investment growth firms earn high abnormal returns\n",
    "* Short-term reversals-Low last week returns earn high abnormal returns\n",
    "\n",
    "\n",
    "**The  recipe**\n",
    "\n",
    "1. Construct a signal for each stock. We call this a stock \"characteristic\"\n",
    "    - It can be based on accounting data, return data, or whatever\n",
    "    - What is important is that for each stock in each date you have a value for this characteristic\n",
    "    \n",
    "2. On a given date sort stocks by this characterisitc. \n",
    "    - It is key that this characteristic is infact known at sorting date!\n",
    "    - Extremely careful not to introduce \"look-ahead\" bias\n",
    "    \n",
    "3. Construct portfolios by dividing stocks in deciles/quinties and form portfolios of stocks that have similar characteristic\n",
    "    - You can either equal weight or value weight within portfolio\n",
    "    - But what is important is that each portfolio will have stocks of have ver different chracteristic values\n",
    "    \n",
    "4. Construct the long-short where you go long portfolio 10 and short portfolio 1 (or vice versa) but the point is to take a bet on the characteristic spread    "
   ]
  },
  {
   "cell_type": "code",
   "execution_count": null,
   "metadata": {},
   "outputs": [],
   "source": []
  }
 ],
 "metadata": {
  "colab": {
   "collapsed_sections": [],
   "name": "Notebook 6.ipynb",
   "provenance": []
  },
  "kernelspec": {
   "display_name": "Python 3",
   "language": "python",
   "name": "python3"
  },
  "language_info": {
   "codemirror_mode": {
    "name": "ipython",
    "version": 3
   },
   "file_extension": ".py",
   "mimetype": "text/x-python",
   "name": "python",
   "nbconvert_exporter": "python",
   "pygments_lexer": "ipython3",
   "version": "3.8.5"
  }
 },
 "nbformat": 4,
 "nbformat_minor": 4
}
