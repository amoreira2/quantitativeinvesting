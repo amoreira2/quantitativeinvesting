{
 "cells": [
  {
   "cell_type": "code",
   "execution_count": null,
   "id": "sonic-sitting",
   "metadata": {},
   "outputs": [],
   "source": []
  },
  {
   "cell_type": "markdown",
   "id": "thrown-discrimination",
   "metadata": {
    "colab_type": "text",
    "id": "eXC17xpjySSI"
   },
   "source": [
    "## Log returns and Simple returns\n",
    "\n",
    "Insight: If innovations in log returns are iid then, log returns at long enough horizons must be normal (Central Limit Theorem)\n",
    "\n",
    "$$1+𝑅_{1→𝑇}=((1+𝑅_1 )(1+𝑅_2 )…(1+𝑅_𝑇))⁡\\\\\n",
    "ln⁡(1+𝑅_{1→𝑇} )=ln⁡((1+𝑅_1 )(1+𝑅_2 )…(1+𝑅_𝑇 ))\\\\\n",
    "ln⁡(1+𝑅_{1→𝑇} )=ln⁡(1+𝑅_1 )+ln⁡(1+𝑅_2 )+…+ln⁡(1+𝑅_𝑇 )\\\\\n",
    "                    𝑟_{1→𝑇}=𝑟_1+𝑟_2+…+𝑟_𝑇 $$ \n",
    "\n",
    "\n",
    "\n",
    "* Thus, if T is large, $𝑟_{1→𝑇}$ will be approximately normally distributed. (central limit theorem)\n",
    "\n",
    "* $𝑟_𝑡=ln⁡(1+𝑅_𝑡 )$ is the rate of return assuming continuous compounding for the period t.\n",
    "\n",
    "* This turns out to hold up well if you look at horizons longer than a month, but does not work at all at daily frequency (much fatter left tail than the normal distribution predicts)\n",
    "\n",
    "\n",
    "* Log returns are also very convenient when thinking about long-term investing"
   ]
  },
  {
   "cell_type": "code",
   "execution_count": 33,
   "id": "latest-sight",
   "metadata": {
    "colab": {
     "base_uri": "https://localhost:8080/",
     "height": 51
    },
    "colab_type": "code",
    "executionInfo": {
     "elapsed": 340,
     "status": "ok",
     "timestamp": 1576432695833,
     "user": {
      "displayName": "yuchi yao",
      "photoUrl": "",
      "userId": "00457884373990713813"
     },
     "user_tz": 300
    },
    "id": "mPa2OX9WySSJ",
    "outputId": "419b924a-da26-4ffa-80e7-92b014ff0f68"
   },
   "outputs": [
    {
     "name": "stdout",
     "output_type": "stream",
     "text": [
      "[-0.7707864524331097, -0.10212480191113225]\n",
      "[2.859221702344219, -0.17043746558020745]\n"
     ]
    }
   ],
   "source": [
    "print([np.log(1+Data.MKT).skew(),X.skew()])\n",
    "\n",
    "print([np.log(1+Data.MKT).kurtosis(),X.kurtosis()])"
   ]
  },
  {
   "cell_type": "markdown",
   "id": "breeding-amplifier",
   "metadata": {
    "colab_type": "text",
    "id": "Uo48KjFhySSK"
   },
   "source": [
    "#### How to go back and fourth between log and simple returns?\n",
    "\n",
    "Let R be a simple net return per period, i.e., if you invest 10 , you get 10(1+R) in the end of the period\n",
    "\n",
    "R is a number like 5% (0.05)\n",
    "\n",
    "We say 1+R, a number like 1.05 is a gross return. \n",
    "\n",
    "Why gross? Because it includes 1, your initial investment.\n",
    "\n",
    "* To get log returns: $r=log(1+R)$\n",
    "\n",
    "\n",
    "* To get back simple returns: $R=exp(r)-1$"
   ]
  },
  {
   "cell_type": "code",
   "execution_count": 34,
   "id": "opponent-speaking",
   "metadata": {
    "colab": {
     "base_uri": "https://localhost:8080/",
     "height": 235
    },
    "colab_type": "code",
    "executionInfo": {
     "elapsed": 330,
     "status": "ok",
     "timestamp": 1576432697937,
     "user": {
      "displayName": "yuchi yao",
      "photoUrl": "",
      "userId": "00457884373990713813"
     },
     "user_tz": 300
    },
    "id": "eYeYHQ77ySSL",
    "outputId": "35356dfc-2f1c-4b1e-8128-dc7f7b038158",
    "scrolled": true
   },
   "outputs": [
    {
     "data": {
      "text/html": [
       "<div>\n",
       "<style scoped>\n",
       "    .dataframe tbody tr th:only-of-type {\n",
       "        vertical-align: middle;\n",
       "    }\n",
       "\n",
       "    .dataframe tbody tr th {\n",
       "        vertical-align: top;\n",
       "    }\n",
       "\n",
       "    .dataframe thead th {\n",
       "        text-align: right;\n",
       "    }\n",
       "</style>\n",
       "<table border=\"1\" class=\"dataframe\">\n",
       "  <thead>\n",
       "    <tr style=\"text-align: right;\">\n",
       "      <th></th>\n",
       "      <th>MKT</th>\n",
       "      <th>MKT</th>\n",
       "    </tr>\n",
       "    <tr>\n",
       "      <th>Date</th>\n",
       "      <th></th>\n",
       "      <th></th>\n",
       "    </tr>\n",
       "  </thead>\n",
       "  <tbody>\n",
       "    <tr>\n",
       "      <th>1963-02-28</th>\n",
       "      <td>-0.0215</td>\n",
       "      <td>-0.0215</td>\n",
       "    </tr>\n",
       "    <tr>\n",
       "      <th>1963-03-31</th>\n",
       "      <td>0.0331</td>\n",
       "      <td>0.0331</td>\n",
       "    </tr>\n",
       "    <tr>\n",
       "      <th>1963-04-30</th>\n",
       "      <td>0.0476</td>\n",
       "      <td>0.0476</td>\n",
       "    </tr>\n",
       "    <tr>\n",
       "      <th>1963-05-31</th>\n",
       "      <td>0.0200</td>\n",
       "      <td>0.0200</td>\n",
       "    </tr>\n",
       "    <tr>\n",
       "      <th>1963-06-30</th>\n",
       "      <td>-0.0177</td>\n",
       "      <td>-0.0177</td>\n",
       "    </tr>\n",
       "  </tbody>\n",
       "</table>\n",
       "</div>"
      ],
      "text/plain": [
       "               MKT     MKT\n",
       "Date                      \n",
       "1963-02-28 -0.0215 -0.0215\n",
       "1963-03-31  0.0331  0.0331\n",
       "1963-04-30  0.0476  0.0476\n",
       "1963-05-31  0.0200  0.0200\n",
       "1963-06-30 -0.0177 -0.0177"
      ]
     },
     "execution_count": 34,
     "metadata": {},
     "output_type": "execute_result"
    }
   ],
   "source": [
    "r=np.log(1+Data.MKT)\n",
    "R=np.exp(r)-1\n",
    "pd.concat([R,Data.MKT],axis=1).head()"
   ]
  },
  {
   "cell_type": "code",
   "execution_count": 35,
   "id": "technical-shipping",
   "metadata": {
    "colab": {
     "base_uri": "https://localhost:8080/",
     "height": 34
    },
    "colab_type": "code",
    "executionInfo": {
     "elapsed": 341,
     "status": "ok",
     "timestamp": 1576432700402,
     "user": {
      "displayName": "yuchi yao",
      "photoUrl": "",
      "userId": "00457884373990713813"
     },
     "user_tz": 300
    },
    "id": "yCQ7eLLnySSM",
    "outputId": "4173a475-05a6-44ec-a9c8-c0c7d73d7263"
   },
   "outputs": [
    {
     "data": {
      "text/plain": [
       "[4, 0]"
      ]
     },
     "execution_count": 35,
     "metadata": {},
     "output_type": "execute_result"
    }
   ],
   "source": [
    "threshold=3\n",
    "# now real data in log returns\n",
    "\n",
    "A=((np.log(Data.MKT+1)-np.log(Data.MKT+1).mean())<-threshold*np.log(Data.MKT+1).std())\n",
    "B=((X-X.mean())<-threshold*X.std())\n",
    "[A.sum(),B.sum()]"
   ]
  },
  {
   "cell_type": "code",
   "execution_count": null,
   "id": "optimum-czech",
   "metadata": {},
   "outputs": [],
   "source": []
  },
  {
   "cell_type": "code",
   "execution_count": null,
   "id": "czech-stanford",
   "metadata": {},
   "outputs": [],
   "source": []
  },
  {
   "cell_type": "code",
   "execution_count": null,
   "id": "fifth-settle",
   "metadata": {},
   "outputs": [],
   "source": []
  },
  {
   "cell_type": "markdown",
   "id": "former-malawi",
   "metadata": {
    "colab_type": "text",
    "id": "gXTv2zAjQ1u6"
   },
   "source": [
    "### The tangency portfolio and the cross-sectional of expected returns\n",
    "\n",
    "\n",
    "* The optimal condition for our tangency portfolio:\n",
    "\n",
    "$$ Var(R^e)W^*=cte \\times E[R^e]$$\n",
    "\n",
    "* This condition above defines the tangency portfolio\n",
    "\n",
    "* We can rewirte the left hand side as\n",
    "\n",
    "$$Var(R^e)W^*=Cov(R^e,R^e)W^*=Cov(R^e,(W^*)'R^e)=Cov(R^e,R^*)$$\n",
    "\n",
    "* The left-hand side in the covariance vector of all the assets with the tangency portfolio\n",
    "\n",
    "* This means that the expected return of an asset must be proportional to the covariance between the return of the asset and the return of the tangency portfolio\n",
    "\n",
    "$$ E[R^e]=cte \\times Cov(R^e,R^*) $$\n",
    "\n",
    "\n",
    "* This holds for all assets in your investment opportunity set (i.e. the assets included in the minimization problem that the tangency portfolio solves)\n",
    "\n",
    "\n",
    "* This means that for any assets $j$ and $i$ we have \n",
    "\n",
    "\n",
    "$$\\frac{E[R^e_i]}{Cov(R^e_i,R^*)}= \\frac{E[R^e_j]}{Cov(R^e_j,R^*)} $$ \n",
    "\n",
    "\n",
    "* All assets have the same expected return per-unit of covariance with the tangency portoflio\n",
    "\n",
    "* We can also apply this to the tangency portfolio itself\n",
    "\n",
    "\n",
    "$$ E[R^*]=cte \\times Cov(R^*,R^*) $$\n",
    "\n",
    "\n",
    "* Which means that $cte=\\frac{E[R^*]}{Var(R^*)}$\n",
    "\n",
    "\n",
    "* Plugging back in the original and we get that for any asset $j$\n",
    "\n",
    "\n",
    "$$ E[R^e_j]=\\frac{E[R^*]}{Var(R^*)} Cov(R^e_j,R^*) =\\frac{Cov(R^e_j,R^*)}{Var(R^*)}E[R^*]=\\beta_{j,*}E[R^*] $$\n",
    "\n",
    "\n",
    "\n",
    "$$ E[R^e_j]=\\beta_{j,*}E[R^*] $$\n",
    "\n",
    "> What does that remind you?\n",
    "\n",
    "* All the information about the cross-sectional of expected returns--all the assets-- can be summarized by the expected return of the tangency portfolio and the beta of each asset with respect to the tangency portfolio\n",
    "\n",
    "* Or Alternatively: the risk-return trade-off  of the tangency portfolio  $\\frac{E[R^*]}{Var(R^*)}$ and the covariance of each asset with it.\n",
    "\n",
    "\n",
    "* Once you have the right notion of risk, the reward to risk is the same across assets (no free lunch)\n",
    "\n",
    "* What is the right notion? Covariance with the tangency portfolio\n",
    "\n",
    "* In the sample that you estimated the moments this will be true by construction!"
   ]
  },
  {
   "cell_type": "markdown",
   "id": "sweet-advisory",
   "metadata": {
    "colab_type": "text",
    "id": "KsX_yARZ8-Av"
   },
   "source": [
    "Now we test if $ E[R^e_j]=\\frac{Cov(R^e_j,R^*)}{Var(R^*)}E[R^*] $ in our sample"
   ]
  },
  {
   "cell_type": "code",
   "execution_count": null,
   "id": "structured-glance",
   "metadata": {},
   "outputs": [],
   "source": [
    "Wstar"
   ]
  },
  {
   "cell_type": "code",
   "execution_count": null,
   "id": "faced-essay",
   "metadata": {},
   "outputs": [],
   "source": [
    "Rstar=Re.copy()\n",
    "Rstar['*']=Re @ Wstar\n",
    "Rstar.cov()"
   ]
  },
  {
   "cell_type": "code",
   "execution_count": null,
   "id": "intermediate-tours",
   "metadata": {},
   "outputs": [],
   "source": [
    "cov=Wstar @ Re.cov()\n",
    "cov"
   ]
  },
  {
   "cell_type": "code",
   "execution_count": null,
   "id": "powered-climate",
   "metadata": {
    "colab": {
     "base_uri": "https://localhost:8080/",
     "height": 119
    },
    "colab_type": "code",
    "executionInfo": {
     "elapsed": 320,
     "status": "ok",
     "timestamp": 1576520863268,
     "user": {
      "displayName": "yuchi yao",
      "photoUrl": "",
      "userId": "00457884373990713813"
     },
     "user_tz": 300
    },
    "id": "M2h8mHWkQ1u7",
    "outputId": "308982d8-4853-402d-d375-72289fb5d8a9"
   },
   "outputs": [],
   "source": [
    "# expected return of the tangency portfolio\n",
    "mu_star=Wstar @ Re.mean()\n",
    "# variance of the tangency portfolio\n",
    "var_star=(Wstar @ Re.cov() @ Wstar.T)\n",
    "# covariance between each asset return and the tangency portfolio\n",
    "cov=Wstar @ Re.cov()\n",
    "\n",
    "predicted= mu_star/var_star*cov\n",
    "\n",
    "print(predicted)\n",
    "\n",
    "print(Re.mean())"
   ]
  },
  {
   "cell_type": "markdown",
   "id": "another-representative",
   "metadata": {
    "colab_type": "text",
    "id": "cAt4Nls5Q1u8"
   },
   "source": [
    "* This comes from the fact that the tangency portfolio was constructed to be the portfolio with the maximum Sharpe Ratio\n",
    "* It is a result of us knowing the moments of all assets summarized by $E[R^e]$  and $Var(R^e)$\n",
    "* Here we did everything IN SAMPLE. We used sample moments and evalauted it's predictions using the same sample\n",
    "* The challenge is that these moments are not always well estiamted, to put it mildly (more on this soon!)\n",
    "* So the in sample tangency portfolio might not be very informative about the true tangency portfolio, which is the one that we actually care about\n",
    "\n",
    "> Why? Because it can predict returns going forward and not only in sample (which is useless)"
   ]
  },
  {
   "cell_type": "code",
   "execution_count": null,
   "id": "preceding-period",
   "metadata": {},
   "outputs": [],
   "source": []
  },
  {
   "cell_type": "code",
   "execution_count": null,
   "id": "practical-marshall",
   "metadata": {},
   "outputs": [],
   "source": []
  },
  {
   "cell_type": "code",
   "execution_count": null,
   "id": "early-waterproof",
   "metadata": {},
   "outputs": [],
   "source": []
  },
  {
   "cell_type": "code",
   "execution_count": null,
   "id": "respected-resistance",
   "metadata": {},
   "outputs": [],
   "source": []
  },
  {
   "cell_type": "markdown",
   "id": "every-birth",
   "metadata": {
    "colab_type": "text",
    "id": "1TYqk8Mh55nE"
   },
   "source": [
    "## T-stat\n",
    "\n",
    "* T-stat for a given hypothesis $\\mu_{j}^0$\n",
    "\n",
    "$$t_j(\\mu_0)=\\frac{\\bar{R_j}-\\mu_{j}^0}{\\sigma(\\bar{R_j})}$$\n"
   ]
  },
  {
   "cell_type": "markdown",
   "id": "split-color",
   "metadata": {
    "colab_type": "text",
    "id": "R58QDxf36EwP"
   },
   "source": [
    "## One-sided hypothesis testing\n",
    "* For example lets assume we have strong theoretical reasons to believe that these assets must not have a negative expected returns. (True for the value-weighted stock market, less true for bonds)\n",
    "\n",
    "* So lets do a 1-sided test with 5% interval and ask what it is the largest expected return $X_j$ that we can say with 95% confidence that the asset j has expected return higher than $X_j$\n",
    "\n",
    "$$1.64=\\frac{\\bar{R_j}-\\mu_{j}^0}{\\sigma(\\bar{R_j})}$$\n",
    "\n",
    "* If we are evaluating the hypothesis that $\\mu_{j}=0$, we say that \n",
    "\n",
    "  * if $\\frac{\\bar{R_j}-0}{\\sigma(\\bar{R_j})}\\geq 1.64$, we can statistically reject that $\\mu_{j}=0$ with a 95% confidence (or alternatively: we can statistically reject that $\\mu_{j}=0$ with a 5% probabilit value (pvalue) )\n",
    "  * if $\\frac{\\bar{R_j}-0}{\\sigma(\\bar{R_j})}<1.64$, we fail to statistically reject that $\\mu_{j}=0$ with a 95% confidence (or alternatively: we fail to statistically reject that $\\mu_{j}=0$ with a 5% probability value (pvalue) )\n",
    "  \n",
    "\n",
    "* Equivalently we can also construct our confidence intervals for the expected mean\n",
    "\n",
    "$$\\mu_{j}^{-,95\\%}=\\bar{R_j}-1.64\\sigma(\\bar{R_j})$$\n",
    "\n",
    "$$\\mu_{j}^{+,95\\%}=\\bar{R_j}+1.64\\sigma(\\bar{R_j})$$\n",
    "\n",
    "\n",
    "* We say that this interval $[\\mu_{j}^{-,95\\%}, \\mu_{j}^{+,95\\%}]$ contains the true expected value with 95% probability"
   ]
  },
  {
   "cell_type": "code",
   "execution_count": 116,
   "id": "desirable-sauce",
   "metadata": {
    "colab": {
     "base_uri": "https://localhost:8080/",
     "height": 119
    },
    "colab_type": "code",
    "executionInfo": {
     "elapsed": 590,
     "status": "ok",
     "timestamp": 1576771944441,
     "user": {
      "displayName": "yuchi yao",
      "photoUrl": "",
      "userId": "00457884373990713813"
     },
     "user_tz": 300
    },
    "id": "cWGWxsBmYS3P",
    "outputId": "5e6cf846-e4ad-48d8-c596-c130fbdb49de"
   },
   "outputs": [
    {
     "name": "stdout",
     "output_type": "stream",
     "text": [
      "          avg_std       avg\n",
      "MKTUS    0.001735  0.005140\n",
      "BondUS   0.001377  0.002523\n",
      "EM       0.002344  0.006923\n",
      "MKTxUS   0.001836  0.004149\n",
      "BondxUS  0.000793  0.002054\n"
     ]
    }
   ],
   "source": [
    "print(ERstd)"
   ]
  },
  {
   "cell_type": "markdown",
   "id": "finnish-people",
   "metadata": {
    "colab_type": "text",
    "id": "QeItZd4MhHrF"
   },
   "source": [
    "Here is a look at t-stats relative to a zero null-hypothesis (which is what people often do)\n"
   ]
  },
  {
   "cell_type": "markdown",
   "id": "requested-pocket",
   "metadata": {
    "colab_type": "text",
    "id": "-h8CNF13ZIFU"
   },
   "source": [
    "> Side comment: Why am using 1.64?\n",
    "\n",
    "Recall from Notebook 3:"
   ]
  },
  {
   "cell_type": "code",
   "execution_count": 117,
   "id": "infinite-deficit",
   "metadata": {
    "colab": {
     "base_uri": "https://localhost:8080/",
     "height": 34
    },
    "colab_type": "code",
    "executionInfo": {
     "elapsed": 538,
     "status": "ok",
     "timestamp": 1576771946193,
     "user": {
      "displayName": "yuchi yao",
      "photoUrl": "",
      "userId": "00457884373990713813"
     },
     "user_tz": 300
    },
    "id": "Hyk6bKoyZLN1",
    "outputId": "b4f651fc-f846-42d7-c51d-59167172b2f0"
   },
   "outputs": [
    {
     "data": {
      "text/plain": [
       "2.053748910631823"
      ]
     },
     "execution_count": 117,
     "metadata": {},
     "output_type": "execute_result"
    }
   ],
   "source": [
    "from scipy.stats import norm\n",
    "ps=norm(0,1)\n",
    "ps.isf(0.02)"
   ]
  },
  {
   "cell_type": "code",
   "execution_count": 118,
   "id": "potential-triple",
   "metadata": {
    "colab": {
     "base_uri": "https://localhost:8080/",
     "height": 204
    },
    "colab_type": "code",
    "executionInfo": {
     "elapsed": 422,
     "status": "ok",
     "timestamp": 1576771960759,
     "user": {
      "displayName": "yuchi yao",
      "photoUrl": "",
      "userId": "00457884373990713813"
     },
     "user_tz": 300
    },
    "id": "_ze7zkXuhHrG",
    "outputId": "4861328f-ab75-4895-bffd-4e4e18a78296"
   },
   "outputs": [
    {
     "data": {
      "text/html": [
       "<div>\n",
       "<style scoped>\n",
       "    .dataframe tbody tr th:only-of-type {\n",
       "        vertical-align: middle;\n",
       "    }\n",
       "\n",
       "    .dataframe tbody tr th {\n",
       "        vertical-align: top;\n",
       "    }\n",
       "\n",
       "    .dataframe thead th {\n",
       "        text-align: right;\n",
       "    }\n",
       "</style>\n",
       "<table border=\"1\" class=\"dataframe\">\n",
       "  <thead>\n",
       "    <tr style=\"text-align: right;\">\n",
       "      <th></th>\n",
       "      <th>avg_std</th>\n",
       "      <th>avg</th>\n",
       "      <th>t_stat</th>\n",
       "    </tr>\n",
       "  </thead>\n",
       "  <tbody>\n",
       "    <tr>\n",
       "      <th>MKTUS</th>\n",
       "      <td>0.001735</td>\n",
       "      <td>0.005140</td>\n",
       "      <td>2.962459</td>\n",
       "    </tr>\n",
       "    <tr>\n",
       "      <th>BondUS</th>\n",
       "      <td>0.001377</td>\n",
       "      <td>0.002523</td>\n",
       "      <td>1.832010</td>\n",
       "    </tr>\n",
       "    <tr>\n",
       "      <th>EM</th>\n",
       "      <td>0.002344</td>\n",
       "      <td>0.006923</td>\n",
       "      <td>2.953007</td>\n",
       "    </tr>\n",
       "    <tr>\n",
       "      <th>MKTxUS</th>\n",
       "      <td>0.001836</td>\n",
       "      <td>0.004149</td>\n",
       "      <td>2.259454</td>\n",
       "    </tr>\n",
       "    <tr>\n",
       "      <th>BondxUS</th>\n",
       "      <td>0.000793</td>\n",
       "      <td>0.002054</td>\n",
       "      <td>2.591087</td>\n",
       "    </tr>\n",
       "  </tbody>\n",
       "</table>\n",
       "</div>"
      ],
      "text/plain": [
       "          avg_std       avg    t_stat\n",
       "MKTUS    0.001735  0.005140  2.962459\n",
       "BondUS   0.001377  0.002523  1.832010\n",
       "EM       0.002344  0.006923  2.953007\n",
       "MKTxUS   0.001836  0.004149  2.259454\n",
       "BondxUS  0.000793  0.002054  2.591087"
      ]
     },
     "execution_count": 118,
     "metadata": {},
     "output_type": "execute_result"
    }
   ],
   "source": [
    "# we can look at the t-stats (against zero) for the assets\n",
    "# the average return divided by the average return estimator standard deviation\n",
    "ERstd=pd.concat([ERstd, Re.mean()/(Re.std()/(T**0.5))],axis=1)\n",
    "ERstd=ERstd.rename(columns={0:'t_stat'})\n",
    "ERstd"
   ]
  },
  {
   "cell_type": "code",
   "execution_count": 119,
   "id": "widespread-savage",
   "metadata": {
    "colab": {
     "base_uri": "https://localhost:8080/",
     "height": 300
    },
    "colab_type": "code",
    "executionInfo": {
     "elapsed": 941,
     "status": "ok",
     "timestamp": 1576771966168,
     "user": {
      "displayName": "yuchi yao",
      "photoUrl": "",
      "userId": "00457884373990713813"
     },
     "user_tz": 300
    },
    "id": "MvPpWADNhHrI",
    "outputId": "f4b452cd-8158-45aa-9d2a-24d4ddda95fb"
   },
   "outputs": [
    {
     "data": {
      "image/png": "[encoded data removed]",
      "text/plain": [
       "<Figure size 432x288 with 1 Axes>"
      ]
     },
     "metadata": {
      "needs_background": "light"
     },
     "output_type": "display_data"
    }
   ],
   "source": [
    "# Plot t-stats for each asset\n",
    "ERstd.t_stat.plot.bar()\n",
    "plt.show()"
   ]
  },
  {
   "cell_type": "code",
   "execution_count": 120,
   "id": "raised-decade",
   "metadata": {
    "colab": {
     "base_uri": "https://localhost:8080/",
     "height": 300
    },
    "colab_type": "code",
    "executionInfo": {
     "elapsed": 732,
     "status": "ok",
     "timestamp": 1576771985379,
     "user": {
      "displayName": "yuchi yao",
      "photoUrl": "",
      "userId": "00457884373990713813"
     },
     "user_tz": 300
    },
    "id": "KfBHvEzJhHrM",
    "outputId": "a825cabb-d1f4-43d2-a1b6-07d2cdecc07b",
    "scrolled": true
   },
   "outputs": [
    {
     "data": {
      "image/png": "[encoded data removed]",
      "text/plain": [
       "<Figure size 432x288 with 1 Axes>"
      ]
     },
     "metadata": {
      "needs_background": "light"
     },
     "output_type": "display_data"
    }
   ],
   "source": [
    "# Plot the left hand side of the confidence interval and the average return \n",
    "#   for each asset\n",
    "ER0=pd.concat([Re.mean()-1.64*(Re.std()/(T**0.5)),Re.mean()],axis=1)\n",
    "ER0=ER0.rename(columns={0:'one-sided',1:'avg'})\n",
    "ER0.plot.bar()\n",
    "plt.show()"
   ]
  },
  {
   "cell_type": "markdown",
   "id": "regular-setting",
   "metadata": {
    "colab_type": "text",
    "id": "u_qx-3iza_VI"
   },
   "source": [
    "## Two-sided intervals\n",
    "\n",
    "* If we are more agnostic and believe less in the economic theories we have,\n",
    "\n",
    "* Or the theories are silent\n",
    "\n",
    "* For example, the theories are silent in long-short portfolios of equities, for example, the portfolio that goes long the US market and sells the international market.\n",
    "\n",
    "* Then we must do a two-sided interval"
   ]
  },
  {
   "cell_type": "markdown",
   "id": "colonial-symposium",
   "metadata": {
    "colab_type": "text",
    "id": "yV6ImzsvbXSK"
   },
   "source": [
    "> What is the 95% threshold for a two sided test?"
   ]
  },
  {
   "cell_type": "code",
   "execution_count": 121,
   "id": "broadband-olive",
   "metadata": {
    "colab": {
     "base_uri": "https://localhost:8080/",
     "height": 34
    },
    "colab_type": "code",
    "executionInfo": {
     "elapsed": 431,
     "status": "ok",
     "timestamp": 1576771989320,
     "user": {
      "displayName": "yuchi yao",
      "photoUrl": "",
      "userId": "00457884373990713813"
     },
     "user_tz": 300
    },
    "id": "lMob3QZObcJW",
    "outputId": "f03f216a-221e-4a57-ce94-e50a0054f47c"
   },
   "outputs": [
    {
     "data": {
      "text/plain": [
       "1.9599639845400545"
      ]
     },
     "execution_count": 121,
     "metadata": {},
     "output_type": "execute_result"
    }
   ],
   "source": [
    "ps.isf(0.05/2)"
   ]
  },
  {
   "cell_type": "code",
   "execution_count": 122,
   "id": "creative-transcription",
   "metadata": {
    "colab": {
     "base_uri": "https://localhost:8080/",
     "height": 300
    },
    "colab_type": "code",
    "executionInfo": {
     "elapsed": 1093,
     "status": "ok",
     "timestamp": 1576771992155,
     "user": {
      "displayName": "yuchi yao",
      "photoUrl": "",
      "userId": "00457884373990713813"
     },
     "user_tz": 300
    },
    "id": "xkQmt3NbhHrO",
    "outputId": "d8ded182-3357-44d2-ca2a-90b8a41acb6c",
    "scrolled": true
   },
   "outputs": [
    {
     "data": {
      "image/png": "[encoded data removed]",
      "text/plain": [
       "<Figure size 432x288 with 1 Axes>"
      ]
     },
     "metadata": {
      "needs_background": "light"
     },
     "output_type": "display_data"
    }
   ],
   "source": [
    "# Plot the lower bar of the two-sided confidence interval\n",
    "\n",
    "ER0['twosided']=Re.mean()-1.96*(Re.std()/(Re.shape[0]**0.5))\n",
    "ER0.plot.bar()\n",
    "plt.show()"
   ]
  },
  {
   "cell_type": "markdown",
   "id": "banned-floor",
   "metadata": {
    "colab_type": "text",
    "id": "wVmSALZchHrQ"
   },
   "source": [
    "## Pvalues\n"
   ]
  },
  {
   "cell_type": "markdown",
   "id": "focal-ranking",
   "metadata": {
    "colab_type": "text",
    "id": "0Mw9Q7NwcPif"
   },
   "source": [
    "* Instead of using our t-stats to do a test at a particular level of significance, say 95%\n",
    "\n",
    "* We can use the normal cdf to find p-value, which gives us the highest level of significance our data is consistent with\n",
    "\n",
    "* Here again, against the zero null hypothesis"
   ]
  },
  {
   "cell_type": "code",
   "execution_count": 123,
   "id": "later-utilization",
   "metadata": {
    "colab": {},
    "colab_type": "code",
    "id": "3ZMydk5RhHrQ"
   },
   "outputs": [],
   "source": [
    "# We can also construct p'values\n",
    "from scipy.stats import norm\n",
    "# and I am creating this `ps` object which is the standard normal distribution\n",
    "ps=norm(0,1)"
   ]
  },
  {
   "cell_type": "code",
   "execution_count": 124,
   "id": "charitable-input",
   "metadata": {
    "colab": {
     "base_uri": "https://localhost:8080/",
     "height": 34
    },
    "colab_type": "code",
    "executionInfo": {
     "elapsed": 602,
     "status": "ok",
     "timestamp": 1576795511834,
     "user": {
      "displayName": "yuchi yao",
      "photoUrl": "",
      "userId": "00457884373990713813"
     },
     "user_tz": 300
    },
    "id": "44jw4AbfVX5R",
    "outputId": "93c8d624-1336-41af-ca54-5dfa11627d82"
   },
   "outputs": [
    {
     "data": {
      "text/plain": [
       "1.6448536269514722"
      ]
     },
     "execution_count": 124,
     "metadata": {},
     "output_type": "execute_result"
    }
   ],
   "source": [
    "ps.isf(0.95)\n",
    "ps.ppf(0.95)"
   ]
  },
  {
   "cell_type": "code",
   "execution_count": 125,
   "id": "infectious-strand",
   "metadata": {
    "colab": {
     "base_uri": "https://localhost:8080/",
     "height": 304
    },
    "colab_type": "code",
    "executionInfo": {
     "elapsed": 648,
     "status": "ok",
     "timestamp": 1576772000561,
     "user": {
      "displayName": "yuchi yao",
      "photoUrl": "",
      "userId": "00457884373990713813"
     },
     "user_tz": 300
    },
    "id": "EcUQVgpuddor",
    "outputId": "edf3a778-14a1-45f2-c8a4-a1d983ab6f73"
   },
   "outputs": [
    {
     "data": {
      "image/png": "[encoded data removed]",
      "text/plain": [
       "<Figure size 432x288 with 1 Axes>"
      ]
     },
     "metadata": {
      "needs_background": "light"
     },
     "output_type": "display_data"
    }
   ],
   "source": [
    "ER0['pvalues(one-sided)']=1-ps.cdf((Re.mean()/(Re.std()/(Re.shape[0]**0.5))).values)\n",
    "ER0['pvalues(two-sided)']=(1-ps.cdf(np.abs((Re.mean()/(Re.std()/(Re.shape[0]**0.5))).values)))*2\n",
    "ER0[['pvalues(one-sided)','pvalues(two-sided)']].plot.bar()\n",
    "plt.show()"
   ]
  },
  {
   "cell_type": "code",
   "execution_count": 126,
   "id": "interim-palestine",
   "metadata": {
    "colab": {
     "base_uri": "https://localhost:8080/",
     "height": 265
    },
    "colab_type": "code",
    "executionInfo": {
     "elapsed": 666,
     "status": "ok",
     "timestamp": 1576772785743,
     "user": {
      "displayName": "yuchi yao",
      "photoUrl": "",
      "userId": "00457884373990713813"
     },
     "user_tz": 300
    },
    "id": "vXY4803ahHrS",
    "outputId": "b1f2bbe4-9ea2-4500-9450-411004787da6"
   },
   "outputs": [
    {
     "data": {
      "image/png": "[encoded data removed]",
      "text/plain": [
       "<Figure size 432x288 with 1 Axes>"
      ]
     },
     "metadata": {
      "needs_background": "light"
     },
     "output_type": "display_data"
    }
   ],
   "source": [
    "# lets look at a two-sided 95% confidence interval (I am annulaizing for convenience)\n",
    "\n",
    "# (1) choose the confidence level\n",
    "interval=0.95\n",
    "# in the two-sided case, tail probability is half of (1-interval)\n",
    "tails=(1-interval)/2\n",
    "\n",
    "# (2) construct a normal distribution using the mean and standard deviation of a chosen asset\n",
    "asset='MKTUS'\n",
    "mu=Re[asset].mean()\n",
    "mu_sigma=Re[asset].std()/Re[asset].count()**0.5\n",
    "# do also at yearly, but do so with explanation\n",
    "\n",
    "p=norm(mu,mu_sigma)\n",
    "\n",
    "# (3) get the value of the left tail and the right tail\n",
    "lefttail=p.ppf(tails)\n",
    "righttail=p.ppf(1-tails)\n",
    "# note that x=pnorm.isf(q) is the inverse of the CDF.\n",
    "# The inverse CDF at `q` is also referred to as the `q quantile` of a distribution.\n",
    "# For a continuous distribution `DIST`, the inverse CDF at q is the value x such that CDF[DIST,x]=q. \n",
    "# So there is exactly probability q that the realization is higher than x.\n",
    "\n",
    "# or equivalently\n",
    "#lefttail=mu+pnorm.isf(tails)*musigma\n",
    "#righttail=mu+pnorm.isf(1-tails)*musigma\n",
    "\n",
    "# (4) plot\n",
    "grid=np.linspace(lefttail,righttail,1000)\n",
    "# this constructs a grid going spanning the region given by the confidence interval\n",
    "\n",
    "plt.plot(grid*12, p.pdf(grid))\n",
    "plt.show()"
   ]
  },
  {
   "cell_type": "markdown",
   "id": "owned-bridge",
   "metadata": {
    "colab_type": "text",
    "id": "c4nAlfoIhHrT"
   },
   "source": [
    "## Test if all assets have the same average return\n",
    "\n",
    "* A more relevant test is whether all these assets have the same average return\n",
    "\n",
    "> Why that is the most relevant hypothesis for us as we do MV optimization?\n",
    "\n",
    "* For assets that have a average return below the average, I compute the probability that this expected return is indeed below, and  for assets that have the avg return above avg I compute the probability that the expected return is indeed above the mean across assets\n",
    "\n",
    "* I will simply use the absolute value to do that"
   ]
  },
  {
   "cell_type": "code",
   "execution_count": 127,
   "id": "charming-arkansas",
   "metadata": {
    "colab": {
     "base_uri": "https://localhost:8080/",
     "height": 119
    },
    "colab_type": "code",
    "executionInfo": {
     "elapsed": 418,
     "status": "ok",
     "timestamp": 1576779855498,
     "user": {
      "displayName": "yuchi yao",
      "photoUrl": "",
      "userId": "00457884373990713813"
     },
     "user_tz": 300
    },
    "id": "Hlad2hfRZwm8",
    "outputId": "cfa38dbf-5349-4058-db08-3cd6b32ee8b4"
   },
   "outputs": [
    {
     "data": {
      "text/plain": [
       "MKTUS      0.005140\n",
       "BondUS     0.002523\n",
       "EM         0.006923\n",
       "MKTxUS     0.004149\n",
       "BondxUS    0.002054\n",
       "dtype: float64"
      ]
     },
     "execution_count": 127,
     "metadata": {},
     "output_type": "execute_result"
    }
   ],
   "source": [
    "Re.mean()"
   ]
  },
  {
   "cell_type": "code",
   "execution_count": 128,
   "id": "descending-projection",
   "metadata": {
    "colab": {
     "base_uri": "https://localhost:8080/",
     "height": 436
    },
    "colab_type": "code",
    "executionInfo": {
     "elapsed": 909,
     "status": "ok",
     "timestamp": 1576781022364,
     "user": {
      "displayName": "yuchi yao",
      "photoUrl": "",
      "userId": "00457884373990713813"
     },
     "user_tz": 300
    },
    "id": "WbZMFF6xhHrT",
    "outputId": "50c17760-94c4-4d37-fe14-eaaa1c08d9a4"
   },
   "outputs": [
    {
     "name": "stdout",
     "output_type": "stream",
     "text": [
      "         one-sided       avg  twosided  pvalues(one-sided)  \\\n",
      "MKTUS     0.002295  0.005140  0.001739            0.001526   \n",
      "BondUS    0.000264  0.002523 -0.000176            0.033475   \n",
      "EM        0.003078  0.006923  0.002328            0.001573   \n",
      "MKTxUS    0.001137  0.004149  0.000550            0.011928   \n",
      "BondxUS   0.000754  0.002054  0.000500            0.004784   \n",
      "\n",
      "         pvalues(two-sided)  same_avg_pvalue  \n",
      "MKTUS              0.003052         0.571257  \n",
      "BondUS             0.066950         0.235012  \n",
      "EM                 0.003147         0.238187  \n",
      "MKTxUS             0.023855         0.996144  \n",
      "BondxUS            0.009567         0.007963  \n"
     ]
    },
    {
     "data": {
      "image/png": "[encoded data removed]",
      "text/plain": [
       "<Figure size 432x288 with 1 Axes>"
      ]
     },
     "metadata": {
      "needs_background": "light"
     },
     "output_type": "display_data"
    }
   ],
   "source": [
    "\n",
    "# ER0['same_avg_pvalue']=\\\n",
    "# (1-pnorm.cdf(((Re.mean()-Re.mean().mean())/(Re.std()/(Re.shape[0]**0.5))).values))*(Re.mean()>Re.mean().mean())\\\n",
    "# +(pnorm.cdf(((Re.mean()-Re.mean().mean())/(Re.std()/(Re.shape[0]**0.5))).values))*(Re.mean()<=Re.mean().mean())\n",
    "#(probability of being above the average)*(average above avg across assets?)\n",
    "#(probability of being below the average)*(average below avg across assets?)\n",
    "\n",
    "# or much more easily:\n",
    "# (1) save the standard deviation of the average excess return of each asset as `stdmean`\n",
    "stdmean=Re.std()/(Re.shape[0]**0.5)\n",
    "# (2) construct the t-stat for each asset\n",
    "tstatmean=np.abs((Re.mean()-Re.mean().mean())/stdmean).values\n",
    "# (3) calculate p-values for two-sided hypothesis testing\n",
    "ER0['same_avg_pvalue']=(1-ps.cdf(tstatmean))*2\n",
    "\n",
    "print(ER0)\n",
    "\n",
    "# pvalue is the probability that the null hupothesis is right. So in this case it tells us that there is \n",
    "# a 60% probability that the mktus return equals to the average  and 100% probability that the MKTxUS expected return\n",
    "# is equal to the average of all assets average returns\n",
    "\n",
    "# here we can only clearly reject the hypothesis that non us bonds expected returns are equal to the average returns\n",
    "ER0.same_avg_pvalue.plot.bar()\n",
    "plt.show()"
   ]
  },
  {
   "cell_type": "markdown",
   "id": "played-madagascar",
   "metadata": {
    "colab_type": "text",
    "id": "1Tmbd66teq_P"
   },
   "source": [
    "> Can you interepret this plot?"
   ]
  }
 ],
 "metadata": {
  "kernelspec": {
   "display_name": "Python 3",
   "language": "python",
   "name": "python3"
  },
  "language_info": {
   "codemirror_mode": {
    "name": "ipython",
    "version": 3
   },
   "file_extension": ".py",
   "mimetype": "text/x-python",
   "name": "python",
   "nbconvert_exporter": "python",
   "pygments_lexer": "ipython3",
   "version": "3.8.5"
  }
 },
 "nbformat": 4,
 "nbformat_minor": 5
}
