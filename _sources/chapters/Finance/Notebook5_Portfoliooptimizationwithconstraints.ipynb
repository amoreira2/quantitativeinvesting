{
 "cells": [
  {
   "cell_type": "markdown",
   "metadata": {
    "colab_type": "text",
    "id": "QgykM3kZhHqj"
   },
   "source": [
    "# Portfolio constraints\n",
    "\n",
    "* Python has the flexibility to solve the mean-variance problem numerically\n",
    "\n",
    "* Allows you to impose realistic features to our portfolio problem \n",
    "\n",
    "  * Shorting costs\n",
    "  * Borrowing costs higher than lending costs\n",
    "  * Leverage constraints\n",
    "  * Position limits due to investment mandates\n"
   ]
  },
  {
   "cell_type": "code",
   "execution_count": 1,
   "metadata": {
    "colab": {
     "base_uri": "https://localhost:8080/",
     "height": 235
    },
    "colab_type": "code",
    "executionInfo": {
     "elapsed": 7090,
     "status": "ok",
     "timestamp": 1576771469964,
     "user": {
      "displayName": "yuchi yao",
      "photoUrl": "",
      "userId": "00457884373990713813"
     },
     "user_tz": 300
    },
    "id": "vI1xySqDhHqm",
    "outputId": "7d785476-d21c-4ef3-bf1b-274e8900fcb4"
   },
   "outputs": [
    {
     "data": {
      "text/html": [
       "<div>\n",
       "<style scoped>\n",
       "    .dataframe tbody tr th:only-of-type {\n",
       "        vertical-align: middle;\n",
       "    }\n",
       "\n",
       "    .dataframe tbody tr th {\n",
       "        vertical-align: top;\n",
       "    }\n",
       "\n",
       "    .dataframe thead th {\n",
       "        text-align: right;\n",
       "    }\n",
       "</style>\n",
       "<table border=\"1\" class=\"dataframe\">\n",
       "  <thead>\n",
       "    <tr style=\"text-align: right;\">\n",
       "      <th></th>\n",
       "      <th>MKTUS</th>\n",
       "      <th>BondUS</th>\n",
       "      <th>EM</th>\n",
       "      <th>MKTxUS</th>\n",
       "      <th>BondxUS</th>\n",
       "    </tr>\n",
       "    <tr>\n",
       "      <th>Date</th>\n",
       "      <th></th>\n",
       "      <th></th>\n",
       "      <th></th>\n",
       "      <th></th>\n",
       "      <th></th>\n",
       "    </tr>\n",
       "  </thead>\n",
       "  <tbody>\n",
       "    <tr>\n",
       "      <th>2016-08-31</th>\n",
       "      <td>0.0050</td>\n",
       "      <td>-0.008617</td>\n",
       "      <td>0.024986</td>\n",
       "      <td>0.000638</td>\n",
       "      <td>-0.009752</td>\n",
       "    </tr>\n",
       "    <tr>\n",
       "      <th>2016-09-30</th>\n",
       "      <td>0.0025</td>\n",
       "      <td>-0.016617</td>\n",
       "      <td>0.012953</td>\n",
       "      <td>0.012536</td>\n",
       "      <td>0.009779</td>\n",
       "    </tr>\n",
       "    <tr>\n",
       "      <th>2016-10-31</th>\n",
       "      <td>-0.0202</td>\n",
       "      <td>-0.049660</td>\n",
       "      <td>0.002274</td>\n",
       "      <td>-0.020583</td>\n",
       "      <td>-0.043676</td>\n",
       "    </tr>\n",
       "    <tr>\n",
       "      <th>2016-11-30</th>\n",
       "      <td>0.0486</td>\n",
       "      <td>-0.081736</td>\n",
       "      <td>-0.046071</td>\n",
       "      <td>-0.019898</td>\n",
       "      <td>-0.050459</td>\n",
       "    </tr>\n",
       "    <tr>\n",
       "      <th>2016-12-31</th>\n",
       "      <td>0.0182</td>\n",
       "      <td>-0.005596</td>\n",
       "      <td>0.002604</td>\n",
       "      <td>0.034083</td>\n",
       "      <td>-0.023507</td>\n",
       "    </tr>\n",
       "  </tbody>\n",
       "</table>\n",
       "</div>"
      ],
      "text/plain": [
       "             MKTUS    BondUS        EM    MKTxUS   BondxUS\n",
       "Date                                                      \n",
       "2016-08-31  0.0050 -0.008617  0.024986  0.000638 -0.009752\n",
       "2016-09-30  0.0025 -0.016617  0.012953  0.012536  0.009779\n",
       "2016-10-31 -0.0202 -0.049660  0.002274 -0.020583 -0.043676\n",
       "2016-11-30  0.0486 -0.081736 -0.046071 -0.019898 -0.050459\n",
       "2016-12-31  0.0182 -0.005596  0.002604  0.034083 -0.023507"
      ]
     },
     "execution_count": 1,
     "metadata": {},
     "output_type": "execute_result"
    }
   ],
   "source": [
    "import pandas as pd\n",
    "import numpy as np\n",
    "import matplotlib.pyplot as plt\n",
    "%matplotlib inline\n",
    "#GlobalFinMonthly\n",
    "url=\"https://www.dropbox.com/s/3k35mt3t57ygff2/GlobalFinMonthly.csv?dl=1\"\n",
    "Data = pd.read_csv(url,na_values=-99)\n",
    "# tell python Date is date:\n",
    "Data['Date']=pd.to_datetime(Data['Date'])\n",
    "# set an an index\n",
    "Data=Data.set_index(['Date'])\n",
    "Data=Data.rename(columns={Data.columns[1]: \"MKTUS\",Data.columns[2]: \"BondUS\",\n",
    "                          Data.columns[3]: \"EM\",Data.columns[4]: \"MKTxUS\",Data.columns[5]: \"BondxUS\" })\n",
    "Re=(Data.drop('RF',axis=1)).subtract(Data['RF'],axis='index')\n",
    "Re.tail()"
   ]
  },
  {
   "cell_type": "code",
   "execution_count": 2,
   "metadata": {
    "colab": {},
    "colab_type": "code",
    "id": "EeCKiapGhHqs"
   },
   "outputs": [],
   "source": [
    "# start by importing optimization package -- think of a much more powerful solver (excel)\n",
    "\n",
    "from scipy.optimize import minimize"
   ]
  },
  {
   "cell_type": "markdown",
   "metadata": {
    "colab_type": "text",
    "id": "yG4F0U3DhHqt"
   },
   "source": [
    "* we will now learn how to do a numerical minimization. \n",
    "\n",
    "* start by defining some useful variables"
   ]
  },
  {
   "cell_type": "code",
   "execution_count": 3,
   "metadata": {
    "colab": {
     "base_uri": "https://localhost:8080/",
     "height": 235
    },
    "colab_type": "code",
    "executionInfo": {
     "elapsed": 854,
     "status": "ok",
     "timestamp": 1576771481211,
     "user": {
      "displayName": "yuchi yao",
      "photoUrl": "",
      "userId": "00457884373990713813"
     },
     "user_tz": 300
    },
    "id": "i1YZLrWTjKGR",
    "outputId": "9c662662-f68c-45f4-d859-bc55ffeb9200"
   },
   "outputs": [
    {
     "data": {
      "text/html": [
       "<div>\n",
       "<style scoped>\n",
       "    .dataframe tbody tr th:only-of-type {\n",
       "        vertical-align: middle;\n",
       "    }\n",
       "\n",
       "    .dataframe tbody tr th {\n",
       "        vertical-align: top;\n",
       "    }\n",
       "\n",
       "    .dataframe thead th {\n",
       "        text-align: right;\n",
       "    }\n",
       "</style>\n",
       "<table border=\"1\" class=\"dataframe\">\n",
       "  <thead>\n",
       "    <tr style=\"text-align: right;\">\n",
       "      <th></th>\n",
       "      <th>MKTUS</th>\n",
       "      <th>BondUS</th>\n",
       "      <th>EM</th>\n",
       "      <th>MKTxUS</th>\n",
       "      <th>BondxUS</th>\n",
       "    </tr>\n",
       "    <tr>\n",
       "      <th>Date</th>\n",
       "      <th></th>\n",
       "      <th></th>\n",
       "      <th></th>\n",
       "      <th></th>\n",
       "      <th></th>\n",
       "    </tr>\n",
       "  </thead>\n",
       "  <tbody>\n",
       "    <tr>\n",
       "      <th>2016-08-31</th>\n",
       "      <td>0.0050</td>\n",
       "      <td>-0.008617</td>\n",
       "      <td>0.024986</td>\n",
       "      <td>0.000638</td>\n",
       "      <td>-0.009752</td>\n",
       "    </tr>\n",
       "    <tr>\n",
       "      <th>2016-09-30</th>\n",
       "      <td>0.0025</td>\n",
       "      <td>-0.016617</td>\n",
       "      <td>0.012953</td>\n",
       "      <td>0.012536</td>\n",
       "      <td>0.009779</td>\n",
       "    </tr>\n",
       "    <tr>\n",
       "      <th>2016-10-31</th>\n",
       "      <td>-0.0202</td>\n",
       "      <td>-0.049660</td>\n",
       "      <td>0.002274</td>\n",
       "      <td>-0.020583</td>\n",
       "      <td>-0.043676</td>\n",
       "    </tr>\n",
       "    <tr>\n",
       "      <th>2016-11-30</th>\n",
       "      <td>0.0486</td>\n",
       "      <td>-0.081736</td>\n",
       "      <td>-0.046071</td>\n",
       "      <td>-0.019898</td>\n",
       "      <td>-0.050459</td>\n",
       "    </tr>\n",
       "    <tr>\n",
       "      <th>2016-12-31</th>\n",
       "      <td>0.0182</td>\n",
       "      <td>-0.005596</td>\n",
       "      <td>0.002604</td>\n",
       "      <td>0.034083</td>\n",
       "      <td>-0.023507</td>\n",
       "    </tr>\n",
       "  </tbody>\n",
       "</table>\n",
       "</div>"
      ],
      "text/plain": [
       "             MKTUS    BondUS        EM    MKTxUS   BondxUS\n",
       "Date                                                      \n",
       "2016-08-31  0.0050 -0.008617  0.024986  0.000638 -0.009752\n",
       "2016-09-30  0.0025 -0.016617  0.012953  0.012536  0.009779\n",
       "2016-10-31 -0.0202 -0.049660  0.002274 -0.020583 -0.043676\n",
       "2016-11-30  0.0486 -0.081736 -0.046071 -0.019898 -0.050459\n",
       "2016-12-31  0.0182 -0.005596  0.002604  0.034083 -0.023507"
      ]
     },
     "execution_count": 3,
     "metadata": {},
     "output_type": "execute_result"
    }
   ],
   "source": [
    "# excess returns\n",
    "Re=Data.subtract(Data['RF'],axis='index').drop('RF',axis=1)\n",
    "\n",
    "Re.tail()"
   ]
  },
  {
   "cell_type": "code",
   "execution_count": 4,
   "metadata": {
    "colab": {
     "base_uri": "https://localhost:8080/",
     "height": 221
    },
    "colab_type": "code",
    "executionInfo": {
     "elapsed": 470,
     "status": "ok",
     "timestamp": 1576771485393,
     "user": {
      "displayName": "yuchi yao",
      "photoUrl": "",
      "userId": "00457884373990713813"
     },
     "user_tz": 300
    },
    "id": "CQ7eN1_HhHqu",
    "outputId": "b6684972-dd8f-4c15-be81-9a6873db2501"
   },
   "outputs": [
    {
     "name": "stdout",
     "output_type": "stream",
     "text": [
      "MKTUS      0.005140\n",
      "BondUS     0.002523\n",
      "EM         0.006923\n",
      "MKTxUS     0.004149\n",
      "BondxUS    0.002054\n",
      "dtype: float64\n",
      "            MKTUS    BondUS        EM    MKTxUS   BondxUS\n",
      "MKTUS    0.001948  0.000111  0.001292  0.001264  0.000187\n",
      "BondUS   0.000111  0.001227 -0.000204 -0.000013  0.000264\n",
      "EM       0.001292 -0.000204  0.003556  0.001661  0.000249\n",
      "MKTxUS   0.001264 -0.000013  0.001661  0.002182  0.000422\n",
      "BondxUS  0.000187  0.000264  0.000249  0.000422  0.000407\n"
     ]
    }
   ],
   "source": [
    "ERe=Re.mean()\n",
    "print(ERe)\n",
    "Cove=Re.cov()\n",
    "print(Cove)"
   ]
  },
  {
   "cell_type": "code",
   "execution_count": 5,
   "metadata": {
    "colab": {
     "base_uri": "https://localhost:8080/",
     "height": 51
    },
    "colab_type": "code",
    "executionInfo": {
     "elapsed": 443,
     "status": "ok",
     "timestamp": 1576771499016,
     "user": {
      "displayName": "yuchi yao",
      "photoUrl": "",
      "userId": "00457884373990713813"
     },
     "user_tz": 300
    },
    "id": "sBi8AosojWMY",
    "outputId": "2889f000-99fe-4487-d815-99688638bd94"
   },
   "outputs": [
    {
     "name": "stdout",
     "output_type": "stream",
     "text": [
      "0.0015999999999999999\n",
      "0.005\n"
     ]
    }
   ],
   "source": [
    "# the risk-free rate is special because at a given time we know exactly what the expected returns of investing\n",
    "# in it, since it is risk-free!\n",
    "# so it does not make sense to use the average risk-free rate in the portfolio problem, and we should rather use the one that\n",
    "# we currently can invest at no risk\n",
    "# here we are dividing by 12 becasue we are using annualized numbers\n",
    "rf=0.0192/12\n",
    "print(rf)\n",
    "\n",
    "# below is the target for monthly expected returns\n",
    "Ertarget=0.06/12\n",
    "print(Ertarget)\n",
    "\n",
    "# below is maximum amount of borrowing at the risk-free rate. 1.5 means that for each dollar you put in you can borrow \n",
    "# up to 50 cents and have a total risk asset portfolio of 1.5 dollars\n",
    "levlimit=1"
   ]
  },
  {
   "cell_type": "markdown",
   "metadata": {
    "colab_type": "text",
    "id": "LRy1O4YChHqw"
   },
   "source": [
    "* The program will choose a vector of weights that minimzies some function (of the chosen weights) subject to some constraint\n",
    "\n",
    "* we need to provide an initial condition for these weights, which essentially tells python the shape of the variable that it is choosing. Here we will start with a equal weighted portfolio\n",
    "\n",
    "* When solving minimization problems it is important to check that the exact initial conditions that you put in don't matter. \n",
    "\n",
    "* I mean, it's shape obviously matter, but whether is equal weighted or any other weighting scheme, the minimization should end up in the same place otherwise the numerical is not converging and you need to adjust the stop conditions\n",
    "\n",
    "* We refer to this as making sure that you are finding a \"global optimum\" and not a \"local optimum\""
   ]
  },
  {
   "cell_type": "code",
   "execution_count": 6,
   "metadata": {
    "colab": {
     "base_uri": "https://localhost:8080/",
     "height": 34
    },
    "colab_type": "code",
    "executionInfo": {
     "elapsed": 593,
     "status": "ok",
     "timestamp": 1576771502607,
     "user": {
      "displayName": "yuchi yao",
      "photoUrl": "",
      "userId": "00457884373990713813"
     },
     "user_tz": 300
    },
    "id": "xc58RNm2hHqw",
    "outputId": "3cc18867-40f5-4b90-d2a3-434e7e67938e"
   },
   "outputs": [
    {
     "data": {
      "text/plain": [
       "array([0.2, 0.2, 0.2, 0.2, 0.2])"
      ]
     },
     "execution_count": 6,
     "metadata": {},
     "output_type": "execute_result"
    }
   ],
   "source": [
    "n=Re.shape[1]\n",
    "W0=np.ones(n)/n \n",
    "W0\n"
   ]
  },
  {
   "cell_type": "markdown",
   "metadata": {
    "colab_type": "text",
    "id": "Qw4LGPS1hHqy"
   },
   "source": [
    "* We need to specify the function that our minimizer will try to minimize,i.e, our objective\n",
    "\n",
    "* obviously this should be written as a function of the portfolio weights\n",
    "\n",
    "* In this case it is the variance of a portfolio with weights W\n",
    "\n",
    "* the weights will be our choice variable\n",
    "\n",
    "* The minimization function will change the weights until this variance is minimized\n",
    "\n"
   ]
  },
  {
   "cell_type": "code",
   "execution_count": 7,
   "metadata": {
    "colab": {},
    "colab_type": "code",
    "id": "saNsLsmWhHqy"
   },
   "outputs": [],
   "source": [
    "# STEP 1: define the objective function, which is the variance of the portfolio in our case\n",
    "\n",
    "def func(W,Cove=Re.cov()):\n",
    "    return W.T @ Cove @ W\n"
   ]
  },
  {
   "cell_type": "markdown",
   "metadata": {
    "colab_type": "text",
    "id": "xmxQ0xTohHq0"
   },
   "source": [
    "* Finally we need to specify the set of constraints that the minimization problem must satisfy\n",
    "\n",
    "* you can specify two types of constraints: Equalities and inequalities.\n",
    "\n",
    "* Equalities:\n",
    "   * specified as 'eq' \n",
    "   * For example:`{'eq', 'fun' : lambda W : W.T @ ERe.values+rf-target}`\n",
    "     * defines the function `F(W)=W.T @ ERe.values+rf-target`\n",
    "     * and requires W to satisfy F(W)=0, i.e., `W.T @ ERe.values+rf=target`, or\n",
    "     $$W' E[R^e]+R^f=target$$\n",
    "     * \"target\" here is the target for expected returns\n",
    "     \n",
    "* Inequalities:\n",
    "   * specified as 'ineq'\n",
    "   * For example: `{'ineq', 'fun' : lambda W: -W.sum()+levlimit}`\n",
    "   * Defines  `F(W)=-W.sum()+levlimit`\n",
    "   * and requires F(W)>=0, i.e.,\n",
    "   \n",
    "   $$levlimit\\geq W.sum()$$"
   ]
  },
  {
   "cell_type": "code",
   "execution_count": 8,
   "metadata": {},
   "outputs": [
    {
     "data": {
      "text/plain": [
       "MKTUS      0.061684\n",
       "BondUS     0.030272\n",
       "EM         0.083079\n",
       "MKTxUS     0.049788\n",
       "BondxUS    0.024650\n",
       "dtype: float64"
      ]
     },
     "execution_count": 8,
     "metadata": {},
     "output_type": "execute_result"
    }
   ],
   "source": [
    "ERe*12"
   ]
  },
  {
   "cell_type": "code",
   "execution_count": 9,
   "metadata": {},
   "outputs": [
    {
     "data": {
      "text/html": [
       "<div>\n",
       "<style scoped>\n",
       "    .dataframe tbody tr th:only-of-type {\n",
       "        vertical-align: middle;\n",
       "    }\n",
       "\n",
       "    .dataframe tbody tr th {\n",
       "        vertical-align: top;\n",
       "    }\n",
       "\n",
       "    .dataframe thead th {\n",
       "        text-align: right;\n",
       "    }\n",
       "</style>\n",
       "<table border=\"1\" class=\"dataframe\">\n",
       "  <thead>\n",
       "    <tr style=\"text-align: right;\">\n",
       "      <th></th>\n",
       "      <th>MKTUS</th>\n",
       "      <th>BondUS</th>\n",
       "      <th>EM</th>\n",
       "      <th>MKTxUS</th>\n",
       "      <th>BondxUS</th>\n",
       "    </tr>\n",
       "  </thead>\n",
       "  <tbody>\n",
       "    <tr>\n",
       "      <th>MKTUS</th>\n",
       "      <td>1.000000</td>\n",
       "      <td>0.071609</td>\n",
       "      <td>0.491055</td>\n",
       "      <td>0.613081</td>\n",
       "      <td>0.210263</td>\n",
       "    </tr>\n",
       "    <tr>\n",
       "      <th>BondUS</th>\n",
       "      <td>0.071609</td>\n",
       "      <td>1.000000</td>\n",
       "      <td>-0.097846</td>\n",
       "      <td>-0.007781</td>\n",
       "      <td>0.373399</td>\n",
       "    </tr>\n",
       "    <tr>\n",
       "      <th>EM</th>\n",
       "      <td>0.491055</td>\n",
       "      <td>-0.097846</td>\n",
       "      <td>1.000000</td>\n",
       "      <td>0.596177</td>\n",
       "      <td>0.207206</td>\n",
       "    </tr>\n",
       "    <tr>\n",
       "      <th>MKTxUS</th>\n",
       "      <td>0.613081</td>\n",
       "      <td>-0.007781</td>\n",
       "      <td>0.596177</td>\n",
       "      <td>1.000000</td>\n",
       "      <td>0.447951</td>\n",
       "    </tr>\n",
       "    <tr>\n",
       "      <th>BondxUS</th>\n",
       "      <td>0.210263</td>\n",
       "      <td>0.373399</td>\n",
       "      <td>0.207206</td>\n",
       "      <td>0.447951</td>\n",
       "      <td>1.000000</td>\n",
       "    </tr>\n",
       "  </tbody>\n",
       "</table>\n",
       "</div>"
      ],
      "text/plain": [
       "            MKTUS    BondUS        EM    MKTxUS   BondxUS\n",
       "MKTUS    1.000000  0.071609  0.491055  0.613081  0.210263\n",
       "BondUS   0.071609  1.000000 -0.097846 -0.007781  0.373399\n",
       "EM       0.491055 -0.097846  1.000000  0.596177  0.207206\n",
       "MKTxUS   0.613081 -0.007781  0.596177  1.000000  0.447951\n",
       "BondxUS  0.210263  0.373399  0.207206  0.447951  1.000000"
      ]
     },
     "execution_count": 9,
     "metadata": {},
     "output_type": "execute_result"
    }
   ],
   "source": [
    "Re.corr()"
   ]
  },
  {
   "cell_type": "code",
   "execution_count": 10,
   "metadata": {
    "colab": {
     "base_uri": "https://localhost:8080/",
     "height": 51
    },
    "colab_type": "code",
    "executionInfo": {
     "elapsed": 457,
     "status": "ok",
     "timestamp": 1576771515213,
     "user": {
      "displayName": "yuchi yao",
      "photoUrl": "",
      "userId": "00457884373990713813"
     },
     "user_tz": 300
    },
    "id": "Vn1Ta5LihHq1",
    "outputId": "aa408da2-0d5c-449d-8037-2f0e96aa5ac2"
   },
   "outputs": [
    {
     "data": {
      "text/plain": [
       "({'type': 'eq', 'fun': <function __main__.<lambda>(W)>},\n",
       " {'type': 'ineq', 'fun': <function __main__.<lambda>(W)>})"
      ]
     },
     "execution_count": 10,
     "metadata": {},
     "output_type": "execute_result"
    }
   ],
   "source": [
    "# STEP 2: define constraint functions, we have two constraints: (1) target average return, and (2) leverage limit\n",
    "Ertarget=0.12/12\n",
    "cons=({'type': 'eq',\n",
    "          'fun' : lambda W : W.T @ ERe.values+rf-Ertarget},\n",
    "        {'type': 'ineq',\n",
    "          'fun' : lambda W: -W.sum()+levlimit}) \n",
    "\n",
    "\n",
    "cons\n"
   ]
  },
  {
   "cell_type": "markdown",
   "metadata": {
    "colab_type": "text",
    "id": "CZaDkZb6hHq2"
   },
   "source": [
    "* Finally we are ready to do our minimization\n",
    "* `options={'disp': True}`: tell python to report intermediary steps so we can check if the algorithm is doing progress towards a solution.\n",
    "* There is a variety of additional parameters that you can pass to the minimizer. \n",
    "* see: https://docs.scipy.org/doc/scipy/reference/generated/scipy.optimize.minimize.html\n"
   ]
  },
  {
   "cell_type": "code",
   "execution_count": 11,
   "metadata": {
    "colab": {
     "base_uri": "https://localhost:8080/",
     "height": 102
    },
    "colab_type": "code",
    "executionInfo": {
     "elapsed": 905,
     "status": "ok",
     "timestamp": 1576771544739,
     "user": {
      "displayName": "yuchi yao",
      "photoUrl": "",
      "userId": "00457884373990713813"
     },
     "user_tz": 300
    },
    "id": "YLkxDEhJhHq3",
    "outputId": "dcf80769-8fb4-4eb3-b55d-8aac8ed4a285"
   },
   "outputs": [
    {
     "name": "stdout",
     "output_type": "stream",
     "text": [
      "Optimization terminated successfully    (Exit mode 0)\n",
      "            Current function value: 0.0044263793644412665\n",
      "            Iterations: 7\n",
      "            Function evaluations: 42\n",
      "            Gradient evaluations: 7\n"
     ]
    }
   ],
   "source": [
    "# STEP 3: solve the minimization problem with constraints and save as `sol`\n",
    "\n",
    "sol = minimize(lambda x: func(x,Cove=Re.cov()),W0, constraints=cons, options={'disp': True})"
   ]
  },
  {
   "cell_type": "code",
   "execution_count": 12,
   "metadata": {},
   "outputs": [
    {
     "data": {
      "text/plain": [
       "0.999999998431648"
      ]
     },
     "execution_count": 12,
     "metadata": {},
     "output_type": "execute_result"
    }
   ],
   "source": [
    "sol.x.sum()"
   ]
  },
  {
   "cell_type": "code",
   "execution_count": 13,
   "metadata": {},
   "outputs": [],
   "source": [
    "#skip\n",
    "# Retemp=Re.iloc[:,0:4].copy()\n",
    "# n=Retemp.shape[1]\n",
    "# W0=np.ones(n)/n \n",
    "# W0\n",
    "\n",
    "# def func(W,Cove=Re.cov()):\n",
    "#     return W.T @ Cove @ W\n",
    "\n",
    "# cons=({'type': 'eq',\n",
    "#           'fun' : lambda W : W.T @ Retemp.mean().values+rf-Ertarget},\n",
    "#         {'type': 'ineq',\n",
    "#           'fun' : lambda W: -W.sum()+levlimit}) \n",
    "# sol = minimize(lambda x: func(x,Cove=Retemp.cov()),W0, constraints=cons, options={'disp': True})\n",
    "# sol.x"
   ]
  },
  {
   "cell_type": "code",
   "execution_count": 14,
   "metadata": {
    "colab": {
     "base_uri": "https://localhost:8080/",
     "height": 34
    },
    "colab_type": "code",
    "executionInfo": {
     "elapsed": 857,
     "status": "ok",
     "timestamp": 1576771547802,
     "user": {
      "displayName": "yuchi yao",
      "photoUrl": "",
      "userId": "00457884373990713813"
     },
     "user_tz": 300
    },
    "id": "RupZVNqyoWDG",
    "outputId": "50d85bbd-8ef1-457b-a727-18c0f293d6dd"
   },
   "outputs": [
    {
     "data": {
      "text/plain": [
       "array([ 0.76797288,  0.42185164,  0.96139604, -0.431085  , -0.72013556])"
      ]
     },
     "execution_count": 14,
     "metadata": {},
     "output_type": "execute_result"
    }
   ],
   "source": [
    "# STEP 4: get the optimal portfolio weights\n",
    "\n",
    "sol.x"
   ]
  },
  {
   "cell_type": "markdown",
   "metadata": {
    "colab_type": "text",
    "id": "PlZkfwj-hHq4"
   },
   "source": [
    "* Solution is saved in sol\n",
    "* Lets plot the optimal weights"
   ]
  },
  {
   "cell_type": "code",
   "execution_count": 15,
   "metadata": {
    "colab": {
     "base_uri": "https://localhost:8080/",
     "height": 265
    },
    "colab_type": "code",
    "executionInfo": {
     "elapsed": 440,
     "status": "ok",
     "timestamp": 1576771549330,
     "user": {
      "displayName": "yuchi yao",
      "photoUrl": "",
      "userId": "00457884373990713813"
     },
     "user_tz": 300
    },
    "id": "yFk-okgvhHq5",
    "outputId": "231544e0-500a-41fa-f153-ead60fb4007e"
   },
   "outputs": [
    {
     "data": {
      "image/png": "[encoded data removed]",
      "text/plain": [
       "<Figure size 432x288 with 1 Axes>"
      ]
     },
     "metadata": {
      "needs_background": "light"
     },
     "output_type": "display_data"
    }
   ],
   "source": [
    "\n",
    "# below I am plotting the solution weights.\n",
    "width=0.3\n",
    "ind=np.arange(Re.shape[1])\n",
    "fig, ax = plt.subplots()\n",
    "ax.bar(ind,sol.x,width)\n",
    "\n",
    "# ax.set_xticks(np.array([0,1,2,3,4,5])+ width / 2)\n",
    "ax.set_xticks(ind)\n",
    "ax.set_xticklabels(Re.columns)\n",
    "plt.show()"
   ]
  },
  {
   "cell_type": "markdown",
   "metadata": {
    "colab_type": "text",
    "id": "0sCcXFlnhHq7"
   },
   "source": [
    "* We can now use a for loop to trace out the entire mean-variance frontier when neither borrowing or lending at the risk-free rate is allowed\n",
    "\n",
    "* we do this by minimizing the variance with different targets for expected returns"
   ]
  },
  {
   "cell_type": "code",
   "execution_count": null,
   "metadata": {},
   "outputs": [],
   "source": [
    "def expected_return(W):\n",
    "     return W.T @ ERe.values+((W[W<0]*fee).sum()+rf"
   ]
  },
  {
   "cell_type": "code",
   "execution_count": 71,
   "metadata": {
    "colab": {},
    "colab_type": "code",
    "id": "FblhH4WchHq8"
   },
   "outputs": [],
   "source": [
    "# here we constructing a list of target ranging from the risk-free rate until 12%, \n",
    "# with 40 equally distanced points in between\n",
    "levlimit=40\n",
    "mutargets=np.linspace(rf,0.50/12,20)\n",
    "spread=0.02/12\n",
    "# We are initiating a list where we will be storing the results\n",
    "minstd=[]\n",
    "\n",
    "# we now simply loop over the different expected return targets in the vector which we just constructed\n",
    "\n",
    "fee=0.05/12\n",
    "\n",
    "for a0 in mutargets:\n",
    "    #   1. The loop fisrt define the new constraint with the new expected return target given by a0\n",
    "    cons=({'type': 'eq',\n",
    "          'fun' : lambda W : W.T @ ERe.values+(-W[W<0]*fee).sum()+rf-np.abs((W.sum()-1))*spread-a0},\n",
    "        {'type': 'ineq',\n",
    "          'fun' : lambda W: -W.sum()+1+levlimit} ,\n",
    "        {'type': 'ineq',\n",
    "          'fun' : lambda W: W[[0,1]]})\n",
    "    #   2. It then performs the minimization\n",
    "    res1 = minimize(func,W0,  constraints=cons, options={'disp': False},tol=0.00000000000001)\n",
    "#    print(res1.x)\n",
    "    #   3. Finally it appends the solution to the list that we just created. \n",
    "    #        Here we are saving the square root of the objective function, which is simply the standard deviaiton \n",
    "    #        of the optimal portfolio. And the also the expected return obtained (alternatively we could have simply saved a0)\n",
    "    minstd.append([res1.fun**0.5,res1.x.T @ ERe.values+(-res1.x[res1.x<0]*fee).sum()+rf-np.abs((res1.x.sum()-1))*spread,res1.x.sum(),res1.x.min()])"
   ]
  },
  {
   "cell_type": "markdown",
   "metadata": {
    "colab_type": "text",
    "id": "UwHIbiAChHq9"
   },
   "source": [
    "* We can now plot the mean-standard-deviation frontiers by plotting the obtained standard deviation in the x-axis and the obtained expected returns in the y-axis\n"
   ]
  },
  {
   "cell_type": "markdown",
   "metadata": {},
   "source": [
    "### Side note"
   ]
  },
  {
   "cell_type": "code",
   "execution_count": 41,
   "metadata": {},
   "outputs": [
    {
     "data": {
      "text/plain": [
       "[0.2065811327215539,\n",
       " 0.08307943849270083,\n",
       " 1.0000000000010738,\n",
       " -9.326593771415994e-12]"
      ]
     },
     "execution_count": 41,
     "metadata": {},
     "output_type": "execute_result"
    }
   ],
   "source": [
    "levlimit=0\n",
    "rf=0\n",
    "mutargets=np.linspace(rf,0.50/12,20)\n",
    "minstd=[]\n",
    "a0=0.5/12\n",
    "cons=({'type': 'eq',\n",
    "      'fun' : lambda W : W.T @ ERe.values+rf-a0},\n",
    "    {'type': 'ineq',\n",
    "      'fun' : lambda W: -(W).sum()+1+levlimit},\n",
    "        {'type': 'ineq',\n",
    "          'fun' : lambda W: W} )\n",
    "\n",
    "res1 = minimize(func,W0,  constraints=cons, options={'disp': False},tol=0.00000000000001)\n",
    "prnt([(res1.fun*12)**0.5,12*(res1.x.T @ ERe.values+rf),res1.x.sum(),res1.x.min()])\n",
    "print(res1.x)\n",
    "print(res1.x.sum())"
   ]
  },
  {
   "cell_type": "code",
   "execution_count": 52,
   "metadata": {},
   "outputs": [
    {
     "data": {
      "text/plain": [
       "array([[<matplotlib.axes._subplots.AxesSubplot object at 0x0000018565D4B7C0>,\n",
       "        <matplotlib.axes._subplots.AxesSubplot object at 0x0000018565D44910>],\n",
       "       [<matplotlib.axes._subplots.AxesSubplot object at 0x0000018565B9FB50>,\n",
       "        <matplotlib.axes._subplots.AxesSubplot object at 0x000001856586E340>],\n",
       "       [<matplotlib.axes._subplots.AxesSubplot object at 0x0000018565975A90>,\n",
       "        <matplotlib.axes._subplots.AxesSubplot object at 0x0000018565F2F2B0>]],\n",
       "      dtype=object)"
      ]
     },
     "execution_count": 52,
     "metadata": {},
     "output_type": "execute_result"
    },
    {
     "data": {
      "image/png": "[encoded data removed]",
      "text/plain": [
       "<Figure size 432x288 with 6 Axes>"
      ]
     },
     "metadata": {
      "needs_background": "light"
     },
     "output_type": "display_data"
    }
   ],
   "source": [
    "Re.hist()"
   ]
  },
  {
   "cell_type": "code",
   "execution_count": 56,
   "metadata": {},
   "outputs": [
    {
     "name": "stderr",
     "output_type": "stream",
     "text": [
      "<ipython-input-56-129b3aac83d8>:2: UserWarning: To output multiple subplots, the figure containing the passed axes is being cleared\n",
      "  ax=Re.hist(ax=ax)\n"
     ]
    },
    {
     "data": {
      "text/plain": [
       "Text(0, 0.5, 'middleright')"
      ]
     },
     "execution_count": 56,
     "metadata": {},
     "output_type": "execute_result"
    },
    {
     "data": {
      "image/png": "[encoded data removed]",
      "text/plain": [
       "<Figure size 432x288 with 6 Axes>"
      ]
     },
     "metadata": {
      "needs_background": "light"
     },
     "output_type": "display_data"
    }
   ],
   "source": [
    "fig, ax = plt.subplots()\n",
    "ax=Re.hist(ax=ax)\n",
    "ax[0,0].set_ylabel('topleft')\n",
    "ax[0,1].set_ylabel('topright')\n",
    "ax[2,1].set_ylabel('bottomleft')\n",
    "ax[2,0].set_ylabel('bottomleft')\n",
    "ax[1,0].set_ylabel('middleleft')\n",
    "ax[1,1].set_ylabel('middleright')"
   ]
  },
  {
   "cell_type": "markdown",
   "metadata": {},
   "source": [
    "### End of side note"
   ]
  },
  {
   "cell_type": "code",
   "execution_count": null,
   "metadata": {},
   "outputs": [],
   "source": [
    " W.T @ ERe.values+rf-a0\n",
    "    \n",
    " W.T @ ERe.values+(-W[W<0]*fee).sum()+rf-np.abs((W.sum()-1))*spread-a0    "
   ]
  },
  {
   "cell_type": "code",
   "execution_count": 47,
   "metadata": {},
   "outputs": [
    {
     "data": {
      "text/plain": [
       "[[3.591478745103494e-10,\n",
       "  0.001600000036585007,\n",
       "  1.781025499303368e-08,\n",
       "  -1.6653345369377348e-16],\n",
       " [0.004207416985664804,\n",
       "  0.0020421052943131253,\n",
       "  0.19129790813922426,\n",
       "  -1.1102230246251565e-16],\n",
       " [0.006901028123669531, 0.002484210553424129, 0.31716245547822475, 0.0],\n",
       " [0.009590358998671557,\n",
       "  0.0029263158127647098,\n",
       "  0.4239283981016745,\n",
       "  0.008171011448185855],\n",
       " [0.01215583166575831,\n",
       "  0.003368421072285655,\n",
       "  0.5139028150695928,\n",
       "  0.03813422380414419],\n",
       " [0.014942762248227114,\n",
       "  0.0038105263318065994,\n",
       "  0.603877232037511,\n",
       "  0.06809743616010255],\n",
       " [0.01784770814658756,\n",
       "  0.004252631591327546,\n",
       "  0.6938516490054296,\n",
       "  0.09806064851606093],\n",
       " [0.02082133211210155,\n",
       "  0.00469473685084849,\n",
       "  0.7838260659733478,\n",
       "  0.12802386087201925],\n",
       " [0.02383794660026387,\n",
       "  0.005136842110369436,\n",
       "  0.8738004829412662,\n",
       "  0.15798707322797761],\n",
       " [0.02688308329915989,\n",
       "  0.00557894736989038,\n",
       "  0.9637748999091845,\n",
       "  0.18795028558393595],\n",
       " [0.029948043000838035,\n",
       "  0.006021052629411326,\n",
       "  1.053749316877103,\n",
       "  0.205481223888636],\n",
       " [0.03302730739628128,\n",
       "  0.006463157888932271,\n",
       "  1.1437237338450212,\n",
       "  0.2143713738432866],\n",
       " [0.033294709975364295,\n",
       "  0.006905263157000248,\n",
       "  1.3546104092627949,\n",
       "  -2.7755575615628914e-17],\n",
       " [0.036083667034289814,\n",
       "  0.007347368415523701,\n",
       "  1.4661299157221996,\n",
       "  -2.7755575615628914e-17],\n",
       " [0.038895849422875634, 0.007789473683808443, 1.5, -1.734723475976807e-18],\n",
       " [0.04222325131944657, 0.00823157895061917, 1.5, -2.7755575615628914e-17],\n",
       " [0.04592870451611372, 0.008673684199279986, 1.5, 1.1102230246251565e-16],\n",
       " [0.04992452961061417, 0.009115789478100978, 1.5, -4.163336342344337e-17],\n",
       " [0.054158861383639574,\n",
       "  0.00955789474007607,\n",
       "  1.5000000000000002,\n",
       "  1.1102230246251565e-16],\n",
       " [0.05909644202938371, 0.01000000000417816, 1.5, 2.710505431213761e-18]]"
      ]
     },
     "execution_count": 47,
     "metadata": {},
     "output_type": "execute_result"
    }
   ],
   "source": [
    "minstd"
   ]
  },
  {
   "cell_type": "code",
   "execution_count": 72,
   "metadata": {
    "colab": {
     "base_uri": "https://localhost:8080/",
     "height": 283
    },
    "colab_type": "code",
    "executionInfo": {
     "elapsed": 1086,
     "status": "ok",
     "timestamp": 1576771560594,
     "user": {
      "displayName": "yuchi yao",
      "photoUrl": "",
      "userId": "00457884373990713813"
     },
     "user_tz": 300
    },
    "id": "42M5OAjqhHq-",
    "outputId": "4eab977d-435c-4653-ce33-5910626b0864"
   },
   "outputs": [
    {
     "data": {
      "image/png": "[encoded data removed]",
      "text/plain": [
       "<Figure size 432x288 with 1 Axes>"
      ]
     },
     "metadata": {
      "needs_background": "light"
     },
     "output_type": "display_data"
    }
   ],
   "source": [
    "plt.scatter(np.array(minstd)[:,0]*12**0.5,np.array(minstd)[:,1]*12)\n",
    "plt.xlabel('Volatility')\n",
    "plt.ylabel('Average return')\n",
    "plt.show()"
   ]
  },
  {
   "cell_type": "markdown",
   "metadata": {
    "colab_type": "text",
    "id": "ecCDUFjQhHrA"
   },
   "source": [
    "* You can do a multitude of different problems by making small changes to this code:\n",
    "\n",
    "    * Borrowing at the risk-free rate is not allowed,  but lending is allowed\n",
    "    * Shorting of any asset is not allowed\n",
    "    * Shorting of some assets are not allowed\n",
    "    * Shorting has an extra cost\n",
    "    * Leverage is allowed, but borrowing rate is higher than risk-free rate\n",
    "\n",
    " > How would you implement no shorting of any asset?\n",
    " \n",
    " > How would you implement no shorting of bonds, but allow investor to short equity markets (which can be done using futures)?"
   ]
  }
 ],
 "metadata": {
  "colab": {
   "collapsed_sections": [],
   "name": "Notebook 5.ipynb",
   "provenance": [],
   "toc_visible": true
  },
  "kernelspec": {
   "display_name": "Python 3",
   "language": "python",
   "name": "python3"
  },
  "language_info": {
   "codemirror_mode": {
    "name": "ipython",
    "version": 3
   },
   "file_extension": ".py",
   "mimetype": "text/x-python",
   "name": "python",
   "nbconvert_exporter": "python",
   "pygments_lexer": "ipython3",
   "version": "3.8.5"
  }
 },
 "nbformat": 4,
 "nbformat_minor": 4
}
