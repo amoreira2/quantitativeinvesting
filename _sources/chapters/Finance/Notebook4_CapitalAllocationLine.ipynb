{
 "cells": [
  {
   "cell_type": "markdown",
   "metadata": {
    "colab_type": "text",
    "id": "x5bPnG2RQ1tw"
   },
   "source": [
    "<img src='https://www.dropbox.com/s/125k1wnxkl6bgs0/class_logo.jpg?dl=1' alt=\"Smiley face\" align=\"center\" style=\"width: 600px;\"/>\n",
    "\n",
    "\n",
    "# Notebook 4\n",
    "\n",
    "\n"
   ]
  },
  {
   "cell_type": "markdown",
   "metadata": {
    "colab_type": "text",
    "id": "7zE8ndMbQ1tx"
   },
   "source": [
    "### Topics covered \n",
    "* * *\n",
    " * Portfolio math\n",
    " * Diversification\n",
    " * Capital allocation line\n",
    " * Mean-variance frontier\n",
    " * Tangency portfolio\n",
    " * Two-fund separation\n",
    " * Case study on international diversification\n",
    "\n",
    "     \n",
    "\n",
    "     "
   ]
  },
  {
   "cell_type": "code",
   "execution_count": 68,
   "metadata": {
    "colab": {},
    "colab_type": "code",
    "id": "Tq96XxisQ1ty"
   },
   "outputs": [],
   "source": [
    "import pandas as pd\n",
    "import numpy as np\n",
    "import matplotlib.pyplot as plt\n",
    "%matplotlib inline\n",
    "#GlobalFinMonthly\n",
    "url=\"https://www.dropbox.com/s/3k35mt3t57ygff2/GlobalFinMonthly.csv?dl=1\"\n",
    "# url=\"C:/Users/Alan Moreira/Dropbox/Public/Fin418/Data/GlobalFinMonthly.csv\"\n",
    "Data = pd.read_csv(url,na_values=-99)\n",
    "# tell python Date is date:\n",
    "Data['Date']=pd.to_datetime(Data['Date'])\n",
    "# set an an index\n",
    "Data=Data.set_index(['Date'])\n",
    "df=Data[['RF','MKT']].copy()"
   ]
  },
  {
   "cell_type": "code",
   "execution_count": 69,
   "metadata": {},
   "outputs": [
    {
     "data": {
      "text/html": [
       "<div>\n",
       "<style scoped>\n",
       "    .dataframe tbody tr th:only-of-type {\n",
       "        vertical-align: middle;\n",
       "    }\n",
       "\n",
       "    .dataframe tbody tr th {\n",
       "        vertical-align: top;\n",
       "    }\n",
       "\n",
       "    .dataframe thead th {\n",
       "        text-align: right;\n",
       "    }\n",
       "</style>\n",
       "<table border=\"1\" class=\"dataframe\">\n",
       "  <thead>\n",
       "    <tr style=\"text-align: right;\">\n",
       "      <th></th>\n",
       "      <th>RF</th>\n",
       "      <th>MKT</th>\n",
       "      <th>USA30yearGovBond</th>\n",
       "      <th>EmergingMarkets</th>\n",
       "      <th>WorldxUSA</th>\n",
       "      <th>WorldxUSAGovBond</th>\n",
       "    </tr>\n",
       "    <tr>\n",
       "      <th>Date</th>\n",
       "      <th></th>\n",
       "      <th></th>\n",
       "      <th></th>\n",
       "      <th></th>\n",
       "      <th></th>\n",
       "      <th></th>\n",
       "    </tr>\n",
       "  </thead>\n",
       "  <tbody>\n",
       "    <tr>\n",
       "      <th>1963-02-28</th>\n",
       "      <td>0.0023</td>\n",
       "      <td>-0.0215</td>\n",
       "      <td>-0.001878</td>\n",
       "      <td>0.098222</td>\n",
       "      <td>-0.002773</td>\n",
       "      <td>NaN</td>\n",
       "    </tr>\n",
       "    <tr>\n",
       "      <th>1963-03-31</th>\n",
       "      <td>0.0023</td>\n",
       "      <td>0.0331</td>\n",
       "      <td>0.003342</td>\n",
       "      <td>0.014149</td>\n",
       "      <td>0.000371</td>\n",
       "      <td>0.001913</td>\n",
       "    </tr>\n",
       "    <tr>\n",
       "      <th>1963-04-30</th>\n",
       "      <td>0.0025</td>\n",
       "      <td>0.0476</td>\n",
       "      <td>-0.001843</td>\n",
       "      <td>-0.147055</td>\n",
       "      <td>-0.003336</td>\n",
       "      <td>0.008002</td>\n",
       "    </tr>\n",
       "    <tr>\n",
       "      <th>1963-05-31</th>\n",
       "      <td>0.0024</td>\n",
       "      <td>0.0200</td>\n",
       "      <td>-0.001807</td>\n",
       "      <td>-0.012172</td>\n",
       "      <td>-0.000186</td>\n",
       "      <td>0.004689</td>\n",
       "    </tr>\n",
       "    <tr>\n",
       "      <th>1963-06-30</th>\n",
       "      <td>0.0023</td>\n",
       "      <td>-0.0177</td>\n",
       "      <td>0.001666</td>\n",
       "      <td>-0.055699</td>\n",
       "      <td>-0.011160</td>\n",
       "      <td>0.003139</td>\n",
       "    </tr>\n",
       "    <tr>\n",
       "      <th>...</th>\n",
       "      <td>...</td>\n",
       "      <td>...</td>\n",
       "      <td>...</td>\n",
       "      <td>...</td>\n",
       "      <td>...</td>\n",
       "      <td>...</td>\n",
       "    </tr>\n",
       "    <tr>\n",
       "      <th>2016-08-31</th>\n",
       "      <td>0.0002</td>\n",
       "      <td>0.0052</td>\n",
       "      <td>-0.008417</td>\n",
       "      <td>0.025186</td>\n",
       "      <td>0.000838</td>\n",
       "      <td>-0.009552</td>\n",
       "    </tr>\n",
       "    <tr>\n",
       "      <th>2016-09-30</th>\n",
       "      <td>0.0002</td>\n",
       "      <td>0.0027</td>\n",
       "      <td>-0.016417</td>\n",
       "      <td>0.013153</td>\n",
       "      <td>0.012736</td>\n",
       "      <td>0.009979</td>\n",
       "    </tr>\n",
       "    <tr>\n",
       "      <th>2016-10-31</th>\n",
       "      <td>0.0002</td>\n",
       "      <td>-0.0200</td>\n",
       "      <td>-0.049460</td>\n",
       "      <td>0.002474</td>\n",
       "      <td>-0.020383</td>\n",
       "      <td>-0.043476</td>\n",
       "    </tr>\n",
       "    <tr>\n",
       "      <th>2016-11-30</th>\n",
       "      <td>0.0001</td>\n",
       "      <td>0.0487</td>\n",
       "      <td>-0.081636</td>\n",
       "      <td>-0.045971</td>\n",
       "      <td>-0.019798</td>\n",
       "      <td>-0.050359</td>\n",
       "    </tr>\n",
       "    <tr>\n",
       "      <th>2016-12-31</th>\n",
       "      <td>0.0003</td>\n",
       "      <td>0.0185</td>\n",
       "      <td>-0.005296</td>\n",
       "      <td>0.002904</td>\n",
       "      <td>0.034383</td>\n",
       "      <td>-0.023207</td>\n",
       "    </tr>\n",
       "  </tbody>\n",
       "</table>\n",
       "<p>647 rows × 6 columns</p>\n",
       "</div>"
      ],
      "text/plain": [
       "                RF     MKT  USA30yearGovBond  EmergingMarkets  WorldxUSA  \\\n",
       "Date                                                                       \n",
       "1963-02-28  0.0023 -0.0215         -0.001878         0.098222  -0.002773   \n",
       "1963-03-31  0.0023  0.0331          0.003342         0.014149   0.000371   \n",
       "1963-04-30  0.0025  0.0476         -0.001843        -0.147055  -0.003336   \n",
       "1963-05-31  0.0024  0.0200         -0.001807        -0.012172  -0.000186   \n",
       "1963-06-30  0.0023 -0.0177          0.001666        -0.055699  -0.011160   \n",
       "...            ...     ...               ...              ...        ...   \n",
       "2016-08-31  0.0002  0.0052         -0.008417         0.025186   0.000838   \n",
       "2016-09-30  0.0002  0.0027         -0.016417         0.013153   0.012736   \n",
       "2016-10-31  0.0002 -0.0200         -0.049460         0.002474  -0.020383   \n",
       "2016-11-30  0.0001  0.0487         -0.081636        -0.045971  -0.019798   \n",
       "2016-12-31  0.0003  0.0185         -0.005296         0.002904   0.034383   \n",
       "\n",
       "            WorldxUSAGovBond  \n",
       "Date                          \n",
       "1963-02-28               NaN  \n",
       "1963-03-31          0.001913  \n",
       "1963-04-30          0.008002  \n",
       "1963-05-31          0.004689  \n",
       "1963-06-30          0.003139  \n",
       "...                      ...  \n",
       "2016-08-31         -0.009552  \n",
       "2016-09-30          0.009979  \n",
       "2016-10-31         -0.043476  \n",
       "2016-11-30         -0.050359  \n",
       "2016-12-31         -0.023207  \n",
       "\n",
       "[647 rows x 6 columns]"
      ]
     },
     "execution_count": 69,
     "metadata": {},
     "output_type": "execute_result"
    }
   ],
   "source": [
    "Data.info()"
   ]
  },
  {
   "cell_type": "markdown",
   "metadata": {
    "colab_type": "text",
    "id": "FVQH60MRQ1uc"
   },
   "source": [
    "# The Capital Allocation Line: Adding the Risk-free rate\n",
    "\n",
    "* So far we looked at an investor that is fully invested across risky assets\n",
    "\n",
    "* In this case, the only way that an investor can change the risk profile of her portfolio is by changing the relative weights across the risky assets\n",
    "\n",
    "* In practice investors can invest in the risk-free asset, which has zero volatility. \n",
    "\n",
    "* This means that they can potentially derisk their portfolio by keeping the relative weights across assets constant and simply invest more in the risk-free asset\n",
    "\n",
    "* So we will now work with excess returns (which we study in Notebook 3) and the risk-free rate, separating cleaning the risk-free component of these risky asset returns"
   ]
  },
  {
   "cell_type": "markdown",
   "metadata": {
    "colab_type": "text",
    "id": "1QND0trtvw_X"
   },
   "source": [
    "## Using Excess Returns"
   ]
  },
  {
   "cell_type": "code",
   "execution_count": 98,
   "metadata": {
    "colab": {
     "base_uri": "https://localhost:8080/",
     "height": 235
    },
    "colab_type": "code",
    "executionInfo": {
     "elapsed": 259,
     "status": "ok",
     "timestamp": 1576511208936,
     "user": {
      "displayName": "yuchi yao",
      "photoUrl": "",
      "userId": "00457884373990713813"
     },
     "user_tz": 300
    },
    "id": "HecbRN4NQ1ud",
    "outputId": "59701e08-c4f1-4a10-d426-98d486134d9e"
   },
   "outputs": [
    {
     "data": {
      "text/html": [
       "<div>\n",
       "<style scoped>\n",
       "    .dataframe tbody tr th:only-of-type {\n",
       "        vertical-align: middle;\n",
       "    }\n",
       "\n",
       "    .dataframe tbody tr th {\n",
       "        vertical-align: top;\n",
       "    }\n",
       "\n",
       "    .dataframe thead th {\n",
       "        text-align: right;\n",
       "    }\n",
       "</style>\n",
       "<table border=\"1\" class=\"dataframe\">\n",
       "  <thead>\n",
       "    <tr style=\"text-align: right;\">\n",
       "      <th></th>\n",
       "      <th>MKT</th>\n",
       "      <th>WorldxUSA</th>\n",
       "    </tr>\n",
       "    <tr>\n",
       "      <th>Date</th>\n",
       "      <th></th>\n",
       "      <th></th>\n",
       "    </tr>\n",
       "  </thead>\n",
       "  <tbody>\n",
       "    <tr>\n",
       "      <th>2016-08-31</th>\n",
       "      <td>0.0050</td>\n",
       "      <td>0.000638</td>\n",
       "    </tr>\n",
       "    <tr>\n",
       "      <th>2016-09-30</th>\n",
       "      <td>0.0025</td>\n",
       "      <td>0.012536</td>\n",
       "    </tr>\n",
       "    <tr>\n",
       "      <th>2016-10-31</th>\n",
       "      <td>-0.0202</td>\n",
       "      <td>-0.020583</td>\n",
       "    </tr>\n",
       "    <tr>\n",
       "      <th>2016-11-30</th>\n",
       "      <td>0.0486</td>\n",
       "      <td>-0.019898</td>\n",
       "    </tr>\n",
       "    <tr>\n",
       "      <th>2016-12-31</th>\n",
       "      <td>0.0182</td>\n",
       "      <td>0.034083</td>\n",
       "    </tr>\n",
       "  </tbody>\n",
       "</table>\n",
       "</div>"
      ],
      "text/plain": [
       "               MKT  WorldxUSA\n",
       "Date                         \n",
       "2016-08-31  0.0050   0.000638\n",
       "2016-09-30  0.0025   0.012536\n",
       "2016-10-31 -0.0202  -0.020583\n",
       "2016-11-30  0.0486  -0.019898\n",
       "2016-12-31  0.0182   0.034083"
      ]
     },
     "execution_count": 98,
     "metadata": {},
     "output_type": "execute_result"
    }
   ],
   "source": [
    "# here are the excess returns Re=R-rf\n",
    "Re=(Data[['RF','MKT','WorldxUSA']]).subtract(Data['RF'],axis='index').drop('RF',axis=1)\n",
    "\n",
    "Re.tail()"
   ]
  },
  {
   "cell_type": "code",
   "execution_count": 99,
   "metadata": {
    "colab": {
     "base_uri": "https://localhost:8080/",
     "height": 279
    },
    "colab_type": "code",
    "executionInfo": {
     "elapsed": 435,
     "status": "ok",
     "timestamp": 1576511214246,
     "user": {
      "displayName": "yuchi yao",
      "photoUrl": "",
      "userId": "00457884373990713813"
     },
     "user_tz": 300
    },
    "id": "5QrHwOmSmLvj",
    "outputId": "cb300405-8e31-4ca0-e031-1a11a8a8b254"
   },
   "outputs": [
    {
     "data": {
      "image/png": "[encoded data removed]",
      "text/plain": [
       "<Figure size 432x288 with 1 Axes>"
      ]
     },
     "metadata": {
      "needs_background": "light"
     },
     "output_type": "display_data"
    }
   ],
   "source": [
    "UsW=[]\n",
    "w=np.arange(0,1.05,0.05)\n",
    "for x in w:\n",
    "    W=np.array([x,1-x])\n",
    "    UsW.append([1-x,(W.T @ Re.cov() @ W*12)**0.5,W.T @ np.array(Re.mean())*12])\n",
    "UsW=np.array(UsW)\n",
    "plt.scatter(UsW[:,1],UsW[:,2])\n",
    "plt.xlabel('Volatility')\n",
    "plt.ylabel('Average Excess return')\n",
    "# plt.ylim([0,0.062])\n",
    "# plt.xlim([0,0.17])\n",
    "plt.show()"
   ]
  },
  {
   "cell_type": "markdown",
   "metadata": {
    "colab_type": "text",
    "id": "q5grqTTy8MZz"
   },
   "source": [
    "### Aside: Why not compute the covariance matrix including the risk-free asset?\n",
    "\n",
    "\n",
    "*   Discuss special treatment of risk-free rate\n",
    "*   Discuss volatiltiy of rf vs volatility of risky returns\n",
    "*   Discuss conditional versus unconditional expectations\n",
    "*   Should we use average rf or the one available at the time of investment?\n",
    "\n",
    "#### Conditional vs unconditional dice example\n",
    "\n",
    "* Think about the following setting\n",
    "* a coin that determines the return realization\n",
    "    - Head- return X\n",
    "    - Tails - worth 0\n",
    "* A six side dice determines the value of X. For example, If dice is 5, X=5%\n",
    "\n",
    "\n",
    "* How to think about the risk-free rate in this setting?\n",
    "* How to think about a risky asset with constant expected returns?\n",
    "\n",
    "    "
   ]
  },
  {
   "cell_type": "markdown",
   "metadata": {},
   "source": []
  },
  {
   "cell_type": "markdown",
   "metadata": {
    "colab_type": "text",
    "id": "EiCFFLN1v8MP"
   },
   "source": [
    "## Adding the Risk-free Rate"
   ]
  },
  {
   "cell_type": "code",
   "execution_count": 103,
   "metadata": {
    "colab": {},
    "colab_type": "code",
    "id": "Y6XGCEMDQ1uq"
   },
   "outputs": [],
   "source": [
    "UsW=[]\n",
    "w=np.arange(0,1.1,0.1)\n",
    "wf=np.arange(0,1.1,0.1)\n",
    "rf=0.1/100\n",
    "\n",
    "# Notations:\n",
    "  # xf:   position in risk-free rate\n",
    "  # x:    position in the US market portfolio\n",
    "  # 1-x:  position in the World market portfolio\n",
    "\n",
    "for xf in wf:\n",
    "    for x in w:\n",
    "        W=np.array([x,1-x])\n",
    "        UsW.append([xf,1-x,(1-xf)*(W.T @ Re.cov() @ W*12)**0.5,(W.T @ np.array(Re.mean())*12)*(1-xf)+rf])\n"
   ]
  },
  {
   "cell_type": "markdown",
   "metadata": {
    "colab_type": "text",
    "id": "QPlSoXuFh4O6"
   },
   "source": [
    "Note that the last term is `+rf` instead of `+rf*xf` because we are using excess return instead of return. To better understand, we write out the expected return in the following way:\n",
    "\n",
    "$\n",
    "\\begin{align}\n",
    "E[R_p]&=x_f \\times R_f + (1-x_f) \\times E[R_R] \\\\\n",
    "&= x_f \\times R_f + (1-x_f) \\times E[(R_R-R_f)] + (1-x_f) \\times R_f \\\\\n",
    "&= (1-x_f) \\times E[(R_R-R_f)] + R_f \\\\\n",
    "&=(1-x_f) \\times E[R_e] + R_f\n",
    "\\end{align}\n",
    "$\n",
    "\n",
    "where $R_R$ is the return on the risky portfolio"
   ]
  },
  {
   "cell_type": "code",
   "execution_count": 105,
   "metadata": {},
   "outputs": [
    {
     "ename": "TypeError",
     "evalue": "list indices must be integers or slices, not tuple",
     "output_type": "error",
     "traceback": [
      "\u001b[1;31m---------------------------------------------------------------------------\u001b[0m",
      "\u001b[1;31mTypeError\u001b[0m                                 Traceback (most recent call last)",
      "\u001b[1;32m<ipython-input-105-8fa34981f616>\u001b[0m in \u001b[0;36m<module>\u001b[1;34m\u001b[0m\n\u001b[1;32m----> 1\u001b[1;33m \u001b[0mUsW\u001b[0m\u001b[1;33m[\u001b[0m\u001b[1;33m:\u001b[0m\u001b[1;33m,\u001b[0m\u001b[1;36m0\u001b[0m\u001b[1;33m]\u001b[0m\u001b[1;33m==\u001b[0m\u001b[1;36m0\u001b[0m\u001b[1;33m\u001b[0m\u001b[1;33m\u001b[0m\u001b[0m\n\u001b[0m",
      "\u001b[1;31mTypeError\u001b[0m: list indices must be integers or slices, not tuple"
     ]
    }
   ],
   "source": [
    "UsW[:,0]==0"
   ]
  },
  {
   "cell_type": "code",
   "execution_count": null,
   "metadata": {},
   "outputs": [],
   "source": [
    "UsW[UsW[:,0]==0]"
   ]
  },
  {
   "cell_type": "code",
   "execution_count": 106,
   "metadata": {
    "colab": {
     "base_uri": "https://localhost:8080/",
     "height": 279
    },
    "colab_type": "code",
    "executionInfo": {
     "elapsed": 469,
     "status": "ok",
     "timestamp": 1576513524888,
     "user": {
      "displayName": "yuchi yao",
      "photoUrl": "",
      "userId": "00457884373990713813"
     },
     "user_tz": 300
    },
    "id": "P9h4huMph0LP",
    "outputId": "679856d5-207a-432c-8398-d89b66547f0f"
   },
   "outputs": [
    {
     "data": {
      "image/png": "[encoded data removed]",
      "text/plain": [
       "<Figure size 432x288 with 1 Axes>"
      ]
     },
     "metadata": {
      "needs_background": "light"
     },
     "output_type": "display_data"
    }
   ],
   "source": [
    "UsW=np.array(UsW)\n",
    "plt.scatter(UsW[:,2],UsW[:,3],color='red')\n",
    "plt.scatter(UsW[UsW[:,0]==0,2],UsW[UsW[:,0]==0,3],color='blue')\n",
    "plt.xlabel('Volatility')\n",
    "plt.ylabel('Average return')\n",
    "\n",
    "plt.show()"
   ]
  },
  {
   "cell_type": "markdown",
   "metadata": {
    "colab_type": "text",
    "id": "ho3B6ZWZQ1us"
   },
   "source": [
    "* Why for excess returns do I use the sample average while for the risk-free rate I get the current one?\n",
    "\n",
    "* What is noteworthy about this plot? What can you see in it?"
   ]
  },
  {
   "cell_type": "code",
   "execution_count": null,
   "metadata": {
    "colab": {
     "base_uri": "https://localhost:8080/",
     "height": 279
    },
    "colab_type": "code",
    "executionInfo": {
     "elapsed": 570,
     "status": "ok",
     "timestamp": 1576511259943,
     "user": {
      "displayName": "yuchi yao",
      "photoUrl": "",
      "userId": "00457884373990713813"
     },
     "user_tz": 300
    },
    "id": "_nkLxjv4Q1us",
    "outputId": "0fff304b-3f51-4362-fa68-346e64e45c59"
   },
   "outputs": [],
   "source": [
    "# in \"variance space\"\n",
    "\n",
    "plt.scatter(UsW[:,2]**2,UsW[:,3],color='red')\n",
    "plt.scatter(UsW[0:11,2]**2,UsW[0:11,3],color='blue')\n",
    "plt.xlabel('Variance')\n",
    "plt.ylabel('Average return')\n",
    "\n",
    "plt.show()"
   ]
  },
  {
   "cell_type": "markdown",
   "metadata": {
    "colab_type": "text",
    "id": "9kg32AeoQ1uu"
   },
   "source": [
    "* It is clear that someone that would like a lower risk profile can achieve this objective through the use of the risk-free asset without impacting expected returns as much\n",
    "\n",
    "* What about investors that would like to take more risk, can they benefit of the risk-free asset?\n",
    "\n",
    "* yes, if they can borrow at the risk-free rate"
   ]
  },
  {
   "cell_type": "code",
   "execution_count": null,
   "metadata": {
    "colab": {
     "base_uri": "https://localhost:8080/",
     "height": 279
    },
    "colab_type": "code",
    "executionInfo": {
     "elapsed": 724,
     "status": "ok",
     "timestamp": 1576512258164,
     "user": {
      "displayName": "yuchi yao",
      "photoUrl": "",
      "userId": "00457884373990713813"
     },
     "user_tz": 300
    },
    "id": "-oLnV1A_Q1uv",
    "outputId": "b3b47137-ae3a-4e54-bf07-fe95cf4d7f6d"
   },
   "outputs": [],
   "source": [
    "UsW=[]\n",
    "w=np.arange(0,1.1,0.1)\n",
    "wf=np.arange(0,1.1,0.1)\n",
    "rf=0\n",
    "for xf in wf:\n",
    "    for x in w:\n",
    "        W=np.array([x,1-x])\n",
    "        UsW.append([xf,1-x,(1-xf)*(W.T @ Re.cov() @ W*12)**0.5,(W.T @ np.array(Re.mean())*12)*(1-xf)+rf])\n",
    "\n",
    "w=np.arange(0,1.1,0.1)\n",
    "wf=np.arange(-0.5,0,0.1)\n",
    "\n",
    "for xf in wf:\n",
    "    for x in w:\n",
    "        W=np.array([x,1-x])\n",
    "        UsW.append([xf,1-x,(1-xf)*(W.T @ Re.cov() @ W*12)**0.5,(W.T @ np.array(Re.mean())*12)*(1-xf)+rf])\n",
    "        \n",
    "        \n",
    "UsW=np.array(UsW)\n",
    "\n",
    "plt.scatter(UsW[:,2],UsW[:,3],color='red')\n",
    "plt.scatter(UsW[UsW[:,0]==0,2],UsW[UsW[:,0]==0,3],color='blue')\n",
    "plt.scatter(UsW[UsW[:,0]<0,2],UsW[UsW[:,0]<0,3],color='orange')\n",
    "plt.xlabel('Volatility')\n",
    "plt.ylabel('Average return')\n",
    "\n",
    "plt.show()"
   ]
  },
  {
   "cell_type": "code",
   "execution_count": null,
   "metadata": {},
   "outputs": [],
   "source": [
    "UsW"
   ]
  },
  {
   "cell_type": "code",
   "execution_count": null,
   "metadata": {},
   "outputs": [],
   "source": [
    "plt.scatter(UsW[:,1],UsW[:,3]/UsW[:,2])"
   ]
  },
  {
   "cell_type": "markdown",
   "metadata": {
    "colab_type": "text",
    "id": "Vqlge2vhQ1uw"
   },
   "source": [
    "* What is the intepretation of a negative $w_f$? Doe it make sense?\n",
    "\n",
    "* What is the interpretation of a $w_f$ above 1? Does it make sense?\n",
    "\n",
    "* Is the investors likely to be able to borrow at the risk-free rate?"
   ]
  },
  {
   "cell_type": "markdown",
   "metadata": {
    "colab_type": "text",
    "id": "3SjHatHlQ1um"
   },
   "source": [
    "## Using API's\n",
    "\n",
    "* Pandas has an eco-system of APIs that allow you to get data from the web directly into a pandas dataframe\n",
    "\n",
    "* Here we will look at one API that gets macro and financial data from the Federal Reserve Bank of St louis\n",
    "\n",
    "* Lots and lots of data!\n",
    "\n",
    "  https://fred.stlouisfed.org/categories\n",
    "\n",
    "* Right now our goal is just to get the lastest risk-free rate\n",
    "\n",
    "* Which in this case is the yield on the three month treasury bill\n",
    "\n",
    "  https://fred.stlouisfed.org/series/DTB3\n",
    "\n",
    "* note that the fredapi is not in the anaconda eco-system so you install by openning anaconda Prompt \n",
    "\n",
    "* type \"pip install fredapi\"\n",
    "\n",
    "* if it requires additional packages, install these packages to by tryping \"pip install \"name of required package\"\n",
    "\n",
    "* you will also need to apply for an API key here\n",
    "\n",
    "  https://research.stlouisfed.org/docs/api/api_key.html\n",
    "\n",
    "* once you have it you use it to do this:"
   ]
  },
  {
   "cell_type": "code",
   "execution_count": 100,
   "metadata": {
    "colab": {
     "base_uri": "https://localhost:8080/",
     "height": 190
    },
    "colab_type": "code",
    "executionInfo": {
     "elapsed": 7723,
     "status": "ok",
     "timestamp": 1576511225997,
     "user": {
      "displayName": "yuchi yao",
      "photoUrl": "",
      "userId": "00457884373990713813"
     },
     "user_tz": 300
    },
    "id": "SQI5qwrzQ1un",
    "outputId": "e3aab311-5131-4c2d-cc22-6ceb702b14ae"
   },
   "outputs": [
    {
     "name": "stdout",
     "output_type": "stream",
     "text": [
      "Requirement already satisfied: fredapi in c:\\programdata\\anaconda3\\lib\\site-packages (0.4.2)\n",
      "Requirement already satisfied: pandas in c:\\programdata\\anaconda3\\lib\\site-packages (from fredapi) (1.0.5)\n",
      "Requirement already satisfied: pytz>=2017.2 in c:\\programdata\\anaconda3\\lib\\site-packages (from pandas->fredapi) (2020.1)\n",
      "Requirement already satisfied: numpy>=1.13.3 in c:\\programdata\\anaconda3\\lib\\site-packages (from pandas->fredapi) (1.18.5)\n",
      "Requirement already satisfied: python-dateutil>=2.6.1 in c:\\programdata\\anaconda3\\lib\\site-packages (from pandas->fredapi) (2.8.1)\n",
      "Requirement already satisfied: six>=1.5 in c:\\programdata\\anaconda3\\lib\\site-packages (from python-dateutil>=2.6.1->pandas->fredapi) (1.15.0)\n"
     ]
    }
   ],
   "source": [
    "!pip install fredapi\n",
    "from fredapi import Fred\n",
    "fred = Fred(api_key='f9207136b3333d7cf92c07273f6f5530')\n",
    "data = fred.get_series('DTB3')\n"
   ]
  },
  {
   "cell_type": "code",
   "execution_count": 101,
   "metadata": {},
   "outputs": [
    {
     "data": {
      "text/plain": [
       "<matplotlib.axes._subplots.AxesSubplot at 0x1f82fef2880>"
      ]
     },
     "execution_count": 101,
     "metadata": {},
     "output_type": "execute_result"
    },
    {
     "data": {
      "image/png": "[encoded data removed]",
      "text/plain": [
       "<Figure size 432x288 with 1 Axes>"
      ]
     },
     "metadata": {
      "needs_background": "light"
     },
     "output_type": "display_data"
    }
   ],
   "source": [
    "data = fred.get_series('VIXCLS')\n",
    "data.plot()"
   ]
  },
  {
   "cell_type": "code",
   "execution_count": 102,
   "metadata": {
    "colab": {
     "base_uri": "https://localhost:8080/",
     "height": 119
    },
    "colab_type": "code",
    "executionInfo": {
     "elapsed": 321,
     "status": "ok",
     "timestamp": 1576511227291,
     "user": {
      "displayName": "yuchi yao",
      "photoUrl": "",
      "userId": "00457884373990713813"
     },
     "user_tz": 300
    },
    "id": "GPATk6U1Q1uo",
    "outputId": "aae83b31-d97a-448f-dba6-0431100cf05c"
   },
   "outputs": [
    {
     "data": {
      "text/plain": [
       "2020-11-13    23.10\n",
       "2020-11-16    22.45\n",
       "2020-11-17    22.71\n",
       "2020-11-18    23.84\n",
       "2020-11-19    23.11\n",
       "dtype: float64"
      ]
     },
     "execution_count": 102,
     "metadata": {},
     "output_type": "execute_result"
    }
   ],
   "source": [
    "data.tail()"
   ]
  }
 ],
 "metadata": {
  "colab": {
   "collapsed_sections": [],
   "name": "Notebook 4.ipynb",
   "provenance": [],
   "toc_visible": true
  },
  "kernelspec": {
   "display_name": "Python 3",
   "language": "python",
   "name": "python3"
  },
  "language_info": {
   "codemirror_mode": {
    "name": "ipython",
    "version": 3
   },
   "file_extension": ".py",
   "mimetype": "text/x-python",
   "name": "python",
   "nbconvert_exporter": "python",
   "pygments_lexer": "ipython3",
   "version": "3.8.5"
  }
 },
 "nbformat": 4,
 "nbformat_minor": 4
}
