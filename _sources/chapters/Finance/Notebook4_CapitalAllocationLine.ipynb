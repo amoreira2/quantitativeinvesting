{
 "cells": [
  {
   "cell_type": "markdown",
   "metadata": {
    "colab_type": "text",
    "id": "x5bPnG2RQ1tw"
   },
   "source": [
    "# The Capital Allocation Line: Adding the Risk-free rate\n",
    "\n"
   ]
  },
  {
   "cell_type": "markdown",
   "metadata": {
    "colab_type": "text",
    "id": "FVQH60MRQ1uc"
   },
   "source": [
    "\n",
    "* So far we looked at an investor that is fully invested across risky assets\n",
    "\n",
    "* In this case, the only way that an investor can change the risk profile of her portfolio is by changing the relative weights across the risky assets\n",
    "\n",
    "* In practice investors can invest in the risk-free asset, which has zero volatility. \n",
    "\n",
    "* This means that they can potentially derisk their portfolio by keeping the relative weights across assets constant and simply invest more in the risk-free asset\n",
    "\n",
    "* So we will now work with excess returns (which we study in Notebook 3) and the risk-free rate, separating cleaning the risk-free component of these risky asset returns"
   ]
  },
  {
   "cell_type": "code",
   "execution_count": null,
   "metadata": {},
   "outputs": [],
   "source": [
    "import pandas as pd\n",
    "import numpy as np\n",
    "import matplotlib.pyplot as plt\n",
    "%matplotlib inline\n",
    "#GlobalFinMonthly\n",
    "url=\"https://www.dropbox.com/s/3k35mt3t57ygff2/GlobalFinMonthly.csv?dl=1\"\n",
    "# url=\"C:/Users/Alan Moreira/Dropbox/Public/Fin418/Data/GlobalFinMonthly.csv\"\n",
    "Data = pd.read_csv(url,na_values=-99)\n",
    "# tell python Date is date:\n",
    "Data['Date']=pd.to_datetime(Data['Date'])\n",
    "# set an an index\n",
    "Data=Data.set_index(['Date'])\n",
    "df=Data[['RF','MKT']].copy()\n",
    "Data.info()"
   ]
  },
  {
   "cell_type": "markdown",
   "metadata": {
    "colab_type": "text",
    "id": "1QND0trtvw_X"
   },
   "source": [
    "## Using Excess Returns"
   ]
  },
  {
   "cell_type": "code",
   "execution_count": 98,
   "metadata": {
    "colab": {
     "base_uri": "https://localhost:8080/",
     "height": 235
    },
    "colab_type": "code",
    "executionInfo": {
     "elapsed": 259,
     "status": "ok",
     "timestamp": 1576511208936,
     "user": {
      "displayName": "yuchi yao",
      "photoUrl": "",
      "userId": "00457884373990713813"
     },
     "user_tz": 300
    },
    "id": "HecbRN4NQ1ud",
    "outputId": "59701e08-c4f1-4a10-d426-98d486134d9e"
   },
   "outputs": [
    {
     "data": {
      "text/html": [
       "<div>\n",
       "<style scoped>\n",
       "    .dataframe tbody tr th:only-of-type {\n",
       "        vertical-align: middle;\n",
       "    }\n",
       "\n",
       "    .dataframe tbody tr th {\n",
       "        vertical-align: top;\n",
       "    }\n",
       "\n",
       "    .dataframe thead th {\n",
       "        text-align: right;\n",
       "    }\n",
       "</style>\n",
       "<table border=\"1\" class=\"dataframe\">\n",
       "  <thead>\n",
       "    <tr style=\"text-align: right;\">\n",
       "      <th></th>\n",
       "      <th>MKT</th>\n",
       "      <th>WorldxUSA</th>\n",
       "    </tr>\n",
       "    <tr>\n",
       "      <th>Date</th>\n",
       "      <th></th>\n",
       "      <th></th>\n",
       "    </tr>\n",
       "  </thead>\n",
       "  <tbody>\n",
       "    <tr>\n",
       "      <th>2016-08-31</th>\n",
       "      <td>0.0050</td>\n",
       "      <td>0.000638</td>\n",
       "    </tr>\n",
       "    <tr>\n",
       "      <th>2016-09-30</th>\n",
       "      <td>0.0025</td>\n",
       "      <td>0.012536</td>\n",
       "    </tr>\n",
       "    <tr>\n",
       "      <th>2016-10-31</th>\n",
       "      <td>-0.0202</td>\n",
       "      <td>-0.020583</td>\n",
       "    </tr>\n",
       "    <tr>\n",
       "      <th>2016-11-30</th>\n",
       "      <td>0.0486</td>\n",
       "      <td>-0.019898</td>\n",
       "    </tr>\n",
       "    <tr>\n",
       "      <th>2016-12-31</th>\n",
       "      <td>0.0182</td>\n",
       "      <td>0.034083</td>\n",
       "    </tr>\n",
       "  </tbody>\n",
       "</table>\n",
       "</div>"
      ],
      "text/plain": [
       "               MKT  WorldxUSA\n",
       "Date                         \n",
       "2016-08-31  0.0050   0.000638\n",
       "2016-09-30  0.0025   0.012536\n",
       "2016-10-31 -0.0202  -0.020583\n",
       "2016-11-30  0.0486  -0.019898\n",
       "2016-12-31  0.0182   0.034083"
      ]
     },
     "execution_count": 98,
     "metadata": {},
     "output_type": "execute_result"
    }
   ],
   "source": [
    "# here are the excess returns Re=R-rf\n",
    "Re=(Data[['RF','MKT','WorldxUSA']]).subtract(Data['RF'],axis='index').drop('RF',axis=1)\n",
    "\n",
    "Re.tail()"
   ]
  },
  {
   "cell_type": "code",
   "execution_count": 99,
   "metadata": {
    "colab": {
     "base_uri": "https://localhost:8080/",
     "height": 279
    },
    "colab_type": "code",
    "executionInfo": {
     "elapsed": 435,
     "status": "ok",
     "timestamp": 1576511214246,
     "user": {
      "displayName": "yuchi yao",
      "photoUrl": "",
      "userId": "00457884373990713813"
     },
     "user_tz": 300
    },
    "id": "5QrHwOmSmLvj",
    "outputId": "cb300405-8e31-4ca0-e031-1a11a8a8b254"
   },
   "outputs": [
    {
     "data": {
      "image/png": "[encoded data removed]",
      "text/plain": [
       "<Figure size 432x288 with 1 Axes>"
      ]
     },
     "metadata": {
      "needs_background": "light"
     },
     "output_type": "display_data"
    }
   ],
   "source": [
    "UsW=[]\n",
    "w=np.arange(0,1.05,0.05)\n",
    "for x in w:\n",
    "    W=np.array([x,1-x])\n",
    "    UsW.append([1-x,(W.T @ Re.cov() @ W*12)**0.5,W.T @ np.array(Re.mean())*12])\n",
    "UsW=np.array(UsW)\n",
    "plt.scatter(UsW[:,1],UsW[:,2])\n",
    "plt.xlabel('Volatility')\n",
    "plt.ylabel('Average Excess return')\n",
    "# plt.ylim([0,0.062])\n",
    "# plt.xlim([0,0.17])\n",
    "plt.show()"
   ]
  },
  {
   "cell_type": "markdown",
   "metadata": {
    "colab_type": "text",
    "id": "q5grqTTy8MZz"
   },
   "source": [
    "### Aside: Why not compute the covariance matrix including the risk-free asset?\n",
    "\n",
    "\n",
    "*   Discuss special treatment of risk-free rate\n",
    "*   Discuss volatiltiy of rf vs volatility of risky returns\n",
    "*   Discuss conditional versus unconditional expectations\n",
    "*   Should we use average rf or the one available at the time of investment?\n",
    "\n",
    "#### Conditional vs unconditional dice example\n",
    "\n",
    "* Think about the following setting\n",
    "* a coin that determines the return realization\n",
    "    - Head- return X\n",
    "    - Tails - worth 0\n",
    "* A six side dice determines the value of X. For example, If dice is 5, X=5%\n",
    "\n",
    "\n",
    "* How to think about the risk-free rate in this setting?\n",
    "* How to think about a risky asset with constant expected returns?\n",
    "\n",
    "    "
   ]
  },
  {
   "cell_type": "markdown",
   "metadata": {},
   "source": []
  },
  {
   "cell_type": "markdown",
   "metadata": {
    "colab_type": "text",
    "id": "EiCFFLN1v8MP"
   },
   "source": [
    "## Adding the Risk-free Rate"
   ]
  },
  {
   "cell_type": "code",
   "execution_count": 103,
   "metadata": {
    "colab": {},
    "colab_type": "code",
    "id": "Y6XGCEMDQ1uq"
   },
   "outputs": [],
   "source": [
    "UsW=[]\n",
    "w=np.arange(0,1.1,0.1)\n",
    "wf=np.arange(0,1.1,0.1)\n",
    "rf=0.1/100\n",
    "\n",
    "# Notations:\n",
    "  # xf:   position in risk-free rate\n",
    "  # x:    position in the US market portfolio\n",
    "  # 1-x:  position in the World market portfolio\n",
    "\n",
    "for xf in wf:\n",
    "    for x in w:\n",
    "        W=np.array([x,1-x])\n",
    "        UsW.append([xf,1-x,(1-xf)*(W.T @ Re.cov() @ W*12)**0.5,(W.T @ np.array(Re.mean())*12)*(1-xf)+rf])\n"
   ]
  },
  {
   "cell_type": "markdown",
   "metadata": {
    "colab_type": "text",
    "id": "QPlSoXuFh4O6"
   },
   "source": [
    "Note that the last term is `+rf` instead of `+rf*xf` because we are using excess return instead of return. To better understand, we write out the expected return in the following way:\n",
    "\n",
    "$\n",
    "\\begin{align}\n",
    "E[R_p]&=x_f \\times R_f + (1-x_f) \\times E[R_R] \\\\\n",
    "&= x_f \\times R_f + (1-x_f) \\times E[(R_R-R_f)] + (1-x_f) \\times R_f \\\\\n",
    "&= (1-x_f) \\times E[(R_R-R_f)] + R_f \\\\\n",
    "&=(1-x_f) \\times E[R_e] + R_f\n",
    "\\end{align}\n",
    "$\n",
    "\n",
    "where $R_R$ is the return on the risky portfolio"
   ]
  },
  {
   "cell_type": "code",
   "execution_count": 105,
   "metadata": {},
   "outputs": [
    {
     "ename": "TypeError",
     "evalue": "list indices must be integers or slices, not tuple",
     "output_type": "error",
     "traceback": [
      "\u001b[1;31m---------------------------------------------------------------------------\u001b[0m",
      "\u001b[1;31mTypeError\u001b[0m                                 Traceback (most recent call last)",
      "\u001b[1;32m<ipython-input-105-8fa34981f616>\u001b[0m in \u001b[0;36m<module>\u001b[1;34m\u001b[0m\n\u001b[1;32m----> 1\u001b[1;33m \u001b[0mUsW\u001b[0m\u001b[1;33m[\u001b[0m\u001b[1;33m:\u001b[0m\u001b[1;33m,\u001b[0m\u001b[1;36m0\u001b[0m\u001b[1;33m]\u001b[0m\u001b[1;33m==\u001b[0m\u001b[1;36m0\u001b[0m\u001b[1;33m\u001b[0m\u001b[1;33m\u001b[0m\u001b[0m\n\u001b[0m",
      "\u001b[1;31mTypeError\u001b[0m: list indices must be integers or slices, not tuple"
     ]
    }
   ],
   "source": [
    "UsW[:,0]==0"
   ]
  },
  {
   "cell_type": "code",
   "execution_count": null,
   "metadata": {},
   "outputs": [],
   "source": [
    "UsW[UsW[:,0]==0]"
   ]
  },
  {
   "cell_type": "code",
   "execution_count": 106,
   "metadata": {
    "colab": {
     "base_uri": "https://localhost:8080/",
     "height": 279
    },
    "colab_type": "code",
    "executionInfo": {
     "elapsed": 469,
     "status": "ok",
     "timestamp": 1576513524888,
     "user": {
      "displayName": "yuchi yao",
      "photoUrl": "",
      "userId": "00457884373990713813"
     },
     "user_tz": 300
    },
    "id": "P9h4huMph0LP",
    "outputId": "679856d5-207a-432c-8398-d89b66547f0f"
   },
   "outputs": [
    {
     "data": {
      "image/png": "[encoded data removed]",
      "text/plain": [
       "<Figure size 432x288 with 1 Axes>"
      ]
     },
     "metadata": {
      "needs_background": "light"
     },
     "output_type": "display_data"
    }
   ],
   "source": [
    "UsW=np.array(UsW)\n",
    "plt.scatter(UsW[:,2],UsW[:,3],color='red')\n",
    "plt.scatter(UsW[UsW[:,0]==0,2],UsW[UsW[:,0]==0,3],color='blue')\n",
    "plt.xlabel('Volatility')\n",
    "plt.ylabel('Average return')\n",
    "\n",
    "plt.show()"
   ]
  },
  {
   "cell_type": "markdown",
   "metadata": {
    "colab_type": "text",
    "id": "ho3B6ZWZQ1us"
   },
   "source": [
    "* Why for excess returns do I use the sample average while for the risk-free rate I get the current one?\n",
    "\n",
    "* What is noteworthy about this plot? What can you see in it?"
   ]
  },
  {
   "cell_type": "code",
   "execution_count": null,
   "metadata": {
    "colab": {
     "base_uri": "https://localhost:8080/",
     "height": 279
    },
    "colab_type": "code",
    "executionInfo": {
     "elapsed": 570,
     "status": "ok",
     "timestamp": 1576511259943,
     "user": {
      "displayName": "yuchi yao",
      "photoUrl": "",
      "userId": "00457884373990713813"
     },
     "user_tz": 300
    },
    "id": "_nkLxjv4Q1us",
    "outputId": "0fff304b-3f51-4362-fa68-346e64e45c59"
   },
   "outputs": [],
   "source": [
    "# in \"variance space\"\n",
    "\n",
    "plt.scatter(UsW[:,2]**2,UsW[:,3],color='red')\n",
    "plt.scatter(UsW[0:11,2]**2,UsW[0:11,3],color='blue')\n",
    "plt.xlabel('Variance')\n",
    "plt.ylabel('Average return')\n",
    "\n",
    "plt.show()"
   ]
  },
  {
   "cell_type": "markdown",
   "metadata": {
    "colab_type": "text",
    "id": "9kg32AeoQ1uu"
   },
   "source": [
    "* It is clear that someone that would like a lower risk profile can achieve this objective through the use of the risk-free asset without impacting expected returns as much\n",
    "\n",
    "* What about investors that would like to take more risk, can they benefit of the risk-free asset?\n",
    "\n",
    "* yes, if they can borrow at the risk-free rate"
   ]
  },
  {
   "cell_type": "code",
   "execution_count": null,
   "metadata": {
    "colab": {
     "base_uri": "https://localhost:8080/",
     "height": 279
    },
    "colab_type": "code",
    "executionInfo": {
     "elapsed": 724,
     "status": "ok",
     "timestamp": 1576512258164,
     "user": {
      "displayName": "yuchi yao",
      "photoUrl": "",
      "userId": "00457884373990713813"
     },
     "user_tz": 300
    },
    "id": "-oLnV1A_Q1uv",
    "outputId": "b3b47137-ae3a-4e54-bf07-fe95cf4d7f6d"
   },
   "outputs": [],
   "source": [
    "UsW=[]\n",
    "w=np.arange(0,1.1,0.1)\n",
    "wf=np.arange(0,1.1,0.1)\n",
    "rf=0\n",
    "for xf in wf:\n",
    "    for x in w:\n",
    "        W=np.array([x,1-x])\n",
    "        UsW.append([xf,1-x,(1-xf)*(W.T @ Re.cov() @ W*12)**0.5,(W.T @ np.array(Re.mean())*12)*(1-xf)+rf])\n",
    "\n",
    "w=np.arange(0,1.1,0.1)\n",
    "wf=np.arange(-0.5,0,0.1)\n",
    "\n",
    "for xf in wf:\n",
    "    for x in w:\n",
    "        W=np.array([x,1-x])\n",
    "        UsW.append([xf,1-x,(1-xf)*(W.T @ Re.cov() @ W*12)**0.5,(W.T @ np.array(Re.mean())*12)*(1-xf)+rf])\n",
    "        \n",
    "        \n",
    "UsW=np.array(UsW)\n",
    "\n",
    "plt.scatter(UsW[:,2],UsW[:,3],color='red')\n",
    "plt.scatter(UsW[UsW[:,0]==0,2],UsW[UsW[:,0]==0,3],color='blue')\n",
    "plt.scatter(UsW[UsW[:,0]<0,2],UsW[UsW[:,0]<0,3],color='orange')\n",
    "plt.xlabel('Volatility')\n",
    "plt.ylabel('Average return')\n",
    "\n",
    "plt.show()"
   ]
  },
  {
   "cell_type": "code",
   "execution_count": null,
   "metadata": {},
   "outputs": [],
   "source": [
    "UsW"
   ]
  },
  {
   "cell_type": "code",
   "execution_count": null,
   "metadata": {},
   "outputs": [],
   "source": [
    "plt.scatter(UsW[:,1],UsW[:,3]/UsW[:,2])"
   ]
  },
  {
   "cell_type": "markdown",
   "metadata": {
    "colab_type": "text",
    "id": "Vqlge2vhQ1uw"
   },
   "source": [
    "* What is the intepretation of a negative $w_f$? Doe it make sense?\n",
    "\n",
    "* What is the interpretation of a $w_f$ above 1? Does it make sense?\n",
    "\n",
    "* Is the investors likely to be able to borrow at the risk-free rate?"
   ]
  }
 ],
 "metadata": {
  "colab": {
   "collapsed_sections": [],
   "name": "Notebook 4.ipynb",
   "provenance": [],
   "toc_visible": true
  },
  "kernelspec": {
   "display_name": "Python 3",
   "language": "python",
   "name": "python3"
  },
  "language_info": {
   "codemirror_mode": {
    "name": "ipython",
    "version": 3
   },
   "file_extension": ".py",
   "mimetype": "text/x-python",
   "name": "python",
   "nbconvert_exporter": "python",
   "pygments_lexer": "ipython3",
   "version": "3.8.5"
  }
 },
 "nbformat": 4,
 "nbformat_minor": 4
}
