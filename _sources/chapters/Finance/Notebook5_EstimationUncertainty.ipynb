{
 "cells": [
  {
   "cell_type": "markdown",
   "metadata": {
    "colab_type": "text",
    "id": "QgykM3kZhHqj"
   },
   "source": [
    "\n",
    "# Estimation Uncertainty\n",
    "\n",
    "\n"
   ]
  },
  {
   "cell_type": "code",
   "execution_count": 1,
   "metadata": {
    "colab": {
     "base_uri": "https://localhost:8080/",
     "height": 235
    },
    "colab_type": "code",
    "executionInfo": {
     "elapsed": 7090,
     "status": "ok",
     "timestamp": 1576771469964,
     "user": {
      "displayName": "yuchi yao",
      "photoUrl": "",
      "userId": "00457884373990713813"
     },
     "user_tz": 300
    },
    "id": "vI1xySqDhHqm",
    "outputId": "7d785476-d21c-4ef3-bf1b-274e8900fcb4"
   },
   "outputs": [
    {
     "data": {
      "text/html": [
       "<div>\n",
       "<style scoped>\n",
       "    .dataframe tbody tr th:only-of-type {\n",
       "        vertical-align: middle;\n",
       "    }\n",
       "\n",
       "    .dataframe tbody tr th {\n",
       "        vertical-align: top;\n",
       "    }\n",
       "\n",
       "    .dataframe thead th {\n",
       "        text-align: right;\n",
       "    }\n",
       "</style>\n",
       "<table border=\"1\" class=\"dataframe\">\n",
       "  <thead>\n",
       "    <tr style=\"text-align: right;\">\n",
       "      <th></th>\n",
       "      <th>MKTUS</th>\n",
       "      <th>BondUS</th>\n",
       "      <th>EM</th>\n",
       "      <th>MKTxUS</th>\n",
       "      <th>BondxUS</th>\n",
       "    </tr>\n",
       "    <tr>\n",
       "      <th>Date</th>\n",
       "      <th></th>\n",
       "      <th></th>\n",
       "      <th></th>\n",
       "      <th></th>\n",
       "      <th></th>\n",
       "    </tr>\n",
       "  </thead>\n",
       "  <tbody>\n",
       "    <tr>\n",
       "      <th>2016-08-31</th>\n",
       "      <td>0.0050</td>\n",
       "      <td>-0.008617</td>\n",
       "      <td>0.024986</td>\n",
       "      <td>0.000638</td>\n",
       "      <td>-0.009752</td>\n",
       "    </tr>\n",
       "    <tr>\n",
       "      <th>2016-09-30</th>\n",
       "      <td>0.0025</td>\n",
       "      <td>-0.016617</td>\n",
       "      <td>0.012953</td>\n",
       "      <td>0.012536</td>\n",
       "      <td>0.009779</td>\n",
       "    </tr>\n",
       "    <tr>\n",
       "      <th>2016-10-31</th>\n",
       "      <td>-0.0202</td>\n",
       "      <td>-0.049660</td>\n",
       "      <td>0.002274</td>\n",
       "      <td>-0.020583</td>\n",
       "      <td>-0.043676</td>\n",
       "    </tr>\n",
       "    <tr>\n",
       "      <th>2016-11-30</th>\n",
       "      <td>0.0486</td>\n",
       "      <td>-0.081736</td>\n",
       "      <td>-0.046071</td>\n",
       "      <td>-0.019898</td>\n",
       "      <td>-0.050459</td>\n",
       "    </tr>\n",
       "    <tr>\n",
       "      <th>2016-12-31</th>\n",
       "      <td>0.0182</td>\n",
       "      <td>-0.005596</td>\n",
       "      <td>0.002604</td>\n",
       "      <td>0.034083</td>\n",
       "      <td>-0.023507</td>\n",
       "    </tr>\n",
       "  </tbody>\n",
       "</table>\n",
       "</div>"
      ],
      "text/plain": [
       "             MKTUS    BondUS        EM    MKTxUS   BondxUS\n",
       "Date                                                      \n",
       "2016-08-31  0.0050 -0.008617  0.024986  0.000638 -0.009752\n",
       "2016-09-30  0.0025 -0.016617  0.012953  0.012536  0.009779\n",
       "2016-10-31 -0.0202 -0.049660  0.002274 -0.020583 -0.043676\n",
       "2016-11-30  0.0486 -0.081736 -0.046071 -0.019898 -0.050459\n",
       "2016-12-31  0.0182 -0.005596  0.002604  0.034083 -0.023507"
      ]
     },
     "execution_count": 1,
     "metadata": {},
     "output_type": "execute_result"
    }
   ],
   "source": [
    "import pandas as pd\n",
    "import numpy as np\n",
    "import matplotlib.pyplot as plt\n",
    "%matplotlib inline\n",
    "#GlobalFinMonthly\n",
    "url=\"https://www.dropbox.com/s/3k35mt3t57ygff2/GlobalFinMonthly.csv?dl=1\"\n",
    "Data = pd.read_csv(url,na_values=-99)\n",
    "# tell python Date is date:\n",
    "Data['Date']=pd.to_datetime(Data['Date'])\n",
    "# set an an index\n",
    "Data=Data.set_index(['Date'])\n",
    "Data=Data.rename(columns={Data.columns[1]: \"MKTUS\",Data.columns[2]: \"BondUS\",\n",
    "                          Data.columns[3]: \"EM\",Data.columns[4]: \"MKTxUS\",Data.columns[5]: \"BondxUS\" })\n",
    "Re=(Data.drop('RF',axis=1)).subtract(Data['RF'],axis='index')\n",
    "Re.tail()"
   ]
  },
  {
   "cell_type": "markdown",
   "metadata": {
    "colab_type": "text",
    "id": "jRG60SojhHqp"
   },
   "source": [
    "# Portfolio optimization in practice\n",
    "\n",
    "* Investment managers rarely apply the Markowitz framework in it's more pure form as studied in Notebook 4\n",
    "\n",
    "* Pension funds typically use a 60/40 equity/bond allocation \n",
    "\n",
    "* Why not used more often? \n",
    "\n",
    "* Requires specifying expected return assumption for entire universe of assets\n",
    "\n",
    "* Mean-variance optimization weights heavily on assets that have extreme average returns and with attractive covariance properties, i.e., high correlation with asset yielding slightly different return\n",
    "\n",
    "* What problems that might cause?\n",
    "\n",
    "* The key problem is that we are dealing with a limited sample of data\n",
    "\n",
    "* We are interested in finding the ex-ante tangency portfolio\n",
    "* But MV analysis identifies the ex-post tangency portfolio, i.e. a portfolio that did well in the sample, but it can be a statistical fluke\n",
    "\n",
    "> How to evaluate the amount of uncertainty and it’s impact on our results?\n",
    "\n",
    "* Another practical issue that practioners face is that MV analysis (in it's more pure form) does not account for several real world frictions that are more or less important depending on the investor:\n",
    "\n",
    " * Shorting an asset requires paying a borrowing fee to the owner of the asset. Shorting costs are sometimes prohibitive for small illiquid stocks\n",
    " \n",
    " * Most investors cannot really borrow at anything close to the risk-free rate--i.e., often they have to pay a substantially higher rate to borrow than to lend. \n",
    " \n",
    " > Between two assets, one with high beta with respect to the tangency portfolio and one with low beta, which one does a constrained investor prefer?\n",
    " \n",
    " \n",
    "\n",
    "\n"
   ]
  },
  {
   "cell_type": "markdown",
   "metadata": {
    "colab_type": "text",
    "id": "AYVXeqy3hHrA"
   },
   "source": [
    "\n",
    "     \n",
    "# Estimation uncertainty     \n",
    "\n",
    "* We will start by evaluating the uncertainty regarding our average expected excess return estimates for each asset\n",
    "\n",
    "* We will then show how the weights change as we pertubate these estimates in a way that is consistent with the amount of uncertainty\n",
    "\n",
    "* We will then show how sensitive the benefits of international diversification are\n",
    "\n",
    "* If observations are serially uncorrelated over time, which returns are close to being, then the standard deviation of a sample average is simply\n",
    "\n",
    "$$std\\left(\\sum_i^N\\frac{x_i}{N}\\right)=\\frac{std(x_i)}{\\sqrt{N}}$$\n",
    "\n",
    "\n",
    "* This measures how uncertain we are about the sample mean\n",
    "\n",
    "* For example, there is a 5% probability that the actual mean $E[x_i]\\leq\\overline{x_i}-1.64{std(\\overline{x_i})}$\n",
    "\n",
    "* So $std(\\overline{x_i})$ gives a measure of how close our estimate is to the true expected value\n",
    "\n",
    "* Lets compare the sample average and the sample average standard deviation for our assets"
   ]
  },
  {
   "cell_type": "code",
   "execution_count": 111,
   "metadata": {
    "colab": {
     "base_uri": "https://localhost:8080/",
     "height": 235
    },
    "colab_type": "code",
    "executionInfo": {
     "elapsed": 892,
     "status": "ok",
     "timestamp": 1576771737472,
     "user": {
      "displayName": "yuchi yao",
      "photoUrl": "",
      "userId": "00457884373990713813"
     },
     "user_tz": 300
    },
    "id": "w3TQDESmxflz",
    "outputId": "e11c5322-0982-456b-d646-be483c009da1"
   },
   "outputs": [
    {
     "data": {
      "text/html": [
       "<div>\n",
       "<style scoped>\n",
       "    .dataframe tbody tr th:only-of-type {\n",
       "        vertical-align: middle;\n",
       "    }\n",
       "\n",
       "    .dataframe tbody tr th {\n",
       "        vertical-align: top;\n",
       "    }\n",
       "\n",
       "    .dataframe thead th {\n",
       "        text-align: right;\n",
       "    }\n",
       "</style>\n",
       "<table border=\"1\" class=\"dataframe\">\n",
       "  <thead>\n",
       "    <tr style=\"text-align: right;\">\n",
       "      <th></th>\n",
       "      <th>MKTUS</th>\n",
       "      <th>BondUS</th>\n",
       "      <th>EM</th>\n",
       "      <th>MKTxUS</th>\n",
       "      <th>BondxUS</th>\n",
       "    </tr>\n",
       "    <tr>\n",
       "      <th>Date</th>\n",
       "      <th></th>\n",
       "      <th></th>\n",
       "      <th></th>\n",
       "      <th></th>\n",
       "      <th></th>\n",
       "    </tr>\n",
       "  </thead>\n",
       "  <tbody>\n",
       "    <tr>\n",
       "      <th>1963-02-28</th>\n",
       "      <td>-0.0238</td>\n",
       "      <td>-0.004178</td>\n",
       "      <td>0.095922</td>\n",
       "      <td>-0.005073</td>\n",
       "      <td>NaN</td>\n",
       "    </tr>\n",
       "    <tr>\n",
       "      <th>1963-03-31</th>\n",
       "      <td>0.0308</td>\n",
       "      <td>0.001042</td>\n",
       "      <td>0.011849</td>\n",
       "      <td>-0.001929</td>\n",
       "      <td>-0.000387</td>\n",
       "    </tr>\n",
       "    <tr>\n",
       "      <th>1963-04-30</th>\n",
       "      <td>0.0451</td>\n",
       "      <td>-0.004343</td>\n",
       "      <td>-0.149555</td>\n",
       "      <td>-0.005836</td>\n",
       "      <td>0.005502</td>\n",
       "    </tr>\n",
       "    <tr>\n",
       "      <th>1963-05-31</th>\n",
       "      <td>0.0176</td>\n",
       "      <td>-0.004207</td>\n",
       "      <td>-0.014572</td>\n",
       "      <td>-0.002586</td>\n",
       "      <td>0.002289</td>\n",
       "    </tr>\n",
       "    <tr>\n",
       "      <th>1963-06-30</th>\n",
       "      <td>-0.0200</td>\n",
       "      <td>-0.000634</td>\n",
       "      <td>-0.057999</td>\n",
       "      <td>-0.013460</td>\n",
       "      <td>0.000839</td>\n",
       "    </tr>\n",
       "  </tbody>\n",
       "</table>\n",
       "</div>"
      ],
      "text/plain": [
       "             MKTUS    BondUS        EM    MKTxUS   BondxUS\n",
       "Date                                                      \n",
       "1963-02-28 -0.0238 -0.004178  0.095922 -0.005073       NaN\n",
       "1963-03-31  0.0308  0.001042  0.011849 -0.001929 -0.000387\n",
       "1963-04-30  0.0451 -0.004343 -0.149555 -0.005836  0.005502\n",
       "1963-05-31  0.0176 -0.004207 -0.014572 -0.002586  0.002289\n",
       "1963-06-30 -0.0200 -0.000634 -0.057999 -0.013460  0.000839"
      ]
     },
     "execution_count": 111,
     "metadata": {},
     "output_type": "execute_result"
    }
   ],
   "source": [
    "Re.head()"
   ]
  },
  {
   "cell_type": "code",
   "execution_count": 112,
   "metadata": {
    "colab": {
     "base_uri": "https://localhost:8080/",
     "height": 34
    },
    "colab_type": "code",
    "executionInfo": {
     "elapsed": 419,
     "status": "ok",
     "timestamp": 1576771745536,
     "user": {
      "displayName": "yuchi yao",
      "photoUrl": "",
      "userId": "00457884373990713813"
     },
     "user_tz": 300
    },
    "id": "6ulWDqYkOCZk",
    "outputId": "3b89b4b8-ec07-493b-94fe-91902f934df3"
   },
   "outputs": [
    {
     "data": {
      "text/plain": [
       "647"
      ]
     },
     "execution_count": 112,
     "metadata": {},
     "output_type": "execute_result"
    }
   ],
   "source": [
    "# First we get the total number of observations and store it as `T`\n",
    "T=Re.shape[0]\n",
    "T"
   ]
  },
  {
   "cell_type": "code",
   "execution_count": 113,
   "metadata": {},
   "outputs": [
    {
     "data": {
      "text/html": [
       "<div>\n",
       "<style scoped>\n",
       "    .dataframe tbody tr th:only-of-type {\n",
       "        vertical-align: middle;\n",
       "    }\n",
       "\n",
       "    .dataframe tbody tr th {\n",
       "        vertical-align: top;\n",
       "    }\n",
       "\n",
       "    .dataframe thead th {\n",
       "        text-align: right;\n",
       "    }\n",
       "</style>\n",
       "<table border=\"1\" class=\"dataframe\">\n",
       "  <thead>\n",
       "    <tr style=\"text-align: right;\">\n",
       "      <th></th>\n",
       "      <th>0</th>\n",
       "      <th>1</th>\n",
       "    </tr>\n",
       "  </thead>\n",
       "  <tbody>\n",
       "    <tr>\n",
       "      <th>MKTUS</th>\n",
       "      <td>0.001735</td>\n",
       "      <td>0.005140</td>\n",
       "    </tr>\n",
       "    <tr>\n",
       "      <th>BondUS</th>\n",
       "      <td>0.001377</td>\n",
       "      <td>0.002523</td>\n",
       "    </tr>\n",
       "    <tr>\n",
       "      <th>EM</th>\n",
       "      <td>0.002344</td>\n",
       "      <td>0.006923</td>\n",
       "    </tr>\n",
       "    <tr>\n",
       "      <th>MKTxUS</th>\n",
       "      <td>0.001836</td>\n",
       "      <td>0.004149</td>\n",
       "    </tr>\n",
       "    <tr>\n",
       "      <th>BondxUS</th>\n",
       "      <td>0.000793</td>\n",
       "      <td>0.002054</td>\n",
       "    </tr>\n",
       "  </tbody>\n",
       "</table>\n",
       "</div>"
      ],
      "text/plain": [
       "                0         1\n",
       "MKTUS    0.001735  0.005140\n",
       "BondUS   0.001377  0.002523\n",
       "EM       0.002344  0.006923\n",
       "MKTxUS   0.001836  0.004149\n",
       "BondxUS  0.000793  0.002054"
      ]
     },
     "execution_count": 113,
     "metadata": {},
     "output_type": "execute_result"
    }
   ],
   "source": [
    "# Lets contrast the WMVE weights with the SR of each \n",
    "\n",
    "# (1) standard deviation of the sample average of excess return for each asset\n",
    "avg_std=(Re.std()/(T**0.5))\n",
    "\n",
    "# (2) sample average of excess return for each asset\n",
    "avg=Re.mean()\n",
    "\n",
    "# (3) save as ERstd (excess return standard deviation)\n",
    "ERstd=pd.concat([avg_std,avg],axis=1)\n",
    "ERstd"
   ]
  },
  {
   "cell_type": "code",
   "execution_count": 114,
   "metadata": {
    "colab": {
     "base_uri": "https://localhost:8080/",
     "height": 300
    },
    "colab_type": "code",
    "executionInfo": {
     "elapsed": 936,
     "status": "ok",
     "timestamp": 1576771868626,
     "user": {
      "displayName": "yuchi yao",
      "photoUrl": "",
      "userId": "00457884373990713813"
     },
     "user_tz": 300
    },
    "id": "Sw4ZpIqahHrB",
    "outputId": "9e87f611-7cb8-4428-e238-7b38aa489c0b",
    "scrolled": true
   },
   "outputs": [
    {
     "data": {
      "image/png": "[encoded data removed]",
      "text/plain": [
       "<Figure size 432x288 with 1 Axes>"
      ]
     },
     "metadata": {
      "needs_background": "light"
     },
     "output_type": "display_data"
    }
   ],
   "source": [
    "# Lets contrast the WMVE weights with the SR of each \n",
    "\n",
    "# (1) standard deviation of the sample average of excess return for each asset\n",
    "avg_std=(Re.std()/(T**0.5))\n",
    "\n",
    "# (2) sample average of excess return for each asset\n",
    "avg=Re.mean()\n",
    "\n",
    "# (3) save as ERstd (excess return standard deviation)\n",
    "ERstd=pd.concat([avg_std,avg],axis=1)\n",
    "\n",
    "# (4) rename columns\n",
    "ERstd=ERstd.rename(columns={0:'avg_std',1:'avg'})\n",
    "\n",
    "# (5) plot \n",
    "ERstd.plot.bar()\n",
    "plt.show()"
   ]
  },
  {
   "cell_type": "markdown",
   "metadata": {
    "colab_type": "text",
    "id": "GcOwQFZehHrC"
   },
   "source": [
    "* Note that our data set has  50 years of data, there is still considerable uncertainty, specially for bonds"
   ]
  },
  {
   "cell_type": "code",
   "execution_count": 115,
   "metadata": {
    "colab": {
     "base_uri": "https://localhost:8080/",
     "height": 34
    },
    "colab_type": "code",
    "executionInfo": {
     "elapsed": 851,
     "status": "ok",
     "timestamp": 1576771937101,
     "user": {
      "displayName": "yuchi yao",
      "photoUrl": "",
      "userId": "00457884373990713813"
     },
     "user_tz": 300
    },
    "id": "Egbgwt9OhHrD",
    "outputId": "80682c53-6a15-4e87-ebbd-e588df79b3c9"
   },
   "outputs": [
    {
     "data": {
      "text/plain": [
       "53.916666666666664"
      ]
     },
     "execution_count": 115,
     "metadata": {},
     "output_type": "execute_result"
    }
   ],
   "source": [
    "#number of years\n",
    "T/12"
   ]
  },
  {
   "cell_type": "markdown",
   "metadata": {
    "colab_type": "text",
    "id": "3xVHr-nkUDH-"
   },
   "source": [
    "# Statistical tests\n",
    "\n",
    "In this section we will learn how to do hypothesis testing. Two main questions we try to answer here are: 1) if the average return of an asset is different from zero; 2) if different assets have different average returns."
   ]
  },
  {
   "cell_type": "markdown",
   "metadata": {
    "colab_type": "text",
    "id": "1TYqk8Mh55nE"
   },
   "source": [
    "## T-stat\n",
    "\n",
    "* T-stat for a given hypothesis $\\mu_{j}^0$\n",
    "\n",
    "$$t_j(\\mu_0)=\\frac{\\bar{R_j}-\\mu_{j}^0}{\\sigma(\\bar{R_j})}$$\n"
   ]
  },
  {
   "cell_type": "markdown",
   "metadata": {
    "colab_type": "text",
    "id": "R58QDxf36EwP"
   },
   "source": [
    "## One-sided hypothesis testing\n",
    "* For example lets assume we have strong theoretical reasons to believe that these assets must not have a negative expected returns. (True for the value-weighted stock market, less true for bonds)\n",
    "\n",
    "* So lets do a 1-sided test with 5% interval and ask what it is the largest expected return $X_j$ that we can say with 95% confidence that the asset j has expected return higher than $X_j$\n",
    "\n",
    "$$1.64=\\frac{\\bar{R_j}-\\mu_{j}^0}{\\sigma(\\bar{R_j})}$$\n",
    "\n",
    "* If we are evaluating the hypothesis that $\\mu_{j}=0$, we say that \n",
    "\n",
    "  * if $\\frac{\\bar{R_j}-0}{\\sigma(\\bar{R_j})}\\geq 1.64$, we can statistically reject that $\\mu_{j}=0$ with a 95% confidence (or alternatively: we can statistically reject that $\\mu_{j}=0$ with a 5% probabilit value (pvalue) )\n",
    "  * if $\\frac{\\bar{R_j}-0}{\\sigma(\\bar{R_j})}<1.64$, we fail to statistically reject that $\\mu_{j}=0$ with a 95% confidence (or alternatively: we fail to statistically reject that $\\mu_{j}=0$ with a 5% probability value (pvalue) )\n",
    "  \n",
    "\n",
    "* Equivalently we can also construct our confidence intervals for the expected mean\n",
    "\n",
    "$$\\mu_{j}^{-,95\\%}=\\bar{R_j}-1.64\\sigma(\\bar{R_j})$$\n",
    "\n",
    "$$\\mu_{j}^{+,95\\%}=\\bar{R_j}+1.64\\sigma(\\bar{R_j})$$\n",
    "\n",
    "\n",
    "* We say that this interval $[\\mu_{j}^{-,95\\%}, \\mu_{j}^{+,95\\%}]$ contains the true expected value with 95% probability"
   ]
  },
  {
   "cell_type": "code",
   "execution_count": 116,
   "metadata": {
    "colab": {
     "base_uri": "https://localhost:8080/",
     "height": 119
    },
    "colab_type": "code",
    "executionInfo": {
     "elapsed": 590,
     "status": "ok",
     "timestamp": 1576771944441,
     "user": {
      "displayName": "yuchi yao",
      "photoUrl": "",
      "userId": "00457884373990713813"
     },
     "user_tz": 300
    },
    "id": "cWGWxsBmYS3P",
    "outputId": "5e6cf846-e4ad-48d8-c596-c130fbdb49de"
   },
   "outputs": [
    {
     "name": "stdout",
     "output_type": "stream",
     "text": [
      "          avg_std       avg\n",
      "MKTUS    0.001735  0.005140\n",
      "BondUS   0.001377  0.002523\n",
      "EM       0.002344  0.006923\n",
      "MKTxUS   0.001836  0.004149\n",
      "BondxUS  0.000793  0.002054\n"
     ]
    }
   ],
   "source": [
    "print(ERstd)"
   ]
  },
  {
   "cell_type": "markdown",
   "metadata": {
    "colab_type": "text",
    "id": "QeItZd4MhHrF"
   },
   "source": [
    "Here is a look at t-stats relative to a zero null-hypothesis (which is what people often do)\n"
   ]
  },
  {
   "cell_type": "markdown",
   "metadata": {
    "colab_type": "text",
    "id": "-h8CNF13ZIFU"
   },
   "source": [
    "> Side comment: Why am using 1.64?\n",
    "\n",
    "Recall from Notebook 3:"
   ]
  },
  {
   "cell_type": "code",
   "execution_count": 117,
   "metadata": {
    "colab": {
     "base_uri": "https://localhost:8080/",
     "height": 34
    },
    "colab_type": "code",
    "executionInfo": {
     "elapsed": 538,
     "status": "ok",
     "timestamp": 1576771946193,
     "user": {
      "displayName": "yuchi yao",
      "photoUrl": "",
      "userId": "00457884373990713813"
     },
     "user_tz": 300
    },
    "id": "Hyk6bKoyZLN1",
    "outputId": "b4f651fc-f846-42d7-c51d-59167172b2f0"
   },
   "outputs": [
    {
     "data": {
      "text/plain": [
       "2.053748910631823"
      ]
     },
     "execution_count": 117,
     "metadata": {},
     "output_type": "execute_result"
    }
   ],
   "source": [
    "from scipy.stats import norm\n",
    "ps=norm(0,1)\n",
    "ps.isf(0.02)"
   ]
  },
  {
   "cell_type": "code",
   "execution_count": 118,
   "metadata": {
    "colab": {
     "base_uri": "https://localhost:8080/",
     "height": 204
    },
    "colab_type": "code",
    "executionInfo": {
     "elapsed": 422,
     "status": "ok",
     "timestamp": 1576771960759,
     "user": {
      "displayName": "yuchi yao",
      "photoUrl": "",
      "userId": "00457884373990713813"
     },
     "user_tz": 300
    },
    "id": "_ze7zkXuhHrG",
    "outputId": "4861328f-ab75-4895-bffd-4e4e18a78296"
   },
   "outputs": [
    {
     "data": {
      "text/html": [
       "<div>\n",
       "<style scoped>\n",
       "    .dataframe tbody tr th:only-of-type {\n",
       "        vertical-align: middle;\n",
       "    }\n",
       "\n",
       "    .dataframe tbody tr th {\n",
       "        vertical-align: top;\n",
       "    }\n",
       "\n",
       "    .dataframe thead th {\n",
       "        text-align: right;\n",
       "    }\n",
       "</style>\n",
       "<table border=\"1\" class=\"dataframe\">\n",
       "  <thead>\n",
       "    <tr style=\"text-align: right;\">\n",
       "      <th></th>\n",
       "      <th>avg_std</th>\n",
       "      <th>avg</th>\n",
       "      <th>t_stat</th>\n",
       "    </tr>\n",
       "  </thead>\n",
       "  <tbody>\n",
       "    <tr>\n",
       "      <th>MKTUS</th>\n",
       "      <td>0.001735</td>\n",
       "      <td>0.005140</td>\n",
       "      <td>2.962459</td>\n",
       "    </tr>\n",
       "    <tr>\n",
       "      <th>BondUS</th>\n",
       "      <td>0.001377</td>\n",
       "      <td>0.002523</td>\n",
       "      <td>1.832010</td>\n",
       "    </tr>\n",
       "    <tr>\n",
       "      <th>EM</th>\n",
       "      <td>0.002344</td>\n",
       "      <td>0.006923</td>\n",
       "      <td>2.953007</td>\n",
       "    </tr>\n",
       "    <tr>\n",
       "      <th>MKTxUS</th>\n",
       "      <td>0.001836</td>\n",
       "      <td>0.004149</td>\n",
       "      <td>2.259454</td>\n",
       "    </tr>\n",
       "    <tr>\n",
       "      <th>BondxUS</th>\n",
       "      <td>0.000793</td>\n",
       "      <td>0.002054</td>\n",
       "      <td>2.591087</td>\n",
       "    </tr>\n",
       "  </tbody>\n",
       "</table>\n",
       "</div>"
      ],
      "text/plain": [
       "          avg_std       avg    t_stat\n",
       "MKTUS    0.001735  0.005140  2.962459\n",
       "BondUS   0.001377  0.002523  1.832010\n",
       "EM       0.002344  0.006923  2.953007\n",
       "MKTxUS   0.001836  0.004149  2.259454\n",
       "BondxUS  0.000793  0.002054  2.591087"
      ]
     },
     "execution_count": 118,
     "metadata": {},
     "output_type": "execute_result"
    }
   ],
   "source": [
    "# we can look at the t-stats (against zero) for the assets\n",
    "# the average return divided by the average return estimator standard deviation\n",
    "ERstd=pd.concat([ERstd, Re.mean()/(Re.std()/(T**0.5))],axis=1)\n",
    "ERstd=ERstd.rename(columns={0:'t_stat'})\n",
    "ERstd"
   ]
  },
  {
   "cell_type": "code",
   "execution_count": 119,
   "metadata": {
    "colab": {
     "base_uri": "https://localhost:8080/",
     "height": 300
    },
    "colab_type": "code",
    "executionInfo": {
     "elapsed": 941,
     "status": "ok",
     "timestamp": 1576771966168,
     "user": {
      "displayName": "yuchi yao",
      "photoUrl": "",
      "userId": "00457884373990713813"
     },
     "user_tz": 300
    },
    "id": "MvPpWADNhHrI",
    "outputId": "f4b452cd-8158-45aa-9d2a-24d4ddda95fb"
   },
   "outputs": [
    {
     "data": {
      "image/png": "[encoded data removed]",
      "text/plain": [
       "<Figure size 432x288 with 1 Axes>"
      ]
     },
     "metadata": {
      "needs_background": "light"
     },
     "output_type": "display_data"
    }
   ],
   "source": [
    "# Plot t-stats for each asset\n",
    "ERstd.t_stat.plot.bar()\n",
    "plt.show()"
   ]
  },
  {
   "cell_type": "code",
   "execution_count": 120,
   "metadata": {
    "colab": {
     "base_uri": "https://localhost:8080/",
     "height": 300
    },
    "colab_type": "code",
    "executionInfo": {
     "elapsed": 732,
     "status": "ok",
     "timestamp": 1576771985379,
     "user": {
      "displayName": "yuchi yao",
      "photoUrl": "",
      "userId": "00457884373990713813"
     },
     "user_tz": 300
    },
    "id": "KfBHvEzJhHrM",
    "outputId": "a825cabb-d1f4-43d2-a1b6-07d2cdecc07b",
    "scrolled": true
   },
   "outputs": [
    {
     "data": {
      "image/png": "[encoded data removed]",
      "text/plain": [
       "<Figure size 432x288 with 1 Axes>"
      ]
     },
     "metadata": {
      "needs_background": "light"
     },
     "output_type": "display_data"
    }
   ],
   "source": [
    "# Plot the left hand side of the confidence interval and the average return \n",
    "#   for each asset\n",
    "ER0=pd.concat([Re.mean()-1.64*(Re.std()/(T**0.5)),Re.mean()],axis=1)\n",
    "ER0=ER0.rename(columns={0:'one-sided',1:'avg'})\n",
    "ER0.plot.bar()\n",
    "plt.show()"
   ]
  },
  {
   "cell_type": "markdown",
   "metadata": {
    "colab_type": "text",
    "id": "u_qx-3iza_VI"
   },
   "source": [
    "## Two-sided intervals\n",
    "\n",
    "* If we are more agnostic and believe less in the economic theories we have,\n",
    "\n",
    "* Or the theories are silent\n",
    "\n",
    "* For example, the theories are silent in long-short portfolios of equities, for example, the portfolio that goes long the US market and sells the international market.\n",
    "\n",
    "* Then we must do a two-sided interval"
   ]
  },
  {
   "cell_type": "markdown",
   "metadata": {
    "colab_type": "text",
    "id": "yV6ImzsvbXSK"
   },
   "source": [
    "> What is the 95% threshold for a two sided test?"
   ]
  },
  {
   "cell_type": "code",
   "execution_count": 121,
   "metadata": {
    "colab": {
     "base_uri": "https://localhost:8080/",
     "height": 34
    },
    "colab_type": "code",
    "executionInfo": {
     "elapsed": 431,
     "status": "ok",
     "timestamp": 1576771989320,
     "user": {
      "displayName": "yuchi yao",
      "photoUrl": "",
      "userId": "00457884373990713813"
     },
     "user_tz": 300
    },
    "id": "lMob3QZObcJW",
    "outputId": "f03f216a-221e-4a57-ce94-e50a0054f47c"
   },
   "outputs": [
    {
     "data": {
      "text/plain": [
       "1.9599639845400545"
      ]
     },
     "execution_count": 121,
     "metadata": {},
     "output_type": "execute_result"
    }
   ],
   "source": [
    "ps.isf(0.05/2)"
   ]
  },
  {
   "cell_type": "code",
   "execution_count": 122,
   "metadata": {
    "colab": {
     "base_uri": "https://localhost:8080/",
     "height": 300
    },
    "colab_type": "code",
    "executionInfo": {
     "elapsed": 1093,
     "status": "ok",
     "timestamp": 1576771992155,
     "user": {
      "displayName": "yuchi yao",
      "photoUrl": "",
      "userId": "00457884373990713813"
     },
     "user_tz": 300
    },
    "id": "xkQmt3NbhHrO",
    "outputId": "d8ded182-3357-44d2-ca2a-90b8a41acb6c",
    "scrolled": true
   },
   "outputs": [
    {
     "data": {
      "image/png": "[encoded data removed]",
      "text/plain": [
       "<Figure size 432x288 with 1 Axes>"
      ]
     },
     "metadata": {
      "needs_background": "light"
     },
     "output_type": "display_data"
    }
   ],
   "source": [
    "# Plot the lower bar of the two-sided confidence interval\n",
    "\n",
    "ER0['twosided']=Re.mean()-1.96*(Re.std()/(Re.shape[0]**0.5))\n",
    "ER0.plot.bar()\n",
    "plt.show()"
   ]
  },
  {
   "cell_type": "markdown",
   "metadata": {
    "colab_type": "text",
    "id": "wVmSALZchHrQ"
   },
   "source": [
    "## Pvalues\n"
   ]
  },
  {
   "cell_type": "markdown",
   "metadata": {
    "colab_type": "text",
    "id": "0Mw9Q7NwcPif"
   },
   "source": [
    "* Instead of using our t-stats to do a test at a particular level of significance, say 95%\n",
    "\n",
    "* We can use the normal cdf to find p-value, which gives us the highest level of significance our data is consistent with\n",
    "\n",
    "* Here again, against the zero null hypothesis"
   ]
  },
  {
   "cell_type": "code",
   "execution_count": 123,
   "metadata": {
    "colab": {},
    "colab_type": "code",
    "id": "3ZMydk5RhHrQ"
   },
   "outputs": [],
   "source": [
    "# We can also construct p'values\n",
    "from scipy.stats import norm\n",
    "# and I am creating this `ps` object which is the standard normal distribution\n",
    "ps=norm(0,1)"
   ]
  },
  {
   "cell_type": "code",
   "execution_count": 124,
   "metadata": {
    "colab": {
     "base_uri": "https://localhost:8080/",
     "height": 34
    },
    "colab_type": "code",
    "executionInfo": {
     "elapsed": 602,
     "status": "ok",
     "timestamp": 1576795511834,
     "user": {
      "displayName": "yuchi yao",
      "photoUrl": "",
      "userId": "00457884373990713813"
     },
     "user_tz": 300
    },
    "id": "44jw4AbfVX5R",
    "outputId": "93c8d624-1336-41af-ca54-5dfa11627d82"
   },
   "outputs": [
    {
     "data": {
      "text/plain": [
       "1.6448536269514722"
      ]
     },
     "execution_count": 124,
     "metadata": {},
     "output_type": "execute_result"
    }
   ],
   "source": [
    "ps.isf(0.95)\n",
    "ps.ppf(0.95)"
   ]
  },
  {
   "cell_type": "code",
   "execution_count": 125,
   "metadata": {
    "colab": {
     "base_uri": "https://localhost:8080/",
     "height": 304
    },
    "colab_type": "code",
    "executionInfo": {
     "elapsed": 648,
     "status": "ok",
     "timestamp": 1576772000561,
     "user": {
      "displayName": "yuchi yao",
      "photoUrl": "",
      "userId": "00457884373990713813"
     },
     "user_tz": 300
    },
    "id": "EcUQVgpuddor",
    "outputId": "edf3a778-14a1-45f2-c8a4-a1d983ab6f73"
   },
   "outputs": [
    {
     "data": {
      "image/png": "[encoded data removed]",
      "text/plain": [
       "<Figure size 432x288 with 1 Axes>"
      ]
     },
     "metadata": {
      "needs_background": "light"
     },
     "output_type": "display_data"
    }
   ],
   "source": [
    "ER0['pvalues(one-sided)']=1-ps.cdf((Re.mean()/(Re.std()/(Re.shape[0]**0.5))).values)\n",
    "ER0['pvalues(two-sided)']=(1-ps.cdf(np.abs((Re.mean()/(Re.std()/(Re.shape[0]**0.5))).values)))*2\n",
    "ER0[['pvalues(one-sided)','pvalues(two-sided)']].plot.bar()\n",
    "plt.show()"
   ]
  },
  {
   "cell_type": "code",
   "execution_count": 126,
   "metadata": {
    "colab": {
     "base_uri": "https://localhost:8080/",
     "height": 265
    },
    "colab_type": "code",
    "executionInfo": {
     "elapsed": 666,
     "status": "ok",
     "timestamp": 1576772785743,
     "user": {
      "displayName": "yuchi yao",
      "photoUrl": "",
      "userId": "00457884373990713813"
     },
     "user_tz": 300
    },
    "id": "vXY4803ahHrS",
    "outputId": "b1f2bbe4-9ea2-4500-9450-411004787da6"
   },
   "outputs": [
    {
     "data": {
      "image/png": "[encoded data removed]",
      "text/plain": [
       "<Figure size 432x288 with 1 Axes>"
      ]
     },
     "metadata": {
      "needs_background": "light"
     },
     "output_type": "display_data"
    }
   ],
   "source": [
    "# lets look at a two-sided 95% confidence interval (I am annulaizing for convenience)\n",
    "\n",
    "# (1) choose the confidence level\n",
    "interval=0.95\n",
    "# in the two-sided case, tail probability is half of (1-interval)\n",
    "tails=(1-interval)/2\n",
    "\n",
    "# (2) construct a normal distribution using the mean and standard deviation of a chosen asset\n",
    "asset='MKTUS'\n",
    "mu=Re[asset].mean()\n",
    "mu_sigma=Re[asset].std()/Re[asset].count()**0.5\n",
    "# do also at yearly, but do so with explanation\n",
    "\n",
    "p=norm(mu,mu_sigma)\n",
    "\n",
    "# (3) get the value of the left tail and the right tail\n",
    "lefttail=p.ppf(tails)\n",
    "righttail=p.ppf(1-tails)\n",
    "# note that x=pnorm.isf(q) is the inverse of the CDF.\n",
    "# The inverse CDF at `q` is also referred to as the `q quantile` of a distribution.\n",
    "# For a continuous distribution `DIST`, the inverse CDF at q is the value x such that CDF[DIST,x]=q. \n",
    "# So there is exactly probability q that the realization is higher than x.\n",
    "\n",
    "# or equivalently\n",
    "#lefttail=mu+pnorm.isf(tails)*musigma\n",
    "#righttail=mu+pnorm.isf(1-tails)*musigma\n",
    "\n",
    "# (4) plot\n",
    "grid=np.linspace(lefttail,righttail,1000)\n",
    "# this constructs a grid going spanning the region given by the confidence interval\n",
    "\n",
    "plt.plot(grid*12, p.pdf(grid))\n",
    "plt.show()"
   ]
  },
  {
   "cell_type": "markdown",
   "metadata": {
    "colab_type": "text",
    "id": "c4nAlfoIhHrT"
   },
   "source": [
    "## Test if all assets have the same average return\n",
    "\n",
    "* A more relevant test is whether all these assets have the same average return\n",
    "\n",
    "> Why that is the most relevant hypothesis for us as we do MV optimization?\n",
    "\n",
    "* For assets that have a average return below the average, I compute the probability that this expected return is indeed below, and  for assets that have the avg return above avg I compute the probability that the expected return is indeed above the mean across assets\n",
    "\n",
    "* I will simply use the absolute value to do that"
   ]
  },
  {
   "cell_type": "code",
   "execution_count": 127,
   "metadata": {
    "colab": {
     "base_uri": "https://localhost:8080/",
     "height": 119
    },
    "colab_type": "code",
    "executionInfo": {
     "elapsed": 418,
     "status": "ok",
     "timestamp": 1576779855498,
     "user": {
      "displayName": "yuchi yao",
      "photoUrl": "",
      "userId": "00457884373990713813"
     },
     "user_tz": 300
    },
    "id": "Hlad2hfRZwm8",
    "outputId": "cfa38dbf-5349-4058-db08-3cd6b32ee8b4"
   },
   "outputs": [
    {
     "data": {
      "text/plain": [
       "MKTUS      0.005140\n",
       "BondUS     0.002523\n",
       "EM         0.006923\n",
       "MKTxUS     0.004149\n",
       "BondxUS    0.002054\n",
       "dtype: float64"
      ]
     },
     "execution_count": 127,
     "metadata": {},
     "output_type": "execute_result"
    }
   ],
   "source": [
    "Re.mean()"
   ]
  },
  {
   "cell_type": "code",
   "execution_count": 128,
   "metadata": {
    "colab": {
     "base_uri": "https://localhost:8080/",
     "height": 436
    },
    "colab_type": "code",
    "executionInfo": {
     "elapsed": 909,
     "status": "ok",
     "timestamp": 1576781022364,
     "user": {
      "displayName": "yuchi yao",
      "photoUrl": "",
      "userId": "00457884373990713813"
     },
     "user_tz": 300
    },
    "id": "WbZMFF6xhHrT",
    "outputId": "50c17760-94c4-4d37-fe14-eaaa1c08d9a4"
   },
   "outputs": [
    {
     "name": "stdout",
     "output_type": "stream",
     "text": [
      "         one-sided       avg  twosided  pvalues(one-sided)  \\\n",
      "MKTUS     0.002295  0.005140  0.001739            0.001526   \n",
      "BondUS    0.000264  0.002523 -0.000176            0.033475   \n",
      "EM        0.003078  0.006923  0.002328            0.001573   \n",
      "MKTxUS    0.001137  0.004149  0.000550            0.011928   \n",
      "BondxUS   0.000754  0.002054  0.000500            0.004784   \n",
      "\n",
      "         pvalues(two-sided)  same_avg_pvalue  \n",
      "MKTUS              0.003052         0.571257  \n",
      "BondUS             0.066950         0.235012  \n",
      "EM                 0.003147         0.238187  \n",
      "MKTxUS             0.023855         0.996144  \n",
      "BondxUS            0.009567         0.007963  \n"
     ]
    },
    {
     "data": {
      "image/png": "[encoded data removed]",
      "text/plain": [
       "<Figure size 432x288 with 1 Axes>"
      ]
     },
     "metadata": {
      "needs_background": "light"
     },
     "output_type": "display_data"
    }
   ],
   "source": [
    "\n",
    "# ER0['same_avg_pvalue']=\\\n",
    "# (1-pnorm.cdf(((Re.mean()-Re.mean().mean())/(Re.std()/(Re.shape[0]**0.5))).values))*(Re.mean()>Re.mean().mean())\\\n",
    "# +(pnorm.cdf(((Re.mean()-Re.mean().mean())/(Re.std()/(Re.shape[0]**0.5))).values))*(Re.mean()<=Re.mean().mean())\n",
    "#(probability of being above the average)*(average above avg across assets?)\n",
    "#(probability of being below the average)*(average below avg across assets?)\n",
    "\n",
    "# or much more easily:\n",
    "# (1) save the standard deviation of the average excess return of each asset as `stdmean`\n",
    "stdmean=Re.std()/(Re.shape[0]**0.5)\n",
    "# (2) construct the t-stat for each asset\n",
    "tstatmean=np.abs((Re.mean()-Re.mean().mean())/stdmean).values\n",
    "# (3) calculate p-values for two-sided hypothesis testing\n",
    "ER0['same_avg_pvalue']=(1-ps.cdf(tstatmean))*2\n",
    "\n",
    "print(ER0)\n",
    "\n",
    "# pvalue is the probability that the null hupothesis is right. So in this case it tells us that there is \n",
    "# a 60% probability that the mktus return equals to the average  and 100% probability that the MKTxUS expected return\n",
    "# is equal to the average of all assets average returns\n",
    "\n",
    "# here we can only clearly reject the hypothesis that non us bonds expected returns are equal to the average returns\n",
    "ER0.same_avg_pvalue.plot.bar()\n",
    "plt.show()"
   ]
  },
  {
   "cell_type": "markdown",
   "metadata": {
    "colab_type": "text",
    "id": "1Tmbd66teq_P"
   },
   "source": [
    "> Can you interepret this plot?"
   ]
  },
  {
   "cell_type": "code",
   "execution_count": 182,
   "metadata": {
    "colab": {
     "base_uri": "https://localhost:8080/",
     "height": 204
    },
    "colab_type": "code",
    "executionInfo": {
     "elapsed": 445,
     "status": "ok",
     "timestamp": 1576782093471,
     "user": {
      "displayName": "yuchi yao",
      "photoUrl": "",
      "userId": "00457884373990713813"
     },
     "user_tz": 300
    },
    "id": "VPCbIfipelZE",
    "outputId": "0faaae20-6735-4346-caf3-0a6ac3969d8c"
   },
   "outputs": [
    {
     "data": {
      "text/html": [
       "<div>\n",
       "<style scoped>\n",
       "    .dataframe tbody tr th:only-of-type {\n",
       "        vertical-align: middle;\n",
       "    }\n",
       "\n",
       "    .dataframe tbody tr th {\n",
       "        vertical-align: top;\n",
       "    }\n",
       "\n",
       "    .dataframe thead th {\n",
       "        text-align: right;\n",
       "    }\n",
       "</style>\n",
       "<table border=\"1\" class=\"dataframe\">\n",
       "  <thead>\n",
       "    <tr style=\"text-align: right;\">\n",
       "      <th></th>\n",
       "      <th>MKTUS-1.64std</th>\n",
       "      <th>samplemean</th>\n",
       "    </tr>\n",
       "  </thead>\n",
       "  <tbody>\n",
       "    <tr>\n",
       "      <th>MKTUS</th>\n",
       "      <td>-0.112862</td>\n",
       "      <td>0.254790</td>\n",
       "    </tr>\n",
       "    <tr>\n",
       "      <th>BondUS</th>\n",
       "      <td>0.309397</td>\n",
       "      <td>0.197599</td>\n",
       "    </tr>\n",
       "    <tr>\n",
       "      <th>EM</th>\n",
       "      <td>0.325360</td>\n",
       "      <td>0.222844</td>\n",
       "    </tr>\n",
       "    <tr>\n",
       "      <th>MKTxUS</th>\n",
       "      <td>0.048003</td>\n",
       "      <td>-0.142493</td>\n",
       "    </tr>\n",
       "    <tr>\n",
       "      <th>BondxUS</th>\n",
       "      <td>0.430103</td>\n",
       "      <td>0.467259</td>\n",
       "    </tr>\n",
       "  </tbody>\n",
       "</table>\n",
       "</div>"
      ],
      "text/plain": [
       "         MKTUS-1.64std  samplemean\n",
       "MKTUS        -0.112862    0.254790\n",
       "BondUS        0.309397    0.197599\n",
       "EM            0.325360    0.222844\n",
       "MKTxUS        0.048003   -0.142493\n",
       "BondxUS       0.430103    0.467259"
      ]
     },
     "execution_count": 182,
     "metadata": {},
     "output_type": "execute_result"
    }
   ],
   "source": [
    "# lets look at what happens with weights and Sharpes as we pertubate the mean of the market return by one standard deviation\n",
    "Wmve=pd.DataFrame([],index=Re.columns)\n",
    "\n",
    "Ere=Re.mean()\n",
    "T=Re.shape[0]\n",
    "# lets perturb the market mean using the 1 sided 95% confidence\n",
    "\n",
    "ERemsig=Ere.copy()\n",
    "asset='MKTUS'\n",
    "pertubation=1.64\n",
    "mu=Re[asset].mean()\n",
    "musigma=Re[asset].std()/T**0.5\n",
    "ERemsig[asset]=mu-pertubation*musigma\n",
    "\n",
    "# mve for perturbed mean\n",
    "Wmve[asset+'-'+str(pertubation)+'std'] =np.linalg.inv(Cove) @ ERemsig.values\n",
    "\n",
    "# mve for sample mean\n",
    "Wmve['samplemean'] =np.linalg.inv(Cove) @ ERe.values\n",
    "\n",
    "# why I am using absolute values to normalize the weights?\n",
    "Wmve=Wmve/Wmve.sum().abs()\n",
    "Wmve\n"
   ]
  },
  {
   "cell_type": "code",
   "execution_count": 183,
   "metadata": {},
   "outputs": [
    {
     "data": {
      "text/html": [
       "<div>\n",
       "<style scoped>\n",
       "    .dataframe tbody tr th:only-of-type {\n",
       "        vertical-align: middle;\n",
       "    }\n",
       "\n",
       "    .dataframe tbody tr th {\n",
       "        vertical-align: top;\n",
       "    }\n",
       "\n",
       "    .dataframe thead th {\n",
       "        text-align: right;\n",
       "    }\n",
       "</style>\n",
       "<table border=\"1\" class=\"dataframe\">\n",
       "  <thead>\n",
       "    <tr style=\"text-align: right;\">\n",
       "      <th></th>\n",
       "      <th>MKTUS</th>\n",
       "      <th>BondUS</th>\n",
       "      <th>EM</th>\n",
       "      <th>MKTxUS</th>\n",
       "      <th>BondxUS</th>\n",
       "    </tr>\n",
       "  </thead>\n",
       "  <tbody>\n",
       "    <tr>\n",
       "      <th>MKTUS</th>\n",
       "      <td>1.000000</td>\n",
       "      <td>0.071609</td>\n",
       "      <td>0.491055</td>\n",
       "      <td>0.613081</td>\n",
       "      <td>0.210263</td>\n",
       "    </tr>\n",
       "    <tr>\n",
       "      <th>BondUS</th>\n",
       "      <td>0.071609</td>\n",
       "      <td>1.000000</td>\n",
       "      <td>-0.097846</td>\n",
       "      <td>-0.007781</td>\n",
       "      <td>0.373399</td>\n",
       "    </tr>\n",
       "    <tr>\n",
       "      <th>EM</th>\n",
       "      <td>0.491055</td>\n",
       "      <td>-0.097846</td>\n",
       "      <td>1.000000</td>\n",
       "      <td>0.596177</td>\n",
       "      <td>0.207206</td>\n",
       "    </tr>\n",
       "    <tr>\n",
       "      <th>MKTxUS</th>\n",
       "      <td>0.613081</td>\n",
       "      <td>-0.007781</td>\n",
       "      <td>0.596177</td>\n",
       "      <td>1.000000</td>\n",
       "      <td>0.447951</td>\n",
       "    </tr>\n",
       "    <tr>\n",
       "      <th>BondxUS</th>\n",
       "      <td>0.210263</td>\n",
       "      <td>0.373399</td>\n",
       "      <td>0.207206</td>\n",
       "      <td>0.447951</td>\n",
       "      <td>1.000000</td>\n",
       "    </tr>\n",
       "  </tbody>\n",
       "</table>\n",
       "</div>"
      ],
      "text/plain": [
       "            MKTUS    BondUS        EM    MKTxUS   BondxUS\n",
       "MKTUS    1.000000  0.071609  0.491055  0.613081  0.210263\n",
       "BondUS   0.071609  1.000000 -0.097846 -0.007781  0.373399\n",
       "EM       0.491055 -0.097846  1.000000  0.596177  0.207206\n",
       "MKTxUS   0.613081 -0.007781  0.596177  1.000000  0.447951\n",
       "BondxUS  0.210263  0.373399  0.207206  0.447951  1.000000"
      ]
     },
     "execution_count": 183,
     "metadata": {},
     "output_type": "execute_result"
    }
   ],
   "source": [
    "Re.corr()"
   ]
  },
  {
   "cell_type": "code",
   "execution_count": 184,
   "metadata": {
    "colab": {
     "base_uri": "https://localhost:8080/",
     "height": 265
    },
    "colab_type": "code",
    "executionInfo": {
     "elapsed": 446,
     "status": "ok",
     "timestamp": 1576782505309,
     "user": {
      "displayName": "yuchi yao",
      "photoUrl": "",
      "userId": "00457884373990713813"
     },
     "user_tz": 300
    },
    "id": "K3CxjqNxhHrb",
    "outputId": "a02ec5ff-aa65-4a0e-db3a-142ada4deb98"
   },
   "outputs": [
    {
     "data": {
      "image/png": "[encoded data removed]",
      "text/plain": [
       "<Figure size 432x288 with 2 Axes>"
      ]
     },
     "metadata": {
      "needs_background": "light"
     },
     "output_type": "display_data"
    }
   ],
   "source": [
    "# lets compare with the MVE weights using the sample mean\n",
    "plt.subplot(2,1,1)\n",
    "plt.bar(x=ERe.index,height=Wmve['samplemean'])\n",
    "plt.subplot(2,1,2)\n",
    "plt.bar(x=ERe.index,height=Wmve['MKTUS-1.64std']/np.abs(Wmve['MKTUS-1.64std'].sum()))\n",
    "plt.show()\n",
    "\n",
    "# observation: In class I got all confused with this plot. Basically, I was dividing by the sum of the weights to normalize \n",
    "# the weights so we could clearly see in the plot (again, only relative weights matters becasue we are looking as excess returns)\n",
    "# but obviously I cannot multiply/divide by a negative number otherwise I will be shorting instead of going long the tangency portfolio\n",
    "# which would be a stupid thing to do! \n",
    "# So Wmve['MKTUS-1.96std']/(Wmve['MKTUS-1.96std'].sum())\n",
    "# was doing two things, It was normalizing but also multiplying by a negative number since (Wmve['MKTUS-1.96std'].sum())<0\n",
    "# So now by having the abosulte value function I am just normalizing."
   ]
  }
 ],
 "metadata": {
  "colab": {
   "collapsed_sections": [],
   "name": "Notebook 5.ipynb",
   "provenance": [],
   "toc_visible": true
  },
  "kernelspec": {
   "display_name": "Python 3",
   "language": "python",
   "name": "python3"
  },
  "language_info": {
   "codemirror_mode": {
    "name": "ipython",
    "version": 3
   },
   "file_extension": ".py",
   "mimetype": "text/x-python",
   "name": "python",
   "nbconvert_exporter": "python",
   "pygments_lexer": "ipython3",
   "version": "3.8.5"
  }
 },
 "nbformat": 4,
 "nbformat_minor": 4
}
