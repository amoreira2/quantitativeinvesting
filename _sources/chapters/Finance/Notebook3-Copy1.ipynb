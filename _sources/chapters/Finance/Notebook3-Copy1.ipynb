{
 "cells": [
  {
   "cell_type": "markdown",
   "metadata": {
    "colab_type": "text",
    "id": "v7evuBpxySRq"
   },
   "source": [
    "\n",
    "\n",
    "\n",
    "# Returns\n",
    "\n",
    "\n"
   ]
  },
  {
   "cell_type": "markdown",
   "metadata": {
    "colab_type": "text",
    "id": "ijxKfmwYySRs"
   },
   "source": [
    "I this section we define what are returns, which is the key variable of analysis in finance (and this class)\n",
    "\n",
    "\n",
    "* * *\n",
    " * Return distributions and moments of a return distribution\n",
    " * Annualization of returns\n",
    " * Log returns\n",
    " * Excess returns and risk premiums\n",
    " * Variances and Covariances\n"
   ]
  },
  {
   "cell_type": "code",
   "execution_count": 1,
   "metadata": {
    "colab": {
     "base_uri": "https://localhost:8080/",
     "height": 204
    },
    "colab_type": "code",
    "executionInfo": {
     "elapsed": 1104,
     "status": "ok",
     "timestamp": 1576432667798,
     "user": {
      "displayName": "yuchi yao",
      "photoUrl": "",
      "userId": "00457884373990713813"
     },
     "user_tz": 300
    },
    "id": "KOA14rTiySRt",
    "outputId": "91cd8520-5466-4619-bb3a-47cac65d0cdb"
   },
   "outputs": [
    {
     "name": "stdout",
     "output_type": "stream",
     "text": [
      "<class 'pandas.core.frame.DataFrame'>\n",
      "DatetimeIndex: 647 entries, 1963-02-28 to 2016-12-31\n",
      "Data columns (total 6 columns):\n",
      " #   Column            Non-Null Count  Dtype  \n",
      "---  ------            --------------  -----  \n",
      " 0   RF                647 non-null    float64\n",
      " 1   MKT               647 non-null    float64\n",
      " 2   USA30yearGovBond  647 non-null    float64\n",
      " 3   EmergingMarkets   647 non-null    float64\n",
      " 4   WorldxUSA         647 non-null    float64\n",
      " 5   WorldxUSAGovBond  646 non-null    float64\n",
      "dtypes: float64(6)\n",
      "memory usage: 35.4 KB\n"
     ]
    }
   ],
   "source": [
    "import pandas as pd\n",
    "import numpy as np\n",
    "import matplotlib.pyplot as plt\n",
    "%matplotlib inline\n",
    "#GlobalFinMonthly\n",
    "url=\"https://www.dropbox.com/s/3k35mt3t57ygff2/GlobalFinMonthly.csv?dl=1\"\n",
    "Data = pd.read_csv(url,na_values=-99)\n",
    "# tell python Date is date:\n",
    "Data['Date']=pd.to_datetime(Data['Date'])\n",
    "# set an an index\n",
    "Data=Data.set_index(['Date'])\n",
    "\n",
    "Data.info()"
   ]
  },
  {
   "cell_type": "code",
   "execution_count": 3,
   "metadata": {},
   "outputs": [
    {
     "data": {
      "text/html": [
       "<div>\n",
       "<style scoped>\n",
       "    .dataframe tbody tr th:only-of-type {\n",
       "        vertical-align: middle;\n",
       "    }\n",
       "\n",
       "    .dataframe tbody tr th {\n",
       "        vertical-align: top;\n",
       "    }\n",
       "\n",
       "    .dataframe thead th {\n",
       "        text-align: right;\n",
       "    }\n",
       "</style>\n",
       "<table border=\"1\" class=\"dataframe\">\n",
       "  <thead>\n",
       "    <tr style=\"text-align: right;\">\n",
       "      <th></th>\n",
       "      <th>RF</th>\n",
       "      <th>MKT</th>\n",
       "      <th>USA30yearGovBond</th>\n",
       "      <th>EmergingMarkets</th>\n",
       "      <th>WorldxUSA</th>\n",
       "      <th>WorldxUSAGovBond</th>\n",
       "    </tr>\n",
       "    <tr>\n",
       "      <th>Date</th>\n",
       "      <th></th>\n",
       "      <th></th>\n",
       "      <th></th>\n",
       "      <th></th>\n",
       "      <th></th>\n",
       "      <th></th>\n",
       "    </tr>\n",
       "  </thead>\n",
       "  <tbody>\n",
       "    <tr>\n",
       "      <th>1963-02-28</th>\n",
       "      <td>0.0023</td>\n",
       "      <td>-0.0215</td>\n",
       "      <td>-0.001878</td>\n",
       "      <td>0.098222</td>\n",
       "      <td>-0.002773</td>\n",
       "      <td>NaN</td>\n",
       "    </tr>\n",
       "    <tr>\n",
       "      <th>1963-03-31</th>\n",
       "      <td>0.0023</td>\n",
       "      <td>0.0331</td>\n",
       "      <td>0.003342</td>\n",
       "      <td>0.014149</td>\n",
       "      <td>0.000371</td>\n",
       "      <td>0.001913</td>\n",
       "    </tr>\n",
       "    <tr>\n",
       "      <th>1963-04-30</th>\n",
       "      <td>0.0025</td>\n",
       "      <td>0.0476</td>\n",
       "      <td>-0.001843</td>\n",
       "      <td>-0.147055</td>\n",
       "      <td>-0.003336</td>\n",
       "      <td>0.008002</td>\n",
       "    </tr>\n",
       "    <tr>\n",
       "      <th>1963-05-31</th>\n",
       "      <td>0.0024</td>\n",
       "      <td>0.0200</td>\n",
       "      <td>-0.001807</td>\n",
       "      <td>-0.012172</td>\n",
       "      <td>-0.000186</td>\n",
       "      <td>0.004689</td>\n",
       "    </tr>\n",
       "    <tr>\n",
       "      <th>1963-06-30</th>\n",
       "      <td>0.0023</td>\n",
       "      <td>-0.0177</td>\n",
       "      <td>0.001666</td>\n",
       "      <td>-0.055699</td>\n",
       "      <td>-0.011160</td>\n",
       "      <td>0.003139</td>\n",
       "    </tr>\n",
       "  </tbody>\n",
       "</table>\n",
       "</div>"
      ],
      "text/plain": [
       "                RF     MKT  USA30yearGovBond  EmergingMarkets  WorldxUSA  \\\n",
       "Date                                                                       \n",
       "1963-02-28  0.0023 -0.0215         -0.001878         0.098222  -0.002773   \n",
       "1963-03-31  0.0023  0.0331          0.003342         0.014149   0.000371   \n",
       "1963-04-30  0.0025  0.0476         -0.001843        -0.147055  -0.003336   \n",
       "1963-05-31  0.0024  0.0200         -0.001807        -0.012172  -0.000186   \n",
       "1963-06-30  0.0023 -0.0177          0.001666        -0.055699  -0.011160   \n",
       "\n",
       "            WorldxUSAGovBond  \n",
       "Date                          \n",
       "1963-02-28               NaN  \n",
       "1963-03-31          0.001913  \n",
       "1963-04-30          0.008002  \n",
       "1963-05-31          0.004689  \n",
       "1963-06-30          0.003139  "
      ]
     },
     "execution_count": 3,
     "metadata": {},
     "output_type": "execute_result"
    }
   ],
   "source": [
    "Data.head()"
   ]
  },
  {
   "cell_type": "markdown",
   "metadata": {
    "colab_type": "text",
    "id": "EQIFToe9ySRw",
    "toc-hr-collapsed": true
   },
   "source": [
    "##  Distribution of Returns\n",
    "\n",
    "Lets start by looking at the moments of the distribution of returns for the \"market\" portfolio\n",
    "\n",
    "This is really the portfolio of all the stocks listed in the United States\n",
    "\n",
    "To be more precise, it is the value-weighted basket of these stocks\n",
    "\n"
   ]
  },
  {
   "cell_type": "markdown",
   "metadata": {
    "colab_type": "text",
    "id": "ednaCanAOZAg"
   },
   "source": [
    "### What does value weighted mean?\n",
    "\n",
    "$$w_{i,t}=\\frac{Price_{i,t}*NShares_{i,t}}{\\sum_{i=1}^I Price_{i,t}*NShares_{i,t}}$$\n",
    "\n",
    "What is $i$ and $I$?"
   ]
  },
  {
   "cell_type": "markdown",
   "metadata": {
    "colab_type": "text",
    "id": "wIIiHJu1O0Pz"
   },
   "source": [
    "### Mean and Standard Deviation"
   ]
  },
  {
   "cell_type": "code",
   "execution_count": 4,
   "metadata": {
    "colab": {
     "base_uri": "https://localhost:8080/",
     "height": 34
    },
    "colab_type": "code",
    "executionInfo": {
     "elapsed": 382,
     "status": "ok",
     "timestamp": 1576432670668,
     "user": {
      "displayName": "yuchi yao",
      "photoUrl": "",
      "userId": "00457884373990713813"
     },
     "user_tz": 300
    },
    "id": "A0KLBYt4ySRx",
    "outputId": "3448b50f-a3d1-4658-bb51-f6fa785a6474"
   },
   "outputs": [
    {
     "data": {
      "text/plain": [
       "0.9051777434312205"
      ]
     },
     "execution_count": 4,
     "metadata": {},
     "output_type": "execute_result"
    }
   ],
   "source": [
    "# looking at it's mean\n",
    "Data['MKT'].mean()*100\n",
    "\n",
    "# what does this number mean?"
   ]
  },
  {
   "cell_type": "code",
   "execution_count": 6,
   "metadata": {
    "colab": {
     "base_uri": "https://localhost:8080/",
     "height": 34
    },
    "colab_type": "code",
    "executionInfo": {
     "elapsed": 349,
     "status": "ok",
     "timestamp": 1576432672605,
     "user": {
      "displayName": "yuchi yao",
      "photoUrl": "",
      "userId": "00457884373990713813"
     },
     "user_tz": 300
    },
    "id": "rUS4pZqMySR0",
    "outputId": "a18578ba-3d0a-41a0-abf0-d5720cb31cc5"
   },
   "outputs": [
    {
     "data": {
      "text/plain": [
       "4.400314890674189"
      ]
     },
     "execution_count": 6,
     "metadata": {},
     "output_type": "execute_result"
    }
   ],
   "source": [
    "# looking at the market standard deviation\n",
    "\n",
    "Data['MKT'].std()*100\n",
    "\n",
    "# what does this number mean?"
   ]
  },
  {
   "cell_type": "code",
   "execution_count": 10,
   "metadata": {
    "colab": {
     "base_uri": "https://localhost:8080/",
     "height": 282
    },
    "colab_type": "code",
    "executionInfo": {
     "elapsed": 514,
     "status": "ok",
     "timestamp": 1576432674302,
     "user": {
      "displayName": "yuchi yao",
      "photoUrl": "",
      "userId": "00457884373990713813"
     },
     "user_tz": 300
    },
    "id": "U8ZfHJoMySR2",
    "outputId": "7c6e634b-4cb8-4120-e914-8b33e3b8a4e1"
   },
   "outputs": [
    {
     "data": {
      "text/plain": [
       "<matplotlib.axes._subplots.AxesSubplot at 0x272130fc760>"
      ]
     },
     "execution_count": 10,
     "metadata": {},
     "output_type": "execute_result"
    },
    {
     "data": {
      "image/png": "[encoded data removed]",
      "text/plain": [
       "<Figure size 432x288 with 1 Axes>"
      ]
     },
     "metadata": {
      "needs_background": "light"
     },
     "output_type": "display_data"
    }
   ],
   "source": [
    "# to have a sense of what that means lets look at the histgram of the distribution of returns\n",
    "\n",
    "(Data.MKT*100).hist(bins=50)\n",
    "\n",
    "# what do we see?\n",
    "\n",
    "# # centered around the mean, the amount of variation around the center is captured by the standard deviation"
   ]
  },
  {
   "cell_type": "code",
   "execution_count": 11,
   "metadata": {},
   "outputs": [
    {
     "data": {
      "text/plain": [
       "-4.795454545454545"
      ]
     },
     "execution_count": 11,
     "metadata": {},
     "output_type": "execute_result"
    }
   ],
   "source": [
    "(0.9-22)/4.4"
   ]
  },
  {
   "cell_type": "code",
   "execution_count": 12,
   "metadata": {
    "colab": {
     "base_uri": "https://localhost:8080/",
     "height": 296
    },
    "colab_type": "code",
    "executionInfo": {
     "elapsed": 605,
     "status": "ok",
     "timestamp": 1576432676802,
     "user": {
      "displayName": "yuchi yao",
      "photoUrl": "",
      "userId": "00457884373990713813"
     },
     "user_tz": 300
    },
    "id": "QY8I1nefySR5",
    "outputId": "6106c842-081f-40f7-b13a-fd021b3fc9b0"
   },
   "outputs": [
    {
     "data": {
      "text/plain": [
       "<matplotlib.axes._subplots.AxesSubplot at 0x272131fde20>"
      ]
     },
     "execution_count": 12,
     "metadata": {},
     "output_type": "execute_result"
    },
    {
     "data": {
      "image/png": "[encoded data removed]",
      "text/plain": [
       "<Figure size 432x288 with 1 Axes>"
      ]
     },
     "metadata": {
      "needs_background": "light"
     },
     "output_type": "display_data"
    }
   ],
   "source": [
    "Data.MKT.plot()"
   ]
  },
  {
   "cell_type": "markdown",
   "metadata": {
    "colab_type": "text",
    "id": "Pr4ErENkySR7"
   },
   "source": [
    "### Random variables\n",
    "\n",
    "* We think of the return realization, the numbers plotted above, as a random variable, i.e., a variable that we are uncertain about it's realization. \n",
    "\n",
    "* Random variable is any thing that we don’t known\n",
    "\n",
    "  * Outcome of dice throw, value of stock market in the end of the day, …\n",
    "  * For example a dice outcome is a random variables with the following possible outcomes: (1,2,3,4,5,6)\n",
    "\n",
    "* This uncertainty is fully described by the probability distribution associated with the random variable.\n",
    "\n"
   ]
  },
  {
   "cell_type": "markdown",
   "metadata": {
    "colab_type": "text",
    "id": "SYV052YlySR7"
   },
   "source": [
    "### What is a probability distribution?\n",
    "\n",
    "* A probability distribution describes the probability that each outcome is realized.\n",
    "* It can be described by a Probability Density Function (pdf).\n",
    "* For example, the pdf of a dice is (1,1/6) ,(2,1/6), (3,1/6), (4,1/6), (5,1/6), (6,1/6)\n",
    "* It can also be described by the Cumulative Density Function(cdf)\n",
    "* For a example, the cdf of a dice is (1,1/6) ,(2,2/6), (3,3/6), (4,4/6), (5,5/6), (6,6/6)\n",
    "* A pdf or cdf fully describes the uncertainty we have with respect to a particular random variable\n",
    "* Random variable is any thing that we don’t known\n",
    "* Outcome of dice throw, value of stock market in the end of the day, …\n"
   ]
  },
  {
   "cell_type": "markdown",
   "metadata": {
    "colab_type": "text",
    "id": "exmzX9BcySR8"
   },
   "source": [
    "### Moments\n",
    "\n",
    "* One way to summarize the information in a probability distribution is the moments\n",
    "\n",
    "* Mean or expected value $E[𝑥]=∑𝑥_𝑖 𝑃𝑟𝑜𝑏(𝑥=𝑥_𝑖 )$  𝑜𝑟 $∫𝑥𝑓(𝑥)𝑑𝑥$  often uses µ as symbol\n",
    "\n",
    "* The Variance $𝑣𝑎𝑟(𝑥)= ∑(𝑥_𝑖−𝐸[𝑥])^2 𝑃𝑟𝑜𝑏(𝑥=𝑥_𝑖 )$    𝑜𝑟 $∫(𝑥_𝑖−𝐸[𝑥])^2 𝑓(𝑥)𝑑𝑥 $ \n",
    "  \n",
    "  * (Standard deviation $std(x)= \\sqrt{𝑣𝑎𝑟(𝑥)}$)\n",
    "  * measures average variability around the mean across successive drawings of x.\n",
    "  * often use 𝜎 as a symbol for standard deviation and $𝜎^2$ for variance\n",
    "\n",
    "* Skewness $𝑠𝑘𝑒𝑤(𝑥)= ∑(𝑥_𝑖−𝐸[𝑥])^3 𝑃𝑟𝑜𝑏(𝑥=𝑥_𝑖 )$ 𝑜𝑟 $∫(𝑥_𝑖−𝐸[𝑥])^3 𝑓(𝑥)𝑑𝑥$\n",
    "  \n",
    "  * Measures asymmetry in the distribution\n",
    "\n",
    "* Kurtosis $𝑘𝑢𝑟𝑡(𝑥)= ∑(𝑥_𝑖−𝐸[𝑥])^4 𝑃𝑟𝑜𝑏(𝑥=𝑥_𝑖 )$ 𝑜𝑟 $∫(𝑥_𝑖−𝐸[𝑥])^4 𝑓(𝑥)𝑑𝑥$ \n",
    "\n",
    "  * Measures how fat the tails are\n",
    "\n",
    "* Higher order moments…\n",
    "\n",
    "* Observation: with enough moments you can represent any distribution, but in practice you only need a few\n",
    "  \n",
    "  * for example for the normal distribution you only need the first two: Expected value and variance!"
   ]
  },
  {
   "cell_type": "markdown",
   "metadata": {
    "colab_type": "text",
    "id": "Ovrs7jCWySR9"
   },
   "source": [
    "### Sample moments\n",
    "\n",
    "* Moments are  **never** truly known in real data\n",
    "\n",
    "* Must be always estimated from some sample of the data\n",
    "\n",
    "* We would like to know the \"population\" moments, i.e., the moments that describe how the population is generated\n",
    "\n",
    "* For example to get the expected return on the market, i.e. it's population mean, we use the sample mean\n",
    "\n",
    "$$\\overline{R_{MKT}}=\\frac{\\sum_{t=1}^TR_{MKT}}{T}$$\n",
    "\n",
    "* where T is the sample size\n",
    "* we also call the sample average\n",
    "\n",
    "* Note that each observation in the sample is weighted  equally by the frequency of the **realized** observations\n",
    "\n",
    "* For population means they are weighted by the **expected** frequency, i.e. the probabilities"
   ]
  },
  {
   "cell_type": "markdown",
   "metadata": {
    "colab_type": "text",
    "id": "f8PYnj6PySR9"
   },
   "source": [
    "### Are returns normal?\n",
    "\n",
    "* Most of what we do does not depend on the assumption of normality\n",
    "\n",
    "* But normal distributions are very useful in statistical tests\n",
    "\n",
    "* And they are also not a bad approximation for return data at low frequency (monthly/year) \n"
   ]
  },
  {
   "cell_type": "markdown",
   "metadata": {
    "colab_type": "text",
    "id": "yt0Dowl-ySR-"
   },
   "source": [
    "### The Normal distribution\n",
    "\n",
    "* Probability that any random draw form a Normal distribution random variable $\\tilde{x}$ is within $n=1$ standard deviation from the mean is 0.6826\n",
    "\n",
    "\n",
    "$$Prob(E[\\tilde{x}]-n\\sigma(\\tilde{x})\\leq \\tilde{x}\\leq E[\\tilde{x}]+n\\sigma(\\tilde{x}))|_{n=1})=0.6826$$\n",
    "\n",
    "* $n=2,Prob(\\cdot)=0.9550$\n",
    "\n",
    "* it is convenient to to transform a normally distributed r.v. into units of standard deviations from it's mean\n",
    "\n",
    "\n",
    "$$\\tilde{z}=\\frac{\\tilde{x}-E[\\tilde{x}]}{\\sigma(\\tilde{x})}$$\n",
    "\n",
    "* This follows the \"standard\" normal distribution, which has mean 0 and and standard deviation 1 \n",
    "\n",
    "* can you show that is indeed the case that z has mean zero and standard devaiton 1? \n",
    "\n",
    "* This means that the normal distribution is completely characterized by it's first two moments\n",
    "\n",
    "* This means that the investment problem is much more tractable too!\n",
    "\n",
    "* Only two moments to worry about:\n",
    "\n",
    "    * The expected return of the portfolio\n",
    "    \n",
    "    * it's variance\n",
    "    \n",
    "    * The probability of really bad tail events will follow immediately from these two! "
   ]
  },
  {
   "cell_type": "markdown",
   "metadata": {
    "colab_type": "text",
    "id": "Zamld3rRySR-"
   },
   "source": [
    "### What is a return?\n",
    "\n",
    "* So we know what the normal distribution is\n",
    "\n",
    "* but what exactly is a return?\n",
    "\n",
    "* Lets say you paid $𝑃_𝑡$ in date $t$ for a stock\n",
    "\n",
    "* In date $t+1$ the price is $𝑃_{𝑡+1}$  and you earn some dividend as well $𝐷_{𝑡+1}$\n",
    "\n",
    "* Then we say that your return is\n",
    "\n",
    "$$𝑅_{𝑡+1}=\\frac{𝑃_{𝑡+1}+𝐷_{𝑡+1}−𝑃_𝑡}{𝑃_𝑡}$$\n",
    "\n",
    "* It is the gain you made, divided by how much you put in\n",
    "\n",
    "> Our data set Data contains these returns of buying an asset, earning any distributed dividends during the month, and then selling in the end of the month.\n",
    "\n",
    ">As we will see, the return on a portfolio is just a weighthed average of the returns of the individual assets\n"
   ]
  },
  {
   "cell_type": "markdown",
   "metadata": {
    "colab_type": "text",
    "id": "00v3ORsBySR_"
   },
   "source": [
    "### How to evaluate whether returns are normal?"
   ]
  },
  {
   "cell_type": "markdown",
   "metadata": {
    "colab_type": "text",
    "id": "gqeIB4X6ySSA"
   },
   "source": [
    "\n",
    "The standard approach is to look at higher moments.\n",
    "\n",
    "Because the normal is entired descibed by the first two moments, looking at these higher moments can give us a clue if that is really true for the data at hand.\n",
    "\n",
    "Here are a few:\n",
    "\n",
    "* Skewness \n",
    "\n",
    "* Kurtosis \n",
    "\n",
    "* Frequency of extreme return realizations \n",
    "\n",
    "  * 3 sigma events should almost never happen for a normal random variable\n",
    "  \n",
    "  * once every 500 periods\n",
    "\n",
    "  $$PROB(|R-E{R}|>3\\sigma(R))$$\n"
   ]
  },
  {
   "cell_type": "markdown",
   "metadata": {
    "colab_type": "text",
    "id": "AChPlqLdySSA"
   },
   "source": [
    " A nice thing to do is to simulate data generated by a normal with same sample mean and standard deviation as the normal, and compare it with the actual data"
   ]
  },
  {
   "cell_type": "code",
   "execution_count": 21,
   "metadata": {
    "colab": {
     "base_uri": "https://localhost:8080/",
     "height": 282
    },
    "colab_type": "code",
    "executionInfo": {
     "elapsed": 710,
     "status": "ok",
     "timestamp": 1576432684212,
     "user": {
      "displayName": "yuchi yao",
      "photoUrl": "",
      "userId": "00457884373990713813"
     },
     "user_tz": 300
    },
    "id": "sJwJEX7RySSB",
    "outputId": "fe53d38a-a8aa-4319-9fb9-c66a5ab19c38"
   },
   "outputs": [
    {
     "data": {
      "text/plain": [
       "<matplotlib.axes._subplots.AxesSubplot at 0x27214d222e0>"
      ]
     },
     "execution_count": 21,
     "metadata": {},
     "output_type": "execute_result"
    },
    {
     "data": {
      "image/png": "[encoded data removed]",
      "text/plain": [
       "<Figure size 432x288 with 1 Axes>"
      ]
     },
     "metadata": {
      "needs_background": "light"
     },
     "output_type": "display_data"
    }
   ],
   "source": [
    "# lets look at a simulation to see this more clearly\n",
    "\n",
    "\n",
    "mu=Data.MKT.mean()\n",
    "std=Data.MKT.std()\n",
    "T=Data.MKT.count()\n",
    "X=pd.Series(np.random.normal(mu,std,T))\n",
    "\n",
    "Data.MKT.hist(bins=50)\n",
    "\n",
    "\n",
    "# what happens if we increase the mean?\n",
    "\n",
    "# what happens if we increase the standard deviation?\n",
    "\n",
    "# for the same standard mean and standard deviation what do you notice when you compare the real data and the simulated data?\n",
    "\n"
   ]
  },
  {
   "cell_type": "code",
   "execution_count": 22,
   "metadata": {
    "colab": {
     "base_uri": "https://localhost:8080/",
     "height": 34
    },
    "colab_type": "code",
    "executionInfo": {
     "elapsed": 350,
     "status": "ok",
     "timestamp": 1576432688355,
     "user": {
      "displayName": "yuchi yao",
      "photoUrl": "",
      "userId": "00457884373990713813"
     },
     "user_tz": 300
    },
    "id": "gqs4TZSsySSC",
    "outputId": "a5a77eff-6b7c-43f5-bd13-234f7b144e2f"
   },
   "outputs": [
    {
     "data": {
      "text/plain": [
       "[-0.5053783766354294, -0.11814774419178325]"
      ]
     },
     "execution_count": 22,
     "metadata": {},
     "output_type": "execute_result"
    }
   ],
   "source": [
    "# To evaluate how close a distribution is to the normal distribution we typically look at\n",
    "\n",
    "# skewness\n",
    "\n",
    "[Data.MKT.skew(), X.skew()]\n"
   ]
  },
  {
   "cell_type": "code",
   "execution_count": 23,
   "metadata": {
    "colab": {
     "base_uri": "https://localhost:8080/",
     "height": 34
    },
    "colab_type": "code",
    "executionInfo": {
     "elapsed": 394,
     "status": "ok",
     "timestamp": 1576432690141,
     "user": {
      "displayName": "yuchi yao",
      "photoUrl": "",
      "userId": "00457884373990713813"
     },
     "user_tz": 300
    },
    "id": "0hSQ_AS8ySSE",
    "outputId": "cb471d74-a003-4633-f60d-5d488391e8de"
   },
   "outputs": [
    {
     "data": {
      "text/plain": [
       "[1.9881305187934846, 0.2796480959378349]"
      ]
     },
     "execution_count": 23,
     "metadata": {},
     "output_type": "execute_result"
    }
   ],
   "source": [
    "# To evaluate how close a distribution is to the normal distribution we typically look at\n",
    "\n",
    "# kurtosis\n",
    "[Data.MKT.kurtosis(),X.kurtosis()]\n"
   ]
  },
  {
   "cell_type": "code",
   "execution_count": 51,
   "metadata": {
    "colab": {
     "base_uri": "https://localhost:8080/",
     "height": 34
    },
    "colab_type": "code",
    "executionInfo": {
     "elapsed": 348,
     "status": "ok",
     "timestamp": 1576432691933,
     "user": {
      "displayName": "yuchi yao",
      "photoUrl": "",
      "userId": "00457884373990713813"
     },
     "user_tz": 300
    },
    "id": "S8xzIuU8ySSG",
    "outputId": "0b33d855-d36d-4491-f3b8-cdcef12229de"
   },
   "outputs": [
    {
     "data": {
      "text/plain": [
       "[2, 0]"
      ]
     },
     "execution_count": 51,
     "metadata": {},
     "output_type": "execute_result"
    }
   ],
   "source": [
    "# To evaluate how close a distribution is to the normal distribution we typically look at\n",
    "\n",
    "# how many observations in the read data is below several number of standard devations of the mean\n",
    "X=pd.Series(np.random.normal(mu,std,T))\n",
    "threshold=4\n",
    "# counts for the real data\n",
    "A=((Data.MKT-Data.MKT.mean())<-threshold*Data.MKT.std())\n",
    "# counts for simulated data (which we know it is normal!)\n",
    "B=((X-X.mean())<-threshold*X.std())\n",
    "\n",
    "[A.sum(),B.sum()]\n",
    "\n"
   ]
  },
  {
   "cell_type": "code",
   "execution_count": 32,
   "metadata": {},
   "outputs": [
    {
     "data": {
      "text/plain": [
       "<matplotlib.axes._subplots.AxesSubplot at 0x2721502f250>"
      ]
     },
     "execution_count": 32,
     "metadata": {},
     "output_type": "execute_result"
    },
    {
     "data": {
      "image/png": "[encoded data removed]",
      "text/plain": [
       "<Figure size 432x288 with 1 Axes>"
      ]
     },
     "metadata": {
      "needs_background": "light"
     },
     "output_type": "display_data"
    }
   ],
   "source": [
    "kurt=np.zeros(1000)\n",
    "for i in range(0,1000):\n",
    "    X=pd.Series(np.random.normal(mu,std,T))\n",
    "    kurt[i]=X.kurtosis()\n",
    "    \n",
    "\n",
    "\n",
    "pd.Series(kurt).hist(bins=50)"
   ]
  },
  {
   "cell_type": "markdown",
   "metadata": {
    "colab_type": "text",
    "id": "Sx1IdhdWySSH"
   },
   "source": [
    "### Log returns (also called continously compounded returns) and Simple returns"
   ]
  },
  {
   "cell_type": "markdown",
   "metadata": {
    "colab_type": "text",
    "id": "eXC17xpjySSI"
   },
   "source": [
    "#### Log returns\n",
    "\n",
    "Insight: If innovations in log returns are iid then, log returns at long enough horizons must be normal (Central Limit Theorem)\n",
    "\n",
    "$$1+𝑅_{1→𝑇}=((1+𝑅_1 )(1+𝑅_2 )…(1+𝑅_𝑇))⁡\\\\\n",
    "ln⁡(1+𝑅_{1→𝑇} )=ln⁡((1+𝑅_1 )(1+𝑅_2 )…(1+𝑅_𝑇 ))\\\\\n",
    "ln⁡(1+𝑅_{1→𝑇} )=ln⁡(1+𝑅_1 )+ln⁡(1+𝑅_2 )+…+ln⁡(1+𝑅_𝑇 )\\\\\n",
    "                    𝑟_{1→𝑇}=𝑟_1+𝑟_2+…+𝑟_𝑇 $$ \n",
    "\n",
    "\n",
    "\n",
    "* Thus, if T is large, $𝑟_{1→𝑇}$ will be approximately normally distributed. (central limit theorem)\n",
    "\n",
    "* $𝑟_𝑡=ln⁡(1+𝑅_𝑡 )$ is the rate of return assuming continuous compounding for the period t.\n",
    "\n",
    "* This turns out to hold up well if you look at horizons longer than a month, but does not work at all at daily frequency (much fatter left tail than the normal distribution predicts)\n",
    "\n",
    "\n",
    "* Log returns are also very convenient when thinking about long-term investing"
   ]
  },
  {
   "cell_type": "code",
   "execution_count": 33,
   "metadata": {
    "colab": {
     "base_uri": "https://localhost:8080/",
     "height": 51
    },
    "colab_type": "code",
    "executionInfo": {
     "elapsed": 340,
     "status": "ok",
     "timestamp": 1576432695833,
     "user": {
      "displayName": "yuchi yao",
      "photoUrl": "",
      "userId": "00457884373990713813"
     },
     "user_tz": 300
    },
    "id": "mPa2OX9WySSJ",
    "outputId": "419b924a-da26-4ffa-80e7-92b014ff0f68"
   },
   "outputs": [
    {
     "name": "stdout",
     "output_type": "stream",
     "text": [
      "[-0.7707864524331097, -0.10212480191113225]\n",
      "[2.859221702344219, -0.17043746558020745]\n"
     ]
    }
   ],
   "source": [
    "print([np.log(1+Data.MKT).skew(),X.skew()])\n",
    "\n",
    "print([np.log(1+Data.MKT).kurtosis(),X.kurtosis()])"
   ]
  },
  {
   "cell_type": "markdown",
   "metadata": {
    "colab_type": "text",
    "id": "Uo48KjFhySSK"
   },
   "source": [
    "#### How to go back and fourth between log and simple returns?\n",
    "\n",
    "Let R be a simple net return per period, i.e., if you invest 10 , you get 10(1+R) in the end of the period\n",
    "\n",
    "R is a number like 5% (0.05)\n",
    "\n",
    "We say 1+R, a number like 1.05 is a gross return. \n",
    "\n",
    "Why gross? Because it includes 1, your initial investment.\n",
    "\n",
    "* To get log returns: $r=log(1+R)$\n",
    "\n",
    "\n",
    "* To get back simple returns: $R=exp(r)-1$"
   ]
  },
  {
   "cell_type": "code",
   "execution_count": 34,
   "metadata": {
    "colab": {
     "base_uri": "https://localhost:8080/",
     "height": 235
    },
    "colab_type": "code",
    "executionInfo": {
     "elapsed": 330,
     "status": "ok",
     "timestamp": 1576432697937,
     "user": {
      "displayName": "yuchi yao",
      "photoUrl": "",
      "userId": "00457884373990713813"
     },
     "user_tz": 300
    },
    "id": "eYeYHQ77ySSL",
    "outputId": "35356dfc-2f1c-4b1e-8128-dc7f7b038158",
    "scrolled": true
   },
   "outputs": [
    {
     "data": {
      "text/html": [
       "<div>\n",
       "<style scoped>\n",
       "    .dataframe tbody tr th:only-of-type {\n",
       "        vertical-align: middle;\n",
       "    }\n",
       "\n",
       "    .dataframe tbody tr th {\n",
       "        vertical-align: top;\n",
       "    }\n",
       "\n",
       "    .dataframe thead th {\n",
       "        text-align: right;\n",
       "    }\n",
       "</style>\n",
       "<table border=\"1\" class=\"dataframe\">\n",
       "  <thead>\n",
       "    <tr style=\"text-align: right;\">\n",
       "      <th></th>\n",
       "      <th>MKT</th>\n",
       "      <th>MKT</th>\n",
       "    </tr>\n",
       "    <tr>\n",
       "      <th>Date</th>\n",
       "      <th></th>\n",
       "      <th></th>\n",
       "    </tr>\n",
       "  </thead>\n",
       "  <tbody>\n",
       "    <tr>\n",
       "      <th>1963-02-28</th>\n",
       "      <td>-0.0215</td>\n",
       "      <td>-0.0215</td>\n",
       "    </tr>\n",
       "    <tr>\n",
       "      <th>1963-03-31</th>\n",
       "      <td>0.0331</td>\n",
       "      <td>0.0331</td>\n",
       "    </tr>\n",
       "    <tr>\n",
       "      <th>1963-04-30</th>\n",
       "      <td>0.0476</td>\n",
       "      <td>0.0476</td>\n",
       "    </tr>\n",
       "    <tr>\n",
       "      <th>1963-05-31</th>\n",
       "      <td>0.0200</td>\n",
       "      <td>0.0200</td>\n",
       "    </tr>\n",
       "    <tr>\n",
       "      <th>1963-06-30</th>\n",
       "      <td>-0.0177</td>\n",
       "      <td>-0.0177</td>\n",
       "    </tr>\n",
       "  </tbody>\n",
       "</table>\n",
       "</div>"
      ],
      "text/plain": [
       "               MKT     MKT\n",
       "Date                      \n",
       "1963-02-28 -0.0215 -0.0215\n",
       "1963-03-31  0.0331  0.0331\n",
       "1963-04-30  0.0476  0.0476\n",
       "1963-05-31  0.0200  0.0200\n",
       "1963-06-30 -0.0177 -0.0177"
      ]
     },
     "execution_count": 34,
     "metadata": {},
     "output_type": "execute_result"
    }
   ],
   "source": [
    "r=np.log(1+Data.MKT)\n",
    "R=np.exp(r)-1\n",
    "pd.concat([R,Data.MKT],axis=1).head()"
   ]
  },
  {
   "cell_type": "code",
   "execution_count": 35,
   "metadata": {
    "colab": {
     "base_uri": "https://localhost:8080/",
     "height": 34
    },
    "colab_type": "code",
    "executionInfo": {
     "elapsed": 341,
     "status": "ok",
     "timestamp": 1576432700402,
     "user": {
      "displayName": "yuchi yao",
      "photoUrl": "",
      "userId": "00457884373990713813"
     },
     "user_tz": 300
    },
    "id": "yCQ7eLLnySSM",
    "outputId": "4173a475-05a6-44ec-a9c8-c0c7d73d7263"
   },
   "outputs": [
    {
     "data": {
      "text/plain": [
       "[4, 0]"
      ]
     },
     "execution_count": 35,
     "metadata": {},
     "output_type": "execute_result"
    }
   ],
   "source": [
    "threshold=3\n",
    "# now real data in log returns\n",
    "\n",
    "A=((np.log(Data.MKT+1)-np.log(Data.MKT+1).mean())<-threshold*np.log(Data.MKT+1).std())\n",
    "B=((X-X.mean())<-threshold*X.std())\n",
    "[A.sum(),B.sum()]"
   ]
  },
  {
   "cell_type": "markdown",
   "metadata": {
    "colab_type": "text",
    "id": "2n1f3REEySSO"
   },
   "source": [
    "#### Why we might care about deviations from normality?"
   ]
  },
  {
   "cell_type": "markdown",
   "metadata": {
    "colab_type": "text",
    "id": "wEggLMymySSs"
   },
   "source": [
    "## Risk, Variances, and Covariances\n",
    "\n",
    "In this section we will learn how to calculate the volatility of a portfolio and the covariance between portfolios, and use these concepts to help us understand if adding another portfolio is more risky or not."
   ]
  },
  {
   "cell_type": "markdown",
   "metadata": {
    "colab_type": "text",
    "id": "9L1hVaRTySSt"
   },
   "source": [
    "### Volatility and Variance\n",
    "\n",
    "We know how to compute variance and what they are\n",
    "\n",
    "$$Data.MKT.std()=\\sqrt{\\sum_{t=1}^T\\frac{(R_{MKT,t}-\\overline{R_{MKT}})^2}{T}}$$\n",
    "\n",
    "where $\\overline{R_{MKT}}=\\sum_{t=1}^T\\frac{R_{MKT,t}}{T}$ is the sample mean.\n",
    "\n",
    "\n",
    "So for each series we get a number. We oftern refer to the standard deviation as the \"vol\" or the volatility of an asset.\n",
    "\n",
    "Variance and volatility have the same content, but volatility is in the same unit as returns, and not square returns, so it easier (for me!) to have intuition about what it means.\n",
    "\n",
    "For example, if the market has a vol of 30% per year, and if the market return is assumed to be normally distributed, I know that there is about a 2.5% probability that I will loose 60% of my investment by the end of the year!\n",
    "\n",
    "So it is a great gauge of risk...at least at the portfolio level\n",
    "\n",
    "But when thinking about a specific stock, it's volatility means very little\n",
    "\n",
    "Unless your entire portfolio is just that stock, you don't really need to bear the stock risk--if you have 1% in a stock and the stock drops 20%, that is only 0.2% in your portfolio. You will not even notice the change.\n"
   ]
  },
  {
   "cell_type": "markdown",
   "metadata": {
    "colab_type": "text",
    "id": "RuhYhbQcIDYS"
   },
   "source": [
    "\n",
    "## But what risk should you care about? What stock should be risky for you?\n",
    "\n",
    "The great insight from Harry Markowitz was to think of risk in terms of what the stock adds to your portfolio\n",
    "\n",
    "Just like meat can be good for you if you are not eating any meat, it is terrible if you are eating a lot of it\n",
    "\n",
    "What investors should care about is, just like eaters, their final diet. If a given stock brings a lot of what you already have, it will be bad for you, i.e., risky.\n",
    "\n",
    "The way to measure this degree of commonality between your portfolio and this particular stock is the covariance\n",
    "\n",
    "\n",
    "$$Cov(R_{i,t},R_{j,t})={\\sum_{t=1}^T\\frac{(R_{i,t}-\\overline{R_{i}})(R_{j,t}-\\overline{R_{j}})}{T}}$$\n",
    "\n",
    "\n",
    "The Covariance matrix of a set of stocks is the matrix where cell $(i,j)$ has the covariance between asset $i$ and asset $j$:"
   ]
  },
  {
   "cell_type": "code",
   "execution_count": 67,
   "metadata": {
    "colab": {
     "base_uri": "https://localhost:8080/",
     "height": 111
    },
    "colab_type": "code",
    "executionInfo": {
     "elapsed": 351,
     "status": "ok",
     "timestamp": 1576439875611,
     "user": {
      "displayName": "yuchi yao",
      "photoUrl": "",
      "userId": "00457884373990713813"
     },
     "user_tz": 300
    },
    "id": "1Txxj1HJySSt",
    "outputId": "ab01d0e7-cec2-4389-b1ad-59e01be1c417"
   },
   "outputs": [
    {
     "data": {
      "text/html": [
       "<div>\n",
       "<style scoped>\n",
       "    .dataframe tbody tr th:only-of-type {\n",
       "        vertical-align: middle;\n",
       "    }\n",
       "\n",
       "    .dataframe tbody tr th {\n",
       "        vertical-align: top;\n",
       "    }\n",
       "\n",
       "    .dataframe thead th {\n",
       "        text-align: right;\n",
       "    }\n",
       "</style>\n",
       "<table border=\"1\" class=\"dataframe\">\n",
       "  <thead>\n",
       "    <tr style=\"text-align: right;\">\n",
       "      <th></th>\n",
       "      <th>MKT</th>\n",
       "      <th>WorldxUSA</th>\n",
       "    </tr>\n",
       "  </thead>\n",
       "  <tbody>\n",
       "    <tr>\n",
       "      <th>MKT</th>\n",
       "      <td>0.001936</td>\n",
       "      <td>0.001255</td>\n",
       "    </tr>\n",
       "    <tr>\n",
       "      <th>WorldxUSA</th>\n",
       "      <td>0.001255</td>\n",
       "      <td>0.002175</td>\n",
       "    </tr>\n",
       "  </tbody>\n",
       "</table>\n",
       "</div>"
      ],
      "text/plain": [
       "                MKT  WorldxUSA\n",
       "MKT        0.001936   0.001255\n",
       "WorldxUSA  0.001255   0.002175"
      ]
     },
     "execution_count": 67,
     "metadata": {},
     "output_type": "execute_result"
    }
   ],
   "source": [
    "# here for two assets\n",
    "Data[['MKT','WorldxUSA']].cov()"
   ]
  },
  {
   "cell_type": "markdown",
   "metadata": {
    "colab_type": "text",
    "id": "Ccsoo626ySSu"
   },
   "source": [
    "note that the diagonal cell $(i,i)$ has the covariance between asset $i$ and asset $i$, which is just the variance of asset $i$"
   ]
  },
  {
   "cell_type": "code",
   "execution_count": 68,
   "metadata": {
    "colab": {
     "base_uri": "https://localhost:8080/",
     "height": 68
    },
    "colab_type": "code",
    "executionInfo": {
     "elapsed": 353,
     "status": "ok",
     "timestamp": 1576439915175,
     "user": {
      "displayName": "yuchi yao",
      "photoUrl": "",
      "userId": "00457884373990713813"
     },
     "user_tz": 300
    },
    "id": "j9ahFtnxySSv",
    "outputId": "d72747d2-70e8-4584-c045-3afc20a7dcde"
   },
   "outputs": [
    {
     "data": {
      "text/plain": [
       "MKT          0.001936\n",
       "WorldxUSA    0.002175\n",
       "dtype: float64"
      ]
     },
     "execution_count": 68,
     "metadata": {},
     "output_type": "execute_result"
    }
   ],
   "source": [
    "Data[['MKT','WorldxUSA']].var()"
   ]
  },
  {
   "cell_type": "code",
   "execution_count": 76,
   "metadata": {},
   "outputs": [
    {
     "data": {
      "text/html": [
       "<div>\n",
       "<style scoped>\n",
       "    .dataframe tbody tr th:only-of-type {\n",
       "        vertical-align: middle;\n",
       "    }\n",
       "\n",
       "    .dataframe tbody tr th {\n",
       "        vertical-align: top;\n",
       "    }\n",
       "\n",
       "    .dataframe thead th {\n",
       "        text-align: right;\n",
       "    }\n",
       "</style>\n",
       "<table border=\"1\" class=\"dataframe\">\n",
       "  <thead>\n",
       "    <tr style=\"text-align: right;\">\n",
       "      <th></th>\n",
       "      <th>RF</th>\n",
       "      <th>MKT</th>\n",
       "      <th>USA30yearGovBond</th>\n",
       "      <th>EmergingMarkets</th>\n",
       "      <th>WorldxUSA</th>\n",
       "      <th>WorldxUSAGovBond</th>\n",
       "    </tr>\n",
       "    <tr>\n",
       "      <th>Date</th>\n",
       "      <th></th>\n",
       "      <th></th>\n",
       "      <th></th>\n",
       "      <th></th>\n",
       "      <th></th>\n",
       "      <th></th>\n",
       "    </tr>\n",
       "  </thead>\n",
       "  <tbody>\n",
       "    <tr>\n",
       "      <th>1963-02-28</th>\n",
       "      <td>0.0023</td>\n",
       "      <td>-0.0215</td>\n",
       "      <td>-0.001878</td>\n",
       "      <td>0.098222</td>\n",
       "      <td>-0.002773</td>\n",
       "      <td>NaN</td>\n",
       "    </tr>\n",
       "    <tr>\n",
       "      <th>1963-03-31</th>\n",
       "      <td>0.0023</td>\n",
       "      <td>0.0331</td>\n",
       "      <td>0.003342</td>\n",
       "      <td>0.014149</td>\n",
       "      <td>0.000371</td>\n",
       "      <td>0.001913</td>\n",
       "    </tr>\n",
       "    <tr>\n",
       "      <th>1963-04-30</th>\n",
       "      <td>0.0025</td>\n",
       "      <td>0.0476</td>\n",
       "      <td>-0.001843</td>\n",
       "      <td>-0.147055</td>\n",
       "      <td>-0.003336</td>\n",
       "      <td>0.008002</td>\n",
       "    </tr>\n",
       "    <tr>\n",
       "      <th>1963-05-31</th>\n",
       "      <td>0.0024</td>\n",
       "      <td>0.0200</td>\n",
       "      <td>-0.001807</td>\n",
       "      <td>-0.012172</td>\n",
       "      <td>-0.000186</td>\n",
       "      <td>0.004689</td>\n",
       "    </tr>\n",
       "    <tr>\n",
       "      <th>1963-06-30</th>\n",
       "      <td>0.0023</td>\n",
       "      <td>-0.0177</td>\n",
       "      <td>0.001666</td>\n",
       "      <td>-0.055699</td>\n",
       "      <td>-0.011160</td>\n",
       "      <td>0.003139</td>\n",
       "    </tr>\n",
       "    <tr>\n",
       "      <th>...</th>\n",
       "      <td>...</td>\n",
       "      <td>...</td>\n",
       "      <td>...</td>\n",
       "      <td>...</td>\n",
       "      <td>...</td>\n",
       "      <td>...</td>\n",
       "    </tr>\n",
       "    <tr>\n",
       "      <th>2016-08-31</th>\n",
       "      <td>0.0002</td>\n",
       "      <td>0.0052</td>\n",
       "      <td>-0.008417</td>\n",
       "      <td>0.025186</td>\n",
       "      <td>0.000838</td>\n",
       "      <td>-0.009552</td>\n",
       "    </tr>\n",
       "    <tr>\n",
       "      <th>2016-09-30</th>\n",
       "      <td>0.0002</td>\n",
       "      <td>0.0027</td>\n",
       "      <td>-0.016417</td>\n",
       "      <td>0.013153</td>\n",
       "      <td>0.012736</td>\n",
       "      <td>0.009979</td>\n",
       "    </tr>\n",
       "    <tr>\n",
       "      <th>2016-10-31</th>\n",
       "      <td>0.0002</td>\n",
       "      <td>-0.0200</td>\n",
       "      <td>-0.049460</td>\n",
       "      <td>0.002474</td>\n",
       "      <td>-0.020383</td>\n",
       "      <td>-0.043476</td>\n",
       "    </tr>\n",
       "    <tr>\n",
       "      <th>2016-11-30</th>\n",
       "      <td>0.0001</td>\n",
       "      <td>0.0487</td>\n",
       "      <td>-0.081636</td>\n",
       "      <td>-0.045971</td>\n",
       "      <td>-0.019798</td>\n",
       "      <td>-0.050359</td>\n",
       "    </tr>\n",
       "    <tr>\n",
       "      <th>2016-12-31</th>\n",
       "      <td>0.0003</td>\n",
       "      <td>0.0185</td>\n",
       "      <td>-0.005296</td>\n",
       "      <td>0.002904</td>\n",
       "      <td>0.034383</td>\n",
       "      <td>-0.023207</td>\n",
       "    </tr>\n",
       "  </tbody>\n",
       "</table>\n",
       "<p>647 rows × 6 columns</p>\n",
       "</div>"
      ],
      "text/plain": [
       "                RF     MKT  USA30yearGovBond  EmergingMarkets  WorldxUSA  \\\n",
       "Date                                                                       \n",
       "1963-02-28  0.0023 -0.0215         -0.001878         0.098222  -0.002773   \n",
       "1963-03-31  0.0023  0.0331          0.003342         0.014149   0.000371   \n",
       "1963-04-30  0.0025  0.0476         -0.001843        -0.147055  -0.003336   \n",
       "1963-05-31  0.0024  0.0200         -0.001807        -0.012172  -0.000186   \n",
       "1963-06-30  0.0023 -0.0177          0.001666        -0.055699  -0.011160   \n",
       "...            ...     ...               ...              ...        ...   \n",
       "2016-08-31  0.0002  0.0052         -0.008417         0.025186   0.000838   \n",
       "2016-09-30  0.0002  0.0027         -0.016417         0.013153   0.012736   \n",
       "2016-10-31  0.0002 -0.0200         -0.049460         0.002474  -0.020383   \n",
       "2016-11-30  0.0001  0.0487         -0.081636        -0.045971  -0.019798   \n",
       "2016-12-31  0.0003  0.0185         -0.005296         0.002904   0.034383   \n",
       "\n",
       "            WorldxUSAGovBond  \n",
       "Date                          \n",
       "1963-02-28               NaN  \n",
       "1963-03-31          0.001913  \n",
       "1963-04-30          0.008002  \n",
       "1963-05-31          0.004689  \n",
       "1963-06-30          0.003139  \n",
       "...                      ...  \n",
       "2016-08-31         -0.009552  \n",
       "2016-09-30          0.009979  \n",
       "2016-10-31         -0.043476  \n",
       "2016-11-30         -0.050359  \n",
       "2016-12-31         -0.023207  \n",
       "\n",
       "[647 rows x 6 columns]"
      ]
     },
     "execution_count": 76,
     "metadata": {},
     "output_type": "execute_result"
    }
   ],
   "source": [
    "Data"
   ]
  },
  {
   "cell_type": "code",
   "execution_count": 80,
   "metadata": {},
   "outputs": [
    {
     "data": {
      "text/plain": [
       "Timestamp('1963-02-28 00:00:00')"
      ]
     },
     "execution_count": 80,
     "metadata": {},
     "output_type": "execute_result"
    }
   ],
   "source": [
    "Data.index[0]"
   ]
  },
  {
   "cell_type": "code",
   "execution_count": 81,
   "metadata": {},
   "outputs": [
    {
     "data": {
      "text/html": [
       "<div>\n",
       "<style scoped>\n",
       "    .dataframe tbody tr th:only-of-type {\n",
       "        vertical-align: middle;\n",
       "    }\n",
       "\n",
       "    .dataframe tbody tr th {\n",
       "        vertical-align: top;\n",
       "    }\n",
       "\n",
       "    .dataframe thead th {\n",
       "        text-align: right;\n",
       "    }\n",
       "</style>\n",
       "<table border=\"1\" class=\"dataframe\">\n",
       "  <thead>\n",
       "    <tr style=\"text-align: right;\">\n",
       "      <th></th>\n",
       "      <th>RF</th>\n",
       "      <th>MKT</th>\n",
       "      <th>USA30yearGovBond</th>\n",
       "      <th>EmergingMarkets</th>\n",
       "      <th>WorldxUSA</th>\n",
       "      <th>WorldxUSAGovBond</th>\n",
       "    </tr>\n",
       "    <tr>\n",
       "      <th>Date</th>\n",
       "      <th></th>\n",
       "      <th></th>\n",
       "      <th></th>\n",
       "      <th></th>\n",
       "      <th></th>\n",
       "      <th></th>\n",
       "    </tr>\n",
       "  </thead>\n",
       "  <tbody>\n",
       "    <tr>\n",
       "      <th>1963-03-31</th>\n",
       "      <td>0.0023</td>\n",
       "      <td>0.0331</td>\n",
       "      <td>0.003342</td>\n",
       "      <td>0.014149</td>\n",
       "      <td>0.000371</td>\n",
       "      <td>0.001913</td>\n",
       "    </tr>\n",
       "    <tr>\n",
       "      <th>1963-04-30</th>\n",
       "      <td>0.0025</td>\n",
       "      <td>0.0476</td>\n",
       "      <td>-0.001843</td>\n",
       "      <td>-0.147055</td>\n",
       "      <td>-0.003336</td>\n",
       "      <td>0.008002</td>\n",
       "    </tr>\n",
       "    <tr>\n",
       "      <th>1963-05-31</th>\n",
       "      <td>0.0024</td>\n",
       "      <td>0.0200</td>\n",
       "      <td>-0.001807</td>\n",
       "      <td>-0.012172</td>\n",
       "      <td>-0.000186</td>\n",
       "      <td>0.004689</td>\n",
       "    </tr>\n",
       "    <tr>\n",
       "      <th>1963-06-30</th>\n",
       "      <td>0.0023</td>\n",
       "      <td>-0.0177</td>\n",
       "      <td>0.001666</td>\n",
       "      <td>-0.055699</td>\n",
       "      <td>-0.011160</td>\n",
       "      <td>0.003139</td>\n",
       "    </tr>\n",
       "    <tr>\n",
       "      <th>1963-07-31</th>\n",
       "      <td>0.0027</td>\n",
       "      <td>-0.0012</td>\n",
       "      <td>0.003400</td>\n",
       "      <td>0.088591</td>\n",
       "      <td>0.007900</td>\n",
       "      <td>0.001901</td>\n",
       "    </tr>\n",
       "    <tr>\n",
       "      <th>...</th>\n",
       "      <td>...</td>\n",
       "      <td>...</td>\n",
       "      <td>...</td>\n",
       "      <td>...</td>\n",
       "      <td>...</td>\n",
       "      <td>...</td>\n",
       "    </tr>\n",
       "    <tr>\n",
       "      <th>2016-08-31</th>\n",
       "      <td>0.0002</td>\n",
       "      <td>0.0052</td>\n",
       "      <td>-0.008417</td>\n",
       "      <td>0.025186</td>\n",
       "      <td>0.000838</td>\n",
       "      <td>-0.009552</td>\n",
       "    </tr>\n",
       "    <tr>\n",
       "      <th>2016-09-30</th>\n",
       "      <td>0.0002</td>\n",
       "      <td>0.0027</td>\n",
       "      <td>-0.016417</td>\n",
       "      <td>0.013153</td>\n",
       "      <td>0.012736</td>\n",
       "      <td>0.009979</td>\n",
       "    </tr>\n",
       "    <tr>\n",
       "      <th>2016-10-31</th>\n",
       "      <td>0.0002</td>\n",
       "      <td>-0.0200</td>\n",
       "      <td>-0.049460</td>\n",
       "      <td>0.002474</td>\n",
       "      <td>-0.020383</td>\n",
       "      <td>-0.043476</td>\n",
       "    </tr>\n",
       "    <tr>\n",
       "      <th>2016-11-30</th>\n",
       "      <td>0.0001</td>\n",
       "      <td>0.0487</td>\n",
       "      <td>-0.081636</td>\n",
       "      <td>-0.045971</td>\n",
       "      <td>-0.019798</td>\n",
       "      <td>-0.050359</td>\n",
       "    </tr>\n",
       "    <tr>\n",
       "      <th>2016-12-31</th>\n",
       "      <td>0.0003</td>\n",
       "      <td>0.0185</td>\n",
       "      <td>-0.005296</td>\n",
       "      <td>0.002904</td>\n",
       "      <td>0.034383</td>\n",
       "      <td>-0.023207</td>\n",
       "    </tr>\n",
       "  </tbody>\n",
       "</table>\n",
       "<p>646 rows × 6 columns</p>\n",
       "</div>"
      ],
      "text/plain": [
       "                RF     MKT  USA30yearGovBond  EmergingMarkets  WorldxUSA  \\\n",
       "Date                                                                       \n",
       "1963-03-31  0.0023  0.0331          0.003342         0.014149   0.000371   \n",
       "1963-04-30  0.0025  0.0476         -0.001843        -0.147055  -0.003336   \n",
       "1963-05-31  0.0024  0.0200         -0.001807        -0.012172  -0.000186   \n",
       "1963-06-30  0.0023 -0.0177          0.001666        -0.055699  -0.011160   \n",
       "1963-07-31  0.0027 -0.0012          0.003400         0.088591   0.007900   \n",
       "...            ...     ...               ...              ...        ...   \n",
       "2016-08-31  0.0002  0.0052         -0.008417         0.025186   0.000838   \n",
       "2016-09-30  0.0002  0.0027         -0.016417         0.013153   0.012736   \n",
       "2016-10-31  0.0002 -0.0200         -0.049460         0.002474  -0.020383   \n",
       "2016-11-30  0.0001  0.0487         -0.081636        -0.045971  -0.019798   \n",
       "2016-12-31  0.0003  0.0185         -0.005296         0.002904   0.034383   \n",
       "\n",
       "            WorldxUSAGovBond  \n",
       "Date                          \n",
       "1963-03-31          0.001913  \n",
       "1963-04-30          0.008002  \n",
       "1963-05-31          0.004689  \n",
       "1963-06-30          0.003139  \n",
       "1963-07-31          0.001901  \n",
       "...                      ...  \n",
       "2016-08-31         -0.009552  \n",
       "2016-09-30          0.009979  \n",
       "2016-10-31         -0.043476  \n",
       "2016-11-30         -0.050359  \n",
       "2016-12-31         -0.023207  \n",
       "\n",
       "[646 rows x 6 columns]"
      ]
     },
     "execution_count": 81,
     "metadata": {},
     "output_type": "execute_result"
    }
   ],
   "source": [
    "Data.drop(Data.index[0])"
   ]
  },
  {
   "cell_type": "code",
   "execution_count": 69,
   "metadata": {
    "colab": {
     "base_uri": "https://localhost:8080/",
     "height": 204
    },
    "colab_type": "code",
    "executionInfo": {
     "elapsed": 437,
     "status": "ok",
     "timestamp": 1576439923093,
     "user": {
      "displayName": "yuchi yao",
      "photoUrl": "",
      "userId": "00457884373990713813"
     },
     "user_tz": 300
    },
    "id": "KFzC8wKZySSx",
    "outputId": "1c725d26-5590-4151-c307-c97a4a2904d2"
   },
   "outputs": [
    {
     "data": {
      "text/html": [
       "<div>\n",
       "<style scoped>\n",
       "    .dataframe tbody tr th:only-of-type {\n",
       "        vertical-align: middle;\n",
       "    }\n",
       "\n",
       "    .dataframe tbody tr th {\n",
       "        vertical-align: top;\n",
       "    }\n",
       "\n",
       "    .dataframe thead th {\n",
       "        text-align: right;\n",
       "    }\n",
       "</style>\n",
       "<table border=\"1\" class=\"dataframe\">\n",
       "  <thead>\n",
       "    <tr style=\"text-align: right;\">\n",
       "      <th></th>\n",
       "      <th>MKT</th>\n",
       "      <th>USA30yearGovBond</th>\n",
       "      <th>EmergingMarkets</th>\n",
       "      <th>WorldxUSA</th>\n",
       "      <th>WorldxUSAGovBond</th>\n",
       "    </tr>\n",
       "  </thead>\n",
       "  <tbody>\n",
       "    <tr>\n",
       "      <th>MKT</th>\n",
       "      <td>0.001936</td>\n",
       "      <td>0.000104</td>\n",
       "      <td>0.001280</td>\n",
       "      <td>0.001255</td>\n",
       "      <td>0.000182</td>\n",
       "    </tr>\n",
       "    <tr>\n",
       "      <th>USA30yearGovBond</th>\n",
       "      <td>0.000104</td>\n",
       "      <td>0.001226</td>\n",
       "      <td>-0.000211</td>\n",
       "      <td>-0.000017</td>\n",
       "      <td>0.000264</td>\n",
       "    </tr>\n",
       "    <tr>\n",
       "      <th>EmergingMarkets</th>\n",
       "      <td>0.001280</td>\n",
       "      <td>-0.000211</td>\n",
       "      <td>0.003544</td>\n",
       "      <td>0.001651</td>\n",
       "      <td>0.000243</td>\n",
       "    </tr>\n",
       "    <tr>\n",
       "      <th>WorldxUSA</th>\n",
       "      <td>0.001255</td>\n",
       "      <td>-0.000017</td>\n",
       "      <td>0.001651</td>\n",
       "      <td>0.002175</td>\n",
       "      <td>0.000419</td>\n",
       "    </tr>\n",
       "    <tr>\n",
       "      <th>WorldxUSAGovBond</th>\n",
       "      <td>0.000182</td>\n",
       "      <td>0.000264</td>\n",
       "      <td>0.000243</td>\n",
       "      <td>0.000419</td>\n",
       "      <td>0.000407</td>\n",
       "    </tr>\n",
       "  </tbody>\n",
       "</table>\n",
       "</div>"
      ],
      "text/plain": [
       "                       MKT  USA30yearGovBond  EmergingMarkets  WorldxUSA  \\\n",
       "MKT               0.001936          0.000104         0.001280   0.001255   \n",
       "USA30yearGovBond  0.000104          0.001226        -0.000211  -0.000017   \n",
       "EmergingMarkets   0.001280         -0.000211         0.003544   0.001651   \n",
       "WorldxUSA         0.001255         -0.000017         0.001651   0.002175   \n",
       "WorldxUSAGovBond  0.000182          0.000264         0.000243   0.000419   \n",
       "\n",
       "                  WorldxUSAGovBond  \n",
       "MKT                       0.000182  \n",
       "USA30yearGovBond          0.000264  \n",
       "EmergingMarkets           0.000243  \n",
       "WorldxUSA                 0.000419  \n",
       "WorldxUSAGovBond          0.000407  "
      ]
     },
     "execution_count": 69,
     "metadata": {},
     "output_type": "execute_result"
    }
   ],
   "source": [
    "# here for all the assets except the risk-free rate\n",
    "\n",
    "Data.drop('RF',axis=1).cov()\n"
   ]
  },
  {
   "cell_type": "markdown",
   "metadata": {
    "colab_type": "text",
    "id": "4EQcjw-LySSy"
   },
   "source": [
    "Another way of looking at this is the correlation matrix, which normalizes the covariances by the volatility of each asset:\n",
    "\n",
    "$$Corr(R_{i,t},R_{j,t})={\\frac{Cov(R_{i,t},R_{j,t})}{\\sqrt{Var(R_{i,t})Var(R_{j,t})}}}$$"
   ]
  },
  {
   "cell_type": "code",
   "execution_count": 82,
   "metadata": {
    "colab": {
     "base_uri": "https://localhost:8080/",
     "height": 204
    },
    "colab_type": "code",
    "executionInfo": {
     "elapsed": 385,
     "status": "ok",
     "timestamp": 1576439954191,
     "user": {
      "displayName": "yuchi yao",
      "photoUrl": "",
      "userId": "00457884373990713813"
     },
     "user_tz": 300
    },
    "id": "qMq12prxySSz",
    "outputId": "6f6b2d65-199f-443c-e06c-589ad50e59ab"
   },
   "outputs": [
    {
     "data": {
      "text/html": [
       "<div>\n",
       "<style scoped>\n",
       "    .dataframe tbody tr th:only-of-type {\n",
       "        vertical-align: middle;\n",
       "    }\n",
       "\n",
       "    .dataframe tbody tr th {\n",
       "        vertical-align: top;\n",
       "    }\n",
       "\n",
       "    .dataframe thead th {\n",
       "        text-align: right;\n",
       "    }\n",
       "</style>\n",
       "<table border=\"1\" class=\"dataframe\">\n",
       "  <thead>\n",
       "    <tr style=\"text-align: right;\">\n",
       "      <th></th>\n",
       "      <th>MKT</th>\n",
       "      <th>USA30yearGovBond</th>\n",
       "      <th>EmergingMarkets</th>\n",
       "      <th>WorldxUSA</th>\n",
       "      <th>WorldxUSAGovBond</th>\n",
       "    </tr>\n",
       "  </thead>\n",
       "  <tbody>\n",
       "    <tr>\n",
       "      <th>MKT</th>\n",
       "      <td>1.000000</td>\n",
       "      <td>0.067779</td>\n",
       "      <td>0.488753</td>\n",
       "      <td>0.611369</td>\n",
       "      <td>0.204491</td>\n",
       "    </tr>\n",
       "    <tr>\n",
       "      <th>USA30yearGovBond</th>\n",
       "      <td>0.067779</td>\n",
       "      <td>1.000000</td>\n",
       "      <td>-0.101321</td>\n",
       "      <td>-0.010180</td>\n",
       "      <td>0.373123</td>\n",
       "    </tr>\n",
       "    <tr>\n",
       "      <th>EmergingMarkets</th>\n",
       "      <td>0.488753</td>\n",
       "      <td>-0.101321</td>\n",
       "      <td>1.000000</td>\n",
       "      <td>0.594653</td>\n",
       "      <td>0.202565</td>\n",
       "    </tr>\n",
       "    <tr>\n",
       "      <th>WorldxUSA</th>\n",
       "      <td>0.611369</td>\n",
       "      <td>-0.010180</td>\n",
       "      <td>0.594653</td>\n",
       "      <td>1.000000</td>\n",
       "      <td>0.444938</td>\n",
       "    </tr>\n",
       "    <tr>\n",
       "      <th>WorldxUSAGovBond</th>\n",
       "      <td>0.204491</td>\n",
       "      <td>0.373123</td>\n",
       "      <td>0.202565</td>\n",
       "      <td>0.444938</td>\n",
       "      <td>1.000000</td>\n",
       "    </tr>\n",
       "  </tbody>\n",
       "</table>\n",
       "</div>"
      ],
      "text/plain": [
       "                       MKT  USA30yearGovBond  EmergingMarkets  WorldxUSA  \\\n",
       "MKT               1.000000          0.067779         0.488753   0.611369   \n",
       "USA30yearGovBond  0.067779          1.000000        -0.101321  -0.010180   \n",
       "EmergingMarkets   0.488753         -0.101321         1.000000   0.594653   \n",
       "WorldxUSA         0.611369         -0.010180         0.594653   1.000000   \n",
       "WorldxUSAGovBond  0.204491          0.373123         0.202565   0.444938   \n",
       "\n",
       "                  WorldxUSAGovBond  \n",
       "MKT                       0.204491  \n",
       "USA30yearGovBond          0.373123  \n",
       "EmergingMarkets           0.202565  \n",
       "WorldxUSA                 0.444938  \n",
       "WorldxUSAGovBond          1.000000  "
      ]
     },
     "execution_count": 82,
     "metadata": {},
     "output_type": "execute_result"
    }
   ],
   "source": [
    "Data.drop('RF',axis=1).corr()"
   ]
  },
  {
   "cell_type": "markdown",
   "metadata": {
    "colab_type": "text",
    "id": "PeyV2qXLySS5"
   },
   "source": [
    "* What is noteworthy about these relationships?\n",
    "\n",
    "* What is safer for an US investor? US bond portfolio or World bond portfolio?\n",
    "\n",
    "* What is safer for an international investor? US bond portfolio or World bond portfolio?\n",
    "\n",
    "* Why did I drop the risk-free rate to make these calculations?\n",
    "\n",
    "* In what sense the rate of return of the risk-free rate is different from the rate of return of these other assets?\n"
   ]
  },
  {
   "cell_type": "code",
   "execution_count": 83,
   "metadata": {},
   "outputs": [
    {
     "data": {
      "text/html": [
       "<div>\n",
       "<style scoped>\n",
       "    .dataframe tbody tr th:only-of-type {\n",
       "        vertical-align: middle;\n",
       "    }\n",
       "\n",
       "    .dataframe tbody tr th {\n",
       "        vertical-align: top;\n",
       "    }\n",
       "\n",
       "    .dataframe thead th {\n",
       "        text-align: right;\n",
       "    }\n",
       "</style>\n",
       "<table border=\"1\" class=\"dataframe\">\n",
       "  <thead>\n",
       "    <tr style=\"text-align: right;\">\n",
       "      <th></th>\n",
       "      <th>RF</th>\n",
       "      <th>MKT</th>\n",
       "      <th>USA30yearGovBond</th>\n",
       "      <th>EmergingMarkets</th>\n",
       "      <th>WorldxUSA</th>\n",
       "      <th>WorldxUSAGovBond</th>\n",
       "    </tr>\n",
       "  </thead>\n",
       "  <tbody>\n",
       "    <tr>\n",
       "      <th>RF</th>\n",
       "      <td>1.000000</td>\n",
       "      <td>-0.020509</td>\n",
       "      <td>0.033045</td>\n",
       "      <td>-0.018564</td>\n",
       "      <td>0.000015</td>\n",
       "      <td>0.073384</td>\n",
       "    </tr>\n",
       "    <tr>\n",
       "      <th>MKT</th>\n",
       "      <td>-0.020509</td>\n",
       "      <td>1.000000</td>\n",
       "      <td>0.067779</td>\n",
       "      <td>0.488753</td>\n",
       "      <td>0.611369</td>\n",
       "      <td>0.204491</td>\n",
       "    </tr>\n",
       "    <tr>\n",
       "      <th>USA30yearGovBond</th>\n",
       "      <td>0.033045</td>\n",
       "      <td>0.067779</td>\n",
       "      <td>1.000000</td>\n",
       "      <td>-0.101321</td>\n",
       "      <td>-0.010180</td>\n",
       "      <td>0.373123</td>\n",
       "    </tr>\n",
       "    <tr>\n",
       "      <th>EmergingMarkets</th>\n",
       "      <td>-0.018564</td>\n",
       "      <td>0.488753</td>\n",
       "      <td>-0.101321</td>\n",
       "      <td>1.000000</td>\n",
       "      <td>0.594653</td>\n",
       "      <td>0.202565</td>\n",
       "    </tr>\n",
       "    <tr>\n",
       "      <th>WorldxUSA</th>\n",
       "      <td>0.000015</td>\n",
       "      <td>0.611369</td>\n",
       "      <td>-0.010180</td>\n",
       "      <td>0.594653</td>\n",
       "      <td>1.000000</td>\n",
       "      <td>0.444938</td>\n",
       "    </tr>\n",
       "    <tr>\n",
       "      <th>WorldxUSAGovBond</th>\n",
       "      <td>0.073384</td>\n",
       "      <td>0.204491</td>\n",
       "      <td>0.373123</td>\n",
       "      <td>0.202565</td>\n",
       "      <td>0.444938</td>\n",
       "      <td>1.000000</td>\n",
       "    </tr>\n",
       "  </tbody>\n",
       "</table>\n",
       "</div>"
      ],
      "text/plain": [
       "                        RF       MKT  USA30yearGovBond  EmergingMarkets  \\\n",
       "RF                1.000000 -0.020509          0.033045        -0.018564   \n",
       "MKT              -0.020509  1.000000          0.067779         0.488753   \n",
       "USA30yearGovBond  0.033045  0.067779          1.000000        -0.101321   \n",
       "EmergingMarkets  -0.018564  0.488753         -0.101321         1.000000   \n",
       "WorldxUSA         0.000015  0.611369         -0.010180         0.594653   \n",
       "WorldxUSAGovBond  0.073384  0.204491          0.373123         0.202565   \n",
       "\n",
       "                  WorldxUSA  WorldxUSAGovBond  \n",
       "RF                 0.000015          0.073384  \n",
       "MKT                0.611369          0.204491  \n",
       "USA30yearGovBond  -0.010180          0.373123  \n",
       "EmergingMarkets    0.594653          0.202565  \n",
       "WorldxUSA          1.000000          0.444938  \n",
       "WorldxUSAGovBond   0.444938          1.000000  "
      ]
     },
     "execution_count": 83,
     "metadata": {},
     "output_type": "execute_result"
    }
   ],
   "source": [
    "Data.corr()"
   ]
  },
  {
   "cell_type": "code",
   "execution_count": 84,
   "metadata": {
    "colab": {
     "base_uri": "https://localhost:8080/",
     "height": 296
    },
    "colab_type": "code",
    "executionInfo": {
     "elapsed": 555,
     "status": "ok",
     "timestamp": 1576440442436,
     "user": {
      "displayName": "yuchi yao",
      "photoUrl": "",
      "userId": "00457884373990713813"
     },
     "user_tz": 300
    },
    "id": "J319BcqYKgoL",
    "outputId": "86b136ff-8646-4e91-c513-c5e8c826efcf"
   },
   "outputs": [
    {
     "data": {
      "text/plain": [
       "<matplotlib.axes._subplots.AxesSubplot at 0x272171451c0>"
      ]
     },
     "execution_count": 84,
     "metadata": {},
     "output_type": "execute_result"
    },
    {
     "data": {
      "image/png": "[encoded data removed]",
      "text/plain": [
       "<Figure size 432x288 with 1 Axes>"
      ]
     },
     "metadata": {
      "needs_background": "light"
     },
     "output_type": "display_data"
    }
   ],
   "source": [
    "(Data.RF*12).plot()"
   ]
  },
  {
   "cell_type": "markdown",
   "metadata": {
    "colab_type": "text",
    "id": "ZIHL241HySSj"
   },
   "source": [
    "## Excess returns and risk-premiums\n",
    "\n",
    "\n",
    "* It is convenient to decompose the return earned in terms of what you earn due to\n",
    "  1. compensation for waiting (time-value of money)\n",
    "  2. compensation for bearing risk (risk premium)\n",
    " \n",
    "* To do the decomposition, we will do the following:\n",
    "  * We first define an \"<b>excess return</b>\"： the return minus the risk-free rate \n",
    " \n",
    " $$R_i^e=R_i-R_f$$\n",
    " \n",
    "  * We typically use the returns of a 3-month treasury bill to measure $R_f$\n",
    " \n",
    "  * So the excess return of the market is\n",
    "\n",
    "      $$R^e_{MKT}=R_{MKT}-R_f$$\n",
    "\n",
    "  * i.e. how much more I would get if I invested in the market instead of a short-term risk-free U.S. treasury bond\n",
    "\n",
    "  * We call the Expected difference, the <b>Risk-Premium</b>\n",
    "\n",
    "      $$E[R_i^e]=E[R_i-R_f]$$\n",
    "\n",
    "  * It is how much more you expect to get by investing in asset $i$ instead of the risk-free asset\n",
    "\n",
    "  * When asset $i$ is the total market portfolio of US equities, we call this, the <b>Equity Risky Premium</b>\n",
    "\n",
    "* <b>Equity Risky Premium</b>\n",
    "\n",
    "  $$E[R_{MKT}^e]=E[R_{MKT}-R_f]$$\n"
   ]
  },
  {
   "cell_type": "code",
   "execution_count": 62,
   "metadata": {
    "colab": {
     "base_uri": "https://localhost:8080/",
     "height": 34
    },
    "colab_type": "code",
    "executionInfo": {
     "elapsed": 426,
     "status": "ok",
     "timestamp": 1576437906903,
     "user": {
      "displayName": "yuchi yao",
      "photoUrl": "",
      "userId": "00457884373990713813"
     },
     "user_tz": 300
    },
    "id": "xKicmafrySSk",
    "outputId": "77e55092-87ce-4d1f-be2d-1857bb62f173"
   },
   "outputs": [
    {
     "data": {
      "text/plain": [
       "0.005140340030911903"
      ]
     },
     "execution_count": 62,
     "metadata": {},
     "output_type": "execute_result"
    }
   ],
   "source": [
    "(Data.MKT-Data.RF).mean()"
   ]
  },
  {
   "cell_type": "code",
   "execution_count": 63,
   "metadata": {
    "colab": {
     "base_uri": "https://localhost:8080/",
     "height": 34
    },
    "colab_type": "code",
    "executionInfo": {
     "elapsed": 376,
     "status": "ok",
     "timestamp": 1576437909263,
     "user": {
      "displayName": "yuchi yao",
      "photoUrl": "",
      "userId": "00457884373990713813"
     },
     "user_tz": 300
    },
    "id": "F2j9hyxqySSm",
    "outputId": "813f4349-67f7-4ddc-bc26-6f84bcb79068"
   },
   "outputs": [
    {
     "data": {
      "text/plain": [
       "0.06168408037094284"
      ]
     },
     "execution_count": 63,
     "metadata": {},
     "output_type": "execute_result"
    }
   ],
   "source": [
    "(Data.MKT-Data.RF).mean()*12"
   ]
  },
  {
   "cell_type": "markdown",
   "metadata": {
    "colab_type": "text",
    "id": "Ssnpl6hMySSo"
   },
   "source": [
    "What does this mean?\n",
    "\n",
    "Lets look at how much money one would have if they had invested 1 dollar in the market and kept reinvesting until the end of our sample\n",
    "\n",
    "lets then compare with an investment in the risk-free rate\n",
    "\n",
    "$$(1+r_1)(1+r_2)....(1+r_T)$$"
   ]
  },
  {
   "cell_type": "code",
   "execution_count": 64,
   "metadata": {
    "colab": {
     "base_uri": "https://localhost:8080/",
     "height": 296
    },
    "colab_type": "code",
    "executionInfo": {
     "elapsed": 563,
     "status": "ok",
     "timestamp": 1576438109907,
     "user": {
      "displayName": "yuchi yao",
      "photoUrl": "",
      "userId": "00457884373990713813"
     },
     "user_tz": 300
    },
    "id": "pKpAJ8ziySSo",
    "outputId": "9d6d473b-386d-45a6-e111-b5567ed8a7ed"
   },
   "outputs": [
    {
     "data": {
      "text/plain": [
       "<matplotlib.axes._subplots.AxesSubplot at 0x272170afd30>"
      ]
     },
     "execution_count": 64,
     "metadata": {},
     "output_type": "execute_result"
    },
    {
     "data": {
      "image/png": "[encoded data removed]",
      "text/plain": [
       "<Figure size 432x288 with 1 Axes>"
      ]
     },
     "metadata": {
      "needs_background": "light"
     },
     "output_type": "display_data"
    }
   ],
   "source": [
    "(1+Data[['RF','MKT']]).cumprod().plot()"
   ]
  },
  {
   "cell_type": "markdown",
   "metadata": {
    "colab_type": "text",
    "id": "PzLose_JySSq"
   },
   "source": [
    "This means that someone that invested 1 dollar in the market in 63, would have 182 dollars today.\n",
    "\n",
    "A tota return of 182/1-1=18,100\\%\n",
    "\n",
    "If you invested in the risk-free rate you would have\n",
    "\n",
    "12.5/1-1= 1,150\\% which is a bit above the inflation in this same period"
   ]
  },
  {
   "cell_type": "code",
   "execution_count": 66,
   "metadata": {
    "colab": {
     "base_uri": "https://localhost:8080/",
     "height": 111
    },
    "colab_type": "code",
    "executionInfo": {
     "elapsed": 355,
     "status": "ok",
     "timestamp": 1576438478238,
     "user": {
      "displayName": "yuchi yao",
      "photoUrl": "",
      "userId": "00457884373990713813"
     },
     "user_tz": 300
    },
    "id": "gbPm1UlhySSr",
    "outputId": "fd6ad9c6-8e6b-44b3-b997-c264babbf025"
   },
   "outputs": [
    {
     "data": {
      "text/plain": [
       "RF      12.472682\n",
       "MKT    181.954557\n",
       "dtype: float64"
      ]
     },
     "execution_count": 66,
     "metadata": {},
     "output_type": "execute_result"
    }
   ],
   "source": [
    "(1+Data[['RF','MKT']]).cumprod().tail(1)\n",
    "(1+Data[['RF','MKT']]).prod()"
   ]
  }
 ],
 "metadata": {
  "colab": {
   "collapsed_sections": [],
   "name": "Notebook 3.ipynb",
   "provenance": [],
   "toc_visible": true
  },
  "kernelspec": {
   "display_name": "Python 3",
   "language": "python",
   "name": "python3"
  },
  "language_info": {
   "codemirror_mode": {
    "name": "ipython",
    "version": 3
   },
   "file_extension": ".py",
   "mimetype": "text/x-python",
   "name": "python",
   "nbconvert_exporter": "python",
   "pygments_lexer": "ipython3",
   "version": "3.8.5"
  },
  "toc-autonumbering": true
 },
 "nbformat": 4,
 "nbformat_minor": 4
}
