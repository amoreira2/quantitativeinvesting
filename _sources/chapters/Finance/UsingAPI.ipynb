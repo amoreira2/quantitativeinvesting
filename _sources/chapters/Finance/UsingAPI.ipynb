{
 "cells": [
  {
   "cell_type": "code",
   "execution_count": 8,
   "id": "supreme-single",
   "metadata": {},
   "outputs": [],
   "source": [
    "# start by loading data on the returns of the market portfolio and the risk-free rate\n",
    "import pandas as pd\n",
    "import numpy as np\n",
    "import matplotlib.pyplot as plt\n",
    "%matplotlib inline"
   ]
  },
  {
   "cell_type": "markdown",
   "id": "identical-original",
   "metadata": {
    "colab_type": "text",
    "id": "3SjHatHlQ1um"
   },
   "source": [
    "# Using APIs\n",
    "\n",
    "* Pandas has an eco-system of APIs that allow you to get data from the web directly into a pandas dataframe\n",
    "\n",
    "\n",
    "**FRED**\n",
    "* Here we will look at one API that gets macro and financial data from the Federal Reserve Bank of St louis\n",
    "\n",
    "* Lots and lots of data!\n",
    "\n",
    "  https://fred.stlouisfed.org/categories\n",
    "\n",
    "\n",
    "* For example the yield on the three month treasury bill\n",
    "\n",
    "  https://fred.stlouisfed.org/series/DTB3\n",
    "\n",
    "\n",
    "* you will also need to apply for an API key here\n",
    "\n",
    "  https://research.stlouisfed.org/docs/api/api_key.html\n",
    "\n",
    "* once you have it you use it to do this:"
   ]
  },
  {
   "cell_type": "code",
   "execution_count": 100,
   "id": "touched-bishop",
   "metadata": {
    "colab": {
     "base_uri": "https://localhost:8080/",
     "height": 190
    },
    "colab_type": "code",
    "executionInfo": {
     "elapsed": 7723,
     "status": "ok",
     "timestamp": 1576511225997,
     "user": {
      "displayName": "yuchi yao",
      "photoUrl": "",
      "userId": "00457884373990713813"
     },
     "user_tz": 300
    },
    "id": "SQI5qwrzQ1un",
    "outputId": "e3aab311-5131-4c2d-cc22-6ceb702b14ae"
   },
   "outputs": [
    {
     "name": "stdout",
     "output_type": "stream",
     "text": [
      "Requirement already satisfied: fredapi in c:\\programdata\\anaconda3\\lib\\site-packages (0.4.2)\n",
      "Requirement already satisfied: pandas in c:\\programdata\\anaconda3\\lib\\site-packages (from fredapi) (1.0.5)\n",
      "Requirement already satisfied: pytz>=2017.2 in c:\\programdata\\anaconda3\\lib\\site-packages (from pandas->fredapi) (2020.1)\n",
      "Requirement already satisfied: numpy>=1.13.3 in c:\\programdata\\anaconda3\\lib\\site-packages (from pandas->fredapi) (1.18.5)\n",
      "Requirement already satisfied: python-dateutil>=2.6.1 in c:\\programdata\\anaconda3\\lib\\site-packages (from pandas->fredapi) (2.8.1)\n",
      "Requirement already satisfied: six>=1.5 in c:\\programdata\\anaconda3\\lib\\site-packages (from python-dateutil>=2.6.1->pandas->fredapi) (1.15.0)\n"
     ]
    }
   ],
   "source": [
    "\n",
    "from fredapi import Fred\n",
    "fred = Fred(api_key='f9207136b3333d7cf92c07273f6f5530')\n",
    "data = fred.get_series('DTB3')\n",
    "data.plot()"
   ]
  },
  {
   "cell_type": "code",
   "execution_count": 101,
   "id": "subject-veteran",
   "metadata": {},
   "outputs": [
    {
     "data": {
      "text/plain": [
       "<matplotlib.axes._subplots.AxesSubplot at 0x1f82fef2880>"
      ]
     },
     "execution_count": 101,
     "metadata": {},
     "output_type": "execute_result"
    },
    {
     "data": {
      "image/png": "[encoded data removed]",
      "text/plain": [
       "<Figure size 432x288 with 1 Axes>"
      ]
     },
     "metadata": {
      "needs_background": "light"
     },
     "output_type": "display_data"
    }
   ],
   "source": [
    "data = fred.get_series('VIXCLS')\n",
    "data.plot()"
   ]
  },
  {
   "cell_type": "markdown",
   "id": "changed-culture",
   "metadata": {},
   "source": [
    "**Google Trends**"
   ]
  },
  {
   "cell_type": "code",
   "execution_count": 4,
   "id": "decreased-teaching",
   "metadata": {},
   "outputs": [
    {
     "data": {
      "text/plain": [
       "<AxesSubplot:xlabel='date'>"
      ]
     },
     "execution_count": 4,
     "metadata": {},
     "output_type": "execute_result"
    },
    {
     "data": {
      "image/png": "[encoded data removed]",
      "text/plain": [
       "<Figure size 432x288 with 1 Axes>"
      ]
     },
     "metadata": {
      "needs_background": "light"
     },
     "output_type": "display_data"
    }
   ],
   "source": [
    "from pytrends.request import TrendReq\n",
    "pytrend = TrendReq()\n",
    "pytrend.build_payload(kw_list=['wallstreetbets','GME'],timeframe='all')\n",
    "Googletrends=pytrend.interest_over_time()\n",
    "Googletrends.plot()"
   ]
  },
  {
   "cell_type": "markdown",
   "id": "naked-animal",
   "metadata": {},
   "source": [
    "**WallStreet**\n",
    "\n",
    "- allow you to get real time data on stocks, calls, and put options\n",
    "- Also allow you to very easily get historical data\n",
    "* here is the manual:https://github.com/mcdallas/wallstreet"
   ]
  },
  {
   "cell_type": "code",
   "execution_count": 41,
   "id": "shaped-announcement",
   "metadata": {},
   "outputs": [],
   "source": [
    "# You will have to install it the first tiem you ever run this, so uncomment the comment below\n",
    "#!pip install wallstreet\n",
    "from wallstreet import Stock, Call, Put\n",
    "s = Stock('GME')"
   ]
  },
  {
   "cell_type": "code",
   "execution_count": 43,
   "id": "alpha-error",
   "metadata": {},
   "outputs": [
    {
     "data": {
      "text/plain": [
       "159.49"
      ]
     },
     "execution_count": 43,
     "metadata": {},
     "output_type": "execute_result"
    }
   ],
   "source": [
    "# this is the latest price of GME stock\n",
    "s.price"
   ]
  },
  {
   "cell_type": "code",
   "execution_count": 46,
   "id": "proud-importance",
   "metadata": {},
   "outputs": [
    {
     "data": {
      "text/html": [
       "<div>\n",
       "<style scoped>\n",
       "    .dataframe tbody tr th:only-of-type {\n",
       "        vertical-align: middle;\n",
       "    }\n",
       "\n",
       "    .dataframe tbody tr th {\n",
       "        vertical-align: top;\n",
       "    }\n",
       "\n",
       "    .dataframe thead th {\n",
       "        text-align: right;\n",
       "    }\n",
       "</style>\n",
       "<table border=\"1\" class=\"dataframe\">\n",
       "  <thead>\n",
       "    <tr style=\"text-align: right;\">\n",
       "      <th></th>\n",
       "      <th>Date</th>\n",
       "      <th>Open</th>\n",
       "      <th>High</th>\n",
       "      <th>Low</th>\n",
       "      <th>Close</th>\n",
       "      <th>Adj Close</th>\n",
       "      <th>Volume</th>\n",
       "    </tr>\n",
       "  </thead>\n",
       "  <tbody>\n",
       "    <tr>\n",
       "      <th>0</th>\n",
       "      <td>2018-08-10</td>\n",
       "      <td>15.180000</td>\n",
       "      <td>15.600000</td>\n",
       "      <td>15.100000</td>\n",
       "      <td>15.320000</td>\n",
       "      <td>14.079642</td>\n",
       "      <td>2416400</td>\n",
       "    </tr>\n",
       "    <tr>\n",
       "      <th>1</th>\n",
       "      <td>2018-08-13</td>\n",
       "      <td>15.350000</td>\n",
       "      <td>15.380000</td>\n",
       "      <td>15.110000</td>\n",
       "      <td>15.210000</td>\n",
       "      <td>13.978548</td>\n",
       "      <td>2100900</td>\n",
       "    </tr>\n",
       "    <tr>\n",
       "      <th>2</th>\n",
       "      <td>2018-08-14</td>\n",
       "      <td>15.270000</td>\n",
       "      <td>15.570000</td>\n",
       "      <td>15.200000</td>\n",
       "      <td>15.500000</td>\n",
       "      <td>14.245070</td>\n",
       "      <td>1953400</td>\n",
       "    </tr>\n",
       "    <tr>\n",
       "      <th>3</th>\n",
       "      <td>2018-08-15</td>\n",
       "      <td>15.460000</td>\n",
       "      <td>15.500000</td>\n",
       "      <td>15.190000</td>\n",
       "      <td>15.420000</td>\n",
       "      <td>14.171547</td>\n",
       "      <td>2097600</td>\n",
       "    </tr>\n",
       "    <tr>\n",
       "      <th>4</th>\n",
       "      <td>2018-08-16</td>\n",
       "      <td>15.540000</td>\n",
       "      <td>15.560000</td>\n",
       "      <td>15.220000</td>\n",
       "      <td>15.220000</td>\n",
       "      <td>13.987739</td>\n",
       "      <td>1719700</td>\n",
       "    </tr>\n",
       "    <tr>\n",
       "      <th>...</th>\n",
       "      <td>...</td>\n",
       "      <td>...</td>\n",
       "      <td>...</td>\n",
       "      <td>...</td>\n",
       "      <td>...</td>\n",
       "      <td>...</td>\n",
       "      <td>...</td>\n",
       "    </tr>\n",
       "    <tr>\n",
       "      <th>683</th>\n",
       "      <td>2021-04-29</td>\n",
       "      <td>176.559998</td>\n",
       "      <td>180.860001</td>\n",
       "      <td>170.750000</td>\n",
       "      <td>176.190002</td>\n",
       "      <td>176.190002</td>\n",
       "      <td>3760300</td>\n",
       "    </tr>\n",
       "    <tr>\n",
       "      <th>684</th>\n",
       "      <td>2021-04-30</td>\n",
       "      <td>175.000000</td>\n",
       "      <td>183.800003</td>\n",
       "      <td>172.699997</td>\n",
       "      <td>173.589996</td>\n",
       "      <td>173.589996</td>\n",
       "      <td>4417200</td>\n",
       "    </tr>\n",
       "    <tr>\n",
       "      <th>685</th>\n",
       "      <td>2021-05-03</td>\n",
       "      <td>177.490005</td>\n",
       "      <td>177.490005</td>\n",
       "      <td>159.610001</td>\n",
       "      <td>162.199997</td>\n",
       "      <td>162.199997</td>\n",
       "      <td>5261000</td>\n",
       "    </tr>\n",
       "    <tr>\n",
       "      <th>686</th>\n",
       "      <td>2021-05-04</td>\n",
       "      <td>159.000000</td>\n",
       "      <td>161.490005</td>\n",
       "      <td>151.800003</td>\n",
       "      <td>160.729996</td>\n",
       "      <td>160.729996</td>\n",
       "      <td>4001500</td>\n",
       "    </tr>\n",
       "    <tr>\n",
       "      <th>687</th>\n",
       "      <td>2021-05-05</td>\n",
       "      <td>161.830002</td>\n",
       "      <td>165.500000</td>\n",
       "      <td>158.345306</td>\n",
       "      <td>159.490005</td>\n",
       "      <td>159.490005</td>\n",
       "      <td>2750657</td>\n",
       "    </tr>\n",
       "  </tbody>\n",
       "</table>\n",
       "<p>688 rows × 7 columns</p>\n",
       "</div>"
      ],
      "text/plain": [
       "          Date        Open        High         Low       Close   Adj Close  \\\n",
       "0   2018-08-10   15.180000   15.600000   15.100000   15.320000   14.079642   \n",
       "1   2018-08-13   15.350000   15.380000   15.110000   15.210000   13.978548   \n",
       "2   2018-08-14   15.270000   15.570000   15.200000   15.500000   14.245070   \n",
       "3   2018-08-15   15.460000   15.500000   15.190000   15.420000   14.171547   \n",
       "4   2018-08-16   15.540000   15.560000   15.220000   15.220000   13.987739   \n",
       "..         ...         ...         ...         ...         ...         ...   \n",
       "683 2021-04-29  176.559998  180.860001  170.750000  176.190002  176.190002   \n",
       "684 2021-04-30  175.000000  183.800003  172.699997  173.589996  173.589996   \n",
       "685 2021-05-03  177.490005  177.490005  159.610001  162.199997  162.199997   \n",
       "686 2021-05-04  159.000000  161.490005  151.800003  160.729996  160.729996   \n",
       "687 2021-05-05  161.830002  165.500000  158.345306  159.490005  159.490005   \n",
       "\n",
       "      Volume  \n",
       "0    2416400  \n",
       "1    2100900  \n",
       "2    1953400  \n",
       "3    2097600  \n",
       "4    1719700  \n",
       "..       ...  \n",
       "683  3760300  \n",
       "684  4417200  \n",
       "685  5261000  \n",
       "686  4001500  \n",
       "687  2750657  \n",
       "\n",
       "[688 rows x 7 columns]"
      ]
     },
     "execution_count": 46,
     "metadata": {},
     "output_type": "execute_result"
    }
   ],
   "source": [
    "# this gives you historical information\n",
    "df = s.historical(days_back=1000, frequency='d')\n",
    "df"
   ]
  },
  {
   "cell_type": "code",
   "execution_count": 49,
   "id": "compatible-associate",
   "metadata": {},
   "outputs": [
    {
     "data": {
      "text/plain": [
       "Text(0.5, 1.0, 'Wild!')"
      ]
     },
     "execution_count": 49,
     "metadata": {},
     "output_type": "execute_result"
    },
    {
     "data": {
      "image/png": "[encoded data removed]",
      "text/plain": [
       "<Figure size 432x288 with 1 Axes>"
      ]
     },
     "metadata": {
      "needs_background": "light"
     },
     "output_type": "display_data"
    }
   ],
   "source": [
    "df.set_index('Date').Close.plot()\n",
    "plt.title('Wild!')"
   ]
  },
  {
   "cell_type": "markdown",
   "id": "distinct-polls",
   "metadata": {},
   "source": [
    "**Options too (opt)**\n",
    "\n",
    "If you are very bold you can also get into options\n",
    "\n",
    "You can get strikes and maturities"
   ]
  },
  {
   "cell_type": "code",
   "execution_count": 55,
   "id": "opposite-syndicate",
   "metadata": {},
   "outputs": [
    {
     "name": "stdout",
     "output_type": "stream",
     "text": [
      "No options listed for given date, using 07-05-2021 instead\n",
      "['07-05-2021', '14-05-2021', '21-05-2021', '28-05-2021', '04-06-2021']\n",
      "(10, 20, 30, 40, 50, 60, 70, 80, 90, 100, 110, 120, 130, 134, 135, 136, 137, 138, 139, 140, 141, 142, 143, 144, 145, 146, 147, 148, 149, 150)\n"
     ]
    }
   ],
   "source": [
    "g = Call('GME')\n",
    "print(g.expirations[0:5])\n",
    "print(g.strikes[0:30])"
   ]
  },
  {
   "cell_type": "code",
   "execution_count": 65,
   "id": "loose-federal",
   "metadata": {},
   "outputs": [
    {
     "data": {
      "text/plain": [
       "0.9663713014521318"
      ]
     },
     "execution_count": 65,
     "metadata": {},
     "output_type": "execute_result"
    }
   ],
   "source": [
    "g = Call('GME', d=14, m=5, y=2021, strike=150)\n",
    "g.implied_volatility()"
   ]
  },
  {
   "cell_type": "markdown",
   "id": "wound-jefferson",
   "metadata": {},
   "source": [
    "It is cool: We can even recover the entire volatility smile by looking across strikes\n",
    "\n",
    "Ask Robert Novy-MArx all about it in the Option class!"
   ]
  },
  {
   "cell_type": "code",
   "execution_count": 109,
   "id": "greater-boston",
   "metadata": {},
   "outputs": [
    {
     "name": "stdout",
     "output_type": "stream",
     "text": [
      "2021-05-28 00:00:00\n"
     ]
    },
    {
     "name": "stderr",
     "output_type": "stream",
     "text": [
      "<ipython-input-109-8ccfd570ac19>:10: DeprecationWarning: The default dtype for empty Series will be 'object' instead of 'float64' in a future version. Specify a dtype explicitly to silence this warning.\n",
      "  smile=pd.Series([],index=[])\n"
     ]
    }
   ],
   "source": [
    "from datetime import datetime\n",
    "ticker='SPY'\n",
    "g = Put(ticker)\n",
    "spot = Stock(ticker).price\n",
    "strikes=g.strikes\n",
    "expirations=g.expirations\n",
    "m=10\n",
    "maturity=datetime.strptime(expirations[m],'%d-%m-%Y')\n",
    "print(maturity)\n",
    "smile=pd.Series([],index=[])\n",
    "g = Call(ticker, d=maturity.day, m=maturity.month, y=maturity.year)\n",
    "strikes=g.strikes\n",
    "for s in strikes[0::2]:\n",
    "    if (s/spot>0.9) & (s/spot<1.1):\n",
    "        g.set_strike(s)\n",
    "        smile.at[s]=g.implied_volatility()\n",
    "\n"
   ]
  },
  {
   "cell_type": "code",
   "execution_count": 110,
   "id": "orange-agent",
   "metadata": {},
   "outputs": [
    {
     "data": {
      "text/plain": [
       "<AxesSubplot:>"
      ]
     },
     "execution_count": 110,
     "metadata": {},
     "output_type": "execute_result"
    },
    {
     "data": {
      "image/png": "[encoded data removed]",
      "text/plain": [
       "<Figure size 432x288 with 1 Axes>"
      ]
     },
     "metadata": {
      "needs_background": "light"
     },
     "output_type": "display_data"
    }
   ],
   "source": [
    "smile.plot()"
   ]
  },
  {
   "cell_type": "markdown",
   "id": "dried-reach",
   "metadata": {},
   "source": [
    "**WRDS**\n",
    "\n",
    "WRDS has all sorts of amazing data for finance. For equity prices and mutual funds in particular.\n",
    "\n",
    "You can easily register for an account here https://wrds-www.wharton.upenn.edu/register/\n",
    "\n",
    "In this class we will use it go get stock market data and also data on company earnigns and other balance sheet information\n",
    "\n",
    "Google/Yahoo finance data are nice to play with, but they tend to have errors in it. So if you are doing serious work I will probably advise agaist using them only. And WRDS is really the gold standard, but the data publication lag is long, so you can use it to do research, but not to trade\n",
    "\n",
    "to use it you have to load two libraries"
   ]
  },
  {
   "cell_type": "code",
   "execution_count": 5,
   "id": "corrected-compact",
   "metadata": {},
   "outputs": [],
   "source": [
    "import wrds\n",
    "import psycopg2 \n",
    "\n"
   ]
  },
  {
   "cell_type": "markdown",
   "id": "advised-hygiene",
   "metadata": {},
   "source": [
    "You then initiate a connection when you are requested to type your pasword and username"
   ]
  },
  {
   "cell_type": "code",
   "execution_count": 6,
   "id": "contained-prayer",
   "metadata": {},
   "outputs": [
    {
     "name": "stdin",
     "output_type": "stream",
     "text": [
      "Enter your WRDS username [Alan.Moreira]: moreira5\n",
      "Enter your password: ···········\n"
     ]
    },
    {
     "name": "stdout",
     "output_type": "stream",
     "text": [
      "WRDS recommends setting up a .pgpass file.\n",
      "You can find more info here:\n",
      "https://www.postgresql.org/docs/9.5/static/libpq-pgpass.html.\n",
      "Loading library list...\n",
      "Done\n"
     ]
    }
   ],
   "source": [
    "conn=wrds.Connection()"
   ]
  },
  {
   "cell_type": "markdown",
   "id": "worldwide-marina",
   "metadata": {},
   "source": [
    "With this connection you can use their SQL interface to get the desired data\n",
    "\n",
    "Here I recommend most copying and pasting code across the web.\n",
    "\n",
    "This website by Freda Drechsler provides lots of guidance and code on how to do it\n",
    "\n",
    "https://www.fredasongdrechsler.com/intro-to-python-for-fnce/maneuvering-wrds-data\n",
    "\n",
    "and also has lots of code that teaches you how to get both financial and accouting information from WRDS, for example, (https://www.fredasongdrechsler.com/full-python-code/dgtw)\n",
    "\n",
    "Below we will simply write a fucntion that dowloads dailt return data for a given firm"
   ]
  },
  {
   "cell_type": "code",
   "execution_count": 10,
   "id": "serial-waterproof",
   "metadata": {},
   "outputs": [],
   "source": [
    "def get_returns(tickers,conn,startdate,enddate):\n",
    "    ticker=tickers[0]\n",
    "    df = conn.raw_sql(\"\"\"\n",
    "                          select a.permno, b.ticker, a.date,a.ret \n",
    "                          from crsp.dsf as a\n",
    "                          left join crsp.msenames as b\n",
    "                          on a.permno=b.permno\n",
    "                          and b.namedt<=a.date\n",
    "                          and a.date<=b.nameendt\n",
    "                          where a.date between '\"\"\"+ startdate+\"\"\"'  and '\"\"\"+ enddate+            \n",
    "                          \"\"\"' and  b.ticker='\"\"\"+ticker+\"'\")\n",
    "            \n",
    "    df.set_index(['date','permno'],inplace=True)\n",
    "    df=df['ret'].unstack()\n",
    "    return df"
   ]
  },
  {
   "cell_type": "code",
   "execution_count": 11,
   "id": "logical-universe",
   "metadata": {},
   "outputs": [],
   "source": [
    "df=get_returns(['TSLA'],conn,'1/1/2017','1/1/2022')\n",
    "df.plot()"
   ]
  },
  {
   "cell_type": "markdown",
   "id": "located-publication",
   "metadata": {},
   "source": [
    "If I wanted other information I would have to know this information is named in the database\n",
    "\n",
    "For example, \n",
    "- vol gets tradign volume (in shares),\n",
    "- prc gets the unadjusted price, \n",
    "- retx gets returns without dividends\n",
    "- shrout gets share outstanding\n",
    "\n",
    "\n",
    "In the end of this notebook you put a list of data that this particular data set in wrds allow you easy access to.It also has a description of how missing values are handled.\n",
    "\n",
    "\n"
   ]
  },
  {
   "cell_type": "markdown",
   "id": "pointed-maryland",
   "metadata": {},
   "source": [
    "To construct the market cap you need both the price and the shareoutstanding, which you can easily download with a single function call by adding to your code\n",
    "\n"
   ]
  },
  {
   "cell_type": "code",
   "execution_count": 22,
   "id": "identical-gauge",
   "metadata": {},
   "outputs": [],
   "source": [
    "def get_data(tickers,conn,startdate,enddate):\n",
    "    ticker=tickers[0]\n",
    "    df = conn.raw_sql(\"\"\"\n",
    "                          select a.permno, b.ticker, a.date,a.prc,a.shrout \n",
    "                          from crsp.dsf as a\n",
    "                          left join crsp.msenames as b\n",
    "                          on a.permno=b.permno\n",
    "                          and b.namedt<=a.date\n",
    "                          and a.date<=b.nameendt\n",
    "                          where a.date between '\"\"\"+ startdate+\"\"\"'  and '\"\"\"+ enddate+            \n",
    "                          \"\"\"' and  b.ticker='\"\"\"+ticker+\"'\")\n",
    "            \n",
    "    df.set_index(['date','permno'],inplace=True)\n",
    " #   I commented out this step because now I would like to get more than one variable so I cannot unstack\n",
    "  #  df=df[variable].unstack()\n",
    "    return df"
   ]
  },
  {
   "cell_type": "code",
   "execution_count": 25,
   "id": "qualified-imperial",
   "metadata": {},
   "outputs": [
    {
     "data": {
      "text/html": [
       "<div>\n",
       "<style scoped>\n",
       "    .dataframe tbody tr th:only-of-type {\n",
       "        vertical-align: middle;\n",
       "    }\n",
       "\n",
       "    .dataframe tbody tr th {\n",
       "        vertical-align: top;\n",
       "    }\n",
       "\n",
       "    .dataframe thead th {\n",
       "        text-align: right;\n",
       "    }\n",
       "</style>\n",
       "<table border=\"1\" class=\"dataframe\">\n",
       "  <thead>\n",
       "    <tr style=\"text-align: right;\">\n",
       "      <th></th>\n",
       "      <th></th>\n",
       "      <th>ticker</th>\n",
       "      <th>prc</th>\n",
       "      <th>shrout</th>\n",
       "    </tr>\n",
       "    <tr>\n",
       "      <th>date</th>\n",
       "      <th>permno</th>\n",
       "      <th></th>\n",
       "      <th></th>\n",
       "      <th></th>\n",
       "    </tr>\n",
       "  </thead>\n",
       "  <tbody>\n",
       "    <tr>\n",
       "      <th>2020-12-24</th>\n",
       "      <th>93436.0</th>\n",
       "      <td>TSLA</td>\n",
       "      <td>661.770020</td>\n",
       "      <td>947901.0</td>\n",
       "    </tr>\n",
       "    <tr>\n",
       "      <th>2020-12-28</th>\n",
       "      <th>93436.0</th>\n",
       "      <td>TSLA</td>\n",
       "      <td>663.690002</td>\n",
       "      <td>947901.0</td>\n",
       "    </tr>\n",
       "    <tr>\n",
       "      <th>2020-12-29</th>\n",
       "      <th>93436.0</th>\n",
       "      <td>TSLA</td>\n",
       "      <td>665.989990</td>\n",
       "      <td>947901.0</td>\n",
       "    </tr>\n",
       "    <tr>\n",
       "      <th>2020-12-30</th>\n",
       "      <th>93436.0</th>\n",
       "      <td>TSLA</td>\n",
       "      <td>694.780029</td>\n",
       "      <td>947901.0</td>\n",
       "    </tr>\n",
       "    <tr>\n",
       "      <th>2020-12-31</th>\n",
       "      <th>93436.0</th>\n",
       "      <td>TSLA</td>\n",
       "      <td>705.669983</td>\n",
       "      <td>947901.0</td>\n",
       "    </tr>\n",
       "  </tbody>\n",
       "</table>\n",
       "</div>"
      ],
      "text/plain": [
       "                   ticker         prc    shrout\n",
       "date       permno                              \n",
       "2020-12-24 93436.0   TSLA  661.770020  947901.0\n",
       "2020-12-28 93436.0   TSLA  663.690002  947901.0\n",
       "2020-12-29 93436.0   TSLA  665.989990  947901.0\n",
       "2020-12-30 93436.0   TSLA  694.780029  947901.0\n",
       "2020-12-31 93436.0   TSLA  705.669983  947901.0"
      ]
     },
     "execution_count": 25,
     "metadata": {},
     "output_type": "execute_result"
    }
   ],
   "source": [
    "df=get_data(['TSLA'],conn,'1/1/2005','1/1/2022')\n",
    "df.tail()"
   ]
  },
  {
   "cell_type": "code",
   "execution_count": 26,
   "id": "written-renaissance",
   "metadata": {},
   "outputs": [
    {
     "data": {
      "text/plain": [
       "<AxesSubplot:xlabel='date,permno'>"
      ]
     },
     "execution_count": 26,
     "metadata": {},
     "output_type": "execute_result"
    },
    {
     "data": {
      "image/png": "[encoded data removed]",
      "text/plain": [
       "<Figure size 432x288 with 1 Axes>"
      ]
     },
     "metadata": {
      "needs_background": "light"
     },
     "output_type": "display_data"
    }
   ],
   "source": [
    "df['mcap']=df.prc.abs()*df.shrout\n",
    "# the use a negative price to say that the price is not based on end of day transaction \n",
    "#but a mid price between bid and ask\n",
    "df.mcap.plot()"
   ]
  },
  {
   "cell_type": "markdown",
   "id": "imposed-custom",
   "metadata": {},
   "source": [
    "This is ugly because we have the permno, the indentity of security as an index. To fix this, lets take this out of the index"
   ]
  },
  {
   "cell_type": "code",
   "execution_count": 27,
   "id": "handmade-cannon",
   "metadata": {},
   "outputs": [
    {
     "data": {
      "text/plain": [
       "<AxesSubplot:xlabel='date'>"
      ]
     },
     "execution_count": 27,
     "metadata": {},
     "output_type": "execute_result"
    },
    {
     "data": {
      "image/png": "[encoded data removed]",
      "text/plain": [
       "<Figure size 432x288 with 1 Axes>"
      ]
     },
     "metadata": {
      "needs_background": "light"
     },
     "output_type": "display_data"
    }
   ],
   "source": [
    "df=df.reset_index().set_index('date')\n",
    "df.mcap.plot()"
   ]
  },
  {
   "cell_type": "markdown",
   "id": "intensive-appendix",
   "metadata": {},
   "source": [
    "Truly mind blowing! "
   ]
  },
  {
   "cell_type": "markdown",
   "id": "distinct-commander",
   "metadata": {},
   "source": [
    "**Pandas Datareader**\n",
    "\n",
    "this gives you acess to several data servers\n",
    "\n",
    "We will be particularly interested in the one Ken French updates with several quant strategies\n",
    "\n",
    "Please check out https://pandas-datareader.readthedocs.io/en/latest/remote_data.html all the possiblities\n",
    "\n"
   ]
  },
  {
   "cell_type": "code",
   "execution_count": 28,
   "id": "treated-watch",
   "metadata": {},
   "outputs": [
    {
     "data": {
      "text/plain": [
       "297"
      ]
     },
     "execution_count": 28,
     "metadata": {},
     "output_type": "execute_result"
    }
   ],
   "source": [
    "from pandas_datareader.famafrench import get_available_datasets\n",
    "len(get_available_datasets())"
   ]
  },
  {
   "cell_type": "markdown",
   "id": "vocal-military",
   "metadata": {},
   "source": [
    "There are 297 different data sets in Ken French library!\n",
    "\n",
    "Below I show the full list. You can simply chose one to import, below I am import the `'49_Industry_Portfolios'` which has the portfolio of US stocks split in 49 industries.\n",
    "\n",
    "In fact if you print the `'DESCR'` field which contains the data set description you see that there are in fact 7 data sets as described below\n",
    "\n"
   ]
  },
  {
   "cell_type": "code",
   "execution_count": 1,
   "id": "eight-transmission",
   "metadata": {},
   "outputs": [
    {
     "name": "stdout",
     "output_type": "stream",
     "text": [
      "49 Industry Portfolios\n",
      "----------------------\n",
      "\n",
      "This file was created by CMPT_IND_RETS using the 202103 CRSP database. It contains value- and equal-weighted returns for 49 industry portfolios. The portfolios are constructed at the end of June. The annual returns are from January to December. Missing data are indicated by -99.99 or -999. Copyright 2021 Kenneth R. French\n",
      "\n",
      "  0 : Average Value Weighted Returns -- Monthly (1137 rows x 49 cols)\n",
      "  1 : Average Equal Weighted Returns -- Monthly (1137 rows x 49 cols)\n",
      "  2 : Average Value Weighted Returns -- Annual (94 rows x 49 cols)\n",
      "  3 : Average Equal Weighted Returns -- Annual (94 rows x 49 cols)\n",
      "  4 : Number of Firms in Portfolios (1137 rows x 49 cols)\n",
      "  5 : Average Firm Size (1137 rows x 49 cols)\n",
      "  6 : Sum of BE / Sum of ME (95 rows x 49 cols)\n",
      "  7 : Value-Weighted Average of BE/ME (95 rows x 49 cols)\n"
     ]
    }
   ],
   "source": [
    "from datetime import datetime\n",
    "import pandas_datareader.data as web\n",
    "\n",
    "start = datetime(1926, 1, 1) # this tell which month to start\n",
    "ds = web.DataReader('49_Industry_Portfolios', 'famafrench',start=start)\n",
    "print(ds['DESCR'])\n",
    "\n"
   ]
  },
  {
   "cell_type": "markdown",
   "id": "transparent-oasis",
   "metadata": {},
   "source": [
    "If you want Value weighted monthly returns you simply select `0`"
   ]
  },
  {
   "cell_type": "code",
   "execution_count": null,
   "id": "7e9c444f-be00-482a-bf18-311c16e1c29d",
   "metadata": {},
   "outputs": [],
   "source": [
    "df1=ds[0].stack()\n",
    "df2=ds[4].stack()\n",
    "df3=ds[5].stack()\n",
    "df1.name='returns'\n",
    "df2.name='nfirms'\n",
    "df3.name='size'\n",
    "df = pd.concat([df1,df2,df3], axis=1)\n",
    "df=df.reset_index()\n",
    "df=df.set_index('Date')\n",
    "df=(df).to_timestamp(how='E')\n",
    "df.index=df.index.date\n"
   ]
  },
  {
   "cell_type": "code",
   "execution_count": 45,
   "id": "e32f0d22-ea14-4605-98a8-febbdc195b4b",
   "metadata": {},
   "outputs": [
    {
     "data": {
      "text/html": [
       "<div>\n",
       "<style scoped>\n",
       "    .dataframe tbody tr th:only-of-type {\n",
       "        vertical-align: middle;\n",
       "    }\n",
       "\n",
       "    .dataframe tbody tr th {\n",
       "        vertical-align: top;\n",
       "    }\n",
       "\n",
       "    .dataframe thead th {\n",
       "        text-align: right;\n",
       "    }\n",
       "</style>\n",
       "<table border=\"1\" class=\"dataframe\">\n",
       "  <thead>\n",
       "    <tr style=\"text-align: right;\">\n",
       "      <th></th>\n",
       "      <th>level_1</th>\n",
       "      <th>returns</th>\n",
       "      <th>nfirms</th>\n",
       "      <th>size</th>\n",
       "    </tr>\n",
       "    <tr>\n",
       "      <th>Date</th>\n",
       "      <th></th>\n",
       "      <th></th>\n",
       "      <th></th>\n",
       "      <th></th>\n",
       "    </tr>\n",
       "  </thead>\n",
       "  <tbody>\n",
       "    <tr>\n",
       "      <th>1926-07-31</th>\n",
       "      <td>Agric</td>\n",
       "      <td>2.37</td>\n",
       "      <td>3</td>\n",
       "      <td>99.80</td>\n",
       "    </tr>\n",
       "    <tr>\n",
       "      <th>1926-07-31</th>\n",
       "      <td>Food</td>\n",
       "      <td>0.12</td>\n",
       "      <td>40</td>\n",
       "      <td>31.19</td>\n",
       "    </tr>\n",
       "    <tr>\n",
       "      <th>1926-07-31</th>\n",
       "      <td>Soda</td>\n",
       "      <td>-99.99</td>\n",
       "      <td>0</td>\n",
       "      <td>-99.99</td>\n",
       "    </tr>\n",
       "    <tr>\n",
       "      <th>1926-07-31</th>\n",
       "      <td>Beer</td>\n",
       "      <td>-5.19</td>\n",
       "      <td>3</td>\n",
       "      <td>7.12</td>\n",
       "    </tr>\n",
       "    <tr>\n",
       "      <th>1926-07-31</th>\n",
       "      <td>Smoke</td>\n",
       "      <td>1.29</td>\n",
       "      <td>16</td>\n",
       "      <td>59.72</td>\n",
       "    </tr>\n",
       "    <tr>\n",
       "      <th>...</th>\n",
       "      <td>...</td>\n",
       "      <td>...</td>\n",
       "      <td>...</td>\n",
       "      <td>...</td>\n",
       "    </tr>\n",
       "    <tr>\n",
       "      <th>2021-03-31</th>\n",
       "      <td>Banks</td>\n",
       "      <td>4.90</td>\n",
       "      <td>412</td>\n",
       "      <td>7511.02</td>\n",
       "    </tr>\n",
       "    <tr>\n",
       "      <th>2021-03-31</th>\n",
       "      <td>Insur</td>\n",
       "      <td>9.18</td>\n",
       "      <td>98</td>\n",
       "      <td>13675.21</td>\n",
       "    </tr>\n",
       "    <tr>\n",
       "      <th>2021-03-31</th>\n",
       "      <td>RlEst</td>\n",
       "      <td>-1.24</td>\n",
       "      <td>29</td>\n",
       "      <td>2597.92</td>\n",
       "    </tr>\n",
       "    <tr>\n",
       "      <th>2021-03-31</th>\n",
       "      <td>Fin</td>\n",
       "      <td>4.11</td>\n",
       "      <td>85</td>\n",
       "      <td>11581.57</td>\n",
       "    </tr>\n",
       "    <tr>\n",
       "      <th>2021-03-31</th>\n",
       "      <td>Other</td>\n",
       "      <td>6.03</td>\n",
       "      <td>80</td>\n",
       "      <td>18769.40</td>\n",
       "    </tr>\n",
       "  </tbody>\n",
       "</table>\n",
       "<p>55713 rows × 4 columns</p>\n",
       "</div>"
      ],
      "text/plain": [
       "           level_1  returns  nfirms      size\n",
       "Date                                         \n",
       "1926-07-31   Agric     2.37       3     99.80\n",
       "1926-07-31   Food      0.12      40     31.19\n",
       "1926-07-31   Soda    -99.99       0    -99.99\n",
       "1926-07-31   Beer     -5.19       3      7.12\n",
       "1926-07-31   Smoke     1.29      16     59.72\n",
       "...            ...      ...     ...       ...\n",
       "2021-03-31   Banks     4.90     412   7511.02\n",
       "2021-03-31   Insur     9.18      98  13675.21\n",
       "2021-03-31   RlEst    -1.24      29   2597.92\n",
       "2021-03-31   Fin       4.11      85  11581.57\n",
       "2021-03-31   Other     6.03      80  18769.40\n",
       "\n",
       "[55713 rows x 4 columns]"
      ]
     },
     "execution_count": 45,
     "metadata": {},
     "output_type": "execute_result"
    }
   ],
   "source": [
    "df.rename(columns={})"
   ]
  },
  {
   "cell_type": "code",
   "execution_count": 36,
   "id": "developed-combination",
   "metadata": {
    "jupyter": {
     "source_hidden": true
    },
    "tags": []
   },
   "outputs": [
    {
     "data": {
      "text/html": [
       "<div>\n",
       "<style scoped>\n",
       "    .dataframe tbody tr th:only-of-type {\n",
       "        vertical-align: middle;\n",
       "    }\n",
       "\n",
       "    .dataframe tbody tr th {\n",
       "        vertical-align: top;\n",
       "    }\n",
       "\n",
       "    .dataframe thead th {\n",
       "        text-align: right;\n",
       "    }\n",
       "</style>\n",
       "<table border=\"1\" class=\"dataframe\">\n",
       "  <thead>\n",
       "    <tr style=\"text-align: right;\">\n",
       "      <th></th>\n",
       "      <th>Agric</th>\n",
       "      <th>Food</th>\n",
       "      <th>Soda</th>\n",
       "      <th>Beer</th>\n",
       "      <th>Smoke</th>\n",
       "      <th>Toys</th>\n",
       "      <th>Fun</th>\n",
       "      <th>Books</th>\n",
       "      <th>Hshld</th>\n",
       "      <th>Clths</th>\n",
       "      <th>...</th>\n",
       "      <th>Boxes</th>\n",
       "      <th>Trans</th>\n",
       "      <th>Whlsl</th>\n",
       "      <th>Rtail</th>\n",
       "      <th>Meals</th>\n",
       "      <th>Banks</th>\n",
       "      <th>Insur</th>\n",
       "      <th>RlEst</th>\n",
       "      <th>Fin</th>\n",
       "      <th>Other</th>\n",
       "    </tr>\n",
       "    <tr>\n",
       "      <th>Date</th>\n",
       "      <th></th>\n",
       "      <th></th>\n",
       "      <th></th>\n",
       "      <th></th>\n",
       "      <th></th>\n",
       "      <th></th>\n",
       "      <th></th>\n",
       "      <th></th>\n",
       "      <th></th>\n",
       "      <th></th>\n",
       "      <th></th>\n",
       "      <th></th>\n",
       "      <th></th>\n",
       "      <th></th>\n",
       "      <th></th>\n",
       "      <th></th>\n",
       "      <th></th>\n",
       "      <th></th>\n",
       "      <th></th>\n",
       "      <th></th>\n",
       "      <th></th>\n",
       "    </tr>\n",
       "  </thead>\n",
       "  <tbody>\n",
       "    <tr>\n",
       "      <th>2020-11</th>\n",
       "      <td>15.18</td>\n",
       "      <td>7.32</td>\n",
       "      <td>9.22</td>\n",
       "      <td>10.88</td>\n",
       "      <td>8.05</td>\n",
       "      <td>21.89</td>\n",
       "      <td>11.40</td>\n",
       "      <td>22.89</td>\n",
       "      <td>5.80</td>\n",
       "      <td>14.27</td>\n",
       "      <td>...</td>\n",
       "      <td>10.79</td>\n",
       "      <td>17.10</td>\n",
       "      <td>15.33</td>\n",
       "      <td>7.57</td>\n",
       "      <td>11.30</td>\n",
       "      <td>18.25</td>\n",
       "      <td>11.92</td>\n",
       "      <td>21.45</td>\n",
       "      <td>16.78</td>\n",
       "      <td>15.65</td>\n",
       "    </tr>\n",
       "    <tr>\n",
       "      <th>2020-12</th>\n",
       "      <td>1.33</td>\n",
       "      <td>1.90</td>\n",
       "      <td>6.84</td>\n",
       "      <td>3.33</td>\n",
       "      <td>8.67</td>\n",
       "      <td>15.77</td>\n",
       "      <td>9.79</td>\n",
       "      <td>10.83</td>\n",
       "      <td>0.86</td>\n",
       "      <td>4.63</td>\n",
       "      <td>...</td>\n",
       "      <td>2.46</td>\n",
       "      <td>0.73</td>\n",
       "      <td>3.04</td>\n",
       "      <td>1.08</td>\n",
       "      <td>4.05</td>\n",
       "      <td>7.55</td>\n",
       "      <td>4.42</td>\n",
       "      <td>9.68</td>\n",
       "      <td>8.24</td>\n",
       "      <td>1.78</td>\n",
       "    </tr>\n",
       "    <tr>\n",
       "      <th>2021-01</th>\n",
       "      <td>2.49</td>\n",
       "      <td>-1.32</td>\n",
       "      <td>-9.60</td>\n",
       "      <td>-6.89</td>\n",
       "      <td>-2.28</td>\n",
       "      <td>6.21</td>\n",
       "      <td>-3.77</td>\n",
       "      <td>3.66</td>\n",
       "      <td>-5.78</td>\n",
       "      <td>-4.84</td>\n",
       "      <td>...</td>\n",
       "      <td>-5.13</td>\n",
       "      <td>-4.58</td>\n",
       "      <td>-1.53</td>\n",
       "      <td>0.80</td>\n",
       "      <td>-4.52</td>\n",
       "      <td>-3.40</td>\n",
       "      <td>-3.85</td>\n",
       "      <td>3.87</td>\n",
       "      <td>-1.25</td>\n",
       "      <td>-1.76</td>\n",
       "    </tr>\n",
       "    <tr>\n",
       "      <th>2021-02</th>\n",
       "      <td>12.40</td>\n",
       "      <td>-0.04</td>\n",
       "      <td>0.66</td>\n",
       "      <td>-3.21</td>\n",
       "      <td>5.73</td>\n",
       "      <td>-2.33</td>\n",
       "      <td>10.42</td>\n",
       "      <td>13.70</td>\n",
       "      <td>-0.12</td>\n",
       "      <td>4.07</td>\n",
       "      <td>...</td>\n",
       "      <td>0.87</td>\n",
       "      <td>8.78</td>\n",
       "      <td>5.70</td>\n",
       "      <td>-3.17</td>\n",
       "      <td>7.97</td>\n",
       "      <td>14.29</td>\n",
       "      <td>4.11</td>\n",
       "      <td>18.83</td>\n",
       "      <td>9.31</td>\n",
       "      <td>5.98</td>\n",
       "    </tr>\n",
       "    <tr>\n",
       "      <th>2021-03</th>\n",
       "      <td>3.35</td>\n",
       "      <td>8.07</td>\n",
       "      <td>7.15</td>\n",
       "      <td>8.45</td>\n",
       "      <td>11.71</td>\n",
       "      <td>-8.30</td>\n",
       "      <td>-3.22</td>\n",
       "      <td>5.14</td>\n",
       "      <td>7.31</td>\n",
       "      <td>0.27</td>\n",
       "      <td>...</td>\n",
       "      <td>6.00</td>\n",
       "      <td>7.84</td>\n",
       "      <td>8.73</td>\n",
       "      <td>5.36</td>\n",
       "      <td>3.15</td>\n",
       "      <td>4.90</td>\n",
       "      <td>9.18</td>\n",
       "      <td>-1.24</td>\n",
       "      <td>4.11</td>\n",
       "      <td>6.03</td>\n",
       "    </tr>\n",
       "  </tbody>\n",
       "</table>\n",
       "<p>5 rows × 49 columns</p>\n",
       "</div>"
      ],
      "text/plain": [
       "         Agric  Food   Soda   Beer   Smoke  Toys   Fun    Books  Hshld  Clths  \\\n",
       "Date                                                                            \n",
       "2020-11  15.18   7.32   9.22  10.88   8.05  21.89  11.40  22.89   5.80  14.27   \n",
       "2020-12   1.33   1.90   6.84   3.33   8.67  15.77   9.79  10.83   0.86   4.63   \n",
       "2021-01   2.49  -1.32  -9.60  -6.89  -2.28   6.21  -3.77   3.66  -5.78  -4.84   \n",
       "2021-02  12.40  -0.04   0.66  -3.21   5.73  -2.33  10.42  13.70  -0.12   4.07   \n",
       "2021-03   3.35   8.07   7.15   8.45  11.71  -8.30  -3.22   5.14   7.31   0.27   \n",
       "\n",
       "         ...  Boxes  Trans  Whlsl  Rtail  Meals  Banks  Insur  RlEst  Fin    \\\n",
       "Date     ...                                                                  \n",
       "2020-11  ...  10.79  17.10  15.33   7.57  11.30  18.25  11.92  21.45  16.78   \n",
       "2020-12  ...   2.46   0.73   3.04   1.08   4.05   7.55   4.42   9.68   8.24   \n",
       "2021-01  ...  -5.13  -4.58  -1.53   0.80  -4.52  -3.40  -3.85   3.87  -1.25   \n",
       "2021-02  ...   0.87   8.78   5.70  -3.17   7.97  14.29   4.11  18.83   9.31   \n",
       "2021-03  ...   6.00   7.84   8.73   5.36   3.15   4.90   9.18  -1.24   4.11   \n",
       "\n",
       "         Other  \n",
       "Date            \n",
       "2020-11  15.65  \n",
       "2020-12   1.78  \n",
       "2021-01  -1.76  \n",
       "2021-02   5.98  \n",
       "2021-03   6.03  \n",
       "\n",
       "[5 rows x 49 columns]"
      ]
     },
     "execution_count": 36,
     "metadata": {},
     "output_type": "execute_result"
    }
   ],
   "source": [
    "ds[0].tail()"
   ]
  },
  {
   "cell_type": "markdown",
   "id": "handed-executive",
   "metadata": {},
   "source": [
    "If you want the book to market ratio for each industry you select `6`"
   ]
  },
  {
   "cell_type": "code",
   "execution_count": 39,
   "id": "convinced-midnight",
   "metadata": {},
   "outputs": [
    {
     "data": {
      "text/html": [
       "<div>\n",
       "<style scoped>\n",
       "    .dataframe tbody tr th:only-of-type {\n",
       "        vertical-align: middle;\n",
       "    }\n",
       "\n",
       "    .dataframe tbody tr th {\n",
       "        vertical-align: top;\n",
       "    }\n",
       "\n",
       "    .dataframe thead th {\n",
       "        text-align: right;\n",
       "    }\n",
       "</style>\n",
       "<table border=\"1\" class=\"dataframe\">\n",
       "  <thead>\n",
       "    <tr style=\"text-align: right;\">\n",
       "      <th></th>\n",
       "      <th>Agric</th>\n",
       "      <th>Food</th>\n",
       "      <th>Soda</th>\n",
       "      <th>Beer</th>\n",
       "      <th>Smoke</th>\n",
       "      <th>Toys</th>\n",
       "      <th>Fun</th>\n",
       "      <th>Books</th>\n",
       "      <th>Hshld</th>\n",
       "      <th>Clths</th>\n",
       "      <th>...</th>\n",
       "      <th>Boxes</th>\n",
       "      <th>Trans</th>\n",
       "      <th>Whlsl</th>\n",
       "      <th>Rtail</th>\n",
       "      <th>Meals</th>\n",
       "      <th>Banks</th>\n",
       "      <th>Insur</th>\n",
       "      <th>RlEst</th>\n",
       "      <th>Fin</th>\n",
       "      <th>Other</th>\n",
       "    </tr>\n",
       "    <tr>\n",
       "      <th>Date</th>\n",
       "      <th></th>\n",
       "      <th></th>\n",
       "      <th></th>\n",
       "      <th></th>\n",
       "      <th></th>\n",
       "      <th></th>\n",
       "      <th></th>\n",
       "      <th></th>\n",
       "      <th></th>\n",
       "      <th></th>\n",
       "      <th></th>\n",
       "      <th></th>\n",
       "      <th></th>\n",
       "      <th></th>\n",
       "      <th></th>\n",
       "      <th></th>\n",
       "      <th></th>\n",
       "      <th></th>\n",
       "      <th></th>\n",
       "      <th></th>\n",
       "      <th></th>\n",
       "    </tr>\n",
       "  </thead>\n",
       "  <tbody>\n",
       "    <tr>\n",
       "      <th>2016</th>\n",
       "      <td>0.16</td>\n",
       "      <td>0.35</td>\n",
       "      <td>0.13</td>\n",
       "      <td>0.12</td>\n",
       "      <td>0.10</td>\n",
       "      <td>0.28</td>\n",
       "      <td>0.22</td>\n",
       "      <td>0.80</td>\n",
       "      <td>0.23</td>\n",
       "      <td>0.20</td>\n",
       "      <td>...</td>\n",
       "      <td>0.36</td>\n",
       "      <td>0.32</td>\n",
       "      <td>0.31</td>\n",
       "      <td>0.22</td>\n",
       "      <td>0.12</td>\n",
       "      <td>0.83</td>\n",
       "      <td>0.72</td>\n",
       "      <td>0.40</td>\n",
       "      <td>0.66</td>\n",
       "      <td>0.36</td>\n",
       "    </tr>\n",
       "    <tr>\n",
       "      <th>2017</th>\n",
       "      <td>0.12</td>\n",
       "      <td>0.37</td>\n",
       "      <td>0.12</td>\n",
       "      <td>0.13</td>\n",
       "      <td>0.09</td>\n",
       "      <td>0.25</td>\n",
       "      <td>0.17</td>\n",
       "      <td>0.71</td>\n",
       "      <td>0.22</td>\n",
       "      <td>0.21</td>\n",
       "      <td>...</td>\n",
       "      <td>0.29</td>\n",
       "      <td>0.25</td>\n",
       "      <td>0.31</td>\n",
       "      <td>0.21</td>\n",
       "      <td>0.16</td>\n",
       "      <td>0.63</td>\n",
       "      <td>0.60</td>\n",
       "      <td>0.33</td>\n",
       "      <td>0.49</td>\n",
       "      <td>0.34</td>\n",
       "    </tr>\n",
       "    <tr>\n",
       "      <th>2018</th>\n",
       "      <td>0.46</td>\n",
       "      <td>0.46</td>\n",
       "      <td>0.10</td>\n",
       "      <td>0.14</td>\n",
       "      <td>0.14</td>\n",
       "      <td>0.21</td>\n",
       "      <td>0.13</td>\n",
       "      <td>0.61</td>\n",
       "      <td>0.24</td>\n",
       "      <td>0.16</td>\n",
       "      <td>...</td>\n",
       "      <td>0.37</td>\n",
       "      <td>0.29</td>\n",
       "      <td>0.32</td>\n",
       "      <td>0.16</td>\n",
       "      <td>0.14</td>\n",
       "      <td>0.57</td>\n",
       "      <td>0.58</td>\n",
       "      <td>0.30</td>\n",
       "      <td>0.46</td>\n",
       "      <td>0.40</td>\n",
       "    </tr>\n",
       "    <tr>\n",
       "      <th>2019</th>\n",
       "      <td>0.61</td>\n",
       "      <td>0.44</td>\n",
       "      <td>0.08</td>\n",
       "      <td>0.14</td>\n",
       "      <td>0.17</td>\n",
       "      <td>0.17</td>\n",
       "      <td>0.14</td>\n",
       "      <td>0.71</td>\n",
       "      <td>0.18</td>\n",
       "      <td>0.16</td>\n",
       "      <td>...</td>\n",
       "      <td>0.36</td>\n",
       "      <td>0.28</td>\n",
       "      <td>0.33</td>\n",
       "      <td>0.16</td>\n",
       "      <td>0.11</td>\n",
       "      <td>0.58</td>\n",
       "      <td>0.55</td>\n",
       "      <td>0.42</td>\n",
       "      <td>0.53</td>\n",
       "      <td>0.34</td>\n",
       "    </tr>\n",
       "    <tr>\n",
       "      <th>2020</th>\n",
       "      <td>1.14</td>\n",
       "      <td>0.45</td>\n",
       "      <td>0.10</td>\n",
       "      <td>0.17</td>\n",
       "      <td>0.09</td>\n",
       "      <td>0.20</td>\n",
       "      <td>0.14</td>\n",
       "      <td>0.80</td>\n",
       "      <td>0.15</td>\n",
       "      <td>0.16</td>\n",
       "      <td>...</td>\n",
       "      <td>0.40</td>\n",
       "      <td>0.31</td>\n",
       "      <td>0.33</td>\n",
       "      <td>0.14</td>\n",
       "      <td>0.23</td>\n",
       "      <td>0.75</td>\n",
       "      <td>0.69</td>\n",
       "      <td>0.56</td>\n",
       "      <td>0.55</td>\n",
       "      <td>0.49</td>\n",
       "    </tr>\n",
       "  </tbody>\n",
       "</table>\n",
       "<p>5 rows × 49 columns</p>\n",
       "</div>"
      ],
      "text/plain": [
       "      Agric  Food   Soda   Beer   Smoke  Toys   Fun    Books  Hshld  Clths  \\\n",
       "Date                                                                         \n",
       "2016   0.16   0.35   0.13   0.12   0.10   0.28   0.22   0.80   0.23   0.20   \n",
       "2017   0.12   0.37   0.12   0.13   0.09   0.25   0.17   0.71   0.22   0.21   \n",
       "2018   0.46   0.46   0.10   0.14   0.14   0.21   0.13   0.61   0.24   0.16   \n",
       "2019   0.61   0.44   0.08   0.14   0.17   0.17   0.14   0.71   0.18   0.16   \n",
       "2020   1.14   0.45   0.10   0.17   0.09   0.20   0.14   0.80   0.15   0.16   \n",
       "\n",
       "      ...  Boxes  Trans  Whlsl  Rtail  Meals  Banks  Insur  RlEst  Fin    \\\n",
       "Date  ...                                                                  \n",
       "2016  ...   0.36   0.32   0.31   0.22   0.12   0.83   0.72   0.40   0.66   \n",
       "2017  ...   0.29   0.25   0.31   0.21   0.16   0.63   0.60   0.33   0.49   \n",
       "2018  ...   0.37   0.29   0.32   0.16   0.14   0.57   0.58   0.30   0.46   \n",
       "2019  ...   0.36   0.28   0.33   0.16   0.11   0.58   0.55   0.42   0.53   \n",
       "2020  ...   0.40   0.31   0.33   0.14   0.23   0.75   0.69   0.56   0.55   \n",
       "\n",
       "      Other  \n",
       "Date         \n",
       "2016   0.36  \n",
       "2017   0.34  \n",
       "2018   0.40  \n",
       "2019   0.34  \n",
       "2020   0.49  \n",
       "\n",
       "[5 rows x 49 columns]"
      ]
     },
     "execution_count": 39,
     "metadata": {},
     "output_type": "execute_result"
    }
   ],
   "source": [
    "ds[6].tail()"
   ]
  },
  {
   "cell_type": "markdown",
   "id": "operational-broadcast",
   "metadata": {},
   "source": [
    "Below is the full list of datasets"
   ]
  },
  {
   "cell_type": "code",
   "execution_count": 29,
   "id": "surprised-confirmation",
   "metadata": {},
   "outputs": [
    {
     "data": {
      "text/plain": [
       "['F-F_Research_Data_Factors',\n",
       " 'F-F_Research_Data_Factors_weekly',\n",
       " 'F-F_Research_Data_Factors_daily',\n",
       " 'F-F_Research_Data_5_Factors_2x3',\n",
       " 'F-F_Research_Data_5_Factors_2x3_daily',\n",
       " 'Portfolios_Formed_on_ME',\n",
       " 'Portfolios_Formed_on_ME_Wout_Div',\n",
       " 'Portfolios_Formed_on_ME_Daily',\n",
       " 'Portfolios_Formed_on_BE-ME',\n",
       " 'Portfolios_Formed_on_BE-ME_Wout_Div',\n",
       " 'Portfolios_Formed_on_BE-ME_Daily',\n",
       " 'Portfolios_Formed_on_OP',\n",
       " 'Portfolios_Formed_on_OP_Wout_Div',\n",
       " 'Portfolios_Formed_on_OP_Daily',\n",
       " 'Portfolios_Formed_on_INV',\n",
       " 'Portfolios_Formed_on_INV_Wout_Div',\n",
       " 'Portfolios_Formed_on_INV_Daily',\n",
       " '6_Portfolios_2x3',\n",
       " '6_Portfolios_2x3_Wout_Div',\n",
       " '6_Portfolios_2x3_weekly',\n",
       " '6_Portfolios_2x3_daily',\n",
       " '25_Portfolios_5x5',\n",
       " '25_Portfolios_5x5_Wout_Div',\n",
       " '25_Portfolios_5x5_Daily',\n",
       " '100_Portfolios_10x10',\n",
       " '100_Portfolios_10x10_Wout_Div',\n",
       " '100_Portfolios_10x10_Daily',\n",
       " '6_Portfolios_ME_OP_2x3',\n",
       " '6_Portfolios_ME_OP_2x3_Wout_Div',\n",
       " '6_Portfolios_ME_OP_2x3_daily',\n",
       " '25_Portfolios_ME_OP_5x5',\n",
       " '25_Portfolios_ME_OP_5x5_Wout_Div',\n",
       " '25_Portfolios_ME_OP_5x5_daily',\n",
       " '100_Portfolios_ME_OP_10x10',\n",
       " '100_Portfolios_10x10_ME_OP_Wout_Div',\n",
       " '100_Portfolios_ME_OP_10x10_daily',\n",
       " '6_Portfolios_ME_INV_2x3',\n",
       " '6_Portfolios_ME_INV_2x3_Wout_Div',\n",
       " '6_Portfolios_ME_INV_2x3_daily',\n",
       " '25_Portfolios_ME_INV_5x5',\n",
       " '25_Portfolios_ME_INV_5x5_Wout_Div',\n",
       " '25_Portfolios_ME_INV_5x5_daily',\n",
       " '100_Portfolios_ME_INV_10x10',\n",
       " '100_Portfolios_10x10_ME_INV_Wout_Div',\n",
       " '100_Portfolios_ME_INV_10x10_daily',\n",
       " '25_Portfolios_BEME_OP_5x5',\n",
       " '25_Portfolios_BEME_OP_5x5_Wout_Div',\n",
       " '25_Portfolios_BEME_OP_5x5_daily',\n",
       " '25_Portfolios_BEME_INV_5x5',\n",
       " '25_Portfolios_BEME_INV_5x5_Wout_Div',\n",
       " '25_Portfolios_BEME_INV_5x5_daily',\n",
       " '25_Portfolios_OP_INV_5x5',\n",
       " '25_Portfolios_OP_INV_5x5_Wout_Div',\n",
       " '25_Portfolios_OP_INV_5x5_daily',\n",
       " '32_Portfolios_ME_BEME_OP_2x4x4',\n",
       " '32_Portfolios_ME_BEME_OP_2x4x4_Wout_Div',\n",
       " '32_Portfolios_ME_BEME_INV_2x4x4',\n",
       " '32_Portfolios_ME_BEME_INV_2x4x4_Wout_Div',\n",
       " '32_Portfolios_ME_OP_INV_2x4x4',\n",
       " '32_Portfolios_ME_OP_INV_2x4x4_Wout_Div',\n",
       " 'Portfolios_Formed_on_E-P',\n",
       " 'Portfolios_Formed_on_E-P_Wout_Div',\n",
       " 'Portfolios_Formed_on_CF-P',\n",
       " 'Portfolios_Formed_on_CF-P_Wout_Div',\n",
       " 'Portfolios_Formed_on_D-P',\n",
       " 'Portfolios_Formed_on_D-P_Wout_Div',\n",
       " '6_Portfolios_ME_EP_2x3',\n",
       " '6_Portfolios_ME_EP_2x3_Wout_Div',\n",
       " '6_Portfolios_ME_CFP_2x3',\n",
       " '6_Portfolios_ME_CFP_2x3_Wout_Div',\n",
       " '6_Portfolios_ME_DP_2x3',\n",
       " '6_Portfolios_ME_DP_2x3_Wout_Div',\n",
       " 'F-F_Momentum_Factor',\n",
       " 'F-F_Momentum_Factor_daily',\n",
       " '6_Portfolios_ME_Prior_12_2',\n",
       " '6_Portfolios_ME_Prior_12_2_Daily',\n",
       " '25_Portfolios_ME_Prior_12_2',\n",
       " '25_Portfolios_ME_Prior_12_2_Daily',\n",
       " '10_Portfolios_Prior_12_2',\n",
       " '10_Portfolios_Prior_12_2_Daily',\n",
       " 'F-F_ST_Reversal_Factor',\n",
       " 'F-F_ST_Reversal_Factor_daily',\n",
       " '6_Portfolios_ME_Prior_1_0',\n",
       " '6_Portfolios_ME_Prior_1_0_Daily',\n",
       " '25_Portfolios_ME_Prior_1_0',\n",
       " '25_Portfolios_ME_Prior_1_0_Daily',\n",
       " '10_Portfolios_Prior_1_0',\n",
       " '10_Portfolios_Prior_1_0_Daily',\n",
       " 'F-F_LT_Reversal_Factor',\n",
       " 'F-F_LT_Reversal_Factor_daily',\n",
       " '6_Portfolios_ME_Prior_60_13',\n",
       " '6_Portfolios_ME_Prior_60_13_Daily',\n",
       " '25_Portfolios_ME_Prior_60_13',\n",
       " '25_Portfolios_ME_Prior_60_13_Daily',\n",
       " '10_Portfolios_Prior_60_13',\n",
       " '10_Portfolios_Prior_60_13_Daily',\n",
       " 'Portfolios_Formed_on_AC',\n",
       " '25_Portfolios_ME_AC_5x5',\n",
       " 'Portfolios_Formed_on_BETA',\n",
       " '25_Portfolios_ME_BETA_5x5',\n",
       " 'Portfolios_Formed_on_NI',\n",
       " '25_Portfolios_ME_NI_5x5',\n",
       " 'Portfolios_Formed_on_VAR',\n",
       " '25_Portfolios_ME_VAR_5x5',\n",
       " 'Portfolios_Formed_on_RESVAR',\n",
       " '25_Portfolios_ME_RESVAR_5x5',\n",
       " '5_Industry_Portfolios',\n",
       " '5_Industry_Portfolios_Wout_Div',\n",
       " '5_Industry_Portfolios_daily',\n",
       " '10_Industry_Portfolios',\n",
       " '10_Industry_Portfolios_Wout_Div',\n",
       " '10_Industry_Portfolios_daily',\n",
       " '12_Industry_Portfolios',\n",
       " '12_Industry_Portfolios_Wout_Div',\n",
       " '12_Industry_Portfolios_daily',\n",
       " '17_Industry_Portfolios',\n",
       " '17_Industry_Portfolios_Wout_Div',\n",
       " '17_Industry_Portfolios_daily',\n",
       " '30_Industry_Portfolios',\n",
       " '30_Industry_Portfolios_Wout_Div',\n",
       " '30_Industry_Portfolios_daily',\n",
       " '38_Industry_Portfolios',\n",
       " '38_Industry_Portfolios_Wout_Div',\n",
       " '38_Industry_Portfolios_daily',\n",
       " '48_Industry_Portfolios',\n",
       " '48_Industry_Portfolios_Wout_Div',\n",
       " '48_Industry_Portfolios_daily',\n",
       " '49_Industry_Portfolios',\n",
       " '49_Industry_Portfolios_Wout_Div',\n",
       " '49_Industry_Portfolios_daily',\n",
       " 'ME_Breakpoints',\n",
       " 'BE-ME_Breakpoints',\n",
       " 'OP_Breakpoints',\n",
       " 'INV_Breakpoints',\n",
       " 'E-P_Breakpoints',\n",
       " 'CF-P_Breakpoints',\n",
       " 'D-P_Breakpoints',\n",
       " 'Prior_2-12_Breakpoints',\n",
       " 'Developed_3_Factors',\n",
       " 'Developed_3_Factors_Daily',\n",
       " 'Developed_ex_US_3_Factors',\n",
       " 'Developed_ex_US_3_Factors_Daily',\n",
       " 'Europe_3_Factors',\n",
       " 'Europe_3_Factors_Daily',\n",
       " 'Japan_3_Factors',\n",
       " 'Japan_3_Factors_Daily',\n",
       " 'Asia_Pacific_ex_Japan_3_Factors',\n",
       " 'Asia_Pacific_ex_Japan_3_Factors_Daily',\n",
       " 'North_America_3_Factors',\n",
       " 'North_America_3_Factors_Daily',\n",
       " 'Developed_5_Factors',\n",
       " 'Developed_5_Factors_Daily',\n",
       " 'Developed_ex_US_5_Factors',\n",
       " 'Developed_ex_US_5_Factors_Daily',\n",
       " 'Europe_5_Factors',\n",
       " 'Europe_5_Factors_Daily',\n",
       " 'Japan_5_Factors',\n",
       " 'Japan_5_Factors_Daily',\n",
       " 'Asia_Pacific_ex_Japan_5_Factors',\n",
       " 'Asia_Pacific_ex_Japan_5_Factors_Daily',\n",
       " 'North_America_5_Factors',\n",
       " 'North_America_5_Factors_Daily',\n",
       " 'Developed_Mom_Factor',\n",
       " 'Developed_Mom_Factor_Daily',\n",
       " 'Developed_ex_US_Mom_Factor',\n",
       " 'Developed_ex_US_Mom_Factor_Daily',\n",
       " 'Europe_Mom_Factor',\n",
       " 'Europe_Mom_Factor_Daily',\n",
       " 'Japan_Mom_Factor',\n",
       " 'Japan_Mom_Factor_Daily',\n",
       " 'Asia_Pacific_ex_Japan_MOM_Factor',\n",
       " 'Asia_Pacific_ex_Japan_MOM_Factor_Daily',\n",
       " 'North_America_Mom_Factor',\n",
       " 'North_America_Mom_Factor_Daily',\n",
       " 'Developed_6_Portfolios_ME_BE-ME',\n",
       " 'Developed_6_Portfolios_ME_BE-ME_daily',\n",
       " 'Developed_ex_US_6_Portfolios_ME_BE-ME',\n",
       " 'Developed_ex_US_6_Portfolios_ME_BE-ME_daily',\n",
       " 'Europe_6_Portfolios_ME_BE-ME',\n",
       " 'Europe_6_Portfolios_ME_BE-ME_daily',\n",
       " 'Japan_6_Portfolios_ME_BE-ME',\n",
       " 'Japan_6_Portfolios_ME_BE-ME_daily',\n",
       " 'Asia_Pacific_ex_Japan_6_Portfolios_ME_BE-ME',\n",
       " 'Asia_Pacific_ex_Japan_6_Portfolios_ME_BE-ME_daily',\n",
       " 'North_America_6_Portfolios_ME_BE-ME',\n",
       " 'North_America_6_Portfolios_ME_BE-ME_daily',\n",
       " 'Developed_25_Portfolios_ME_BE-ME',\n",
       " 'Developed_25_Portfolios_ME_BE-ME_daily',\n",
       " 'Developed_ex_US_25_Portfolios_ME_BE-ME',\n",
       " 'Developed_ex_US_25_Portfolios_ME_BE-ME_daily',\n",
       " 'Europe_25_Portfolios_ME_BE-ME',\n",
       " 'Europe_25_Portfolios_ME_BE-ME_daily',\n",
       " 'Japan_25_Portfolios_ME_BE-ME',\n",
       " 'Japan_25_Portfolios_ME_BE-ME_daily',\n",
       " 'Asia_Pacific_ex_Japan_25_Portfolios_ME_BE-ME',\n",
       " 'Asia_Pacific_ex_Japan_25_Portfolios_ME_BE-ME_daily',\n",
       " 'North_America_25_Portfolios_ME_BE-ME',\n",
       " 'North_America_25_Portfolios_ME_BE-ME_daily',\n",
       " 'Developed_6_Portfolios_ME_OP',\n",
       " 'Developed_6_Portfolios_ME_OP_Daily',\n",
       " 'Developed_ex_US_6_Portfolios_ME_OP',\n",
       " 'Developed_ex_US_6_Portfolios_ME_OP_Daily',\n",
       " 'Europe_6_Portfolios_ME_OP',\n",
       " 'Europe_6_Portfolios_ME_OP_Daily',\n",
       " 'Japan_6_Portfolios_ME_OP',\n",
       " 'Japan_6_Portfolios_ME_OP_Daily',\n",
       " 'Asia_Pacific_ex_Japan_6_Portfolios_ME_OP',\n",
       " 'Asia_Pacific_ex_Japan_6_Portfolios_ME_OP_Daily',\n",
       " 'North_America_6_Portfolios_ME_OP',\n",
       " 'North_America_6_Portfolios_ME_OP_Daily',\n",
       " 'Developed_25_Portfolios_ME_OP',\n",
       " 'Developed_25_Portfolios_ME_OP_Daily',\n",
       " 'Developed_ex_US_25_Portfolios_ME_OP',\n",
       " 'Developed_ex_US_25_Portfolios_ME_OP_Daily',\n",
       " 'Europe_25_Portfolios_ME_OP',\n",
       " 'Europe_25_Portfolios_ME_OP_Daily',\n",
       " 'Japan_25_Portfolios_ME_OP',\n",
       " 'Japan_25_Portfolios_ME_OP_Daily',\n",
       " 'Asia_Pacific_ex_Japan_25_Portfolios_ME_OP',\n",
       " 'Asia_Pacific_ex_Japan_25_Portfolios_ME_OP_Daily',\n",
       " 'North_America_25_Portfolios_ME_OP',\n",
       " 'North_America_25_Portfolios_ME_OP_Daily',\n",
       " 'Developed_6_Portfolios_ME_INV',\n",
       " 'Developed_6_Portfolios_ME_INV_Daily',\n",
       " 'Developed_ex_US_6_Portfolios_ME_INV',\n",
       " 'Developed_ex_US_6_Portfolios_ME_INV_Daily',\n",
       " 'Europe_6_Portfolios_ME_INV',\n",
       " 'Europe_6_Portfolios_ME_INV_Daily',\n",
       " 'Japan_6_Portfolios_ME_INV',\n",
       " 'Japan_6_Portfolios_ME_INV_Daily',\n",
       " 'Asia_Pacific_ex_Japan_6_Portfolios_ME_INV',\n",
       " 'Asia_Pacific_ex_Japan_6_Portfolios_ME_INV_Daily',\n",
       " 'North_America_6_Portfolios_ME_INV',\n",
       " 'North_America_6_Portfolios_ME_INV_Daily',\n",
       " 'Developed_25_Portfolios_ME_INV',\n",
       " 'Developed_25_Portfolios_ME_INV_Daily',\n",
       " 'Developed_ex_US_25_Portfolios_ME_INV',\n",
       " 'Developed_ex_US_25_Portfolios_ME_INV_Daily',\n",
       " 'Europe_25_Portfolios_ME_INV',\n",
       " 'Europe_25_Portfolios_ME_INV_Daily',\n",
       " 'Japan_25_Portfolios_ME_INV',\n",
       " 'Japan_25_Portfolios_ME_INV_Daily',\n",
       " 'Asia_Pacific_ex_Japan_25_Portfolios_ME_INV',\n",
       " 'Asia_Pacific_ex_Japan_25_Portfolios_ME_INV_Daily',\n",
       " 'North_America_25_Portfolios_ME_INV',\n",
       " 'North_America_25_Portfolios_ME_INV_Daily',\n",
       " 'Developed_6_Portfolios_ME_Prior_12_2',\n",
       " 'Developed_6_Portfolios_ME_Prior_250_20_daily',\n",
       " 'Developed_ex_US_6_Portfolios_ME_Prior_12_2',\n",
       " 'Developed_ex_US_6_Portfolios_ME_Prior_250_20_daily',\n",
       " 'Europe_6_Portfolios_ME_Prior_12_2',\n",
       " 'Europe_6_Portfolios_ME_Prior_250_20_daily',\n",
       " 'Japan_6_Portfolios_ME_Prior_12_2',\n",
       " 'Japan_6_Portfolios_ME_Prior_250_20_daily',\n",
       " 'Asia_Pacific_ex_Japan_6_Portfolios_ME_Prior_12_2',\n",
       " 'Asia_Pacific_ex_Japan_6_Portfolios_ME_Prior_250_20_daily',\n",
       " 'North_America_6_Portfolios_ME_Prior_12_2',\n",
       " 'North_America_6_Portfolios_ME_Prior_250_20_daily',\n",
       " 'Developed_25_Portfolios_ME_Prior_12_2',\n",
       " 'Developed_25_Portfolios_ME_Prior_250_20_daily',\n",
       " 'Developed_ex_US_25_Portfolios_ME_Prior_12_2',\n",
       " 'Developed_ex_US_25_Portfolios_ME_Prior_250_20_daily',\n",
       " 'Europe_25_Portfolios_ME_Prior_12_2',\n",
       " 'Europe_25_Portfolios_ME_Prior_250_20_daily',\n",
       " 'Japan_25_Portfolios_ME_Prior_12_2',\n",
       " 'Japan_25_Portfolios_ME_Prior_250_20_daily',\n",
       " 'Asia_Pacific_ex_Japan_25_Portfolios_ME_Prior_12_2',\n",
       " 'Asia_Pacific_ex_Japan_25_Portfolios_ME_Prior_250_20_daily',\n",
       " 'North_America_25_Portfolios_ME_Prior_12_2',\n",
       " 'North_America_25_Portfolios_ME_Prior_250_20_daily',\n",
       " 'Developed_32_Portfolios_ME_BE-ME_OP_2x4x4',\n",
       " 'Developed_ex_US_32_Portfolios_ME_BE-ME_OP_2x4x4',\n",
       " 'Europe_32_Portfolios_ME_BE-ME_OP_2x4x4',\n",
       " 'Japan_32_Portfolios_ME_BE-ME_OP_2x4x4',\n",
       " 'Asia_Pacific_ex_Japan_32_Portfolios_ME_BE-ME_OP_2x4x4',\n",
       " 'North_America_32_Portfolios_ME_BE-ME_OP_2x4x4',\n",
       " 'Developed_32_Portfolios_ME_BE-ME_INV(TA)_2x4x4',\n",
       " 'Developed_ex_US_32_Portfolios_ME_BE-ME_INV(TA)_2x4x4',\n",
       " 'Europe_32_Portfolios_ME_BE-ME_INV(TA)_2x4x4',\n",
       " 'Japan_32_Portfolios_ME_BE-ME_INV(TA)_2x4x4',\n",
       " 'Asia_Pacific_ex_Japan_32_Portfolios_ME_BE-ME_INV(TA)_2x4x4',\n",
       " 'North_America_32_Portfolios_ME_BE-ME_INV(TA)_2x4x4',\n",
       " 'Developed_32_Portfolios_ME_INV(TA)_OP_2x4x4',\n",
       " 'Developed_ex_US_32_Portfolios_ME_INV(TA)_OP_2x4x4',\n",
       " 'Europe_32_Portfolios_ME_INV(TA)_OP_2x4x4',\n",
       " 'Japan_32_Portfolios_ME_INV(TA)_OP_2x4x4',\n",
       " 'Asia_Pacific_ex_Japan_32_Portfolios_ME_INV(TA)_OP_2x4x4',\n",
       " 'North_America_32_Portfolios_ME_INV(TA)_OP_2x4x4',\n",
       " 'Emerging_5_Factors',\n",
       " 'Emerging_MOM_Factor',\n",
       " 'Emerging_Markets_6_Portfolios_ME_BE-ME',\n",
       " 'Emerging_Markets_6_Portfolios_ME_OP',\n",
       " 'Emerging_Markets_6_Portfolios_ME_INV',\n",
       " 'Emerging_Markets_6_Portfolios_ME_Prior_12_2',\n",
       " 'Emerging_Markets_4_Portfolios_BE-ME_OP',\n",
       " 'Emerging_Markets_4_Portfolios_OP_INV',\n",
       " 'Emerging_Markets_4_Portfolios_BE-ME_INV']"
      ]
     },
     "execution_count": 29,
     "metadata": {},
     "output_type": "execute_result"
    }
   ],
   "source": [
    "get_available_datasets()"
   ]
  },
  {
   "cell_type": "markdown",
   "id": "israeli-platinum",
   "metadata": {},
   "source": [
    "**Variable reference for WRDS CRSP data set**\n",
    "![image.png](../../assets/plots/usingAPI1.jpg)\n",
    "![image.png](../../assets/plots/usingAPI2.jpg)\n",
    "![image.png](../../assets/plots/usingAPI3.jpg)"
   ]
  },
  {
   "cell_type": "code",
   "execution_count": null,
   "id": "charged-toolbox",
   "metadata": {},
   "outputs": [],
   "source": []
  }
 ],
 "metadata": {
  "kernelspec": {
   "display_name": "Python 3",
   "language": "python",
   "name": "python3"
  },
  "language_info": {
   "codemirror_mode": {
    "name": "ipython",
    "version": 3
   },
   "file_extension": ".py",
   "mimetype": "text/x-python",
   "name": "python",
   "nbconvert_exporter": "python",
   "pygments_lexer": "ipython3",
   "version": "3.8.5"
  }
 },
 "nbformat": 4,
 "nbformat_minor": 5
}
