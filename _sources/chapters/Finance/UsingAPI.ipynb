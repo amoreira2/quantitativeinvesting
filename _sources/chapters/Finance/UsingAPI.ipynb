{
 "cells": [
  {
   "cell_type": "markdown",
   "id": "living-wireless",
   "metadata": {
    "colab_type": "text",
    "id": "3SjHatHlQ1um"
   },
   "source": [
    "## Using APIs\n",
    "\n",
    "* Pandas has an eco-system of APIs that allow you to get data from the web directly into a pandas dataframe\n",
    "\n",
    "\n",
    "### FRED\n",
    "* Here we will look at one API that gets macro and financial data from the Federal Reserve Bank of St louis\n",
    "\n",
    "* Lots and lots of data!\n",
    "\n",
    "  https://fred.stlouisfed.org/categories\n",
    "\n",
    "* Right now our goal is just to get the lastest risk-free rate\n",
    "\n",
    "* Which in this case is the yield on the three month treasury bill\n",
    "\n",
    "  https://fred.stlouisfed.org/series/DTB3\n",
    "\n",
    "* note that the fredapi is not in the anaconda eco-system so you install by openning anaconda Prompt \n",
    "\n",
    "* type \"pip install fredapi\"\n",
    "\n",
    "* if it requires additional packages, install these packages to by tryping \"pip install \"name of required package\"\n",
    "\n",
    "* you will also need to apply for an API key here\n",
    "\n",
    "  https://research.stlouisfed.org/docs/api/api_key.html\n",
    "\n",
    "* once you have it you use it to do this:"
   ]
  },
  {
   "cell_type": "code",
   "execution_count": 100,
   "id": "ranking-smith",
   "metadata": {
    "colab": {
     "base_uri": "https://localhost:8080/",
     "height": 190
    },
    "colab_type": "code",
    "executionInfo": {
     "elapsed": 7723,
     "status": "ok",
     "timestamp": 1576511225997,
     "user": {
      "displayName": "yuchi yao",
      "photoUrl": "",
      "userId": "00457884373990713813"
     },
     "user_tz": 300
    },
    "id": "SQI5qwrzQ1un",
    "outputId": "e3aab311-5131-4c2d-cc22-6ceb702b14ae"
   },
   "outputs": [
    {
     "name": "stdout",
     "output_type": "stream",
     "text": [
      "Requirement already satisfied: fredapi in c:\\programdata\\anaconda3\\lib\\site-packages (0.4.2)\n",
      "Requirement already satisfied: pandas in c:\\programdata\\anaconda3\\lib\\site-packages (from fredapi) (1.0.5)\n",
      "Requirement already satisfied: pytz>=2017.2 in c:\\programdata\\anaconda3\\lib\\site-packages (from pandas->fredapi) (2020.1)\n",
      "Requirement already satisfied: numpy>=1.13.3 in c:\\programdata\\anaconda3\\lib\\site-packages (from pandas->fredapi) (1.18.5)\n",
      "Requirement already satisfied: python-dateutil>=2.6.1 in c:\\programdata\\anaconda3\\lib\\site-packages (from pandas->fredapi) (2.8.1)\n",
      "Requirement already satisfied: six>=1.5 in c:\\programdata\\anaconda3\\lib\\site-packages (from python-dateutil>=2.6.1->pandas->fredapi) (1.15.0)\n"
     ]
    }
   ],
   "source": [
    "!pip install fredapi\n",
    "from fredapi import Fred\n",
    "fred = Fred(api_key='f9207136b3333d7cf92c07273f6f5530')\n",
    "data = fred.get_series('DTB3')\n"
   ]
  },
  {
   "cell_type": "code",
   "execution_count": 101,
   "id": "mighty-arctic",
   "metadata": {},
   "outputs": [
    {
     "data": {
      "text/plain": [
       "<matplotlib.axes._subplots.AxesSubplot at 0x1f82fef2880>"
      ]
     },
     "execution_count": 101,
     "metadata": {},
     "output_type": "execute_result"
    },
    {
     "data": {
      "image/png": "[encoded data removed]",
      "text/plain": [
       "<Figure size 432x288 with 1 Axes>"
      ]
     },
     "metadata": {
      "needs_background": "light"
     },
     "output_type": "display_data"
    }
   ],
   "source": [
    "data = fred.get_series('VIXCLS')\n",
    "data.plot()"
   ]
  },
  {
   "cell_type": "code",
   "execution_count": 102,
   "id": "voluntary-concept",
   "metadata": {
    "colab": {
     "base_uri": "https://localhost:8080/",
     "height": 119
    },
    "colab_type": "code",
    "executionInfo": {
     "elapsed": 321,
     "status": "ok",
     "timestamp": 1576511227291,
     "user": {
      "displayName": "yuchi yao",
      "photoUrl": "",
      "userId": "00457884373990713813"
     },
     "user_tz": 300
    },
    "id": "GPATk6U1Q1uo",
    "outputId": "aae83b31-d97a-448f-dba6-0431100cf05c"
   },
   "outputs": [
    {
     "data": {
      "text/plain": [
       "2020-11-13    23.10\n",
       "2020-11-16    22.45\n",
       "2020-11-17    22.71\n",
       "2020-11-18    23.84\n",
       "2020-11-19    23.11\n",
       "dtype: float64"
      ]
     },
     "execution_count": 102,
     "metadata": {},
     "output_type": "execute_result"
    }
   ],
   "source": [
    "data.tail()"
   ]
  }
 ],
 "metadata": {
  "kernelspec": {
   "display_name": "Python 3",
   "language": "python",
   "name": "python3"
  },
  "language_info": {
   "codemirror_mode": {
    "name": "ipython",
    "version": 3
   },
   "file_extension": ".py",
   "mimetype": "text/x-python",
   "name": "python",
   "nbconvert_exporter": "python",
   "pygments_lexer": "ipython3",
   "version": "3.8.5"
  }
 },
 "nbformat": 4,
 "nbformat_minor": 5
}
