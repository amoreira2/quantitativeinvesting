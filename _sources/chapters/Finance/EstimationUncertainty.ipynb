{
 "cells": [
  {
   "cell_type": "code",
   "execution_count": 1,
   "metadata": {
    "colab": {
     "base_uri": "https://localhost:8080/",
     "height": 235
    },
    "colab_type": "code",
    "executionInfo": {
     "elapsed": 7090,
     "status": "ok",
     "timestamp": 1576771469964,
     "user": {
      "displayName": "yuchi yao",
      "photoUrl": "",
      "userId": "00457884373990713813"
     },
     "user_tz": 300
    },
    "id": "vI1xySqDhHqm",
    "outputId": "7d785476-d21c-4ef3-bf1b-274e8900fcb4"
   },
   "outputs": [],
   "source": [
    "from IPython.core.display import display \n",
    "import pandas as pd\n",
    "import numpy as np\n",
    "import matplotlib.pyplot as plt\n",
    "%matplotlib inline\n",
    "#GlobalFinMonthly\n",
    "url=\"https://raw.githubusercontent.com/amoreira2/Lectures/main/assets/data/GlobalFinMonthly.csv\"\n",
    "\n",
    "Data = pd.read_csv(url,na_values=-99)\n",
    "# tell python Date is date:\n",
    "Data['Date']=pd.to_datetime(Data['Date'])\n",
    "# set an an index\n",
    "Data=Data.set_index(['Date'])\n",
    "Data=Data.rename(columns={Data.columns[1]: \"MKTUS\",Data.columns[2]: \"BondUS\",\n",
    "                          Data.columns[3]: \"EM\",Data.columns[4]: \"MKTxUS\",Data.columns[5]: \"BondxUS\" })\n",
    "Re=(Data.drop('RF',axis=1)).subtract(Data['RF'],axis='index')"
   ]
  },
  {
   "cell_type": "markdown",
   "metadata": {
    "colab_type": "text",
    "id": "QgykM3kZhHqj"
   },
   "source": [
    "\n",
    "# Estimation Uncertainty\n",
    "\n",
    "\n"
   ]
  },
  {
   "cell_type": "markdown",
   "metadata": {
    "colab_type": "text",
    "id": "jRG60SojhHqp"
   },
   "source": [
    "\n",
    "\n",
    "* Investment managers rarely apply the Markowitz framework in it's more pure form as studied in Chapter 9\n",
    "\n",
    "* Pension funds typically use a 60/40 equity/bond allocation \n",
    "\n",
    "* Why not used more often? \n",
    "\n",
    "* It requires specifying expected return assumption for entire universe of assets\n",
    "\n",
    "* Mean-variance optimization weights heavily on assets that have extreme average returns in the sample and with attractive covariance properties, i.e., high correlation with asset yielding slightly different return\n",
    "\n",
    "* What problems that might cause?\n",
    "\n",
    "* The key problem is that we are dealing with a limited sample of data\n",
    "\n",
    "* We are interested in finding the ex-ante tangency portfolio\n",
    "\n",
    "* But the basic MV analysis identifies the ex-post tangency portfolio, i.e. a portfolio that did well in the sample, but it can be a statistical fluke\n",
    "\n",
    "> How to evaluate the amount of uncertainty and it’s impact on our results?\n",
    "\n",
    "\n",
    " \n",
    " \n",
    "\n",
    "\n"
   ]
  },
  {
   "cell_type": "markdown",
   "metadata": {
    "colab_type": "text",
    "id": "AYVXeqy3hHrA"
   },
   "source": [
    "\n",
    "\n",
    "\n",
    "* We will start by evaluating the uncertainty regarding our average expected excess return estimates for each asset\n",
    "\n",
    "* We will then show how the weights change as we pertubate these estimates in a way that is consistent with the amount of uncertainty\n",
    "\n",
    "* We will then show how sensitive the benefits of international diversification are\n",
    "\n",
    "**Standard erros of average estimators**\n",
    "\n",
    "* If observations are serially uncorrelated over time then the standard deviation of a sample average is simply\n",
    "\n",
    "$$std\\left(\\sum_i^N\\frac{x_i}{N}\\right)=\\frac{std(x_i)}{\\sqrt{N}}$$\n",
    "\n",
    "* Returns of most *liquid* assets are sufficiently close to uncorrelated over time for this assumption to be ok\n",
    "    \n",
    "    - It is also easy enough to adjust for serial correlation which we can easily do usign a regression library\n",
    "\n",
    "* This measures how uncertain we are about the sample mean\n",
    "\n",
    "* For example, there is a 5% probability that the actual mean is $E[x_i]\\leq\\overline{x_i}-1.64{std(\\overline{x_i})}$\n",
    "\n",
    "* So $std(\\overline{x_i})$ gives a measure of how close our estimate is likely to be to true expected value\n",
    "\n",
    "* Lets compare the sample average and the sample average standard deviation for our assets"
   ]
  },
  {
   "cell_type": "code",
   "execution_count": 2,
   "metadata": {
    "colab": {
     "base_uri": "https://localhost:8080/",
     "height": 235
    },
    "colab_type": "code",
    "executionInfo": {
     "elapsed": 892,
     "status": "ok",
     "timestamp": 1576771737472,
     "user": {
      "displayName": "yuchi yao",
      "photoUrl": "",
      "userId": "00457884373990713813"
     },
     "user_tz": 300
    },
    "id": "w3TQDESmxflz",
    "outputId": "e11c5322-0982-456b-d646-be483c009da1"
   },
   "outputs": [
    {
     "data": {
      "text/html": [
       "<div>\n",
       "<style scoped>\n",
       "    .dataframe tbody tr th:only-of-type {\n",
       "        vertical-align: middle;\n",
       "    }\n",
       "\n",
       "    .dataframe tbody tr th {\n",
       "        vertical-align: top;\n",
       "    }\n",
       "\n",
       "    .dataframe thead th {\n",
       "        text-align: right;\n",
       "    }\n",
       "</style>\n",
       "<table border=\"1\" class=\"dataframe\">\n",
       "  <thead>\n",
       "    <tr style=\"text-align: right;\">\n",
       "      <th></th>\n",
       "      <th>MKTUS</th>\n",
       "      <th>BondUS</th>\n",
       "      <th>EM</th>\n",
       "      <th>MKTxUS</th>\n",
       "      <th>BondxUS</th>\n",
       "    </tr>\n",
       "    <tr>\n",
       "      <th>Date</th>\n",
       "      <th></th>\n",
       "      <th></th>\n",
       "      <th></th>\n",
       "      <th></th>\n",
       "      <th></th>\n",
       "    </tr>\n",
       "  </thead>\n",
       "  <tbody>\n",
       "    <tr>\n",
       "      <th>1963-02-28</th>\n",
       "      <td>-0.0238</td>\n",
       "      <td>-0.004178</td>\n",
       "      <td>0.095922</td>\n",
       "      <td>-0.005073</td>\n",
       "      <td>NaN</td>\n",
       "    </tr>\n",
       "    <tr>\n",
       "      <th>1963-03-31</th>\n",
       "      <td>0.0308</td>\n",
       "      <td>0.001042</td>\n",
       "      <td>0.011849</td>\n",
       "      <td>-0.001929</td>\n",
       "      <td>-0.000387</td>\n",
       "    </tr>\n",
       "    <tr>\n",
       "      <th>1963-04-30</th>\n",
       "      <td>0.0451</td>\n",
       "      <td>-0.004343</td>\n",
       "      <td>-0.149555</td>\n",
       "      <td>-0.005836</td>\n",
       "      <td>0.005502</td>\n",
       "    </tr>\n",
       "    <tr>\n",
       "      <th>1963-05-31</th>\n",
       "      <td>0.0176</td>\n",
       "      <td>-0.004207</td>\n",
       "      <td>-0.014572</td>\n",
       "      <td>-0.002586</td>\n",
       "      <td>0.002289</td>\n",
       "    </tr>\n",
       "    <tr>\n",
       "      <th>1963-06-30</th>\n",
       "      <td>-0.0200</td>\n",
       "      <td>-0.000634</td>\n",
       "      <td>-0.057999</td>\n",
       "      <td>-0.013460</td>\n",
       "      <td>0.000839</td>\n",
       "    </tr>\n",
       "  </tbody>\n",
       "</table>\n",
       "</div>"
      ],
      "text/plain": [
       "             MKTUS    BondUS        EM    MKTxUS   BondxUS\n",
       "Date                                                      \n",
       "1963-02-28 -0.0238 -0.004178  0.095922 -0.005073       NaN\n",
       "1963-03-31  0.0308  0.001042  0.011849 -0.001929 -0.000387\n",
       "1963-04-30  0.0451 -0.004343 -0.149555 -0.005836  0.005502\n",
       "1963-05-31  0.0176 -0.004207 -0.014572 -0.002586  0.002289\n",
       "1963-06-30 -0.0200 -0.000634 -0.057999 -0.013460  0.000839"
      ]
     },
     "execution_count": 2,
     "metadata": {},
     "output_type": "execute_result"
    }
   ],
   "source": [
    "Re.head()"
   ]
  },
  {
   "cell_type": "code",
   "execution_count": 3,
   "metadata": {
    "colab": {
     "base_uri": "https://localhost:8080/",
     "height": 34
    },
    "colab_type": "code",
    "executionInfo": {
     "elapsed": 419,
     "status": "ok",
     "timestamp": 1576771745536,
     "user": {
      "displayName": "yuchi yao",
      "photoUrl": "",
      "userId": "00457884373990713813"
     },
     "user_tz": 300
    },
    "id": "6ulWDqYkOCZk",
    "outputId": "3b89b4b8-ec07-493b-94fe-91902f934df3"
   },
   "outputs": [
    {
     "data": {
      "text/plain": [
       "647"
      ]
     },
     "execution_count": 3,
     "metadata": {},
     "output_type": "execute_result"
    }
   ],
   "source": [
    "# First we get the total number of observations and store it as `T`\n",
    "T=Re.shape[0]\n",
    "T"
   ]
  },
  {
   "cell_type": "code",
   "execution_count": 4,
   "metadata": {},
   "outputs": [
    {
     "data": {
      "text/html": [
       "<div>\n",
       "<style scoped>\n",
       "    .dataframe tbody tr th:only-of-type {\n",
       "        vertical-align: middle;\n",
       "    }\n",
       "\n",
       "    .dataframe tbody tr th {\n",
       "        vertical-align: top;\n",
       "    }\n",
       "\n",
       "    .dataframe thead th {\n",
       "        text-align: right;\n",
       "    }\n",
       "</style>\n",
       "<table border=\"1\" class=\"dataframe\">\n",
       "  <thead>\n",
       "    <tr style=\"text-align: right;\">\n",
       "      <th></th>\n",
       "      <th>avg_std</th>\n",
       "      <th>avg</th>\n",
       "    </tr>\n",
       "  </thead>\n",
       "  <tbody>\n",
       "    <tr>\n",
       "      <th>MKTUS</th>\n",
       "      <td>2.082192</td>\n",
       "      <td>6.168408</td>\n",
       "    </tr>\n",
       "    <tr>\n",
       "      <th>BondUS</th>\n",
       "      <td>1.652384</td>\n",
       "      <td>3.027184</td>\n",
       "    </tr>\n",
       "    <tr>\n",
       "      <th>EM</th>\n",
       "      <td>2.813385</td>\n",
       "      <td>8.307944</td>\n",
       "    </tr>\n",
       "    <tr>\n",
       "      <th>MKTxUS</th>\n",
       "      <td>2.203549</td>\n",
       "      <td>4.978818</td>\n",
       "    </tr>\n",
       "    <tr>\n",
       "      <th>BondxUS</th>\n",
       "      <td>0.951332</td>\n",
       "      <td>2.464985</td>\n",
       "    </tr>\n",
       "  </tbody>\n",
       "</table>\n",
       "</div>"
      ],
      "text/plain": [
       "          avg_std       avg\n",
       "MKTUS    2.082192  6.168408\n",
       "BondUS   1.652384  3.027184\n",
       "EM       2.813385  8.307944\n",
       "MKTxUS   2.203549  4.978818\n",
       "BondxUS  0.951332  2.464985"
      ]
     },
     "execution_count": 4,
     "metadata": {},
     "output_type": "execute_result"
    }
   ],
   "source": [
    "# (1) standard deviation of the sample average of excess return for each asset\n",
    "avg_std=(Re.std()/(T**0.5))\n",
    "\n",
    "# (2) sample average of excess return for each asset\n",
    "avg=Re.mean()\n",
    "\n",
    "# (3) save as ERstd (excess return standard deviation)\n",
    "ERstd=pd.concat([avg_std,avg],axis=1)\n",
    "#(4) rename columns\n",
    "ERstd=ERstd.rename(columns={0:'avg_std',1:'avg'})\n",
    "# report annualized and in percent\n"
   ]
  },
  {
   "cell_type": "code",
   "execution_count": 6,
   "metadata": {},
   "outputs": [
    {
     "data": {
      "text/plain": [
       "9.459999999999999"
      ]
     },
     "execution_count": 6,
     "metadata": {},
     "output_type": "execute_result"
    }
   ],
   "source": [
    "6.18+2*1.64"
   ]
  },
  {
   "cell_type": "markdown",
   "metadata": {
    "colab_type": "text",
    "id": "GcOwQFZehHrC"
   },
   "source": [
    "* Note that our data set has  50 years of data, there is still considerable uncertainty, specially for bonds"
   ]
  },
  {
   "cell_type": "code",
   "execution_count": null,
   "metadata": {
    "colab": {
     "base_uri": "https://localhost:8080/",
     "height": 34
    },
    "colab_type": "code",
    "executionInfo": {
     "elapsed": 851,
     "status": "ok",
     "timestamp": 1576771937101,
     "user": {
      "displayName": "yuchi yao",
      "photoUrl": "",
      "userId": "00457884373990713813"
     },
     "user_tz": 300
    },
    "id": "Egbgwt9OhHrD",
    "outputId": "80682c53-6a15-4e87-ebbd-e588df79b3c9"
   },
   "outputs": [],
   "source": [
    "#number of years\n",
    "T/12"
   ]
  },
  {
   "cell_type": "markdown",
   "metadata": {},
   "source": [
    "So lets plot the average for each asset with the 10% confidence interval\n",
    "\n",
    "Becasue the average estimator is normal distributed in long enough samples we can say that there is a 90% probability that this interval plotted below contains the true expected excess reutrn of these assets\n"
   ]
  },
  {
   "cell_type": "code",
   "execution_count": 8,
   "metadata": {},
   "outputs": [
    {
     "data": {
      "image/png": "[encoded data removed]",
      "text/plain": [
       "<Figure size 432x288 with 1 Axes>"
      ]
     },
     "metadata": {
      "needs_background": "light"
     },
     "output_type": "display_data"
    }
   ],
   "source": [
    "(ERstd).avg.plot.bar(yerr=ERstd.avg_std*1.64,  capsize=4, rot=0);"
   ]
  },
  {
   "cell_type": "code",
   "execution_count": 9,
   "metadata": {},
   "outputs": [
    {
     "data": {
      "image/png": "[encoded data removed]",
      "text/plain": [
       "<Figure size 432x288 with 1 Axes>"
      ]
     },
     "metadata": {
      "needs_background": "light"
     },
     "output_type": "display_data"
    }
   ],
   "source": [
    "# lets annualize it\n",
    "(ERstd.avg*12*100).plot.bar(yerr=ERstd.avg_std*1.64*12*100,  capsize=4, rot=0);"
   ]
  },
  {
   "cell_type": "markdown",
   "metadata": {},
   "source": [
    "A noteworthy aspect of this estimate is that it has a really long sample it is really hard to reject the hypothesis that all these assets have exactly the same premium!\n",
    "\n",
    "And these are all very diversified portfolios!\n",
    "\n",
    "The problem is MUCH MORE severe once you look at individual asset which have both shorter samples and more volatile returns\n",
    "\n",
    "The result are extremely wide confidence bands\n",
    "\n",
    "As an example lets look at Bitcoin\n",
    "\n"
   ]
  },
  {
   "cell_type": "markdown",
   "metadata": {},
   "source": [
    "---------------------------\n",
    "*Bitcoin example*\n",
    "\n",
    "We will get the Bitcoin price series from Coinbase (there are many prices of Bitcoin depending on the exchange)\n",
    "\n"
   ]
  },
  {
   "cell_type": "code",
   "execution_count": 10,
   "metadata": {},
   "outputs": [
    {
     "data": {
      "text/plain": [
       "<AxesSubplot:>"
      ]
     },
     "execution_count": 10,
     "metadata": {},
     "output_type": "execute_result"
    },
    {
     "data": {
      "image/png": "[encoded data removed]",
      "text/plain": [
       "<Figure size 432x288 with 1 Axes>"
      ]
     },
     "metadata": {
      "needs_background": "light"
     },
     "output_type": "display_data"
    }
   ],
   "source": [
    "from fredapi import Fred\n",
    "fred = Fred(api_key='f9207136b3333d7cf92c07273f6f5530')\n",
    "BTC = fred.get_series('CBBTCUSD')\n",
    "BTC.plot()"
   ]
  },
  {
   "cell_type": "markdown",
   "metadata": {},
   "source": [
    "The issue with a new asset is that we only talk about it becasue it had high returns\n",
    "\n",
    "No one talks about a NEW asset that has very low returns--it simply disappears\n",
    "\n",
    "The name for this bias is **SURVIVORSHIP** bias and it plagues all our analysis\n",
    "\n",
    "For example, why do we talk about Warren Buffet being a genious--> because he did well. But how do you know that it is not jsut luck?\n",
    "\n",
    "We can't jsut look at the data because we don't know the 1000's of Warren buffets that never made it\n",
    "\n",
    "So the way to deal with this  is to look at the performance **AFTER** an asset/strategy/manager become famous\n",
    "\n",
    "In the context of strategies we call this the **Publication bias**--which we will discuss later\n",
    "\n",
    "But for now, we will simply use google trends to figure out when Bitcoin went mainstream"
   ]
  },
  {
   "cell_type": "code",
   "execution_count": 11,
   "metadata": {},
   "outputs": [
    {
     "data": {
      "text/plain": [
       "<AxesSubplot:xlabel='date'>"
      ]
     },
     "execution_count": 11,
     "metadata": {},
     "output_type": "execute_result"
    },
    {
     "data": {
      "image/png": "[encoded data removed]",
      "text/plain": [
       "<Figure size 432x288 with 1 Axes>"
      ]
     },
     "metadata": {
      "needs_background": "light"
     },
     "output_type": "display_data"
    }
   ],
   "source": [
    "\n",
    "from pytrends.request import TrendReq\n",
    "pytrend = TrendReq()\n",
    "pytrend.build_payload(kw_list=['bitcoin'],timeframe='all')\n",
    "Googletrends=pytrend.interest_over_time()\n",
    "Googletrends.plot()"
   ]
  },
  {
   "cell_type": "markdown",
   "metadata": {},
   "source": [
    "So this says end of 2017. So I will start the sample in 2018.\n",
    "\n",
    "So the way we will do this is to compute daily returns and then covert to monthly by multiplying by the average number of trading days in a month (21)"
   ]
  },
  {
   "cell_type": "code",
   "execution_count": 13,
   "metadata": {},
   "outputs": [],
   "source": [
    "RBTC=BTC.pct_change()\n",
    "start='2018'\n",
    "ERstd.at['BTC','avg']=RBTC[start:].mean()*21\n",
    "ERstd.at['BTC','avg_std']=(RBTC[start:].std()/RBTC[start:].shape[0]**0.5)*21"
   ]
  },
  {
   "cell_type": "code",
   "execution_count": 14,
   "metadata": {},
   "outputs": [
    {
     "data": {
      "image/png": "[encoded data removed]",
      "text/plain": [
       "<Figure size 432x288 with 1 Axes>"
      ]
     },
     "metadata": {
      "needs_background": "light"
     },
     "output_type": "display_data"
    }
   ],
   "source": [
    "(ERstd.avg*12*100).plot.bar(yerr=ERstd.avg_std*1.64*12*100,  capsize=4, rot=0);"
   ]
  },
  {
   "cell_type": "code",
   "execution_count": 16,
   "metadata": {},
   "outputs": [
    {
     "data": {
      "text/html": [
       "<div>\n",
       "<style scoped>\n",
       "    .dataframe tbody tr th:only-of-type {\n",
       "        vertical-align: middle;\n",
       "    }\n",
       "\n",
       "    .dataframe tbody tr th {\n",
       "        vertical-align: top;\n",
       "    }\n",
       "\n",
       "    .dataframe thead th {\n",
       "        text-align: right;\n",
       "    }\n",
       "</style>\n",
       "<table border=\"1\" class=\"dataframe\">\n",
       "  <thead>\n",
       "    <tr style=\"text-align: right;\">\n",
       "      <th></th>\n",
       "      <th>avg_std</th>\n",
       "      <th>avg</th>\n",
       "    </tr>\n",
       "  </thead>\n",
       "  <tbody>\n",
       "    <tr>\n",
       "      <th>MKTUS</th>\n",
       "      <td>2.082192</td>\n",
       "      <td>6.168408</td>\n",
       "    </tr>\n",
       "    <tr>\n",
       "      <th>BondUS</th>\n",
       "      <td>1.652384</td>\n",
       "      <td>3.027184</td>\n",
       "    </tr>\n",
       "    <tr>\n",
       "      <th>EM</th>\n",
       "      <td>2.813385</td>\n",
       "      <td>8.307944</td>\n",
       "    </tr>\n",
       "    <tr>\n",
       "      <th>MKTxUS</th>\n",
       "      <td>2.203549</td>\n",
       "      <td>4.978818</td>\n",
       "    </tr>\n",
       "    <tr>\n",
       "      <th>BondxUS</th>\n",
       "      <td>0.951332</td>\n",
       "      <td>2.464985</td>\n",
       "    </tr>\n",
       "    <tr>\n",
       "      <th>BTC</th>\n",
       "      <td>27.293186</td>\n",
       "      <td>47.460296</td>\n",
       "    </tr>\n",
       "  </tbody>\n",
       "</table>\n",
       "</div>"
      ],
      "text/plain": [
       "           avg_std        avg\n",
       "MKTUS     2.082192   6.168408\n",
       "BondUS    1.652384   3.027184\n",
       "EM        2.813385   8.307944\n",
       "MKTxUS    2.203549   4.978818\n",
       "BondxUS   0.951332   2.464985\n",
       "BTC      27.293186  47.460296"
      ]
     },
     "execution_count": 16,
     "metadata": {},
     "output_type": "execute_result"
    }
   ],
   "source": [
    "ERstd*12*100"
   ]
  },
  {
   "cell_type": "markdown",
   "metadata": {},
   "source": [
    "So you can see that the confidence interval is just huge and you cannot really reject that is the same as the other assets."
   ]
  },
  {
   "cell_type": "markdown",
   "metadata": {},
   "source": [
    "**Why this matters (A LOT)**\n",
    "\n",
    "We will briefly discuss statistical tests, but you should look at Chapter 20 where these issues are discussed in depth, but before going there it is important to emphasize why this is the core of quantitative investing.\n",
    "\n",
    "- The fact that these averages are so difficult to  estimate means that our average estimator will vary a lot over time as we get more data\n",
    "\n",
    "- It means that the past average is a very noisy proxy for what you expect to get goign forward\n",
    "\n",
    "- It means that the in sample Sharpe ratios that you compute using the mean-variance optimizaiton will be **extremely** biased upwards because our maximizer will assume that these expected return differences across assets are true with certainty\n",
    "\n",
    "- thus the maximum Sharpe ratio that comes from this will rely on taking extreme bets by goign long and short a few assets.\n",
    "\n",
    "- If in fact the differences are nto real, the end portfolio will jsut be super risky, but without much expected return to show\n",
    "\n",
    "- Of course, in the particular sample things will look great because you are evalauting the \"strategy\" in the same sample that you used to estimate the moments of the returns which is the key imput for your optimization.\n",
    "\n",
    "- OF course, in REAL LIFE you don't get to do do that! You have to trade using only past data. \n",
    "\n",
    "- When we do that, our analysis is suffering from **look-ahead bias** because our estiamtor is using the full sample to estiamte the weights and implicily giving the trader this information"
   ]
  },
  {
   "cell_type": "markdown",
   "metadata": {},
   "source": [
    "**How sensitive are our Mean-Variance portfolio to estimation uncertainty about expected excess returns?**\n",
    "\n",
    "There are a few ways to get at that.\n",
    "\n",
    "1. We will start by changing our expected returns asset by asset by 1 standard deviation below/above the sample average and will look how our weights change\n",
    "\n",
    "   - There is a 32% chance that the actual expected return is actually further than the sample mean that this pertubation would imply\n",
    "   - Thus this is not a very conservative exercise. MV analysis is fairly likely to be substantially more wrong than this\n",
    "   - And of course we will do asset by asset to keep the intuition simple to grasp, but note that in all likelihood all assets have expected returns further from the sample. \n",
    "   - In the end that is what you actually care about, how you are wrong overall\n",
    "   \n",
    "2. We will then fix our weights and pertubate the average returns of the asset when we compute the performance of our strategy. \n",
    "   - We will focus only on average reutrns here becasue we will assume no uncertainty about the covariance matrix"
   ]
  },
  {
   "cell_type": "markdown",
   "metadata": {},
   "source": [
    "**Optimal Weights senstivity to uncertainty**"
   ]
  },
  {
   "cell_type": "code",
   "execution_count": 45,
   "metadata": {},
   "outputs": [
    {
     "data": {
      "text/html": [
       "<div>\n",
       "<style scoped>\n",
       "    .dataframe tbody tr th:only-of-type {\n",
       "        vertical-align: middle;\n",
       "    }\n",
       "\n",
       "    .dataframe tbody tr th {\n",
       "        vertical-align: top;\n",
       "    }\n",
       "\n",
       "    .dataframe thead th {\n",
       "        text-align: right;\n",
       "    }\n",
       "</style>\n",
       "<table border=\"1\" class=\"dataframe\">\n",
       "  <thead>\n",
       "    <tr style=\"text-align: right;\">\n",
       "      <th></th>\n",
       "      <th>samplemean</th>\n",
       "      <th>EM--2std</th>\n",
       "    </tr>\n",
       "  </thead>\n",
       "  <tbody>\n",
       "    <tr>\n",
       "      <th>MKTUS</th>\n",
       "      <td>1.835334</td>\n",
       "      <td>1.209463</td>\n",
       "    </tr>\n",
       "    <tr>\n",
       "      <th>BondUS</th>\n",
       "      <td>1.423373</td>\n",
       "      <td>1.817124</td>\n",
       "    </tr>\n",
       "    <tr>\n",
       "      <th>EM</th>\n",
       "      <td>1.605223</td>\n",
       "      <td>3.776018</td>\n",
       "    </tr>\n",
       "    <tr>\n",
       "      <th>MKTxUS</th>\n",
       "      <td>-1.026421</td>\n",
       "      <td>-2.323700</td>\n",
       "    </tr>\n",
       "    <tr>\n",
       "      <th>BondxUS</th>\n",
       "      <td>3.365823</td>\n",
       "      <td>3.416515</td>\n",
       "    </tr>\n",
       "  </tbody>\n",
       "</table>\n",
       "</div>"
      ],
      "text/plain": [
       "         samplemean  EM--2std\n",
       "MKTUS      1.835334  1.209463\n",
       "BondUS     1.423373  1.817124\n",
       "EM         1.605223  3.776018\n",
       "MKTxUS    -1.026421 -2.323700\n",
       "BondxUS    3.365823  3.416515"
      ]
     },
     "execution_count": 45,
     "metadata": {},
     "output_type": "execute_result"
    }
   ],
   "source": [
    "# lets look at what happens with weights and Sharpes as we pertubate the mean of the market return by one standard deviation\n",
    "Wmve=pd.DataFrame([],index=Re.columns)\n",
    "\n",
    "ERe=Re.mean()\n",
    "CovRe=Re.cov()\n",
    "T=Re.shape[0]\n",
    "\n",
    "asset='EM'\n",
    "pertubation=-2\n",
    "mu=Re[asset].mean()\n",
    "musigma=Re[asset].std()/T**0.5\n",
    "# I am creating a copy of the average return vector so I can pertubate it below \n",
    "ERemsig=ERe.copy()\n",
    "\n",
    "ERemsig[asset]=mu-pertubation*musigma\n",
    "\n",
    "# mve for sample mean\n",
    "Wmve['samplemean'] =np.linalg.inv(CovRe) @ ERe\n",
    "# mve for perturbed mean\n",
    "Wmve[asset+'-'+str(pertubation)+'std'] =np.linalg.inv(CovRe) @ ERemsig\n",
    "Wmve\n"
   ]
  },
  {
   "cell_type": "code",
   "execution_count": 46,
   "metadata": {},
   "outputs": [
    {
     "data": {
      "text/html": [
       "<div>\n",
       "<style scoped>\n",
       "    .dataframe tbody tr th:only-of-type {\n",
       "        vertical-align: middle;\n",
       "    }\n",
       "\n",
       "    .dataframe tbody tr th {\n",
       "        vertical-align: top;\n",
       "    }\n",
       "\n",
       "    .dataframe thead th {\n",
       "        text-align: right;\n",
       "    }\n",
       "</style>\n",
       "<table border=\"1\" class=\"dataframe\">\n",
       "  <thead>\n",
       "    <tr style=\"text-align: right;\">\n",
       "      <th></th>\n",
       "      <th>samplemean</th>\n",
       "      <th>EM--2std</th>\n",
       "    </tr>\n",
       "  </thead>\n",
       "  <tbody>\n",
       "    <tr>\n",
       "      <th>MKTUS</th>\n",
       "      <td>0.254790</td>\n",
       "      <td>0.153185</td>\n",
       "    </tr>\n",
       "    <tr>\n",
       "      <th>BondUS</th>\n",
       "      <td>0.197599</td>\n",
       "      <td>0.230149</td>\n",
       "    </tr>\n",
       "    <tr>\n",
       "      <th>EM</th>\n",
       "      <td>0.222844</td>\n",
       "      <td>0.478254</td>\n",
       "    </tr>\n",
       "    <tr>\n",
       "      <th>MKTxUS</th>\n",
       "      <td>-0.142493</td>\n",
       "      <td>-0.294310</td>\n",
       "    </tr>\n",
       "    <tr>\n",
       "      <th>BondxUS</th>\n",
       "      <td>0.467259</td>\n",
       "      <td>0.432721</td>\n",
       "    </tr>\n",
       "  </tbody>\n",
       "</table>\n",
       "</div>"
      ],
      "text/plain": [
       "         samplemean  EM--2std\n",
       "MKTUS      0.254790  0.153185\n",
       "BondUS     0.197599  0.230149\n",
       "EM         0.222844  0.478254\n",
       "MKTxUS    -0.142493 -0.294310\n",
       "BondxUS    0.467259  0.432721"
      ]
     },
     "execution_count": 46,
     "metadata": {},
     "output_type": "execute_result"
    }
   ],
   "source": [
    "Wmve/Wmve.sum().abs()"
   ]
  },
  {
   "cell_type": "code",
   "execution_count": null,
   "metadata": {},
   "outputs": [],
   "source": []
  },
  {
   "cell_type": "code",
   "execution_count": 34,
   "metadata": {},
   "outputs": [
    {
     "data": {
      "text/html": [
       "<div>\n",
       "<style scoped>\n",
       "    .dataframe tbody tr th:only-of-type {\n",
       "        vertical-align: middle;\n",
       "    }\n",
       "\n",
       "    .dataframe tbody tr th {\n",
       "        vertical-align: top;\n",
       "    }\n",
       "\n",
       "    .dataframe thead th {\n",
       "        text-align: right;\n",
       "    }\n",
       "</style>\n",
       "<table border=\"1\" class=\"dataframe\">\n",
       "  <thead>\n",
       "    <tr style=\"text-align: right;\">\n",
       "      <th></th>\n",
       "      <th>samplemean</th>\n",
       "      <th>MKTUS-1std</th>\n",
       "      <th>BondUS-1std</th>\n",
       "      <th>EM-1std</th>\n",
       "      <th>MKTxUS-1std</th>\n",
       "      <th>BondxUS-1std</th>\n",
       "    </tr>\n",
       "  </thead>\n",
       "  <tbody>\n",
       "    <tr>\n",
       "      <th>MKTUS</th>\n",
       "      <td>0.254790</td>\n",
       "      <td>0.045376</td>\n",
       "      <td>0.303265</td>\n",
       "      <td>0.313283</td>\n",
       "      <td>0.344091</td>\n",
       "      <td>0.304480</td>\n",
       "    </tr>\n",
       "    <tr>\n",
       "      <th>BondUS</th>\n",
       "      <td>0.197599</td>\n",
       "      <td>0.261279</td>\n",
       "      <td>0.000796</td>\n",
       "      <td>0.178860</td>\n",
       "      <td>0.134800</td>\n",
       "      <td>0.392717</td>\n",
       "    </tr>\n",
       "    <tr>\n",
       "      <th>EM</th>\n",
       "      <td>0.222844</td>\n",
       "      <td>0.281237</td>\n",
       "      <td>0.219292</td>\n",
       "      <td>0.075806</td>\n",
       "      <td>0.270653</td>\n",
       "      <td>0.298489</td>\n",
       "    </tr>\n",
       "    <tr>\n",
       "      <th>MKTxUS</th>\n",
       "      <td>-0.142493</td>\n",
       "      <td>-0.033987</td>\n",
       "      <td>-0.192045</td>\n",
       "      <td>-0.055092</td>\n",
       "      <td>-0.393407</td>\n",
       "      <td>-0.057789</td>\n",
       "    </tr>\n",
       "    <tr>\n",
       "      <th>BondxUS</th>\n",
       "      <td>0.467259</td>\n",
       "      <td>0.446095</td>\n",
       "      <td>0.668693</td>\n",
       "      <td>0.487143</td>\n",
       "      <td>0.643864</td>\n",
       "      <td>0.062102</td>\n",
       "    </tr>\n",
       "  </tbody>\n",
       "</table>\n",
       "</div>"
      ],
      "text/plain": [
       "         samplemean  MKTUS-1std  BondUS-1std   EM-1std  MKTxUS-1std  \\\n",
       "MKTUS      0.254790    0.045376     0.303265  0.313283     0.344091   \n",
       "BondUS     0.197599    0.261279     0.000796  0.178860     0.134800   \n",
       "EM         0.222844    0.281237     0.219292  0.075806     0.270653   \n",
       "MKTxUS    -0.142493   -0.033987    -0.192045 -0.055092    -0.393407   \n",
       "BondxUS    0.467259    0.446095     0.668693  0.487143     0.643864   \n",
       "\n",
       "         BondxUS-1std  \n",
       "MKTUS        0.304480  \n",
       "BondUS       0.392717  \n",
       "EM           0.298489  \n",
       "MKTxUS      -0.057789  \n",
       "BondxUS      0.062102  "
      ]
     },
     "execution_count": 34,
     "metadata": {},
     "output_type": "execute_result"
    }
   ],
   "source": [
    "# lets now loop though all assets\n",
    "Wmve=pd.DataFrame([],index=Re.columns)\n",
    "\n",
    "ERe=Re.mean()\n",
    "CovRe=Re.cov()\n",
    "T=Re.shape[0]\n",
    "ERemsig=ERe.copy()\n",
    "pertubation=1\n",
    "for asset in Re.columns:\n",
    "    \n",
    "    mu=Re[asset].mean()\n",
    "    musigma=Re[asset].std()/T**0.5\n",
    "    # It is essential that I reinnitalize this vector of expected returns at the average value, otherwise as I more though\n",
    "    # the floor loop I would not be changing one asset at a time, but instead I woudl be doing cumulative changes\n",
    "    # because the earlier pertubations would stay in the vector\n",
    "    ERemsig=ERe.copy()\n",
    "    ERemsig[asset]=mu-pertubation*musigma\n",
    "\n",
    "    # mve for sample mean\n",
    "    Wmve['samplemean'] =np.linalg.inv(CovRe) @ ERe\n",
    "    # mve for perturbed mean\n",
    "    Wmve[asset+'-'+str(pertubation)+'std'] =np.linalg.inv(CovRe) @ ERemsig\n",
    "Wmve_minus=Wmve.copy()\n",
    "Wmve_minus"
   ]
  },
  {
   "cell_type": "code",
   "execution_count": 35,
   "metadata": {},
   "outputs": [
    {
     "data": {
      "text/html": [
       "<div>\n",
       "<style scoped>\n",
       "    .dataframe tbody tr th:only-of-type {\n",
       "        vertical-align: middle;\n",
       "    }\n",
       "\n",
       "    .dataframe tbody tr th {\n",
       "        vertical-align: top;\n",
       "    }\n",
       "\n",
       "    .dataframe thead th {\n",
       "        text-align: right;\n",
       "    }\n",
       "</style>\n",
       "<table border=\"1\" class=\"dataframe\">\n",
       "  <thead>\n",
       "    <tr style=\"text-align: right;\">\n",
       "      <th></th>\n",
       "      <th>samplemean</th>\n",
       "      <th>MKTUS+1std</th>\n",
       "      <th>BondUS+1std</th>\n",
       "      <th>EM+1std</th>\n",
       "      <th>MKTxUS+1std</th>\n",
       "      <th>BondxUS+1std</th>\n",
       "    </tr>\n",
       "  </thead>\n",
       "  <tbody>\n",
       "    <tr>\n",
       "      <th>MKTUS</th>\n",
       "      <td>0.254790</td>\n",
       "      <td>0.428461</td>\n",
       "      <td>0.211543</td>\n",
       "      <td>0.201659</td>\n",
       "      <td>0.149122</td>\n",
       "      <td>0.225444</td>\n",
       "    </tr>\n",
       "    <tr>\n",
       "      <th>BondUS</th>\n",
       "      <td>0.197599</td>\n",
       "      <td>0.144788</td>\n",
       "      <td>0.373177</td>\n",
       "      <td>0.214620</td>\n",
       "      <td>0.271908</td>\n",
       "      <td>0.082369</td>\n",
       "    </tr>\n",
       "    <tr>\n",
       "      <th>EM</th>\n",
       "      <td>0.222844</td>\n",
       "      <td>0.174418</td>\n",
       "      <td>0.226014</td>\n",
       "      <td>0.356403</td>\n",
       "      <td>0.166274</td>\n",
       "      <td>0.178171</td>\n",
       "    </tr>\n",
       "    <tr>\n",
       "      <th>MKTxUS</th>\n",
       "      <td>-0.142493</td>\n",
       "      <td>-0.232478</td>\n",
       "      <td>-0.098284</td>\n",
       "      <td>-0.221881</td>\n",
       "      <td>0.154408</td>\n",
       "      <td>-0.192516</td>\n",
       "    </tr>\n",
       "    <tr>\n",
       "      <th>BondxUS</th>\n",
       "      <td>0.467259</td>\n",
       "      <td>0.484811</td>\n",
       "      <td>0.287550</td>\n",
       "      <td>0.449199</td>\n",
       "      <td>0.258288</td>\n",
       "      <td>0.706532</td>\n",
       "    </tr>\n",
       "  </tbody>\n",
       "</table>\n",
       "</div>"
      ],
      "text/plain": [
       "         samplemean  MKTUS+1std  BondUS+1std   EM+1std  MKTxUS+1std  \\\n",
       "MKTUS      0.254790    0.428461     0.211543  0.201659     0.149122   \n",
       "BondUS     0.197599    0.144788     0.373177  0.214620     0.271908   \n",
       "EM         0.222844    0.174418     0.226014  0.356403     0.166274   \n",
       "MKTxUS    -0.142493   -0.232478    -0.098284 -0.221881     0.154408   \n",
       "BondxUS    0.467259    0.484811     0.287550  0.449199     0.258288   \n",
       "\n",
       "         BondxUS+1std  \n",
       "MKTUS        0.225444  \n",
       "BondUS       0.082369  \n",
       "EM           0.178171  \n",
       "MKTxUS      -0.192516  \n",
       "BondxUS      0.706532  "
      ]
     },
     "execution_count": 35,
     "metadata": {},
     "output_type": "execute_result"
    }
   ],
   "source": [
    "# we can also pertubate in the other direction\n",
    "\n",
    "Wmve=pd.DataFrame([],index=Re.columns)\n",
    "\n",
    "ERe=Re.mean()\n",
    "CovRe=Re.cov()\n",
    "T=Re.shape[0]\n",
    "\n",
    "pertubation=1\n",
    "for asset in Re.columns:\n",
    "    ERemsig=ERe.copy()\n",
    "    mu=Re[asset].mean()\n",
    "    musigma=Re[asset].std()/T**0.5\n",
    "    #I cnahged the minus to plus in the line below\n",
    "    ERemsig[asset]=mu+pertubation*musigma\n",
    "\n",
    "    # mve for sample mean\n",
    "    Wmve['samplemean'] =np.linalg.inv(CovRe) @ ERe\n",
    "    # mve for perturbed mean\n",
    "    Wmve[asset+'+'+str(pertubation)+'std'] =np.linalg.inv(CovRe) @ ERemsig\n",
    "Wmve_plus=Wmve.copy()\n",
    "Wmve_plus"
   ]
  },
  {
   "cell_type": "markdown",
   "metadata": {},
   "source": [
    "Lets normalize the weights so the add up to one and we can visualize things better\n",
    "\n",
    "**BE CAREFUL**\n",
    "\n",
    "We can do that as long the weights add up to a positive number which happens to be true in this case. \n",
    "\n",
    "If they add up to a negative number, you will be fliping the direction of thw weights when you do such a nomralization, so it might be safer to normalize by the absolute value of the sum to preserve the sign of the weigths"
   ]
  },
  {
   "cell_type": "code",
   "execution_count": 36,
   "metadata": {},
   "outputs": [
    {
     "data": {
      "text/html": [
       "<div>\n",
       "<style scoped>\n",
       "    .dataframe tbody tr th:only-of-type {\n",
       "        vertical-align: middle;\n",
       "    }\n",
       "\n",
       "    .dataframe tbody tr th {\n",
       "        vertical-align: top;\n",
       "    }\n",
       "\n",
       "    .dataframe thead th {\n",
       "        text-align: right;\n",
       "    }\n",
       "</style>\n",
       "<table border=\"1\" class=\"dataframe\">\n",
       "  <thead>\n",
       "    <tr style=\"text-align: right;\">\n",
       "      <th></th>\n",
       "      <th>samplemean</th>\n",
       "      <th>MKTUS+1std</th>\n",
       "      <th>BondUS+1std</th>\n",
       "      <th>EM+1std</th>\n",
       "      <th>MKTxUS+1std</th>\n",
       "      <th>BondxUS+1std</th>\n",
       "    </tr>\n",
       "  </thead>\n",
       "  <tbody>\n",
       "    <tr>\n",
       "      <th>MKTUS</th>\n",
       "      <td>0.254790</td>\n",
       "      <td>0.428461</td>\n",
       "      <td>0.211543</td>\n",
       "      <td>0.201659</td>\n",
       "      <td>0.149122</td>\n",
       "      <td>0.225444</td>\n",
       "    </tr>\n",
       "    <tr>\n",
       "      <th>BondUS</th>\n",
       "      <td>0.197599</td>\n",
       "      <td>0.144788</td>\n",
       "      <td>0.373177</td>\n",
       "      <td>0.214620</td>\n",
       "      <td>0.271908</td>\n",
       "      <td>0.082369</td>\n",
       "    </tr>\n",
       "    <tr>\n",
       "      <th>EM</th>\n",
       "      <td>0.222844</td>\n",
       "      <td>0.174418</td>\n",
       "      <td>0.226014</td>\n",
       "      <td>0.356403</td>\n",
       "      <td>0.166274</td>\n",
       "      <td>0.178171</td>\n",
       "    </tr>\n",
       "    <tr>\n",
       "      <th>MKTxUS</th>\n",
       "      <td>-0.142493</td>\n",
       "      <td>-0.232478</td>\n",
       "      <td>-0.098284</td>\n",
       "      <td>-0.221881</td>\n",
       "      <td>0.154408</td>\n",
       "      <td>-0.192516</td>\n",
       "    </tr>\n",
       "    <tr>\n",
       "      <th>BondxUS</th>\n",
       "      <td>0.467259</td>\n",
       "      <td>0.484811</td>\n",
       "      <td>0.287550</td>\n",
       "      <td>0.449199</td>\n",
       "      <td>0.258288</td>\n",
       "      <td>0.706532</td>\n",
       "    </tr>\n",
       "  </tbody>\n",
       "</table>\n",
       "</div>"
      ],
      "text/plain": [
       "         samplemean  MKTUS+1std  BondUS+1std   EM+1std  MKTxUS+1std  \\\n",
       "MKTUS      0.254790    0.428461     0.211543  0.201659     0.149122   \n",
       "BondUS     0.197599    0.144788     0.373177  0.214620     0.271908   \n",
       "EM         0.222844    0.174418     0.226014  0.356403     0.166274   \n",
       "MKTxUS    -0.142493   -0.232478    -0.098284 -0.221881     0.154408   \n",
       "BondxUS    0.467259    0.484811     0.287550  0.449199     0.258288   \n",
       "\n",
       "         BondxUS+1std  \n",
       "MKTUS        0.225444  \n",
       "BondUS       0.082369  \n",
       "EM           0.178171  \n",
       "MKTxUS      -0.192516  \n",
       "BondxUS      0.706532  "
      ]
     },
     "metadata": {},
     "output_type": "display_data"
    },
    {
     "data": {
      "text/html": [
       "<div>\n",
       "<style scoped>\n",
       "    .dataframe tbody tr th:only-of-type {\n",
       "        vertical-align: middle;\n",
       "    }\n",
       "\n",
       "    .dataframe tbody tr th {\n",
       "        vertical-align: top;\n",
       "    }\n",
       "\n",
       "    .dataframe thead th {\n",
       "        text-align: right;\n",
       "    }\n",
       "</style>\n",
       "<table border=\"1\" class=\"dataframe\">\n",
       "  <thead>\n",
       "    <tr style=\"text-align: right;\">\n",
       "      <th></th>\n",
       "      <th>samplemean</th>\n",
       "      <th>MKTUS-1std</th>\n",
       "      <th>BondUS-1std</th>\n",
       "      <th>EM-1std</th>\n",
       "      <th>MKTxUS-1std</th>\n",
       "      <th>BondxUS-1std</th>\n",
       "    </tr>\n",
       "  </thead>\n",
       "  <tbody>\n",
       "    <tr>\n",
       "      <th>MKTUS</th>\n",
       "      <td>0.254790</td>\n",
       "      <td>0.045376</td>\n",
       "      <td>0.303265</td>\n",
       "      <td>0.313283</td>\n",
       "      <td>0.344091</td>\n",
       "      <td>0.304480</td>\n",
       "    </tr>\n",
       "    <tr>\n",
       "      <th>BondUS</th>\n",
       "      <td>0.197599</td>\n",
       "      <td>0.261279</td>\n",
       "      <td>0.000796</td>\n",
       "      <td>0.178860</td>\n",
       "      <td>0.134800</td>\n",
       "      <td>0.392717</td>\n",
       "    </tr>\n",
       "    <tr>\n",
       "      <th>EM</th>\n",
       "      <td>0.222844</td>\n",
       "      <td>0.281237</td>\n",
       "      <td>0.219292</td>\n",
       "      <td>0.075806</td>\n",
       "      <td>0.270653</td>\n",
       "      <td>0.298489</td>\n",
       "    </tr>\n",
       "    <tr>\n",
       "      <th>MKTxUS</th>\n",
       "      <td>-0.142493</td>\n",
       "      <td>-0.033987</td>\n",
       "      <td>-0.192045</td>\n",
       "      <td>-0.055092</td>\n",
       "      <td>-0.393407</td>\n",
       "      <td>-0.057789</td>\n",
       "    </tr>\n",
       "    <tr>\n",
       "      <th>BondxUS</th>\n",
       "      <td>0.467259</td>\n",
       "      <td>0.446095</td>\n",
       "      <td>0.668693</td>\n",
       "      <td>0.487143</td>\n",
       "      <td>0.643864</td>\n",
       "      <td>0.062102</td>\n",
       "    </tr>\n",
       "  </tbody>\n",
       "</table>\n",
       "</div>"
      ],
      "text/plain": [
       "         samplemean  MKTUS-1std  BondUS-1std   EM-1std  MKTxUS-1std  \\\n",
       "MKTUS      0.254790    0.045376     0.303265  0.313283     0.344091   \n",
       "BondUS     0.197599    0.261279     0.000796  0.178860     0.134800   \n",
       "EM         0.222844    0.281237     0.219292  0.075806     0.270653   \n",
       "MKTxUS    -0.142493   -0.033987    -0.192045 -0.055092    -0.393407   \n",
       "BondxUS    0.467259    0.446095     0.668693  0.487143     0.643864   \n",
       "\n",
       "         BondxUS-1std  \n",
       "MKTUS        0.304480  \n",
       "BondUS       0.392717  \n",
       "EM           0.298489  \n",
       "MKTxUS      -0.057789  \n",
       "BondxUS      0.062102  "
      ]
     },
     "metadata": {},
     "output_type": "display_data"
    }
   ],
   "source": [
    "display(Wmve_plus/Wmve_plus.sum())\n",
    "display(Wmve_minus/Wmve_minus.sum())"
   ]
  },
  {
   "cell_type": "markdown",
   "metadata": {},
   "source": [
    "Focusing in the Market pertubation, you can see that:\n",
    "\n",
    "- Our optimal position in the US MKT ranges form 4.5% to 42%!\n",
    "- Our optimal position on the international ranges form -23% to -3%!\n",
    "- Other assets move quite a bit as well\n",
    "\n",
    "> Why the optimal weights on the international equity portfolio is so sentive to uncertainty about the US MKT expected return? Does that make any sense?"
   ]
  },
  {
   "cell_type": "markdown",
   "metadata": {},
   "source": [
    "**Perfomance sensitivy to uncertainty**"
   ]
  },
  {
   "cell_type": "code",
   "execution_count": 41,
   "metadata": {},
   "outputs": [
    {
     "data": {
      "text/html": [
       "<div>\n",
       "<style scoped>\n",
       "    .dataframe tbody tr th:only-of-type {\n",
       "        vertical-align: middle;\n",
       "    }\n",
       "\n",
       "    .dataframe tbody tr th {\n",
       "        vertical-align: top;\n",
       "    }\n",
       "\n",
       "    .dataframe thead th {\n",
       "        text-align: right;\n",
       "    }\n",
       "</style>\n",
       "<table border=\"1\" class=\"dataframe\">\n",
       "  <thead>\n",
       "    <tr style=\"text-align: right;\">\n",
       "      <th></th>\n",
       "      <th>samplemean</th>\n",
       "      <th>MKTUS</th>\n",
       "      <th>BondUS</th>\n",
       "      <th>EM</th>\n",
       "      <th>MKTxUS</th>\n",
       "      <th>BondxUS</th>\n",
       "    </tr>\n",
       "  </thead>\n",
       "  <tbody>\n",
       "    <tr>\n",
       "      <th>Avgret-2std</th>\n",
       "      <td>32.152336</td>\n",
       "      <td>24.509302</td>\n",
       "      <td>27.448419</td>\n",
       "      <td>23.120119</td>\n",
       "      <td>36.675875</td>\n",
       "      <td>25.748304</td>\n",
       "    </tr>\n",
       "    <tr>\n",
       "      <th>Avgret+2std</th>\n",
       "      <td>32.152336</td>\n",
       "      <td>39.795371</td>\n",
       "      <td>36.856253</td>\n",
       "      <td>41.184554</td>\n",
       "      <td>27.628798</td>\n",
       "      <td>38.556369</td>\n",
       "    </tr>\n",
       "  </tbody>\n",
       "</table>\n",
       "</div>"
      ],
      "text/plain": [
       "             samplemean      MKTUS     BondUS         EM     MKTxUS    BondxUS\n",
       "Avgret-2std   32.152336  24.509302  27.448419  23.120119  36.675875  25.748304\n",
       "Avgret+2std   32.152336  39.795371  36.856253  41.184554  27.628798  38.556369"
      ]
     },
     "execution_count": 41,
     "metadata": {},
     "output_type": "execute_result"
    }
   ],
   "source": [
    "ERmve=pd.DataFrame([],index=[])\n",
    "\n",
    "ERe=Re.mean()\n",
    "CovRe=Re.cov()\n",
    "T=Re.shape[0]\n",
    "\n",
    "pertubation=2\n",
    "# mve for sample mean\n",
    "Wmve =np.linalg.inv(CovRe) @ ERe\n",
    "ERmve.at['Avgret-'+str(pertubation)+'std','samplemean'] =Wmve @ ERe\n",
    "ERmve.at['Avgret+'+str(pertubation)+'std','samplemean'] =Wmve @ ERe\n",
    "for asset in Re.columns:\n",
    "    ERemsig=ERe.copy()\n",
    "    mu=Re[asset].mean()\n",
    "    musigma=Re[asset].std()/T**0.5\n",
    "    ERemsig[asset]=mu-pertubation*musigma\n",
    "    ERmve.at['Avgret-'+str(pertubation)+'std',asset] =Wmve  @ ERemsig \n",
    "    ERemsig[asset]=mu+pertubation*musigma\n",
    "    ERmve.at['Avgret+'+str(pertubation)+'std',asset] =Wmve  @ ERemsig\n",
    "\n",
    "ERmve*12*100"
   ]
  },
  {
   "cell_type": "markdown",
   "metadata": {},
   "source": [
    "Note here that this is only ons source of uncertainty, uncertainty about average returns, and asset by asset.\n",
    "\n",
    "In practice you care about:\n",
    "\n",
    "- Uncertainty about the average returns of all assets at the same time. Imagine the double yammy where US MKT has lower returns and international market has higher returns!\n",
    "\n",
    "- Uncertainty about the correlation across assets\n",
    "\n",
    "- And to a lesser extent, uncertainty about volatilities of the assets (lesse extent, becuase we can actually measure vol allright at monthly horizons)"
   ]
  },
  {
   "cell_type": "markdown",
   "metadata": {},
   "source": [
    "Once we discuss what defines a tradign strategy we will discuss a variety of methods to gauge how sentive an strategy is to estimation uncertainty.\n",
    "\n",
    "- Backtesting\n",
    "- Monte-carlo simulation\n",
    "- Bootstrapping\n",
    "- Sub-sample analysis\n",
    "\n",
    "\n"
   ]
  }
 ],
 "metadata": {
  "colab": {
   "collapsed_sections": [],
   "name": "Notebook 5.ipynb",
   "provenance": [],
   "toc_visible": true
  },
  "kernelspec": {
   "display_name": "Python 3",
   "language": "python",
   "name": "python3"
  },
  "language_info": {
   "codemirror_mode": {
    "name": "ipython",
    "version": 3
   },
   "file_extension": ".py",
   "mimetype": "text/x-python",
   "name": "python",
   "nbconvert_exporter": "python",
   "pygments_lexer": "ipython3",
   "version": "3.8.5"
  }
 },
 "nbformat": 4,
 "nbformat_minor": 4
}
