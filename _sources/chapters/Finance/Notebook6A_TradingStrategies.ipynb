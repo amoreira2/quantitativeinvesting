{
 "cells": [
  {
   "cell_type": "markdown",
   "metadata": {
    "colab_type": "text",
    "id": "O0JS4EMlBS35"
   },
   "source": [
    "# What is a valid trading strategy?\n",
    "\n",
    "* A trading strategy is a procedure that maps any information known up to time t, into a set of trading instructions for time  $T>t$.\n",
    "\n",
    "* The weights of a trading strategy must either:\n",
    "   * Add up to 1. So it describes what you do with your entire capital.\n",
    "   * Or add up to 0. So the strategy is self-financing. For example, borrow 1 dollar at the risk-free rate and buy 1 dollar worth of the market portfolio\n",
    "   * Every time you trade on the excess returns, you can think of the weights \"adding up to zero\"\n",
    "\n",
    "* It is very important that the trading strategy only uses information that is known at the time of the trade, otherwise it is not a valid trading strategy-- you obviously cannot trade on info that you don't know\n",
    "\n",
    "* It is very important that you are clear about where the dollars that you invest come from, so that the weights can add up to 1 (if you have some capital) or zero (if the strategy is self-financed and demand zero capital).\n",
    "\n",
    "  * In practice all strategies demand capital as no bank allow us to borrow without putting some capital in, but these self financed strategies are quite convenient to work with as they are all in the \"Excess Return Space\" since they have zero cost. \n",
    "  \n",
    "  * If you don't know what I am talking about, go back to notebook 3, 4 and 5.\n",
    "\n",
    "* Example of a VALID trading strategy: Every monday buy stocks that had positive news coverage during the weekend and sell stocks that had negative news coverage.\n",
    "  * This is valid because you are trading after the information is known.\n",
    "\n",
    "* Example of INVALID trading strategy: On Friday buy all the stocks that will have positive news coverage during the weekend, and sell all the stocks that will have negative coverage during the weekend.\n",
    "\n",
    "   * This is Invalid because you are trading before the information is known.\n",
    "   \n",
    "* This might sound ridicoulous. Obviously you can not trade on the information that is not known at the time of the trade!\n",
    "\n",
    "* But note that we will be \"simulating\" the trading process using HISTORICAL data, so we can easily get confused and use \"future\" information in the strategy construction process.\n",
    "\n"
   ]
  },
  {
   "cell_type": "markdown",
   "metadata": {
    "colab_type": "text",
    "id": "XjWiisGsU9ka"
   },
   "source": [
    "\n",
    "# Quantitative trading strategies\n",
    "\n",
    "* In this class we will focus on quantitative trading strategies. \n",
    "\n",
    "* Stragies that get some hard data about one or multiple assets and transform this data \"mechanically\"  into  portfolio weights\n",
    "\n",
    "* So given data $X_{t}$, a quatitative trading strategy is a function that maps data into weights $W_{t+1}=f(X_t)$\n",
    "\n",
    "* Example of \"Market Timing\" 1: Betting on the \"market momentum\"\n",
    "  * If months t, t-1 and t-2 the market had postive returns in each of the months, then buy 1 dollar at the closing price of month t and sell and the closing price of month t+1\n",
    "  \n",
    "  * Otherwise invest in the risk-free asset\n",
    "\n",
    "* Example of \"Market Timing\" 2: Volatility timing\n",
    "  * Using daily data for month t, construct the market return \"realized variance\" during month t\n",
    "   \n",
    "   $$RV_t=\\sum_{d \\in days~ in ~month ~t}\\frac{(R_d- \\overline{R})^2}{N_{days}},$$\n",
    "   \n",
    "      where $\\overline{R}$ is the average return within the month\n",
    "   \n",
    "  * Buy stocks at the closing price of month t accoding to the rule:\n",
    "   \n",
    "   $$W_t=\\frac{c}{RV_t},$$\n",
    "   \n",
    "      where $c$ is some constant.\n",
    "   \n",
    "  * Hold for a month\n",
    "   \n",
    "*    Example of \"cross-sectional\" strategy 1: Betting on the short-term reversal across industries\n",
    "       \n",
    "  * Sort portfolios of industries by their close to close returns in month t.\n",
    "    \n",
    "  * Buy the botton  10% , short the top 10% \n",
    "    \n",
    "  * Hold for a month\n",
    "\n",
    "   \n",
    "*    Example of \"cross-sectional\" strategy 2: Betting on the volatility across stocks\n",
    "       \n",
    "       * Construct stock realized variance in the last 24 months\n",
    "       \n",
    "       * Sort stocks by realized variance\n",
    "       \n",
    "       * Buy the bottom 10%, short the top 10%\n",
    "       \n",
    "       * Hold for a month\n",
    "\n",
    "\n",
    ">All these strategies map past data into a trading rule\n",
    "  * This allows us to backtest the strategy and see how it would have performed in a variety of investment conditions\n",
    "  * This ability to look back is the essential feature of quantitative investing\n",
    "\n"
   ]
  },
  {
   "cell_type": "markdown",
   "metadata": {
    "colab_type": "text",
    "id": "0C1UVSTMBS36"
   },
   "source": [
    "## Market Timing: Betting on continuation\n",
    "\n"
   ]
  },
  {
   "cell_type": "markdown",
   "metadata": {
    "colab_type": "text",
    "id": "ylEpLw1caTVg"
   },
   "source": [
    "### Construct our first trading strategy"
   ]
  },
  {
   "cell_type": "code",
   "execution_count": 19,
   "metadata": {
    "colab": {},
    "colab_type": "code",
    "id": "inDLCjGtBS36"
   },
   "outputs": [],
   "source": [
    "# start by loading data on the returns of the market portfolio and the risk-free rate\n",
    "import pandas as pd\n",
    "import numpy as np\n",
    "import matplotlib.pyplot as plt\n",
    "%matplotlib inline"
   ]
  },
  {
   "cell_type": "code",
   "execution_count": 20,
   "metadata": {
    "colab": {
     "base_uri": "https://localhost:8080/",
     "height": 235
    },
    "colab_type": "code",
    "executionInfo": {
     "elapsed": 1259,
     "status": "ok",
     "timestamp": 1576895864462,
     "user": {
      "displayName": "yuchi yao",
      "photoUrl": "",
      "userId": "00457884373990713813"
     },
     "user_tz": 300
    },
    "id": "kwYh9fuVBS39",
    "outputId": "23740d1c-7d41-496a-cd06-17da6187c9d9",
    "scrolled": true
   },
   "outputs": [
    {
     "data": {
      "text/html": [
       "<div>\n",
       "<style scoped>\n",
       "    .dataframe tbody tr th:only-of-type {\n",
       "        vertical-align: middle;\n",
       "    }\n",
       "\n",
       "    .dataframe tbody tr th {\n",
       "        vertical-align: top;\n",
       "    }\n",
       "\n",
       "    .dataframe thead th {\n",
       "        text-align: right;\n",
       "    }\n",
       "</style>\n",
       "<table border=\"1\" class=\"dataframe\">\n",
       "  <thead>\n",
       "    <tr style=\"text-align: right;\">\n",
       "      <th></th>\n",
       "      <th>RF</th>\n",
       "      <th>MKTUS</th>\n",
       "    </tr>\n",
       "    <tr>\n",
       "      <th>Date</th>\n",
       "      <th></th>\n",
       "      <th></th>\n",
       "    </tr>\n",
       "  </thead>\n",
       "  <tbody>\n",
       "    <tr>\n",
       "      <th>1963-02-28</th>\n",
       "      <td>0.0023</td>\n",
       "      <td>-0.0215</td>\n",
       "    </tr>\n",
       "    <tr>\n",
       "      <th>1963-03-31</th>\n",
       "      <td>0.0023</td>\n",
       "      <td>0.0331</td>\n",
       "    </tr>\n",
       "    <tr>\n",
       "      <th>1963-04-30</th>\n",
       "      <td>0.0025</td>\n",
       "      <td>0.0476</td>\n",
       "    </tr>\n",
       "    <tr>\n",
       "      <th>1963-05-31</th>\n",
       "      <td>0.0024</td>\n",
       "      <td>0.0200</td>\n",
       "    </tr>\n",
       "    <tr>\n",
       "      <th>1963-06-30</th>\n",
       "      <td>0.0023</td>\n",
       "      <td>-0.0177</td>\n",
       "    </tr>\n",
       "  </tbody>\n",
       "</table>\n",
       "</div>"
      ],
      "text/plain": [
       "                RF   MKTUS\n",
       "Date                      \n",
       "1963-02-28  0.0023 -0.0215\n",
       "1963-03-31  0.0023  0.0331\n",
       "1963-04-30  0.0025  0.0476\n",
       "1963-05-31  0.0024  0.0200\n",
       "1963-06-30  0.0023 -0.0177"
      ]
     },
     "execution_count": 20,
     "metadata": {},
     "output_type": "execute_result"
    }
   ],
   "source": [
    "\n",
    "#GlobalFinMonthly\n",
    "url=\"https://www.dropbox.com/s/3k35mt3t57ygff2/GlobalFinMonthly.csv?dl=1\"\n",
    "Data = pd.read_csv(url,na_values=-99)\n",
    "# tell python Date is date:\n",
    "Data['Date']=pd.to_datetime(Data['Date'])\n",
    "# set an an index\n",
    "Data=Data.set_index(['Date'])\n",
    "Data=Data.rename(columns={Data.columns[1]: \"MKTUS\",Data.columns[2]: \"BondUS\",\n",
    "                          Data.columns[3]: \"EM\",Data.columns[4]: \"MKTxUS\",Data.columns[5]: \"BondxUS\" })\n",
    "Data=Data[['RF','MKTUS']]\n",
    "Data.head()"
   ]
  },
  {
   "cell_type": "markdown",
   "metadata": {
    "colab_type": "text",
    "id": "6DFiP-J2BS3_"
   },
   "source": [
    "We start by constructing  the timing strategy 1: Buy if market went up for three consecutive months"
   ]
  },
  {
   "cell_type": "code",
   "execution_count": 22,
   "metadata": {
    "colab": {
     "base_uri": "https://localhost:8080/",
     "height": 221
    },
    "colab_type": "code",
    "executionInfo": {
     "elapsed": 387,
     "status": "ok",
     "timestamp": 1576895867047,
     "user": {
      "displayName": "yuchi yao",
      "photoUrl": "",
      "userId": "00457884373990713813"
     },
     "user_tz": 300
    },
    "id": "zHxXT5P1Xiqp",
    "outputId": "5ffc8538-48af-4ea1-f5be-d4496c52c410"
   },
   "outputs": [
    {
     "data": {
      "text/plain": [
       "Date\n",
       "2016-03-31    0.0698\n",
       "2016-04-30    0.0093\n",
       "2016-05-31    0.0179\n",
       "2016-06-30   -0.0003\n",
       "2016-07-31    0.0397\n",
       "2016-08-31    0.0052\n",
       "2016-09-30    0.0027\n",
       "2016-10-31   -0.0200\n",
       "2016-11-30    0.0487\n",
       "2016-12-31    0.0185\n",
       "Name: MKTUS, dtype: float64"
      ]
     },
     "execution_count": 22,
     "metadata": {},
     "output_type": "execute_result"
    }
   ],
   "source": [
    "Data.MKTUS.tail(10)"
   ]
  },
  {
   "cell_type": "code",
   "execution_count": 24,
   "metadata": {
    "colab": {
     "base_uri": "https://localhost:8080/",
     "height": 221
    },
    "colab_type": "code",
    "executionInfo": {
     "elapsed": 358,
     "status": "ok",
     "timestamp": 1576895869030,
     "user": {
      "displayName": "yuchi yao",
      "photoUrl": "",
      "userId": "00457884373990713813"
     },
     "user_tz": 300
    },
    "id": "9NHzVOwrXsH7",
    "outputId": "e36fa8aa-1dc2-478b-cc73-8ac726d1bc73"
   },
   "outputs": [
    {
     "data": {
      "text/plain": [
       "Date\n",
       "2016-03-31   -0.0005\n",
       "2016-04-30    0.0698\n",
       "2016-05-31    0.0093\n",
       "2016-06-30    0.0179\n",
       "2016-07-31   -0.0003\n",
       "2016-08-31    0.0397\n",
       "2016-09-30    0.0052\n",
       "2016-10-31    0.0027\n",
       "2016-11-30   -0.0200\n",
       "2016-12-31    0.0487\n",
       "Name: MKTUS, dtype: float64"
      ]
     },
     "execution_count": 24,
     "metadata": {},
     "output_type": "execute_result"
    }
   ],
   "source": [
    "# We use .shift(1) to lag the data by 1 period\n",
    "Data.MKTUS.shift(1).tail(10)"
   ]
  },
  {
   "cell_type": "code",
   "execution_count": 25,
   "metadata": {
    "colab": {
     "base_uri": "https://localhost:8080/",
     "height": 390
    },
    "colab_type": "code",
    "executionInfo": {
     "elapsed": 376,
     "status": "ok",
     "timestamp": 1576895872095,
     "user": {
      "displayName": "yuchi yao",
      "photoUrl": "",
      "userId": "00457884373990713813"
     },
     "user_tz": 300
    },
    "id": "po-w-I9TBS4A",
    "outputId": "216d4a6f-3904-4d18-ba00-c8e0af02d94a"
   },
   "outputs": [
    {
     "data": {
      "text/html": [
       "<div>\n",
       "<style scoped>\n",
       "    .dataframe tbody tr th:only-of-type {\n",
       "        vertical-align: middle;\n",
       "    }\n",
       "\n",
       "    .dataframe tbody tr th {\n",
       "        vertical-align: top;\n",
       "    }\n",
       "\n",
       "    .dataframe thead th {\n",
       "        text-align: right;\n",
       "    }\n",
       "</style>\n",
       "<table border=\"1\" class=\"dataframe\">\n",
       "  <thead>\n",
       "    <tr style=\"text-align: right;\">\n",
       "      <th></th>\n",
       "      <th>RF</th>\n",
       "      <th>MKTUS</th>\n",
       "      <th>Wmkt</th>\n",
       "      <th>Wrf</th>\n",
       "    </tr>\n",
       "    <tr>\n",
       "      <th>Date</th>\n",
       "      <th></th>\n",
       "      <th></th>\n",
       "      <th></th>\n",
       "      <th></th>\n",
       "    </tr>\n",
       "  </thead>\n",
       "  <tbody>\n",
       "    <tr>\n",
       "      <th>1963-02-28</th>\n",
       "      <td>0.0023</td>\n",
       "      <td>-0.0215</td>\n",
       "      <td>0</td>\n",
       "      <td>1</td>\n",
       "    </tr>\n",
       "    <tr>\n",
       "      <th>1963-03-31</th>\n",
       "      <td>0.0023</td>\n",
       "      <td>0.0331</td>\n",
       "      <td>0</td>\n",
       "      <td>1</td>\n",
       "    </tr>\n",
       "    <tr>\n",
       "      <th>1963-04-30</th>\n",
       "      <td>0.0025</td>\n",
       "      <td>0.0476</td>\n",
       "      <td>0</td>\n",
       "      <td>1</td>\n",
       "    </tr>\n",
       "    <tr>\n",
       "      <th>1963-05-31</th>\n",
       "      <td>0.0024</td>\n",
       "      <td>0.0200</td>\n",
       "      <td>0</td>\n",
       "      <td>1</td>\n",
       "    </tr>\n",
       "    <tr>\n",
       "      <th>1963-06-30</th>\n",
       "      <td>0.0023</td>\n",
       "      <td>-0.0177</td>\n",
       "      <td>1</td>\n",
       "      <td>0</td>\n",
       "    </tr>\n",
       "    <tr>\n",
       "      <th>1963-07-31</th>\n",
       "      <td>0.0027</td>\n",
       "      <td>-0.0012</td>\n",
       "      <td>0</td>\n",
       "      <td>1</td>\n",
       "    </tr>\n",
       "    <tr>\n",
       "      <th>1963-08-31</th>\n",
       "      <td>0.0025</td>\n",
       "      <td>0.0532</td>\n",
       "      <td>0</td>\n",
       "      <td>1</td>\n",
       "    </tr>\n",
       "    <tr>\n",
       "      <th>1963-09-30</th>\n",
       "      <td>0.0027</td>\n",
       "      <td>-0.0130</td>\n",
       "      <td>0</td>\n",
       "      <td>1</td>\n",
       "    </tr>\n",
       "    <tr>\n",
       "      <th>1963-10-31</th>\n",
       "      <td>0.0029</td>\n",
       "      <td>0.0282</td>\n",
       "      <td>0</td>\n",
       "      <td>1</td>\n",
       "    </tr>\n",
       "    <tr>\n",
       "      <th>1963-11-30</th>\n",
       "      <td>0.0027</td>\n",
       "      <td>-0.0058</td>\n",
       "      <td>0</td>\n",
       "      <td>1</td>\n",
       "    </tr>\n",
       "  </tbody>\n",
       "</table>\n",
       "</div>"
      ],
      "text/plain": [
       "                RF   MKTUS  Wmkt  Wrf\n",
       "Date                                 \n",
       "1963-02-28  0.0023 -0.0215     0    1\n",
       "1963-03-31  0.0023  0.0331     0    1\n",
       "1963-04-30  0.0025  0.0476     0    1\n",
       "1963-05-31  0.0024  0.0200     0    1\n",
       "1963-06-30  0.0023 -0.0177     1    0\n",
       "1963-07-31  0.0027 -0.0012     0    1\n",
       "1963-08-31  0.0025  0.0532     0    1\n",
       "1963-09-30  0.0027 -0.0130     0    1\n",
       "1963-10-31  0.0029  0.0282     0    1\n",
       "1963-11-30  0.0027 -0.0058     0    1"
      ]
     },
     "execution_count": 25,
     "metadata": {},
     "output_type": "execute_result"
    }
   ],
   "source": [
    "Data['Wmkt']=1*((Data.MKTUS.shift(1)>0) & (Data.MKTUS.shift(2)>0) & (Data.MKTUS.shift(3)>0))\n",
    "Data['Wrf']=1-Data.Wmkt\n",
    "Data.head(10)"
   ]
  },
  {
   "cell_type": "markdown",
   "metadata": {
    "colab_type": "text",
    "id": "aU6FLbMEBS4C"
   },
   "source": [
    "* So this is our first quant strategy.\n",
    "\n",
    "  * It gets data on returns and transforms into a portfolio \n",
    "\n",
    "  * Importantly, the weight that you have one the market at date t, only depends on data that is know before date t\n",
    "\n",
    "  * So this is a valid trading strategy\n",
    "\n",
    "* Is it a good one? "
   ]
  },
  {
   "cell_type": "markdown",
   "metadata": {
    "colab_type": "text",
    "id": "oE46YtK8aaqM"
   },
   "source": [
    "### Evaluate our first quant strategy"
   ]
  },
  {
   "cell_type": "markdown",
   "metadata": {
    "colab_type": "text",
    "id": "IWdTnbS2BS4C"
   },
   "source": [
    "First step is to look at it's realized returns:\n",
    "\n",
    "* We will name it $\\textbf{MFQS}$ (My First Quant Strategy)"
   ]
  },
  {
   "cell_type": "code",
   "execution_count": 26,
   "metadata": {
    "colab": {
     "base_uri": "https://localhost:8080/",
     "height": 279
    },
    "colab_type": "code",
    "executionInfo": {
     "elapsed": 605,
     "status": "ok",
     "timestamp": 1576895877132,
     "user": {
      "displayName": "yuchi yao",
      "photoUrl": "",
      "userId": "00457884373990713813"
     },
     "user_tz": 300
    },
    "id": "vTjoUEmiBS4D",
    "outputId": "d289d38c-8d50-4dab-80ed-6bf07042c9c2"
   },
   "outputs": [
    {
     "data": {
      "image/png": "[encoded data removed]",
      "text/plain": [
       "<Figure size 432x288 with 1 Axes>"
      ]
     },
     "metadata": {
      "needs_background": "light"
     },
     "output_type": "display_data"
    }
   ],
   "source": [
    "# Plot the average return of MFQS in time series\n",
    "Data['MFQS']=Data.RF*Data.Wrf+Data.MKTUS*Data.Wmkt\n",
    "Data.MFQS.plot()\n",
    "plt.show()"
   ]
  },
  {
   "cell_type": "markdown",
   "metadata": {
    "colab_type": "text",
    "id": "GW5i6BcABS4F"
   },
   "source": [
    "* Why sometimes the strategy is totally flat?\n",
    "\n",
    "* how does it compare with the market?"
   ]
  },
  {
   "cell_type": "code",
   "execution_count": 29,
   "metadata": {
    "colab": {
     "base_uri": "https://localhost:8080/",
     "height": 68
    },
    "colab_type": "code",
    "executionInfo": {
     "elapsed": 388,
     "status": "ok",
     "timestamp": 1576895881094,
     "user": {
      "displayName": "yuchi yao",
      "photoUrl": "",
      "userId": "00457884373990713813"
     },
     "user_tz": 300
    },
    "id": "gar4daDGBS4F",
    "outputId": "b86f7c3a-ce2e-4997-d0f2-fde37f607b59"
   },
   "outputs": [
    {
     "data": {
      "text/plain": [
       "MKTUS    0.009052\n",
       "MFQS     0.005750\n",
       "dtype: float64"
      ]
     },
     "execution_count": 29,
     "metadata": {},
     "output_type": "execute_result"
    }
   ],
   "source": [
    "# Look at average returns for the US market and our MFQS strategy\n",
    "Data[['MKTUS','MFQS']].mean()\n"
   ]
  },
  {
   "cell_type": "code",
   "execution_count": 28,
   "metadata": {
    "colab": {
     "base_uri": "https://localhost:8080/",
     "height": 68
    },
    "colab_type": "code",
    "executionInfo": {
     "elapsed": 486,
     "status": "ok",
     "timestamp": 1576895883110,
     "user": {
      "displayName": "yuchi yao",
      "photoUrl": "",
      "userId": "00457884373990713813"
     },
     "user_tz": 300
    },
    "id": "IAIAkivZBS4H",
    "outputId": "cf774deb-12f0-4ed3-ab19-be7f3a204aa0"
   },
   "outputs": [
    {
     "data": {
      "text/plain": [
       "MKTUS    0.044003\n",
       "MFQS     0.016796\n",
       "dtype: float64"
      ]
     },
     "execution_count": 28,
     "metadata": {},
     "output_type": "execute_result"
    }
   ],
   "source": [
    "# Look at volatilities for the US market and our MFQS strategy\n",
    "Data[['MKTUS','MFQS']].std()"
   ]
  },
  {
   "cell_type": "markdown",
   "metadata": {
    "colab_type": "text",
    "id": "3QEm0Q5xBS4I"
   },
   "source": [
    "Both average return and volatility of `MFQS' are lower than the US market\n",
    "\n",
    "> Is it surprising?\n",
    "\n",
    "> Does it mean that someone that is more risk-averse than the average investor can benefit from investing in MFQS?\n",
    "\n",
    "\n",
    "Looking at cumulative returns:\n",
    "\n"
   ]
  },
  {
   "cell_type": "code",
   "execution_count": 27,
   "metadata": {
    "colab": {
     "base_uri": "https://localhost:8080/",
     "height": 279
    },
    "colab_type": "code",
    "executionInfo": {
     "elapsed": 578,
     "status": "ok",
     "timestamp": 1576895887798,
     "user": {
      "displayName": "yuchi yao",
      "photoUrl": "",
      "userId": "00457884373990713813"
     },
     "user_tz": 300
    },
    "id": "1mkNLVSUBS4J",
    "outputId": "ed89a453-2e55-44c7-fff7-01e0bfd15faf",
    "scrolled": true
   },
   "outputs": [
    {
     "data": {
      "image/png": "[encoded data removed]",
      "text/plain": [
       "<Figure size 432x288 with 1 Axes>"
      ]
     },
     "metadata": {
      "needs_background": "light"
     },
     "output_type": "display_data"
    }
   ],
   "source": [
    "(Data[['MKTUS','MFQS']]+1).cumprod().plot()\n",
    "plt.show()"
   ]
  },
  {
   "cell_type": "markdown",
   "metadata": {
    "colab_type": "text",
    "id": "PxEzGfyuBS4K"
   },
   "source": [
    "Lets look at Sharpe Ratios. \n",
    "\n",
    "> How do we construct it?\n",
    "\n",
    "> How do we annualize?"
   ]
  },
  {
   "cell_type": "code",
   "execution_count": 30,
   "metadata": {
    "colab": {
     "base_uri": "https://localhost:8080/",
     "height": 68
    },
    "colab_type": "code",
    "executionInfo": {
     "elapsed": 386,
     "status": "ok",
     "timestamp": 1576895892648,
     "user": {
      "displayName": "yuchi yao",
      "photoUrl": "",
      "userId": "00457884373990713813"
     },
     "user_tz": 300
    },
    "id": "0jrnzRWUBS4L",
    "outputId": "3c73b969-0cd6-4fd7-c344-944c89ede433"
   },
   "outputs": [
    {
     "data": {
      "text/plain": [
       "MKTUS    0.404668\n",
       "MFQS     0.379282\n",
       "dtype: float64"
      ]
     },
     "execution_count": 30,
     "metadata": {},
     "output_type": "execute_result"
    }
   ],
   "source": [
    "Data[['MKTUS','MFQS']].subtract(Data.RF,axis=0).mean()/Data[['MKTUS','MFQS']].std()*12**0.5"
   ]
  },
  {
   "cell_type": "markdown",
   "metadata": {
    "colab_type": "text",
    "id": "BgzSuZsDBS4N"
   },
   "source": [
    "* Does this mean that MFQS is a bad idea?\n",
    "\n",
    "* What does this mean for a mean-variance investor that can borrow and lend at the risk-free rate and must choose between investing in the risk-free and the market or the risk-free and MFQS?\n",
    "\n",
    "* Is there a degree of risk aversion that would make the investor prefer MFQS over the Market?\n",
    "\n",
    "* What if the investor could invest in all three assets? would he ever invest in MFQS?"
   ]
  }
 ],
 "metadata": {
  "colab": {
   "collapsed_sections": [],
   "name": "Notebook 6.ipynb",
   "provenance": []
  },
  "kernelspec": {
   "display_name": "Python 3",
   "language": "python",
   "name": "python3"
  },
  "language_info": {
   "codemirror_mode": {
    "name": "ipython",
    "version": 3
   },
   "file_extension": ".py",
   "mimetype": "text/x-python",
   "name": "python",
   "nbconvert_exporter": "python",
   "pygments_lexer": "ipython3",
   "version": "3.8.5"
  }
 },
 "nbformat": 4,
 "nbformat_minor": 4
}
