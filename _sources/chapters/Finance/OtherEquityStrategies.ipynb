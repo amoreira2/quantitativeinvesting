{
 "cells": [
  {
   "cell_type": "markdown",
   "id": "automated-conspiracy",
   "metadata": {},
   "source": [
    "# Other Cross-sectional equity stratgies\n",
    "\n",
    "\n",
    "\n"
   ]
  },
  {
   "cell_type": "markdown",
   "id": "mexican-playback",
   "metadata": {},
   "source": [
    "**Gross Profitability**"
   ]
  },
  {
   "cell_type": "markdown",
   "id": "invalid-rendering",
   "metadata": {},
   "source": [
    "**Post-earnings announcement drift (PEAD) portfolios**"
   ]
  },
  {
   "cell_type": "markdown",
   "id": "alpine-arkansas",
   "metadata": {},
   "source": [
    "**INSTITUTIONAL OWNERSHIP BREADTH**"
   ]
  },
  {
   "cell_type": "markdown",
   "id": "correct-tradition",
   "metadata": {},
   "source": [
    "**Comprehensive list of Trading signals**\n",
    "\n",
    "The list of trading strategies below come from [Kozak (2020) \"Kernel Trick for the Cross-Section\"](https://papers.ssrn.com/sol3/papers.cfm?abstract_id=3307895)\n",
    "\n",
    "Each describe how to consturct the strategy signal which then can be transformed in a tradign strategy by sorting methodology discussed in Chapter 14.\n",
    "\n",
    "\n",
    "![image.png](../../assets/plots/othertradingstrategies1.jpg)\n",
    "![image.png](../../assets/plots/othertradingstrategies2.jpg)\n",
    "![image.png](../../assets/plots/othertradingstrategies3.jpg)\n",
    "![image.png](../../assets/plots/othertradingstrategies4.jpg)\n",
    "![image.png](../../assets/plots/othertradingstrategies5.jpg)\n",
    "![image.png](../../assets/plots/othertradingstrategies6.jpg)\n",
    "\n",
    "This below add additional detail on the timing of the accouting variables\n",
    "\n",
    "![image.png](../../assets/plots/othertradingstrategies7.jpg)"
   ]
  },
  {
   "cell_type": "markdown",
   "id": "collected-intervention",
   "metadata": {},
   "source": []
  }
 ],
 "metadata": {
  "kernelspec": {
   "display_name": "Python 3",
   "language": "python",
   "name": "python3"
  },
  "language_info": {
   "codemirror_mode": {
    "name": "ipython",
    "version": 3
   },
   "file_extension": ".py",
   "mimetype": "text/x-python",
   "name": "python",
   "nbconvert_exporter": "python",
   "pygments_lexer": "ipython3",
   "version": "3.8.5"
  }
 },
 "nbformat": 4,
 "nbformat_minor": 5
}
