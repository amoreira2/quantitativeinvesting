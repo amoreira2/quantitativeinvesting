{
 "cells": [
  {
   "cell_type": "markdown",
   "metadata": {
    "colab_type": "text",
    "id": "MknDBv4dBS33"
   },
   "source": [
    "<img src='https://www.dropbox.com/s/125k1wnxkl6bgs0/class_logo.jpg?dl=1' alt=\"Smiley face\" align=\"center\" style=\"width: 600px;\"/>\n",
    "\n",
    "# Notebook 6 A\n",
    "\n",
    "\n",
    "\n"
   ]
  },
  {
   "cell_type": "markdown",
   "metadata": {
    "colab_type": "text",
    "id": "4kkHYfeJBS34"
   },
   "source": [
    "### Topics covered\n",
    "* * *\n",
    " * What is a valid trading strategy?\n",
    " * Quantitative trading strategies\n",
    " * Constructing a trading strategy\n",
    "     * Signals->weights-> strategy returns\n",
    " * Timing Strategies\n",
    "    * Continuation\n",
    "    * Volatility timing\n"
   ]
  },
  {
   "cell_type": "markdown",
   "metadata": {
    "colab_type": "text",
    "id": "O0JS4EMlBS35"
   },
   "source": [
    "# What is a valid trading strategy?\n",
    "\n",
    "* A trading strategy is a procedure that maps any information known up to time t, into a set of trading instructions for time  $T>t$.\n",
    "\n",
    "* The weights of a trading strategy must either:\n",
    "   * Add up to 1. So it describes what you do with your entire capital.\n",
    "   * Or add up to 0. So the strategy is self-financing. For example, borrow 1 dollar at the risk-free rate and buy 1 dollar worth of the market portfolio\n",
    "   * Every time you trade on the excess returns, you can think of the weights \"adding up to zero\"\n",
    "\n",
    "* It is very important that the trading strategy only uses information that is known at the time of the trade, otherwise it is not a valid trading strategy-- you obviously cannot trade on info that you don't know\n",
    "\n",
    "* It is very important that you are clear about where the dollars that you invest come from, so that the weights can add up to 1 (if you have some capital) or zero (if the strategy is self-financed and demand zero capital).\n",
    "\n",
    "  * In practice all strategies demand capital as no bank allow us to borrow without putting some capital in, but these self financed strategies are quite convenient to work with as they are all in the \"Excess Return Space\" since they have zero cost. \n",
    "  \n",
    "  * If you don't know what I am talking about, go back to notebook 3, 4 and 5.\n",
    "\n",
    "* Example of a VALID trading strategy: Every monday buy stocks that had positive news coverage during the weekend and sell stocks that had negative news coverage.\n",
    "  * This is valid because you are trading after the information is known.\n",
    "\n",
    "* Example of INVALID trading strategy: On Friday buy all the stocks that will have positive news coverage during the weekend, and sell all the stocks that will have negative coverage during the weekend.\n",
    "\n",
    "   * This is Invalid because you are trading before the information is known.\n",
    "   \n",
    "* This might sound ridicoulous. Obviously you can not trade on the information that is not known at the time of the trade!\n",
    "\n",
    "* But note that we will be \"simulating\" the trading process using HISTORICAL data, so we can easily get confused and use \"future\" information in the strategy construction process.\n",
    "\n"
   ]
  },
  {
   "cell_type": "markdown",
   "metadata": {
    "colab_type": "text",
    "id": "XjWiisGsU9ka"
   },
   "source": [
    "\n",
    "# Quantitative trading strategies\n",
    "\n",
    "* In this class we will focus on quantitative trading strategies. \n",
    "\n",
    "* Stragies that get some hard data about one or multiple assets and transform this data \"mechanically\"  into  portfolio weights\n",
    "\n",
    "* So given data $X_{t}$, a quatitative trading strategy is a function that maps data into weights $W_{t+1}=f(X_t)$\n",
    "\n",
    "* Example of \"Market Timing\" 1: Betting on the \"market momentum\"\n",
    "  * If months t, t-1 and t-2 the market had postive returns in each of the months, then buy 1 dollar at the closing price of month t and sell and the closing price of month t+1\n",
    "  \n",
    "  * Otherwise invest in the risk-free asset\n",
    "\n",
    "* Example of \"Market Timing\" 2: Volatility timing\n",
    "  * Using daily data for month t, construct the market return \"realized variance\" during month t\n",
    "   \n",
    "   $$RV_t=\\sum_{d \\in days~ in ~month ~t}\\frac{(R_d- \\overline{R})^2}{N_{days}},$$\n",
    "   \n",
    "      where $\\overline{R}$ is the average return within the month\n",
    "   \n",
    "  * Buy stocks at the closing price of month t accoding to the rule:\n",
    "   \n",
    "   $$W_t=\\frac{c}{RV_t},$$\n",
    "   \n",
    "      where $c$ is some constant.\n",
    "   \n",
    "  * Hold for a month\n",
    "   \n",
    "*    Example of \"cross-sectional\" strategy 1: Betting on the short-term reversal across industries\n",
    "       \n",
    "  * Sort portfolios of industries by their close to close returns in month t.\n",
    "    \n",
    "  * Buy the botton  10% , short the top 10% \n",
    "    \n",
    "  * Hold for a month\n",
    "\n",
    "   \n",
    "*    Example of \"cross-sectional\" strategy 2: Betting on the volatility across stocks\n",
    "       \n",
    "       * Construct stock realized variance in the last 24 months\n",
    "       \n",
    "       * Sort stocks by realized variance\n",
    "       \n",
    "       * Buy the bottom 10%, short the top 10%\n",
    "       \n",
    "       * Hold for a month\n",
    "\n",
    "\n",
    ">All these strategies map past data into a trading rule\n",
    "  * This allows us to backtest the strategy and see how it would have performed in a variety of investment conditions\n",
    "  * This ability to look back is the essential feature of quantitative investing\n",
    "\n"
   ]
  },
  {
   "cell_type": "markdown",
   "metadata": {
    "colab_type": "text",
    "id": "0C1UVSTMBS36"
   },
   "source": [
    "## Market Timing: Betting on continuation\n",
    "\n"
   ]
  },
  {
   "cell_type": "markdown",
   "metadata": {
    "colab_type": "text",
    "id": "ylEpLw1caTVg"
   },
   "source": [
    "### Construct our first trading strategy"
   ]
  },
  {
   "cell_type": "code",
   "execution_count": 19,
   "metadata": {
    "colab": {},
    "colab_type": "code",
    "id": "inDLCjGtBS36"
   },
   "outputs": [],
   "source": [
    "# start by loading data on the returns of the market portfolio and the risk-free rate\n",
    "import pandas as pd\n",
    "import numpy as np\n",
    "import matplotlib.pyplot as plt\n",
    "%matplotlib inline"
   ]
  },
  {
   "cell_type": "code",
   "execution_count": 20,
   "metadata": {
    "colab": {
     "base_uri": "https://localhost:8080/",
     "height": 235
    },
    "colab_type": "code",
    "executionInfo": {
     "elapsed": 1259,
     "status": "ok",
     "timestamp": 1576895864462,
     "user": {
      "displayName": "yuchi yao",
      "photoUrl": "",
      "userId": "00457884373990713813"
     },
     "user_tz": 300
    },
    "id": "kwYh9fuVBS39",
    "outputId": "23740d1c-7d41-496a-cd06-17da6187c9d9",
    "scrolled": true
   },
   "outputs": [
    {
     "data": {
      "text/html": [
       "<div>\n",
       "<style scoped>\n",
       "    .dataframe tbody tr th:only-of-type {\n",
       "        vertical-align: middle;\n",
       "    }\n",
       "\n",
       "    .dataframe tbody tr th {\n",
       "        vertical-align: top;\n",
       "    }\n",
       "\n",
       "    .dataframe thead th {\n",
       "        text-align: right;\n",
       "    }\n",
       "</style>\n",
       "<table border=\"1\" class=\"dataframe\">\n",
       "  <thead>\n",
       "    <tr style=\"text-align: right;\">\n",
       "      <th></th>\n",
       "      <th>RF</th>\n",
       "      <th>MKTUS</th>\n",
       "    </tr>\n",
       "    <tr>\n",
       "      <th>Date</th>\n",
       "      <th></th>\n",
       "      <th></th>\n",
       "    </tr>\n",
       "  </thead>\n",
       "  <tbody>\n",
       "    <tr>\n",
       "      <th>1963-02-28</th>\n",
       "      <td>0.0023</td>\n",
       "      <td>-0.0215</td>\n",
       "    </tr>\n",
       "    <tr>\n",
       "      <th>1963-03-31</th>\n",
       "      <td>0.0023</td>\n",
       "      <td>0.0331</td>\n",
       "    </tr>\n",
       "    <tr>\n",
       "      <th>1963-04-30</th>\n",
       "      <td>0.0025</td>\n",
       "      <td>0.0476</td>\n",
       "    </tr>\n",
       "    <tr>\n",
       "      <th>1963-05-31</th>\n",
       "      <td>0.0024</td>\n",
       "      <td>0.0200</td>\n",
       "    </tr>\n",
       "    <tr>\n",
       "      <th>1963-06-30</th>\n",
       "      <td>0.0023</td>\n",
       "      <td>-0.0177</td>\n",
       "    </tr>\n",
       "  </tbody>\n",
       "</table>\n",
       "</div>"
      ],
      "text/plain": [
       "                RF   MKTUS\n",
       "Date                      \n",
       "1963-02-28  0.0023 -0.0215\n",
       "1963-03-31  0.0023  0.0331\n",
       "1963-04-30  0.0025  0.0476\n",
       "1963-05-31  0.0024  0.0200\n",
       "1963-06-30  0.0023 -0.0177"
      ]
     },
     "execution_count": 20,
     "metadata": {},
     "output_type": "execute_result"
    }
   ],
   "source": [
    "\n",
    "#GlobalFinMonthly\n",
    "url=\"https://www.dropbox.com/s/3k35mt3t57ygff2/GlobalFinMonthly.csv?dl=1\"\n",
    "Data = pd.read_csv(url,na_values=-99)\n",
    "# tell python Date is date:\n",
    "Data['Date']=pd.to_datetime(Data['Date'])\n",
    "# set an an index\n",
    "Data=Data.set_index(['Date'])\n",
    "Data=Data.rename(columns={Data.columns[1]: \"MKTUS\",Data.columns[2]: \"BondUS\",\n",
    "                          Data.columns[3]: \"EM\",Data.columns[4]: \"MKTxUS\",Data.columns[5]: \"BondxUS\" })\n",
    "Data=Data[['RF','MKTUS']]\n",
    "Data.head()"
   ]
  },
  {
   "cell_type": "markdown",
   "metadata": {
    "colab_type": "text",
    "id": "6DFiP-J2BS3_"
   },
   "source": [
    "We start by constructing  the timing strategy 1: Buy if market went up for three consecutive months"
   ]
  },
  {
   "cell_type": "code",
   "execution_count": 22,
   "metadata": {
    "colab": {
     "base_uri": "https://localhost:8080/",
     "height": 221
    },
    "colab_type": "code",
    "executionInfo": {
     "elapsed": 387,
     "status": "ok",
     "timestamp": 1576895867047,
     "user": {
      "displayName": "yuchi yao",
      "photoUrl": "",
      "userId": "00457884373990713813"
     },
     "user_tz": 300
    },
    "id": "zHxXT5P1Xiqp",
    "outputId": "5ffc8538-48af-4ea1-f5be-d4496c52c410"
   },
   "outputs": [
    {
     "data": {
      "text/plain": [
       "Date\n",
       "2016-03-31    0.0698\n",
       "2016-04-30    0.0093\n",
       "2016-05-31    0.0179\n",
       "2016-06-30   -0.0003\n",
       "2016-07-31    0.0397\n",
       "2016-08-31    0.0052\n",
       "2016-09-30    0.0027\n",
       "2016-10-31   -0.0200\n",
       "2016-11-30    0.0487\n",
       "2016-12-31    0.0185\n",
       "Name: MKTUS, dtype: float64"
      ]
     },
     "execution_count": 22,
     "metadata": {},
     "output_type": "execute_result"
    }
   ],
   "source": [
    "Data.MKTUS.tail(10)"
   ]
  },
  {
   "cell_type": "code",
   "execution_count": 24,
   "metadata": {
    "colab": {
     "base_uri": "https://localhost:8080/",
     "height": 221
    },
    "colab_type": "code",
    "executionInfo": {
     "elapsed": 358,
     "status": "ok",
     "timestamp": 1576895869030,
     "user": {
      "displayName": "yuchi yao",
      "photoUrl": "",
      "userId": "00457884373990713813"
     },
     "user_tz": 300
    },
    "id": "9NHzVOwrXsH7",
    "outputId": "e36fa8aa-1dc2-478b-cc73-8ac726d1bc73"
   },
   "outputs": [
    {
     "data": {
      "text/plain": [
       "Date\n",
       "2016-03-31   -0.0005\n",
       "2016-04-30    0.0698\n",
       "2016-05-31    0.0093\n",
       "2016-06-30    0.0179\n",
       "2016-07-31   -0.0003\n",
       "2016-08-31    0.0397\n",
       "2016-09-30    0.0052\n",
       "2016-10-31    0.0027\n",
       "2016-11-30   -0.0200\n",
       "2016-12-31    0.0487\n",
       "Name: MKTUS, dtype: float64"
      ]
     },
     "execution_count": 24,
     "metadata": {},
     "output_type": "execute_result"
    }
   ],
   "source": [
    "# We use .shift(1) to lag the data by 1 period\n",
    "Data.MKTUS.shift(1).tail(10)"
   ]
  },
  {
   "cell_type": "code",
   "execution_count": 25,
   "metadata": {
    "colab": {
     "base_uri": "https://localhost:8080/",
     "height": 390
    },
    "colab_type": "code",
    "executionInfo": {
     "elapsed": 376,
     "status": "ok",
     "timestamp": 1576895872095,
     "user": {
      "displayName": "yuchi yao",
      "photoUrl": "",
      "userId": "00457884373990713813"
     },
     "user_tz": 300
    },
    "id": "po-w-I9TBS4A",
    "outputId": "216d4a6f-3904-4d18-ba00-c8e0af02d94a"
   },
   "outputs": [
    {
     "data": {
      "text/html": [
       "<div>\n",
       "<style scoped>\n",
       "    .dataframe tbody tr th:only-of-type {\n",
       "        vertical-align: middle;\n",
       "    }\n",
       "\n",
       "    .dataframe tbody tr th {\n",
       "        vertical-align: top;\n",
       "    }\n",
       "\n",
       "    .dataframe thead th {\n",
       "        text-align: right;\n",
       "    }\n",
       "</style>\n",
       "<table border=\"1\" class=\"dataframe\">\n",
       "  <thead>\n",
       "    <tr style=\"text-align: right;\">\n",
       "      <th></th>\n",
       "      <th>RF</th>\n",
       "      <th>MKTUS</th>\n",
       "      <th>Wmkt</th>\n",
       "      <th>Wrf</th>\n",
       "    </tr>\n",
       "    <tr>\n",
       "      <th>Date</th>\n",
       "      <th></th>\n",
       "      <th></th>\n",
       "      <th></th>\n",
       "      <th></th>\n",
       "    </tr>\n",
       "  </thead>\n",
       "  <tbody>\n",
       "    <tr>\n",
       "      <th>1963-02-28</th>\n",
       "      <td>0.0023</td>\n",
       "      <td>-0.0215</td>\n",
       "      <td>0</td>\n",
       "      <td>1</td>\n",
       "    </tr>\n",
       "    <tr>\n",
       "      <th>1963-03-31</th>\n",
       "      <td>0.0023</td>\n",
       "      <td>0.0331</td>\n",
       "      <td>0</td>\n",
       "      <td>1</td>\n",
       "    </tr>\n",
       "    <tr>\n",
       "      <th>1963-04-30</th>\n",
       "      <td>0.0025</td>\n",
       "      <td>0.0476</td>\n",
       "      <td>0</td>\n",
       "      <td>1</td>\n",
       "    </tr>\n",
       "    <tr>\n",
       "      <th>1963-05-31</th>\n",
       "      <td>0.0024</td>\n",
       "      <td>0.0200</td>\n",
       "      <td>0</td>\n",
       "      <td>1</td>\n",
       "    </tr>\n",
       "    <tr>\n",
       "      <th>1963-06-30</th>\n",
       "      <td>0.0023</td>\n",
       "      <td>-0.0177</td>\n",
       "      <td>1</td>\n",
       "      <td>0</td>\n",
       "    </tr>\n",
       "    <tr>\n",
       "      <th>1963-07-31</th>\n",
       "      <td>0.0027</td>\n",
       "      <td>-0.0012</td>\n",
       "      <td>0</td>\n",
       "      <td>1</td>\n",
       "    </tr>\n",
       "    <tr>\n",
       "      <th>1963-08-31</th>\n",
       "      <td>0.0025</td>\n",
       "      <td>0.0532</td>\n",
       "      <td>0</td>\n",
       "      <td>1</td>\n",
       "    </tr>\n",
       "    <tr>\n",
       "      <th>1963-09-30</th>\n",
       "      <td>0.0027</td>\n",
       "      <td>-0.0130</td>\n",
       "      <td>0</td>\n",
       "      <td>1</td>\n",
       "    </tr>\n",
       "    <tr>\n",
       "      <th>1963-10-31</th>\n",
       "      <td>0.0029</td>\n",
       "      <td>0.0282</td>\n",
       "      <td>0</td>\n",
       "      <td>1</td>\n",
       "    </tr>\n",
       "    <tr>\n",
       "      <th>1963-11-30</th>\n",
       "      <td>0.0027</td>\n",
       "      <td>-0.0058</td>\n",
       "      <td>0</td>\n",
       "      <td>1</td>\n",
       "    </tr>\n",
       "  </tbody>\n",
       "</table>\n",
       "</div>"
      ],
      "text/plain": [
       "                RF   MKTUS  Wmkt  Wrf\n",
       "Date                                 \n",
       "1963-02-28  0.0023 -0.0215     0    1\n",
       "1963-03-31  0.0023  0.0331     0    1\n",
       "1963-04-30  0.0025  0.0476     0    1\n",
       "1963-05-31  0.0024  0.0200     0    1\n",
       "1963-06-30  0.0023 -0.0177     1    0\n",
       "1963-07-31  0.0027 -0.0012     0    1\n",
       "1963-08-31  0.0025  0.0532     0    1\n",
       "1963-09-30  0.0027 -0.0130     0    1\n",
       "1963-10-31  0.0029  0.0282     0    1\n",
       "1963-11-30  0.0027 -0.0058     0    1"
      ]
     },
     "execution_count": 25,
     "metadata": {},
     "output_type": "execute_result"
    }
   ],
   "source": [
    "Data['Wmkt']=1*((Data.MKTUS.shift(1)>0) & (Data.MKTUS.shift(2)>0) & (Data.MKTUS.shift(3)>0))\n",
    "Data['Wrf']=1-Data.Wmkt\n",
    "Data.head(10)"
   ]
  },
  {
   "cell_type": "markdown",
   "metadata": {
    "colab_type": "text",
    "id": "aU6FLbMEBS4C"
   },
   "source": [
    "* So this is our first quant strategy.\n",
    "\n",
    "  * It gets data on returns and transforms into a portfolio \n",
    "\n",
    "  * Importantly, the weight that you have one the market at date t, only depends on data that is know before date t\n",
    "\n",
    "  * So this is a valid trading strategy\n",
    "\n",
    "* Is it a good one? "
   ]
  },
  {
   "cell_type": "markdown",
   "metadata": {
    "colab_type": "text",
    "id": "oE46YtK8aaqM"
   },
   "source": [
    "### Evaluate our first quant strategy"
   ]
  },
  {
   "cell_type": "markdown",
   "metadata": {
    "colab_type": "text",
    "id": "IWdTnbS2BS4C"
   },
   "source": [
    "First step is to look at it's realized returns:\n",
    "\n",
    "* We will name it $\\textbf{MFQS}$ (My First Quant Strategy)"
   ]
  },
  {
   "cell_type": "code",
   "execution_count": 26,
   "metadata": {
    "colab": {
     "base_uri": "https://localhost:8080/",
     "height": 279
    },
    "colab_type": "code",
    "executionInfo": {
     "elapsed": 605,
     "status": "ok",
     "timestamp": 1576895877132,
     "user": {
      "displayName": "yuchi yao",
      "photoUrl": "",
      "userId": "00457884373990713813"
     },
     "user_tz": 300
    },
    "id": "vTjoUEmiBS4D",
    "outputId": "d289d38c-8d50-4dab-80ed-6bf07042c9c2"
   },
   "outputs": [
    {
     "data": {
      "image/png": "[encoded data removed]",
      "text/plain": [
       "<Figure size 432x288 with 1 Axes>"
      ]
     },
     "metadata": {
      "needs_background": "light"
     },
     "output_type": "display_data"
    }
   ],
   "source": [
    "# Plot the average return of MFQS in time series\n",
    "Data['MFQS']=Data.RF*Data.Wrf+Data.MKTUS*Data.Wmkt\n",
    "Data.MFQS.plot()\n",
    "plt.show()"
   ]
  },
  {
   "cell_type": "markdown",
   "metadata": {
    "colab_type": "text",
    "id": "GW5i6BcABS4F"
   },
   "source": [
    "* Why sometimes the strategy is totally flat?\n",
    "\n",
    "* how does it compare with the market?"
   ]
  },
  {
   "cell_type": "code",
   "execution_count": 29,
   "metadata": {
    "colab": {
     "base_uri": "https://localhost:8080/",
     "height": 68
    },
    "colab_type": "code",
    "executionInfo": {
     "elapsed": 388,
     "status": "ok",
     "timestamp": 1576895881094,
     "user": {
      "displayName": "yuchi yao",
      "photoUrl": "",
      "userId": "00457884373990713813"
     },
     "user_tz": 300
    },
    "id": "gar4daDGBS4F",
    "outputId": "b86f7c3a-ce2e-4997-d0f2-fde37f607b59"
   },
   "outputs": [
    {
     "data": {
      "text/plain": [
       "MKTUS    0.009052\n",
       "MFQS     0.005750\n",
       "dtype: float64"
      ]
     },
     "execution_count": 29,
     "metadata": {},
     "output_type": "execute_result"
    }
   ],
   "source": [
    "# Look at average returns for the US market and our MFQS strategy\n",
    "Data[['MKTUS','MFQS']].mean()\n"
   ]
  },
  {
   "cell_type": "code",
   "execution_count": 28,
   "metadata": {
    "colab": {
     "base_uri": "https://localhost:8080/",
     "height": 68
    },
    "colab_type": "code",
    "executionInfo": {
     "elapsed": 486,
     "status": "ok",
     "timestamp": 1576895883110,
     "user": {
      "displayName": "yuchi yao",
      "photoUrl": "",
      "userId": "00457884373990713813"
     },
     "user_tz": 300
    },
    "id": "IAIAkivZBS4H",
    "outputId": "cf774deb-12f0-4ed3-ab19-be7f3a204aa0"
   },
   "outputs": [
    {
     "data": {
      "text/plain": [
       "MKTUS    0.044003\n",
       "MFQS     0.016796\n",
       "dtype: float64"
      ]
     },
     "execution_count": 28,
     "metadata": {},
     "output_type": "execute_result"
    }
   ],
   "source": [
    "# Look at volatilities for the US market and our MFQS strategy\n",
    "Data[['MKTUS','MFQS']].std()"
   ]
  },
  {
   "cell_type": "markdown",
   "metadata": {
    "colab_type": "text",
    "id": "3QEm0Q5xBS4I"
   },
   "source": [
    "Both average return and volatility of `MFQS' are lower than the US market\n",
    "\n",
    "> Is it surprising?\n",
    "\n",
    "> Does it mean that someone that is more risk-averse than the average investor can benefit from investing in MFQS?\n",
    "\n",
    "\n",
    "Looking at cumulative returns:\n",
    "\n"
   ]
  },
  {
   "cell_type": "code",
   "execution_count": 27,
   "metadata": {
    "colab": {
     "base_uri": "https://localhost:8080/",
     "height": 279
    },
    "colab_type": "code",
    "executionInfo": {
     "elapsed": 578,
     "status": "ok",
     "timestamp": 1576895887798,
     "user": {
      "displayName": "yuchi yao",
      "photoUrl": "",
      "userId": "00457884373990713813"
     },
     "user_tz": 300
    },
    "id": "1mkNLVSUBS4J",
    "outputId": "ed89a453-2e55-44c7-fff7-01e0bfd15faf",
    "scrolled": true
   },
   "outputs": [
    {
     "data": {
      "image/png": "[encoded data removed]",
      "text/plain": [
       "<Figure size 432x288 with 1 Axes>"
      ]
     },
     "metadata": {
      "needs_background": "light"
     },
     "output_type": "display_data"
    }
   ],
   "source": [
    "(Data[['MKTUS','MFQS']]+1).cumprod().plot()\n",
    "plt.show()"
   ]
  },
  {
   "cell_type": "markdown",
   "metadata": {
    "colab_type": "text",
    "id": "PxEzGfyuBS4K"
   },
   "source": [
    "Lets look at Sharpe Ratios. \n",
    "\n",
    "> How do we construct it?\n",
    "\n",
    "> How do we annualize?"
   ]
  },
  {
   "cell_type": "code",
   "execution_count": 30,
   "metadata": {
    "colab": {
     "base_uri": "https://localhost:8080/",
     "height": 68
    },
    "colab_type": "code",
    "executionInfo": {
     "elapsed": 386,
     "status": "ok",
     "timestamp": 1576895892648,
     "user": {
      "displayName": "yuchi yao",
      "photoUrl": "",
      "userId": "00457884373990713813"
     },
     "user_tz": 300
    },
    "id": "0jrnzRWUBS4L",
    "outputId": "3c73b969-0cd6-4fd7-c344-944c89ede433"
   },
   "outputs": [
    {
     "data": {
      "text/plain": [
       "MKTUS    0.404668\n",
       "MFQS     0.379282\n",
       "dtype: float64"
      ]
     },
     "execution_count": 30,
     "metadata": {},
     "output_type": "execute_result"
    }
   ],
   "source": [
    "Data[['MKTUS','MFQS']].subtract(Data.RF,axis=0).mean()/Data[['MKTUS','MFQS']].std()*12**0.5"
   ]
  },
  {
   "cell_type": "markdown",
   "metadata": {
    "colab_type": "text",
    "id": "BgzSuZsDBS4N"
   },
   "source": [
    "* Does this mean that MFQS is a bad idea?\n",
    "\n",
    "* What does this mean for a mean-variance investor that can borrow and lend at the risk-free rate and must choose between investing in the risk-free and the market or the risk-free and MFQS?\n",
    "\n",
    "* Is there a degree of risk aversion that would make the investor prefer MFQS over the Market?\n",
    "\n",
    "* What if the investor could invest in all three assets? would he ever invest in MFQS?"
   ]
  },
  {
   "cell_type": "markdown",
   "metadata": {
    "colab_type": "text",
    "id": "YnQret7OBS4N"
   },
   "source": [
    "## Volatility timing: A more sophisitcated timing strategy\n",
    "\n",
    "\n",
    "* You guys learned in 411 that a mean-variance investor invests in the risky asset proportionally to the risk-return trade-off\n",
    "\n",
    "$$W_t=\\frac{\\mu_t}{\\gamma \\sigma_t^2}$$\n",
    "\n",
    "* Measuring variation in $\\mu_t$, the expected excess return on the market is really hard \n",
    "\n",
    "   * There are theoretically motivated ways to do it, which we will discuss later, but they are not great empirically\n",
    "\n",
    "* But measuring variaiton in volatility is much easier because volatility periods tend to cluster together\n",
    "\n",
    "* Lets download daily stock market data to show this visually"
   ]
  },
  {
   "cell_type": "markdown",
   "metadata": {
    "colab_type": "text",
    "id": "ZHXuT4U2j6ck"
   },
   "source": [
    "### Download data from WRDS"
   ]
  },
  {
   "cell_type": "markdown",
   "metadata": {
    "colab_type": "text",
    "id": "Su_OLSpEBS4O"
   },
   "source": [
    "* We can download data directly from the WRDS (Wharton Reseach Data Services ) server\n",
    "\n",
    "* If you want you can get a login to get acess to it as well. All you need is to follow the steps\n",
    "\n",
    "https://wrds-web.wharton.upenn.edu/wrds/?register=1\n",
    "\n",
    "* Anyone doing serious quant work needs a way to get a lot of data quickly. \n",
    "\n",
    "* WRDS has plenty of the basic data sources"
   ]
  },
  {
   "cell_type": "code",
   "execution_count": null,
   "metadata": {
    "colab": {
     "base_uri": "https://localhost:8080/",
     "height": 187
    },
    "colab_type": "code",
    "executionInfo": {
     "elapsed": 5553,
     "status": "ok",
     "timestamp": 1576882729248,
     "user": {
      "displayName": "yuchi yao",
      "photoUrl": "",
      "userId": "00457884373990713813"
     },
     "user_tz": 300
    },
    "id": "sVpUU_-XhmID",
    "outputId": "d91fab29-1cf1-4d57-d26a-81f1a7b89cdb"
   },
   "outputs": [],
   "source": [
    "# install packages\n",
    "!pip install wrds\n",
    "!pip install psycopg2"
   ]
  },
  {
   "cell_type": "code",
   "execution_count": 32,
   "metadata": {
    "colab": {
     "base_uri": "https://localhost:8080/",
     "height": 306
    },
    "colab_type": "code",
    "executionInfo": {
     "elapsed": 13647,
     "status": "ok",
     "timestamp": 1576895946064,
     "user": {
      "displayName": "yuchi yao",
      "photoUrl": "",
      "userId": "00457884373990713813"
     },
     "user_tz": 300
    },
    "id": "ozJ4z8DsBS4O",
    "outputId": "dbc07f2e-9f89-4b65-b454-091880e139c2"
   },
   "outputs": [
    {
     "name": "stdout",
     "output_type": "stream",
     "text": [
      "Enter your WRDS username [Alan Moreira]:moreira5\n",
      "Enter your password:········\n",
      "WRDS recommends setting up a .pgpass file.\n",
      "You can find more info here:\n",
      "https://www.postgresql.org/docs/9.5/static/libpq-pgpass.html.\n"
     ]
    },
    {
     "name": "stderr",
     "output_type": "stream",
     "text": [
      "Exception during reset or similar\n",
      "Traceback (most recent call last):\n",
      "  File \"C:\\ProgramData\\Anaconda3\\lib\\site-packages\\sqlalchemy\\pool\\base.py\", line 697, in _finalize_fairy\n",
      "    fairy._reset(pool)\n",
      "  File \"C:\\ProgramData\\Anaconda3\\lib\\site-packages\\sqlalchemy\\pool\\base.py\", line 893, in _reset\n",
      "    pool._dialect.do_rollback(self)\n",
      "  File \"C:\\ProgramData\\Anaconda3\\lib\\site-packages\\sqlalchemy\\engine\\default.py\", line 543, in do_rollback\n",
      "    dbapi_connection.rollback()\n",
      "psycopg2.OperationalError: server closed the connection unexpectedly\n",
      "\tThis probably means the server terminated abnormally\n",
      "\tbefore or while processing the request.\n",
      "\n"
     ]
    },
    {
     "name": "stdout",
     "output_type": "stream",
     "text": [
      "Loading library list...\n",
      "Done\n"
     ]
    }
   ],
   "source": [
    "import datetime as dt\n",
    "import wrds\n",
    "import psycopg2 \n",
    "from dateutil.relativedelta import *\n",
    "\n",
    "\n",
    "# connect with their server\n",
    "conn=wrds.Connection()\n",
    "\n",
    "# get the value-weighted market returns and date from the data base crsp.dsi\n",
    "mkt_d = conn.raw_sql(\"\"\"\n",
    "                      select a.date, a.vwretd\n",
    "                      from crsp.dsi as a\n",
    "                      \"\"\") \n",
    "# get the risk-free rate\n",
    "rf_d = conn.raw_sql(\"\"\"\n",
    "                      select a.date, a.rf\n",
    "                      from ff.factors_daily as a\n",
    "                      \"\"\")\n",
    "# save data locally\n",
    "#rf_d.to_csv('E:/Dropbox/Public/Fin418/Data/rf_d.csv')\n",
    "#mkt_d.to_csv('E:/Dropbox/Public/Fin418/Data/mk_d.csv')"
   ]
  },
  {
   "cell_type": "code",
   "execution_count": 31,
   "metadata": {
    "colab": {},
    "colab_type": "code",
    "id": "VWrvD62TBS4Q"
   },
   "outputs": [],
   "source": [
    "# alternatively simply import from dropbox or download from blackboard as usual\n",
    "\n",
    "rf_d=pd.read_csv('https://www.dropbox.com/s/85n50ul6of2fsca/rf_d.csv?dl=1')\n",
    "mk_d=pd.read_csv('https://www.dropbox.com/s/ns191hnic5gpx13/mk_d.csv?dl=1')"
   ]
  },
  {
   "cell_type": "code",
   "execution_count": 33,
   "metadata": {
    "colab": {
     "base_uri": "https://localhost:8080/",
     "height": 204
    },
    "colab_type": "code",
    "executionInfo": {
     "elapsed": 363,
     "status": "ok",
     "timestamp": 1576895951271,
     "user": {
      "displayName": "yuchi yao",
      "photoUrl": "",
      "userId": "00457884373990713813"
     },
     "user_tz": 300
    },
    "id": "uxHAlR-Gitem",
    "outputId": "b8e2bf67-f9f3-4561-aa07-40aca638b91e"
   },
   "outputs": [
    {
     "data": {
      "text/html": [
       "<div>\n",
       "<style scoped>\n",
       "    .dataframe tbody tr th:only-of-type {\n",
       "        vertical-align: middle;\n",
       "    }\n",
       "\n",
       "    .dataframe tbody tr th {\n",
       "        vertical-align: top;\n",
       "    }\n",
       "\n",
       "    .dataframe thead th {\n",
       "        text-align: right;\n",
       "    }\n",
       "</style>\n",
       "<table border=\"1\" class=\"dataframe\">\n",
       "  <thead>\n",
       "    <tr style=\"text-align: right;\">\n",
       "      <th></th>\n",
       "      <th>date</th>\n",
       "      <th>vwretd</th>\n",
       "    </tr>\n",
       "  </thead>\n",
       "  <tbody>\n",
       "    <tr>\n",
       "      <th>24788</th>\n",
       "      <td>2019-12-24</td>\n",
       "      <td>0.000379</td>\n",
       "    </tr>\n",
       "    <tr>\n",
       "      <th>24789</th>\n",
       "      <td>2019-12-26</td>\n",
       "      <td>0.004618</td>\n",
       "    </tr>\n",
       "    <tr>\n",
       "      <th>24790</th>\n",
       "      <td>2019-12-27</td>\n",
       "      <td>-0.000643</td>\n",
       "    </tr>\n",
       "    <tr>\n",
       "      <th>24791</th>\n",
       "      <td>2019-12-30</td>\n",
       "      <td>-0.005108</td>\n",
       "    </tr>\n",
       "    <tr>\n",
       "      <th>24792</th>\n",
       "      <td>2019-12-31</td>\n",
       "      <td>0.002965</td>\n",
       "    </tr>\n",
       "  </tbody>\n",
       "</table>\n",
       "</div>"
      ],
      "text/plain": [
       "             date    vwretd\n",
       "24788  2019-12-24  0.000379\n",
       "24789  2019-12-26  0.004618\n",
       "24790  2019-12-27 -0.000643\n",
       "24791  2019-12-30 -0.005108\n",
       "24792  2019-12-31  0.002965"
      ]
     },
     "execution_count": 33,
     "metadata": {},
     "output_type": "execute_result"
    }
   ],
   "source": [
    "mkt_d.tail()"
   ]
  },
  {
   "cell_type": "code",
   "execution_count": 34,
   "metadata": {
    "colab": {
     "base_uri": "https://localhost:8080/",
     "height": 204
    },
    "colab_type": "code",
    "executionInfo": {
     "elapsed": 491,
     "status": "ok",
     "timestamp": 1576895954899,
     "user": {
      "displayName": "yuchi yao",
      "photoUrl": "",
      "userId": "00457884373990713813"
     },
     "user_tz": 300
    },
    "id": "bGI2-zrgiyP8",
    "outputId": "e7cdab31-d483-42b5-a606-7d6f1c331dae"
   },
   "outputs": [
    {
     "data": {
      "text/html": [
       "<div>\n",
       "<style scoped>\n",
       "    .dataframe tbody tr th:only-of-type {\n",
       "        vertical-align: middle;\n",
       "    }\n",
       "\n",
       "    .dataframe tbody tr th {\n",
       "        vertical-align: top;\n",
       "    }\n",
       "\n",
       "    .dataframe thead th {\n",
       "        text-align: right;\n",
       "    }\n",
       "</style>\n",
       "<table border=\"1\" class=\"dataframe\">\n",
       "  <thead>\n",
       "    <tr style=\"text-align: right;\">\n",
       "      <th></th>\n",
       "      <th>date</th>\n",
       "      <th>rf</th>\n",
       "    </tr>\n",
       "  </thead>\n",
       "  <tbody>\n",
       "    <tr>\n",
       "      <th>24849</th>\n",
       "      <td>2020-10-26</td>\n",
       "      <td>0.0</td>\n",
       "    </tr>\n",
       "    <tr>\n",
       "      <th>24850</th>\n",
       "      <td>2020-10-27</td>\n",
       "      <td>0.0</td>\n",
       "    </tr>\n",
       "    <tr>\n",
       "      <th>24851</th>\n",
       "      <td>2020-10-28</td>\n",
       "      <td>0.0</td>\n",
       "    </tr>\n",
       "    <tr>\n",
       "      <th>24852</th>\n",
       "      <td>2020-10-29</td>\n",
       "      <td>0.0</td>\n",
       "    </tr>\n",
       "    <tr>\n",
       "      <th>24853</th>\n",
       "      <td>2020-10-30</td>\n",
       "      <td>0.0</td>\n",
       "    </tr>\n",
       "  </tbody>\n",
       "</table>\n",
       "</div>"
      ],
      "text/plain": [
       "             date   rf\n",
       "24849  2020-10-26  0.0\n",
       "24850  2020-10-27  0.0\n",
       "24851  2020-10-28  0.0\n",
       "24852  2020-10-29  0.0\n",
       "24853  2020-10-30  0.0"
      ]
     },
     "execution_count": 34,
     "metadata": {},
     "output_type": "execute_result"
    }
   ],
   "source": [
    "rf_d.tail()"
   ]
  },
  {
   "cell_type": "code",
   "execution_count": 35,
   "metadata": {
    "colab": {
     "base_uri": "https://localhost:8080/",
     "height": 235
    },
    "colab_type": "code",
    "executionInfo": {
     "elapsed": 368,
     "status": "ok",
     "timestamp": 1576895956978,
     "user": {
      "displayName": "yuchi yao",
      "photoUrl": "",
      "userId": "00457884373990713813"
     },
     "user_tz": 300
    },
    "id": "RJ4d9jIvBS4S",
    "outputId": "486db9e2-573c-44d9-f385-d377817a287e"
   },
   "outputs": [
    {
     "data": {
      "text/html": [
       "<div>\n",
       "<style scoped>\n",
       "    .dataframe tbody tr th:only-of-type {\n",
       "        vertical-align: middle;\n",
       "    }\n",
       "\n",
       "    .dataframe tbody tr th {\n",
       "        vertical-align: top;\n",
       "    }\n",
       "\n",
       "    .dataframe thead th {\n",
       "        text-align: right;\n",
       "    }\n",
       "</style>\n",
       "<table border=\"1\" class=\"dataframe\">\n",
       "  <thead>\n",
       "    <tr style=\"text-align: right;\">\n",
       "      <th></th>\n",
       "      <th>vwretd</th>\n",
       "      <th>rf</th>\n",
       "    </tr>\n",
       "    <tr>\n",
       "      <th>date</th>\n",
       "      <th></th>\n",
       "      <th></th>\n",
       "    </tr>\n",
       "  </thead>\n",
       "  <tbody>\n",
       "    <tr>\n",
       "      <th>2019-12-24</th>\n",
       "      <td>0.000379</td>\n",
       "      <td>0.00007</td>\n",
       "    </tr>\n",
       "    <tr>\n",
       "      <th>2019-12-26</th>\n",
       "      <td>0.004618</td>\n",
       "      <td>0.00007</td>\n",
       "    </tr>\n",
       "    <tr>\n",
       "      <th>2019-12-27</th>\n",
       "      <td>-0.000643</td>\n",
       "      <td>0.00007</td>\n",
       "    </tr>\n",
       "    <tr>\n",
       "      <th>2019-12-30</th>\n",
       "      <td>-0.005108</td>\n",
       "      <td>0.00007</td>\n",
       "    </tr>\n",
       "    <tr>\n",
       "      <th>2019-12-31</th>\n",
       "      <td>0.002965</td>\n",
       "      <td>0.00007</td>\n",
       "    </tr>\n",
       "  </tbody>\n",
       "</table>\n",
       "</div>"
      ],
      "text/plain": [
       "              vwretd       rf\n",
       "date                         \n",
       "2019-12-24  0.000379  0.00007\n",
       "2019-12-26  0.004618  0.00007\n",
       "2019-12-27 -0.000643  0.00007\n",
       "2019-12-30 -0.005108  0.00007\n",
       "2019-12-31  0.002965  0.00007"
      ]
     },
     "execution_count": 35,
     "metadata": {},
     "output_type": "execute_result"
    }
   ],
   "source": [
    "# this set the index\n",
    "mkt_d=mkt_d.set_index(['date'])\n",
    "\n",
    "mkt_d=mkt_d.set_index(pd.to_datetime(mkt_d.index),'date')\n",
    "\n",
    "rf_d=rf_d.set_index(['date'])\n",
    "\n",
    "rf_d=rf_d.set_index(pd.to_datetime(rf_d.index),'date')\n",
    "\n",
    "# we merge\n",
    "\n",
    "daily=mkt_d.merge(rf_d,how='left',left_index=True,right_index=True)\n",
    "daily.tail()"
   ]
  },
  {
   "cell_type": "markdown",
   "metadata": {
    "colab_type": "text",
    "id": "_8Uci0btBS4T"
   },
   "source": [
    "### We have daily data. How to construct monthly realized variance?"
   ]
  },
  {
   "cell_type": "markdown",
   "metadata": {
    "colab_type": "text",
    "id": "B0v5mFjEj0Ls"
   },
   "source": [
    "\n",
    "You basically use pandas time series function that shifts all dates to the end of the month, so this way you are technically grouping by the end of the month day."
   ]
  },
  {
   "cell_type": "code",
   "execution_count": 39,
   "metadata": {},
   "outputs": [
    {
     "data": {
      "text/plain": [
       "DatetimeIndex(['1925-12-31', '1926-01-02', '1926-01-04', '1926-01-05',\n",
       "               '1926-01-06', '1926-01-07', '1926-01-08', '1926-01-09',\n",
       "               '1926-01-11', '1926-01-12',\n",
       "               ...\n",
       "               '2019-12-17', '2019-12-18', '2019-12-19', '2019-12-20',\n",
       "               '2019-12-23', '2019-12-24', '2019-12-26', '2019-12-27',\n",
       "               '2019-12-30', '2019-12-31'],\n",
       "              dtype='datetime64[ns]', name='date', length=24793, freq=None)"
      ]
     },
     "execution_count": 39,
     "metadata": {},
     "output_type": "execute_result"
    }
   ],
   "source": [
    "daily.index"
   ]
  },
  {
   "cell_type": "code",
   "execution_count": 38,
   "metadata": {},
   "outputs": [
    {
     "data": {
      "text/plain": [
       "DatetimeIndex(['1925-12-31', '1926-01-31', '1926-01-31', '1926-01-31',\n",
       "               '1926-01-31', '1926-01-31', '1926-01-31', '1926-01-31',\n",
       "               '1926-01-31', '1926-01-31',\n",
       "               ...\n",
       "               '2019-12-31', '2019-12-31', '2019-12-31', '2019-12-31',\n",
       "               '2019-12-31', '2019-12-31', '2019-12-31', '2019-12-31',\n",
       "               '2019-12-31', '2019-12-31'],\n",
       "              dtype='datetime64[ns]', name='date', length=24793, freq=None)"
      ]
     },
     "execution_count": 38,
     "metadata": {},
     "output_type": "execute_result"
    }
   ],
   "source": [
    "daily.index+MonthEnd(0)"
   ]
  },
  {
   "cell_type": "code",
   "execution_count": 40,
   "metadata": {
    "colab": {
     "base_uri": "https://localhost:8080/",
     "height": 235
    },
    "colab_type": "code",
    "executionInfo": {
     "elapsed": 325,
     "status": "ok",
     "timestamp": 1576898361587,
     "user": {
      "displayName": "yuchi yao",
      "photoUrl": "",
      "userId": "00457884373990713813"
     },
     "user_tz": 300
    },
    "id": "40eTDr-bmxKd",
    "outputId": "dfb237b5-dfe9-4b01-dc78-253613fd9911"
   },
   "outputs": [
    {
     "data": {
      "text/html": [
       "<div>\n",
       "<style scoped>\n",
       "    .dataframe tbody tr th:only-of-type {\n",
       "        vertical-align: middle;\n",
       "    }\n",
       "\n",
       "    .dataframe tbody tr th {\n",
       "        vertical-align: top;\n",
       "    }\n",
       "\n",
       "    .dataframe thead th {\n",
       "        text-align: right;\n",
       "    }\n",
       "</style>\n",
       "<table border=\"1\" class=\"dataframe\">\n",
       "  <thead>\n",
       "    <tr style=\"text-align: right;\">\n",
       "      <th></th>\n",
       "      <th>RV</th>\n",
       "    </tr>\n",
       "    <tr>\n",
       "      <th>date</th>\n",
       "      <th></th>\n",
       "    </tr>\n",
       "  </thead>\n",
       "  <tbody>\n",
       "    <tr>\n",
       "      <th>2019-08-31</th>\n",
       "      <td>0.000187</td>\n",
       "    </tr>\n",
       "    <tr>\n",
       "      <th>2019-09-30</th>\n",
       "      <td>0.000031</td>\n",
       "    </tr>\n",
       "    <tr>\n",
       "      <th>2019-10-31</th>\n",
       "      <td>0.000061</td>\n",
       "    </tr>\n",
       "    <tr>\n",
       "      <th>2019-11-30</th>\n",
       "      <td>0.000014</td>\n",
       "    </tr>\n",
       "    <tr>\n",
       "      <th>2019-12-31</th>\n",
       "      <td>0.000020</td>\n",
       "    </tr>\n",
       "  </tbody>\n",
       "</table>\n",
       "</div>"
      ],
      "text/plain": [
       "                  RV\n",
       "date                \n",
       "2019-08-31  0.000187\n",
       "2019-09-30  0.000031\n",
       "2019-10-31  0.000061\n",
       "2019-11-30  0.000014\n",
       "2019-12-31  0.000020"
      ]
     },
     "execution_count": 40,
     "metadata": {},
     "output_type": "execute_result"
    }
   ],
   "source": [
    "from pandas.tseries.offsets import MonthEnd\n",
    "\n",
    "# We denote `realized variance` for the market return as `RV`\n",
    "RV=daily[['vwretd']].groupby(daily.index+MonthEnd(0)).var()\n",
    "# rename column to clarify\n",
    "RV=RV.rename(columns={'vwretd':'RV'})\n",
    "RV.tail()"
   ]
  },
  {
   "cell_type": "code",
   "execution_count": 41,
   "metadata": {
    "colab": {
     "base_uri": "https://localhost:8080/",
     "height": 235
    },
    "colab_type": "code",
    "executionInfo": {
     "elapsed": 356,
     "status": "ok",
     "timestamp": 1576898365767,
     "user": {
      "displayName": "yuchi yao",
      "photoUrl": "",
      "userId": "00457884373990713813"
     },
     "user_tz": 300
    },
    "id": "NcXUwm1lVGco",
    "outputId": "7c35f1cc-1a70-472d-a883-bd23c4789dce"
   },
   "outputs": [
    {
     "data": {
      "text/html": [
       "<div>\n",
       "<style scoped>\n",
       "    .dataframe tbody tr th:only-of-type {\n",
       "        vertical-align: middle;\n",
       "    }\n",
       "\n",
       "    .dataframe tbody tr th {\n",
       "        vertical-align: top;\n",
       "    }\n",
       "\n",
       "    .dataframe thead th {\n",
       "        text-align: right;\n",
       "    }\n",
       "</style>\n",
       "<table border=\"1\" class=\"dataframe\">\n",
       "  <thead>\n",
       "    <tr style=\"text-align: right;\">\n",
       "      <th></th>\n",
       "      <th>vwretd</th>\n",
       "    </tr>\n",
       "    <tr>\n",
       "      <th>date</th>\n",
       "      <th></th>\n",
       "    </tr>\n",
       "  </thead>\n",
       "  <tbody>\n",
       "    <tr>\n",
       "      <th>2019-08-31</th>\n",
       "      <td>0.000187</td>\n",
       "    </tr>\n",
       "    <tr>\n",
       "      <th>2019-09-30</th>\n",
       "      <td>0.000031</td>\n",
       "    </tr>\n",
       "    <tr>\n",
       "      <th>2019-10-31</th>\n",
       "      <td>0.000061</td>\n",
       "    </tr>\n",
       "    <tr>\n",
       "      <th>2019-11-30</th>\n",
       "      <td>0.000014</td>\n",
       "    </tr>\n",
       "    <tr>\n",
       "      <th>2019-12-31</th>\n",
       "      <td>0.000020</td>\n",
       "    </tr>\n",
       "  </tbody>\n",
       "</table>\n",
       "</div>"
      ],
      "text/plain": [
       "              vwretd\n",
       "date                \n",
       "2019-08-31  0.000187\n",
       "2019-09-30  0.000031\n",
       "2019-10-31  0.000061\n",
       "2019-11-30  0.000014\n",
       "2019-12-31  0.000020"
      ]
     },
     "execution_count": 41,
     "metadata": {},
     "output_type": "execute_result"
    }
   ],
   "source": [
    "# Another way to groupby month\n",
    "RV1=daily[['vwretd']].groupby(pd.Grouper(freq='M')).var()\n",
    "RV1.tail()"
   ]
  },
  {
   "cell_type": "code",
   "execution_count": 42,
   "metadata": {
    "colab": {
     "base_uri": "https://localhost:8080/",
     "height": 279
    },
    "colab_type": "code",
    "executionInfo": {
     "elapsed": 507,
     "status": "ok",
     "timestamp": 1576898368566,
     "user": {
      "displayName": "yuchi yao",
      "photoUrl": "",
      "userId": "00457884373990713813"
     },
     "user_tz": 300
    },
    "id": "fkQz9VjoBS4X",
    "outputId": "dec0f8ad-b13a-4dcc-dcdd-c84adcb0605a",
    "scrolled": true
   },
   "outputs": [
    {
     "data": {
      "image/png": "[encoded data removed]",
      "text/plain": [
       "<Figure size 432x288 with 1 Axes>"
      ]
     },
     "metadata": {
      "needs_background": "light"
     },
     "output_type": "display_data"
    }
   ],
   "source": [
    "# plot the monthly realized variance\n",
    "RV.plot()\n",
    "plt.show()"
   ]
  },
  {
   "cell_type": "markdown",
   "metadata": {
    "colab_type": "text",
    "id": "19pTbH4wYAGL"
   },
   "source": [
    "### From signal to weights"
   ]
  },
  {
   "cell_type": "markdown",
   "metadata": {
    "colab_type": "text",
    "id": "jLKhAemtBS4b"
   },
   "source": [
    "* We now need to do the trading strategy, motivated by the fact that the realized variance in month t is a good proxy for the expected variance in month t+1 (see plot above!)\n",
    "\n",
    "* So we will form the following strategy:\n",
    "  * weight on the market:\n",
    "  $$W_t=c\\frac{1}{RV_t}=\\frac{\\mu}{\\gamma RV_t}$$\n",
    "  * weight on the risk-free rate: $1-W_t$\n",
    "\n",
    "* $c$ controls how levered is the strategy on average.\n",
    "\n",
    "* As we saw before all timing strategies involved some in and out of the market, but you also need to determine the average position. That is the role of $c$.\n",
    "\n",
    "* For example: \n",
    "   - Lets set $c$ such that the leverage is 4 when the annualized standard deviation is 4% (which is equivalent to a daily variance of $RV=0.04^2/252$)\n",
    "   - leverage is $W_t-1$ (you borrow by shorting the risk-free rate)\n",
    "  $$W_t-1=\\frac{c}{RV_t}-1\\leq 4$$\n",
    "   - So $c= 5 RV_t=5*0.04^2/252$"
   ]
  },
  {
   "cell_type": "code",
   "execution_count": 54,
   "metadata": {
    "colab": {},
    "colab_type": "code",
    "id": "JAaknOzBBS4b"
   },
   "outputs": [
    {
     "data": {
      "text/plain": [
       "3.1746031746031745e-05"
      ]
     },
     "execution_count": 54,
     "metadata": {},
     "output_type": "execute_result"
    }
   ],
   "source": [
    "# calculate weights for the risky assets (market)\n",
    "c=(5*(0.04**2)/252)\n",
    "RV['W']=c/RV.RV\n",
    "c"
   ]
  },
  {
   "cell_type": "code",
   "execution_count": 51,
   "metadata": {
    "colab": {
     "base_uri": "https://localhost:8080/",
     "height": 279
    },
    "colab_type": "code",
    "executionInfo": {
     "elapsed": 538,
     "status": "ok",
     "timestamp": 1576898433430,
     "user": {
      "displayName": "yuchi yao",
      "photoUrl": "",
      "userId": "00457884373990713813"
     },
     "user_tz": 300
    },
    "id": "QwZBMDvxBS4e",
    "outputId": "4afeb028-5006-4101-8de6-462b7f48622b"
   },
   "outputs": [
    {
     "data": {
      "image/png": "[encoded data removed]",
      "text/plain": [
       "<Figure size 432x288 with 1 Axes>"
      ]
     },
     "metadata": {
      "needs_background": "light"
     },
     "output_type": "display_data"
    }
   ],
   "source": [
    "# plot the weights on the risky assets\n",
    "RV.W.plot()\n",
    "plt.show()"
   ]
  },
  {
   "cell_type": "code",
   "execution_count": 45,
   "metadata": {
    "colab": {
     "base_uri": "https://localhost:8080/",
     "height": 279
    },
    "colab_type": "code",
    "executionInfo": {
     "elapsed": 511,
     "status": "ok",
     "timestamp": 1576897662773,
     "user": {
      "displayName": "yuchi yao",
      "photoUrl": "",
      "userId": "00457884373990713813"
     },
     "user_tz": 300
    },
    "id": "INzHNjDrbIjx",
    "outputId": "e29591e5-2c49-431b-a165-24c0a98f2d44"
   },
   "outputs": [
    {
     "data": {
      "image/png": "[encoded data removed]",
      "text/plain": [
       "<Figure size 432x288 with 1 Axes>"
      ]
     },
     "metadata": {
      "needs_background": "light"
     },
     "output_type": "display_data"
    }
   ],
   "source": [
    "# plot the weights on the risk-free rate\n",
    "(1-RV.W).plot()\n",
    "plt.show()"
   ]
  },
  {
   "cell_type": "code",
   "execution_count": 53,
   "metadata": {},
   "outputs": [
    {
     "data": {
      "text/plain": [
       "0.9241556985891785"
      ]
     },
     "execution_count": 53,
     "metadata": {},
     "output_type": "execute_result"
    }
   ],
   "source": [
    "RV.W.mean()"
   ]
  },
  {
   "cell_type": "code",
   "execution_count": 56,
   "metadata": {},
   "outputs": [
    {
     "data": {
      "text/html": [
       "<div>\n",
       "<style scoped>\n",
       "    .dataframe tbody tr th:only-of-type {\n",
       "        vertical-align: middle;\n",
       "    }\n",
       "\n",
       "    .dataframe tbody tr th {\n",
       "        vertical-align: top;\n",
       "    }\n",
       "\n",
       "    .dataframe thead th {\n",
       "        text-align: right;\n",
       "    }\n",
       "</style>\n",
       "<table border=\"1\" class=\"dataframe\">\n",
       "  <thead>\n",
       "    <tr style=\"text-align: right;\">\n",
       "      <th></th>\n",
       "      <th>vwretd</th>\n",
       "      <th>rf</th>\n",
       "    </tr>\n",
       "    <tr>\n",
       "      <th>date</th>\n",
       "      <th></th>\n",
       "      <th></th>\n",
       "    </tr>\n",
       "  </thead>\n",
       "  <tbody>\n",
       "    <tr>\n",
       "      <th>1925-12-31</th>\n",
       "      <td>NaN</td>\n",
       "      <td>NaN</td>\n",
       "    </tr>\n",
       "    <tr>\n",
       "      <th>1926-01-02</th>\n",
       "      <td>0.005689</td>\n",
       "      <td>NaN</td>\n",
       "    </tr>\n",
       "    <tr>\n",
       "      <th>1926-01-04</th>\n",
       "      <td>0.000706</td>\n",
       "      <td>NaN</td>\n",
       "    </tr>\n",
       "    <tr>\n",
       "      <th>1926-01-05</th>\n",
       "      <td>-0.004821</td>\n",
       "      <td>NaN</td>\n",
       "    </tr>\n",
       "    <tr>\n",
       "      <th>1926-01-06</th>\n",
       "      <td>-0.000423</td>\n",
       "      <td>NaN</td>\n",
       "    </tr>\n",
       "    <tr>\n",
       "      <th>...</th>\n",
       "      <td>...</td>\n",
       "      <td>...</td>\n",
       "    </tr>\n",
       "    <tr>\n",
       "      <th>2019-12-24</th>\n",
       "      <td>0.000379</td>\n",
       "      <td>0.00007</td>\n",
       "    </tr>\n",
       "    <tr>\n",
       "      <th>2019-12-26</th>\n",
       "      <td>0.004618</td>\n",
       "      <td>0.00007</td>\n",
       "    </tr>\n",
       "    <tr>\n",
       "      <th>2019-12-27</th>\n",
       "      <td>-0.000643</td>\n",
       "      <td>0.00007</td>\n",
       "    </tr>\n",
       "    <tr>\n",
       "      <th>2019-12-30</th>\n",
       "      <td>-0.005108</td>\n",
       "      <td>0.00007</td>\n",
       "    </tr>\n",
       "    <tr>\n",
       "      <th>2019-12-31</th>\n",
       "      <td>0.002965</td>\n",
       "      <td>0.00007</td>\n",
       "    </tr>\n",
       "  </tbody>\n",
       "</table>\n",
       "<p>24793 rows × 2 columns</p>\n",
       "</div>"
      ],
      "text/plain": [
       "              vwretd       rf\n",
       "date                         \n",
       "1925-12-31       NaN      NaN\n",
       "1926-01-02  0.005689      NaN\n",
       "1926-01-04  0.000706      NaN\n",
       "1926-01-05 -0.004821      NaN\n",
       "1926-01-06 -0.000423      NaN\n",
       "...              ...      ...\n",
       "2019-12-24  0.000379  0.00007\n",
       "2019-12-26  0.004618  0.00007\n",
       "2019-12-27 -0.000643  0.00007\n",
       "2019-12-30 -0.005108  0.00007\n",
       "2019-12-31  0.002965  0.00007\n",
       "\n",
       "[24793 rows x 2 columns]"
      ]
     },
     "execution_count": 56,
     "metadata": {},
     "output_type": "execute_result"
    }
   ],
   "source": [
    "daily"
   ]
  },
  {
   "cell_type": "markdown",
   "metadata": {
    "colab_type": "text",
    "id": "YYjvfvoFbasD"
   },
   "source": [
    "### Construct returns to the trategy"
   ]
  },
  {
   "cell_type": "markdown",
   "metadata": {
    "colab_type": "text",
    "id": "A-6DiAKWBS4g"
   },
   "source": [
    "#### Aggregate daily returns to monthly\n",
    "\n",
    "* Since the strategy will trade monthly, we now need to construct monthly returns\n",
    "\n",
    "* we do that by cumulating daily returns within a month\n"
   ]
  },
  {
   "cell_type": "code",
   "execution_count": 57,
   "metadata": {
    "colab": {
     "base_uri": "https://localhost:8080/",
     "height": 235
    },
    "colab_type": "code",
    "executionInfo": {
     "elapsed": 351,
     "status": "ok",
     "timestamp": 1576898512841,
     "user": {
      "displayName": "yuchi yao",
      "photoUrl": "",
      "userId": "00457884373990713813"
     },
     "user_tz": 300
    },
    "id": "n0tVvjTsBS4h",
    "outputId": "57def30a-72be-4ba1-efaf-cf63ff446021"
   },
   "outputs": [
    {
     "data": {
      "text/html": [
       "<div>\n",
       "<style scoped>\n",
       "    .dataframe tbody tr th:only-of-type {\n",
       "        vertical-align: middle;\n",
       "    }\n",
       "\n",
       "    .dataframe tbody tr th {\n",
       "        vertical-align: top;\n",
       "    }\n",
       "\n",
       "    .dataframe thead th {\n",
       "        text-align: right;\n",
       "    }\n",
       "</style>\n",
       "<table border=\"1\" class=\"dataframe\">\n",
       "  <thead>\n",
       "    <tr style=\"text-align: right;\">\n",
       "      <th></th>\n",
       "      <th>Mkt</th>\n",
       "      <th>Rf</th>\n",
       "    </tr>\n",
       "    <tr>\n",
       "      <th>date</th>\n",
       "      <th></th>\n",
       "      <th></th>\n",
       "    </tr>\n",
       "  </thead>\n",
       "  <tbody>\n",
       "    <tr>\n",
       "      <th>2019-08-31</th>\n",
       "      <td>-0.020256</td>\n",
       "      <td>0.001541</td>\n",
       "    </tr>\n",
       "    <tr>\n",
       "      <th>2019-09-30</th>\n",
       "      <td>0.015960</td>\n",
       "      <td>0.001802</td>\n",
       "    </tr>\n",
       "    <tr>\n",
       "      <th>2019-10-31</th>\n",
       "      <td>0.019249</td>\n",
       "      <td>0.001611</td>\n",
       "    </tr>\n",
       "    <tr>\n",
       "      <th>2019-11-30</th>\n",
       "      <td>0.034953</td>\n",
       "      <td>0.001201</td>\n",
       "    </tr>\n",
       "    <tr>\n",
       "      <th>2019-12-31</th>\n",
       "      <td>0.028492</td>\n",
       "      <td>0.001471</td>\n",
       "    </tr>\n",
       "  </tbody>\n",
       "</table>\n",
       "</div>"
      ],
      "text/plain": [
       "                 Mkt        Rf\n",
       "date                          \n",
       "2019-08-31 -0.020256  0.001541\n",
       "2019-09-30  0.015960  0.001802\n",
       "2019-10-31  0.019249  0.001611\n",
       "2019-11-30  0.034953  0.001201\n",
       "2019-12-31  0.028492  0.001471"
      ]
     },
     "execution_count": 57,
     "metadata": {},
     "output_type": "execute_result"
    }
   ],
   "source": [
    "# aggregate daily returns to monthly returns\n",
    "Ret=(1+daily).groupby(daily.index+MonthEnd(0)).prod()-1\n",
    "# rename columns to clarify\n",
    "Ret=Ret.rename(columns={'vwretd':'Mkt','rf':'Rf'})\n",
    "Ret.tail()"
   ]
  },
  {
   "cell_type": "code",
   "execution_count": 58,
   "metadata": {
    "colab": {
     "base_uri": "https://localhost:8080/",
     "height": 235
    },
    "colab_type": "code",
    "executionInfo": {
     "elapsed": 413,
     "status": "ok",
     "timestamp": 1576898451959,
     "user": {
      "displayName": "yuchi yao",
      "photoUrl": "",
      "userId": "00457884373990713813"
     },
     "user_tz": 300
    },
    "id": "VyJwEMVIcwSF",
    "outputId": "7957fdac-6e64-4a3b-9c4d-47a87e16c406"
   },
   "outputs": [
    {
     "data": {
      "text/html": [
       "<div>\n",
       "<style scoped>\n",
       "    .dataframe tbody tr th:only-of-type {\n",
       "        vertical-align: middle;\n",
       "    }\n",
       "\n",
       "    .dataframe tbody tr th {\n",
       "        vertical-align: top;\n",
       "    }\n",
       "\n",
       "    .dataframe thead th {\n",
       "        text-align: right;\n",
       "    }\n",
       "</style>\n",
       "<table border=\"1\" class=\"dataframe\">\n",
       "  <thead>\n",
       "    <tr style=\"text-align: right;\">\n",
       "      <th></th>\n",
       "      <th>RV</th>\n",
       "      <th>W</th>\n",
       "    </tr>\n",
       "    <tr>\n",
       "      <th>date</th>\n",
       "      <th></th>\n",
       "      <th></th>\n",
       "    </tr>\n",
       "  </thead>\n",
       "  <tbody>\n",
       "    <tr>\n",
       "      <th>2019-08-31</th>\n",
       "      <td>0.000187</td>\n",
       "      <td>0.170048</td>\n",
       "    </tr>\n",
       "    <tr>\n",
       "      <th>2019-09-30</th>\n",
       "      <td>0.000031</td>\n",
       "      <td>1.036153</td>\n",
       "    </tr>\n",
       "    <tr>\n",
       "      <th>2019-10-31</th>\n",
       "      <td>0.000061</td>\n",
       "      <td>0.521629</td>\n",
       "    </tr>\n",
       "    <tr>\n",
       "      <th>2019-11-30</th>\n",
       "      <td>0.000014</td>\n",
       "      <td>2.331902</td>\n",
       "    </tr>\n",
       "    <tr>\n",
       "      <th>2019-12-31</th>\n",
       "      <td>0.000020</td>\n",
       "      <td>1.594953</td>\n",
       "    </tr>\n",
       "  </tbody>\n",
       "</table>\n",
       "</div>"
      ],
      "text/plain": [
       "                  RV         W\n",
       "date                          \n",
       "2019-08-31  0.000187  0.170048\n",
       "2019-09-30  0.000031  1.036153\n",
       "2019-10-31  0.000061  0.521629\n",
       "2019-11-30  0.000014  2.331902\n",
       "2019-12-31  0.000020  1.594953"
      ]
     },
     "execution_count": 58,
     "metadata": {},
     "output_type": "execute_result"
    }
   ],
   "source": [
    "RV.tail()"
   ]
  },
  {
   "cell_type": "code",
   "execution_count": 59,
   "metadata": {
    "colab": {
     "base_uri": "https://localhost:8080/",
     "height": 235
    },
    "colab_type": "code",
    "executionInfo": {
     "elapsed": 386,
     "status": "ok",
     "timestamp": 1576898613591,
     "user": {
      "displayName": "yuchi yao",
      "photoUrl": "",
      "userId": "00457884373990713813"
     },
     "user_tz": 300
    },
    "id": "p7JwUVzZBS4k",
    "outputId": "f9d032cb-721b-4e94-986c-6cdfe382fd20"
   },
   "outputs": [
    {
     "data": {
      "text/html": [
       "<div>\n",
       "<style scoped>\n",
       "    .dataframe tbody tr th:only-of-type {\n",
       "        vertical-align: middle;\n",
       "    }\n",
       "\n",
       "    .dataframe tbody tr th {\n",
       "        vertical-align: top;\n",
       "    }\n",
       "\n",
       "    .dataframe thead th {\n",
       "        text-align: right;\n",
       "    }\n",
       "</style>\n",
       "<table border=\"1\" class=\"dataframe\">\n",
       "  <thead>\n",
       "    <tr style=\"text-align: right;\">\n",
       "      <th></th>\n",
       "      <th>RV</th>\n",
       "      <th>W</th>\n",
       "      <th>Mkt</th>\n",
       "      <th>Rf</th>\n",
       "    </tr>\n",
       "    <tr>\n",
       "      <th>date</th>\n",
       "      <th></th>\n",
       "      <th></th>\n",
       "      <th></th>\n",
       "      <th></th>\n",
       "    </tr>\n",
       "  </thead>\n",
       "  <tbody>\n",
       "    <tr>\n",
       "      <th>2019-08-31</th>\n",
       "      <td>0.000187</td>\n",
       "      <td>0.170048</td>\n",
       "      <td>-0.020256</td>\n",
       "      <td>0.001541</td>\n",
       "    </tr>\n",
       "    <tr>\n",
       "      <th>2019-09-30</th>\n",
       "      <td>0.000031</td>\n",
       "      <td>1.036153</td>\n",
       "      <td>0.015960</td>\n",
       "      <td>0.001802</td>\n",
       "    </tr>\n",
       "    <tr>\n",
       "      <th>2019-10-31</th>\n",
       "      <td>0.000061</td>\n",
       "      <td>0.521629</td>\n",
       "      <td>0.019249</td>\n",
       "      <td>0.001611</td>\n",
       "    </tr>\n",
       "    <tr>\n",
       "      <th>2019-11-30</th>\n",
       "      <td>0.000014</td>\n",
       "      <td>2.331902</td>\n",
       "      <td>0.034953</td>\n",
       "      <td>0.001201</td>\n",
       "    </tr>\n",
       "    <tr>\n",
       "      <th>2019-12-31</th>\n",
       "      <td>0.000020</td>\n",
       "      <td>1.594953</td>\n",
       "      <td>0.028492</td>\n",
       "      <td>0.001471</td>\n",
       "    </tr>\n",
       "  </tbody>\n",
       "</table>\n",
       "</div>"
      ],
      "text/plain": [
       "                  RV         W       Mkt        Rf\n",
       "date                                              \n",
       "2019-08-31  0.000187  0.170048 -0.020256  0.001541\n",
       "2019-09-30  0.000031  1.036153  0.015960  0.001802\n",
       "2019-10-31  0.000061  0.521629  0.019249  0.001611\n",
       "2019-11-30  0.000014  2.331902  0.034953  0.001201\n",
       "2019-12-31  0.000020  1.594953  0.028492  0.001471"
      ]
     },
     "execution_count": 59,
     "metadata": {},
     "output_type": "execute_result"
    }
   ],
   "source": [
    "# Merge Ret (monthly return) with RV (realized variance and weights)\n",
    "df=RV.merge(Ret,how='left',left_index=True,right_index=True)\n",
    "df.tail()"
   ]
  },
  {
   "cell_type": "markdown",
   "metadata": {
    "colab_type": "text",
    "id": "vpv3v8SWBS4n"
   },
   "source": [
    "#### Construct strategy returns\n",
    "\n",
    "* Now to construct the strategy return recall that we use the relaized variance in month t to buy the market at the closing of month t and earn the return accrued in month t+1\n",
    "\n",
    "* So we need to lag our weights, or lead the returns\n",
    "\n",
    "* I will call the strategy as $\\textbf{VMS}$ (Volatility Managed Strategy)"
   ]
  },
  {
   "cell_type": "code",
   "execution_count": 61,
   "metadata": {},
   "outputs": [
    {
     "data": {
      "text/plain": [
       "date\n",
       "1925-12-31         NaN\n",
       "1926-01-31    0.919672\n",
       "1926-02-28    0.708324\n",
       "1926-03-31    0.138235\n",
       "1926-04-30    0.586952\n",
       "                ...   \n",
       "2019-08-31    0.170048\n",
       "2019-09-30    1.036153\n",
       "2019-10-31    0.521629\n",
       "2019-11-30    2.331902\n",
       "2019-12-31    1.594953\n",
       "Name: W, Length: 1129, dtype: float64"
      ]
     },
     "execution_count": 61,
     "metadata": {},
     "output_type": "execute_result"
    }
   ],
   "source": [
    "df.W"
   ]
  },
  {
   "cell_type": "code",
   "execution_count": 60,
   "metadata": {},
   "outputs": [
    {
     "data": {
      "text/plain": [
       "date\n",
       "1925-12-31         NaN\n",
       "1926-01-31         NaN\n",
       "1926-02-28    0.919672\n",
       "1926-03-31    0.708324\n",
       "1926-04-30    0.138235\n",
       "                ...   \n",
       "2019-08-31    1.235581\n",
       "2019-09-30    0.170048\n",
       "2019-10-31    1.036153\n",
       "2019-11-30    0.521629\n",
       "2019-12-31    2.331902\n",
       "Name: W, Length: 1129, dtype: float64"
      ]
     },
     "execution_count": 60,
     "metadata": {},
     "output_type": "execute_result"
    }
   ],
   "source": [
    "df.W.shift(1)"
   ]
  },
  {
   "cell_type": "code",
   "execution_count": 63,
   "metadata": {},
   "outputs": [
    {
     "data": {
      "text/plain": [
       "date\n",
       "1925-12-31    NaN\n",
       "1926-01-31    NaN\n",
       "1926-02-28    1.0\n",
       "1926-03-31    1.0\n",
       "1926-04-30    1.0\n",
       "             ... \n",
       "2019-08-31    1.0\n",
       "2019-09-30    1.0\n",
       "2019-10-31    1.0\n",
       "2019-11-30    1.0\n",
       "2019-12-31    1.0\n",
       "Name: W, Length: 1129, dtype: float64"
      ]
     },
     "execution_count": 63,
     "metadata": {},
     "output_type": "execute_result"
    }
   ],
   "source": [
    "df.W.shift(1)+(1-df.W.shift(1))"
   ]
  },
  {
   "cell_type": "code",
   "execution_count": 64,
   "metadata": {
    "colab": {},
    "colab_type": "code",
    "id": "xV9b36kqBS4o"
   },
   "outputs": [],
   "source": [
    "df['VMS']=df.W.shift(1)*df.Mkt+(1-df.W.shift(1))*df.Rf"
   ]
  },
  {
   "cell_type": "code",
   "execution_count": 65,
   "metadata": {
    "colab": {
     "base_uri": "https://localhost:8080/",
     "height": 280
    },
    "colab_type": "code",
    "executionInfo": {
     "elapsed": 999,
     "status": "ok",
     "timestamp": 1576899072935,
     "user": {
      "displayName": "yuchi yao",
      "photoUrl": "",
      "userId": "00457884373990713813"
     },
     "user_tz": 300
    },
    "id": "PJmTSH60BS4s",
    "outputId": "54c488ea-d69b-43c9-a2d6-d1498863780e"
   },
   "outputs": [
    {
     "data": {
      "image/png": "[encoded data removed]",
      "text/plain": [
       "<Figure size 432x288 with 1 Axes>"
      ]
     },
     "metadata": {
      "needs_background": "light"
     },
     "output_type": "display_data"
    }
   ],
   "source": [
    "(df[['Mkt','VMS']]+1).cumprod().plot(logy=True)\n",
    "plt.show()"
   ]
  },
  {
   "cell_type": "code",
   "execution_count": 66,
   "metadata": {
    "colab": {
     "base_uri": "https://localhost:8080/",
     "height": 68
    },
    "colab_type": "code",
    "executionInfo": {
     "elapsed": 402,
     "status": "ok",
     "timestamp": 1576899121792,
     "user": {
      "displayName": "yuchi yao",
      "photoUrl": "",
      "userId": "00457884373990713813"
     },
     "user_tz": 300
    },
    "id": "gJHy37iPBS4u",
    "outputId": "d255f4cc-1f99-4502-839c-ce7600c77596"
   },
   "outputs": [
    {
     "data": {
      "text/plain": [
       "Mkt    0.009239\n",
       "VMS    0.008606\n",
       "dtype: float64"
      ]
     },
     "execution_count": 66,
     "metadata": {},
     "output_type": "execute_result"
    }
   ],
   "source": [
    "df[['Mkt','VMS']].mean()"
   ]
  },
  {
   "cell_type": "code",
   "execution_count": 67,
   "metadata": {
    "colab": {
     "base_uri": "https://localhost:8080/",
     "height": 68
    },
    "colab_type": "code",
    "executionInfo": {
     "elapsed": 791,
     "status": "ok",
     "timestamp": 1576899125103,
     "user": {
      "displayName": "yuchi yao",
      "photoUrl": "",
      "userId": "00457884373990713813"
     },
     "user_tz": 300
    },
    "id": "wKv3rlGCBS4v",
    "outputId": "4c712a4e-5dd6-43cd-8ef4-10a9209ae2f5"
   },
   "outputs": [
    {
     "data": {
      "text/plain": [
       "Mkt    0.053142\n",
       "VMS    0.039161\n",
       "dtype: float64"
      ]
     },
     "execution_count": 67,
     "metadata": {},
     "output_type": "execute_result"
    }
   ],
   "source": [
    "df[['Mkt','VMS']].std()"
   ]
  },
  {
   "cell_type": "markdown",
   "metadata": {
    "colab_type": "text",
    "id": "QcbR-rgnBS4y"
   },
   "source": [
    "Sharpe ratio"
   ]
  },
  {
   "cell_type": "code",
   "execution_count": 68,
   "metadata": {
    "colab": {
     "base_uri": "https://localhost:8080/",
     "height": 68
    },
    "colab_type": "code",
    "executionInfo": {
     "elapsed": 357,
     "status": "ok",
     "timestamp": 1576899140898,
     "user": {
      "displayName": "yuchi yao",
      "photoUrl": "",
      "userId": "00457884373990713813"
     },
     "user_tz": 300
    },
    "id": "1_S4uHG5BS4z",
    "outputId": "d56bddd2-be7e-497c-bea6-01e744e3cb16"
   },
   "outputs": [
    {
     "data": {
      "text/plain": [
       "Mkt    0.425594\n",
       "VMS    0.521141\n",
       "dtype: float64"
      ]
     },
     "execution_count": 68,
     "metadata": {},
     "output_type": "execute_result"
    }
   ],
   "source": [
    "(df[['Mkt','VMS']].subtract(df.Rf,axis=0).mean()/df[['Mkt','VMS']].std())*12**0.5"
   ]
  },
  {
   "cell_type": "markdown",
   "metadata": {
    "colab_type": "text",
    "id": "NK_6rrUHBS41"
   },
   "source": [
    "Tail risk"
   ]
  },
  {
   "cell_type": "code",
   "execution_count": 70,
   "metadata": {
    "colab": {
     "base_uri": "https://localhost:8080/",
     "height": 68
    },
    "colab_type": "code",
    "executionInfo": {
     "elapsed": 697,
     "status": "ok",
     "timestamp": 1576899155354,
     "user": {
      "displayName": "yuchi yao",
      "photoUrl": "",
      "userId": "00457884373990713813"
     },
     "user_tz": 300
    },
    "id": "BpjI4hqqBS41",
    "outputId": "10e22c0c-4d98-44c9-a59f-e7ca382bfb7e"
   },
   "outputs": [
    {
     "data": {
      "text/plain": [
       "Mkt   -0.188058\n",
       "VMS   -0.134315\n",
       "Name: 0.005, dtype: float64"
      ]
     },
     "execution_count": 70,
     "metadata": {},
     "output_type": "execute_result"
    }
   ],
   "source": [
    "df[['Mkt','VMS']].quantile(q=0.005)"
   ]
  },
  {
   "cell_type": "markdown",
   "metadata": {
    "colab_type": "text",
    "id": "ZmwemMkRBS42"
   },
   "source": [
    "* What are other natural measures of risk to look at?\n",
    "\n",
    "* Does any of this mean that VMS is a good/bad idea?\n",
    "\n",
    "* What does this mean for a mean-variance investor that can borrow and lend at the risk-free rate and must choose between investing in the risk-free and the market or the risk-free and VMS?\n",
    "\n",
    "* Is there a degree of risk aversion that would make the investor prefer Market over VMS?\n",
    "\n",
    "* What if the investor could invest in all three assets? would he ever invest in the market or only on vms?"
   ]
  },
  {
   "cell_type": "markdown",
   "metadata": {
    "colab_type": "text",
    "id": "wF4hgxkGBS43"
   },
   "source": [
    "- This was just an example!\n",
    "\n",
    "- There are a lot of timing strategies\n",
    "\n",
    "- I like this one, becuase I (and Tyler Muir) came up with it. (https://www.google.com/url?q=https%3A%2F%2Fwww.dropbox.com%2Fs%2F022escr52x9oe51%2FVolPortfolios_published.pdf%3Fdl%3D0&sa=D&sntz=1&usg=AFQjCNGMECt2zp77lDfZRGJlkXQbGmqn1A)\n",
    "\n"
   ]
  },
  {
   "cell_type": "code",
   "execution_count": null,
   "metadata": {},
   "outputs": [],
   "source": []
  }
 ],
 "metadata": {
  "colab": {
   "collapsed_sections": [],
   "name": "Notebook 6.ipynb",
   "provenance": []
  },
  "kernelspec": {
   "display_name": "Python 3",
   "language": "python",
   "name": "python3"
  },
  "language_info": {
   "codemirror_mode": {
    "name": "ipython",
    "version": 3
   },
   "file_extension": ".py",
   "mimetype": "text/x-python",
   "name": "python",
   "nbconvert_exporter": "python",
   "pygments_lexer": "ipython3",
   "version": "3.8.5"
  }
 },
 "nbformat": 4,
 "nbformat_minor": 4
}
