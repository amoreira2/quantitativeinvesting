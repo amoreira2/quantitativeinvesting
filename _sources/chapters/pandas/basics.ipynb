{
 "cells": [
  {
   "cell_type": "markdown",
   "metadata": {},
   "source": [
    "# Basic Functionality\n",
    "\n",
    "\n",
    "\n",
    "\n",
    "**Outcomes**\n",
    "\n",
    "- Be familiar with `datetime`  \n",
    "- Use built-in aggregation functions and be able to create your own and\n",
    "  apply them using `agg`  \n",
    "- Use built-in Series transformation functions and be able to create your\n",
    "  own and apply them using `apply`  \n",
    "- Use built-in scalar transformation functions and be able to create your\n",
    "  own and apply them using `applymap`  \n",
    "- Be able to select subsets of the DataFrame using boolean selection  \n",
    "- Know what the “want operator” is and how to apply it  \n",
    "\n",
    "\n"
   ]
  },
  {
   "cell_type": "markdown",
   "metadata": {},
   "source": [
    "## Outline\n",
    "\n",
    "- [Basic Functionality](#Basic-Functionality)  \n",
    "  - [Dates in pandas](#Dates-in-pandas)  \n",
    "  - [DataFrame Aggregations](#DataFrame-Aggregations)  \n",
    "  - [Transforms](#Transforms)  \n",
    "  - [Boolean Selection](#Boolean-Selection)  \n",
    "  - [Exercises](#Exercises)  "
   ]
  },
  {
   "cell_type": "code",
   "execution_count": 1,
   "metadata": {
    "hide-output": false
   },
   "outputs": [],
   "source": [
    "# Uncomment following line to install on colab\n",
    "#! pip install qeds"
   ]
  },
  {
   "cell_type": "markdown",
   "metadata": {},
   "source": [
    "## Industry portfolios data\n",
    "\n",
    "In this lecture, we will use industry portfolio  data by industry at a monthly\n",
    "frequency.\n",
    "\n",
    "those are portfolio of stocks of firms in different sectors of the economy"
   ]
  },
  {
   "cell_type": "code",
   "execution_count": 2,
   "metadata": {
    "hide-output": false
   },
   "outputs": [
    {
     "data": {
      "text/plain": [
       "'1.2.3'"
      ]
     },
     "execution_count": 2,
     "metadata": {},
     "output_type": "execute_result"
    }
   ],
   "source": [
    "import pandas as pd\n",
    "\n",
    "%matplotlib inline\n",
    "# activate plot theme\n",
    "import qeds\n",
    "qeds.themes.mpl_style();\n",
    "\n",
    "pd.__version__"
   ]
  },
  {
   "cell_type": "markdown",
   "metadata": {},
   "source": [
    "First, we will download the data directly from a url and read it into a pandas DataFrame."
   ]
  },
  {
   "cell_type": "code",
   "execution_count": 14,
   "metadata": {
    "hide-output": false
   },
   "outputs": [],
   "source": [
    "## Load up the data -- this will take a couple seconds\n",
    "url = \"https://raw.githubusercontent.com/amoreira2/Lectures/main/assets/data/49_Industry_Portfolios.CSV\"\n",
    "industret_raw = pd.read_csv(url, parse_dates=[\"Date\"])"
   ]
  },
  {
   "cell_type": "markdown",
   "metadata": {},
   "source": [
    "The pandas `read_csv` will determine most datatypes of the underlying columns.  The\n",
    "exception here is that we need to give pandas a hint so it can load up the `Date` column as a Python datetime type: the `parse_dates=[\"Date\"]`.\n",
    "\n",
    "We can see the basic structure of the downloaded data by getting the first 5 rows, which directly matches\n",
    "the underlying CSV file."
   ]
  },
  {
   "cell_type": "code",
   "execution_count": 15,
   "metadata": {
    "hide-output": false
   },
   "outputs": [
    {
     "data": {
      "text/html": [
       "<div>\n",
       "<style scoped>\n",
       "    .dataframe tbody tr th:only-of-type {\n",
       "        vertical-align: middle;\n",
       "    }\n",
       "\n",
       "    .dataframe tbody tr th {\n",
       "        vertical-align: top;\n",
       "    }\n",
       "\n",
       "    .dataframe thead th {\n",
       "        text-align: right;\n",
       "    }\n",
       "</style>\n",
       "<table border=\"1\" class=\"dataframe\">\n",
       "  <thead>\n",
       "    <tr style=\"text-align: right;\">\n",
       "      <th></th>\n",
       "      <th>Date</th>\n",
       "      <th>industry</th>\n",
       "      <th>returns</th>\n",
       "      <th>nfirms</th>\n",
       "      <th>size</th>\n",
       "    </tr>\n",
       "  </thead>\n",
       "  <tbody>\n",
       "    <tr>\n",
       "      <th>0</th>\n",
       "      <td>1926-07-31</td>\n",
       "      <td>Agric</td>\n",
       "      <td>2.37</td>\n",
       "      <td>3</td>\n",
       "      <td>99.80</td>\n",
       "    </tr>\n",
       "    <tr>\n",
       "      <th>1</th>\n",
       "      <td>1926-07-31</td>\n",
       "      <td>Food</td>\n",
       "      <td>0.12</td>\n",
       "      <td>40</td>\n",
       "      <td>31.19</td>\n",
       "    </tr>\n",
       "    <tr>\n",
       "      <th>2</th>\n",
       "      <td>1926-07-31</td>\n",
       "      <td>Soda</td>\n",
       "      <td>-99.99</td>\n",
       "      <td>0</td>\n",
       "      <td>-99.99</td>\n",
       "    </tr>\n",
       "    <tr>\n",
       "      <th>3</th>\n",
       "      <td>1926-07-31</td>\n",
       "      <td>Beer</td>\n",
       "      <td>-5.19</td>\n",
       "      <td>3</td>\n",
       "      <td>7.12</td>\n",
       "    </tr>\n",
       "    <tr>\n",
       "      <th>4</th>\n",
       "      <td>1926-07-31</td>\n",
       "      <td>Smoke</td>\n",
       "      <td>1.29</td>\n",
       "      <td>16</td>\n",
       "      <td>59.72</td>\n",
       "    </tr>\n",
       "  </tbody>\n",
       "</table>\n",
       "</div>"
      ],
      "text/plain": [
       "        Date industry  returns  nfirms   size\n",
       "0 1926-07-31    Agric     2.37       3  99.80\n",
       "1 1926-07-31    Food      0.12      40  31.19\n",
       "2 1926-07-31    Soda    -99.99       0 -99.99\n",
       "3 1926-07-31    Beer     -5.19       3   7.12\n",
       "4 1926-07-31    Smoke     1.29      16  59.72"
      ]
     },
     "execution_count": 15,
     "metadata": {},
     "output_type": "execute_result"
    }
   ],
   "source": [
    "industret_raw.head()"
   ]
  },
  {
   "cell_type": "markdown",
   "metadata": {},
   "source": [
    "Note that a row has a date, industry , returns, number of firms in the portfolio and  average size of the firm.\n",
    "\n",
    "Note also the -99.99 which in this case is code for missing observation\n",
    "\n",
    "For our analysis, we want to look at the firm size across different industries over time, which\n",
    "requires a transformation of the data similar to an Excel pivot-table."
   ]
  },
  {
   "cell_type": "code",
   "execution_count": 17,
   "metadata": {
    "hide-output": false
   },
   "outputs": [
    {
     "data": {
      "text/html": [
       "<div>\n",
       "<style scoped>\n",
       "    .dataframe tbody tr th:only-of-type {\n",
       "        vertical-align: middle;\n",
       "    }\n",
       "\n",
       "    .dataframe tbody tr th {\n",
       "        vertical-align: top;\n",
       "    }\n",
       "\n",
       "    .dataframe thead th {\n",
       "        text-align: right;\n",
       "    }\n",
       "</style>\n",
       "<table border=\"1\" class=\"dataframe\">\n",
       "  <thead>\n",
       "    <tr style=\"text-align: right;\">\n",
       "      <th>industry</th>\n",
       "      <th>Aero</th>\n",
       "      <th>Agric</th>\n",
       "      <th>Autos</th>\n",
       "      <th>Banks</th>\n",
       "      <th>Beer</th>\n",
       "      <th>BldMt</th>\n",
       "      <th>Books</th>\n",
       "      <th>Boxes</th>\n",
       "      <th>BusSv</th>\n",
       "      <th>Chems</th>\n",
       "      <th>...</th>\n",
       "      <th>Smoke</th>\n",
       "      <th>Soda</th>\n",
       "      <th>Softw</th>\n",
       "      <th>Steel</th>\n",
       "      <th>Telcm</th>\n",
       "      <th>Toys</th>\n",
       "      <th>Trans</th>\n",
       "      <th>Txtls</th>\n",
       "      <th>Util</th>\n",
       "      <th>Whlsl</th>\n",
       "    </tr>\n",
       "    <tr>\n",
       "      <th>Date</th>\n",
       "      <th></th>\n",
       "      <th></th>\n",
       "      <th></th>\n",
       "      <th></th>\n",
       "      <th></th>\n",
       "      <th></th>\n",
       "      <th></th>\n",
       "      <th></th>\n",
       "      <th></th>\n",
       "      <th></th>\n",
       "      <th></th>\n",
       "      <th></th>\n",
       "      <th></th>\n",
       "      <th></th>\n",
       "      <th></th>\n",
       "      <th></th>\n",
       "      <th></th>\n",
       "      <th></th>\n",
       "      <th></th>\n",
       "      <th></th>\n",
       "      <th></th>\n",
       "    </tr>\n",
       "  </thead>\n",
       "  <tbody>\n",
       "    <tr>\n",
       "      <th>1926-07-31</th>\n",
       "      <td>9.52</td>\n",
       "      <td>99.80</td>\n",
       "      <td>47.55</td>\n",
       "      <td>14.50</td>\n",
       "      <td>7.12</td>\n",
       "      <td>20.80</td>\n",
       "      <td>4.33</td>\n",
       "      <td>35.35</td>\n",
       "      <td>11.21</td>\n",
       "      <td>57.59</td>\n",
       "      <td>...</td>\n",
       "      <td>59.72</td>\n",
       "      <td>-99.99</td>\n",
       "      <td>-99.99</td>\n",
       "      <td>48.56</td>\n",
       "      <td>350.36</td>\n",
       "      <td>13.00</td>\n",
       "      <td>68.67</td>\n",
       "      <td>5.78</td>\n",
       "      <td>81.22</td>\n",
       "      <td>1.19</td>\n",
       "    </tr>\n",
       "    <tr>\n",
       "      <th>1926-08-31</th>\n",
       "      <td>9.46</td>\n",
       "      <td>102.06</td>\n",
       "      <td>55.11</td>\n",
       "      <td>15.17</td>\n",
       "      <td>6.75</td>\n",
       "      <td>21.30</td>\n",
       "      <td>6.50</td>\n",
       "      <td>37.86</td>\n",
       "      <td>11.81</td>\n",
       "      <td>62.13</td>\n",
       "      <td>...</td>\n",
       "      <td>60.47</td>\n",
       "      <td>-99.99</td>\n",
       "      <td>-99.99</td>\n",
       "      <td>50.39</td>\n",
       "      <td>353.27</td>\n",
       "      <td>14.12</td>\n",
       "      <td>69.79</td>\n",
       "      <td>5.79</td>\n",
       "      <td>86.81</td>\n",
       "      <td>0.90</td>\n",
       "    </tr>\n",
       "    <tr>\n",
       "      <th>1926-09-30</th>\n",
       "      <td>8.78</td>\n",
       "      <td>104.34</td>\n",
       "      <td>57.11</td>\n",
       "      <td>16.97</td>\n",
       "      <td>8.58</td>\n",
       "      <td>22.27</td>\n",
       "      <td>9.29</td>\n",
       "      <td>36.82</td>\n",
       "      <td>11.99</td>\n",
       "      <td>65.53</td>\n",
       "      <td>...</td>\n",
       "      <td>64.03</td>\n",
       "      <td>-99.99</td>\n",
       "      <td>-99.99</td>\n",
       "      <td>51.21</td>\n",
       "      <td>360.96</td>\n",
       "      <td>16.50</td>\n",
       "      <td>72.90</td>\n",
       "      <td>6.25</td>\n",
       "      <td>85.01</td>\n",
       "      <td>0.95</td>\n",
       "    </tr>\n",
       "    <tr>\n",
       "      <th>1926-10-31</th>\n",
       "      <td>8.15</td>\n",
       "      <td>102.91</td>\n",
       "      <td>59.69</td>\n",
       "      <td>16.46</td>\n",
       "      <td>8.92</td>\n",
       "      <td>22.04</td>\n",
       "      <td>8.83</td>\n",
       "      <td>34.77</td>\n",
       "      <td>12.01</td>\n",
       "      <td>68.47</td>\n",
       "      <td>...</td>\n",
       "      <td>64.42</td>\n",
       "      <td>-99.99</td>\n",
       "      <td>-99.99</td>\n",
       "      <td>51.02</td>\n",
       "      <td>364.16</td>\n",
       "      <td>17.88</td>\n",
       "      <td>72.71</td>\n",
       "      <td>6.36</td>\n",
       "      <td>86.41</td>\n",
       "      <td>0.88</td>\n",
       "    </tr>\n",
       "    <tr>\n",
       "      <th>1926-11-30</th>\n",
       "      <td>7.07</td>\n",
       "      <td>102.34</td>\n",
       "      <td>54.81</td>\n",
       "      <td>14.52</td>\n",
       "      <td>8.62</td>\n",
       "      <td>21.05</td>\n",
       "      <td>9.31</td>\n",
       "      <td>32.80</td>\n",
       "      <td>12.17</td>\n",
       "      <td>65.06</td>\n",
       "      <td>...</td>\n",
       "      <td>65.08</td>\n",
       "      <td>-99.99</td>\n",
       "      <td>-99.99</td>\n",
       "      <td>48.90</td>\n",
       "      <td>363.74</td>\n",
       "      <td>17.62</td>\n",
       "      <td>70.58</td>\n",
       "      <td>6.38</td>\n",
       "      <td>83.92</td>\n",
       "      <td>0.74</td>\n",
       "    </tr>\n",
       "  </tbody>\n",
       "</table>\n",
       "<p>5 rows × 49 columns</p>\n",
       "</div>"
      ],
      "text/plain": [
       "industry    Aero    Agric  Autos  Banks  Beer   BldMt  Books  Boxes  BusSv  \\\n",
       "Date                                                                         \n",
       "1926-07-31   9.52   99.80  47.55  14.50   7.12  20.80   4.33  35.35  11.21   \n",
       "1926-08-31   9.46  102.06  55.11  15.17   6.75  21.30   6.50  37.86  11.81   \n",
       "1926-09-30   8.78  104.34  57.11  16.97   8.58  22.27   9.29  36.82  11.99   \n",
       "1926-10-31   8.15  102.91  59.69  16.46   8.92  22.04   8.83  34.77  12.01   \n",
       "1926-11-30   7.07  102.34  54.81  14.52   8.62  21.05   9.31  32.80  12.17   \n",
       "\n",
       "industry    Chems  ...  Smoke  Soda   Softw  Steel   Telcm  Toys   Trans  \\\n",
       "Date               ...                                                     \n",
       "1926-07-31  57.59  ...  59.72 -99.99 -99.99  48.56  350.36  13.00  68.67   \n",
       "1926-08-31  62.13  ...  60.47 -99.99 -99.99  50.39  353.27  14.12  69.79   \n",
       "1926-09-30  65.53  ...  64.03 -99.99 -99.99  51.21  360.96  16.50  72.90   \n",
       "1926-10-31  68.47  ...  64.42 -99.99 -99.99  51.02  364.16  17.88  72.71   \n",
       "1926-11-30  65.06  ...  65.08 -99.99 -99.99  48.90  363.74  17.62  70.58   \n",
       "\n",
       "industry    Txtls  Util   Whlsl  \n",
       "Date                             \n",
       "1926-07-31   5.78  81.22   1.19  \n",
       "1926-08-31   5.79  86.81   0.90  \n",
       "1926-09-30   6.25  85.01   0.95  \n",
       "1926-10-31   6.36  86.41   0.88  \n",
       "1926-11-30   6.38  83.92   0.74  \n",
       "\n",
       "[5 rows x 49 columns]"
      ]
     },
     "execution_count": 17,
     "metadata": {},
     "output_type": "execute_result"
    }
   ],
   "source": [
    "# Don't worry about the details here quite yet\n",
    "size_all = (\n",
    "    industret_raw\n",
    "    .reset_index()\n",
    "    .pivot_table(index=\"Date\", columns=\"industry\", values=\"size\")\n",
    ")\n",
    "size_all.head()"
   ]
  },
  {
   "cell_type": "code",
   "execution_count": 18,
   "metadata": {},
   "outputs": [
    {
     "data": {
      "text/plain": [
       "Index(['Aero ', 'Agric', 'Autos', 'Banks', 'Beer ', 'BldMt', 'Books', 'Boxes',\n",
       "       'BusSv', 'Chems', 'Chips', 'Clths', 'Cnstr', 'Coal ', 'Drugs', 'ElcEq',\n",
       "       'FabPr', 'Fin  ', 'Food ', 'Fun  ', 'Gold ', 'Guns ', 'Hardw', 'Hlth ',\n",
       "       'Hshld', 'Insur', 'LabEq', 'Mach ', 'Meals', 'MedEq', 'Mines', 'Oil  ',\n",
       "       'Other', 'Paper', 'PerSv', 'RlEst', 'Rtail', 'Rubbr', 'Ships', 'Smoke',\n",
       "       'Soda ', 'Softw', 'Steel', 'Telcm', 'Toys ', 'Trans', 'Txtls', 'Util ',\n",
       "       'Whlsl'],\n",
       "      dtype='object', name='industry')"
      ]
     },
     "execution_count": 18,
     "metadata": {},
     "output_type": "execute_result"
    }
   ],
   "source": [
    "size_all.columns"
   ]
  },
  {
   "cell_type": "markdown",
   "metadata": {},
   "source": [
    "Finally, we can filter it to look at a subset of the columns (i.e. “state” in this case)."
   ]
  },
  {
   "cell_type": "code",
   "execution_count": 23,
   "metadata": {
    "hide-output": false
   },
   "outputs": [
    {
     "data": {
      "text/html": [
       "<div>\n",
       "<style scoped>\n",
       "    .dataframe tbody tr th:only-of-type {\n",
       "        vertical-align: middle;\n",
       "    }\n",
       "\n",
       "    .dataframe tbody tr th {\n",
       "        vertical-align: top;\n",
       "    }\n",
       "\n",
       "    .dataframe thead th {\n",
       "        text-align: right;\n",
       "    }\n",
       "</style>\n",
       "<table border=\"1\" class=\"dataframe\">\n",
       "  <thead>\n",
       "    <tr style=\"text-align: right;\">\n",
       "      <th>industry</th>\n",
       "      <th>Autos</th>\n",
       "      <th>Banks</th>\n",
       "      <th>Meals</th>\n",
       "      <th>Softw</th>\n",
       "      <th>Smoke</th>\n",
       "      <th>Telcm</th>\n",
       "      <th>Mines</th>\n",
       "    </tr>\n",
       "    <tr>\n",
       "      <th>Date</th>\n",
       "      <th></th>\n",
       "      <th></th>\n",
       "      <th></th>\n",
       "      <th></th>\n",
       "      <th></th>\n",
       "      <th></th>\n",
       "      <th></th>\n",
       "    </tr>\n",
       "  </thead>\n",
       "  <tbody>\n",
       "    <tr>\n",
       "      <th>2020-11-30</th>\n",
       "      <td>11504.82</td>\n",
       "      <td>5372.76</td>\n",
       "      <td>8638.65</td>\n",
       "      <td>22509.62</td>\n",
       "      <td>59424.37</td>\n",
       "      <td>20127.11</td>\n",
       "      <td>7379.30</td>\n",
       "    </tr>\n",
       "    <tr>\n",
       "      <th>2020-12-31</th>\n",
       "      <td>15667.02</td>\n",
       "      <td>6344.33</td>\n",
       "      <td>9595.61</td>\n",
       "      <td>24701.31</td>\n",
       "      <td>64210.14</td>\n",
       "      <td>23242.82</td>\n",
       "      <td>8377.75</td>\n",
       "    </tr>\n",
       "    <tr>\n",
       "      <th>2021-01-31</th>\n",
       "      <td>18292.42</td>\n",
       "      <td>6813.01</td>\n",
       "      <td>9983.06</td>\n",
       "      <td>25503.86</td>\n",
       "      <td>68622.27</td>\n",
       "      <td>24468.39</td>\n",
       "      <td>9186.89</td>\n",
       "    </tr>\n",
       "    <tr>\n",
       "      <th>2021-02-28</th>\n",
       "      <td>20561.46</td>\n",
       "      <td>6581.58</td>\n",
       "      <td>9531.13</td>\n",
       "      <td>25834.04</td>\n",
       "      <td>67059.98</td>\n",
       "      <td>23911.24</td>\n",
       "      <td>9376.07</td>\n",
       "    </tr>\n",
       "    <tr>\n",
       "      <th>2021-03-31</th>\n",
       "      <td>18531.08</td>\n",
       "      <td>7511.02</td>\n",
       "      <td>10445.51</td>\n",
       "      <td>26799.04</td>\n",
       "      <td>70900.88</td>\n",
       "      <td>24972.99</td>\n",
       "      <td>10770.47</td>\n",
       "    </tr>\n",
       "  </tbody>\n",
       "</table>\n",
       "</div>"
      ],
      "text/plain": [
       "industry       Autos    Banks     Meals     Softw     Smoke     Telcm  \\\n",
       "Date                                                                    \n",
       "2020-11-30  11504.82  5372.76   8638.65  22509.62  59424.37  20127.11   \n",
       "2020-12-31  15667.02  6344.33   9595.61  24701.31  64210.14  23242.82   \n",
       "2021-01-31  18292.42  6813.01   9983.06  25503.86  68622.27  24468.39   \n",
       "2021-02-28  20561.46  6581.58   9531.13  25834.04  67059.98  23911.24   \n",
       "2021-03-31  18531.08  7511.02  10445.51  26799.04  70900.88  24972.99   \n",
       "\n",
       "industry       Mines  \n",
       "Date                  \n",
       "2020-11-30   7379.30  \n",
       "2020-12-31   8377.75  \n",
       "2021-01-31   9186.89  \n",
       "2021-02-28   9376.07  \n",
       "2021-03-31  10770.47  "
      ]
     },
     "execution_count": 23,
     "metadata": {},
     "output_type": "execute_result"
    }
   ],
   "source": [
    "industries = [\n",
    "    \"Autos\",\"Banks\", \"Meals\", \"Softw\",\n",
    "    \"Smoke\", \"Telcm\", \"Mines\"\n",
    "]\n",
    "size = size_all[industries]\n",
    "size.tail()"
   ]
  },
  {
   "cell_type": "markdown",
   "metadata": {},
   "source": [
    "When plotting, a DataFrame knows the column and index names."
   ]
  },
  {
   "cell_type": "code",
   "execution_count": 24,
   "metadata": {
    "hide-output": false
   },
   "outputs": [
    {
     "data": {
      "text/plain": [
       "<AxesSubplot:xlabel='Date'>"
      ]
     },
     "execution_count": 24,
     "metadata": {},
     "output_type": "execute_result"
    },
    {
     "data": {
      "image/png": "[encoded data removed]",
      "text/plain": [
       "<Figure size 576x432 with 1 Axes>"
      ]
     },
     "metadata": {},
     "output_type": "display_data"
    }
   ],
   "source": [
    "size.plot(figsize=(8, 6),logy=True)"
   ]
  },
  {
   "cell_type": "markdown",
   "metadata": {},
   "source": [
    "\n",
    "<a id='exercise-0'></a>\n",
    "> See exercise 1 in the [*exercise list*](#exerciselist-0)"
   ]
  },
  {
   "cell_type": "markdown",
   "metadata": {},
   "source": [
    "## Dates in pandas\n",
    "\n",
    "You might have noticed that our index now has a nice format for the\n",
    "dates (`YYYY-MM-DD`) rather than just a year.\n",
    "\n",
    "This is because the `dtype` of the index is a variant of `datetime`."
   ]
  },
  {
   "cell_type": "code",
   "execution_count": 25,
   "metadata": {
    "hide-output": false
   },
   "outputs": [
    {
     "data": {
      "text/plain": [
       "DatetimeIndex(['1926-07-31', '1926-08-31', '1926-09-30', '1926-10-31',\n",
       "               '1926-11-30', '1926-12-31', '1927-01-31', '1927-02-28',\n",
       "               '1927-03-31', '1927-04-30',\n",
       "               ...\n",
       "               '2020-06-30', '2020-07-31', '2020-08-31', '2020-09-30',\n",
       "               '2020-10-31', '2020-11-30', '2020-12-31', '2021-01-31',\n",
       "               '2021-02-28', '2021-03-31'],\n",
       "              dtype='datetime64[ns]', name='Date', length=1137, freq=None)"
      ]
     },
     "execution_count": 25,
     "metadata": {},
     "output_type": "execute_result"
    }
   ],
   "source": [
    "size.index"
   ]
  },
  {
   "cell_type": "markdown",
   "metadata": {},
   "source": [
    "We can index into a DataFrame with a `DatetimeIndex` using string\n",
    "representations of dates.\n",
    "\n",
    "For example"
   ]
  },
  {
   "cell_type": "code",
   "execution_count": 27,
   "metadata": {
    "hide-output": false
   },
   "outputs": [
    {
     "data": {
      "text/plain": [
       "industry\n",
       "Autos     2461.97\n",
       "Banks     2249.50\n",
       "Meals      800.97\n",
       "Softw     3597.20\n",
       "Smoke    12584.58\n",
       "Telcm     8978.29\n",
       "Mines      967.26\n",
       "Name: 2000-01-31 00:00:00, dtype: float64"
      ]
     },
     "execution_count": 27,
     "metadata": {},
     "output_type": "execute_result"
    }
   ],
   "source": [
    "# Data corresponding to a single date\n",
    "size.loc[\"01/31/2000\", :]"
   ]
  },
  {
   "cell_type": "code",
   "execution_count": 28,
   "metadata": {
    "hide-output": false
   },
   "outputs": [
    {
     "data": {
      "text/html": [
       "<div>\n",
       "<style scoped>\n",
       "    .dataframe tbody tr th:only-of-type {\n",
       "        vertical-align: middle;\n",
       "    }\n",
       "\n",
       "    .dataframe tbody tr th {\n",
       "        vertical-align: top;\n",
       "    }\n",
       "\n",
       "    .dataframe thead th {\n",
       "        text-align: right;\n",
       "    }\n",
       "</style>\n",
       "<table border=\"1\" class=\"dataframe\">\n",
       "  <thead>\n",
       "    <tr style=\"text-align: right;\">\n",
       "      <th>industry</th>\n",
       "      <th>Autos</th>\n",
       "      <th>Banks</th>\n",
       "      <th>Meals</th>\n",
       "      <th>Softw</th>\n",
       "      <th>Smoke</th>\n",
       "      <th>Telcm</th>\n",
       "      <th>Mines</th>\n",
       "    </tr>\n",
       "    <tr>\n",
       "      <th>Date</th>\n",
       "      <th></th>\n",
       "      <th></th>\n",
       "      <th></th>\n",
       "      <th></th>\n",
       "      <th></th>\n",
       "      <th></th>\n",
       "      <th></th>\n",
       "    </tr>\n",
       "  </thead>\n",
       "  <tbody>\n",
       "    <tr>\n",
       "      <th>2000-01-31</th>\n",
       "      <td>2461.97</td>\n",
       "      <td>2249.50</td>\n",
       "      <td>800.97</td>\n",
       "      <td>3597.20</td>\n",
       "      <td>12584.58</td>\n",
       "      <td>8978.29</td>\n",
       "      <td>967.26</td>\n",
       "    </tr>\n",
       "    <tr>\n",
       "      <th>2000-02-29</th>\n",
       "      <td>2504.11</td>\n",
       "      <td>2203.67</td>\n",
       "      <td>741.71</td>\n",
       "      <td>3270.95</td>\n",
       "      <td>11499.46</td>\n",
       "      <td>8739.86</td>\n",
       "      <td>955.71</td>\n",
       "    </tr>\n",
       "    <tr>\n",
       "      <th>2000-03-31</th>\n",
       "      <td>2290.96</td>\n",
       "      <td>1974.93</td>\n",
       "      <td>652.38</td>\n",
       "      <td>3603.68</td>\n",
       "      <td>11038.70</td>\n",
       "      <td>8463.58</td>\n",
       "      <td>881.00</td>\n",
       "    </tr>\n",
       "    <tr>\n",
       "      <th>2000-04-30</th>\n",
       "      <td>2545.41</td>\n",
       "      <td>2291.46</td>\n",
       "      <td>767.18</td>\n",
       "      <td>3733.34</td>\n",
       "      <td>11335.75</td>\n",
       "      <td>9098.77</td>\n",
       "      <td>938.08</td>\n",
       "    </tr>\n",
       "    <tr>\n",
       "      <th>2000-05-31</th>\n",
       "      <td>2873.71</td>\n",
       "      <td>2225.48</td>\n",
       "      <td>796.35</td>\n",
       "      <td>3050.85</td>\n",
       "      <td>14605.66</td>\n",
       "      <td>8217.91</td>\n",
       "      <td>865.02</td>\n",
       "    </tr>\n",
       "    <tr>\n",
       "      <th>2000-06-30</th>\n",
       "      <td>2458.02</td>\n",
       "      <td>2414.05</td>\n",
       "      <td>762.56</td>\n",
       "      <td>2740.98</td>\n",
       "      <td>17434.72</td>\n",
       "      <td>7235.48</td>\n",
       "      <td>871.13</td>\n",
       "    </tr>\n",
       "  </tbody>\n",
       "</table>\n",
       "</div>"
      ],
      "text/plain": [
       "industry      Autos    Banks   Meals    Softw     Smoke    Telcm   Mines\n",
       "Date                                                                    \n",
       "2000-01-31  2461.97  2249.50  800.97  3597.20  12584.58  8978.29  967.26\n",
       "2000-02-29  2504.11  2203.67  741.71  3270.95  11499.46  8739.86  955.71\n",
       "2000-03-31  2290.96  1974.93  652.38  3603.68  11038.70  8463.58  881.00\n",
       "2000-04-30  2545.41  2291.46  767.18  3733.34  11335.75  9098.77  938.08\n",
       "2000-05-31  2873.71  2225.48  796.35  3050.85  14605.66  8217.91  865.02\n",
       "2000-06-30  2458.02  2414.05  762.56  2740.98  17434.72  7235.48  871.13"
      ]
     },
     "execution_count": 28,
     "metadata": {},
     "output_type": "execute_result"
    }
   ],
   "source": [
    "# Data for all days between New Years Day and June first in the year 2000\n",
    "size.loc[\"01/31/2000\":\"06/30/2000\", :]"
   ]
  },
  {
   "cell_type": "markdown",
   "metadata": {},
   "source": [
    "We will learn more about what pandas can do with dates and times in an\n",
    "upcoming lecture on time series data."
   ]
  },
  {
   "cell_type": "markdown",
   "metadata": {},
   "source": [
    "## DataFrame Aggregations\n",
    "\n",
    "Let’s talk about *aggregations*.\n",
    "\n",
    "Loosely speaking, an aggregation is an operation that combines multiple\n",
    "values into a single value.\n",
    "\n",
    "For example, computing the mean of three numbers (for example\n",
    "`[0, 1, 2]`) returns a single number (1).\n",
    "\n",
    "We will use aggregations extensively as we analyze and manipulate our data.\n",
    "\n",
    "Thankfully, pandas makes this easy!"
   ]
  },
  {
   "cell_type": "markdown",
   "metadata": {},
   "source": [
    "### Built-in Aggregations\n",
    "\n",
    "pandas already has some of the most frequently used aggregations.\n",
    "\n",
    "For example:\n",
    "\n",
    "- Mean  (`mean`)  \n",
    "- Variance (`var`)  \n",
    "- Standard deviation (`std`)  \n",
    "- Minimum (`min`)  \n",
    "- Median (`median`)  \n",
    "- Maximum (`max`)  \n",
    "- etc…  \n",
    "\n",
    "\n",
    ">**Note**\n",
    ">\n",
    ">When looking for common operations, using “tab completion” goes a long way."
   ]
  },
  {
   "cell_type": "code",
   "execution_count": 29,
   "metadata": {
    "hide-output": false
   },
   "outputs": [
    {
     "data": {
      "text/plain": [
       "industry\n",
       "Autos     1271.677274\n",
       "Banks      952.728619\n",
       "Meals      984.425286\n",
       "Softw     1550.233544\n",
       "Smoke    12058.789384\n",
       "Telcm     3468.995172\n",
       "Mines      970.964626\n",
       "dtype: float64"
      ]
     },
     "execution_count": 29,
     "metadata": {},
     "output_type": "execute_result"
    }
   ],
   "source": [
    "size.mean()"
   ]
  },
  {
   "cell_type": "markdown",
   "metadata": {},
   "source": [
    "As seen above, the aggregation’s default is to aggregate each column.\n",
    "\n",
    "However, by using the `axis` keyword argument, you can do aggregations by\n",
    "row as well."
   ]
  },
  {
   "cell_type": "code",
   "execution_count": 30,
   "metadata": {
    "hide-output": false
   },
   "outputs": [
    {
     "data": {
      "text/plain": [
       "Date\n",
       "1926-07-31    19263.014148\n",
       "1926-08-31    19496.461081\n",
       "1926-09-30    20222.654548\n",
       "1926-10-31    20548.252614\n",
       "1926-11-30    20565.567314\n",
       "dtype: float64"
      ]
     },
     "execution_count": 30,
     "metadata": {},
     "output_type": "execute_result"
    }
   ],
   "source": [
    "size.var(axis=1).head()"
   ]
  },
  {
   "cell_type": "markdown",
   "metadata": {},
   "source": [
    "### Writing Your Own Aggregation\n",
    "\n",
    "The built-in aggregations will get us pretty far in our analysis, but\n",
    "sometimes we need more flexibility.\n",
    "\n",
    "We can have pandas perform custom aggregations by following these two\n",
    "steps:\n",
    "\n",
    "1. Write a Python function that takes a `Series` as an input and\n",
    "  outputs a single value.  \n",
    "1. Call the `agg` method with our new function as an argument.  \n",
    "\n",
    "\n",
    "For example, below, we will classify industry as “high return” or\n",
    "“low return ” based on whether their mean returns is above 1% per month"
   ]
  },
  {
   "cell_type": "code",
   "execution_count": 63,
   "metadata": {},
   "outputs": [],
   "source": [
    "returns_all = (\n",
    "    industret_raw\n",
    "    .reset_index()\n",
    "    .pivot_table(index=\"Date\", columns=\"industry\", values=\"returns\")\n",
    ")\n",
    "returns=returns_all[industries]"
   ]
  },
  {
   "cell_type": "code",
   "execution_count": 64,
   "metadata": {
    "hide-output": false
   },
   "outputs": [],
   "source": [
    "#\n",
    "# Step 1: We write the (aggregation) function that we'd like to use\n",
    "#\n",
    "def high_or_low(s):\n",
    "    \"\"\"\n",
    "    This function takes a pandas Series object and returns high\n",
    "    if the mean is above 1 and low if the mean is below 0\n",
    "    \"\"\"\n",
    "    if s.mean() < 1:\n",
    "        out = \"low\"\n",
    "    else:\n",
    "        out = \"high\"\n",
    "\n",
    "    return out"
   ]
  },
  {
   "cell_type": "code",
   "execution_count": 66,
   "metadata": {
    "hide-output": false
   },
   "outputs": [
    {
     "data": {
      "text/plain": [
       "industry\n",
       "Autos    high\n",
       "Banks    high\n",
       "Meals    high\n",
       "Softw     low\n",
       "Smoke    high\n",
       "Telcm     low\n",
       "Mines    high\n",
       "dtype: object"
      ]
     },
     "execution_count": 66,
     "metadata": {},
     "output_type": "execute_result"
    }
   ],
   "source": [
    "#\n",
    "# Step 2: Apply it via the agg method.\n",
    "#\n",
    "returns.agg(high_or_low)"
   ]
  },
  {
   "cell_type": "code",
   "execution_count": 68,
   "metadata": {
    "hide-output": false
   },
   "outputs": [
    {
     "data": {
      "text/plain": [
       "Date\n",
       "2020-11-30    high\n",
       "2020-12-31    high\n",
       "2021-01-31     low\n",
       "2021-02-28    high\n",
       "2021-03-31    high\n",
       "dtype: object"
      ]
     },
     "execution_count": 68,
     "metadata": {},
     "output_type": "execute_result"
    }
   ],
   "source": [
    "# How does this differ from returns.agg(high_or_low)?\n",
    "returns.agg(high_or_low, axis=1).tail()"
   ]
  },
  {
   "cell_type": "markdown",
   "metadata": {},
   "source": [
    "Notice that `agg` can also accept multiple functions at once."
   ]
  },
  {
   "cell_type": "code",
   "execution_count": 72,
   "metadata": {
    "hide-output": false
   },
   "outputs": [
    {
     "data": {
      "text/html": [
       "<div>\n",
       "<style scoped>\n",
       "    .dataframe tbody tr th:only-of-type {\n",
       "        vertical-align: middle;\n",
       "    }\n",
       "\n",
       "    .dataframe tbody tr th {\n",
       "        vertical-align: top;\n",
       "    }\n",
       "\n",
       "    .dataframe thead th {\n",
       "        text-align: right;\n",
       "    }\n",
       "</style>\n",
       "<table border=\"1\" class=\"dataframe\">\n",
       "  <thead>\n",
       "    <tr style=\"text-align: right;\">\n",
       "      <th></th>\n",
       "      <th>Autos</th>\n",
       "      <th>Banks</th>\n",
       "      <th>Meals</th>\n",
       "      <th>Softw</th>\n",
       "      <th>Smoke</th>\n",
       "      <th>Telcm</th>\n",
       "      <th>Mines</th>\n",
       "    </tr>\n",
       "  </thead>\n",
       "  <tbody>\n",
       "    <tr>\n",
       "      <th>min</th>\n",
       "      <td>-36.41</td>\n",
       "      <td>-34.0</td>\n",
       "      <td>-31.33</td>\n",
       "      <td>-99.99</td>\n",
       "      <td>-24.93</td>\n",
       "      <td>-21.56</td>\n",
       "      <td>-34.75</td>\n",
       "    </tr>\n",
       "    <tr>\n",
       "      <th>max</th>\n",
       "      <td>81.88</td>\n",
       "      <td>41.79</td>\n",
       "      <td>30.65</td>\n",
       "      <td>73.65</td>\n",
       "      <td>33.04</td>\n",
       "      <td>28.17</td>\n",
       "      <td>46.1</td>\n",
       "    </tr>\n",
       "    <tr>\n",
       "      <th>mean</th>\n",
       "      <td>1.181609</td>\n",
       "      <td>1.1673</td>\n",
       "      <td>1.080598</td>\n",
       "      <td>-40.541838</td>\n",
       "      <td>1.140923</td>\n",
       "      <td>0.864908</td>\n",
       "      <td>1.03496</td>\n",
       "    </tr>\n",
       "    <tr>\n",
       "      <th>std</th>\n",
       "      <td>8.22145</td>\n",
       "      <td>7.04797</td>\n",
       "      <td>6.48647</td>\n",
       "      <td>50.469517</td>\n",
       "      <td>5.822801</td>\n",
       "      <td>4.610285</td>\n",
       "      <td>7.28218</td>\n",
       "    </tr>\n",
       "    <tr>\n",
       "      <th>high_or_low</th>\n",
       "      <td>high</td>\n",
       "      <td>high</td>\n",
       "      <td>high</td>\n",
       "      <td>low</td>\n",
       "      <td>high</td>\n",
       "      <td>low</td>\n",
       "      <td>high</td>\n",
       "    </tr>\n",
       "  </tbody>\n",
       "</table>\n",
       "</div>"
      ],
      "text/plain": [
       "                Autos    Banks     Meals      Softw     Smoke     Telcm  \\\n",
       "min            -36.41    -34.0    -31.33     -99.99    -24.93    -21.56   \n",
       "max             81.88    41.79     30.65      73.65     33.04     28.17   \n",
       "mean         1.181609   1.1673  1.080598 -40.541838  1.140923  0.864908   \n",
       "std           8.22145  7.04797   6.48647  50.469517  5.822801  4.610285   \n",
       "high_or_low      high     high      high        low      high       low   \n",
       "\n",
       "               Mines  \n",
       "min           -34.75  \n",
       "max             46.1  \n",
       "mean         1.03496  \n",
       "std          7.28218  \n",
       "high_or_low     high  "
      ]
     },
     "execution_count": 72,
     "metadata": {},
     "output_type": "execute_result"
    }
   ],
   "source": [
    "returns.agg([min, max,'mean','std', high_or_low])"
   ]
  },
  {
   "cell_type": "markdown",
   "metadata": {},
   "source": [
    "## Transforms\n",
    "\n",
    "Many analytical operations do not necessarily involve an aggregation.\n",
    "\n",
    "The output of a function applied to a Series might need to be a new\n",
    "Series.\n",
    "\n",
    "Some examples:\n",
    "\n",
    "- Compute the percentage change in average firm size from month to month.  \n",
    "- Calculate the cumulative sum of elements in each column.  "
   ]
  },
  {
   "cell_type": "markdown",
   "metadata": {},
   "source": [
    "### Built-in Transforms\n",
    "\n",
    "pandas comes with many transform functions including:\n",
    "\n",
    "- Cumulative sum/max/min/product (`cum(sum|min|max|prod)`)  \n",
    "- Difference  (`diff`)  \n",
    "- Elementwise addition/subtraction/multiplication/division (`+`, `-`, `*`, `/`)  \n",
    "- Percent change (`pct_change`)  \n",
    "- Number of occurrences of each distinct value (`value_counts`)  \n",
    "- Absolute value (`abs`)  \n",
    "\n",
    "\n",
    "Again, tab completion is helpful when trying to find these functions."
   ]
  },
  {
   "cell_type": "code",
   "execution_count": 73,
   "metadata": {
    "hide-output": false
   },
   "outputs": [
    {
     "data": {
      "text/html": [
       "<div>\n",
       "<style scoped>\n",
       "    .dataframe tbody tr th:only-of-type {\n",
       "        vertical-align: middle;\n",
       "    }\n",
       "\n",
       "    .dataframe tbody tr th {\n",
       "        vertical-align: top;\n",
       "    }\n",
       "\n",
       "    .dataframe thead th {\n",
       "        text-align: right;\n",
       "    }\n",
       "</style>\n",
       "<table border=\"1\" class=\"dataframe\">\n",
       "  <thead>\n",
       "    <tr style=\"text-align: right;\">\n",
       "      <th>industry</th>\n",
       "      <th>Autos</th>\n",
       "      <th>Banks</th>\n",
       "      <th>Meals</th>\n",
       "      <th>Softw</th>\n",
       "      <th>Smoke</th>\n",
       "      <th>Telcm</th>\n",
       "      <th>Mines</th>\n",
       "    </tr>\n",
       "    <tr>\n",
       "      <th>Date</th>\n",
       "      <th></th>\n",
       "      <th></th>\n",
       "      <th></th>\n",
       "      <th></th>\n",
       "      <th></th>\n",
       "      <th></th>\n",
       "      <th></th>\n",
       "    </tr>\n",
       "  </thead>\n",
       "  <tbody>\n",
       "    <tr>\n",
       "      <th>1926-07-31</th>\n",
       "      <td>47.55</td>\n",
       "      <td>14.50</td>\n",
       "      <td>10.82</td>\n",
       "      <td>-99.99</td>\n",
       "      <td>59.72</td>\n",
       "      <td>350.36</td>\n",
       "      <td>27.74</td>\n",
       "    </tr>\n",
       "    <tr>\n",
       "      <th>1926-08-31</th>\n",
       "      <td>55.11</td>\n",
       "      <td>15.17</td>\n",
       "      <td>11.00</td>\n",
       "      <td>-99.99</td>\n",
       "      <td>60.47</td>\n",
       "      <td>353.27</td>\n",
       "      <td>29.30</td>\n",
       "    </tr>\n",
       "    <tr>\n",
       "      <th>1926-09-30</th>\n",
       "      <td>57.11</td>\n",
       "      <td>16.97</td>\n",
       "      <td>10.94</td>\n",
       "      <td>-99.99</td>\n",
       "      <td>64.03</td>\n",
       "      <td>360.96</td>\n",
       "      <td>29.45</td>\n",
       "    </tr>\n",
       "    <tr>\n",
       "      <th>1926-10-31</th>\n",
       "      <td>59.69</td>\n",
       "      <td>16.46</td>\n",
       "      <td>10.80</td>\n",
       "      <td>-99.99</td>\n",
       "      <td>64.42</td>\n",
       "      <td>364.16</td>\n",
       "      <td>29.46</td>\n",
       "    </tr>\n",
       "    <tr>\n",
       "      <th>1926-11-30</th>\n",
       "      <td>54.81</td>\n",
       "      <td>14.52</td>\n",
       "      <td>10.33</td>\n",
       "      <td>-99.99</td>\n",
       "      <td>65.08</td>\n",
       "      <td>363.74</td>\n",
       "      <td>28.51</td>\n",
       "    </tr>\n",
       "  </tbody>\n",
       "</table>\n",
       "</div>"
      ],
      "text/plain": [
       "industry    Autos  Banks  Meals  Softw  Smoke   Telcm  Mines\n",
       "Date                                                        \n",
       "1926-07-31  47.55  14.50  10.82 -99.99  59.72  350.36  27.74\n",
       "1926-08-31  55.11  15.17  11.00 -99.99  60.47  353.27  29.30\n",
       "1926-09-30  57.11  16.97  10.94 -99.99  64.03  360.96  29.45\n",
       "1926-10-31  59.69  16.46  10.80 -99.99  64.42  364.16  29.46\n",
       "1926-11-30  54.81  14.52  10.33 -99.99  65.08  363.74  28.51"
      ]
     },
     "execution_count": 73,
     "metadata": {},
     "output_type": "execute_result"
    }
   ],
   "source": [
    "size.head()"
   ]
  },
  {
   "cell_type": "code",
   "execution_count": 74,
   "metadata": {
    "hide-output": false
   },
   "outputs": [
    {
     "data": {
      "text/html": [
       "<div>\n",
       "<style scoped>\n",
       "    .dataframe tbody tr th:only-of-type {\n",
       "        vertical-align: middle;\n",
       "    }\n",
       "\n",
       "    .dataframe tbody tr th {\n",
       "        vertical-align: top;\n",
       "    }\n",
       "\n",
       "    .dataframe thead th {\n",
       "        text-align: right;\n",
       "    }\n",
       "</style>\n",
       "<table border=\"1\" class=\"dataframe\">\n",
       "  <thead>\n",
       "    <tr style=\"text-align: right;\">\n",
       "      <th>industry</th>\n",
       "      <th>Autos</th>\n",
       "      <th>Banks</th>\n",
       "      <th>Meals</th>\n",
       "      <th>Softw</th>\n",
       "      <th>Smoke</th>\n",
       "      <th>Telcm</th>\n",
       "      <th>Mines</th>\n",
       "    </tr>\n",
       "    <tr>\n",
       "      <th>Date</th>\n",
       "      <th></th>\n",
       "      <th></th>\n",
       "      <th></th>\n",
       "      <th></th>\n",
       "      <th></th>\n",
       "      <th></th>\n",
       "      <th></th>\n",
       "    </tr>\n",
       "  </thead>\n",
       "  <tbody>\n",
       "    <tr>\n",
       "      <th>1926-07-31</th>\n",
       "      <td>NaN</td>\n",
       "      <td>NaN</td>\n",
       "      <td>NaN</td>\n",
       "      <td>NaN</td>\n",
       "      <td>NaN</td>\n",
       "      <td>NaN</td>\n",
       "      <td>NaN</td>\n",
       "    </tr>\n",
       "    <tr>\n",
       "      <th>1926-08-31</th>\n",
       "      <td>0.158991</td>\n",
       "      <td>0.046207</td>\n",
       "      <td>0.016636</td>\n",
       "      <td>0.0</td>\n",
       "      <td>0.012559</td>\n",
       "      <td>0.008306</td>\n",
       "      <td>0.056236</td>\n",
       "    </tr>\n",
       "    <tr>\n",
       "      <th>1926-09-30</th>\n",
       "      <td>0.036291</td>\n",
       "      <td>0.118655</td>\n",
       "      <td>-0.005455</td>\n",
       "      <td>0.0</td>\n",
       "      <td>0.058872</td>\n",
       "      <td>0.021768</td>\n",
       "      <td>0.005119</td>\n",
       "    </tr>\n",
       "    <tr>\n",
       "      <th>1926-10-31</th>\n",
       "      <td>0.045176</td>\n",
       "      <td>-0.030053</td>\n",
       "      <td>-0.012797</td>\n",
       "      <td>0.0</td>\n",
       "      <td>0.006091</td>\n",
       "      <td>0.008865</td>\n",
       "      <td>0.000340</td>\n",
       "    </tr>\n",
       "    <tr>\n",
       "      <th>1926-11-30</th>\n",
       "      <td>-0.081756</td>\n",
       "      <td>-0.117861</td>\n",
       "      <td>-0.043519</td>\n",
       "      <td>0.0</td>\n",
       "      <td>0.010245</td>\n",
       "      <td>-0.001153</td>\n",
       "      <td>-0.032247</td>\n",
       "    </tr>\n",
       "  </tbody>\n",
       "</table>\n",
       "</div>"
      ],
      "text/plain": [
       "industry       Autos     Banks     Meals  Softw     Smoke     Telcm     Mines\n",
       "Date                                                                         \n",
       "1926-07-31       NaN       NaN       NaN    NaN       NaN       NaN       NaN\n",
       "1926-08-31  0.158991  0.046207  0.016636    0.0  0.012559  0.008306  0.056236\n",
       "1926-09-30  0.036291  0.118655 -0.005455    0.0  0.058872  0.021768  0.005119\n",
       "1926-10-31  0.045176 -0.030053 -0.012797    0.0  0.006091  0.008865  0.000340\n",
       "1926-11-30 -0.081756 -0.117861 -0.043519    0.0  0.010245 -0.001153 -0.032247"
      ]
     },
     "execution_count": 74,
     "metadata": {},
     "output_type": "execute_result"
    }
   ],
   "source": [
    "size.pct_change().head()"
   ]
  },
  {
   "cell_type": "code",
   "execution_count": 75,
   "metadata": {
    "hide-output": false
   },
   "outputs": [
    {
     "data": {
      "text/html": [
       "<div>\n",
       "<style scoped>\n",
       "    .dataframe tbody tr th:only-of-type {\n",
       "        vertical-align: middle;\n",
       "    }\n",
       "\n",
       "    .dataframe tbody tr th {\n",
       "        vertical-align: top;\n",
       "    }\n",
       "\n",
       "    .dataframe thead th {\n",
       "        text-align: right;\n",
       "    }\n",
       "</style>\n",
       "<table border=\"1\" class=\"dataframe\">\n",
       "  <thead>\n",
       "    <tr style=\"text-align: right;\">\n",
       "      <th>industry</th>\n",
       "      <th>Autos</th>\n",
       "      <th>Banks</th>\n",
       "      <th>Meals</th>\n",
       "      <th>Softw</th>\n",
       "      <th>Smoke</th>\n",
       "      <th>Telcm</th>\n",
       "      <th>Mines</th>\n",
       "    </tr>\n",
       "    <tr>\n",
       "      <th>Date</th>\n",
       "      <th></th>\n",
       "      <th></th>\n",
       "      <th></th>\n",
       "      <th></th>\n",
       "      <th></th>\n",
       "      <th></th>\n",
       "      <th></th>\n",
       "    </tr>\n",
       "  </thead>\n",
       "  <tbody>\n",
       "    <tr>\n",
       "      <th>1926-07-31</th>\n",
       "      <td>NaN</td>\n",
       "      <td>NaN</td>\n",
       "      <td>NaN</td>\n",
       "      <td>NaN</td>\n",
       "      <td>NaN</td>\n",
       "      <td>NaN</td>\n",
       "      <td>NaN</td>\n",
       "    </tr>\n",
       "    <tr>\n",
       "      <th>1926-08-31</th>\n",
       "      <td>7.56</td>\n",
       "      <td>0.67</td>\n",
       "      <td>0.18</td>\n",
       "      <td>0.0</td>\n",
       "      <td>0.75</td>\n",
       "      <td>2.91</td>\n",
       "      <td>1.56</td>\n",
       "    </tr>\n",
       "    <tr>\n",
       "      <th>1926-09-30</th>\n",
       "      <td>2.00</td>\n",
       "      <td>1.80</td>\n",
       "      <td>-0.06</td>\n",
       "      <td>0.0</td>\n",
       "      <td>3.56</td>\n",
       "      <td>7.69</td>\n",
       "      <td>0.15</td>\n",
       "    </tr>\n",
       "    <tr>\n",
       "      <th>1926-10-31</th>\n",
       "      <td>2.58</td>\n",
       "      <td>-0.51</td>\n",
       "      <td>-0.14</td>\n",
       "      <td>0.0</td>\n",
       "      <td>0.39</td>\n",
       "      <td>3.20</td>\n",
       "      <td>0.01</td>\n",
       "    </tr>\n",
       "    <tr>\n",
       "      <th>1926-11-30</th>\n",
       "      <td>-4.88</td>\n",
       "      <td>-1.94</td>\n",
       "      <td>-0.47</td>\n",
       "      <td>0.0</td>\n",
       "      <td>0.66</td>\n",
       "      <td>-0.42</td>\n",
       "      <td>-0.95</td>\n",
       "    </tr>\n",
       "  </tbody>\n",
       "</table>\n",
       "</div>"
      ],
      "text/plain": [
       "industry    Autos  Banks  Meals  Softw  Smoke  Telcm  Mines\n",
       "Date                                                       \n",
       "1926-07-31    NaN    NaN    NaN    NaN    NaN    NaN    NaN\n",
       "1926-08-31   7.56   0.67   0.18    0.0   0.75   2.91   1.56\n",
       "1926-09-30   2.00   1.80  -0.06    0.0   3.56   7.69   0.15\n",
       "1926-10-31   2.58  -0.51  -0.14    0.0   0.39   3.20   0.01\n",
       "1926-11-30  -4.88  -1.94  -0.47    0.0   0.66  -0.42  -0.95"
      ]
     },
     "execution_count": 75,
     "metadata": {},
     "output_type": "execute_result"
    }
   ],
   "source": [
    "size.diff().head()"
   ]
  },
  {
   "cell_type": "markdown",
   "metadata": {},
   "source": [
    "Transforms can be split into to several main categories:\n",
    "\n",
    "1. *Series transforms*: functions that take in one Series and produce another Series. The index of the input and output does not need to be the same.  \n",
    "1. *Scalar transforms*: functions that take a single value and produce a single value. An example is the `abs` method, or adding a constant to each value of a Series.  "
   ]
  },
  {
   "cell_type": "markdown",
   "metadata": {},
   "source": [
    "### Custom Series Transforms\n",
    "\n",
    "pandas also simplifies applying custom Series transforms to a Series or the\n",
    "columns of a DataFrame. The steps are:\n",
    "\n",
    "1. Write a Python function that takes a Series and outputs a new Series.  \n",
    "1. Pass our new function as an argument to the `apply` method (alternatively, the `transform` method).  \n",
    "\n",
    "\n",
    "As an example, we will standardize our return data to have mean 0\n",
    "and standard deviation 1.\n",
    "\n",
    "After doing this, we can use an aggregation to determine at which date the\n",
    "return is most different from “normal times” for each state."
   ]
  },
  {
   "cell_type": "code",
   "execution_count": 76,
   "metadata": {
    "hide-output": false
   },
   "outputs": [],
   "source": [
    "#\n",
    "# Step 1: We write the Series transform function that we'd like to use\n",
    "#\n",
    "def standardize_data(x):\n",
    "    \"\"\"\n",
    "    Changes the data in a Series to become mean 0 with standard deviation 1\n",
    "    \"\"\"\n",
    "    mu = x.mean()\n",
    "    std = x.std()\n",
    "\n",
    "    return (x - mu)/std"
   ]
  },
  {
   "cell_type": "code",
   "execution_count": 78,
   "metadata": {
    "hide-output": false
   },
   "outputs": [
    {
     "data": {
      "text/html": [
       "<div>\n",
       "<style scoped>\n",
       "    .dataframe tbody tr th:only-of-type {\n",
       "        vertical-align: middle;\n",
       "    }\n",
       "\n",
       "    .dataframe tbody tr th {\n",
       "        vertical-align: top;\n",
       "    }\n",
       "\n",
       "    .dataframe thead th {\n",
       "        text-align: right;\n",
       "    }\n",
       "</style>\n",
       "<table border=\"1\" class=\"dataframe\">\n",
       "  <thead>\n",
       "    <tr style=\"text-align: right;\">\n",
       "      <th>industry</th>\n",
       "      <th>Autos</th>\n",
       "      <th>Banks</th>\n",
       "      <th>Meals</th>\n",
       "      <th>Softw</th>\n",
       "      <th>Smoke</th>\n",
       "      <th>Telcm</th>\n",
       "      <th>Mines</th>\n",
       "    </tr>\n",
       "    <tr>\n",
       "      <th>Date</th>\n",
       "      <th></th>\n",
       "      <th></th>\n",
       "      <th></th>\n",
       "      <th></th>\n",
       "      <th></th>\n",
       "      <th></th>\n",
       "      <th></th>\n",
       "    </tr>\n",
       "  </thead>\n",
       "  <tbody>\n",
       "    <tr>\n",
       "      <th>1926-07-31</th>\n",
       "      <td>1.849843</td>\n",
       "      <td>0.488467</td>\n",
       "      <td>0.121700</td>\n",
       "      <td>-1.177902</td>\n",
       "      <td>0.025602</td>\n",
       "      <td>-0.007572</td>\n",
       "      <td>0.632371</td>\n",
       "    </tr>\n",
       "    <tr>\n",
       "      <th>1926-08-31</th>\n",
       "      <td>0.370785</td>\n",
       "      <td>1.512875</td>\n",
       "      <td>-0.186634</td>\n",
       "      <td>-1.177902</td>\n",
       "      <td>0.920361</td>\n",
       "      <td>0.283083</td>\n",
       "      <td>-0.066595</td>\n",
       "    </tr>\n",
       "    <tr>\n",
       "      <th>1926-09-30</th>\n",
       "      <td>0.443765</td>\n",
       "      <td>-0.413921</td>\n",
       "      <td>-0.252926</td>\n",
       "      <td>-1.177902</td>\n",
       "      <td>0.020450</td>\n",
       "      <td>0.335140</td>\n",
       "      <td>0.096817</td>\n",
       "    </tr>\n",
       "    <tr>\n",
       "      <th>1926-10-31</th>\n",
       "      <td>-1.108273</td>\n",
       "      <td>-1.842701</td>\n",
       "      <td>-0.800219</td>\n",
       "      <td>-1.177902</td>\n",
       "      <td>-0.013898</td>\n",
       "      <td>-0.211464</td>\n",
       "      <td>-0.581551</td>\n",
       "    </tr>\n",
       "    <tr>\n",
       "      <th>1926-11-30</th>\n",
       "      <td>-0.224001</td>\n",
       "      <td>-0.587020</td>\n",
       "      <td>0.500951</td>\n",
       "      <td>-1.177902</td>\n",
       "      <td>0.585470</td>\n",
       "      <td>0.165953</td>\n",
       "      <td>1.019618</td>\n",
       "    </tr>\n",
       "  </tbody>\n",
       "</table>\n",
       "</div>"
      ],
      "text/plain": [
       "industry       Autos     Banks     Meals     Softw     Smoke     Telcm  \\\n",
       "Date                                                                     \n",
       "1926-07-31  1.849843  0.488467  0.121700 -1.177902  0.025602 -0.007572   \n",
       "1926-08-31  0.370785  1.512875 -0.186634 -1.177902  0.920361  0.283083   \n",
       "1926-09-30  0.443765 -0.413921 -0.252926 -1.177902  0.020450  0.335140   \n",
       "1926-10-31 -1.108273 -1.842701 -0.800219 -1.177902 -0.013898 -0.211464   \n",
       "1926-11-30 -0.224001 -0.587020  0.500951 -1.177902  0.585470  0.165953   \n",
       "\n",
       "industry       Mines  \n",
       "Date                  \n",
       "1926-07-31  0.632371  \n",
       "1926-08-31 -0.066595  \n",
       "1926-09-30  0.096817  \n",
       "1926-10-31 -0.581551  \n",
       "1926-11-30  1.019618  "
      ]
     },
     "execution_count": 78,
     "metadata": {},
     "output_type": "execute_result"
    }
   ],
   "source": [
    "#\n",
    "# Step 2: Apply our function via the apply method.\n",
    "#\n",
    "std_returns = returns.apply(standardize_data)\n",
    "std_returns.head()"
   ]
  },
  {
   "cell_type": "code",
   "execution_count": 79,
   "metadata": {
    "hide-output": false
   },
   "outputs": [
    {
     "data": {
      "text/html": [
       "<div>\n",
       "<style scoped>\n",
       "    .dataframe tbody tr th:only-of-type {\n",
       "        vertical-align: middle;\n",
       "    }\n",
       "\n",
       "    .dataframe tbody tr th {\n",
       "        vertical-align: top;\n",
       "    }\n",
       "\n",
       "    .dataframe thead th {\n",
       "        text-align: right;\n",
       "    }\n",
       "</style>\n",
       "<table border=\"1\" class=\"dataframe\">\n",
       "  <thead>\n",
       "    <tr style=\"text-align: right;\">\n",
       "      <th>industry</th>\n",
       "      <th>Autos</th>\n",
       "      <th>Banks</th>\n",
       "      <th>Meals</th>\n",
       "      <th>Softw</th>\n",
       "      <th>Smoke</th>\n",
       "      <th>Telcm</th>\n",
       "      <th>Mines</th>\n",
       "    </tr>\n",
       "    <tr>\n",
       "      <th>Date</th>\n",
       "      <th></th>\n",
       "      <th></th>\n",
       "      <th></th>\n",
       "      <th></th>\n",
       "      <th></th>\n",
       "      <th></th>\n",
       "      <th></th>\n",
       "    </tr>\n",
       "  </thead>\n",
       "  <tbody>\n",
       "    <tr>\n",
       "      <th>1926-07-31</th>\n",
       "      <td>1.849843</td>\n",
       "      <td>0.488467</td>\n",
       "      <td>0.121700</td>\n",
       "      <td>1.177902</td>\n",
       "      <td>0.025602</td>\n",
       "      <td>0.007572</td>\n",
       "      <td>0.632371</td>\n",
       "    </tr>\n",
       "    <tr>\n",
       "      <th>1926-08-31</th>\n",
       "      <td>0.370785</td>\n",
       "      <td>1.512875</td>\n",
       "      <td>0.186634</td>\n",
       "      <td>1.177902</td>\n",
       "      <td>0.920361</td>\n",
       "      <td>0.283083</td>\n",
       "      <td>0.066595</td>\n",
       "    </tr>\n",
       "    <tr>\n",
       "      <th>1926-09-30</th>\n",
       "      <td>0.443765</td>\n",
       "      <td>0.413921</td>\n",
       "      <td>0.252926</td>\n",
       "      <td>1.177902</td>\n",
       "      <td>0.020450</td>\n",
       "      <td>0.335140</td>\n",
       "      <td>0.096817</td>\n",
       "    </tr>\n",
       "    <tr>\n",
       "      <th>1926-10-31</th>\n",
       "      <td>1.108273</td>\n",
       "      <td>1.842701</td>\n",
       "      <td>0.800219</td>\n",
       "      <td>1.177902</td>\n",
       "      <td>0.013898</td>\n",
       "      <td>0.211464</td>\n",
       "      <td>0.581551</td>\n",
       "    </tr>\n",
       "    <tr>\n",
       "      <th>1926-11-30</th>\n",
       "      <td>0.224001</td>\n",
       "      <td>0.587020</td>\n",
       "      <td>0.500951</td>\n",
       "      <td>1.177902</td>\n",
       "      <td>0.585470</td>\n",
       "      <td>0.165953</td>\n",
       "      <td>1.019618</td>\n",
       "    </tr>\n",
       "  </tbody>\n",
       "</table>\n",
       "</div>"
      ],
      "text/plain": [
       "industry       Autos     Banks     Meals     Softw     Smoke     Telcm  \\\n",
       "Date                                                                     \n",
       "1926-07-31  1.849843  0.488467  0.121700  1.177902  0.025602  0.007572   \n",
       "1926-08-31  0.370785  1.512875  0.186634  1.177902  0.920361  0.283083   \n",
       "1926-09-30  0.443765  0.413921  0.252926  1.177902  0.020450  0.335140   \n",
       "1926-10-31  1.108273  1.842701  0.800219  1.177902  0.013898  0.211464   \n",
       "1926-11-30  0.224001  0.587020  0.500951  1.177902  0.585470  0.165953   \n",
       "\n",
       "industry       Mines  \n",
       "Date                  \n",
       "1926-07-31  0.632371  \n",
       "1926-08-31  0.066595  \n",
       "1926-09-30  0.096817  \n",
       "1926-10-31  0.581551  \n",
       "1926-11-30  1.019618  "
      ]
     },
     "execution_count": 79,
     "metadata": {},
     "output_type": "execute_result"
    }
   ],
   "source": [
    "# Takes the absolute value of all elements of a function\n",
    "abs_std_returns = std_returns.abs()\n",
    "\n",
    "abs_std_returns.head()"
   ]
  },
  {
   "cell_type": "code",
   "execution_count": 80,
   "metadata": {
    "hide-output": false
   },
   "outputs": [
    {
     "data": {
      "text/plain": [
       "industry\n",
       "Autos   1933-04-30\n",
       "Banks   1933-04-30\n",
       "Meals   1973-11-30\n",
       "Softw   1970-09-30\n",
       "Smoke   1933-04-30\n",
       "Telcm   1932-08-31\n",
       "Mines   1932-07-31\n",
       "dtype: datetime64[ns]"
      ]
     },
     "execution_count": 80,
     "metadata": {},
     "output_type": "execute_result"
    }
   ],
   "source": [
    "# find the date when returns was \"most different from normal\" for each industry\n",
    "def idxmax(x):\n",
    "    # idxmax of Series will return index of maximal value\n",
    "    return x.idxmax()\n",
    "\n",
    "abs_std_returns.agg(idxmax)"
   ]
  },
  {
   "cell_type": "markdown",
   "metadata": {},
   "source": [
    "### Custom Scalar Transforms\n",
    "\n",
    "As you may have predicted, we can also apply custom scalar transforms to our\n",
    "pandas data.\n",
    "\n",
    "To do this, we use the following pattern:\n",
    "\n",
    "1. Define a Python function that takes in a scalar and produces a scalar.  \n",
    "1. Pass this function as an argument to the `applymap` Series or DataFrame method.  \n",
    "\n",
    "\n"
   ]
  },
  {
   "cell_type": "markdown",
   "metadata": {},
   "source": [
    "## Boolean Selection\n",
    "\n",
    "We have seen how we can select subsets of data by referring to the index\n",
    "or column names.\n",
    "\n",
    "However, we often want to select based on conditions met by\n",
    "the data itself.\n",
    "\n",
    "Some examples are:\n",
    "\n",
    "- Restrict analysis to all individuals older than 18.  \n",
    "- Look at data that corresponds to particular time periods.  \n",
    "- Analyze only data that corresponds to a recession.  \n",
    "- Obtain data for a specific product or customer ID.  \n",
    "\n",
    "\n",
    "We will be able to do this by using a Series or list of boolean values\n",
    "to index into a Series or DataFrame.\n",
    "\n",
    "Let’s look at some examples."
   ]
  },
  {
   "cell_type": "code",
   "execution_count": 83,
   "metadata": {
    "hide-output": false
   },
   "outputs": [
    {
     "data": {
      "text/html": [
       "<div>\n",
       "<style scoped>\n",
       "    .dataframe tbody tr th:only-of-type {\n",
       "        vertical-align: middle;\n",
       "    }\n",
       "\n",
       "    .dataframe tbody tr th {\n",
       "        vertical-align: top;\n",
       "    }\n",
       "\n",
       "    .dataframe thead th {\n",
       "        text-align: right;\n",
       "    }\n",
       "</style>\n",
       "<table border=\"1\" class=\"dataframe\">\n",
       "  <thead>\n",
       "    <tr style=\"text-align: right;\">\n",
       "      <th>industry</th>\n",
       "      <th>Autos</th>\n",
       "      <th>Banks</th>\n",
       "      <th>Meals</th>\n",
       "      <th>Softw</th>\n",
       "      <th>Smoke</th>\n",
       "      <th>Telcm</th>\n",
       "      <th>Mines</th>\n",
       "    </tr>\n",
       "    <tr>\n",
       "      <th>Date</th>\n",
       "      <th></th>\n",
       "      <th></th>\n",
       "      <th></th>\n",
       "      <th></th>\n",
       "      <th></th>\n",
       "      <th></th>\n",
       "      <th></th>\n",
       "    </tr>\n",
       "  </thead>\n",
       "  <tbody>\n",
       "    <tr>\n",
       "      <th>1926-07-31</th>\n",
       "      <td>47.55</td>\n",
       "      <td>14.50</td>\n",
       "      <td>10.82</td>\n",
       "      <td>-99.99</td>\n",
       "      <td>59.72</td>\n",
       "      <td>350.36</td>\n",
       "      <td>27.74</td>\n",
       "    </tr>\n",
       "    <tr>\n",
       "      <th>1926-08-31</th>\n",
       "      <td>55.11</td>\n",
       "      <td>15.17</td>\n",
       "      <td>11.00</td>\n",
       "      <td>-99.99</td>\n",
       "      <td>60.47</td>\n",
       "      <td>353.27</td>\n",
       "      <td>29.30</td>\n",
       "    </tr>\n",
       "    <tr>\n",
       "      <th>1926-09-30</th>\n",
       "      <td>57.11</td>\n",
       "      <td>16.97</td>\n",
       "      <td>10.94</td>\n",
       "      <td>-99.99</td>\n",
       "      <td>64.03</td>\n",
       "      <td>360.96</td>\n",
       "      <td>29.45</td>\n",
       "    </tr>\n",
       "    <tr>\n",
       "      <th>1926-10-31</th>\n",
       "      <td>59.69</td>\n",
       "      <td>16.46</td>\n",
       "      <td>10.80</td>\n",
       "      <td>-99.99</td>\n",
       "      <td>64.42</td>\n",
       "      <td>364.16</td>\n",
       "      <td>29.46</td>\n",
       "    </tr>\n",
       "    <tr>\n",
       "      <th>1926-11-30</th>\n",
       "      <td>54.81</td>\n",
       "      <td>14.52</td>\n",
       "      <td>10.33</td>\n",
       "      <td>-99.99</td>\n",
       "      <td>65.08</td>\n",
       "      <td>363.74</td>\n",
       "      <td>28.51</td>\n",
       "    </tr>\n",
       "  </tbody>\n",
       "</table>\n",
       "</div>"
      ],
      "text/plain": [
       "industry    Autos  Banks  Meals  Softw  Smoke   Telcm  Mines\n",
       "Date                                                        \n",
       "1926-07-31  47.55  14.50  10.82 -99.99  59.72  350.36  27.74\n",
       "1926-08-31  55.11  15.17  11.00 -99.99  60.47  353.27  29.30\n",
       "1926-09-30  57.11  16.97  10.94 -99.99  64.03  360.96  29.45\n",
       "1926-10-31  59.69  16.46  10.80 -99.99  64.42  364.16  29.46\n",
       "1926-11-30  54.81  14.52  10.33 -99.99  65.08  363.74  28.51"
      ]
     },
     "execution_count": 83,
     "metadata": {},
     "output_type": "execute_result"
    }
   ],
   "source": [
    "size_small = size.head()  # Create smaller data so we can see what's happening\n",
    "size_small"
   ]
  },
  {
   "cell_type": "code",
   "execution_count": 84,
   "metadata": {
    "hide-output": false
   },
   "outputs": [
    {
     "data": {
      "text/html": [
       "<div>\n",
       "<style scoped>\n",
       "    .dataframe tbody tr th:only-of-type {\n",
       "        vertical-align: middle;\n",
       "    }\n",
       "\n",
       "    .dataframe tbody tr th {\n",
       "        vertical-align: top;\n",
       "    }\n",
       "\n",
       "    .dataframe thead th {\n",
       "        text-align: right;\n",
       "    }\n",
       "</style>\n",
       "<table border=\"1\" class=\"dataframe\">\n",
       "  <thead>\n",
       "    <tr style=\"text-align: right;\">\n",
       "      <th>industry</th>\n",
       "      <th>Autos</th>\n",
       "      <th>Banks</th>\n",
       "      <th>Meals</th>\n",
       "      <th>Softw</th>\n",
       "      <th>Smoke</th>\n",
       "      <th>Telcm</th>\n",
       "      <th>Mines</th>\n",
       "    </tr>\n",
       "    <tr>\n",
       "      <th>Date</th>\n",
       "      <th></th>\n",
       "      <th></th>\n",
       "      <th></th>\n",
       "      <th></th>\n",
       "      <th></th>\n",
       "      <th></th>\n",
       "      <th></th>\n",
       "    </tr>\n",
       "  </thead>\n",
       "  <tbody>\n",
       "    <tr>\n",
       "      <th>1926-07-31</th>\n",
       "      <td>47.55</td>\n",
       "      <td>14.50</td>\n",
       "      <td>10.82</td>\n",
       "      <td>-99.99</td>\n",
       "      <td>59.72</td>\n",
       "      <td>350.36</td>\n",
       "      <td>27.74</td>\n",
       "    </tr>\n",
       "    <tr>\n",
       "      <th>1926-08-31</th>\n",
       "      <td>55.11</td>\n",
       "      <td>15.17</td>\n",
       "      <td>11.00</td>\n",
       "      <td>-99.99</td>\n",
       "      <td>60.47</td>\n",
       "      <td>353.27</td>\n",
       "      <td>29.30</td>\n",
       "    </tr>\n",
       "    <tr>\n",
       "      <th>1926-09-30</th>\n",
       "      <td>57.11</td>\n",
       "      <td>16.97</td>\n",
       "      <td>10.94</td>\n",
       "      <td>-99.99</td>\n",
       "      <td>64.03</td>\n",
       "      <td>360.96</td>\n",
       "      <td>29.45</td>\n",
       "    </tr>\n",
       "  </tbody>\n",
       "</table>\n",
       "</div>"
      ],
      "text/plain": [
       "industry    Autos  Banks  Meals  Softw  Smoke   Telcm  Mines\n",
       "Date                                                        \n",
       "1926-07-31  47.55  14.50  10.82 -99.99  59.72  350.36  27.74\n",
       "1926-08-31  55.11  15.17  11.00 -99.99  60.47  353.27  29.30\n",
       "1926-09-30  57.11  16.97  10.94 -99.99  64.03  360.96  29.45"
      ]
     },
     "execution_count": 84,
     "metadata": {},
     "output_type": "execute_result"
    }
   ],
   "source": [
    "# list of booleans selects rows\n",
    "size_small.loc[[True, True, True, False, False]]"
   ]
  },
  {
   "cell_type": "code",
   "execution_count": 85,
   "metadata": {
    "hide-output": false
   },
   "outputs": [
    {
     "data": {
      "text/html": [
       "<div>\n",
       "<style scoped>\n",
       "    .dataframe tbody tr th:only-of-type {\n",
       "        vertical-align: middle;\n",
       "    }\n",
       "\n",
       "    .dataframe tbody tr th {\n",
       "        vertical-align: top;\n",
       "    }\n",
       "\n",
       "    .dataframe thead th {\n",
       "        text-align: right;\n",
       "    }\n",
       "</style>\n",
       "<table border=\"1\" class=\"dataframe\">\n",
       "  <thead>\n",
       "    <tr style=\"text-align: right;\">\n",
       "      <th>industry</th>\n",
       "      <th>Autos</th>\n",
       "      <th>Banks</th>\n",
       "      <th>Meals</th>\n",
       "      <th>Softw</th>\n",
       "      <th>Smoke</th>\n",
       "      <th>Telcm</th>\n",
       "      <th>Mines</th>\n",
       "    </tr>\n",
       "    <tr>\n",
       "      <th>Date</th>\n",
       "      <th></th>\n",
       "      <th></th>\n",
       "      <th></th>\n",
       "      <th></th>\n",
       "      <th></th>\n",
       "      <th></th>\n",
       "      <th></th>\n",
       "    </tr>\n",
       "  </thead>\n",
       "  <tbody>\n",
       "    <tr>\n",
       "      <th>1926-07-31</th>\n",
       "      <td>47.55</td>\n",
       "      <td>14.50</td>\n",
       "      <td>10.82</td>\n",
       "      <td>-99.99</td>\n",
       "      <td>59.72</td>\n",
       "      <td>350.36</td>\n",
       "      <td>27.74</td>\n",
       "    </tr>\n",
       "    <tr>\n",
       "      <th>1926-09-30</th>\n",
       "      <td>57.11</td>\n",
       "      <td>16.97</td>\n",
       "      <td>10.94</td>\n",
       "      <td>-99.99</td>\n",
       "      <td>64.03</td>\n",
       "      <td>360.96</td>\n",
       "      <td>29.45</td>\n",
       "    </tr>\n",
       "    <tr>\n",
       "      <th>1926-11-30</th>\n",
       "      <td>54.81</td>\n",
       "      <td>14.52</td>\n",
       "      <td>10.33</td>\n",
       "      <td>-99.99</td>\n",
       "      <td>65.08</td>\n",
       "      <td>363.74</td>\n",
       "      <td>28.51</td>\n",
       "    </tr>\n",
       "  </tbody>\n",
       "</table>\n",
       "</div>"
      ],
      "text/plain": [
       "industry    Autos  Banks  Meals  Softw  Smoke   Telcm  Mines\n",
       "Date                                                        \n",
       "1926-07-31  47.55  14.50  10.82 -99.99  59.72  350.36  27.74\n",
       "1926-09-30  57.11  16.97  10.94 -99.99  64.03  360.96  29.45\n",
       "1926-11-30  54.81  14.52  10.33 -99.99  65.08  363.74  28.51"
      ]
     },
     "execution_count": 85,
     "metadata": {},
     "output_type": "execute_result"
    }
   ],
   "source": [
    "# second argument selects columns, the  ``:``  means \"all\".\n",
    "# here we use it to select all columns\n",
    "size_small.loc[[True, False, True, False, True], :]"
   ]
  },
  {
   "cell_type": "code",
   "execution_count": 86,
   "metadata": {
    "hide-output": false
   },
   "outputs": [
    {
     "data": {
      "text/html": [
       "<div>\n",
       "<style scoped>\n",
       "    .dataframe tbody tr th:only-of-type {\n",
       "        vertical-align: middle;\n",
       "    }\n",
       "\n",
       "    .dataframe tbody tr th {\n",
       "        vertical-align: top;\n",
       "    }\n",
       "\n",
       "    .dataframe thead th {\n",
       "        text-align: right;\n",
       "    }\n",
       "</style>\n",
       "<table border=\"1\" class=\"dataframe\">\n",
       "  <thead>\n",
       "    <tr style=\"text-align: right;\">\n",
       "      <th>industry</th>\n",
       "      <th>Autos</th>\n",
       "      <th>Telcm</th>\n",
       "      <th>Mines</th>\n",
       "    </tr>\n",
       "    <tr>\n",
       "      <th>Date</th>\n",
       "      <th></th>\n",
       "      <th></th>\n",
       "      <th></th>\n",
       "    </tr>\n",
       "  </thead>\n",
       "  <tbody>\n",
       "    <tr>\n",
       "      <th>1926-07-31</th>\n",
       "      <td>47.55</td>\n",
       "      <td>350.36</td>\n",
       "      <td>27.74</td>\n",
       "    </tr>\n",
       "    <tr>\n",
       "      <th>1926-08-31</th>\n",
       "      <td>55.11</td>\n",
       "      <td>353.27</td>\n",
       "      <td>29.30</td>\n",
       "    </tr>\n",
       "    <tr>\n",
       "      <th>1926-09-30</th>\n",
       "      <td>57.11</td>\n",
       "      <td>360.96</td>\n",
       "      <td>29.45</td>\n",
       "    </tr>\n",
       "  </tbody>\n",
       "</table>\n",
       "</div>"
      ],
      "text/plain": [
       "industry    Autos   Telcm  Mines\n",
       "Date                            \n",
       "1926-07-31  47.55  350.36  27.74\n",
       "1926-08-31  55.11  353.27  29.30\n",
       "1926-09-30  57.11  360.96  29.45"
      ]
     },
     "execution_count": 86,
     "metadata": {},
     "output_type": "execute_result"
    }
   ],
   "source": [
    "# can use booleans to select both rows and columns\n",
    "size_small.loc[[True, True, True, False, False], [True, False, False, False, False, True, True]]"
   ]
  },
  {
   "cell_type": "markdown",
   "metadata": {},
   "source": [
    "### Creating Boolean DataFrames/Series\n",
    "\n",
    "We can use [conditional statements](../python_fundamentals/control_flow.ipynb) to\n",
    "construct Series of booleans from our data."
   ]
  },
  {
   "cell_type": "code",
   "execution_count": 90,
   "metadata": {
    "hide-output": false
   },
   "outputs": [
    {
     "data": {
      "text/plain": [
       "Date\n",
       "1926-07-31     True\n",
       "1926-08-31    False\n",
       "1926-09-30    False\n",
       "1926-10-31    False\n",
       "1926-11-30     True\n",
       "Name: Autos, dtype: bool"
      ]
     },
     "execution_count": 90,
     "metadata": {},
     "output_type": "execute_result"
    }
   ],
   "source": [
    "size_small[\"Autos\"] <55"
   ]
  },
  {
   "cell_type": "markdown",
   "metadata": {},
   "source": [
    "Once we have our Series of bools, we can use it to extract subsets of\n",
    "rows from our DataFrame."
   ]
  },
  {
   "cell_type": "code",
   "execution_count": 91,
   "metadata": {
    "hide-output": false
   },
   "outputs": [
    {
     "data": {
      "text/html": [
       "<div>\n",
       "<style scoped>\n",
       "    .dataframe tbody tr th:only-of-type {\n",
       "        vertical-align: middle;\n",
       "    }\n",
       "\n",
       "    .dataframe tbody tr th {\n",
       "        vertical-align: top;\n",
       "    }\n",
       "\n",
       "    .dataframe thead th {\n",
       "        text-align: right;\n",
       "    }\n",
       "</style>\n",
       "<table border=\"1\" class=\"dataframe\">\n",
       "  <thead>\n",
       "    <tr style=\"text-align: right;\">\n",
       "      <th>industry</th>\n",
       "      <th>Autos</th>\n",
       "      <th>Banks</th>\n",
       "      <th>Meals</th>\n",
       "      <th>Softw</th>\n",
       "      <th>Smoke</th>\n",
       "      <th>Telcm</th>\n",
       "      <th>Mines</th>\n",
       "    </tr>\n",
       "    <tr>\n",
       "      <th>Date</th>\n",
       "      <th></th>\n",
       "      <th></th>\n",
       "      <th></th>\n",
       "      <th></th>\n",
       "      <th></th>\n",
       "      <th></th>\n",
       "      <th></th>\n",
       "    </tr>\n",
       "  </thead>\n",
       "  <tbody>\n",
       "    <tr>\n",
       "      <th>1926-07-31</th>\n",
       "      <td>47.55</td>\n",
       "      <td>14.50</td>\n",
       "      <td>10.82</td>\n",
       "      <td>-99.99</td>\n",
       "      <td>59.72</td>\n",
       "      <td>350.36</td>\n",
       "      <td>27.74</td>\n",
       "    </tr>\n",
       "    <tr>\n",
       "      <th>1926-11-30</th>\n",
       "      <td>54.81</td>\n",
       "      <td>14.52</td>\n",
       "      <td>10.33</td>\n",
       "      <td>-99.99</td>\n",
       "      <td>65.08</td>\n",
       "      <td>363.74</td>\n",
       "      <td>28.51</td>\n",
       "    </tr>\n",
       "  </tbody>\n",
       "</table>\n",
       "</div>"
      ],
      "text/plain": [
       "industry    Autos  Banks  Meals  Softw  Smoke   Telcm  Mines\n",
       "Date                                                        \n",
       "1926-07-31  47.55  14.50  10.82 -99.99  59.72  350.36  27.74\n",
       "1926-11-30  54.81  14.52  10.33 -99.99  65.08  363.74  28.51"
      ]
     },
     "execution_count": 91,
     "metadata": {},
     "output_type": "execute_result"
    }
   ],
   "source": [
    "size_small.loc[size_small[\"Autos\"] < 55]"
   ]
  },
  {
   "cell_type": "code",
   "execution_count": 93,
   "metadata": {
    "hide-output": false
   },
   "outputs": [
    {
     "data": {
      "text/plain": [
       "Date\n",
       "1926-07-31    False\n",
       "1926-08-31    False\n",
       "1926-09-30    False\n",
       "1926-10-31    False\n",
       "1926-11-30    False\n",
       "dtype: bool"
      ]
     },
     "execution_count": 93,
     "metadata": {},
     "output_type": "execute_result"
    }
   ],
   "source": [
    "size_small[\"Banks\"] > size_small[\"Autos\"]"
   ]
  },
  {
   "cell_type": "code",
   "execution_count": 94,
   "metadata": {
    "hide-output": false
   },
   "outputs": [
    {
     "data": {
      "text/html": [
       "<div>\n",
       "<style scoped>\n",
       "    .dataframe tbody tr th:only-of-type {\n",
       "        vertical-align: middle;\n",
       "    }\n",
       "\n",
       "    .dataframe tbody tr th {\n",
       "        vertical-align: top;\n",
       "    }\n",
       "\n",
       "    .dataframe thead th {\n",
       "        text-align: right;\n",
       "    }\n",
       "</style>\n",
       "<table border=\"1\" class=\"dataframe\">\n",
       "  <thead>\n",
       "    <tr style=\"text-align: right;\">\n",
       "      <th>industry</th>\n",
       "      <th>Autos</th>\n",
       "      <th>Banks</th>\n",
       "      <th>Meals</th>\n",
       "      <th>Softw</th>\n",
       "      <th>Smoke</th>\n",
       "      <th>Telcm</th>\n",
       "      <th>Mines</th>\n",
       "    </tr>\n",
       "    <tr>\n",
       "      <th>Date</th>\n",
       "      <th></th>\n",
       "      <th></th>\n",
       "      <th></th>\n",
       "      <th></th>\n",
       "      <th></th>\n",
       "      <th></th>\n",
       "      <th></th>\n",
       "    </tr>\n",
       "  </thead>\n",
       "  <tbody>\n",
       "    <tr>\n",
       "      <th>1926-07-31</th>\n",
       "      <td>47.55</td>\n",
       "      <td>14.50</td>\n",
       "      <td>10.82</td>\n",
       "      <td>-99.99</td>\n",
       "      <td>59.72</td>\n",
       "      <td>350.36</td>\n",
       "      <td>27.74</td>\n",
       "    </tr>\n",
       "    <tr>\n",
       "      <th>1926-08-31</th>\n",
       "      <td>55.11</td>\n",
       "      <td>15.17</td>\n",
       "      <td>11.00</td>\n",
       "      <td>-99.99</td>\n",
       "      <td>60.47</td>\n",
       "      <td>353.27</td>\n",
       "      <td>29.30</td>\n",
       "    </tr>\n",
       "    <tr>\n",
       "      <th>1926-09-30</th>\n",
       "      <td>57.11</td>\n",
       "      <td>16.97</td>\n",
       "      <td>10.94</td>\n",
       "      <td>-99.99</td>\n",
       "      <td>64.03</td>\n",
       "      <td>360.96</td>\n",
       "      <td>29.45</td>\n",
       "    </tr>\n",
       "    <tr>\n",
       "      <th>1926-10-31</th>\n",
       "      <td>59.69</td>\n",
       "      <td>16.46</td>\n",
       "      <td>10.80</td>\n",
       "      <td>-99.99</td>\n",
       "      <td>64.42</td>\n",
       "      <td>364.16</td>\n",
       "      <td>29.46</td>\n",
       "    </tr>\n",
       "    <tr>\n",
       "      <th>1926-11-30</th>\n",
       "      <td>54.81</td>\n",
       "      <td>14.52</td>\n",
       "      <td>10.33</td>\n",
       "      <td>-99.99</td>\n",
       "      <td>65.08</td>\n",
       "      <td>363.74</td>\n",
       "      <td>28.51</td>\n",
       "    </tr>\n",
       "  </tbody>\n",
       "</table>\n",
       "</div>"
      ],
      "text/plain": [
       "industry    Autos  Banks  Meals  Softw  Smoke   Telcm  Mines\n",
       "Date                                                        \n",
       "1926-07-31  47.55  14.50  10.82 -99.99  59.72  350.36  27.74\n",
       "1926-08-31  55.11  15.17  11.00 -99.99  60.47  353.27  29.30\n",
       "1926-09-30  57.11  16.97  10.94 -99.99  64.03  360.96  29.45\n",
       "1926-10-31  59.69  16.46  10.80 -99.99  64.42  364.16  29.46\n",
       "1926-11-30  54.81  14.52  10.33 -99.99  65.08  363.74  28.51"
      ]
     },
     "execution_count": 94,
     "metadata": {},
     "output_type": "execute_result"
    }
   ],
   "source": [
    "big_Autos = size_small[\"Autos\"] > size_small[\"Banks\"]\n",
    "size_small.loc[big_Autos]"
   ]
  },
  {
   "cell_type": "markdown",
   "metadata": {},
   "source": [
    "#### Multiple Conditions\n",
    "\n",
    "In the boolean section of the [basics lecture](../python_fundamentals/basics.ipynb), we saw\n",
    "that we can use the words `and` and `or` to combine multiple booleans into\n",
    "a single bool.\n",
    "\n",
    "Recall:\n",
    "\n",
    "- `True and False -> False`  \n",
    "- `True and True -> True`  \n",
    "- `False and False -> False`  \n",
    "- `True or False -> True`  \n",
    "- `True or True -> True`  \n",
    "- `False or False -> False`  \n",
    "\n",
    "\n",
    "We can do something similar in pandas, but instead of\n",
    "`bool1 and bool2` we write:"
   ]
  },
  {
   "cell_type": "markdown",
   "metadata": {
    "hide-output": false
   },
   "source": [
    "```python\n",
    "(bool_series1) & (bool_series2)\n",
    "```\n"
   ]
  },
  {
   "cell_type": "markdown",
   "metadata": {},
   "source": [
    "Likewise, instead of `bool1 or bool2` we write:"
   ]
  },
  {
   "cell_type": "markdown",
   "metadata": {
    "hide-output": false
   },
   "source": [
    "```python\n",
    "(bool_series1) | (bool_series2)\n",
    "```\n"
   ]
  },
  {
   "cell_type": "code",
   "execution_count": 95,
   "metadata": {
    "hide-output": false
   },
   "outputs": [
    {
     "data": {
      "text/plain": [
       "Date\n",
       "1926-07-31     True\n",
       "1926-08-31    False\n",
       "1926-09-30    False\n",
       "1926-10-31    False\n",
       "1926-11-30     True\n",
       "dtype: bool"
      ]
     },
     "execution_count": 95,
     "metadata": {},
     "output_type": "execute_result"
    }
   ],
   "source": [
    "small_BksAut = (size_small[\"Banks\"] < 15) & (size_small[\"Autos\"] < 56)\n",
    "small_BksAut"
   ]
  },
  {
   "cell_type": "code",
   "execution_count": 96,
   "metadata": {
    "hide-output": false
   },
   "outputs": [
    {
     "data": {
      "text/html": [
       "<div>\n",
       "<style scoped>\n",
       "    .dataframe tbody tr th:only-of-type {\n",
       "        vertical-align: middle;\n",
       "    }\n",
       "\n",
       "    .dataframe tbody tr th {\n",
       "        vertical-align: top;\n",
       "    }\n",
       "\n",
       "    .dataframe thead th {\n",
       "        text-align: right;\n",
       "    }\n",
       "</style>\n",
       "<table border=\"1\" class=\"dataframe\">\n",
       "  <thead>\n",
       "    <tr style=\"text-align: right;\">\n",
       "      <th>industry</th>\n",
       "      <th>Autos</th>\n",
       "      <th>Banks</th>\n",
       "      <th>Meals</th>\n",
       "      <th>Softw</th>\n",
       "      <th>Smoke</th>\n",
       "      <th>Telcm</th>\n",
       "      <th>Mines</th>\n",
       "    </tr>\n",
       "    <tr>\n",
       "      <th>Date</th>\n",
       "      <th></th>\n",
       "      <th></th>\n",
       "      <th></th>\n",
       "      <th></th>\n",
       "      <th></th>\n",
       "      <th></th>\n",
       "      <th></th>\n",
       "    </tr>\n",
       "  </thead>\n",
       "  <tbody>\n",
       "    <tr>\n",
       "      <th>1926-07-31</th>\n",
       "      <td>47.55</td>\n",
       "      <td>14.50</td>\n",
       "      <td>10.82</td>\n",
       "      <td>-99.99</td>\n",
       "      <td>59.72</td>\n",
       "      <td>350.36</td>\n",
       "      <td>27.74</td>\n",
       "    </tr>\n",
       "    <tr>\n",
       "      <th>1926-11-30</th>\n",
       "      <td>54.81</td>\n",
       "      <td>14.52</td>\n",
       "      <td>10.33</td>\n",
       "      <td>-99.99</td>\n",
       "      <td>65.08</td>\n",
       "      <td>363.74</td>\n",
       "      <td>28.51</td>\n",
       "    </tr>\n",
       "  </tbody>\n",
       "</table>\n",
       "</div>"
      ],
      "text/plain": [
       "industry    Autos  Banks  Meals  Softw  Smoke   Telcm  Mines\n",
       "Date                                                        \n",
       "1926-07-31  47.55  14.50  10.82 -99.99  59.72  350.36  27.74\n",
       "1926-11-30  54.81  14.52  10.33 -99.99  65.08  363.74  28.51"
      ]
     },
     "execution_count": 96,
     "metadata": {},
     "output_type": "execute_result"
    }
   ],
   "source": [
    "size_small[small_BksAut]"
   ]
  },
  {
   "cell_type": "markdown",
   "metadata": {},
   "source": [
    "#### `isin`\n",
    "\n",
    "Sometimes, we will want to check whether a data point takes on one of a\n",
    "several fixed values.\n",
    "\n",
    "We could do this by writing `(df[\"x\"] == val_1) | (df[\"x\"] == val_2)`\n",
    "(like we did above), but there is a better way: the `.isin` method"
   ]
  },
  {
   "cell_type": "code",
   "execution_count": 98,
   "metadata": {
    "hide-output": false
   },
   "outputs": [
    {
     "data": {
      "text/plain": [
       "Date\n",
       "1926-07-31    False\n",
       "1926-08-31     True\n",
       "1926-09-30    False\n",
       "1926-10-31     True\n",
       "1926-11-30    False\n",
       "Name: Smoke, dtype: bool"
      ]
     },
     "execution_count": 98,
     "metadata": {},
     "output_type": "execute_result"
    }
   ],
   "source": [
    "size_small[\"Smoke\"].isin([60.47, 64.42])"
   ]
  },
  {
   "cell_type": "code",
   "execution_count": 99,
   "metadata": {
    "hide-output": false
   },
   "outputs": [
    {
     "data": {
      "text/html": [
       "<div>\n",
       "<style scoped>\n",
       "    .dataframe tbody tr th:only-of-type {\n",
       "        vertical-align: middle;\n",
       "    }\n",
       "\n",
       "    .dataframe tbody tr th {\n",
       "        vertical-align: top;\n",
       "    }\n",
       "\n",
       "    .dataframe thead th {\n",
       "        text-align: right;\n",
       "    }\n",
       "</style>\n",
       "<table border=\"1\" class=\"dataframe\">\n",
       "  <thead>\n",
       "    <tr style=\"text-align: right;\">\n",
       "      <th>industry</th>\n",
       "      <th>Autos</th>\n",
       "      <th>Banks</th>\n",
       "      <th>Meals</th>\n",
       "      <th>Softw</th>\n",
       "      <th>Smoke</th>\n",
       "      <th>Telcm</th>\n",
       "      <th>Mines</th>\n",
       "    </tr>\n",
       "    <tr>\n",
       "      <th>Date</th>\n",
       "      <th></th>\n",
       "      <th></th>\n",
       "      <th></th>\n",
       "      <th></th>\n",
       "      <th></th>\n",
       "      <th></th>\n",
       "      <th></th>\n",
       "    </tr>\n",
       "  </thead>\n",
       "  <tbody>\n",
       "    <tr>\n",
       "      <th>1926-08-31</th>\n",
       "      <td>55.11</td>\n",
       "      <td>15.17</td>\n",
       "      <td>11.0</td>\n",
       "      <td>-99.99</td>\n",
       "      <td>60.47</td>\n",
       "      <td>353.27</td>\n",
       "      <td>29.30</td>\n",
       "    </tr>\n",
       "    <tr>\n",
       "      <th>1926-10-31</th>\n",
       "      <td>59.69</td>\n",
       "      <td>16.46</td>\n",
       "      <td>10.8</td>\n",
       "      <td>-99.99</td>\n",
       "      <td>64.42</td>\n",
       "      <td>364.16</td>\n",
       "      <td>29.46</td>\n",
       "    </tr>\n",
       "  </tbody>\n",
       "</table>\n",
       "</div>"
      ],
      "text/plain": [
       "industry    Autos  Banks  Meals  Softw  Smoke   Telcm  Mines\n",
       "Date                                                        \n",
       "1926-08-31  55.11  15.17   11.0 -99.99  60.47  353.27  29.30\n",
       "1926-10-31  59.69  16.46   10.8 -99.99  64.42  364.16  29.46"
      ]
     },
     "execution_count": 99,
     "metadata": {},
     "output_type": "execute_result"
    }
   ],
   "source": [
    "# now select full rows where this Series is True\n",
    "size_small.loc[size_small[\"Smoke\"].isin([60.47, 64.42])]"
   ]
  },
  {
   "cell_type": "markdown",
   "metadata": {},
   "source": [
    "#### `.any` and `.all`\n",
    "\n",
    "Recall from the boolean section of the [basics lecture](../python_fundamentals/basics.ipynb)\n",
    "that the Python functions `any` and `all` are aggregation functions that\n",
    "take a collection of booleans and return a single boolean.\n",
    "\n",
    "`any` returns True whenever at least one of the inputs are True while\n",
    "`all` is True only when all the inputs are `True`.\n",
    "\n",
    "Series and DataFrames with `dtype` bool have `.any` and `.all`\n",
    "methods that apply this logic to pandas objects.\n",
    "\n",
    "Let’s use these methods to count how many months all the states in our\n",
    "sample had low returns.\n",
    "\n",
    "As we work through this example, consider the [“want\n",
    "operator”], a helpful\n",
    "concept from Nobel Laureate [Tom\n",
    "Sargent](http://www.tomsargent.com) for clearly stating the goal of our analysis and\n",
    "determining the steps necessary to reach the goal.\n",
    "\n",
    "We always begin by writing `Want:` followed by what we want to\n",
    "accomplish.\n",
    "\n",
    "In this case, we would write:\n",
    "\n",
    "> Want: Count the number of months in which all industries in our sample\n",
    "had returns less than -5%\n",
    "\n",
    "\n",
    "After identifying the **want**, we work *backwards* to identify the\n",
    "steps necessary to accomplish our goal.\n",
    "\n",
    "So, starting from the result, we have:\n",
    "\n",
    "1. Sum the number of `True` values in a Series indicating dates for\n",
    "  which all industries had low returns.  \n",
    "1. Build the Series used in the last step by using the `.all` method\n",
    "  on a DataFrame containing booleans indicating whether each industry had\n",
    " low returns at each date.  \n",
    "1. Build the DataFrame used in the previous step using a `<`\n",
    "  comparison.  \n",
    "\n",
    "\n",
    "Now that we have a clear plan, let’s follow through and *apply* the want\n",
    "operator:"
   ]
  },
  {
   "cell_type": "code",
   "execution_count": 104,
   "metadata": {
    "hide-output": false
   },
   "outputs": [
    {
     "data": {
      "text/html": [
       "<div>\n",
       "<style scoped>\n",
       "    .dataframe tbody tr th:only-of-type {\n",
       "        vertical-align: middle;\n",
       "    }\n",
       "\n",
       "    .dataframe tbody tr th {\n",
       "        vertical-align: top;\n",
       "    }\n",
       "\n",
       "    .dataframe thead th {\n",
       "        text-align: right;\n",
       "    }\n",
       "</style>\n",
       "<table border=\"1\" class=\"dataframe\">\n",
       "  <thead>\n",
       "    <tr style=\"text-align: right;\">\n",
       "      <th>industry</th>\n",
       "      <th>Aero</th>\n",
       "      <th>Agric</th>\n",
       "      <th>Autos</th>\n",
       "      <th>Banks</th>\n",
       "      <th>Beer</th>\n",
       "      <th>BldMt</th>\n",
       "      <th>Books</th>\n",
       "      <th>Boxes</th>\n",
       "      <th>BusSv</th>\n",
       "      <th>Chems</th>\n",
       "      <th>...</th>\n",
       "      <th>Smoke</th>\n",
       "      <th>Soda</th>\n",
       "      <th>Softw</th>\n",
       "      <th>Steel</th>\n",
       "      <th>Telcm</th>\n",
       "      <th>Toys</th>\n",
       "      <th>Trans</th>\n",
       "      <th>Txtls</th>\n",
       "      <th>Util</th>\n",
       "      <th>Whlsl</th>\n",
       "    </tr>\n",
       "    <tr>\n",
       "      <th>Date</th>\n",
       "      <th></th>\n",
       "      <th></th>\n",
       "      <th></th>\n",
       "      <th></th>\n",
       "      <th></th>\n",
       "      <th></th>\n",
       "      <th></th>\n",
       "      <th></th>\n",
       "      <th></th>\n",
       "      <th></th>\n",
       "      <th></th>\n",
       "      <th></th>\n",
       "      <th></th>\n",
       "      <th></th>\n",
       "      <th></th>\n",
       "      <th></th>\n",
       "      <th></th>\n",
       "      <th></th>\n",
       "      <th></th>\n",
       "      <th></th>\n",
       "      <th></th>\n",
       "    </tr>\n",
       "  </thead>\n",
       "  <tbody>\n",
       "    <tr>\n",
       "      <th>1926-07-31</th>\n",
       "      <td>False</td>\n",
       "      <td>False</td>\n",
       "      <td>False</td>\n",
       "      <td>False</td>\n",
       "      <td>True</td>\n",
       "      <td>False</td>\n",
       "      <td>False</td>\n",
       "      <td>False</td>\n",
       "      <td>False</td>\n",
       "      <td>False</td>\n",
       "      <td>...</td>\n",
       "      <td>False</td>\n",
       "      <td>True</td>\n",
       "      <td>True</td>\n",
       "      <td>False</td>\n",
       "      <td>False</td>\n",
       "      <td>False</td>\n",
       "      <td>False</td>\n",
       "      <td>False</td>\n",
       "      <td>False</td>\n",
       "      <td>True</td>\n",
       "    </tr>\n",
       "    <tr>\n",
       "      <th>1926-08-31</th>\n",
       "      <td>True</td>\n",
       "      <td>False</td>\n",
       "      <td>False</td>\n",
       "      <td>False</td>\n",
       "      <td>False</td>\n",
       "      <td>False</td>\n",
       "      <td>False</td>\n",
       "      <td>False</td>\n",
       "      <td>False</td>\n",
       "      <td>False</td>\n",
       "      <td>...</td>\n",
       "      <td>False</td>\n",
       "      <td>True</td>\n",
       "      <td>True</td>\n",
       "      <td>False</td>\n",
       "      <td>False</td>\n",
       "      <td>False</td>\n",
       "      <td>False</td>\n",
       "      <td>False</td>\n",
       "      <td>False</td>\n",
       "      <td>False</td>\n",
       "    </tr>\n",
       "    <tr>\n",
       "      <th>1926-09-30</th>\n",
       "      <td>True</td>\n",
       "      <td>False</td>\n",
       "      <td>False</td>\n",
       "      <td>False</td>\n",
       "      <td>False</td>\n",
       "      <td>False</td>\n",
       "      <td>False</td>\n",
       "      <td>True</td>\n",
       "      <td>False</td>\n",
       "      <td>False</td>\n",
       "      <td>...</td>\n",
       "      <td>False</td>\n",
       "      <td>True</td>\n",
       "      <td>True</td>\n",
       "      <td>False</td>\n",
       "      <td>False</td>\n",
       "      <td>False</td>\n",
       "      <td>False</td>\n",
       "      <td>False</td>\n",
       "      <td>False</td>\n",
       "      <td>True</td>\n",
       "    </tr>\n",
       "    <tr>\n",
       "      <th>1926-10-31</th>\n",
       "      <td>True</td>\n",
       "      <td>False</td>\n",
       "      <td>True</td>\n",
       "      <td>True</td>\n",
       "      <td>False</td>\n",
       "      <td>False</td>\n",
       "      <td>False</td>\n",
       "      <td>True</td>\n",
       "      <td>False</td>\n",
       "      <td>False</td>\n",
       "      <td>...</td>\n",
       "      <td>False</td>\n",
       "      <td>True</td>\n",
       "      <td>True</td>\n",
       "      <td>False</td>\n",
       "      <td>False</td>\n",
       "      <td>False</td>\n",
       "      <td>False</td>\n",
       "      <td>False</td>\n",
       "      <td>False</td>\n",
       "      <td>True</td>\n",
       "    </tr>\n",
       "    <tr>\n",
       "      <th>1926-11-30</th>\n",
       "      <td>False</td>\n",
       "      <td>False</td>\n",
       "      <td>False</td>\n",
       "      <td>False</td>\n",
       "      <td>False</td>\n",
       "      <td>False</td>\n",
       "      <td>True</td>\n",
       "      <td>False</td>\n",
       "      <td>False</td>\n",
       "      <td>False</td>\n",
       "      <td>...</td>\n",
       "      <td>False</td>\n",
       "      <td>True</td>\n",
       "      <td>True</td>\n",
       "      <td>False</td>\n",
       "      <td>False</td>\n",
       "      <td>False</td>\n",
       "      <td>False</td>\n",
       "      <td>False</td>\n",
       "      <td>False</td>\n",
       "      <td>False</td>\n",
       "    </tr>\n",
       "  </tbody>\n",
       "</table>\n",
       "<p>5 rows × 49 columns</p>\n",
       "</div>"
      ],
      "text/plain": [
       "industry    Aero   Agric  Autos  Banks  Beer   BldMt  Books  Boxes  BusSv  \\\n",
       "Date                                                                        \n",
       "1926-07-31  False  False  False  False   True  False  False  False  False   \n",
       "1926-08-31   True  False  False  False  False  False  False  False  False   \n",
       "1926-09-30   True  False  False  False  False  False  False   True  False   \n",
       "1926-10-31   True  False   True   True  False  False  False   True  False   \n",
       "1926-11-30  False  False  False  False  False  False   True  False  False   \n",
       "\n",
       "industry    Chems  ...  Smoke  Soda   Softw  Steel  Telcm  Toys   Trans  \\\n",
       "Date               ...                                                    \n",
       "1926-07-31  False  ...  False   True   True  False  False  False  False   \n",
       "1926-08-31  False  ...  False   True   True  False  False  False  False   \n",
       "1926-09-30  False  ...  False   True   True  False  False  False  False   \n",
       "1926-10-31  False  ...  False   True   True  False  False  False  False   \n",
       "1926-11-30  False  ...  False   True   True  False  False  False  False   \n",
       "\n",
       "industry    Txtls  Util   Whlsl  \n",
       "Date                             \n",
       "1926-07-31  False  False   True  \n",
       "1926-08-31  False  False  False  \n",
       "1926-09-30  False  False   True  \n",
       "1926-10-31  False  False   True  \n",
       "1926-11-30  False  False  False  \n",
       "\n",
       "[5 rows x 49 columns]"
      ]
     },
     "execution_count": 104,
     "metadata": {},
     "output_type": "execute_result"
    }
   ],
   "source": [
    "# Step 3: construct the DataFrame of bools\n",
    "low = returns_all < -5\n",
    "low.head()"
   ]
  },
  {
   "cell_type": "code",
   "execution_count": 109,
   "metadata": {
    "hide-output": false
   },
   "outputs": [
    {
     "data": {
      "text/plain": [
       "Date\n",
       "1926-07-31    False\n",
       "1926-08-31    False\n",
       "1926-09-30    False\n",
       "1926-10-31    False\n",
       "1926-11-30    False\n",
       "dtype: bool"
      ]
     },
     "execution_count": 109,
     "metadata": {},
     "output_type": "execute_result"
    }
   ],
   "source": [
    "# Step 2: use the .all method on axis=1 to get the dates where all states have a True\n",
    "all_low = low.all(axis=1)\n",
    "all_low.head()"
   ]
  },
  {
   "cell_type": "code",
   "execution_count": 110,
   "metadata": {
    "hide-output": false
   },
   "outputs": [
    {
     "name": "stdout",
     "output_type": "stream",
     "text": [
      "Out of 1137 months, 5 had low returns across all industries\n"
     ]
    }
   ],
   "source": [
    "# Step 1: Call .sum to add up the number of True values in `all_low`\n",
    "#         (note that True == 1 and False == 0 in Python, so .sum will count Trues)\n",
    "msg = \"Out of {} months, {} had low returns across all industries\"\n",
    "print(msg.format(len(all_low), all_low.sum()))"
   ]
  }
 ],
 "metadata": {
  "date": 1595352471.6656835,
  "download_nb": false,
  "filename": "basics.rst",
  "filename_with_path": "pandas/basics",
  "kernelspec": {
   "display_name": "Python 3",
   "language": "python",
   "name": "python3"
  },
  "language_info": {
   "codemirror_mode": {
    "name": "ipython",
    "version": 3
   },
   "file_extension": ".py",
   "mimetype": "text/x-python",
   "name": "python",
   "nbconvert_exporter": "python",
   "pygments_lexer": "ipython3",
   "version": "3.8.5"
  },
  "title": "Basic Functionality"
 },
 "nbformat": 4,
 "nbformat_minor": 4
}
