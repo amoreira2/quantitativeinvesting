{
 "cells": [
  {
   "cell_type": "markdown",
   "id": "a9dccfc8",
   "metadata": {
    "colab_type": "text",
    "id": "WI820A_Bp_NH"
   },
   "source": [
    "# Assignment 3\n",
    "\n",
    "\n",
    "\n",
    "Instructions: This problem set should be done individually.\n",
    "\n",
    "Answer each question in the designated space below.\n",
    "\n",
    "After you are done, save and upload in blackboard.\n",
    "\n",
    "Please check that you are submitting the correct file. One way to avoid mistakes is to save it with a different name."
   ]
  },
  {
   "cell_type": "markdown",
   "id": "27176fb7",
   "metadata": {
    "colab_type": "text",
    "id": "wVAN3J3Vp_NJ"
   },
   "source": [
    "# Write your name and simon email\n",
    "\n",
    "Please write names below\n",
    "\n",
    "* [Name]:\n",
    "* [email]:\n",
    "\n",
    "\n"
   ]
  },
  {
   "cell_type": "markdown",
   "id": "7a773bcc",
   "metadata": {},
   "source": [
    "# Exercises"
   ]
  },
  {
   "cell_type": "markdown",
   "id": "4b332820",
   "metadata": {},
   "source": [
    "**Exercise 1.**\n",
    "\n",
    "Start by importing pandas and loading the data set. \n",
    "\n",
    "The dataset has address ``\n",
    "\n",
    "Name `housing` this dataset, then print `print(housing)`."
   ]
  },
  {
   "cell_type": "code",
   "execution_count": null,
   "id": "7a5e707a",
   "metadata": {},
   "outputs": [],
   "source": [
    "import pandas as pd\n",
    "import numpy as np\n",
    "# import data here\n"
   ]
  },
  {
   "cell_type": "markdown",
   "id": "47b744e9",
   "metadata": {},
   "source": [
    "**Exercise 2.** \n",
    "\n",
    "Print the first 5 rows of the dataframe.\n",
    "\n",
    "Hint: use `head`"
   ]
  },
  {
   "cell_type": "code",
   "execution_count": null,
   "id": "a5f55ad4",
   "metadata": {},
   "outputs": [],
   "source": [
    "# your code here"
   ]
  },
  {
   "cell_type": "markdown",
   "id": "5ba9ebd8",
   "metadata": {},
   "source": [
    "**Exercise 3.** \n",
    "\n",
    "Write a Pandas program to find the number of rows and columns and data type of each column of housing DataFrame."
   ]
  },
  {
   "cell_type": "code",
   "execution_count": null,
   "id": "260a6a68",
   "metadata": {
    "scrolled": true
   },
   "outputs": [],
   "source": [
    "print(\"Number of rows and columns:\")\n",
    "# your code here\n",
    "print(\"\\nData type of each column:\")\n",
    "# your code here"
   ]
  },
  {
   "cell_type": "markdown",
   "id": "a2478417",
   "metadata": {},
   "source": [
    "**Exercise 4.**\n",
    "\n",
    "Write a Pandas program to combine longitude and latitude into one new column. Name the new column 'Coordinates'. Each value has the format of `[longitude,latitude]`. For example, the first row has the value of `[-122.23,37.88]`."
   ]
  },
  {
   "cell_type": "code",
   "execution_count": null,
   "id": "079eb6ee",
   "metadata": {},
   "outputs": [],
   "source": [
    "# your code here\n",
    "\n",
    "housing.head()"
   ]
  },
  {
   "cell_type": "markdown",
   "id": "796d558c",
   "metadata": {},
   "source": [
    "**Exercise 5.**\n",
    "\n",
    "Write a Pandas program to set the column of `population` as the index of the DataFrame."
   ]
  },
  {
   "cell_type": "code",
   "execution_count": null,
   "id": "b48d849f",
   "metadata": {},
   "outputs": [],
   "source": [
    "# your code here\n",
    "\n",
    "print(housing.head())"
   ]
  },
  {
   "cell_type": "markdown",
   "id": "3de81c6b",
   "metadata": {},
   "source": [
    "**Exercise 6.**\n",
    "\n",
    "Reimport the data to drop the changes in the preceding exercises."
   ]
  },
  {
   "cell_type": "code",
   "execution_count": null,
   "id": "7c3f2f51",
   "metadata": {},
   "outputs": [],
   "source": [
    "import numpy as np\n",
    "import pandas as pd\n",
    "# import data here\n",
    "\n",
    "print(housing)"
   ]
  },
  {
   "cell_type": "markdown",
   "id": "6c6d31e9",
   "metadata": {},
   "source": [
    "**Exercise 7.**\n",
    "\n",
    "create a new column, call it \"incomeLevel\", assign values using the following rule:\n",
    "- \"Low\" if medianIncome is at the bottom the 25th percentile\n",
    "- \"Below Median\" if medianIncome is above the 25th percentile but below the 50th percentile\n",
    "- \"Above Median\" if medianIncome is above the 50th percentile but below the 75th percentile\n",
    "- \"High\" if medianIncome is at the top 25th percentile\n",
    "\n",
    "Hint: use `quantile` function"
   ]
  },
  {
   "cell_type": "code",
   "execution_count": null,
   "id": "b0288905",
   "metadata": {},
   "outputs": [],
   "source": [
    "# your code here\n",
    "\n",
    "print(housing)"
   ]
  },
  {
   "cell_type": "markdown",
   "id": "9d93eb29",
   "metadata": {},
   "source": [
    "**Exercise 8.**(hard)\n",
    "\n",
    "Write a Pandas program and use `groupby` to calculate count, minimum, maximum for medianHouseValue for each category of incomeLevel"
   ]
  },
  {
   "cell_type": "code",
   "execution_count": null,
   "id": "502ee4d6",
   "metadata": {},
   "outputs": [],
   "source": [
    "# your code here\n"
   ]
  },
  {
   "cell_type": "markdown",
   "id": "f85f80ea",
   "metadata": {},
   "source": [
    "**Exercise 9.**\n",
    "\n",
    "Write a Pandas program to show the data where the incomeLevel is either 'High' or 'Above Median'.\n",
    "\n",
    "Hint: try using `isin`"
   ]
  },
  {
   "cell_type": "code",
   "execution_count": null,
   "id": "d89fe810",
   "metadata": {},
   "outputs": [],
   "source": [
    "# your code here\n"
   ]
  },
  {
   "cell_type": "markdown",
   "id": "7ca42ed5",
   "metadata": {},
   "source": [
    "**Exercise 10.**\n",
    "\n",
    "Write a Pandas program to read rows 0 through 2 (inclusive), columns 'totalRooms' and 'totalBedrooms' of the DataFrame. "
   ]
  },
  {
   "cell_type": "code",
   "execution_count": null,
   "id": "3903c04e",
   "metadata": {},
   "outputs": [],
   "source": [
    "# your code here\n"
   ]
  },
  {
   "cell_type": "markdown",
   "id": "cddd61d2",
   "metadata": {},
   "source": [
    "**Exercise 11.**\n",
    "\n",
    "Write a Pandas program to create a histogram of the 'households' Series (distribution of a numerical variable) of the DataFrame."
   ]
  },
  {
   "cell_type": "code",
   "execution_count": null,
   "id": "cb9b7471",
   "metadata": {},
   "outputs": [],
   "source": [
    "# your code here\n"
   ]
  },
  {
   "cell_type": "markdown",
   "id": "fc6895d5",
   "metadata": {},
   "source": [
    "**Exercise 12.**\n",
    "\n",
    "Write a Pandas program to get 5 randomly sampled rows from the DataFrame.\n",
    "\n",
    "Hint: you will need `sample`."
   ]
  },
  {
   "cell_type": "code",
   "execution_count": null,
   "id": "b38abe6a",
   "metadata": {},
   "outputs": [],
   "source": [
    "# your code here\n"
   ]
  },
  {
   "cell_type": "markdown",
   "id": "3ebcc382",
   "metadata": {},
   "source": [
    "**Exercise 13.**\n",
    "\n",
    "Write a Pandas program to show the data where populaiton>2500 and medianIncome>12. "
   ]
  },
  {
   "cell_type": "code",
   "execution_count": null,
   "id": "5605c70e",
   "metadata": {},
   "outputs": [],
   "source": [
    "# your code here\n"
   ]
  },
  {
   "cell_type": "markdown",
   "id": "dd2fedeb",
   "metadata": {},
   "source": [
    "**Exercise 14.**\n",
    "\n",
    "Write a Pandas program to display all column name of the DataFrame."
   ]
  },
  {
   "cell_type": "code",
   "execution_count": null,
   "id": "8241a86a",
   "metadata": {},
   "outputs": [],
   "source": [
    "# your code here\n"
   ]
  },
  {
   "cell_type": "markdown",
   "id": "5ddd59c8",
   "metadata": {},
   "source": [
    "**Exercise 15.**\n",
    "\n",
    "Write a Pandas program to sort a the data by the value of medianHouseValue in a descending order."
   ]
  },
  {
   "cell_type": "code",
   "execution_count": null,
   "id": "ab566b55",
   "metadata": {},
   "outputs": [],
   "source": [
    "# your code here\n"
   ]
  }
 ],
 "metadata": {
  "kernelspec": {
   "display_name": "Python 3",
   "language": "python",
   "name": "python3"
  },
  "language_info": {
   "codemirror_mode": {
    "name": "ipython",
    "version": 3
   },
   "file_extension": ".py",
   "mimetype": "text/x-python",
   "name": "python",
   "nbconvert_exporter": "python",
   "pygments_lexer": "ipython3",
   "version": "3.9.7"
  },
  "toc": {
   "base_numbering": 1,
   "nav_menu": {},
   "number_sections": true,
   "sideBar": true,
   "skip_h1_title": false,
   "title_cell": "Table of Contents",
   "title_sidebar": "Contents",
   "toc_cell": false,
   "toc_position": {},
   "toc_section_display": true,
   "toc_window_display": false
  }
 },
 "nbformat": 4,
 "nbformat_minor": 5
}
