{
 "cells": [
  {
   "cell_type": "markdown",
   "metadata": {
    "colab_type": "text",
    "id": "WI820A_Bp_NH"
   },
   "source": [
    "# Assignment 4\n",
    "\n",
    "\n",
    "\n",
    "Instructions: This problem set should be done individually.\n",
    "\n",
    "Answer each question in the designated space below.\n",
    "\n",
    "After you are done, save and upload in blackboard.\n",
    "\n",
    "Please check that you are submitting the correct file. One way to avoid mistakes is to save it with a different name."
   ]
  },
  {
   "cell_type": "markdown",
   "metadata": {
    "colab_type": "text",
    "id": "wVAN3J3Vp_NJ",
    "jp-MarkdownHeadingCollapsed": true,
    "tags": []
   },
   "source": [
    "# Write your name and simon email\n",
    "\n",
    "Please write names below\n",
    "\n",
    "* [Name]:\n",
    "* [email]:\n",
    "\n",
    "\n"
   ]
  },
  {
   "cell_type": "markdown",
   "metadata": {},
   "source": [
    "# Discussion Forum Assignment\n",
    "\n",
    "\n",
    "Do the CAPM assigment on the discussion forum\n",
    "\n",
    "https://edstem.org/us/courses/30665/discussion/1987508\n",
    "\n",
    "\n"
   ]
  },
  {
   "cell_type": "markdown",
   "metadata": {},
   "source": [
    "# Exercises \n",
    "\n",
    "\n",
    "\n"
   ]
  },
  {
   "cell_type": "markdown",
   "metadata": {},
   "source": [
    "Exercise 1\n",
    "\n",
    "Start by importing pandas, numpy and loading the data set. \n",
    "\n",
    "The dataset has address \n",
    "\n",
    "`url=\"https://raw.githubusercontent.com/amoreira2/Lectures/main/assets/data/Retuns50stocks.csv\"`\n",
    "\n",
    "First look in your browser what this file looks like and what type it has, then use the appropriate `pd.read_XX` function to import it.\n",
    "\n",
    "\n",
    "Name `df` this dataset, then print `print(df)`."
   ]
  },
  {
   "cell_type": "code",
   "execution_count": null,
   "metadata": {},
   "outputs": [],
   "source": []
  },
  {
   "cell_type": "markdown",
   "metadata": {},
   "source": [
    "Exercise 2\n",
    "\n",
    "There is a column called date. We would like this to be our index and that pandas recognize it as date. Lets start by transforming it into the date format.\n",
    "\n",
    "Start by using the function `pd.to_datetime` on this column. Did it interpret it correctly?\n",
    "\n",
    "In the case it did, you are done, simply assign this new series to the column `date`.\n",
    "\n",
    "In the case it did not, use the option `format=` to specify the format of the data along the lines explained in chapter 6.8.\n",
    "\n",
    "After you are done, call the method `.info()` on the dataframe so we can see if things are right."
   ]
  },
  {
   "cell_type": "code",
   "execution_count": null,
   "metadata": {},
   "outputs": [],
   "source": []
  },
  {
   "cell_type": "markdown",
   "metadata": {},
   "source": [
    "Exercise 3\n",
    "\n",
    "You might notice that there is a 'Market' column that was imported (sometimes extra columns with \"unnamed\" column names are also imported. Drop those as well). Use the method .drop to drop it. Then use .info to show it is dropped."
   ]
  },
  {
   "cell_type": "code",
   "execution_count": null,
   "metadata": {},
   "outputs": [],
   "source": []
  },
  {
   "cell_type": "markdown",
   "metadata": {},
   "source": [
    "Exercise 4\n",
    "\n",
    "Now set date as the index. After you do that, show the last  5 rows of the dataframe so you can see if things were done correctly."
   ]
  },
  {
   "cell_type": "code",
   "execution_count": null,
   "metadata": {},
   "outputs": [],
   "source": []
  },
  {
   "cell_type": "markdown",
   "metadata": {},
   "source": [
    "Exercise 5\n",
    "\n",
    "Compute the full sample time-series standard deviation of returns for each stock."
   ]
  },
  {
   "cell_type": "code",
   "execution_count": null,
   "metadata": {},
   "outputs": [],
   "source": []
  },
  {
   "cell_type": "markdown",
   "metadata": {},
   "source": [
    "Exercise 6\n",
    "\n",
    "For each date, compute the mean return across stocks.\n",
    "\n",
    "Tip: you might find useful the `axis` option."
   ]
  },
  {
   "cell_type": "code",
   "execution_count": null,
   "metadata": {},
   "outputs": [],
   "source": []
  },
  {
   "cell_type": "markdown",
   "metadata": {},
   "source": [
    "Exercise 7\n",
    "\n",
    "Create a function that takes as input a positive integer N and returns an array of N length where each entry is 1/N.\n",
    "\n",
    "Name this function `equalweights`. \n",
    "\n",
    "Call `equalweights(5)` to verify whether it works and returns an array of $[\\frac{1}{5},\\frac{1}{5},\\frac{1}{5},\\frac{1}{5},\\frac{1}{5}].$"
   ]
  },
  {
   "cell_type": "code",
   "execution_count": null,
   "metadata": {},
   "outputs": [],
   "source": []
  },
  {
   "cell_type": "markdown",
   "metadata": {},
   "source": [
    "Exercise 8\n",
    "\n",
    "Create a function that takes a positive integer N and dataframe DF and returns a data frame with only the first N columns.\n",
    "\n",
    "Name this function `firstNstocks`. Call `firstNstocks(5)` to verify that it works."
   ]
  },
  {
   "cell_type": "code",
   "execution_count": null,
   "metadata": {},
   "outputs": [],
   "source": []
  },
  {
   "cell_type": "markdown",
   "metadata": {},
   "source": [
    "Exercise 9\n",
    "\n",
    "Using the two functions you created above, compute the portfolio returns of an equal weighted portfolio that invests in the first 5 stocks.\n",
    "\n",
    "Tip: the result should be a time-series sequence of returns. You want to use the `@` dot product operation and recall that the return of a portfolio is\n",
    "\n",
    "$$r_t^p=W @ R_t=\\sum_i^N w_{i}R_{i,t}.$$"
   ]
  },
  {
   "cell_type": "code",
   "execution_count": null,
   "metadata": {},
   "outputs": [],
   "source": []
  },
  {
   "cell_type": "markdown",
   "metadata": {},
   "source": [
    "Exercise 10\n",
    "\n",
    "Now use the code above to create a function that takes an integer and a dataframe and returns full sample standard deviation of an equal weighted portfolio formed with the first N stocks. Call this function `portfolio_std`. Call the function with an N=5 to verify that it works."
   ]
  },
  {
   "cell_type": "code",
   "execution_count": null,
   "metadata": {},
   "outputs": [],
   "source": []
  },
  {
   "cell_type": "markdown",
   "metadata": {},
   "source": [
    "Exercise 11\n",
    "\n",
    "Use a for loop and the function above to compute the standard deviation of equal weighted portfolios starting with the first 5 stocks, 6 stocks, all the way up to all 50 stocks. Store the result of each loop in a dataframe called Results. Do this as follows: create an empty dataframe with index given by range(5,50):\n",
    "\n",
    "`pd.DataFrame([],index=range(5,51),columns=['std'])`"
   ]
  },
  {
   "cell_type": "code",
   "execution_count": null,
   "metadata": {},
   "outputs": [],
   "source": []
  },
  {
   "cell_type": "markdown",
   "metadata": {},
   "source": [
    "Exercise 12\n",
    "\n",
    "Plot the standard deviaitons on the y-axis and the number of stocks on x-axis. If you created your Results dataframe correctly, this step should be easy."
   ]
  },
  {
   "cell_type": "code",
   "execution_count": null,
   "metadata": {},
   "outputs": [],
   "source": []
  },
  {
   "cell_type": "markdown",
   "metadata": {},
   "source": [
    "Exercise 13\n",
    "\n",
    "Eye-balling the graph, does it look like adding more and more stocks will diversify away all of the standard deviation? Why or why not? Comment on the shape of the function. "
   ]
  },
  {
   "cell_type": "code",
   "execution_count": null,
   "metadata": {},
   "outputs": [],
   "source": []
  },
  {
   "cell_type": "markdown",
   "metadata": {},
   "source": [
    "<br>"
   ]
  },
  {
   "cell_type": "markdown",
   "metadata": {},
   "source": [
    "**In the following exercises, we will decompose the fraction of the portfolio variance that comes from individual variances and covariances.**  "
   ]
  },
  {
   "cell_type": "markdown",
   "metadata": {},
   "source": [
    "Exercise 14\n",
    "\n",
    "We already have the standard deviation of the portfolios. Create a column in Results with the portfolio variance. This should be easy if you know the connection between standard deviaiton and variance. Call this column 'Var'."
   ]
  },
  {
   "cell_type": "code",
   "execution_count": null,
   "metadata": {},
   "outputs": [],
   "source": []
  },
  {
   "cell_type": "markdown",
   "metadata": {},
   "source": [
    "Exercise 15\n",
    "\n",
    "Now we will compute the total variation due to individual variances. \n",
    "\n",
    "Variance of a portfolio is\n",
    "\n",
    "$$Var(\\sum_i w_i R_i)=\\sum_i\\sum_j w_iw_jcov(R_i,R_j)$$\n",
    "\n",
    "Which can be written as\n",
    "\n",
    "$$Var(\\sum_i w_i R_i)=\\sum_{i=j}\\sum_j w_iw_jcov(R_i,R_j)+ \\sum_{i\\neq j}\\sum_j w_iw_jcov(R_i,R_j)$$\n",
    "\n",
    "$$Var(\\sum_i w_i R_i)= \\underbrace{\\sum_i w_i^2var(R_i)}_\\textrm{variance component}+ \\underbrace{\\sum_{i\\neq j}\\sum_j w_iw_jcov(R_i,R_j)}_\\textrm{covariance component}$$\n",
    "\n",
    "So the first component is variance component and the second is the covariance component.\n",
    "\n",
    "To see this, just think about what the second component would be if all stocks were uncorrelated.\n",
    "\n",
    "\n",
    "So lets compute the first term. \n",
    "\n",
    "Using the function you defined above you can easily construct the vector of sqaured weights `equalweights(N)**2` and the vector of first N stocks variances `firstNstocks(N).var()`.\n",
    "\n",
    "Now simply do the dot product of these objects to create the variance component for the portfolio.\n",
    "\n",
    "Once you get this to work for one portfolio, simply create a for loop that computes this value of each portfolio formed from 5 to 50 stocks and store it in the new column `Var_share` of the dataframe `Results`."
   ]
  },
  {
   "cell_type": "code",
   "execution_count": null,
   "metadata": {},
   "outputs": [],
   "source": []
  },
  {
   "cell_type": "markdown",
   "metadata": {},
   "source": [
    "Exercise 16\n",
    "\n",
    "Now compute the covariance share by subtrating the variance share from the total variance, store it in Results with the column name Cov_share.\n",
    "\n"
   ]
  },
  {
   "cell_type": "code",
   "execution_count": null,
   "metadata": {},
   "outputs": [],
   "source": []
  },
  {
   "cell_type": "markdown",
   "metadata": {},
   "source": [
    "Exercise 17\n",
    "\n",
    "Now add two additional columns with the ratios of the Var_share and Cov_share to the total Variance. Call this Var_ratio and Cov_ratio. Plot these two new columns as a function of the number of stocks in each portfolio (y-axis should be ratios and x-axis should be the number of stocks)."
   ]
  },
  {
   "cell_type": "code",
   "execution_count": null,
   "metadata": {},
   "outputs": [],
   "source": []
  },
  {
   "cell_type": "markdown",
   "metadata": {},
   "source": [
    "Exercise 18\n",
    "\n",
    "Comment on the shape of the plots."
   ]
  },
  {
   "cell_type": "code",
   "execution_count": null,
   "metadata": {},
   "outputs": [],
   "source": []
  },
  {
   "cell_type": "markdown",
   "metadata": {},
   "source": [
    "Exercise 19\n",
    "\n",
    "Compute the covariance matrix across all 50 stocks."
   ]
  },
  {
   "cell_type": "code",
   "execution_count": null,
   "metadata": {},
   "outputs": [],
   "source": []
  },
  {
   "cell_type": "markdown",
   "metadata": {},
   "source": [
    "Exercise 20\n",
    "\n",
    "Create a matrix that has the variances on the diagonal of the covariance matrix you just created, but has zeros as the off-diagonal elements.\n",
    "\n",
    "You should use `diag` and only use the `diag` method on the covariance matrix you just created.\n",
    "\n",
    "Hint: `diag` is from `numpy` library.\n"
   ]
  },
  {
   "cell_type": "code",
   "execution_count": null,
   "metadata": {},
   "outputs": [],
   "source": []
  }
 ],
 "metadata": {
  "colab": {
   "collapsed_sections": [],
   "name": "Homework_2019_1.ipynb",
   "provenance": []
  },
  "kernelspec": {
   "display_name": "Python 3 (ipykernel)",
   "language": "python",
   "name": "python3"
  },
  "language_info": {
   "codemirror_mode": {
    "name": "ipython",
    "version": 3
   },
   "file_extension": ".py",
   "mimetype": "text/x-python",
   "name": "python",
   "nbconvert_exporter": "python",
   "pygments_lexer": "ipython3",
   "version": "3.9.12"
  },
  "toc-autonumbering": true
 },
 "nbformat": 4,
 "nbformat_minor": 4
}
