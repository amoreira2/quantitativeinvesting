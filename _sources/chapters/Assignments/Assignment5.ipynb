{
 "cells": [
  {
   "cell_type": "markdown",
   "metadata": {
    "colab_type": "text",
    "id": "WI820A_Bp_NH"
   },
   "source": [
    "# Assignment 5\n",
    "\n",
    "\n",
    "\n",
    "Instructions: This problem set should be done individually\n",
    "\n",
    "Answer each question in the designated space below\n",
    "\n",
    "After you are done. save and upload in blackboard.\n",
    "\n",
    "Please check that you are submitting the correct file. One way to avoid mistakes is to save it with a different name."
   ]
  },
  {
   "cell_type": "markdown",
   "metadata": {
    "colab_type": "text",
    "id": "wVAN3J3Vp_NJ"
   },
   "source": [
    "# Write your name and simon email\n",
    "\n",
    "Please write names below\n",
    "\n",
    "* [Name]:\n",
    "* [email]:\n",
    "\n",
    "\n"
   ]
  },
  {
   "cell_type": "markdown",
   "metadata": {},
   "source": [
    "# Exercises \n",
    "\n",
    "\n",
    "\n"
   ]
  },
  {
   "cell_type": "markdown",
   "metadata": {},
   "source": [
    "##  Start by importing pandas, numpy, matplotlib, and loading the data set. \n",
    "\n",
    "The dataset has address \n",
    "\n",
    "`url='https://github.com/amoreira2/Lectures/blob/main/assets/data/Assignment5.xlsx?raw=true'`\n",
    "\n",
    "I strongly recommend you download first and look at the data set.\n",
    "\n",
    "This file contains multiple sheets, you should use `read_excel` to get the data that contains the 49 value-weighted industry portfolios. \n",
    "\n",
    "See here:https://pandas.pydata.org/pandas-docs/stable/reference/api/pandas.read_excel.html .\n",
    "\n",
    "\n",
    "\n",
    "1. Import this dataframe as `df_ind`:\n",
    "    - Use \"sheet_name\" to select the desired excel sheet. \n",
    "    - Use \"skip_rows\" to skip the initial rows before the data.\n",
    "    - Figure out what is the code for missing values and change the option `na_values` appropriately.\n",
    "    - If you look at the excel file you will see that there are other data sets stacked horizontally. Use the `usecols` option to select the range of columns you want imported.\n",
    "\n",
    "2. Change the name of the column with the date information to 'date'.\n",
    "\n",
    "3. Use `to_datetime` so python understands the column date as a datetime object (you will have to use the option format).\n",
    "\n",
    "4. Set date as index.\n",
    "\n",
    "5. Call `df_ind.info()` so you check all the tasks were accomplished.\n",
    "\n",
    "6. In the next cell, call `df_ind.head()`."
   ]
  },
  {
   "cell_type": "code",
   "execution_count": null,
   "metadata": {},
   "outputs": [],
   "source": [
    "import numpy as np\n",
    "import pandas as pd\n",
    "import matplotlib.pyplot as plt \n",
    "\n"
   ]
  },
  {
   "cell_type": "markdown",
   "metadata": {},
   "source": [
    "## Advanced date manipulation\n",
    "\n",
    "What do you notice about the dates? They are monthly, but they are showing as the start of the month. In fact these returns are end of month to end of month returns. So we will now convert the data to end of month. To do that you should read this link\n",
    "\n",
    "https://stackoverflow.com/questions/37354105/find-the-end-of-the-month-of-a-pandas-dataframe-series\n",
    "\n",
    "If you google \"pandas end of month\" that is the first thing that comes out. Read the answer and apply to your problem.\n",
    "\n",
    "Hint: you aready set date as index, so you cannot do stuff like `df_ind.date` or `df_ind['date']`  and have to adjust the code accordingly. Think about how to access the index.\n",
    "\n",
    "After changing the date, call `df_ind.head()` and verify that it did what it should do by comparing the date here with what it was above.\n",
    "\n"
   ]
  },
  {
   "cell_type": "code",
   "execution_count": null,
   "metadata": {},
   "outputs": [],
   "source": []
  },
  {
   "cell_type": "markdown",
   "metadata": {},
   "source": [
    "## Importing risk-free rate\n",
    "\n",
    "In this same file there is another sheet with market returns and the risk-free rate.\n",
    "\n",
    "Import them as `df_rmrf` by following all the steps you did in the above two questions.\n",
    "\n",
    "Call `df_ind.info()` so you check all the tasks were accomplished.\n",
    "\n",
    "In the next cell, call `df_ind.head()`."
   ]
  },
  {
   "cell_type": "code",
   "execution_count": null,
   "metadata": {},
   "outputs": [],
   "source": []
  },
  {
   "cell_type": "markdown",
   "metadata": {},
   "source": [
    "## Constructing excess returns A\n",
    "\n",
    "\n",
    "Select one industry and construct the excess returns of that industry by subtracting the risk-free rate RF from it.\n",
    "\n",
    "Compute the mean of this excess return. \n",
    "\n",
    "How does it compare to the mean of the raw returns of that industry and the risk free rate?"
   ]
  },
  {
   "cell_type": "code",
   "execution_count": null,
   "metadata": {},
   "outputs": [],
   "source": []
  },
  {
   "cell_type": "markdown",
   "metadata": {},
   "source": [
    "## Constructing excess returns B\n",
    "\n",
    "We now want to construct excess returns for all industry portfolios, so we need to subtract the risk-free rate from all of columns at the same time.\n",
    "\n",
    "You can do that using the method `.subtract()` with the option 'axis' to tell along which dimension (rows or columns).\n",
    "\n",
    "Go ahead, google \"pandas subtract\" to see how this works.\n",
    "\n",
    "The new data frame should be named df_inde (e for excess returns of industries)."
   ]
  },
  {
   "cell_type": "code",
   "execution_count": null,
   "metadata": {},
   "outputs": [],
   "source": []
  },
  {
   "cell_type": "markdown",
   "metadata": {},
   "source": [
    "## Drop missing observations\n",
    "\n",
    "You may notice that excess returns of some industries are not available at the beginning of the sample. \n",
    "\n",
    "If we want all the industries to have same period of data in `df_inde`, we need to drop some observations.\n",
    "\n",
    "Use method `dropna` to drop rows in `df_inde` if any industry is missing. \n",
    "\n",
    "After that, `print(df_inde.shape)` to see the changes in the length of the sample. \n"
   ]
  },
  {
   "cell_type": "code",
   "execution_count": null,
   "metadata": {},
   "outputs": [],
   "source": []
  },
  {
   "cell_type": "markdown",
   "metadata": {},
   "source": [
    "## Moments\n",
    "\n",
    "We will now estimate the risk premium in each of these portfolio and the covariance between these portfolios.\n",
    "\n",
    "Start by using the method `mean` on the excess return data frame to obtain a vector of average excess returns which we will use as our ESTIMATE for these portfolio risk-premiums.\n",
    "\n",
    "Call this vector `ERe`.\n",
    "\n",
    "Then use `cov` method to estiamte the covariance, call this `CovRe`, which we will use as our ESTIMATE for the TRUE covariance matrix between there portfolios.\n",
    "\n",
    "Print `ERe` and `CovRe`.\n",
    "\n"
   ]
  },
  {
   "cell_type": "code",
   "execution_count": null,
   "metadata": {},
   "outputs": [],
   "source": []
  },
  {
   "cell_type": "markdown",
   "metadata": {},
   "source": [
    "## Storing the weights\n",
    "\n",
    "\n",
    "Lets create a dataframe to store our weights. \n",
    "\n",
    "Use the `pd.DataFrame` function to create an empty dataframe with name Weights which has as index the name of the different industries in df_ind and column names as 'W1' and 'W2'."
   ]
  },
  {
   "cell_type": "code",
   "execution_count": null,
   "metadata": {},
   "outputs": [],
   "source": []
  },
  {
   "cell_type": "markdown",
   "metadata": {},
   "source": [
    "## Weighting scheme 1\n",
    "\n",
    "We will now find the weights by applying the formula\n",
    "\n",
    "$$ W=E[R^e]@Var(R^e)^{-1} $$\n",
    "\n",
    "\n",
    "For that you need to find inverse of the covariance matrix `CovRe` you just estimated.\n",
    "\n",
    "You do that by using the function `np.linalg.inv`.\n",
    "\n",
    "Assign the weight vector to the column 'W1' of Weights dataframe."
   ]
  },
  {
   "cell_type": "code",
   "execution_count": null,
   "metadata": {},
   "outputs": [],
   "source": []
  },
  {
   "cell_type": "markdown",
   "metadata": {},
   "source": [
    "## Weighting scheme 2\n",
    "\n",
    "We will now find the weights by applying the formula\n",
    "\n",
    "$$ W= \\frac{\\mathbf{1} @Var(R^e)^{-1}}{\\mathbf{1} @Var(R^e)^{-1} @ \\mathbf{1}'} $$\n",
    "\n",
    "where $\\mathbf{1}$ is a vector of 1 that has the length same as the number of assets.\n",
    "\n",
    "Assign this vector to the column 'W2' of Weights dataframe.."
   ]
  },
  {
   "cell_type": "code",
   "execution_count": null,
   "metadata": {},
   "outputs": [],
   "source": []
  },
  {
   "cell_type": "markdown",
   "metadata": {},
   "source": [
    "## What mathematical problems weights W1 and W2 are solutions to?\n",
    "\n"
   ]
  },
  {
   "cell_type": "markdown",
   "metadata": {},
   "source": [
    "Answer below:"
   ]
  },
  {
   "cell_type": "code",
   "execution_count": null,
   "metadata": {},
   "outputs": [],
   "source": []
  },
  {
   "cell_type": "markdown",
   "metadata": {},
   "source": [
    "## Strategy returns\n",
    "\n",
    "Use weights W1 and W2 to construct the time series of the strategy returns.\n",
    "\n",
    "The output should be one dataframe called df_wR whose rows are the dates of df_inde and in the columns we have the names 'W1' and 'W2' and the values are the strategy return implied by the respective weights.\n",
    "\n"
   ]
  },
  {
   "cell_type": "code",
   "execution_count": null,
   "metadata": {},
   "outputs": [],
   "source": []
  },
  {
   "cell_type": "markdown",
   "metadata": {},
   "source": [
    "## Sharpe Ratios\n",
    "\n",
    "A key measure of risk-reward profile of an investment is the so called Sharpe ratio. \n",
    "\n",
    "The Sharpe ratio is a ratio of the average excess return of a strategy relative to it's standard deviation.\n",
    "\n",
    "Compute the Sharpe ratios for both strategies from df_wR above and report them in annualized units."
   ]
  },
  {
   "cell_type": "code",
   "execution_count": null,
   "metadata": {},
   "outputs": [],
   "source": []
  },
  {
   "cell_type": "markdown",
   "metadata": {},
   "source": [
    "## Sharpe Ratios 2\n",
    "\n",
    "What did you find? Is the difference between these Sharpe ratios as expected? Explain."
   ]
  },
  {
   "cell_type": "markdown",
   "metadata": {},
   "source": [
    "Answer here: "
   ]
  },
  {
   "cell_type": "code",
   "execution_count": null,
   "metadata": {},
   "outputs": [],
   "source": []
  },
  {
   "cell_type": "markdown",
   "metadata": {},
   "source": [
    "## Normalization\n",
    "\n",
    "While strategy 2 was solved by imposing a constraint on weights so that they add up to 1, strategy 1 does not impose any constraint on the weights as it imposes a constraint on the expected return target.\n",
    "\n",
    "Imposing a constraint is a choice because we are working with excess returns, so the weights do not need to add up to 1 because these assets cost zero--i.e. each asset is a strategy that is self funded, which invests in the asset with money borrowed at the risk-free rate.\n",
    "\n",
    "This is all fine and good, but it means that leverage that comes out of the weights $W1=E[E^e]@Var(R^e)^{-1} $ is not determinate. Any set of weights proportional to W1 will achieve the same Sharpe Ratio. \n",
    "\n",
    "In the exercise below we will trace the entire frontier by changing how much you leverage your investment in the portfolio.\n",
    "\n",
    "**For now I would like you to simply transform the weights W1 by multiplying them by a constant (your job is to figure out what this constant must be) so that the new strategy associated with these new weights (call it W3) have the same in sample volatility as the strategy associated with W2.**\n",
    "\n",
    "Record this new strategy in `df_wR`.\n",
    "\n",
    "Now plot the cumulative returns (as seen for example in Chapter 7) of strategies W2 and W3. Note that stock returns from the data are in percentages, so you may need to rescale (divide by 100) the portfolio returns when you compute the cumulative returns. \n"
   ]
  },
  {
   "cell_type": "code",
   "execution_count": null,
   "metadata": {},
   "outputs": [],
   "source": []
  },
  {
   "cell_type": "markdown",
   "metadata": {},
   "source": [
    "## Interpretation\n",
    "\n",
    "\n",
    "Given what you know about their Sharpe Ratios, are the results surprising? Explain."
   ]
  },
  {
   "cell_type": "markdown",
   "metadata": {},
   "source": [
    "Answer here: "
   ]
  },
  {
   "cell_type": "code",
   "execution_count": null,
   "metadata": {},
   "outputs": [],
   "source": []
  },
  {
   "cell_type": "markdown",
   "metadata": {},
   "source": [
    "## The Efficient frontier 1\n",
    "\n",
    "We will now construct the investment  frontier using portfolio strategy 'W1'. \n",
    "\n",
    "The key idea is that any portfolio that is on the frontier must have returns of the form \n",
    "\n",
    "$$\n",
    "\\begin{align} \n",
    "r^{frontier} &= w \\cdot r^f+(1-w)(W1 @ R) \\\\\n",
    "&= r^f+(1-w)(W1 @ (R-r^f)) \\\\\n",
    "&= r^f+w (W1 @ R^{e})\n",
    "\\end{align}\n",
    "$$\n",
    "\n",
    "In terms of weights, the frontier is of the form $[1,w*W1]$ that is, a weight on 1 the risk-free rate plus a weight $w*W1$ on the long-short portfolios $R^e$, where $w$ is any scalar greater than 0 and $W1$ is the weight that solves the problem you described in question 10.\n",
    "\n",
    "This means that we can write any portfolio on the efficient frontier as:\n",
    "\n",
    "$$E[R^{frontier}]=r^f+w W1 E[R^e]$$\n",
    "\n",
    "\n",
    "$$STD[R^{frontier}]=STD[r^f+wW1 R^{e}]=wSTD[W1 R^{e}]$$\n",
    "\n",
    "Thus to trace out the frontier you will need the mean and the volatility of the portfolio constructed with weights `W1`.\n",
    "\n",
    "Plot the mean-standard deviation efficient frontier by varying the weight $w$ in the expression above from zero to some arbitrary positive value, for example pick a maximum value consistent with an **annual**  volatility equal to 20%, so that it traces out the frontier up to the point that you have a volatility of 20%. The plot should have $wSTD[W1 R^{e}]$ on the x-axis and $r^f+w W1 E[R^e]$ on the y-axis. Both mean and standard deviation should be annualized. \n",
    "\n",
    "Hint: find the upper bound of $w$ and then use `np.linspace` to create a array of $w$.\n"
   ]
  },
  {
   "cell_type": "code",
   "execution_count": null,
   "metadata": {},
   "outputs": [],
   "source": []
  },
  {
   "cell_type": "markdown",
   "metadata": {},
   "source": [
    "## Risk free rates? \n",
    "\n",
    "Which risk-free rate should you use in the question above? The historical average? The current one? What do you think?\n",
    "\n",
    "\n"
   ]
  },
  {
   "cell_type": "markdown",
   "metadata": {},
   "source": [
    "Answer here: "
   ]
  },
  {
   "cell_type": "code",
   "execution_count": null,
   "metadata": {},
   "outputs": [],
   "source": []
  },
  {
   "cell_type": "markdown",
   "metadata": {},
   "source": [
    "## The Efficient frontier 2\n",
    "\n",
    "For contrast, plot the means and standard deviations of the individual industry portfolios in the same plot above. So these will be additional 49 points in the same plot.\n",
    "\n",
    "You can simply copy the code from the question (EF1) above and add the points here.\n",
    "\n",
    "HINT: you might find `plt.scatter` useful."
   ]
  },
  {
   "cell_type": "code",
   "execution_count": null,
   "metadata": {},
   "outputs": [],
   "source": []
  },
  {
   "cell_type": "markdown",
   "metadata": {},
   "source": [
    "## The Efficient frontier 3\n",
    "\n",
    "Plot portfolio `W2` in the mean-standard-deviation plot as well. To do that we will follow the same strategy we did for the portfolio above\n",
    "\n",
    "$$E[R2]=r^f+E[W2 @R^{e}]$$\n",
    "\n",
    "$$STD[R2]=STD[W2 @ R^{e}]$$\n",
    "\n",
    "Again simply the copy the code of EF2 and add the additional code to plot portfolio `W2` as an extra point on the plot.\n",
    "\n"
   ]
  },
  {
   "cell_type": "code",
   "execution_count": null,
   "metadata": {},
   "outputs": [],
   "source": []
  },
  {
   "cell_type": "markdown",
   "metadata": {},
   "source": [
    "## The Efficient frontier 4\n",
    "\n",
    "\n",
    "Can you explain why we are first taking out the risk-free rate to compute average excess returns and the covariance matrix if we later add back? \n",
    "\n",
    "\n",
    "\n",
    "Explain\n",
    "\n"
   ]
  },
  {
   "cell_type": "markdown",
   "metadata": {},
   "source": [
    "Answer here:"
   ]
  },
  {
   "cell_type": "code",
   "execution_count": null,
   "metadata": {},
   "outputs": [],
   "source": []
  }
 ],
 "metadata": {
  "colab": {
   "collapsed_sections": [],
   "name": "Homework_2019_1.ipynb",
   "provenance": []
  },
  "kernelspec": {
   "display_name": "Python 3 (ipykernel)",
   "language": "python",
   "name": "python3"
  },
  "language_info": {
   "codemirror_mode": {
    "name": "ipython",
    "version": 3
   },
   "file_extension": ".py",
   "mimetype": "text/x-python",
   "name": "python",
   "nbconvert_exporter": "python",
   "pygments_lexer": "ipython3",
   "version": "3.8.12"
  },
  "toc-autonumbering": true
 },
 "nbformat": 4,
 "nbformat_minor": 4
}
